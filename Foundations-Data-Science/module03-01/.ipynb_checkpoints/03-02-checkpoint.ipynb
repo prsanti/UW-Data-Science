{
 "cells": [
  {
   "cell_type": "markdown",
   "metadata": {},
   "source": [
    "# Module 3 Part 2: Operations with NumPy Arrays"
   ]
  },
  {
   "cell_type": "markdown",
   "metadata": {},
   "source": [
    "This module consists of 2 parts:\n",
    "\n",
    "- **Part 1** - NumPy Basics\n",
    "- **Part 2** - Operations with NumPy Arrays\n",
    "\n",
    "Each part is provided in a separate notebook file. It is recommended that you follow the order of the notebooks."
   ]
  },
  {
   "cell_type": "markdown",
   "metadata": {},
   "source": [
    "<h1>Table of Contents<span class=\"tocSkip\"></span></h1>\n",
    "<br>\n",
    "<div class=\"toc\">\n",
    "<ul class=\"toc-item\">\n",
    "<li><span><a href=\"#Module-3-Part-2:-Operations-with-NumPy-Arrays\" data-toc-modified-id=\"Module-3-Part-2:-Operations-with-NumPy-Arrays\">Module 3 Part 2: Operations with NumPy Arrays</a></span>\n",
    "</li>\n",
    "<li><span><a href=\"#Table-of-Contents\" data-toc-modified-id=\"Table-of-Contents\">Table of Contents</a></span>\n",
    "</li>\n",
    "<li><span><a href=\"#Operations-with-NumPy-Arrays\" data-toc-modified-id=\"Operations-with-NumPy-Arrays\">Operations with NumPy Arrays</a></span>\n",
    "<ul class=\"toc-item\">\n",
    "<li><span><a href=\"#Operations-between-arrays-and-scalars\" data-toc-modified-id=\"Operations-between-arrays-and-scalars\">Operations between arrays and scalars</a></span>\n",
    "</li>\n",
    "<li><span><a href=\"#Arithmetic-with-NumPy-arrays\" data-toc-modified-id=\"Arithmetic-with-NumPy-arrays\">Arithmetic with NumPy arrays</a></span>\n",
    "<ul class=\"toc-item\">\n",
    "<li><span><a href=\"#Broadcasting\" data-toc-modified-id=\"Broadcasting\">Broadcasting</a></span>\n",
    "</li>\n",
    "<li><span><a href=\"#EXERCISE-3:-Array-mathematics\" data-toc-modified-id=\"EXERCISE-3:-Array-mathematics\">EXERCISE 3: Array mathematics</a></span>\n",
    "</li>\n",
    "</ul>\n",
    "</li>\n",
    "</ul>\n",
    "</li>\n",
    "<li><span><a href=\"#Basic-Indexing-and-Slicing\" data-toc-modified-id=\"Basic-Indexing-and-Slicing\">Basic Indexing and Slicing</a></span>\n",
    "<ul class=\"toc-item\">\n",
    "<li><span><a href=\"#Indexing-with-slices\" data-toc-modified-id=\"Indexing-with-slices\">Indexing with slices</a></span>\n",
    "</li>\n",
    "<li><span><a href=\"#EXERCISE-4:-Indexing-and-Slicing\" data-toc-modified-id=\"EXERCISE-4:-Indexing-and-Slicing\">EXERCISE 4: Indexing and Slicing</a></span>\n",
    "</li>\n",
    "</ul>\n",
    "</ul>\n",
    "</div>"
   ]
  },
  {
   "cell_type": "markdown",
   "metadata": {},
   "source": [
    "# Operations with NumPy Arrays"
   ]
  },
  {
   "cell_type": "markdown",
   "metadata": {},
   "source": [
    "## Operations between arrays and scalars"
   ]
  },
  {
   "cell_type": "markdown",
   "metadata": {},
   "source": [
    "You can perform arithmetic operations between arrays of any shape and scalars. In the result of this operation, the values are propagated to each element of the array.\n",
    "\n",
    "For example, let's say we need to multiply all elements of an array by 5:"
   ]
  },
  {
   "cell_type": "code",
   "execution_count": 1,
   "metadata": {},
   "outputs": [
    {
     "data": {
      "text/plain": [
       "array([1, 2, 3, 4, 5])"
      ]
     },
     "execution_count": 1,
     "metadata": {},
     "output_type": "execute_result"
    }
   ],
   "source": [
    "import numpy as np\n",
    "\n",
    "# We will use an array of integers that we created in the previous section\n",
    "\n",
    "arr_int = np.array([1, 2, 3, 4, 5])\n",
    "arr_int"
   ]
  },
  {
   "cell_type": "code",
   "execution_count": 2,
   "metadata": {},
   "outputs": [
    {
     "data": {
      "text/plain": [
       "array([ 5, 10, 15, 20, 25])"
      ]
     },
     "execution_count": 2,
     "metadata": {},
     "output_type": "execute_result"
    }
   ],
   "source": [
    "# Multiply all elements of the array by 5\n",
    "\n",
    "arr_int * 5"
   ]
  },
  {
   "cell_type": "code",
   "execution_count": 3,
   "metadata": {},
   "outputs": [
    {
     "data": {
      "text/plain": [
       "array([1.        , 0.25      , 0.11111111, 0.0625    , 0.04      ])"
      ]
     },
     "execution_count": 3,
     "metadata": {},
     "output_type": "execute_result"
    }
   ],
   "source": [
    "# Raise all elements of the array, to the power of 2\n",
    "\n",
    "1 / arr_int ** 2"
   ]
  },
  {
   "cell_type": "markdown",
   "metadata": {},
   "source": [
    "## Arithmetic with NumPy arrays"
   ]
  },
  {
   "cell_type": "markdown",
   "metadata": {},
   "source": [
    "Any arithmetic operations between equal-size arrays applies the operation element-wise:"
   ]
  },
  {
   "cell_type": "code",
   "execution_count": 4,
   "metadata": {},
   "outputs": [
    {
     "name": "stdout",
     "output_type": "stream",
     "text": [
      "[[ 5  4  6  1]\n",
      " [ 2  3  8 10]]\n",
      "[[ 10  12   5  17]\n",
      " [ 22  33  88 100]]\n"
     ]
    }
   ],
   "source": [
    "array1 = np.array([[5, 4, 6, 1], [2, 3, 8, 10]])\n",
    "array2 = np.array([[10, 12, 5, 17], [22, 33, 88, 100]])\n",
    "print(array1)\n",
    "print(array2)"
   ]
  },
  {
   "cell_type": "code",
   "execution_count": 5,
   "metadata": {},
   "outputs": [
    {
     "data": {
      "text/plain": [
       "array([[ 15,  16,  11,  18],\n",
       "       [ 24,  36,  96, 110]])"
      ]
     },
     "execution_count": 5,
     "metadata": {},
     "output_type": "execute_result"
    }
   ],
   "source": [
    "array1 + array2"
   ]
  },
  {
   "cell_type": "code",
   "execution_count": 6,
   "metadata": {},
   "outputs": [
    {
     "data": {
      "text/plain": [
       "array([[  50,   48,   30,   17],\n",
       "       [  44,   99,  704, 1000]])"
      ]
     },
     "execution_count": 6,
     "metadata": {},
     "output_type": "execute_result"
    }
   ],
   "source": [
    "# Multiply arrays\n",
    "\n",
    "array1 * array2"
   ]
  },
  {
   "cell_type": "code",
   "execution_count": 7,
   "metadata": {},
   "outputs": [
    {
     "data": {
      "text/plain": [
       "array([[ -5,  -8,   1, -16],\n",
       "       [-20, -30, -80, -90]])"
      ]
     },
     "execution_count": 7,
     "metadata": {},
     "output_type": "execute_result"
    }
   ],
   "source": [
    "# Subtract two arrays\n",
    "\n",
    "array1 - array2"
   ]
  },
  {
   "cell_type": "code",
   "execution_count": 8,
   "metadata": {},
   "outputs": [
    {
     "data": {
      "text/plain": [
       "array([[0.5       , 0.33333333, 1.2       , 0.05882353],\n",
       "       [0.09090909, 0.09090909, 0.09090909, 0.1       ]])"
      ]
     },
     "execution_count": 8,
     "metadata": {},
     "output_type": "execute_result"
    }
   ],
   "source": [
    "# Divide arrays\n",
    "\n",
    "array1 / array2"
   ]
  },
  {
   "cell_type": "code",
   "execution_count": 9,
   "metadata": {},
   "outputs": [
    {
     "data": {
      "text/plain": [
       "array([[ 5,  4,  1,  1],\n",
       "       [ 2,  3,  8, 10]])"
      ]
     },
     "execution_count": 9,
     "metadata": {},
     "output_type": "execute_result"
    }
   ],
   "source": [
    "# Calculate the remainder of two arrays\n",
    "\n",
    "array1 % array2"
   ]
  },
  {
   "cell_type": "markdown",
   "metadata": {},
   "source": [
    "As you can see, we can use `+`, `-`, `*`, `/` or `%` to add, subtract, multiply, divide or calculate the remainder of the arrays element-wise. \n",
    "\n",
    "We can achieve the same result by using NumPy functions: `np.add()`, `np.subtract()`, `np.multiply()`, `np.divide()` and `np.remainder()`."
   ]
  },
  {
   "cell_type": "code",
   "execution_count": 10,
   "metadata": {},
   "outputs": [
    {
     "data": {
      "text/plain": [
       "array([[ 15,  16,  11,  18],\n",
       "       [ 24,  36,  96, 110]])"
      ]
     },
     "execution_count": 10,
     "metadata": {},
     "output_type": "execute_result"
    }
   ],
   "source": [
    "np.add(array1,array2)"
   ]
  },
  {
   "cell_type": "code",
   "execution_count": 11,
   "metadata": {},
   "outputs": [
    {
     "data": {
      "text/plain": [
       "array([[  50,   48,   30,   17],\n",
       "       [  44,   99,  704, 1000]])"
      ]
     },
     "execution_count": 11,
     "metadata": {},
     "output_type": "execute_result"
    }
   ],
   "source": [
    "np.multiply(array1,array2)"
   ]
  },
  {
   "cell_type": "code",
   "execution_count": 12,
   "metadata": {},
   "outputs": [
    {
     "data": {
      "text/plain": [
       "array([[ -5,  -8,   1, -16],\n",
       "       [-20, -30, -80, -90]])"
      ]
     },
     "execution_count": 12,
     "metadata": {},
     "output_type": "execute_result"
    }
   ],
   "source": [
    "np.subtract(array1,array2)"
   ]
  },
  {
   "cell_type": "code",
   "execution_count": 13,
   "metadata": {},
   "outputs": [
    {
     "data": {
      "text/plain": [
       "array([[0.5       , 0.33333333, 1.2       , 0.05882353],\n",
       "       [0.09090909, 0.09090909, 0.09090909, 0.1       ]])"
      ]
     },
     "execution_count": 13,
     "metadata": {},
     "output_type": "execute_result"
    }
   ],
   "source": [
    "np.divide(array1,array2)"
   ]
  },
  {
   "cell_type": "code",
   "execution_count": 14,
   "metadata": {},
   "outputs": [
    {
     "data": {
      "text/plain": [
       "array([[ 5,  4,  1,  1],\n",
       "       [ 2,  3,  8, 10]])"
      ]
     },
     "execution_count": 14,
     "metadata": {},
     "output_type": "execute_result"
    }
   ],
   "source": [
    "np.remainder(array1,array2)"
   ]
  },
  {
   "cell_type": "markdown",
   "metadata": {},
   "source": [
    "### Broadcasting"
   ]
  },
  {
   "cell_type": "markdown",
   "metadata": {},
   "source": [
    "The term **broadcasting** refers to how NumPy treats arrays with different shapes during arithmetic operations. Frequently, we have a smaller array and a larger array, and we want to use the smaller array multiple times to perform some operation on the larger array. For example, suppose that we want to add a constant vector to each row of a matrix. The smaller array is \"broadcast\" across the larger array so that they have compatible shapes.\n",
    "\n",
    "When operating on two arrays, NumPy compares their shapes element-wise. It starts with the trailing dimensions, and works its way forward. Two dimensions are compatible when:\n",
    "\n",
    "- they are equal, or\n",
    "- one of them is 1\n",
    "\n",
    "The size of the resulting array is the maximum size along each dimension of the input arrays.\n",
    "\n",
    "Arrays do not need to have the same number of dimensions. Dimensions with size 1 are stretched or \"copied\" to match the other dimensions. For example, below you can see that both input arrays, `A` and `B`, have axes with length one and expand to a larger size during the broadcast operation:\n",
    "\n",
    "\n",
    "    A      (4-dimensional array):  8 x 1 x 6 x 1\n",
    "    B      (3-dimensional array):      7 x 1 x 5\n",
    "    Result (4-dimensional array):  8 x 7 x 6 x 5"
   ]
  },
  {
   "cell_type": "markdown",
   "metadata": {},
   "source": [
    "More examples:\n",
    "\n",
    "    A      (2-dim array):  5 x 4\n",
    "    B      (1-dim array):      4\n",
    "    Result (2-dim array):  5 x 4\n",
    "\n",
    "\n",
    "    A      (3-dim array):  15 x 3 x 5\n",
    "    B      (3-dim array):  15 x 1 x 5\n",
    "    Result (3-dim array):  15 x 3 x 5\n",
    "\n",
    "\n",
    "    A      (3-dim array):  15 x 3 x 5\n",
    "    B      (2-dim array):       3 x 1\n",
    "    Result (3-dim array):  15 x 3 x 5\n"
   ]
  },
  {
   "cell_type": "markdown",
   "metadata": {},
   "source": [
    "Here is an example of broadcasting :"
   ]
  },
  {
   "cell_type": "code",
   "execution_count": 15,
   "metadata": {},
   "outputs": [
    {
     "data": {
      "text/plain": [
       "array([[0],\n",
       "       [1],\n",
       "       [2],\n",
       "       [3]])"
      ]
     },
     "execution_count": 15,
     "metadata": {},
     "output_type": "execute_result"
    }
   ],
   "source": [
    "x1 = np.arange(4)        # create an array of integers from 0 to 3\n",
    "x2 = x1.reshape(4,1)     # reshape() function allows us to change the shape of the array\n",
    "                         # the resulting array will be a vector, 4 rows and 1 column\n",
    "x2"
   ]
  },
  {
   "cell_type": "code",
   "execution_count": 16,
   "metadata": {},
   "outputs": [
    {
     "data": {
      "text/plain": [
       "array([1., 1., 1., 1., 1.])"
      ]
     },
     "execution_count": 16,
     "metadata": {},
     "output_type": "execute_result"
    }
   ],
   "source": [
    "y = np.ones(5)          # creating an array of 1s, 5-element array\n",
    "y"
   ]
  },
  {
   "cell_type": "code",
   "execution_count": 17,
   "metadata": {},
   "outputs": [
    {
     "data": {
      "text/plain": [
       "(4, 1)"
      ]
     },
     "execution_count": 17,
     "metadata": {},
     "output_type": "execute_result"
    }
   ],
   "source": [
    "x2.shape"
   ]
  },
  {
   "cell_type": "code",
   "execution_count": 18,
   "metadata": {},
   "outputs": [
    {
     "data": {
      "text/plain": [
       "(5,)"
      ]
     },
     "execution_count": 18,
     "metadata": {},
     "output_type": "execute_result"
    }
   ],
   "source": [
    "y.shape"
   ]
  },
  {
   "cell_type": "code",
   "execution_count": 19,
   "metadata": {},
   "outputs": [
    {
     "data": {
      "text/plain": [
       "array([[1., 1., 1., 1., 1.],\n",
       "       [2., 2., 2., 2., 2.],\n",
       "       [3., 3., 3., 3., 3.],\n",
       "       [4., 4., 4., 4., 4.]])"
      ]
     },
     "execution_count": 19,
     "metadata": {},
     "output_type": "execute_result"
    }
   ],
   "source": [
    "xy = x2 + y\n",
    "xy"
   ]
  },
  {
   "cell_type": "code",
   "execution_count": 20,
   "metadata": {},
   "outputs": [
    {
     "data": {
      "text/plain": [
       "(4, 5)"
      ]
     },
     "execution_count": 20,
     "metadata": {},
     "output_type": "execute_result"
    }
   ],
   "source": [
    "xy.shape"
   ]
  },
  {
   "cell_type": "code",
   "execution_count": 21,
   "metadata": {},
   "outputs": [
    {
     "data": {
      "text/plain": [
       "array([[1., 1., 1., 1.],\n",
       "       [1., 1., 1., 1.],\n",
       "       [1., 1., 1., 1.]])"
      ]
     },
     "execution_count": 21,
     "metadata": {},
     "output_type": "execute_result"
    }
   ],
   "source": [
    "# An array of 1s, 3 x 4\n",
    "\n",
    "z = np.ones((3,4))\n",
    "z"
   ]
  },
  {
   "cell_type": "code",
   "execution_count": 25,
   "metadata": {},
   "outputs": [
    {
     "name": "stdout",
     "output_type": "stream",
     "text": [
      "[0 1 2 3]\n",
      "[[1. 1. 1. 1.]\n",
      " [1. 1. 1. 1.]\n",
      " [1. 1. 1. 1.]]\n",
      "---------------\n",
      "[[1. 2. 3. 4.]\n",
      " [1. 2. 3. 4.]\n",
      " [1. 2. 3. 4.]]\n"
     ]
    }
   ],
   "source": [
    "print(x1)\n",
    "print(z)\n",
    "print(\"---------------\")\n",
    "print(x1 + z)"
   ]
  },
  {
   "cell_type": "markdown",
   "metadata": {},
   "source": [
    "If arrays are of the same size, we can compare them. The result of the comparison is a boolean array:"
   ]
  },
  {
   "cell_type": "code",
   "execution_count": 26,
   "metadata": {},
   "outputs": [
    {
     "data": {
      "text/plain": [
       "array([[ 5,  4,  6,  1],\n",
       "       [ 2,  3,  8, 10]])"
      ]
     },
     "execution_count": 26,
     "metadata": {},
     "output_type": "execute_result"
    }
   ],
   "source": [
    "array1 = np.array([[5, 4, 6, 1], [2, 3, 8, 10]])\n",
    "array1"
   ]
  },
  {
   "cell_type": "code",
   "execution_count": 27,
   "metadata": {},
   "outputs": [
    {
     "data": {
      "text/plain": [
       "array([[ 0.,  4.,  1.,  8.],\n",
       "       [ 7.,  2., 35., 12.]])"
      ]
     },
     "execution_count": 27,
     "metadata": {},
     "output_type": "execute_result"
    }
   ],
   "source": [
    "array2 = np.array([[0., 4., 1., 8.], [7., 2., 35, 12.]])\n",
    "array2"
   ]
  },
  {
   "cell_type": "code",
   "execution_count": 28,
   "metadata": {},
   "outputs": [
    {
     "data": {
      "text/plain": [
       "array([[False, False, False,  True],\n",
       "       [ True, False,  True,  True]])"
      ]
     },
     "execution_count": 28,
     "metadata": {},
     "output_type": "execute_result"
    }
   ],
   "source": [
    "array2 > array1"
   ]
  },
  {
   "cell_type": "markdown",
   "metadata": {},
   "source": [
    "### EXERCISE 3: Array mathematics"
   ]
  },
  {
   "cell_type": "markdown",
   "metadata": {},
   "source": [
    "1). Create 2 arrays:\n",
    "  - Array `x`: array of 1s with dimensions 3 x 4,\n",
    "  - Array `y`: array of random numbers with dimensions 5 x 1 x 4"
   ]
  },
  {
   "cell_type": "code",
   "execution_count": 32,
   "metadata": {},
   "outputs": [
    {
     "name": "stdout",
     "output_type": "stream",
     "text": [
      "[[1. 1. 1. 1.]\n",
      " [1. 1. 1. 1.]\n",
      " [1. 1. 1. 1.]]\n",
      "[[[0.26115944 0.71755118 0.15087886 0.62307735]]\n",
      "\n",
      " [[0.84416359 0.91484682 0.84325204 0.43051801]]\n",
      "\n",
      " [[0.11237519 0.47640432 0.97537667 0.34707011]]\n",
      "\n",
      " [[0.1999932  0.63904895 0.00807442 0.91479002]]\n",
      "\n",
      " [[0.74964039 0.49121661 0.41399013 0.58067367]]]\n"
     ]
    }
   ],
   "source": [
    "# type your code here\n",
    "x = np.ones((3,4))\n",
    "print(x)\n",
    "\n",
    "y = np.random.random((5,1,4))\n",
    "print(y)\n",
    "\n",
    "\n"
   ]
  },
  {
   "cell_type": "markdown",
   "metadata": {},
   "source": [
    "2). Add `x` and `y`"
   ]
  },
  {
   "cell_type": "code",
   "execution_count": 33,
   "metadata": {},
   "outputs": [
    {
     "data": {
      "text/plain": [
       "array([[[1.26115944, 1.71755118, 1.15087886, 1.62307735],\n",
       "        [1.26115944, 1.71755118, 1.15087886, 1.62307735],\n",
       "        [1.26115944, 1.71755118, 1.15087886, 1.62307735]],\n",
       "\n",
       "       [[1.84416359, 1.91484682, 1.84325204, 1.43051801],\n",
       "        [1.84416359, 1.91484682, 1.84325204, 1.43051801],\n",
       "        [1.84416359, 1.91484682, 1.84325204, 1.43051801]],\n",
       "\n",
       "       [[1.11237519, 1.47640432, 1.97537667, 1.34707011],\n",
       "        [1.11237519, 1.47640432, 1.97537667, 1.34707011],\n",
       "        [1.11237519, 1.47640432, 1.97537667, 1.34707011]],\n",
       "\n",
       "       [[1.1999932 , 1.63904895, 1.00807442, 1.91479002],\n",
       "        [1.1999932 , 1.63904895, 1.00807442, 1.91479002],\n",
       "        [1.1999932 , 1.63904895, 1.00807442, 1.91479002]],\n",
       "\n",
       "       [[1.74964039, 1.49121661, 1.41399013, 1.58067367],\n",
       "        [1.74964039, 1.49121661, 1.41399013, 1.58067367],\n",
       "        [1.74964039, 1.49121661, 1.41399013, 1.58067367]]])"
      ]
     },
     "execution_count": 33,
     "metadata": {},
     "output_type": "execute_result"
    }
   ],
   "source": [
    "# type your code here\n",
    "x + y\n",
    "\n"
   ]
  },
  {
   "cell_type": "markdown",
   "metadata": {},
   "source": [
    "3). Subtract `x` and `y`"
   ]
  },
  {
   "cell_type": "code",
   "execution_count": 34,
   "metadata": {},
   "outputs": [
    {
     "data": {
      "text/plain": [
       "array([[[0.73884056, 0.28244882, 0.84912114, 0.37692265],\n",
       "        [0.73884056, 0.28244882, 0.84912114, 0.37692265],\n",
       "        [0.73884056, 0.28244882, 0.84912114, 0.37692265]],\n",
       "\n",
       "       [[0.15583641, 0.08515318, 0.15674796, 0.56948199],\n",
       "        [0.15583641, 0.08515318, 0.15674796, 0.56948199],\n",
       "        [0.15583641, 0.08515318, 0.15674796, 0.56948199]],\n",
       "\n",
       "       [[0.88762481, 0.52359568, 0.02462333, 0.65292989],\n",
       "        [0.88762481, 0.52359568, 0.02462333, 0.65292989],\n",
       "        [0.88762481, 0.52359568, 0.02462333, 0.65292989]],\n",
       "\n",
       "       [[0.8000068 , 0.36095105, 0.99192558, 0.08520998],\n",
       "        [0.8000068 , 0.36095105, 0.99192558, 0.08520998],\n",
       "        [0.8000068 , 0.36095105, 0.99192558, 0.08520998]],\n",
       "\n",
       "       [[0.25035961, 0.50878339, 0.58600987, 0.41932633],\n",
       "        [0.25035961, 0.50878339, 0.58600987, 0.41932633],\n",
       "        [0.25035961, 0.50878339, 0.58600987, 0.41932633]]])"
      ]
     },
     "execution_count": 34,
     "metadata": {},
     "output_type": "execute_result"
    }
   ],
   "source": [
    "# type your code here\n",
    "\n",
    "x - y"
   ]
  },
  {
   "cell_type": "markdown",
   "metadata": {},
   "source": [
    "4). Multiply `x` and `y`"
   ]
  },
  {
   "cell_type": "code",
   "execution_count": 35,
   "metadata": {},
   "outputs": [
    {
     "data": {
      "text/plain": [
       "array([[[0.26115944, 0.71755118, 0.15087886, 0.62307735],\n",
       "        [0.26115944, 0.71755118, 0.15087886, 0.62307735],\n",
       "        [0.26115944, 0.71755118, 0.15087886, 0.62307735]],\n",
       "\n",
       "       [[0.84416359, 0.91484682, 0.84325204, 0.43051801],\n",
       "        [0.84416359, 0.91484682, 0.84325204, 0.43051801],\n",
       "        [0.84416359, 0.91484682, 0.84325204, 0.43051801]],\n",
       "\n",
       "       [[0.11237519, 0.47640432, 0.97537667, 0.34707011],\n",
       "        [0.11237519, 0.47640432, 0.97537667, 0.34707011],\n",
       "        [0.11237519, 0.47640432, 0.97537667, 0.34707011]],\n",
       "\n",
       "       [[0.1999932 , 0.63904895, 0.00807442, 0.91479002],\n",
       "        [0.1999932 , 0.63904895, 0.00807442, 0.91479002],\n",
       "        [0.1999932 , 0.63904895, 0.00807442, 0.91479002]],\n",
       "\n",
       "       [[0.74964039, 0.49121661, 0.41399013, 0.58067367],\n",
       "        [0.74964039, 0.49121661, 0.41399013, 0.58067367],\n",
       "        [0.74964039, 0.49121661, 0.41399013, 0.58067367]]])"
      ]
     },
     "execution_count": 35,
     "metadata": {},
     "output_type": "execute_result"
    }
   ],
   "source": [
    "# type your code here\n",
    "\n",
    "x * y"
   ]
  },
  {
   "cell_type": "markdown",
   "metadata": {},
   "source": [
    "5). Divide `x` and `y`"
   ]
  },
  {
   "cell_type": "code",
   "execution_count": 36,
   "metadata": {},
   "outputs": [
    {
     "data": {
      "text/plain": [
       "array([[[  3.82907846,   1.39362882,   6.62783396,   1.60493718],\n",
       "        [  3.82907846,   1.39362882,   6.62783396,   1.60493718],\n",
       "        [  3.82907846,   1.39362882,   6.62783396,   1.60493718]],\n",
       "\n",
       "       [[  1.18460451,   1.09307917,   1.18588506,   2.32278318],\n",
       "        [  1.18460451,   1.09307917,   1.18588506,   2.32278318],\n",
       "        [  1.18460451,   1.09307917,   1.18588506,   2.32278318]],\n",
       "\n",
       "       [[  8.89876122,   2.09905737,   1.02524495,   2.88126226],\n",
       "        [  8.89876122,   2.09905737,   1.02524495,   2.88126226],\n",
       "        [  8.89876122,   2.09905737,   1.02524495,   2.88126226]],\n",
       "\n",
       "       [[  5.00017001,   1.56482535, 123.84791076,   1.09314704],\n",
       "        [  5.00017001,   1.56482535, 123.84791076,   1.09314704],\n",
       "        [  5.00017001,   1.56482535, 123.84791076,   1.09314704]],\n",
       "\n",
       "       [[  1.33397294,   2.03576176,   2.41551655,   1.72213766],\n",
       "        [  1.33397294,   2.03576176,   2.41551655,   1.72213766],\n",
       "        [  1.33397294,   2.03576176,   2.41551655,   1.72213766]]])"
      ]
     },
     "execution_count": 36,
     "metadata": {},
     "output_type": "execute_result"
    }
   ],
   "source": [
    "# type your code here\n",
    "\n",
    "x / y"
   ]
  },
  {
   "cell_type": "code",
   "execution_count": 37,
   "metadata": {},
   "outputs": [],
   "source": [
    "# 1. Solution:\n",
    "\n",
    "x = np.ones((3,4))\n",
    "y = np.random.random((5,1,4))"
   ]
  },
  {
   "cell_type": "code",
   "execution_count": 38,
   "metadata": {},
   "outputs": [
    {
     "data": {
      "text/plain": [
       "array([[1., 1., 1., 1.],\n",
       "       [1., 1., 1., 1.],\n",
       "       [1., 1., 1., 1.]])"
      ]
     },
     "execution_count": 38,
     "metadata": {},
     "output_type": "execute_result"
    }
   ],
   "source": [
    "x"
   ]
  },
  {
   "cell_type": "code",
   "execution_count": 39,
   "metadata": {},
   "outputs": [
    {
     "data": {
      "text/plain": [
       "array([[[0.94609999, 0.28792835, 0.74960016, 0.65523211]],\n",
       "\n",
       "       [[0.02356738, 0.66946713, 0.0681755 , 0.01013378]],\n",
       "\n",
       "       [[0.31713375, 0.67509978, 0.14517367, 0.23027928]],\n",
       "\n",
       "       [[0.0467912 , 0.38604068, 0.27034872, 0.62409733]],\n",
       "\n",
       "       [[0.68378607, 0.15567762, 0.44728159, 0.270846  ]]])"
      ]
     },
     "execution_count": 39,
     "metadata": {},
     "output_type": "execute_result"
    }
   ],
   "source": [
    "y"
   ]
  },
  {
   "cell_type": "code",
   "execution_count": 40,
   "metadata": {},
   "outputs": [
    {
     "name": "stdout",
     "output_type": "stream",
     "text": [
      "[[[1.94609999 1.28792835 1.74960016 1.65523211]\n",
      "  [1.94609999 1.28792835 1.74960016 1.65523211]\n",
      "  [1.94609999 1.28792835 1.74960016 1.65523211]]\n",
      "\n",
      " [[1.02356738 1.66946713 1.0681755  1.01013378]\n",
      "  [1.02356738 1.66946713 1.0681755  1.01013378]\n",
      "  [1.02356738 1.66946713 1.0681755  1.01013378]]\n",
      "\n",
      " [[1.31713375 1.67509978 1.14517367 1.23027928]\n",
      "  [1.31713375 1.67509978 1.14517367 1.23027928]\n",
      "  [1.31713375 1.67509978 1.14517367 1.23027928]]\n",
      "\n",
      " [[1.0467912  1.38604068 1.27034872 1.62409733]\n",
      "  [1.0467912  1.38604068 1.27034872 1.62409733]\n",
      "  [1.0467912  1.38604068 1.27034872 1.62409733]]\n",
      "\n",
      " [[1.68378607 1.15567762 1.44728159 1.270846  ]\n",
      "  [1.68378607 1.15567762 1.44728159 1.270846  ]\n",
      "  [1.68378607 1.15567762 1.44728159 1.270846  ]]]\n",
      "[[[1.94609999 1.28792835 1.74960016 1.65523211]\n",
      "  [1.94609999 1.28792835 1.74960016 1.65523211]\n",
      "  [1.94609999 1.28792835 1.74960016 1.65523211]]\n",
      "\n",
      " [[1.02356738 1.66946713 1.0681755  1.01013378]\n",
      "  [1.02356738 1.66946713 1.0681755  1.01013378]\n",
      "  [1.02356738 1.66946713 1.0681755  1.01013378]]\n",
      "\n",
      " [[1.31713375 1.67509978 1.14517367 1.23027928]\n",
      "  [1.31713375 1.67509978 1.14517367 1.23027928]\n",
      "  [1.31713375 1.67509978 1.14517367 1.23027928]]\n",
      "\n",
      " [[1.0467912  1.38604068 1.27034872 1.62409733]\n",
      "  [1.0467912  1.38604068 1.27034872 1.62409733]\n",
      "  [1.0467912  1.38604068 1.27034872 1.62409733]]\n",
      "\n",
      " [[1.68378607 1.15567762 1.44728159 1.270846  ]\n",
      "  [1.68378607 1.15567762 1.44728159 1.270846  ]\n",
      "  [1.68378607 1.15567762 1.44728159 1.270846  ]]]\n"
     ]
    }
   ],
   "source": [
    "# 2. Solution\n",
    "print(x + y)\n",
    "# or \n",
    "print(np.add(x, y))"
   ]
  },
  {
   "cell_type": "code",
   "execution_count": 41,
   "metadata": {},
   "outputs": [
    {
     "name": "stdout",
     "output_type": "stream",
     "text": [
      "[[[0.05390001 0.71207165 0.25039984 0.34476789]\n",
      "  [0.05390001 0.71207165 0.25039984 0.34476789]\n",
      "  [0.05390001 0.71207165 0.25039984 0.34476789]]\n",
      "\n",
      " [[0.97643262 0.33053287 0.9318245  0.98986622]\n",
      "  [0.97643262 0.33053287 0.9318245  0.98986622]\n",
      "  [0.97643262 0.33053287 0.9318245  0.98986622]]\n",
      "\n",
      " [[0.68286625 0.32490022 0.85482633 0.76972072]\n",
      "  [0.68286625 0.32490022 0.85482633 0.76972072]\n",
      "  [0.68286625 0.32490022 0.85482633 0.76972072]]\n",
      "\n",
      " [[0.9532088  0.61395932 0.72965128 0.37590267]\n",
      "  [0.9532088  0.61395932 0.72965128 0.37590267]\n",
      "  [0.9532088  0.61395932 0.72965128 0.37590267]]\n",
      "\n",
      " [[0.31621393 0.84432238 0.55271841 0.729154  ]\n",
      "  [0.31621393 0.84432238 0.55271841 0.729154  ]\n",
      "  [0.31621393 0.84432238 0.55271841 0.729154  ]]]\n",
      "[[[0.05390001 0.71207165 0.25039984 0.34476789]\n",
      "  [0.05390001 0.71207165 0.25039984 0.34476789]\n",
      "  [0.05390001 0.71207165 0.25039984 0.34476789]]\n",
      "\n",
      " [[0.97643262 0.33053287 0.9318245  0.98986622]\n",
      "  [0.97643262 0.33053287 0.9318245  0.98986622]\n",
      "  [0.97643262 0.33053287 0.9318245  0.98986622]]\n",
      "\n",
      " [[0.68286625 0.32490022 0.85482633 0.76972072]\n",
      "  [0.68286625 0.32490022 0.85482633 0.76972072]\n",
      "  [0.68286625 0.32490022 0.85482633 0.76972072]]\n",
      "\n",
      " [[0.9532088  0.61395932 0.72965128 0.37590267]\n",
      "  [0.9532088  0.61395932 0.72965128 0.37590267]\n",
      "  [0.9532088  0.61395932 0.72965128 0.37590267]]\n",
      "\n",
      " [[0.31621393 0.84432238 0.55271841 0.729154  ]\n",
      "  [0.31621393 0.84432238 0.55271841 0.729154  ]\n",
      "  [0.31621393 0.84432238 0.55271841 0.729154  ]]]\n"
     ]
    }
   ],
   "source": [
    "# 3. Solution:\n",
    "print(x - y)\n",
    "# or \n",
    "print(np.subtract(x, y))"
   ]
  },
  {
   "cell_type": "code",
   "execution_count": 42,
   "metadata": {},
   "outputs": [
    {
     "name": "stdout",
     "output_type": "stream",
     "text": [
      "[[[0.94609999 0.28792835 0.74960016 0.65523211]\n",
      "  [0.94609999 0.28792835 0.74960016 0.65523211]\n",
      "  [0.94609999 0.28792835 0.74960016 0.65523211]]\n",
      "\n",
      " [[0.02356738 0.66946713 0.0681755  0.01013378]\n",
      "  [0.02356738 0.66946713 0.0681755  0.01013378]\n",
      "  [0.02356738 0.66946713 0.0681755  0.01013378]]\n",
      "\n",
      " [[0.31713375 0.67509978 0.14517367 0.23027928]\n",
      "  [0.31713375 0.67509978 0.14517367 0.23027928]\n",
      "  [0.31713375 0.67509978 0.14517367 0.23027928]]\n",
      "\n",
      " [[0.0467912  0.38604068 0.27034872 0.62409733]\n",
      "  [0.0467912  0.38604068 0.27034872 0.62409733]\n",
      "  [0.0467912  0.38604068 0.27034872 0.62409733]]\n",
      "\n",
      " [[0.68378607 0.15567762 0.44728159 0.270846  ]\n",
      "  [0.68378607 0.15567762 0.44728159 0.270846  ]\n",
      "  [0.68378607 0.15567762 0.44728159 0.270846  ]]]\n",
      "[[[0.94609999 0.28792835 0.74960016 0.65523211]\n",
      "  [0.94609999 0.28792835 0.74960016 0.65523211]\n",
      "  [0.94609999 0.28792835 0.74960016 0.65523211]]\n",
      "\n",
      " [[0.02356738 0.66946713 0.0681755  0.01013378]\n",
      "  [0.02356738 0.66946713 0.0681755  0.01013378]\n",
      "  [0.02356738 0.66946713 0.0681755  0.01013378]]\n",
      "\n",
      " [[0.31713375 0.67509978 0.14517367 0.23027928]\n",
      "  [0.31713375 0.67509978 0.14517367 0.23027928]\n",
      "  [0.31713375 0.67509978 0.14517367 0.23027928]]\n",
      "\n",
      " [[0.0467912  0.38604068 0.27034872 0.62409733]\n",
      "  [0.0467912  0.38604068 0.27034872 0.62409733]\n",
      "  [0.0467912  0.38604068 0.27034872 0.62409733]]\n",
      "\n",
      " [[0.68378607 0.15567762 0.44728159 0.270846  ]\n",
      "  [0.68378607 0.15567762 0.44728159 0.270846  ]\n",
      "  [0.68378607 0.15567762 0.44728159 0.270846  ]]]\n"
     ]
    }
   ],
   "source": [
    "# 4. Solution:\n",
    "print(x * y)\n",
    "# or \n",
    "print(np.multiply(x, y))"
   ]
  },
  {
   "cell_type": "code",
   "execution_count": 43,
   "metadata": {},
   "outputs": [
    {
     "name": "stdout",
     "output_type": "stream",
     "text": [
      "[[[ 1.05697073  3.47308629  1.33404453  1.52617672]\n",
      "  [ 1.05697073  3.47308629  1.33404453  1.52617672]\n",
      "  [ 1.05697073  3.47308629  1.33404453  1.52617672]]\n",
      "\n",
      " [[42.43153801  1.49372531 14.66802573 98.67990678]\n",
      "  [42.43153801  1.49372531 14.66802573 98.67990678]\n",
      "  [42.43153801  1.49372531 14.66802573 98.67990678]]\n",
      "\n",
      " [[ 3.15324367  1.48126251  6.8883014   4.34255309]\n",
      "  [ 3.15324367  1.48126251  6.8883014   4.34255309]\n",
      "  [ 3.15324367  1.48126251  6.8883014   4.34255309]]\n",
      "\n",
      " [[21.3715393   2.59040058  3.69892635  1.60231417]\n",
      "  [21.3715393   2.59040058  3.69892635  1.60231417]\n",
      "  [21.3715393   2.59040058  3.69892635  1.60231417]]\n",
      "\n",
      " [[ 1.4624457   6.42353108  2.23572805  3.69213508]\n",
      "  [ 1.4624457   6.42353108  2.23572805  3.69213508]\n",
      "  [ 1.4624457   6.42353108  2.23572805  3.69213508]]]\n",
      "[[[ 1.05697073  3.47308629  1.33404453  1.52617672]\n",
      "  [ 1.05697073  3.47308629  1.33404453  1.52617672]\n",
      "  [ 1.05697073  3.47308629  1.33404453  1.52617672]]\n",
      "\n",
      " [[42.43153801  1.49372531 14.66802573 98.67990678]\n",
      "  [42.43153801  1.49372531 14.66802573 98.67990678]\n",
      "  [42.43153801  1.49372531 14.66802573 98.67990678]]\n",
      "\n",
      " [[ 3.15324367  1.48126251  6.8883014   4.34255309]\n",
      "  [ 3.15324367  1.48126251  6.8883014   4.34255309]\n",
      "  [ 3.15324367  1.48126251  6.8883014   4.34255309]]\n",
      "\n",
      " [[21.3715393   2.59040058  3.69892635  1.60231417]\n",
      "  [21.3715393   2.59040058  3.69892635  1.60231417]\n",
      "  [21.3715393   2.59040058  3.69892635  1.60231417]]\n",
      "\n",
      " [[ 1.4624457   6.42353108  2.23572805  3.69213508]\n",
      "  [ 1.4624457   6.42353108  2.23572805  3.69213508]\n",
      "  [ 1.4624457   6.42353108  2.23572805  3.69213508]]]\n"
     ]
    }
   ],
   "source": [
    "# 5. Solution\n",
    "print(x / y)\n",
    "# or\n",
    "print(np.divide(x, y))"
   ]
  },
  {
   "cell_type": "markdown",
   "metadata": {},
   "source": [
    "# Basic Indexing and Slicing"
   ]
  },
  {
   "cell_type": "markdown",
   "metadata": {},
   "source": [
    "One-dimensional arrays can be indexed, sliced and iterated over to select a subset of elements of NumPy arrays, similar to lists and other Python sequences. NumPy arrays are indexed like a list, so the index starts with zero."
   ]
  },
  {
   "cell_type": "code",
   "execution_count": 46,
   "metadata": {},
   "outputs": [
    {
     "data": {
      "text/plain": [
       "array([2, 3, 4, 5, 6, 7, 8, 9])"
      ]
     },
     "execution_count": 46,
     "metadata": {},
     "output_type": "execute_result"
    }
   ],
   "source": [
    "a = np.arange(2,10)\n",
    "a"
   ]
  },
  {
   "cell_type": "code",
   "execution_count": 47,
   "metadata": {},
   "outputs": [
    {
     "data": {
      "text/plain": [
       "5"
      ]
     },
     "execution_count": 47,
     "metadata": {},
     "output_type": "execute_result"
    }
   ],
   "source": [
    "a[3]     # this index points to the 4th element of the array"
   ]
  },
  {
   "cell_type": "code",
   "execution_count": 48,
   "metadata": {},
   "outputs": [
    {
     "data": {
      "text/plain": [
       "array([3, 4, 5, 6])"
      ]
     },
     "execution_count": 48,
     "metadata": {},
     "output_type": "execute_result"
    }
   ],
   "source": [
    "a[1:5]    # elements with indexes 1 to 4, the end index is exclusive"
   ]
  },
  {
   "cell_type": "markdown",
   "metadata": {},
   "source": [
    "A slicing operation creates a **view** on the original array, the data from the original array is not copied in memory. This also means that any changes to the elements of the slice (view) are done to the oiginal array. Let's illustrate:"
   ]
  },
  {
   "cell_type": "code",
   "execution_count": 49,
   "metadata": {},
   "outputs": [
    {
     "data": {
      "text/plain": [
       "array([ 3,  4, 12,  6])"
      ]
     },
     "execution_count": 49,
     "metadata": {},
     "output_type": "execute_result"
    }
   ],
   "source": [
    "a_view = a[1:5]\n",
    "a_view[2] = 12      # change the value of the 3rd element of a view to 12\n",
    "a_view"
   ]
  },
  {
   "cell_type": "markdown",
   "metadata": {},
   "source": [
    "The 3rd element of a view `a_view` is the 4th element of an array `a`:"
   ]
  },
  {
   "cell_type": "code",
   "execution_count": 50,
   "metadata": {},
   "outputs": [
    {
     "data": {
      "text/plain": [
       "array([ 2,  3,  4, 12,  6,  7,  8,  9])"
      ]
     },
     "execution_count": 50,
     "metadata": {},
     "output_type": "execute_result"
    }
   ],
   "source": [
    "a"
   ]
  },
  {
   "cell_type": "markdown",
   "metadata": {},
   "source": [
    "As you can see, the value of the 4th element of the original array `a` changed to `12` as well. \n",
    "\n",
    "We might need to change all elements of a view. For this operation, we will use slice, `[:]`."
   ]
  },
  {
   "cell_type": "code",
   "execution_count": 51,
   "metadata": {},
   "outputs": [
    {
     "data": {
      "text/plain": [
       "array([  2, 345, 345, 345, 345,   7,   8,   9])"
      ]
     },
     "execution_count": 51,
     "metadata": {},
     "output_type": "execute_result"
    }
   ],
   "source": [
    "a_view[:] = 345\n",
    "a"
   ]
  },
  {
   "cell_type": "markdown",
   "metadata": {},
   "source": [
    "For **multidimensional** arrays,  indexes are tuples of integers.\n",
    "\n",
    "For example, to select an index of a two-dimensional array:"
   ]
  },
  {
   "cell_type": "code",
   "execution_count": 52,
   "metadata": {},
   "outputs": [
    {
     "data": {
      "text/plain": [
       "array([[1, 2, 3],\n",
       "       [4, 5, 6],\n",
       "       [7, 8, 9]])"
      ]
     },
     "execution_count": 52,
     "metadata": {},
     "output_type": "execute_result"
    }
   ],
   "source": [
    "a_2d = np.array([[1, 2, 3], [4, 5, 6], [7, 8, 9]])\n",
    "a_2d"
   ]
  },
  {
   "cell_type": "code",
   "execution_count": 53,
   "metadata": {},
   "outputs": [
    {
     "data": {
      "text/plain": [
       "array([7, 8, 9])"
      ]
     },
     "execution_count": 53,
     "metadata": {},
     "output_type": "execute_result"
    }
   ],
   "source": [
    "# Indexing:\n",
    "\n",
    "a_2d[2]"
   ]
  },
  {
   "cell_type": "markdown",
   "metadata": {},
   "source": [
    "To select an individual element of a 2-dimensional array, we need to use a list of indices. In 2-dimensional arrays, the first dimension corresponds to rows, the second to columns:"
   ]
  },
  {
   "cell_type": "code",
   "execution_count": 54,
   "metadata": {},
   "outputs": [
    {
     "data": {
      "text/plain": [
       "2"
      ]
     },
     "execution_count": 54,
     "metadata": {},
     "output_type": "execute_result"
    }
   ],
   "source": [
    "a_2d[0,1]"
   ]
  },
  {
   "cell_type": "markdown",
   "metadata": {},
   "source": [
    "Indexing **multidimensional** arrays:"
   ]
  },
  {
   "cell_type": "code",
   "execution_count": 56,
   "metadata": {},
   "outputs": [
    {
     "data": {
      "text/plain": [
       "array([[[ 1,  2,  3],\n",
       "        [ 4,  5,  6]],\n",
       "\n",
       "       [[ 7,  8,  9],\n",
       "        [10, 11, 12]]])"
      ]
     },
     "execution_count": 56,
     "metadata": {},
     "output_type": "execute_result"
    }
   ],
   "source": [
    "# Creating 2x2x3 array:\n",
    "# 2 planes x 2 rows x 3 colums\n",
    "\n",
    "a_3d = np.array([[[1, 2, 3], [4, 5, 6]], [[7, 8, 9], [10, 11, 12]]])\n",
    "a_3d"
   ]
  },
  {
   "cell_type": "markdown",
   "metadata": {},
   "source": [
    "If we simply provide one index, `a_3d[0]`, the result will be a lower-dimensional `ndarray` of all the data along the higher dimensions, which is a `2 × 3` array:"
   ]
  },
  {
   "cell_type": "code",
   "execution_count": 57,
   "metadata": {},
   "outputs": [
    {
     "data": {
      "text/plain": [
       "array([[1, 2, 3],\n",
       "       [4, 5, 6]])"
      ]
     },
     "execution_count": 57,
     "metadata": {},
     "output_type": "execute_result"
    }
   ],
   "source": [
    "a_3d[0]"
   ]
  },
  {
   "cell_type": "markdown",
   "metadata": {},
   "source": [
    "If 2 indices are specified `a_3d[1, 1]`, the result is a 1-dimensional array of all values where indices start with (1, 1):"
   ]
  },
  {
   "cell_type": "code",
   "execution_count": 58,
   "metadata": {},
   "outputs": [
    {
     "data": {
      "text/plain": [
       "array([10, 11, 12])"
      ]
     },
     "execution_count": 58,
     "metadata": {},
     "output_type": "execute_result"
    }
   ],
   "source": [
    "a_3d[1, 1]"
   ]
  },
  {
   "cell_type": "markdown",
   "metadata": {},
   "source": [
    "## Indexing with slices"
   ]
  },
  {
   "cell_type": "markdown",
   "metadata": {},
   "source": [
    "Slicing 2-dimensional arrays is slightly different than slicing 1-dimensional arrays. In a 2-dimensional array, a slice selects elements along the axis."
   ]
  },
  {
   "cell_type": "code",
   "execution_count": 59,
   "metadata": {},
   "outputs": [
    {
     "data": {
      "text/plain": [
       "array([[1, 2, 3],\n",
       "       [4, 5, 6],\n",
       "       [7, 8, 9]])"
      ]
     },
     "execution_count": 59,
     "metadata": {},
     "output_type": "execute_result"
    }
   ],
   "source": [
    "# Using 2-dimensional array from the previous section\n",
    "\n",
    "a_2d"
   ]
  },
  {
   "cell_type": "markdown",
   "metadata": {},
   "source": [
    "The following line will select the first 2 rows &mdash; the rows with indices 0 and 1 &mdash; along axis = 0 (rows):"
   ]
  },
  {
   "cell_type": "code",
   "execution_count": 60,
   "metadata": {},
   "outputs": [
    {
     "data": {
      "text/plain": [
       "array([[1, 2, 3],\n",
       "       [4, 5, 6]])"
      ]
     },
     "execution_count": 60,
     "metadata": {},
     "output_type": "execute_result"
    }
   ],
   "source": [
    "a_2d[:2]"
   ]
  },
  {
   "cell_type": "markdown",
   "metadata": {},
   "source": [
    "To pass multiple slices:"
   ]
  },
  {
   "cell_type": "code",
   "execution_count": 61,
   "metadata": {},
   "outputs": [
    {
     "data": {
      "text/plain": [
       "array([[2, 3]])"
      ]
     },
     "execution_count": 61,
     "metadata": {},
     "output_type": "execute_result"
    }
   ],
   "source": [
    "a_2d[:1, 1:]"
   ]
  },
  {
   "cell_type": "markdown",
   "metadata": {},
   "source": [
    "If integer indexes and slices are mixed, the lower dimensional slices are selected. In the next example, we are selecting the 3rd row and only 1st column which in this particular example will return only 1 element:"
   ]
  },
  {
   "cell_type": "code",
   "execution_count": 62,
   "metadata": {},
   "outputs": [
    {
     "data": {
      "text/plain": [
       "array([7])"
      ]
     },
     "execution_count": 62,
     "metadata": {},
     "output_type": "execute_result"
    }
   ],
   "source": [
    "a_2d[2, :1]"
   ]
  },
  {
   "cell_type": "markdown",
   "metadata": {},
   "source": [
    "`[:]` selects an entire axis:"
   ]
  },
  {
   "cell_type": "code",
   "execution_count": 63,
   "metadata": {},
   "outputs": [
    {
     "data": {
      "text/plain": [
       "array([[1, 2],\n",
       "       [4, 5],\n",
       "       [7, 8]])"
      ]
     },
     "execution_count": 63,
     "metadata": {},
     "output_type": "execute_result"
    }
   ],
   "source": [
    "a_2d[:, :2]"
   ]
  },
  {
   "cell_type": "markdown",
   "metadata": {},
   "source": [
    "## EXERCISE 4: Indexing and Slicing"
   ]
  },
  {
   "cell_type": "markdown",
   "metadata": {},
   "source": [
    "1). Create a 2-dimensional 5x10 array of integers from 1 to 50 (inclusive).\n",
    "\n",
    "**HINT:** You can create a one-dimensional array usingthe  `arange()` function and change the shape of the array using the `reshape()` function introduced in the **Broadcasting** section above."
   ]
  },
  {
   "cell_type": "code",
   "execution_count": null,
   "metadata": {
    "collapsed": true
   },
   "outputs": [],
   "source": []
  },
  {
   "cell_type": "code",
   "execution_count": 67,
   "metadata": {},
   "outputs": [
    {
     "data": {
      "text/plain": [
       "array([[ 1,  2,  3,  4,  5,  6,  7,  8,  9, 10],\n",
       "       [11, 12, 13, 14, 15, 16, 17, 18, 19, 20],\n",
       "       [21, 22, 23, 24, 25, 26, 27, 28, 29, 30],\n",
       "       [31, 32, 33, 34, 35, 36, 37, 38, 39, 40],\n",
       "       [41, 42, 43, 44, 45, 46, 47, 48, 49, 50]])"
      ]
     },
     "execution_count": 67,
     "metadata": {},
     "output_type": "execute_result"
    }
   ],
   "source": [
    "# Type your code here:\n",
    "\n",
    "array5by10 = None\n",
    "array5by10 = np.arange(1, 51).reshape(5,10)\n",
    "#print(array5by10)\n",
    "array5by10"
   ]
  },
  {
   "cell_type": "markdown",
   "metadata": {},
   "source": [
    "2). Select the second row of the array."
   ]
  },
  {
   "cell_type": "code",
   "execution_count": 68,
   "metadata": {},
   "outputs": [
    {
     "data": {
      "text/plain": [
       "array([11, 12, 13, 14, 15, 16, 17, 18, 19, 20])"
      ]
     },
     "execution_count": 68,
     "metadata": {},
     "output_type": "execute_result"
    }
   ],
   "source": [
    "array5by10[1]"
   ]
  },
  {
   "cell_type": "markdown",
   "metadata": {},
   "source": [
    "3). Select the second element from each row of the array. The result will be a one-dimensional array of 5 elements."
   ]
  },
  {
   "cell_type": "code",
   "execution_count": 69,
   "metadata": {},
   "outputs": [
    {
     "data": {
      "text/plain": [
       "array([ 2, 12, 22, 32, 42])"
      ]
     },
     "execution_count": 69,
     "metadata": {},
     "output_type": "execute_result"
    }
   ],
   "source": [
    "array5by10[:,1]"
   ]
  },
  {
   "cell_type": "markdown",
   "metadata": {},
   "source": [
    "4). Select numbers 16, 17 and 18 from the array."
   ]
  },
  {
   "cell_type": "code",
   "execution_count": 70,
   "metadata": {},
   "outputs": [
    {
     "data": {
      "text/plain": [
       "array([16, 17, 18])"
      ]
     },
     "execution_count": 70,
     "metadata": {},
     "output_type": "execute_result"
    }
   ],
   "source": [
    "array5by10[1,5:8]"
   ]
  },
  {
   "cell_type": "markdown",
   "metadata": {},
   "source": [
    "5). Update the fifth element in the third row of the array by replacing number 25 with 255."
   ]
  },
  {
   "cell_type": "code",
   "execution_count": 74,
   "metadata": {},
   "outputs": [],
   "source": [
    "array5by10[2,4] = 255"
   ]
  },
  {
   "cell_type": "code",
   "execution_count": null,
   "metadata": {},
   "outputs": [],
   "source": []
  },
  {
   "cell_type": "code",
   "execution_count": null,
   "metadata": {},
   "outputs": [],
   "source": []
  },
  {
   "cell_type": "code",
   "execution_count": null,
   "metadata": {},
   "outputs": [],
   "source": []
  },
  {
   "cell_type": "code",
   "execution_count": 75,
   "metadata": {},
   "outputs": [
    {
     "data": {
      "text/plain": [
       "array([[ 1,  2,  3,  4,  5,  6,  7,  8,  9, 10],\n",
       "       [11, 12, 13, 14, 15, 16, 17, 18, 19, 20],\n",
       "       [21, 22, 23, 24, 25, 26, 27, 28, 29, 30],\n",
       "       [31, 32, 33, 34, 35, 36, 37, 38, 39, 40],\n",
       "       [41, 42, 43, 44, 45, 46, 47, 48, 49, 50]])"
      ]
     },
     "execution_count": 75,
     "metadata": {},
     "output_type": "execute_result"
    }
   ],
   "source": [
    "# Solution:\n",
    "# 1). Creating an array\n",
    "\n",
    "array5by10 = np.arange(1, 51).reshape(5,10)\n",
    "array5by10"
   ]
  },
  {
   "cell_type": "code",
   "execution_count": 76,
   "metadata": {},
   "outputs": [
    {
     "data": {
      "text/plain": [
       "array([11, 12, 13, 14, 15, 16, 17, 18, 19, 20])"
      ]
     },
     "execution_count": 76,
     "metadata": {},
     "output_type": "execute_result"
    }
   ],
   "source": [
    "# 2). Second row of the array\n",
    "\n",
    "array5by10[1]"
   ]
  },
  {
   "cell_type": "code",
   "execution_count": 77,
   "metadata": {},
   "outputs": [
    {
     "data": {
      "text/plain": [
       "array([ 2, 12, 22, 32, 42])"
      ]
     },
     "execution_count": 77,
     "metadata": {},
     "output_type": "execute_result"
    }
   ],
   "source": [
    "# 3). Second element from each row of the array will output a one-dimensional array\n",
    "\n",
    "array5by10[:,1]"
   ]
  },
  {
   "cell_type": "code",
   "execution_count": 78,
   "metadata": {},
   "outputs": [
    {
     "data": {
      "text/plain": [
       "array([16, 17, 18])"
      ]
     },
     "execution_count": 78,
     "metadata": {},
     "output_type": "execute_result"
    }
   ],
   "source": [
    "# 4). Selecting numbers 16, 17 and 18 from the array\n",
    "# These numbers are in the second row (index = 1), their indices within the row are 5, 6 and 7 correspondingly\n",
    "# but we need to remember that the last index in the slice is not included\n",
    "\n",
    "array5by10[1,5:8]"
   ]
  },
  {
   "cell_type": "code",
   "execution_count": 79,
   "metadata": {},
   "outputs": [
    {
     "data": {
      "text/plain": [
       "25"
      ]
     },
     "execution_count": 79,
     "metadata": {},
     "output_type": "execute_result"
    }
   ],
   "source": [
    "# 5). First, let's make sure we have the right index for number 25\n",
    "\n",
    "array5by10[2,4]"
   ]
  },
  {
   "cell_type": "code",
   "execution_count": 80,
   "metadata": {},
   "outputs": [
    {
     "data": {
      "text/plain": [
       "array([[  1,   2,   3,   4,   5,   6,   7,   8,   9,  10],\n",
       "       [ 11,  12,  13,  14,  15,  16,  17,  18,  19,  20],\n",
       "       [ 21,  22,  23,  24, 255,  26,  27,  28,  29,  30],\n",
       "       [ 31,  32,  33,  34,  35,  36,  37,  38,  39,  40],\n",
       "       [ 41,  42,  43,  44,  45,  46,  47,  48,  49,  50]])"
      ]
     },
     "execution_count": 80,
     "metadata": {},
     "output_type": "execute_result"
    }
   ],
   "source": [
    "# Updating the element\n",
    "\n",
    "array5by10[2,4] = 255\n",
    "array5by10"
   ]
  },
  {
   "cell_type": "markdown",
   "metadata": {
    "collapsed": true
   },
   "source": [
    "**End of Module**\n",
    "\n",
    "\n",
    "You have reached the end of this module. \n",
    "\n",
    "If you have any questions, please reach out to your peers using the discussion boards. If you and your peers are unable to come to a suitable conclusion, do not hesitate to reach out to your instructor on the designated discussion board.\n",
    "\n",
    "When you are comfortable with the content, and have practiced to your satisfaction, you may proceed to any related assignments, and to the next module."
   ]
  },
  {
   "cell_type": "code",
   "execution_count": null,
   "metadata": {},
   "outputs": [],
   "source": []
  }
 ],
 "metadata": {
  "anaconda-cloud": {},
  "kernelspec": {
   "display_name": "Python 3 (ipykernel)",
   "language": "python",
   "name": "python3"
  },
  "language_info": {
   "codemirror_mode": {
    "name": "ipython",
    "version": 3
   },
   "file_extension": ".py",
   "mimetype": "text/x-python",
   "name": "python",
   "nbconvert_exporter": "python",
   "pygments_lexer": "ipython3",
   "version": "3.9.7"
  },
  "nbTranslate": {
   "displayLangs": [
    "en"
   ],
   "hotkey": "alt-t",
   "langInMainMenu": true,
   "sourceLang": "en",
   "targetLang": "fr",
   "useGoogleTranslate": true
  },
  "toc": {
   "base_numbering": 1,
   "nav_menu": {},
   "number_sections": false,
   "sideBar": true,
   "skip_h1_title": false,
   "title_cell": "Table of Contents",
   "title_sidebar": "Contents",
   "toc_cell": false,
   "toc_position": {
    "height": "calc(100% - 180px)",
    "left": "10px",
    "top": "150px",
    "width": "323px"
   },
   "toc_section_display": true,
   "toc_window_display": false
  },
  "varInspector": {
   "cols": {
    "lenName": 16,
    "lenType": 16,
    "lenVar": 40
   },
   "kernels_config": {
    "python": {
     "delete_cmd_postfix": "",
     "delete_cmd_prefix": "del ",
     "library": "var_list.py",
     "varRefreshCmd": "print(var_dic_list())"
    },
    "r": {
     "delete_cmd_postfix": ") ",
     "delete_cmd_prefix": "rm(",
     "library": "var_list.r",
     "varRefreshCmd": "cat(var_dic_list()) "
    }
   },
   "position": {
    "height": "1013px",
    "left": "2190px",
    "right": "20px",
    "top": "120px",
    "width": "354px"
   },
   "types_to_exclude": [
    "module",
    "function",
    "builtin_function_or_method",
    "instance",
    "_Feature"
   ],
   "window_display": true
  }
 },
 "nbformat": 4,
 "nbformat_minor": 2
}
