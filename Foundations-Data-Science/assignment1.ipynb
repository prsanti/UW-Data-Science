{
 "cells": [
  {
   "cell_type": "markdown",
   "metadata": {},
   "source": [
    "Before you turn this assignment in, make sure everything runs as expected. \n",
    "\n",
    "You can either **restart the kernel** (in the menu bar, select Kernel $\\rightarrow$ Restart and Clear Output) and then **run all cells** (in the menu bar, select Cell $\\rightarrow$ Run All). \n",
    "Or, you can simply **clear the output for all cells** (in the menu bar, select Cell $\\rightarrow$ All Output $\\rightarrow$ Clear) and then **run all cells** (in the menu bar, select Cell $\\rightarrow$ Run All).\n",
    "\n",
    "---"
   ]
  },
  {
   "cell_type": "code",
   "execution_count": 1,
   "metadata": {},
   "outputs": [],
   "source": [
    "NAME = \"Paulo Santiago\"\n",
    "COLLABORATORS = \"\""
   ]
  },
  {
   "cell_type": "markdown",
   "metadata": {},
   "source": [
    "# Assignment 1 - Intro to Python\n",
    "\n",
    "(15 points)"
   ]
  },
  {
   "cell_type": "markdown",
   "metadata": {},
   "source": [
    "## Learning Outcomes\n",
    "\n",
    "In this assignment you will practice:\n",
    "\n",
    "- Basic Python syntax\n",
    "- Writing simple Python functions\n",
    "- Working with strings and dictionaries"
   ]
  },
  {
   "cell_type": "markdown",
   "metadata": {},
   "source": [
    "## Question #1: Count symbols\n",
    "\n",
    "(3 points)"
   ]
  },
  {
   "cell_type": "markdown",
   "metadata": {},
   "source": [
    "In this question, you are given a string `s` which represents a DNA string. The string `s` consists of symbols `'A', 'C', 'G',` and `'T'`. An example of a length 21 DNA string is `\"ATGCTTCAGAAAGGTCTTACG.\"` \n",
    "\n",
    "Your task is to write a code which will count the number of times each of the symbols `'A', 'C', 'G'`, and `'T'` occur in `s`. Your code should generate a **list of 4 integers** and **print it out**."
   ]
  },
  {
   "cell_type": "code",
   "execution_count": 2,
   "metadata": {},
   "outputs": [],
   "source": [
    "# Here is the DNA string:\n",
    "\n",
    "s = 'AGCTTTTCATTCTGACTGCAACGGGCAATATGTCTCTGTGTGGATTAAAAAAAGAGTGTCTGATAGCAGC'"
   ]
  },
  {
   "cell_type": "code",
   "execution_count": 3,
   "metadata": {},
   "outputs": [],
   "source": [
    "# Type your code here"
   ]
  },
  {
   "cell_type": "code",
   "execution_count": 39,
   "metadata": {},
   "outputs": [
    {
     "name": "stdout",
     "output_type": "stream",
     "text": [
      "[20, 12, 17, 21]\n"
     ]
    }
   ],
   "source": [
    "letter_count = [0,0,0,0]\n",
    "\n",
    "for i in s:\n",
    "    if i == \"A\":\n",
    "        letter_count[0] += 1\n",
    "    elif i == \"C\":\n",
    "        letter_count[1] += 1\n",
    "    elif i == \"G\":\n",
    "        letter_count[2] += 1\n",
    "    elif i == \"T\":\n",
    "        letter_count[3] += 1\n",
    "\n",
    "print(letter_count)"
   ]
  },
  {
   "cell_type": "markdown",
   "metadata": {},
   "source": [
    "## Question #2: Find a substring\n",
    "\n",
    "(4 points)"
   ]
  },
  {
   "cell_type": "markdown",
   "metadata": {},
   "source": [
    "You are given a dictionary of the US states and their capitals. The keys in the dictionary are states and the values are capital names.\n",
    "\n",
    "Write a code to return a **list of all capitals** that contain the name of a state in their name as a substring.\n",
    "\n",
    "**HINT:** For example, `Indianapolis` as a capital name and `Indiana` as a state name is one of the key/value pairs that your code would find. Your code should add `Indianapolis` to the list. After you found all capitals and added them to the list, print out the list."
   ]
  },
  {
   "cell_type": "code",
   "execution_count": 40,
   "metadata": {},
   "outputs": [
    {
     "data": {
      "text/plain": [
       "{'Alabama': 'Montgomery',\n",
       " 'Alaska': 'Juneau',\n",
       " 'Arizona': 'Phoenix',\n",
       " 'Arkansas': 'Little Rock',\n",
       " 'California': 'Sacramento',\n",
       " 'Colorado': 'Denver',\n",
       " 'Connecticut': 'Hartford',\n",
       " 'Delaware': 'Dover',\n",
       " 'Florida': 'Tallahassee',\n",
       " 'Georgia': 'Atlanta',\n",
       " 'Hawaii': 'Honolulu',\n",
       " 'Idaho': 'Boise',\n",
       " 'Illinios': 'Springfield',\n",
       " 'Indiana': 'Indianapolis',\n",
       " 'Iowa': 'Des Monies',\n",
       " 'Kansas': 'Topeka',\n",
       " 'Kentucky': 'Frankfort',\n",
       " 'Louisiana': 'Baton Rouge',\n",
       " 'Maine': 'Augusta',\n",
       " 'Maryland': 'Annapolis',\n",
       " 'Massachusetts': 'Boston',\n",
       " 'Michigan': 'Lansing',\n",
       " 'Minnesota': 'St. Paul',\n",
       " 'Mississippi': 'Jackson',\n",
       " 'Missouri': 'Jefferson City',\n",
       " 'Montana': 'Helena',\n",
       " 'Nebraska': 'Lincoln',\n",
       " 'Neveda': 'Carson City',\n",
       " 'New Hampshire': 'Concord',\n",
       " 'New Jersey': 'Trenton',\n",
       " 'New Mexico': 'Santa Fe',\n",
       " 'New York': 'Albany',\n",
       " 'North Carolina': 'Raleigh',\n",
       " 'North Dakota': 'Bismarck',\n",
       " 'Ohio': 'Columbus',\n",
       " 'Oklahoma': 'Oklahoma City',\n",
       " 'Oregon': 'Salem',\n",
       " 'Pennsylvania': 'Harrisburg',\n",
       " 'Rhoda Island': 'Providence',\n",
       " 'South Carolina': 'Columbia',\n",
       " 'South Dakota': 'Pierre',\n",
       " 'Tennessee': 'Nashville',\n",
       " 'Texas': 'Austin',\n",
       " 'Utah': 'Salt Lake City',\n",
       " 'Vermont': 'Montpelier',\n",
       " 'Virginia': 'Richmond',\n",
       " 'Washington': 'Olympia',\n",
       " 'West Virginia': 'Charleston',\n",
       " 'Wisconsin': 'Madison',\n",
       " 'Wyoming': 'Cheyenne'}"
      ]
     },
     "execution_count": 40,
     "metadata": {},
     "output_type": "execute_result"
    }
   ],
   "source": [
    "# Run this cell to create a dictionary of states' capitals\n",
    "capitals={\n",
    "    'Alabama': 'Montgomery',\n",
    "    'Alaska': 'Juneau',\n",
    "    'Arizona':'Phoenix',\n",
    "    'Arkansas':'Little Rock',\n",
    "    'California': 'Sacramento',\n",
    "    'Colorado':'Denver',\n",
    "    'Connecticut':'Hartford',\n",
    "    'Delaware':'Dover',\n",
    "    'Florida': 'Tallahassee',\n",
    "    'Georgia': 'Atlanta',\n",
    "    'Hawaii': 'Honolulu',\n",
    "    'Idaho': 'Boise',\n",
    "    'Illinios': 'Springfield',\n",
    "    'Indiana': 'Indianapolis',\n",
    "    'Iowa': 'Des Monies',\n",
    "    'Kansas': 'Topeka',\n",
    "    'Kentucky': 'Frankfort',\n",
    "    'Louisiana': 'Baton Rouge',\n",
    "    'Maine': 'Augusta',\n",
    "    'Maryland': 'Annapolis',\n",
    "    'Massachusetts': 'Boston',\n",
    "    'Michigan': 'Lansing',\n",
    "    'Minnesota': 'St. Paul',\n",
    "    'Mississippi': 'Jackson',\n",
    "    'Missouri': 'Jefferson City',\n",
    "    'Montana': 'Helena',\n",
    "    'Nebraska': 'Lincoln',\n",
    "    'Neveda': 'Carson City',\n",
    "    'New Hampshire': 'Concord',\n",
    "    'New Jersey': 'Trenton',\n",
    "    'New Mexico': 'Santa Fe',\n",
    "    'New York': 'Albany',\n",
    "    'North Carolina': 'Raleigh',\n",
    "    'North Dakota': 'Bismarck',\n",
    "    'Ohio': 'Columbus',\n",
    "    'Oklahoma': 'Oklahoma City',\n",
    "    'Oregon': 'Salem',\n",
    "    'Pennsylvania': 'Harrisburg',\n",
    "    'Rhoda Island': 'Providence',\n",
    "    'South Carolina': 'Columbia',\n",
    "    'South Dakota': 'Pierre',\n",
    "    'Tennessee': 'Nashville',\n",
    "    'Texas': 'Austin',\n",
    "    'Utah': 'Salt Lake City',\n",
    "    'Vermont': 'Montpelier',\n",
    "    'Virginia': 'Richmond',\n",
    "    'Washington': 'Olympia',\n",
    "    'West Virginia': 'Charleston',\n",
    "    'Wisconsin': 'Madison',\n",
    "    'Wyoming': 'Cheyenne'  \n",
    "}\n",
    "capitals"
   ]
  },
  {
   "cell_type": "code",
   "execution_count": 41,
   "metadata": {},
   "outputs": [],
   "source": [
    "# Your code here"
   ]
  },
  {
   "cell_type": "code",
   "execution_count": 55,
   "metadata": {},
   "outputs": [],
   "source": [
    "state_in_capital = []\n",
    "\n",
    "for state in capitals:\n",
    "    if (state.lower() in capitals[state].lower()):\n",
    "        state_in_capital.append(capitals[state])\n",
    "        "
   ]
  },
  {
   "cell_type": "code",
   "execution_count": 56,
   "metadata": {},
   "outputs": [
    {
     "name": "stdout",
     "output_type": "stream",
     "text": [
      "['Indianapolis', 'Oklahoma City']\n"
     ]
    }
   ],
   "source": [
    "print(state_in_capital)"
   ]
  },
  {
   "cell_type": "markdown",
   "metadata": {},
   "source": [
    "## Question #3: Is a data point within a rectangle?\n",
    "\n",
    "(4 points)"
   ]
  },
  {
   "cell_type": "markdown",
   "metadata": {},
   "source": [
    "Write a function `isIn()` which returns **boolean `True`** if a point is within a rectangle specified by two sets of coordinates and **boolean `False`** if the point is outside the rectangle. The function should accept three parameters:\n",
    "- the first parameter is a set of coordinates which defines one of the corners of the rectangle, \n",
    "- the second parameter is also a set of coordinates that defines the second corner,\n",
    "- the third set of coordinates defines a single point which is being tested.\n",
    "\n",
    "For example, \n",
    "- `isIn((1,2), (3,4), (1.5, 3.2))` should return `True`, \n",
    "- `isIn((4,3.5), (2,1), (3, 2))` should return `True`, \n",
    "- `isIn((-1,0), (5,5), (6,0))` should return `False`,\n",
    "- `isIn((4,1), (2,4), (2.5,4.5))` should return `False`.\n",
    "\n",
    "Test your function with at least 2 different sets of data points in addition to the examples above.\n",
    "\n",
    "**NOTES:** \n",
    "1. If the point being tested is on the side of the rectangle, consider it to be within the rectangle. For example, if the rectangle is defined as `(1,2), (3,4)` and the point is `(2,2)`, the function should return `True`.\n",
    "2. In this assignment, we assume that the edges of the rectangle are parallel to coordinate axes.\n",
    "3. We also assume that the first parameter does not always represent the left corner of the rectangle and the second parameter is not always the right corner. The function should work correctly either way. Please note the second test condition above where the first parameter, `(4,3.5)`, represents the top-right corner and the second parameter, `(2,1)`, represents left-bottom corner. "
   ]
  },
  {
   "cell_type": "code",
   "execution_count": 44,
   "metadata": {},
   "outputs": [],
   "source": [
    "def isIn(firstCorner=(0,0), secondCorner=(0,0), point=(0,0)):\n",
    "    # YOUR CODE HERE\n",
    "\n",
    "    # set x1 and y1 as lowest corner point and x2 and y2 as\n",
    "    x1 = min(firstCorner[0], secondCorner[0])\n",
    "    x2 = max(firstCorner[0], secondCorner[0])\n",
    "    y1 = min(firstCorner[1], secondCorner[1])\n",
    "    y2 = max(firstCorner[1], secondCorner[1])\n",
    "       \n",
    "    # check if point is in the rectangle\n",
    "    if (x1 <= point[0] <= x2 and y1 <= point[1] <= y2):\n",
    "        return True\n",
    "    else:\n",
    "        return False"
   ]
  },
  {
   "cell_type": "code",
   "execution_count": 45,
   "metadata": {},
   "outputs": [
    {
     "name": "stdout",
     "output_type": "stream",
     "text": [
      "True\n",
      "True\n",
      "False\n",
      "False\n"
     ]
    }
   ],
   "source": [
    "print(isIn((1,2), (3,4), (1.5, 3.2)))\n",
    "print(isIn((4,3.5), (2,1), (3, 2)))\n",
    "print(isIn((-1,0), (5,5), (6,0)))\n",
    "print(isIn((4,1), (2,4), (2.5,4.5)))"
   ]
  },
  {
   "cell_type": "code",
   "execution_count": 46,
   "metadata": {},
   "outputs": [
    {
     "data": {
      "text/plain": [
       "True"
      ]
     },
     "execution_count": 46,
     "metadata": {},
     "output_type": "execute_result"
    }
   ],
   "source": [
    "isIn((-3,-1), (-5,-3), (-4,-2))"
   ]
  },
  {
   "cell_type": "code",
   "execution_count": 47,
   "metadata": {},
   "outputs": [
    {
     "data": {
      "text/plain": [
       "True"
      ]
     },
     "execution_count": 47,
     "metadata": {},
     "output_type": "execute_result"
    }
   ],
   "source": [
    "isIn((3,1), (5,3), (4,2))"
   ]
  },
  {
   "cell_type": "markdown",
   "metadata": {},
   "source": [
    "## Question #4: Are all points within a rectangle?\n",
    "\n",
    "(4 points)"
   ]
  },
  {
   "cell_type": "markdown",
   "metadata": {},
   "source": [
    "Modify your function from the previous question so it takes a list of points rather than a single point and returns **boolean `True`** only if all points in the list are in the rectangle.\n",
    "\n",
    "For example,\n",
    "\n",
    "- `allIn((0,0), (5,5), [(1,1), (0,0), (5,5)])` should return `True`\n",
    "- but `allIn((0,0), (5,5), [(1,1), (0,0), (5,6)])` should return `False`\n",
    "- empty list of points `allIn((0,0), (5,5), [])` should return `False`\n",
    "\n",
    "Use the same assumptions as above about the placement of the points and how rectangle is defined. Make sure that your function returns `False` for empty list of points (no values).\n",
    "\n",
    "Test your function with at least 3 different sets of data points."
   ]
  },
  {
   "cell_type": "code",
   "execution_count": 57,
   "metadata": {},
   "outputs": [],
   "source": [
    "def allIn(firstCorner=(0,0), secondCorner=(0,0), pointList=[]):\n",
    "    # YOUR CODE HERE\n",
    "    # check if pointList is empty\n",
    "    if (not pointList): \n",
    "        return False\n",
    "    \n",
    "    x1 = min(firstCorner[0], secondCorner[0])\n",
    "    x2 = max(firstCorner[0], secondCorner[0])\n",
    "    y1 = min(firstCorner[1], secondCorner[1])\n",
    "    y2 = max(firstCorner[1], secondCorner[1])\n",
    "        \n",
    "    # Loop through each point and check if it is in the rectangle\n",
    "    for point in pointList:\n",
    "        # return False if a point is not in the rectangle\n",
    "        if (not (x1 <= point[0] <= x2 and y1 <= point[1] <= y2)):\n",
    "            return False\n",
    "        \n",
    "    # base case returns True\n",
    "    return True"
   ]
  },
  {
   "cell_type": "code",
   "execution_count": 58,
   "metadata": {},
   "outputs": [
    {
     "name": "stdout",
     "output_type": "stream",
     "text": [
      "True\n",
      "False\n",
      "False\n"
     ]
    }
   ],
   "source": [
    "print(allIn((0,0), (5,5), [(1,1), (0,0), (5,5)]))\n",
    "print(allIn((0,0), (5,5), [(1,1), (0,0), (5,6)]))\n",
    "print(allIn((0,0), (5,5), []))"
   ]
  },
  {
   "cell_type": "code",
   "execution_count": 59,
   "metadata": {},
   "outputs": [
    {
     "data": {
      "text/plain": [
       "True"
      ]
     },
     "execution_count": 59,
     "metadata": {},
     "output_type": "execute_result"
    }
   ],
   "source": [
    "allIn((-1,-1), (2,2), [(0,0), (1,-1), (2,2)])"
   ]
  },
  {
   "cell_type": "code",
   "execution_count": 60,
   "metadata": {},
   "outputs": [
    {
     "data": {
      "text/plain": [
       "True"
      ]
     },
     "execution_count": 60,
     "metadata": {},
     "output_type": "execute_result"
    }
   ],
   "source": [
    "allIn((-2,3), (1,-1), [(-2,-1), (1,3), (1,1)])"
   ]
  },
  {
   "cell_type": "code",
   "execution_count": 61,
   "metadata": {},
   "outputs": [
    {
     "data": {
      "text/plain": [
       "False"
      ]
     },
     "execution_count": 61,
     "metadata": {},
     "output_type": "execute_result"
    }
   ],
   "source": [
    "allIn((0,2), (2,-1), [(-1,-2), (3,3), (1,2)])"
   ]
  },
  {
   "cell_type": "code",
   "execution_count": null,
   "metadata": {},
   "outputs": [],
   "source": []
  },
  {
   "cell_type": "code",
   "execution_count": null,
   "metadata": {},
   "outputs": [],
   "source": []
  },
  {
   "cell_type": "code",
   "execution_count": null,
   "metadata": {},
   "outputs": [],
   "source": []
  }
 ],
 "metadata": {
  "kernelspec": {
   "display_name": "Python 3 (ipykernel)",
   "language": "python",
   "name": "python3"
  },
  "language_info": {
   "codemirror_mode": {
    "name": "ipython",
    "version": 3
   },
   "file_extension": ".py",
   "mimetype": "text/x-python",
   "name": "python",
   "nbconvert_exporter": "python",
   "pygments_lexer": "ipython3",
   "version": "3.9.7"
  },
  "toc": {
   "base_numbering": 1,
   "nav_menu": {},
   "number_sections": false,
   "sideBar": true,
   "skip_h1_title": false,
   "title_cell": "Table of Contents",
   "title_sidebar": "Contents",
   "toc_cell": false,
   "toc_position": {},
   "toc_section_display": true,
   "toc_window_display": false
  }
 },
 "nbformat": 4,
 "nbformat_minor": 2
}
