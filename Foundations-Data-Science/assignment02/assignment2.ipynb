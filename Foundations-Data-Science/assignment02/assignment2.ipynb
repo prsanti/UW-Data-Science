{
 "cells": [
  {
   "cell_type": "markdown",
   "metadata": {},
   "source": [
    "Before you turn this problem in, make sure everything runs as expected. First, **restart the kernel** (in the menu bar, select Kernel$\\rightarrow$Restart) and then **run all cells** (in the menu bar, select Cell$\\rightarrow$Run All).\n",
    "\n",
    "Make sure that in addition to the code, you provide written answers for all questions of the assignment. \n",
    "\n",
    "Below, please fill in your name and collaborators:"
   ]
  },
  {
   "cell_type": "code",
   "execution_count": 1,
   "metadata": {},
   "outputs": [],
   "source": [
    "NAME = \"Paulo Santiago\"\n",
    "COLLABORATORS = \"\""
   ]
  },
  {
   "cell_type": "markdown",
   "metadata": {},
   "source": [
    "## Assignment 2 - Data Analysis using Pandas\n",
    "**(15 points total)**"
   ]
  },
  {
   "cell_type": "markdown",
   "metadata": {},
   "source": [
    "For this assignment, we will analyze the open dataset with data on the passengers aboard the Titanic.\n",
    "\n",
    "The data file for this assignment can be downloaded from Kaggle website: https://www.kaggle.com/c/titanic/data, file `train.csv`. It is also attached to the assignment page. The definition of all variables can be found on the same Kaggle page, in the Data Dictionary section.\n",
    "\n",
    "Read the data from the file into pandas DataFrame. Analyze, clean and transform the data to answer the following question: \n",
    "\n",
    "**What categories of passengers were most likely to survive the Titanic disaster?**"
   ]
  },
  {
   "cell_type": "markdown",
   "metadata": {},
   "source": [
    "**Question 1.**  _(4 points)_\n",
    "* The answer to the main question - What categories of passengers were most likely to survive the Titanic disaster? _(2 points)_\n",
    "* The detailed explanation of the logic of the analysis _(2 points)_\n",
    "\n",
    "**Question 2.**  _(3 points)_\n",
    "* What other attributes did you use for the analysis? Explain how you used them and why you decided to use them. \n",
    "* Provide a complete list of all attributes used.\n",
    "\n",
    "**Question 3.**  _(3 points)_\n",
    "* Did you engineer any attributes (created new attributes)? If yes, explain the rationale and how the new attributes were used in the analysis?\n",
    "* If you have excluded any attributes from the analysis, provide an explanation why you believe they can be excluded.\n",
    "\n",
    "**Question 4.**  _(5 points)_\n",
    "* How did you treat missing values for those attributes that you included in the analysis (for example, `age` attribute)? Provide a detailed explanation in the comments.\n"
   ]
  },
  {
   "cell_type": "code",
   "execution_count": 2,
   "metadata": {},
   "outputs": [
    {
     "data": {
      "text/html": [
       "<div>\n",
       "<style scoped>\n",
       "    .dataframe tbody tr th:only-of-type {\n",
       "        vertical-align: middle;\n",
       "    }\n",
       "\n",
       "    .dataframe tbody tr th {\n",
       "        vertical-align: top;\n",
       "    }\n",
       "\n",
       "    .dataframe thead th {\n",
       "        text-align: right;\n",
       "    }\n",
       "</style>\n",
       "<table border=\"1\" class=\"dataframe\">\n",
       "  <thead>\n",
       "    <tr style=\"text-align: right;\">\n",
       "      <th></th>\n",
       "      <th>survived</th>\n",
       "      <th>pclass</th>\n",
       "      <th>name</th>\n",
       "      <th>sex</th>\n",
       "      <th>age</th>\n",
       "      <th>sibsp</th>\n",
       "      <th>parch</th>\n",
       "      <th>ticket</th>\n",
       "      <th>fare</th>\n",
       "      <th>cabin</th>\n",
       "      <th>embarked</th>\n",
       "    </tr>\n",
       "    <tr>\n",
       "      <th>passenger_id</th>\n",
       "      <th></th>\n",
       "      <th></th>\n",
       "      <th></th>\n",
       "      <th></th>\n",
       "      <th></th>\n",
       "      <th></th>\n",
       "      <th></th>\n",
       "      <th></th>\n",
       "      <th></th>\n",
       "      <th></th>\n",
       "      <th></th>\n",
       "    </tr>\n",
       "  </thead>\n",
       "  <tbody>\n",
       "    <tr>\n",
       "      <th>1</th>\n",
       "      <td>0</td>\n",
       "      <td>3</td>\n",
       "      <td>Braund, Mr. Owen Harris</td>\n",
       "      <td>1</td>\n",
       "      <td>22.0</td>\n",
       "      <td>1</td>\n",
       "      <td>0</td>\n",
       "      <td>A/5 21171</td>\n",
       "      <td>7.2500</td>\n",
       "      <td>NaN</td>\n",
       "      <td>2.0</td>\n",
       "    </tr>\n",
       "    <tr>\n",
       "      <th>2</th>\n",
       "      <td>1</td>\n",
       "      <td>1</td>\n",
       "      <td>Cumings, Mrs. John Bradley (Florence Briggs Th...</td>\n",
       "      <td>0</td>\n",
       "      <td>38.0</td>\n",
       "      <td>1</td>\n",
       "      <td>0</td>\n",
       "      <td>PC 17599</td>\n",
       "      <td>71.2833</td>\n",
       "      <td>C85</td>\n",
       "      <td>0.0</td>\n",
       "    </tr>\n",
       "    <tr>\n",
       "      <th>3</th>\n",
       "      <td>1</td>\n",
       "      <td>3</td>\n",
       "      <td>Heikkinen, Miss. Laina</td>\n",
       "      <td>0</td>\n",
       "      <td>26.0</td>\n",
       "      <td>0</td>\n",
       "      <td>0</td>\n",
       "      <td>STON/O2. 3101282</td>\n",
       "      <td>7.9250</td>\n",
       "      <td>NaN</td>\n",
       "      <td>2.0</td>\n",
       "    </tr>\n",
       "    <tr>\n",
       "      <th>4</th>\n",
       "      <td>1</td>\n",
       "      <td>1</td>\n",
       "      <td>Futrelle, Mrs. Jacques Heath (Lily May Peel)</td>\n",
       "      <td>0</td>\n",
       "      <td>35.0</td>\n",
       "      <td>1</td>\n",
       "      <td>0</td>\n",
       "      <td>113803</td>\n",
       "      <td>53.1000</td>\n",
       "      <td>C123</td>\n",
       "      <td>2.0</td>\n",
       "    </tr>\n",
       "    <tr>\n",
       "      <th>5</th>\n",
       "      <td>0</td>\n",
       "      <td>3</td>\n",
       "      <td>Allen, Mr. William Henry</td>\n",
       "      <td>1</td>\n",
       "      <td>35.0</td>\n",
       "      <td>0</td>\n",
       "      <td>0</td>\n",
       "      <td>373450</td>\n",
       "      <td>8.0500</td>\n",
       "      <td>NaN</td>\n",
       "      <td>2.0</td>\n",
       "    </tr>\n",
       "    <tr>\n",
       "      <th>...</th>\n",
       "      <td>...</td>\n",
       "      <td>...</td>\n",
       "      <td>...</td>\n",
       "      <td>...</td>\n",
       "      <td>...</td>\n",
       "      <td>...</td>\n",
       "      <td>...</td>\n",
       "      <td>...</td>\n",
       "      <td>...</td>\n",
       "      <td>...</td>\n",
       "      <td>...</td>\n",
       "    </tr>\n",
       "    <tr>\n",
       "      <th>887</th>\n",
       "      <td>0</td>\n",
       "      <td>2</td>\n",
       "      <td>Montvila, Rev. Juozas</td>\n",
       "      <td>1</td>\n",
       "      <td>27.0</td>\n",
       "      <td>0</td>\n",
       "      <td>0</td>\n",
       "      <td>211536</td>\n",
       "      <td>13.0000</td>\n",
       "      <td>NaN</td>\n",
       "      <td>2.0</td>\n",
       "    </tr>\n",
       "    <tr>\n",
       "      <th>888</th>\n",
       "      <td>1</td>\n",
       "      <td>1</td>\n",
       "      <td>Graham, Miss. Margaret Edith</td>\n",
       "      <td>0</td>\n",
       "      <td>19.0</td>\n",
       "      <td>0</td>\n",
       "      <td>0</td>\n",
       "      <td>112053</td>\n",
       "      <td>30.0000</td>\n",
       "      <td>B42</td>\n",
       "      <td>2.0</td>\n",
       "    </tr>\n",
       "    <tr>\n",
       "      <th>889</th>\n",
       "      <td>0</td>\n",
       "      <td>3</td>\n",
       "      <td>Johnston, Miss. Catherine Helen \"Carrie\"</td>\n",
       "      <td>0</td>\n",
       "      <td>27.0</td>\n",
       "      <td>1</td>\n",
       "      <td>2</td>\n",
       "      <td>W./C. 6607</td>\n",
       "      <td>23.4500</td>\n",
       "      <td>NaN</td>\n",
       "      <td>2.0</td>\n",
       "    </tr>\n",
       "    <tr>\n",
       "      <th>890</th>\n",
       "      <td>1</td>\n",
       "      <td>1</td>\n",
       "      <td>Behr, Mr. Karl Howell</td>\n",
       "      <td>1</td>\n",
       "      <td>26.0</td>\n",
       "      <td>0</td>\n",
       "      <td>0</td>\n",
       "      <td>111369</td>\n",
       "      <td>30.0000</td>\n",
       "      <td>C148</td>\n",
       "      <td>0.0</td>\n",
       "    </tr>\n",
       "    <tr>\n",
       "      <th>891</th>\n",
       "      <td>0</td>\n",
       "      <td>3</td>\n",
       "      <td>Dooley, Mr. Patrick</td>\n",
       "      <td>1</td>\n",
       "      <td>32.0</td>\n",
       "      <td>0</td>\n",
       "      <td>0</td>\n",
       "      <td>370376</td>\n",
       "      <td>7.7500</td>\n",
       "      <td>NaN</td>\n",
       "      <td>1.0</td>\n",
       "    </tr>\n",
       "  </tbody>\n",
       "</table>\n",
       "<p>891 rows × 11 columns</p>\n",
       "</div>"
      ],
      "text/plain": [
       "              survived  pclass  \\\n",
       "passenger_id                     \n",
       "1                    0       3   \n",
       "2                    1       1   \n",
       "3                    1       3   \n",
       "4                    1       1   \n",
       "5                    0       3   \n",
       "...                ...     ...   \n",
       "887                  0       2   \n",
       "888                  1       1   \n",
       "889                  0       3   \n",
       "890                  1       1   \n",
       "891                  0       3   \n",
       "\n",
       "                                                           name  sex   age  \\\n",
       "passenger_id                                                                 \n",
       "1                                       Braund, Mr. Owen Harris    1  22.0   \n",
       "2             Cumings, Mrs. John Bradley (Florence Briggs Th...    0  38.0   \n",
       "3                                        Heikkinen, Miss. Laina    0  26.0   \n",
       "4                  Futrelle, Mrs. Jacques Heath (Lily May Peel)    0  35.0   \n",
       "5                                      Allen, Mr. William Henry    1  35.0   \n",
       "...                                                         ...  ...   ...   \n",
       "887                                       Montvila, Rev. Juozas    1  27.0   \n",
       "888                                Graham, Miss. Margaret Edith    0  19.0   \n",
       "889                    Johnston, Miss. Catherine Helen \"Carrie\"    0  27.0   \n",
       "890                                       Behr, Mr. Karl Howell    1  26.0   \n",
       "891                                         Dooley, Mr. Patrick    1  32.0   \n",
       "\n",
       "              sibsp  parch            ticket     fare cabin  embarked  \n",
       "passenger_id                                                           \n",
       "1                 1      0         A/5 21171   7.2500   NaN       2.0  \n",
       "2                 1      0          PC 17599  71.2833   C85       0.0  \n",
       "3                 0      0  STON/O2. 3101282   7.9250   NaN       2.0  \n",
       "4                 1      0            113803  53.1000  C123       2.0  \n",
       "5                 0      0            373450   8.0500   NaN       2.0  \n",
       "...             ...    ...               ...      ...   ...       ...  \n",
       "887               0      0            211536  13.0000   NaN       2.0  \n",
       "888               0      0            112053  30.0000   B42       2.0  \n",
       "889               1      2        W./C. 6607  23.4500   NaN       2.0  \n",
       "890               0      0            111369  30.0000  C148       0.0  \n",
       "891               0      0            370376   7.7500   NaN       1.0  \n",
       "\n",
       "[891 rows x 11 columns]"
      ]
     },
     "execution_count": 2,
     "metadata": {},
     "output_type": "execute_result"
    }
   ],
   "source": [
    "import numpy as np\n",
    "import pandas as pd\n",
    "\n",
    "df = pd.read_csv('train.csv',\n",
    "                names = ['passenger_id','survived', 'pclass', 'name', 'sex', 'age', 'sibsp', 'parch', 'ticket', 'fare', 'cabin', 'embarked'],\n",
    "                index_col='passenger_id',\n",
    "                skiprows=1,\n",
    "                na_values={'age': ['NaN']}\n",
    "                )\n",
    "\n",
    "# Imputate missing age with median value of each sex\n",
    "df['age'] = df.groupby('sex')['age'].apply(lambda x: x.fillna(x.median()))\n",
    "\n",
    "# Replace female and male with numeric values\n",
    "# set female to 0 and male to 1\n",
    "df=df.replace(to_replace=\"female\",value=0)\n",
    "df=df.replace(to_replace=\"male\",value=1)\n",
    "\n",
    "# Replace embarked values with numeric values\n",
    "# C = Cherbourg = 0, Q = Queenstown = 1, S = Southampton = 2\n",
    "df=df.replace(to_replace=\"C\",value=0)\n",
    "df=df.replace(to_replace=\"Q\",value=1)\n",
    "df=df.replace(to_replace=\"S\",value=2)\n",
    "\n",
    "df"
   ]
  },
  {
   "cell_type": "code",
   "execution_count": 3,
   "metadata": {
    "scrolled": true
   },
   "outputs": [
    {
     "data": {
      "text/plain": [
       "pclass  sex  age   sibsp  parch  embarked\n",
       "2.0     0.0  27.0  0.0    0.0    2.0         1\n",
       "dtype: int64"
      ]
     },
     "execution_count": 3,
     "metadata": {},
     "output_type": "execute_result"
    }
   ],
   "source": [
    "# Question 1\n",
    "# Create survived only dataframe\n",
    "df_survived = df[df.survived == df.survived.max()]\n",
    "\n",
    "df_survived.groupby('survived')[['pclass','sex','age','sibsp','parch','embarked']]\\\n",
    "    .aggregate('median')\\\n",
    "    .value_counts()\n"
   ]
  },
  {
   "cell_type": "code",
   "execution_count": 4,
   "metadata": {},
   "outputs": [
    {
     "data": {
      "text/plain": [
       "survived  sex\n",
       "0         1      468\n",
       "          0       81\n",
       "1         0      233\n",
       "          1      109\n",
       "Name: sex, dtype: int64"
      ]
     },
     "execution_count": 4,
     "metadata": {},
     "output_type": "execute_result"
    }
   ],
   "source": [
    "df.groupby('survived')['sex'].value_counts()"
   ]
  },
  {
   "cell_type": "markdown",
   "metadata": {},
   "source": [
    "# Question 1\n",
    "\n",
    "Running a regression on passengers that survived and looking at their median values, passengers who purchased a second class ticket, are 28 years old, female, have no siblings, spouses, children, or parents, and who embarked from the Southampton port are on average to survive the titanic.\n",
    "\n",
    "There was a total of 577 males and 314 females, 233 females survived whereas only 109 males survived. Females had a higher survival rate compared to males.\n",
    "\n",
    "In this analysis, I ran a regression of passengers who survived to find the median value of their ticket class, sex, age, number of siblings/spouses, number of parents/children, and from where they embarked.\n",
    "\n",
    "To quantify sex, I replaced the string values of 'female' to 0 and 'male' to 1. And for the emabrked column, I replaced C (Cherbourg) with 0, Q (Queenstown) with 1, and Southampton with 2. I did this to be able to run the regression since I could not run it with string values. Furthermore, by changing them to numeric values, it made it possible to find average values.\n",
    "\n",
    "In this regression, I used the median values instead of mean values because it rounded to clean whole numbers. For instance when running a regression it would return average values of decimals or floats for ticket class, sex, number of siblings/spouses, and number of parents/children. I decided that median was better since it returned a whole number and I round to the closest whole number with a mean regression anyways.\n",
    "\n"
   ]
  },
  {
   "cell_type": "markdown",
   "metadata": {},
   "source": [
    "# Question 2\n",
    "List of all attributes used:\n",
    "- pclass (ticket class)\n",
    "- sex\n",
    "- age\n",
    "- sibsp (number of siblings/spouses)\n",
    "- parch (number of parents/children)\n",
    "- emabrked\n",
    "    \n",
    "I decided to use other attributes such as pclass (ticket class) because I wanted to see if a passenger's financial spending was a factor to their survival. However, there is not enough information to make this conclusion. From the analysis, passengers who have a second class ticket are more likely to survive. The reasoning for this could be that second class tickets were sold more and therefore, there is a larger population of passengers who survived from this class.\n",
    "\n",
    "Another intersting attribute was the embarked column, where passengers boarded the Titanic. From the analysis, passengers who boarded from Southampton are more likely to survive. This could be because their seats were closer to life rafts or there was a higher sample size like the ticket class example. However, there is not enough evidence or quantitive data to prove this from the dataset given."
   ]
  },
  {
   "cell_type": "markdown",
   "metadata": {},
   "source": [
    "# Question 3\n",
    "\n",
    "I did not create any new attributes for this analysis. However, I would like to try creating new variables that split up dependent variables such as ticket class and ticket fare.\n",
    "\n",
    "I excluded some attributes such as fare and cabin. I excluded the passenger's fare price because the values were inconsistent. Passengers with a first class ticket could have paid \\\\$120 or \\\\$26.55 and would drastically affect the average values of the regression. I determined ticket class was a better representation of money spent because same ticket class holders would have a similar experience regardless of fare price.\n",
    "\n",
    "I also excluded cabin numbers because there was a lot of missing values. I did not want to remove them because the other columns for the passenger were important such as ticket class, sex, age, etc. In addition, it is difficult to run a regression with string values that are almost completely unique."
   ]
  },
  {
   "cell_type": "code",
   "execution_count": 5,
   "metadata": {},
   "outputs": [
    {
     "data": {
      "text/plain": [
       "pclass  fare    \n",
       "1       26.5500     8\n",
       "        30.0000     4\n",
       "        30.5000     4\n",
       "        120.0000    4\n",
       "        26.2875     3\n",
       "                   ..\n",
       "3       18.7875     1\n",
       "        20.2500     1\n",
       "        20.5750     1\n",
       "        22.0250     1\n",
       "        24.1500     1\n",
       "Name: fare, Length: 154, dtype: int64"
      ]
     },
     "execution_count": 5,
     "metadata": {},
     "output_type": "execute_result"
    }
   ],
   "source": [
    "df_survived.groupby('pclass')['fare'].value_counts()"
   ]
  },
  {
   "cell_type": "markdown",
   "metadata": {},
   "source": [
    "# Question 4\n",
    "For the cabin column, I did not replace the missing values or remove the passenger from the data completely because I did not use that column as explained in Question 3.\n",
    "\n",
    "For the age attribute, I did not remove any passengers from the data for missing an age value. Instead, I replaced all missing values with the median age depending on their sex. From the data above, missing female ages were replaced with 27 and missing male ages were replaced with 29. I used median instead of mean because it resulted in a cleaner whole number, and the difference was slight."
   ]
  },
  {
   "cell_type": "code",
   "execution_count": 6,
   "metadata": {},
   "outputs": [
    {
     "data": {
      "text/plain": [
       "sex\n",
       "0    27.0\n",
       "1    29.0\n",
       "Name: age, dtype: float64"
      ]
     },
     "execution_count": 6,
     "metadata": {},
     "output_type": "execute_result"
    }
   ],
   "source": [
    "# Median age by sex\n",
    "df.groupby('sex')['age'].median()"
   ]
  }
 ],
 "metadata": {
  "kernelspec": {
   "display_name": "Python 3 (ipykernel)",
   "language": "python",
   "name": "python3"
  },
  "language_info": {
   "codemirror_mode": {
    "name": "ipython",
    "version": 3
   },
   "file_extension": ".py",
   "mimetype": "text/x-python",
   "name": "python",
   "nbconvert_exporter": "python",
   "pygments_lexer": "ipython3",
   "version": "3.9.7"
  },
  "toc": {
   "base_numbering": 1,
   "nav_menu": {},
   "number_sections": false,
   "sideBar": true,
   "skip_h1_title": false,
   "title_cell": "Table of Contents",
   "title_sidebar": "Contents",
   "toc_cell": false,
   "toc_position": {},
   "toc_section_display": true,
   "toc_window_display": false
  }
 },
 "nbformat": 4,
 "nbformat_minor": 2
}
