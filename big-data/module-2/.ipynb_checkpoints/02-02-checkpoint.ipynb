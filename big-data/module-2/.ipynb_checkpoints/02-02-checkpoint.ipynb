{
 "cells": [
  {
   "cell_type": "markdown",
   "metadata": {},
   "source": [
    "# Module 2 Part 2: Advanced SQL"
   ]
  },
  {
   "cell_type": "markdown",
   "metadata": {},
   "source": [
    "In this part, we will continue learning SQL queries. We will take a more detailed look at the queries we covered in the first course and learn SQL Joins. We will conclude the module by looking at advanced SQL queries and commands to manipulate database tables.\n",
    "This module consists of 2 parts:\n",
    "\n",
    "- **Part 1** - Relational Databases\n",
    "- **Part 2** - Advanced SQL\n",
    "\n",
    "Each part is provided in a separate notebook file. It is recommended that you follow the order of the notebooks."
   ]
  },
  {
   "cell_type": "markdown",
   "metadata": {},
   "source": [
    "<h1>Table of Contents<span class=\"tocSkip\"></span></h1>\n",
    "<br>\n",
    "<div class=\"toc\">\n",
    "<ul class=\"toc-item\">\n",
    "<li><span><a href=\"#Module-2-Part-2:-Advanced-SQL\" data-toc-modified-id=\"Module-2-Part-2:-Advanced-SQL\">Module 2 Part 2: Advanced SQL</a></span>\n",
    "</li>\n",
    "<li><span><a href=\"#Table-of-Contents\" data-toc-modified-id=\"Table-of-Contents\">Table of Contents</a></span>\n",
    "</li>\n",
    "<li><span><a href=\"#SQL-Queries---A-Closer-Look\" data-toc-modified-id=\"SQL-Queries---A-Closer-Look\">SQL Queries - A Closer Look</a></span>\n",
    "<ul class=\"toc-item\">\n",
    "<li><span><a href=\"#Aliasing\" data-toc-modified-id=\"Aliasing\">Aliasing</a></span>\n",
    "</li>\n",
    "<li><span><a href=\"#SELECT-clause\" data-toc-modified-id=\"SELECT-clause\">SELECT clause</a></span>\n",
    "<ul class=\"toc-item\">\n",
    "<li><span><a href=\"#CASE-statement\" data-toc-modified-id=\"CASE-statement\">CASE statement</a></span>\n",
    "</li>\n",
    "<li><span><a href=\"#DISTINCT\" data-toc-modified-id=\"DISTINCT\">DISTINCT</a></span>\n",
    "</li>\n",
    "<li><span><a href=\"#Scalar-functions\" data-toc-modified-id=\"Scalar-functions\">Scalar functions</a></span>\n",
    "</li>\n",
    "</ul>\n",
    "</li>\n",
    "<li><span><a href=\"#WHERE-clause\" data-toc-modified-id=\"WHERE-clause\">WHERE clause</a></span>\n",
    "<ul class=\"toc-item\">\n",
    "<li><span><a href=\"#String-pattern-matching\" data-toc-modified-id=\"String-pattern-matching\">String pattern matching</a></span>\n",
    "<ul class=\"toc-item\">\n",
    "<li><span><a href=\"#LIKE-Statement\" data-toc-modified-id=\"LIKE-Statement\">LIKE Statement</a></span>\n",
    "</li>\n",
    "<li><span><a href=\"#Membership\" data-toc-modified-id=\"Membership\">Membership</a></span>\n",
    "</li>\n",
    "<li><span><a href=\"#IN-Statement\" data-toc-modified-id=\"IN-Statement\">IN Statement</a></span>\n",
    "</li>\n",
    "<li><span><a href=\"#BETWEEN-Statement\" data-toc-modified-id=\"BETWEEN-Statement\">BETWEEN Statement</a></span>\n",
    "</li>\n",
    "</ul>\n",
    "</li>\n",
    "</ul>\n",
    "</li>\n",
    "<li><span><a href=\"#GROUP-BY-clause\" data-toc-modified-id=\"GROUP-BY-clause\">GROUP BY clause</a></span>\n",
    "<ul class=\"toc-item\">\n",
    "<li><span><a href=\"#Aggregate-functions\" data-toc-modified-id=\"Aggregate-functions\">Aggregate functions</a></span>\n",
    "</li>\n",
    "</ul>\n",
    "</li>\n",
    "<li><span><a href=\"#HAVING-clause\" data-toc-modified-id=\"HAVING-clause\">HAVING clause</a></span>\n",
    "</li>\n",
    "<li><span><a href=\"#EXERCISE-2:-Breaking-down-the-SQL-queries\" data-toc-modified-id=\"EXERCISE-2:-Breaking-down-the-SQL-queries\">EXERCISE 2: Breaking down the SQL queries</a></span>\n",
    "</li>\n",
    "</ul>\n",
    "</li>\n",
    "<li><span><a href=\"#SQL-Joins\" data-toc-modified-id=\"SQL-Joins\">SQL Joins</a></span>\n",
    "<ul class=\"toc-item\">\n",
    "<li><span><a href=\"#Join-cases\" data-toc-modified-id=\"Join-cases\">Join cases</a></span>\n",
    "<ul class=\"toc-item\">\n",
    "<li><span><a href=\"#Join\" data-toc-modified-id=\"Join\">Join</a></span>\n",
    "</li>\n",
    "<li><span><a href=\"#Left-Join\" data-toc-modified-id=\"Left-Join\">Left Join</a></span>\n",
    "</li>\n",
    "<li><span><a href=\"#Self-Join\" data-toc-modified-id=\"Self-Join\">Self Join</a></span>\n",
    "</li>\n",
    "</ul>\n",
    "</li>\n",
    "<li><span><a href=\"#Set-clauses\" data-toc-modified-id=\"Set-clauses\">Set clauses</a></span>\n",
    "<ul class=\"toc-item\">\n",
    "<li><span><a href=\"#Membership\" data-toc-modified-id=\"Membership\">Membership</a></span>\n",
    "</li>\n",
    "<li><span><a href=\"#Comparison\" data-toc-modified-id=\"Comparison\">Comparison</a></span>\n",
    "</li>\n",
    "<li><span><a href=\"#Union\" data-toc-modified-id=\"Union\">Union</a></span>\n",
    "</li>\n",
    "<li><span><a href=\"#Intersect\" data-toc-modified-id=\"Intersect\">Intersect</a></span>\n",
    "</li>\n",
    "</ul>\n",
    "</li>\n",
    "<li><span><a href=\"#EXERCISE-3:-Practicing-JOINs\" data-toc-modified-id=\"EXERCISE-3:-Practicing-JOINs\">EXERCISE 3: Practicing JOINs</a></span>\n",
    "</li>\n",
    "</ul>\n",
    "</li>\n",
    "<li><span><a href=\"#Manipulating-Tables\" data-toc-modified-id=\"Manipulating-Tables\">Manipulating Tables</a></span>\n",
    "<ul class=\"toc-item\">\n",
    "<li><span><a href=\"#CREATE-TABLE\" data-toc-modified-id=\"CREATE-TABLE\">CREATE TABLE</a></span>\n",
    "</li>\n",
    "<li><span><a href=\"#DELETE\" data-toc-modified-id=\"DELETE\">DELETE</a></span>\n",
    "</li>\n",
    "<li><span><a href=\"#DROP\" data-toc-modified-id=\"DROP\">DROP</a></span>\n",
    "</li>\n",
    "<li><span><a href=\"#TRUNCATE\" data-toc-modified-id=\"TRUNCATE\">TRUNCATE</a></span>\n",
    "</li>\n",
    "<li><span><a href=\"#UPDATE\" data-toc-modified-id=\"UPDATE\">UPDATE</a></span>\n",
    "</li>\n",
    "</ul>\n",
    "</li>\n",
    "<li><span><a href=\"#Installing-SQLite-Studio\" data-toc-modified-id=\"Installing-SQLite-Studio\">Installing SQLite Studio</a></span>\n",
    "<ul class=\"toc-item\">\n",
    "<li><span><a href=\"#Installing-SQLite-Studio-on-your-laptop\" data-toc-modified-id=\"Installing-SQLite-Studio-on-your-laptop\">Installing SQLite Studio on your laptop</a></span>\n",
    "</li>\n",
    "<li><span><a href=\"#Downloading-the-Chinook-database\" data-toc-modified-id=\"Downloading-the-Chinook-database\">Downloading the Chinook database</a></span>\n",
    "</li>\n",
    "</ul>\n",
    "</li>\n",
    "<li><span><a href=\"#Resources\" data-toc-modified-id=\"Resources\">Resources</a></span>\n",
    "<ul class=\"toc-item\">\n",
    "<li><span><a href=\"#Web\" data-toc-modified-id=\"Web\">Web</a></span>\n",
    "</li>\n",
    "<li><span><a href=\"#Books\" data-toc-modified-id=\"Books\">Books</a></span>\n",
    "</li>\n",
    "</ul>\n",
    "</li>\n",
    "<li><span><a href=\"#References\" data-toc-modified-id=\"References\">References</a></span>\n",
    "</li>\n",
    "</ul>\n",
    "</div>"
   ]
  },
  {
   "cell_type": "markdown",
   "metadata": {},
   "source": [
    "# SQL Queries - A Closer Look"
   ]
  },
  {
   "cell_type": "markdown",
   "metadata": {},
   "source": [
    "In the Foundations course we introduced basic SQL queries. In this section, we will take a closer look at what can be achieved with querying clauses.\n",
    "\n",
    "First, let's load the database we will use in this notebook, the [Chinook database](https://github.com/lerocha/chinook-database), which represents a digital media store. The database contains sales and purchasing information of records and albums. The database's visual schema below shows keys, foreign keys, tables, and columns. The direction of the foreign key reference is shown with the direction of keys between tables. Primary keys are marked by key icons in the table columns. "
   ]
  },
  {
   "cell_type": "code",
   "execution_count": 1,
   "metadata": {},
   "outputs": [],
   "source": [
    "import requests\n",
    "import os\n",
    "import shutil\n",
    "import sqlite3\n",
    "import pandas as pd\n",
    "from time import sleep\n",
    "\n",
    "# Code for grabbing our sqlite file off the internet\n",
    "global dump\n",
    "\n",
    "\"\"\"\n",
    "Used to download the Chinook database.\n",
    "\"\"\"\n",
    "def download_file():\n",
    "    global dump\n",
    "    url = \"https://github.com/lerocha/chinook-database/raw/master/ChinookDatabase/DataSources/Chinook_Sqlite.sqlite\"\n",
    "    dump = requests.get(url, stream=True).raw\n",
    "\n",
    "'''\n",
    "Used to save the downloaded Chinook Database into an sqlite database file.\n",
    "'''\n",
    "def save_file():\n",
    "    global dump\n",
    "    location = os.path.relpath(\"exampledb.sqlite\")\n",
    "    with open(\"exampledb.sqlite\", 'wb') as location:\n",
    "        shutil.copyfileobj(dump, location)\n",
    "    del dump"
   ]
  },
  {
   "cell_type": "code",
   "execution_count": 2,
   "metadata": {},
   "outputs": [],
   "source": [
    "\"\"\"\n",
    "This code snippet downloads the Chinook database, connects to it, and prepares for queries to be executed.\n",
    "\"\"\"\n",
    "# Grabbing copy of database\n",
    "download_file()\n",
    "# Saving copy of database to a local file\n",
    "save_file()\n",
    "# Create a connection object that represents a database    \n",
    "conn = sqlite3.connect(\"exampledb.sqlite\")\n",
    "# Once the connection to the database is opened, we create a Cursor object to execute queries\n",
    "c = conn.cursor()"
   ]
  },
  {
   "cell_type": "markdown",
   "metadata": {},
   "source": [
    "## Aliasing"
   ]
  },
  {
   "cell_type": "markdown",
   "metadata": {},
   "source": [
    "When joining or selecting tables, it is important to specify **aliases**. This is recommended so that you do not have to write out full table and database names multiple times throughout a query.\n",
    "\n",
    "```\n",
    "-- Example : output attributes\n",
    "SELECT column_name AS column_alias\n",
    "FROM table_name\n",
    "\n",
    "-- Example : table inputs\n",
    "SELECT column_name\n",
    "FROM table_name  AS table_alias\n",
    "```"
   ]
  },
  {
   "cell_type": "code",
   "execution_count": 3,
   "metadata": {},
   "outputs": [
    {
     "data": {
      "text/plain": [
       "[(1,), (2,), (3,), (4,), (5,), (6,), (7,), (8,), (9,)]"
      ]
     },
     "execution_count": 3,
     "metadata": {},
     "output_type": "execute_result"
    }
   ],
   "source": [
    "\"\"\"\n",
    "Using an alias to query for all invoices with an id lees than 10.\n",
    "In the example below, we use alias `a` for the table `invoice`.\n",
    "\n",
    "Same as: \n",
    "SELECT invoiceid FROM invoice WHERE invoiceid < 10;\n",
    "\"\"\"\n",
    "c.execute(\"\"\"\n",
    "SELECT a.invoiceid AS invoiceid FROM invoice AS a WHERE a.invoiceid < 10;\n",
    "\"\"\")\n",
    "\n",
    "c.fetchall()"
   ]
  },
  {
   "cell_type": "markdown",
   "metadata": {},
   "source": [
    "Aliases are also useful if there are fields with the same name in different tables (e.g. a self join which we will review later in this notebook), or when creating consistent functions (e.g. procedural SQL, or complicated queries).\n",
    "\n",
    "**NOTE**: When aliasing a table you can omit the `AS`. The following statement will return the same result as the one above which uses `AS`:"
   ]
  },
  {
   "cell_type": "code",
   "execution_count": 4,
   "metadata": {},
   "outputs": [
    {
     "data": {
      "text/plain": [
       "[(1,), (2,), (3,), (4,), (5,), (6,), (7,), (8,), (9,)]"
      ]
     },
     "execution_count": 4,
     "metadata": {},
     "output_type": "execute_result"
    }
   ],
   "source": [
    "c.execute(\"\"\"\n",
    "SELECT a.invoiceid invoiceid FROM invoice a WHERE a.invoiceid < 10;\n",
    "\"\"\")\n",
    "\n",
    "c.fetchall()"
   ]
  },
  {
   "cell_type": "markdown",
   "metadata": {},
   "source": [
    "## SELECT clause"
   ]
  },
  {
   "cell_type": "markdown",
   "metadata": {},
   "source": [
    "Typically, in a `SELECT` statement, columns are specified for retrieval. However, **aliasing** allows us to use short forms. Consider the query below."
   ]
  },
  {
   "cell_type": "code",
   "execution_count": 5,
   "metadata": {},
   "outputs": [
    {
     "data": {
      "text/plain": [
       "[(1,\n",
       "  2,\n",
       "  '2009-01-01 00:00:00',\n",
       "  'Theodor-Heuss-Straße 34',\n",
       "  'Stuttgart',\n",
       "  None,\n",
       "  'Germany',\n",
       "  '70174',\n",
       "  1.98),\n",
       " (2,\n",
       "  4,\n",
       "  '2009-01-02 00:00:00',\n",
       "  'Ullevålsveien 14',\n",
       "  'Oslo',\n",
       "  None,\n",
       "  'Norway',\n",
       "  '0171',\n",
       "  3.96)]"
      ]
     },
     "execution_count": 5,
     "metadata": {},
     "output_type": "execute_result"
    }
   ],
   "source": [
    "\"\"\"\n",
    "Querying invoice table\n",
    "\"\"\"\n",
    "c.execute(\"\"\"\n",
    "SELECT * FROM invoice;\n",
    "\"\"\")\n",
    "# Here we use fetchmany() function to get only 2 records back. \n",
    "# See the NOTE below for more information.\n",
    "  \n",
    "c.fetchmany(2) "
   ]
  },
  {
   "cell_type": "markdown",
   "metadata": {},
   "source": [
    "**NOTE:** In order to reduce the size of the output &mdash; without altering the query &mdash; we've used a different fetch method for retrieving results. Refer to the following table for more details:"
   ]
  },
  {
   "cell_type": "markdown",
   "metadata": {},
   "source": [
    "| Function | Description |\n",
    "| ---: | :--- |\n",
    "| `fetchone()` | Fetches the next row of a query result set, returning a single sequence, or None when no more data is available. |\n",
    "| `fetchmany(size=cursor.arraysize)` | Fetches the next set of rows of a query result, returning a list. An empty list is returned when no more rows are available. |\n",
    "| `fetchall()` | Fetches all (remaining) rows of a query result, returning a list. Note that the cursor’s `arraysize` attribute can affect the performance of this operation. An empty list is returned when no rows are available. |\n",
    "For more details on these methods, please refer to the documentation for [`sqlite3` interface](https://docs.python.org/3/library/sqlite3.html#cursor-objects)."
   ]
  },
  {
   "cell_type": "markdown",
   "metadata": {},
   "source": [
    "The `*` notation of the `SELECT` clause returns all *columns* of tables accessed from the `FROM` clause. In the example below, the `SELECT` statement selects columns for `a` and for `b` separately even though they are the same sets of all columns from the table `invoices`. Each table in `FROM` needs its own **alias** identifier, if it has already been included in the `FROM`. Thus the column names become unique to that identifier. \n",
    "\n",
    "The following illustrates this point further where the `invoiceid` attribute is referenced."
   ]
  },
  {
   "cell_type": "code",
   "execution_count": 6,
   "metadata": {},
   "outputs": [
    {
     "data": {
      "text/plain": [
       "[(1,\n",
       "  2,\n",
       "  '2009-01-01 00:00:00',\n",
       "  'Theodor-Heuss-Straße 34',\n",
       "  'Stuttgart',\n",
       "  None,\n",
       "  'Germany',\n",
       "  '70174',\n",
       "  1.98,\n",
       "  2,\n",
       "  4,\n",
       "  '2009-01-02 00:00:00',\n",
       "  'Ullevålsveien 14',\n",
       "  'Oslo',\n",
       "  None,\n",
       "  'Norway',\n",
       "  '0171',\n",
       "  3.96),\n",
       " (1,\n",
       "  2,\n",
       "  '2009-01-01 00:00:00',\n",
       "  'Theodor-Heuss-Straße 34',\n",
       "  'Stuttgart',\n",
       "  None,\n",
       "  'Germany',\n",
       "  '70174',\n",
       "  1.98,\n",
       "  3,\n",
       "  8,\n",
       "  '2009-01-03 00:00:00',\n",
       "  'Grétrystraat 63',\n",
       "  'Brussels',\n",
       "  None,\n",
       "  'Belgium',\n",
       "  '1000',\n",
       "  5.94)]"
      ]
     },
     "execution_count": 6,
     "metadata": {},
     "output_type": "execute_result"
    }
   ],
   "source": [
    "\"\"\"\n",
    "The statement below will construct a self-joining query.\n",
    "It grabs a join/comparison of all invoices against themselves, \n",
    "but without self-comparisons (where the ids are equal).\n",
    "To simplify the query, we **alias** the tables using the alias' `a` and `b`.\n",
    "\"\"\"\n",
    "c.execute(\"\"\"\n",
    "SELECT * FROM invoice AS a, invoice AS b WHERE a.invoiceid != b.invoiceid;\n",
    "\"\"\")\n",
    "c.fetchmany(2)"
   ]
  },
  {
   "cell_type": "markdown",
   "metadata": {},
   "source": [
    "**NOTE**: Because SQL has a clear division between its querying language and any mutable operations, SQL does not (usually) make use of the double-equals operator `==` to check equality conditions."
   ]
  },
  {
   "cell_type": "markdown",
   "metadata": {},
   "source": [
    "### CASE statement"
   ]
  },
  {
   "cell_type": "markdown",
   "metadata": {},
   "source": [
    "SQL has a `CASE` expression, that comes in handy when recoding/creating new variables. It is essentially a method for creating categorical values, behaving similarly to an if-statement."
   ]
  },
  {
   "cell_type": "code",
   "execution_count": 7,
   "metadata": {},
   "outputs": [
    {
     "data": {
      "text/plain": [
       "[(1.98, 'Dig this blender!'),\n",
       " (3.96, 'Dig this blender!'),\n",
       " (5.94, 'Rainbow suspenders!'),\n",
       " (8.91, 'Rainbow suspenders!'),\n",
       " (13.86, 'Hey big spender!')]"
      ]
     },
     "execution_count": 7,
     "metadata": {},
     "output_type": "execute_result"
    }
   ],
   "source": [
    "\"\"\"\n",
    "Mapping numerical ranges to string descriptions. Could potentially be categories.\n",
    "\"\"\"\n",
    "c.execute(\"\"\"\n",
    "SELECT total, CASE WHEN total > 10  THEN 'Hey big spender!' \n",
    "    WHEN total < 5 THEN 'Dig this blender!' \n",
    "    ELSE 'Rainbow suspenders!' END\n",
    "FROM invoice;\n",
    "\"\"\")\n",
    "c.fetchmany(5)"
   ]
  },
  {
   "cell_type": "markdown",
   "metadata": {},
   "source": [
    "The `CASE` statement in SQL works like  the **functional variant** of IF-THEN-ELSE in other programming languages. It's main use is to relabel variables, regroup variables, and make continuous variables discrete.\n",
    "\n",
    "**NOTE**: There can be more than one form of if-statements in a variant of SQL. This is because the statements are actually operations defined ***per clause***."
   ]
  },
  {
   "cell_type": "markdown",
   "metadata": {},
   "source": [
    "For example, suppose you want to classify the tracks based on their length such as:\n",
    "\n",
    "- If less than a minute, the track length is \"short\"\n",
    "- Between 1 and 5 minutes, the track length is \"medium\"\n",
    "- Greater than 5 minutes, the track length is \"long\"\n",
    "\n",
    "The following query achieves this:"
   ]
  },
  {
   "cell_type": "code",
   "execution_count": 8,
   "metadata": {},
   "outputs": [
    {
     "data": {
      "text/plain": [
       "[(1, 'For Those About To Rock (We Salute You)', 'long'),\n",
       " (2, 'Balls to the Wall', 'long'),\n",
       " (3, 'Fast As a Shark', 'medium'),\n",
       " (4, 'Restless and Wild', 'medium'),\n",
       " (5, 'Princess of the Dawn', 'long')]"
      ]
     },
     "execution_count": 8,
     "metadata": {},
     "output_type": "execute_result"
    }
   ],
   "source": [
    "c.execute(\"\"\"\n",
    "SELECT trackId, name, \n",
    "CASE WHEN milliseconds < 60000 THEN 'short' \n",
    "WHEN milliseconds > 60000 AND milliseconds < 300000 THEN 'medium' \n",
    "ELSE 'long' \n",
    "END category\n",
    "FROM track;\n",
    "\"\"\")\n",
    "c.fetchmany(5)"
   ]
  },
  {
   "cell_type": "markdown",
   "metadata": {},
   "source": [
    "**NOTE**: `category` is an alias given to the `CASE` value. Otherwise, an automatically generated default name would be assigned to the resulting table's attribute."
   ]
  },
  {
   "cell_type": "markdown",
   "metadata": {},
   "source": [
    "### DISTINCT"
   ]
  },
  {
   "cell_type": "markdown",
   "metadata": {},
   "source": [
    "If a query returns duplicate records, one way to remove them is to use `DISTINCT` in the `SELECT` statement."
   ]
  },
  {
   "cell_type": "code",
   "execution_count": 9,
   "metadata": {},
   "outputs": [
    {
     "data": {
      "text/plain": [
       "[('São José dos Campos',),\n",
       " ('Stuttgart',),\n",
       " ('Montréal',),\n",
       " ('Oslo',),\n",
       " ('Prague',),\n",
       " ('Vienne',),\n",
       " ('Brussels',),\n",
       " ('Copenhagen',),\n",
       " ('São Paulo',),\n",
       " ('Rio de Janeiro',),\n",
       " ('Brasília',),\n",
       " ('Edmonton',),\n",
       " ('Vancouver',),\n",
       " ('Mountain View',),\n",
       " ('Redmond',),\n",
       " ('New York',),\n",
       " ('Cupertino',),\n",
       " ('Reno',),\n",
       " ('Orlando',),\n",
       " ('Boston',),\n",
       " ('Chicago',),\n",
       " ('Madison',),\n",
       " ('Fort Worth',),\n",
       " ('Tucson',),\n",
       " ('Salt Lake City',),\n",
       " ('Toronto',),\n",
       " ('Ottawa',),\n",
       " ('Halifax',),\n",
       " ('Winnipeg',),\n",
       " ('Yellowknife',),\n",
       " ('Lisbon',),\n",
       " ('Porto',),\n",
       " ('Berlin',),\n",
       " ('Frankfurt',),\n",
       " ('Paris',),\n",
       " ('Lyon',),\n",
       " ('Bordeaux',),\n",
       " ('Dijon',),\n",
       " ('Helsinki',),\n",
       " ('Budapest',),\n",
       " ('Dublin',),\n",
       " ('Rome',),\n",
       " ('Amsterdam',),\n",
       " ('Warsaw',),\n",
       " ('Madrid',),\n",
       " ('Stockholm',),\n",
       " ('London',),\n",
       " ('Edinburgh ',),\n",
       " ('Sidney',),\n",
       " ('Buenos Aires',),\n",
       " ('Santiago',),\n",
       " ('Delhi',),\n",
       " ('Bangalore',)]"
      ]
     },
     "execution_count": 9,
     "metadata": {},
     "output_type": "execute_result"
    }
   ],
   "source": [
    "# Try removing DISTINCT to see how large the actual results are in comparison.\n",
    "c.execute(\"\"\"\n",
    "SELECT DISTINCT city\n",
    "FROM customer;\n",
    "\"\"\")\n",
    "c.fetchall()"
   ]
  },
  {
   "cell_type": "markdown",
   "metadata": {},
   "source": [
    "**NOTE**: In some SQL variants, `DISTINCT` is multi-objective and applicable to groups of attributes. In other variants, it can be strictly a single-column operation. And, in some variants, it is strictly record specific, meaning only entire records are allowed to be unique in a query."
   ]
  },
  {
   "cell_type": "markdown",
   "metadata": {},
   "source": [
    "### Scalar functions"
   ]
  },
  {
   "cell_type": "markdown",
   "metadata": {},
   "source": [
    "SQL scalar functions return a single value, based on the input value. The functions one can expect are from the C programming language's Standard Template Library. This library is used in most systems and by most programming languages, even Python. The library gives support for all string functions, math functions, and boolean functions. This should give a sense of what is possible in not only the `SELECT` clause of SQL, but also the `WHERE`, and `HAVING` clauses as well.\n",
    "\n",
    "| ***MySQL*** Commands | Description |\n",
    "| ---: | :--- |\n",
    "| `UCASE()` or `UPPER()` | Converts a field to upper case |\n",
    "| `LCASE()` or `LOWER()` | Converts a field to lower case |\n",
    "| `MID()` | Extract characters from a text field |\n",
    "| `LEN()` | Returns the length of a text field |\n",
    "| `ROUND()` | Rounds a numeric field to the number of decimals specified |\n",
    "| `NOW()` | Returns the current system date and time |\n",
    "| `FORMAT()` | Formats how a field is to be displayed |"
   ]
  },
  {
   "cell_type": "code",
   "execution_count": 10,
   "metadata": {},
   "outputs": [
    {
     "data": {
      "text/plain": [
       "[('SãO JOSé DOS CAMPOS', 'são josé dos campos', 19),\n",
       " ('STUTTGART', 'stuttgart', 9),\n",
       " ('MONTRéAL', 'montréal', 8),\n",
       " ('OSLO', 'oslo', 4),\n",
       " ('PRAGUE', 'prague', 6)]"
      ]
     },
     "execution_count": 10,
     "metadata": {},
     "output_type": "execute_result"
    }
   ],
   "source": [
    "# NOTE: Not all DBMS's have full unicode support. \n",
    "# Letters might render properly, but `lower()` and `upper()` may not behave as intended.\n",
    "# Also note that there is no LEN() in SQLite, but there is LENGTH()\n",
    "\n",
    "c.execute(\"\"\"\n",
    "SELECT DISTINCT UPPER(city), LOWER(city), LENGTH(city) \n",
    "FROM customer;\n",
    "\"\"\")\n",
    "c.fetchmany(5)"
   ]
  },
  {
   "cell_type": "code",
   "execution_count": 11,
   "metadata": {},
   "outputs": [
    {
     "data": {
      "text/plain": [
       "[('SãO', '2023-06-15', '01:05:40', 1.0),\n",
       " ('STU', '2023-06-15', '01:05:40', 1.0),\n",
       " ('MON', '2023-06-15', '01:05:40', 1.0),\n",
       " ('OSL', '2023-06-15', '01:05:40', 1.0),\n",
       " ('PRA', '2023-06-15', '01:05:40', 1.0)]"
      ]
     },
     "execution_count": 11,
     "metadata": {},
     "output_type": "execute_result"
    }
   ],
   "source": [
    "\"\"\"\n",
    "Here we use `DATE()` and `TIME()` and the `'now'` string to show how to make calendar related values.\n",
    "(WHERE clause operators are consistent for times and dates. i.e., `<`, `>`, `=`, etc.)\n",
    "\"\"\"\n",
    "# NOTE: Not all DBMS's have the same function names. \n",
    "# Functions are technically, not a part of the SQL language standard and specification.\n",
    "c.execute(\"\"\"\n",
    "SELECT DISTINCT UPPER(SUBSTR(city, 1, 3)) AS locationCode, \n",
    "DATE('now') AS date, TIME('now') AS time, ROUND(TIME('now')) AS hour\n",
    "FROM customer;\n",
    "\"\"\")\n",
    "c.fetchmany(5)"
   ]
  },
  {
   "cell_type": "markdown",
   "metadata": {},
   "source": [
    "## WHERE clause"
   ]
  },
  {
   "cell_type": "markdown",
   "metadata": {},
   "source": [
    "All conditions in the `WHERE` clause are boolean checks. As such, the statements are of a similar form to what we've seen in previous modules.\n",
    "\n",
    "The statement below will return all rows where the invoice total is not equal to 0.99 and less than or equal 10."
   ]
  },
  {
   "cell_type": "code",
   "execution_count": 12,
   "metadata": {},
   "outputs": [
    {
     "data": {
      "text/plain": [
       "[(1,\n",
       "  2,\n",
       "  '2009-01-01 00:00:00',\n",
       "  'Theodor-Heuss-Straße 34',\n",
       "  'Stuttgart',\n",
       "  None,\n",
       "  'Germany',\n",
       "  '70174',\n",
       "  1.98),\n",
       " (2,\n",
       "  4,\n",
       "  '2009-01-02 00:00:00',\n",
       "  'Ullevålsveien 14',\n",
       "  'Oslo',\n",
       "  None,\n",
       "  'Norway',\n",
       "  '0171',\n",
       "  3.96),\n",
       " (3,\n",
       "  8,\n",
       "  '2009-01-03 00:00:00',\n",
       "  'Grétrystraat 63',\n",
       "  'Brussels',\n",
       "  None,\n",
       "  'Belgium',\n",
       "  '1000',\n",
       "  5.94),\n",
       " (4,\n",
       "  14,\n",
       "  '2009-01-06 00:00:00',\n",
       "  '8210 111 ST NW',\n",
       "  'Edmonton',\n",
       "  'AB',\n",
       "  'Canada',\n",
       "  'T6G 2C7',\n",
       "  8.91),\n",
       " (7,\n",
       "  38,\n",
       "  '2009-02-01 00:00:00',\n",
       "  'Barbarossastraße 19',\n",
       "  'Berlin',\n",
       "  None,\n",
       "  'Germany',\n",
       "  '10779',\n",
       "  1.98)]"
      ]
     },
     "execution_count": 12,
     "metadata": {},
     "output_type": "execute_result"
    }
   ],
   "source": [
    "c.execute(\"\"\"\n",
    "SELECT *\n",
    "FROM invoice\n",
    "WHERE NOT total > 10 AND total <> 0.99;\n",
    "\"\"\")\n",
    "c.fetchmany(5)"
   ]
  },
  {
   "cell_type": "markdown",
   "metadata": {},
   "source": [
    "**NOTE**: `d <> a` is the same as `d != a` which is the same as `(NOT (d = a))` or `d NOT = a`. Operations like `<=`, `>=`, `!=` (and even the ones stated prior) may not be supported. It depends on the DBMS. It is always a good idea to quickly reference the [documentation of the database system](https://www.sqlite.org/docs.html). Additionally, different DBMSs have varying development support. So it is equally important to make sure your documentation applies to your version of the DBMS being used. Some DBMSs still in popular use are *over 30 years old*."
   ]
  },
  {
   "cell_type": "markdown",
   "metadata": {},
   "source": [
    "### String pattern matching"
   ]
  },
  {
   "cell_type": "markdown",
   "metadata": {},
   "source": [
    "The `LIKE` pattern matching operator can be used in the conditional selection of the `WHERE` clause. It allows a weak form of regular expression like pattern matching. The percent sign `'%'` can be used as a wild card to match any possible string character that appears before or after the characters specified."
   ]
  },
  {
   "cell_type": "code",
   "execution_count": 13,
   "metadata": {},
   "outputs": [
    {
     "name": "stdout",
     "output_type": "stream",
     "text": [
      "output1 [(11, 'Black Label Society'), (12, 'Black Sabbath'), (169, 'Black Eyed Peas')]\n",
      "output2 [(11, 'Black Label Society'), (15, 'Buddy Guy'), (54, 'Green Day'), (66, 'Santana Feat. Eagle-Eye Cherry'), (73, 'Vinícius E Qurteto Em Cy')]\n"
     ]
    }
   ],
   "source": [
    "c.execute(\"\"\"SELECT * FROM artist WHERE name LIKE 'Bl%';\"\"\")\n",
    "output1 = c.fetchmany(5)\n",
    "c.execute(\"\"\"SELECT * FROM artist WHERE name LIKE '%y';\"\"\")\n",
    "output2 = c.fetchmany(5)\n",
    "\n",
    "print(\"output1\", output1)\n",
    "print(\"output2\", output2)"
   ]
  },
  {
   "cell_type": "code",
   "execution_count": 14,
   "metadata": {},
   "outputs": [
    {
     "data": {
      "text/plain": [
       "[(11, 'Black Label Society'),\n",
       " (15, 'Buddy Guy'),\n",
       " (54, 'Green Day'),\n",
       " (66, 'Santana Feat. Eagle-Eye Cherry'),\n",
       " (73, 'Vinícius E Qurteto Em Cy')]"
      ]
     },
     "execution_count": 14,
     "metadata": {},
     "output_type": "execute_result"
    }
   ],
   "source": [
    "output2"
   ]
  },
  {
   "cell_type": "code",
   "execution_count": 15,
   "metadata": {},
   "outputs": [
    {
     "data": {
      "text/plain": [
       "[(35, 'Pedro Luís & A Parede'),\n",
       " (64, 'Santana Feat. The Project G&B'),\n",
       " (135, 'System Of A Down'),\n",
       " (137, 'The Black Crowes'),\n",
       " (138, 'The Clash')]"
      ]
     },
     "execution_count": 15,
     "metadata": {},
     "output_type": "execute_result"
    }
   ],
   "source": [
    "# Interestingly, you can implement a quick hacky word search in this fashion.\n",
    "c.execute(\"\"\"SELECT * FROM artist WHERE name LIKE '%the %' OR name LIKE '% A %';\"\"\")\n",
    "c.fetchmany(5)"
   ]
  },
  {
   "cell_type": "markdown",
   "metadata": {},
   "source": [
    "**NOTE**: SQLite strings are single quoted. Depending on the DBMS, double quoted strings may not be interpreted as strings. This is the case for SQLite.\n",
    "\n",
    "In the first example, all columns are retrieved where `name` *starts* with the substring `'Bl'`. In the second example, all columns are retrieved where `name` *ends* with `'y'`. The `LIKE` operator is separate from regular expression checks because it is implemented using only string functions. As such, the operator scales better for very large database queries. \n",
    "\n",
    "Consider using `LIKE` where simple regular expressions are needed."
   ]
  },
  {
   "cell_type": "markdown",
   "metadata": {},
   "source": [
    "#### LIKE Statement"
   ]
  },
  {
   "cell_type": "markdown",
   "metadata": {},
   "source": [
    "The `LIKE` operator performs a basic pattern-matching using wild-card characters. *For Microsoft SQL Server*, the wild-card characters are defined as the following.\n",
    "\n",
    "| Patterns | Descriptions |\n",
    "| ---: | :--- |\n",
    "| `_` (underscore)\t| matches any single character |\n",
    "| `%` | matches a string of one or more characters |\n",
    "| `[ ]` | matches any single character within the specified range (e.g. `'[a-f]'`) or set (e.g. `'[abcdef]'`). |\n",
    "| `[^]` | matches any single character not within the specified range (e.g. `'[^a-f]'`) or set (e.g. `'[^abcdef]'`). |\n",
    "\n",
    "**NOTE**: Some features of `LIKE` may vary between DBMS vendors. Similarly, `LIKE` is not a regular expression operator. DBMSs often have a separate operator or type for matching with regular expressions."
   ]
  },
  {
   "cell_type": "code",
   "execution_count": 16,
   "metadata": {},
   "outputs": [
    {
     "data": {
      "text/plain": [
       "[(1, 'AC/DC'),\n",
       " (2, 'Accept'),\n",
       " (3, 'Aerosmith'),\n",
       " (4, 'Alanis Morissette'),\n",
       " (5, 'Alice In Chains')]"
      ]
     },
     "execution_count": 16,
     "metadata": {},
     "output_type": "execute_result"
    }
   ],
   "source": [
    "# SQLite only supports two wild card characters in `LIKE`,`_` and `%`.\n",
    "c.execute(\"\"\"SELECT * FROM artist WHERE (name NOT LIKE 'B%') AND (name NOT LIKE '___ %'); \"\"\")\n",
    "c.fetchmany(5)"
   ]
  },
  {
   "cell_type": "markdown",
   "metadata": {},
   "source": [
    "The query above finds all artists whose name does not start with `'B'` or a three letter word. If we are working with the `artist` table using the `name` column, then below are a few examples of possible `WHERE` clauses (but may depend on the database system used).\n",
    "\n",
    "| Example | Explanation |\n",
    "| ---: | :--- |\n",
    "| `WHERE Name LIKE '_2'` | finds all two-letter artist names that end with `'2'` (e.g. U2). |\n",
    "| `WHERE Name LIKE '%nic'` | finds all artists and groups whose name ends with `'nic'` (e.g. ‘Leonard Bernstein & New York Philharmonic’) |\n",
    "| `WHERE Name LIKE '%nic%'` | finds all artists and groups where name includes `'nic'` anywhere in the name (for example, in addition to the names ending with `'nic'`, it will find `'Mônica Marianno'`). |\n",
    "| `WHERE Name LIKE '[JT]im'` | finds three-letter names that end with `'im'` and begin with either `'J'` or `'T'` |\n",
    "| `WHERE Name LIKE 'M[^a]%'` | finds all names beginning with `'M'` where the following (second) letter is not `'a'`. |"
   ]
  },
  {
   "cell_type": "markdown",
   "metadata": {},
   "source": [
    "#### Membership"
   ]
  },
  {
   "cell_type": "markdown",
   "metadata": {},
   "source": [
    "In this section we look at operations relevant to sequences. While these were originally notational short forms to reduce query size, in more modern databases they are vital for working with complex attribute types, such as lists, XML, or JSON nodes. Here we focus on notations relevant to list like structures."
   ]
  },
  {
   "cell_type": "markdown",
   "metadata": {},
   "source": [
    "#### IN Statement"
   ]
  },
  {
   "cell_type": "markdown",
   "metadata": {},
   "source": [
    "Similar to the Python programming language, `IN` can be used as a way to test membership, reducing the number of equality checks required."
   ]
  },
  {
   "cell_type": "code",
   "execution_count": 17,
   "metadata": {},
   "outputs": [
    {
     "data": {
      "text/plain": [
       "[(3, 'Aerosmith'), (4, 'Alanis Morissette'), (5, 'Alice In Chains')]"
      ]
     },
     "execution_count": 17,
     "metadata": {},
     "output_type": "execute_result"
    }
   ],
   "source": [
    "c.execute(\"\"\"\n",
    "SELECT * \n",
    "FROM artist\n",
    "WHERE artistId IN (3,4,5);\n",
    "\"\"\")\n",
    "c.fetchmany(5)"
   ]
  },
  {
   "cell_type": "markdown",
   "metadata": {},
   "source": [
    "#### BETWEEN Statement"
   ]
  },
  {
   "cell_type": "markdown",
   "metadata": {},
   "source": [
    "`BETWEEN` is a range check. It should be noted though, that the numeric type of the attribute changes the nature of the range check. Thus, a real number would match against a real interval, rather than an integer sequence."
   ]
  },
  {
   "cell_type": "code",
   "execution_count": 18,
   "metadata": {},
   "outputs": [
    {
     "data": {
      "text/plain": [
       "[(37, 0.99),\n",
       " (16, 0.99),\n",
       " (54, 0.99),\n",
       " (33, 0.99),\n",
       " (12, 0.99),\n",
       " (50, 0.99),\n",
       " (29, 0.99),\n",
       " (8, 0.99),\n",
       " (46, 0.99),\n",
       " (25, 0.99),\n",
       " (4, 0.99),\n",
       " (42, 0.99),\n",
       " (21, 0.99),\n",
       " (38, 0.99),\n",
       " (17, 0.99),\n",
       " (55, 0.99),\n",
       " (34, 0.99),\n",
       " (13, 0.99),\n",
       " (51, 0.99),\n",
       " (30, 0.99),\n",
       " (9, 0.99),\n",
       " (47, 0.99),\n",
       " (26, 0.99),\n",
       " (5, 0.99),\n",
       " (43, 0.99),\n",
       " (22, 0.99),\n",
       " (1, 0.99),\n",
       " (18, 0.99),\n",
       " (56, 0.99),\n",
       " (35, 0.99),\n",
       " (14, 0.99),\n",
       " (52, 0.99),\n",
       " (31, 0.99),\n",
       " (10, 0.99),\n",
       " (48, 0.99),\n",
       " (27, 0.99),\n",
       " (6, 0.99),\n",
       " (44, 0.99),\n",
       " (23, 0.99),\n",
       " (2, 0.99),\n",
       " (40, 0.99),\n",
       " (57, 0.99),\n",
       " (36, 0.99),\n",
       " (15, 0.99),\n",
       " (53, 0.99),\n",
       " (32, 0.99),\n",
       " (11, 0.99),\n",
       " (49, 0.99),\n",
       " (28, 0.99),\n",
       " (7, 0.99),\n",
       " (45, 0.99),\n",
       " (24, 0.99),\n",
       " (3, 0.99),\n",
       " (41, 0.99),\n",
       " (20, 0.99)]"
      ]
     },
     "execution_count": 18,
     "metadata": {},
     "output_type": "execute_result"
    }
   ],
   "source": [
    "c.execute(\"\"\"\n",
    "SELECT CustomerId, Total\n",
    "FROM invoice\n",
    "WHERE total BETWEEN 0 AND 1;\n",
    "\"\"\")\n",
    "c.fetchall() # In case you were wondering why we discarded 0.99 from totals in a previous example."
   ]
  },
  {
   "cell_type": "markdown",
   "metadata": {},
   "source": [
    "## GROUP BY clause"
   ]
  },
  {
   "attachments": {
    "split-apply-combine.png": {
     "image/png": "[encoded data removed]"
    }
   },
   "cell_type": "markdown",
   "metadata": {},
   "source": [
    "`GROUP BY` is very similar to the `SELECT` clause, but the effect is that the output of the clause is a table with grouped rows. The effect is similar to indexing the table with a hierarchical tree, where the remainder of the query affects not the table but the groupings. The groupings are effectively the lowest position of the hierarchy.\n",
    "\n",
    "Grouping more generally is a mechanism providing a method to take aggregates of aggregates all within a single query. Unfortunately, `GROUP BY` by itself is only good for calculating aggregate values with the `SELECT` clause.\n",
    "\n",
    "**NOTE**: `GROUP BY` can group with multiple objectives or be grouped with nested groups, similar to an index. Throughout this module, you have likely noticed significant overlap with `pandas` data-frame operations. This isn't a coincidence. SQL is remarkably stable and robust, and the developers of `pandas` have made a conscious effort not to deviate from it. You might remember this diagram from the `pandas` module, as an illustration of aggregation and grouping:\n",
    "\n",
    "![split-apply-combine.png](attachment:split-apply-combine.png)\n",
    "\n",
    "**Source:** Aggregation and grouping, illustration of a split-apply-combine concept (McKinney, 2017)."
   ]
  },
  {
   "cell_type": "markdown",
   "metadata": {},
   "source": [
    "### Aggregate functions\n",
    "SQL aggregate functions return a single value, calculated from values in a column. The functions available depend largely on the variant of SQL used, but typically the following are available:\n",
    "\n",
    "| Function | Description (given an attribute) |\n",
    "| :---: | :--- |\n",
    "| `AVG()` | Returns the average value |\n",
    "| `COUNT()` | Returns the number of rows |\n",
    "| `FIRST()` | Returns the first value |\n",
    "| `LAST()` | Returns the last value |\n",
    "| `MAX()` | Returns the largest value |\n",
    "| `MIN()` | Returns the smallest value |\n",
    "| `SUM()` | Returns the sum |\n",
    "\n",
    "\n",
    "**NOTE**: `DISTINCT()` is technically an aggregate function, as its behaviour changes due to the grouping used. \n",
    "\n",
    "It is typically faster to perform aggregation operations like these in the database via SQL rather than returning all the records and then aggregating in memory using a language such as Python. Grouping is computed with joins (same with aggregates and sorting) and are a very expensive operation which are optimized by the DBMS. We will discuss joins in more detail shortly.\n",
    "\n",
    "```\n",
    "-- General example\n",
    "SELECT column_name, aggregate_function(column_name)\n",
    "FROM table_name\n",
    "WHERE column_name operator value\n",
    "GROUP BY column_name; \n",
    "```"
   ]
  },
  {
   "cell_type": "markdown",
   "metadata": {},
   "source": [
    "The example below will do the following:\n",
    "- Select all rows from the table `invoice` so that all calculations will be done on all records in the table\n",
    "- Calculate the following amounts based on the `total` column across all rows:\n",
    "    - Sum of all invoices in the table (1st number in the output)\n",
    "    - Average amount of the sale (2nd number in the output)\n",
    "    - Total number of invoices (3rd number in the output\n",
    "- Find the highest invoice amount (4th number in the output)\n",
    "- Find the smallest invoice amount (5th number in the output)\n"
   ]
  },
  {
   "cell_type": "code",
   "execution_count": 19,
   "metadata": {},
   "outputs": [
    {
     "data": {
      "text/plain": [
       "[(2328.600000000004, 5.651941747572825, 412, 25.86, 0.99)]"
      ]
     },
     "execution_count": 19,
     "metadata": {},
     "output_type": "execute_result"
    }
   ],
   "source": [
    "c.execute(\"\"\"\n",
    "SELECT SUM(total) AS totalSales, AVG(total) AS averageSale, \n",
    "COUNT(total) AS totalInvoices, MAX(total) AS highestSale, MIN(total) AS smallestSale\n",
    "FROM invoice;\n",
    "\"\"\")\n",
    "c.fetchall()"
   ]
  },
  {
   "cell_type": "markdown",
   "metadata": {},
   "source": [
    "## HAVING clause"
   ]
  },
  {
   "cell_type": "markdown",
   "metadata": {},
   "source": [
    "The `HAVING` clause is strictly for conditions containing aggregate functions, or conditions concerning attributes used in `GROUP BY`. It is essentially another `WHERE` clause, but for filtering on groups, or retrieving records within groups meeting aggregate thresholds and conditions. The `HAVING` clause was added because the `WHERE` keyword could not be used with aggregate functions.\n",
    "\n",
    "```\n",
    "-- General Form\n",
    "SELECT column_name, aggregate_function(column_name)\n",
    "ROM table_name\n",
    "WHERE column_name operator value\n",
    "GROUP BY column_name\n",
    "HAVING aggregate_function(column_name) operator value; \n",
    "```"
   ]
  },
  {
   "cell_type": "code",
   "execution_count": 20,
   "metadata": {},
   "outputs": [
    {
     "data": {
      "text/plain": [
       "[(6,), (7,), (24,), (25,), (26,), (28,), (37,), (44,), (45,), (46,), (57,)]"
      ]
     },
     "execution_count": 20,
     "metadata": {},
     "output_type": "execute_result"
    }
   ],
   "source": [
    "# Ignoring minor purchases, find big spenders, and return all repeating customers.\n",
    "\n",
    "c.execute(\"\"\"\n",
    "SELECT DISTINCT customerid\n",
    "FROM invoice\n",
    "WHERE total > 1\n",
    "GROUP BY customerid\n",
    "HAVING SUM(total) > 40 AND COUNT(customerid) > 5;\n",
    "\"\"\")\n",
    "c.fetchall()"
   ]
  },
  {
   "cell_type": "markdown",
   "metadata": {},
   "source": [
    "## EXERCISE 2: Breaking down the SQL queries"
   ]
  },
  {
   "cell_type": "markdown",
   "metadata": {},
   "source": [
    "In this exercise, we will practice all the concepts we have learned so far in this module by writing SQL queries."
   ]
  },
  {
   "cell_type": "markdown",
   "metadata": {
    "collapsed": true
   },
   "source": [
    "**Task 1:** Write an SQL query to retrieve all records from the `track` table where the composer name contains the string `Smith` anywhere within the field `composer` and the length of the track is equal or greater than 6 minutes. The query should return 3 columns: composer name, name of the track, and track length."
   ]
  },
  {
   "cell_type": "code",
   "execution_count": 21,
   "metadata": {},
   "outputs": [
    {
     "data": {
      "text/plain": [
       "[('Deaffy & R.A. Smith-Diesel', 'Princess of the Dawn', 375418),\n",
       " ('Adrian Smith/Steve Harris', 'Paschendale', 508107),\n",
       " ('Adrian Smith/Bruce Dickinson/Steve Harris', 'Face In The Sand', 391105),\n",
       " ('Smith/Dickinson', '2 Minutes To Midnight', 366550),\n",
       " ('Adrian Smith/Bruce Dickinson', '2 Minutes To Midnight', 386821),\n",
       " ('Adrian Smith/Steve Harris', '22 Acacia Avenue', 395572),\n",
       " ('Adrian Smith/Steve Harris', 'The Prisoner', 361299),\n",
       " ('Smith, Toby', 'Too Young To Die', 365818),\n",
       " ('Smith, Toby', 'Music Of The Wind', 383033),\n",
       " ('Smith, Toby', 'Blow Your Mind', 512339),\n",
       " ('Smith, Toby', 'Revolution 1993', 616829),\n",
       " ('Toby Smith', 'Just Another Story', 529684),\n",
       " ('Toby Smith', 'Manifest Destiny', 382197),\n",
       " ('Anthony Kiedis/Chad Smith/Flea/John Frusciante', 'Sir Psycho Sexy', 496692),\n",
       " ('Anthony Kiedis, Flea, John Frusciante, and Chad Smith',\n",
       "  'Venice Queen',\n",
       "  369110),\n",
       " ('Astor Campbell, Delroy \"Chris\" Cooper, Donovan Jackson, Dorothy Fields, Earl Chinna Smith, Felix Howard, Gordon Williams, James Moody, Jimmy McHugh, Matt Rowe, Salaam Remi & Stefan Skarbek',\n",
       "  'Amy Amy Amy (Outro)',\n",
       "  663426)]"
      ]
     },
     "execution_count": 21,
     "metadata": {},
     "output_type": "execute_result"
    }
   ],
   "source": [
    "c.execute(\"\"\"\n",
    "SELECT composer, name, milliseconds  \n",
    "FROM track\n",
    "WHERE composer LIKE \"%Smith%\" AND milliseconds >= 360000;\"\"\")\n",
    "c.fetchall()"
   ]
  },
  {
   "cell_type": "code",
   "execution_count": null,
   "metadata": {},
   "outputs": [],
   "source": []
  },
  {
   "cell_type": "markdown",
   "metadata": {},
   "source": [
    "**Task 2:** We want to know the names of companies that our customers represent. This information can be found in the table `customer`. Generate a list of all company names, the list should not contain any duplicates."
   ]
  },
  {
   "cell_type": "code",
   "execution_count": 22,
   "metadata": {},
   "outputs": [
    {
     "data": {
      "text/plain": [
       "[(0, 'CustomerId', 'INTEGER', 1, None, 1),\n",
       " (1, 'FirstName', 'NVARCHAR(40)', 1, None, 0),\n",
       " (2, 'LastName', 'NVARCHAR(20)', 1, None, 0),\n",
       " (3, 'Company', 'NVARCHAR(80)', 0, None, 0),\n",
       " (4, 'Address', 'NVARCHAR(70)', 0, None, 0),\n",
       " (5, 'City', 'NVARCHAR(40)', 0, None, 0),\n",
       " (6, 'State', 'NVARCHAR(40)', 0, None, 0),\n",
       " (7, 'Country', 'NVARCHAR(40)', 0, None, 0),\n",
       " (8, 'PostalCode', 'NVARCHAR(10)', 0, None, 0),\n",
       " (9, 'Phone', 'NVARCHAR(24)', 0, None, 0),\n",
       " (10, 'Fax', 'NVARCHAR(24)', 0, None, 0),\n",
       " (11, 'Email', 'NVARCHAR(60)', 1, None, 0),\n",
       " (12, 'SupportRepId', 'INTEGER', 0, None, 0)]"
      ]
     },
     "execution_count": 22,
     "metadata": {},
     "output_type": "execute_result"
    }
   ],
   "source": [
    "# get column names and descriptions\n",
    "c.execute('PRAGMA table_info(customer)')\n",
    "c.fetchall()"
   ]
  },
  {
   "cell_type": "code",
   "execution_count": 23,
   "metadata": {},
   "outputs": [
    {
     "data": {
      "text/plain": [
       "[('Embraer - Empresa Brasileira de Aeronáutica S.A.',),\n",
       " (None,),\n",
       " ('JetBrains s.r.o.',),\n",
       " ('Woodstock Discos',),\n",
       " ('Banco do Brasil S.A.',),\n",
       " ('Riotur',),\n",
       " ('Telus',),\n",
       " ('Rogers Canada',),\n",
       " ('Google Inc.',),\n",
       " ('Microsoft Corporation',),\n",
       " ('Apple Inc.',)]"
      ]
     },
     "execution_count": 23,
     "metadata": {},
     "output_type": "execute_result"
    }
   ],
   "source": [
    "c.execute(\"\"\"\n",
    "SELECT DISTINCT company FROM customer;\n",
    "\"\"\")\n",
    "c.fetchall()"
   ]
  },
  {
   "cell_type": "markdown",
   "metadata": {},
   "source": [
    "**Task 3:** Write an SQL query to generate a list of all customers who are from Canada or Germany. The list should contain first and last names of the customer and the country they are from. The list should be sorted by the last name of the customer and the country. *(**Hint:** you might want to look into the [`ORDER BY` clause](https://www.sqlite.org/lang_select.html#orderby) for the last requirement of this task.)*"
   ]
  },
  {
   "cell_type": "code",
   "execution_count": 24,
   "metadata": {},
   "outputs": [
    {
     "data": {
      "text/plain": [
       "[('Robert', 'Brown', 'Canada'),\n",
       " ('Edward', 'Francis', 'Canada'),\n",
       " ('Leonie', 'Köhler', 'Germany'),\n",
       " ('Aaron', 'Mitchell', 'Canada'),\n",
       " ('Jennifer', 'Peterson', 'Canada'),\n",
       " ('Mark', 'Philips', 'Canada'),\n",
       " ('Hannah', 'Schneider', 'Germany'),\n",
       " ('Niklas', 'Schröder', 'Germany'),\n",
       " ('Martha', 'Silk', 'Canada'),\n",
       " ('Ellie', 'Sullivan', 'Canada'),\n",
       " ('François', 'Tremblay', 'Canada'),\n",
       " ('Fynn', 'Zimmermann', 'Germany')]"
      ]
     },
     "execution_count": 24,
     "metadata": {},
     "output_type": "execute_result"
    }
   ],
   "source": [
    "c.execute(\"\"\"\n",
    "SELECT firstname, lastname, country FROM customer\n",
    "WHERE country = 'Canada' OR country = 'Germany'\n",
    "ORDER BY lastname ASC, country;\n",
    "\"\"\")\n",
    "c.fetchall()"
   ]
  },
  {
   "cell_type": "code",
   "execution_count": null,
   "metadata": {},
   "outputs": [],
   "source": []
  },
  {
   "cell_type": "markdown",
   "metadata": {},
   "source": [
    "**Task 4:** What if we want to know how many tracks are in each and every album and which albums have the highest number of tracks? We will need to look again at the `track` table which contains `trackid` (the primary key) and `albumid` (a foreign key). Create an SQL query which will output the top 10 album IDs that have the highest number of tracks. The output should also contain composer name."
   ]
  },
  {
   "cell_type": "code",
   "execution_count": 25,
   "metadata": {},
   "outputs": [
    {
     "data": {
      "text/plain": [
       "[(0, 'TrackId', 'INTEGER', 1, None, 1),\n",
       " (1, 'Name', 'NVARCHAR(200)', 1, None, 0),\n",
       " (2, 'AlbumId', 'INTEGER', 0, None, 0),\n",
       " (3, 'MediaTypeId', 'INTEGER', 1, None, 0),\n",
       " (4, 'GenreId', 'INTEGER', 0, None, 0),\n",
       " (5, 'Composer', 'NVARCHAR(220)', 0, None, 0),\n",
       " (6, 'Milliseconds', 'INTEGER', 1, None, 0),\n",
       " (7, 'Bytes', 'INTEGER', 0, None, 0),\n",
       " (8, 'UnitPrice', 'NUMERIC(10,2)', 1, None, 0)]"
      ]
     },
     "execution_count": 25,
     "metadata": {},
     "output_type": "execute_result"
    }
   ],
   "source": [
    "c.execute('PRAGMA table_info(track)')\n",
    "c.fetchall()"
   ]
  },
  {
   "cell_type": "code",
   "execution_count": 26,
   "metadata": {},
   "outputs": [
    {
     "data": {
      "text/plain": [
       "[(141, 'Craig Ross/Lenny Kravitz', 57),\n",
       " (23, None, 34),\n",
       " (73, 'Eric Clapton', 30),\n",
       " (229, None, 26),\n",
       " (230, None, 25),\n",
       " (251, None, 25),\n",
       " (83, 'claude françois/gilles thibault/jacques revaux/paul anka', 24),\n",
       " (231, None, 24),\n",
       " (253, None, 24),\n",
       " (24, 'Chico Science', 23)]"
      ]
     },
     "execution_count": 26,
     "metadata": {},
     "output_type": "execute_result"
    }
   ],
   "source": [
    "c.execute(\"\"\"\n",
    "SELECT albumid, composer, COUNT(trackid)\n",
    "FROM track\n",
    "GROUP BY albumid\n",
    "ORDER BY COUNT(trackid) DESC LIMIT 10;\n",
    "\"\"\")\n",
    "c.fetchall()"
   ]
  },
  {
   "cell_type": "markdown",
   "metadata": {},
   "source": [
    "**Solutions**"
   ]
  },
  {
   "cell_type": "markdown",
   "metadata": {},
   "source": [
    "**Task 1:** This is a simple `SELECT` statement with two conditions after the `WHERE` clause which we need to connect with an `AND`. The first condition is to find all rows where the `composer` field contains the string `Smith` anywhere within the composer name. The second condition is the length of the track, `>= 6 minutes`. We have to remember that the values in this column are not in minutes but in milliseconds, hence we are searching for all records where the value of `milliseconds` is equal or greater than `36000`."
   ]
  },
  {
   "cell_type": "code",
   "execution_count": 27,
   "metadata": {},
   "outputs": [
    {
     "data": {
      "text/plain": [
       "[('Deaffy & R.A. Smith-Diesel', 'Princess of the Dawn', 375418),\n",
       " ('Adrian Smith/Steve Harris', 'Paschendale', 508107),\n",
       " ('Adrian Smith/Bruce Dickinson/Steve Harris', 'Face In The Sand', 391105),\n",
       " ('Smith/Dickinson', '2 Minutes To Midnight', 366550),\n",
       " ('Adrian Smith/Bruce Dickinson', '2 Minutes To Midnight', 386821),\n",
       " ('Adrian Smith/Steve Harris', '22 Acacia Avenue', 395572),\n",
       " ('Adrian Smith/Steve Harris', 'The Prisoner', 361299),\n",
       " ('Smith, Toby', 'Too Young To Die', 365818),\n",
       " ('Smith, Toby', 'Music Of The Wind', 383033),\n",
       " ('Smith, Toby', 'Blow Your Mind', 512339),\n",
       " ('Smith, Toby', 'Revolution 1993', 616829),\n",
       " ('Toby Smith', 'Just Another Story', 529684),\n",
       " ('Toby Smith', 'Manifest Destiny', 382197),\n",
       " ('Anthony Kiedis/Chad Smith/Flea/John Frusciante', 'Sir Psycho Sexy', 496692),\n",
       " ('Anthony Kiedis, Flea, John Frusciante, and Chad Smith',\n",
       "  'Venice Queen',\n",
       "  369110),\n",
       " ('Astor Campbell, Delroy \"Chris\" Cooper, Donovan Jackson, Dorothy Fields, Earl Chinna Smith, Felix Howard, Gordon Williams, James Moody, Jimmy McHugh, Matt Rowe, Salaam Remi & Stefan Skarbek',\n",
       "  'Amy Amy Amy (Outro)',\n",
       "  663426)]"
      ]
     },
     "execution_count": 27,
     "metadata": {},
     "output_type": "execute_result"
    }
   ],
   "source": [
    "c.execute(\"\"\"\n",
    "SELECT composer, name, milliseconds  \n",
    "FROM track\n",
    "WHERE composer LIKE \"%Smith%\" AND milliseconds >= 360000;\"\"\")\n",
    "c.fetchall()"
   ]
  },
  {
   "cell_type": "markdown",
   "metadata": {},
   "source": [
    "**Task 2:** This query is utilizing the `DISTINCT` statement to make sure we have unique values. Please note that one of the values is `NULL`, this means that this column in the table contains `NULL` values. "
   ]
  },
  {
   "cell_type": "code",
   "execution_count": 28,
   "metadata": {},
   "outputs": [
    {
     "data": {
      "text/plain": [
       "[('Embraer - Empresa Brasileira de Aeronáutica S.A.',),\n",
       " (None,),\n",
       " ('JetBrains s.r.o.',),\n",
       " ('Woodstock Discos',),\n",
       " ('Banco do Brasil S.A.',),\n",
       " ('Riotur',),\n",
       " ('Telus',),\n",
       " ('Rogers Canada',),\n",
       " ('Google Inc.',),\n",
       " ('Microsoft Corporation',),\n",
       " ('Apple Inc.',)]"
      ]
     },
     "execution_count": 28,
     "metadata": {},
     "output_type": "execute_result"
    }
   ],
   "source": [
    "c.execute(\"\"\"\n",
    "SELECT DISTINCT company\n",
    "FROM customer;\"\"\")\n",
    "c.fetchall()"
   ]
  },
  {
   "cell_type": "markdown",
   "metadata": {},
   "source": [
    "**Task 3:** For this task, we will use the `SELECT` clause, `IN` statement, and `ORDER BY` clause:"
   ]
  },
  {
   "cell_type": "code",
   "execution_count": 29,
   "metadata": {},
   "outputs": [
    {
     "data": {
      "text/plain": [
       "[('Robert', 'Brown', 'Canada'),\n",
       " ('Edward', 'Francis', 'Canada'),\n",
       " ('Aaron', 'Mitchell', 'Canada'),\n",
       " ('Jennifer', 'Peterson', 'Canada'),\n",
       " ('Mark', 'Philips', 'Canada'),\n",
       " ('Martha', 'Silk', 'Canada'),\n",
       " ('Ellie', 'Sullivan', 'Canada'),\n",
       " ('François', 'Tremblay', 'Canada'),\n",
       " ('Leonie', 'Köhler', 'Germany'),\n",
       " ('Hannah', 'Schneider', 'Germany'),\n",
       " ('Niklas', 'Schröder', 'Germany'),\n",
       " ('Fynn', 'Zimmermann', 'Germany')]"
      ]
     },
     "execution_count": 29,
     "metadata": {},
     "output_type": "execute_result"
    }
   ],
   "source": [
    "c.execute(\"\"\"\n",
    "SELECT firstname, lastname, country\n",
    "FROM customer\n",
    "WHERE country IN ('Canada', 'Germany') order by country, lastname;\n",
    "\"\"\")\n",
    "c.fetchall()"
   ]
  },
  {
   "cell_type": "markdown",
   "metadata": {},
   "source": [
    "As you can see, the customers' list is sorted by last name first, then by country name. All customers are either from Canada or Germany."
   ]
  },
  {
   "cell_type": "markdown",
   "metadata": {},
   "source": [
    "**Task 4:** This query will use the following clauses and statements:\n",
    "- `GROUP BY` clause to group the rows by `albumid`, because all tracks from the same album will have the same album ID number\n",
    "- `COUNT()` to calculate the number of tracks per album within each group\n",
    "- `ORDER BY`, to sort by descending order with `DESC`\n",
    "- `LIMIT 10` to output only 10 rows\n",
    "\n",
    "It would be better to see the album name, not just the album ID. The album name can be found in the `album` table. In the next section we will learn how to retrieve data across multiple tables."
   ]
  },
  {
   "cell_type": "code",
   "execution_count": 30,
   "metadata": {},
   "outputs": [
    {
     "data": {
      "text/plain": [
       "[(141, 'Craig Ross/Lenny Kravitz', 57),\n",
       " (23, None, 34),\n",
       " (73, 'Eric Clapton', 30),\n",
       " (229, None, 26),\n",
       " (230, None, 25),\n",
       " (251, None, 25),\n",
       " (83, 'claude françois/gilles thibault/jacques revaux/paul anka', 24),\n",
       " (231, None, 24),\n",
       " (253, None, 24),\n",
       " (24, 'Chico Science', 23)]"
      ]
     },
     "execution_count": 30,
     "metadata": {},
     "output_type": "execute_result"
    }
   ],
   "source": [
    "c.execute(\"\"\"\n",
    "SELECT albumid, composer, COUNT(trackid)\n",
    "FROM track\n",
    "GROUP BY albumid\n",
    "ORDER BY COUNT(trackid) DESC LIMIT 10;\n",
    "\"\"\")\n",
    "c.fetchall()"
   ]
  },
  {
   "cell_type": "markdown",
   "metadata": {},
   "source": [
    "# SQL Joins"
   ]
  },
  {
   "cell_type": "markdown",
   "metadata": {},
   "source": [
    "**Joins** in SQL allow the user to select columns across multiple tables simultaneously.\n",
    "\n",
    "ANSI-standard SQL specifies five types of joins: \n",
    "\n",
    "| Type | Description |\n",
    "| :---: | :--- |\n",
    "| `INNER JOIN` / `JOIN` | Returns rows when there is a match in both tables |\n",
    "| `LEFT OUTER JOIN` | Returns all rows from the left table even if there are no matches in the right table, fills missing data with NULLs |\n",
    "| `RIGHT OUTER JOIN` | Returns all rows from the right table even if there are no matches in the left table, fills missing data with NULLs |\n",
    "| `FULL OUTER JOIN` | Combines left and right outer joins. The joined table will contain all records from both tables, and fill in NULLs for missing matches on either side. |\n",
    "| `CROSS JOIN` | Returns the Cartesian product of the sets of records from the two or more joined tables. Equivalent to using normal `FROM` clause (i.e. all possible row combination, regardless of matching attributes). |\n",
    "\n",
    "**NOTE:** A \"self-join\" is used to join a table to itself as if the table were two tables, requiring renaming/aliasing at least one table reference in the SQL statement.\n",
    "\n",
    "An SQL `JOIN` clause combines columns from one or more tables in a relational database.  A `JOIN` is a means for combining columns from one or more tables by using values common to each and allows us to create more descriptive views of the data."
   ]
  },
  {
   "cell_type": "markdown",
   "metadata": {},
   "source": [
    "## Join cases"
   ]
  },
  {
   "cell_type": "markdown",
   "metadata": {},
   "source": [
    "Why all the different types of join cases? The reasoning boils down to query efficiency. It is not a stretch to say that most modern database management systems are literally compilers that handle outside of memory operations. As such, different joins, the skewness/size-difference of the tables being joined, the indexes on the table, all have a significant affect on performance. While the DBMS does its best to optimize queries, *joins are the most expensive operation* for databases to perform from a system performance perspective. Hence, selecting the correct type of join can make an order-of-magnitude difference in performance."
   ]
  },
  {
   "cell_type": "markdown",
   "metadata": {},
   "source": [
    "### Join"
   ]
  },
  {
   "cell_type": "markdown",
   "metadata": {},
   "source": [
    "A simple `JOIN` returns all rows from multiple tables where the join condition is met. In general, it is a good practice to specify the type of join you need.\n",
    "\n",
    "The query below will return the list of track names with the album title."
   ]
  },
  {
   "cell_type": "code",
   "execution_count": 31,
   "metadata": {},
   "outputs": [
    {
     "data": {
      "text/plain": [
       "3503"
      ]
     },
     "execution_count": 31,
     "metadata": {},
     "output_type": "execute_result"
    }
   ],
   "source": [
    "c.execute(\"\"\"\n",
    "SELECT a.TrackId, a.Name, b.Title \n",
    "FROM track a JOIN album b\n",
    "ON a.AlbumId = b.AlbumId;\n",
    "\"\"\")\n",
    "outputInnerJoin = c.fetchall()\n",
    "# The size of the join. Same as the number of returned records.\n",
    "len(outputInnerJoin)"
   ]
  },
  {
   "cell_type": "markdown",
   "metadata": {},
   "source": [
    "You could also write a statement like this:"
   ]
  },
  {
   "cell_type": "code",
   "execution_count": 32,
   "metadata": {},
   "outputs": [
    {
     "data": {
      "text/plain": [
       "3503"
      ]
     },
     "execution_count": 32,
     "metadata": {},
     "output_type": "execute_result"
    }
   ],
   "source": [
    "c.execute(\"\"\"\n",
    "SELECT a.TrackId, a.Name, b.Title \n",
    "FROM track a, album b\n",
    "WHERE a.AlbumId = b.AlbumId;\n",
    "\"\"\")\n",
    "outputStandardJoin = c.fetchall()\n",
    "# The size of the join. Same as the number of returned records.\n",
    "len(outputStandardJoin)"
   ]
  },
  {
   "cell_type": "markdown",
   "metadata": {},
   "source": [
    "The result will be the same, but typically the second example will create all possible combinations of data from both tables, and then filter based on the condition. This depends on the complexity of query planning and how the planner interacts with indexes. The example with the (`INNER`) `JOIN` has better performance, but the DBMS query planning algorithm does help limit the consequences of poor join choices."
   ]
  },
  {
   "cell_type": "markdown",
   "metadata": {},
   "source": [
    "### Left Join"
   ]
  },
  {
   "cell_type": "markdown",
   "metadata": {},
   "source": [
    "`LEFT JOIN` and `RIGHT JOIN` are the same type of join. The table order is simply reversed. The main purpose for these joins is to differentiate optional records when acting over *one-to-many (1:N) or many-to-one (N:1)* relationships, respectively. Although, nothing is stopping the join from being used for many-to-many relationships. The main difference between these joins and simple joins lies in how they show missing information. Simple joins do not materialize records without matches, while `LEFT JOIN` (`RIGHT JOIN`) will display at least one record with missing match values from the second (first) table being substituted with `NULL` values."
   ]
  },
  {
   "cell_type": "markdown",
   "metadata": {},
   "source": [
    "**Example: LEFT JOIN**"
   ]
  },
  {
   "cell_type": "code",
   "execution_count": 33,
   "metadata": {},
   "outputs": [
    {
     "data": {
      "text/plain": [
       "418"
      ]
     },
     "execution_count": 33,
     "metadata": {},
     "output_type": "execute_result"
    }
   ],
   "source": [
    "c.execute(\"\"\"\n",
    "SELECT \n",
    "   artist.ArtistId, \n",
    "   albumId\n",
    "FROM artist\n",
    "LEFT JOIN album \n",
    "ON album.ArtistId = artist.ArtistId\n",
    "ORDER BY AlbumId;\n",
    "\"\"\")\n",
    "outputLeftJoin = c.fetchall()\n",
    "len(outputLeftJoin)"
   ]
  },
  {
   "cell_type": "markdown",
   "metadata": {},
   "source": [
    "One album belongs to one artist. However, one artist may have zero or more albums.\n",
    "We can find the artists who do not have any albums by using the `LEFT JOIN` clause. We select artists and their corresponding albums. If an artist does not have any albums, then `AlbumId` will be `NULL`. The `LEFT JOIN` keyword returns *all records from the left table*, and the matched records from the right table. The result is `NULL` from the right side, if there is no match.\n",
    "\n",
    "Thus, all artists who have no albums will be returned."
   ]
  },
  {
   "cell_type": "code",
   "execution_count": 34,
   "metadata": {},
   "outputs": [
    {
     "data": {
      "text/plain": [
       "71"
      ]
     },
     "execution_count": 34,
     "metadata": {},
     "output_type": "execute_result"
    }
   ],
   "source": [
    "c.execute(\"\"\"\n",
    "SELECT artist.ArtistId, AlbumId\n",
    "FROM artist\n",
    "LEFT JOIN album ON album.ArtistId = artist.ArtistId\n",
    "WHERE AlbumId IS NULL;\n",
    "\"\"\")\n",
    "outputLeftJoinNull = c.fetchall()\n",
    "len(outputLeftJoinNull)"
   ]
  },
  {
   "cell_type": "markdown",
   "metadata": {},
   "source": [
    "### Self Join"
   ]
  },
  {
   "cell_type": "markdown",
   "metadata": {},
   "source": [
    "The self-join is a special kind of join that allows you to join a table to itself using any `JOIN` clause. A self-join is normally used to create a result set that joins rows with other rows within the same table. The main purpose for such an operation is to materialize unary relationships with itself. Since the same table cannot be referred to more than once in a query, you need to use a table alias to assign a different name when using a self-join."
   ]
  },
  {
   "cell_type": "markdown",
   "metadata": {},
   "source": [
    "**Example of self join**"
   ]
  },
  {
   "cell_type": "code",
   "execution_count": 35,
   "metadata": {},
   "outputs": [
    {
     "data": {
      "text/plain": [
       "[('Andrew Adams', 'Nancy Edwards'),\n",
       " ('Andrew Adams', 'Michael Mitchell'),\n",
       " ('Michael Mitchell', 'Robert King'),\n",
       " ('Michael Mitchell', 'Laura Callahan'),\n",
       " ('Nancy Edwards', 'Jane Peacock'),\n",
       " ('Nancy Edwards', 'Margaret Park'),\n",
       " ('Nancy Edwards', 'Steve Johnson')]"
      ]
     },
     "execution_count": 35,
     "metadata": {},
     "output_type": "execute_result"
    }
   ],
   "source": [
    "c.execute(\"\"\"\n",
    "SELECT \n",
    "m.FirstName || ' ' || m.LastName AS manager,\n",
    "e.FirstName || ' ' || e.LastName AS directReport\n",
    "FROM employee e\n",
    "INNER JOIN employee m \n",
    "ON m.EmployeeId = e.ReportsTo\n",
    "ORDER BY manager;\n",
    "\"\"\")\n",
    "outputSelfJoin = c.fetchall()\n",
    "outputSelfJoin"
   ]
  },
  {
   "cell_type": "markdown",
   "metadata": {},
   "source": [
    "The first column in the output is the manager name, the second column is the name of their direct report."
   ]
  },
  {
   "cell_type": "markdown",
   "metadata": {},
   "source": [
    "The `employees` table stores not only employee data but also organizational data. The `ReportsTo` column specifies the reporting relationship between employees. If an employee reports to a manager, the value of `ReportsTo` for the employees row is equal to the value of the `EmployeeId` for the managers row. In case an employee does not report to anyone, the `ReportsTo` column is `NULL`.\n",
    "\n",
    "**NOTES**: \n",
    "1. CEO does not report to anyone. If we used `LEFT JOIN` instead of `INNER JOIN`, we would see the CEO's name in the output with `NULL` in the `Manager` column. See the modified query below.\n",
    "2. The `||` operator concatenates one or more strings into a single string."
   ]
  },
  {
   "cell_type": "code",
   "execution_count": 36,
   "metadata": {},
   "outputs": [
    {
     "data": {
      "text/plain": [
       "[(None, 'Andrew Adams'),\n",
       " ('Andrew Adams', 'Nancy Edwards'),\n",
       " ('Andrew Adams', 'Michael Mitchell'),\n",
       " ('Michael Mitchell', 'Robert King'),\n",
       " ('Michael Mitchell', 'Laura Callahan'),\n",
       " ('Nancy Edwards', 'Jane Peacock'),\n",
       " ('Nancy Edwards', 'Margaret Park'),\n",
       " ('Nancy Edwards', 'Steve Johnson')]"
      ]
     },
     "execution_count": 36,
     "metadata": {},
     "output_type": "execute_result"
    }
   ],
   "source": [
    "c.execute(\"\"\"\n",
    "SELECT \n",
    "m.FirstName || ' ' || m.LastName AS manager,\n",
    "e.FirstName || ' ' || e.LastName AS directReport\n",
    "FROM employee e\n",
    "LEFT JOIN employee m \n",
    "ON m.EmployeeId = e.ReportsTo\n",
    "ORDER BY manager;\n",
    "\"\"\")\n",
    "c.fetchall()"
   ]
  },
  {
   "cell_type": "markdown",
   "metadata": {},
   "source": [
    "## Set clauses"
   ]
  },
  {
   "cell_type": "markdown",
   "metadata": {},
   "source": [
    "Set operations are applicable to tables. Their behaviour is fairly easy to predict, and intuitive.  A list of records could implement a set of records if duplicate records are not allowed.\n",
    "\n",
    "Most set operators tend to have both a version allowing duplicates (i.e. a list operation) and a version enforcing distinctness (i.e. a true set operation)."
   ]
  },
  {
   "cell_type": "markdown",
   "metadata": {},
   "source": [
    "### Membership"
   ]
  },
  {
   "cell_type": "markdown",
   "metadata": {},
   "source": [
    "As discussed before, membership can be tested in a `WHERE` clause to reduce the effort of equality checks. Similarly, we've briefly mentioned the ability to use nested queries. We are now able to expand properly on the topic without confusion. How do we check that a value is present in a table, list or sub-query? \n",
    "\n",
    "All of the above are modeled as a list. Thus, they all use the same syntax, `IN`."
   ]
  },
  {
   "cell_type": "code",
   "execution_count": 37,
   "metadata": {},
   "outputs": [
    {
     "data": {
      "text/plain": [
       "[(2, 'Balls to the Wall', 2, 2, 1, None, 342562, 5510424, 0.99),\n",
       " (3,\n",
       "  'Fast As a Shark',\n",
       "  3,\n",
       "  2,\n",
       "  1,\n",
       "  'F. Baltes, S. Kaufman, U. Dirkscneider & W. Hoffman',\n",
       "  230619,\n",
       "  3990994,\n",
       "  0.99),\n",
       " (4,\n",
       "  'Restless and Wild',\n",
       "  3,\n",
       "  2,\n",
       "  1,\n",
       "  'F. Baltes, R.A. Smith-Diesel, S. Kaufman, U. Dirkscneider & W. Hoffman',\n",
       "  252051,\n",
       "  4331779,\n",
       "  0.99)]"
      ]
     },
     "execution_count": 37,
     "metadata": {},
     "output_type": "execute_result"
    }
   ],
   "source": [
    "# This query returns 3 rows, where track id equals to 2, 3 or 4\n",
    "\n",
    "c.execute(\"\"\"\n",
    "SELECT *\n",
    "FROM track\n",
    "WHERE trackid IN (2,4,3);\n",
    "\"\"\")\n",
    "\n",
    "c.fetchall()"
   ]
  },
  {
   "cell_type": "code",
   "execution_count": 38,
   "metadata": {},
   "outputs": [
    {
     "data": {
      "text/plain": [
       "[(1,\n",
       "  'For Those About To Rock (We Salute You)',\n",
       "  1,\n",
       "  1,\n",
       "  1,\n",
       "  'Angus Young, Malcolm Young, Brian Johnson',\n",
       "  343719,\n",
       "  11170334,\n",
       "  0.99),\n",
       " (6,\n",
       "  'Put The Finger On You',\n",
       "  1,\n",
       "  1,\n",
       "  1,\n",
       "  'Angus Young, Malcolm Young, Brian Johnson',\n",
       "  205662,\n",
       "  6713451,\n",
       "  0.99),\n",
       " (7,\n",
       "  \"Let's Get It Up\",\n",
       "  1,\n",
       "  1,\n",
       "  1,\n",
       "  'Angus Young, Malcolm Young, Brian Johnson',\n",
       "  233926,\n",
       "  7636561,\n",
       "  0.99)]"
      ]
     },
     "execution_count": 38,
     "metadata": {},
     "output_type": "execute_result"
    }
   ],
   "source": [
    "'''\n",
    "This is a nested query. \n",
    "First, the inner query within the brackets is executed to select the first 3 track IDs.\n",
    "The outer query then returns all columns from the same table, `track`, \n",
    "for the records with track IDs returned by the first query.\n",
    "'''\n",
    "\n",
    "c.execute(\"\"\"\n",
    "SELECT *\n",
    "FROM track\n",
    "WHERE trackid IN (SELECT trackid FROM track LIMIT 3);\n",
    "\"\"\")\n",
    "\n",
    "c.fetchall()"
   ]
  },
  {
   "cell_type": "markdown",
   "metadata": {},
   "source": [
    "**NOTE**: There is only a list version of `IN` because `DISTINCT` can be used separately within a nested query in order to force records to be unique."
   ]
  },
  {
   "cell_type": "markdown",
   "metadata": {},
   "source": [
    "### Comparison"
   ]
  },
  {
   "cell_type": "markdown",
   "metadata": {},
   "source": [
    "Set comparisons are a generalization of membership checks. The motivation for comparisons is largely syntax based, as SQL itself provides this functionality through regular querying. But, the syntactic sugar provides more human-readable queries.\n",
    "\n",
    "The set comparisons make use of regular `WHERE` clause comparisons, but add the following keywords. In a sense, they add **quantifiers** to `WHERE` clauses:\n",
    "\n",
    "| Keyword | Description |\n",
    "| ---: | :--- |\n",
    "| `ALL` | The preceding operator is modified to evaluate true, only where all individual nested query records hold for the condition |\n",
    "| `SOME` | The preceding operator is modified to evaluate true as long as at least one record is able to satisfy the constraints |"
   ]
  },
  {
   "cell_type": "markdown",
   "metadata": {},
   "source": [
    "Example:"
   ]
  },
  {
   "cell_type": "markdown",
   "metadata": {},
   "source": [
    "```\n",
    "SELECT a\n",
    "FROM A\n",
    "WHERE b >= SOME (SELECT c FROM B WHERE d > 100);\n",
    "\n",
    "SELECT a\n",
    "FROM A\n",
    "WHERE b >= SOME (SELECT c FROM B WHERE d > 100);\n",
    "```\n",
    "\n",
    "**NOTES**: \n",
    "1. Equally applicable to `HAVING` clause. *But*, doing so means the comparison has to be with a grouped column.\n",
    "2. SQLite does not support this type of clause. However, nesting queries and `HAVING` can achieve equivalent results."
   ]
  },
  {
   "cell_type": "markdown",
   "metadata": {},
   "source": [
    "### Union"
   ]
  },
  {
   "cell_type": "markdown",
   "metadata": {},
   "source": [
    "The `UNION` operator combines the results of 2 queries and retains only distinct values. `UNION ALL` works similarly but does not remove duplicates &mdash; it returns *all* record instances. The selection behaves much like the python `or` operation, but for tables."
   ]
  },
  {
   "cell_type": "code",
   "execution_count": 39,
   "metadata": {},
   "outputs": [
    {
     "data": {
      "text/plain": [
       "[('A Cor Do Som',),\n",
       " ('AC/DC',),\n",
       " ('Aaron Copland & London Symphony Orchestra',),\n",
       " ('Aaron Goldberg',),\n",
       " ('Academy of St. Martin in the Fields & Sir Neville Marriner',),\n",
       " ('Academy of St. Martin in the Fields Chamber Ensemble & Sir Neville Marriner',),\n",
       " ('Academy of St. Martin in the Fields, John Birch, Sir Neville Marriner & Sylvia McNair',),\n",
       " ('Academy of St. Martin in the Fields, Sir Neville Marriner & Thurston Dart',),\n",
       " ('Academy of St. Martin in the Fields, Sir Neville Marriner & William Bennett',),\n",
       " ('Accept',),\n",
       " ('Adrian Leaper & Doreen de Feis',),\n",
       " ('Aerosmith',),\n",
       " (\"Aerosmith & Sierra Leone's Refugee Allstars\",),\n",
       " ('Aisha Duo',),\n",
       " ('Alanis Morissette',),\n",
       " ('Alberto Turco & Nova Schola Gregoriana',),\n",
       " ('Alice In Chains',),\n",
       " ('Amy Winehouse',),\n",
       " ('Anne-Sophie Mutter, Herbert Von Karajan & Wiener Philharmoniker',),\n",
       " ('Antal Doráti & London Symphony Orchestra',),\n",
       " ('Antônio Carlos Jobim',),\n",
       " ('Apocalyptica',),\n",
       " ('Aquaman',),\n",
       " ('Audioslave',),\n",
       " ('Avril Lavigne',),\n",
       " ('Azymuth',),\n",
       " ('Cake',),\n",
       " ('Chico Buarque',),\n",
       " ('Corinne Bailey Rae',),\n",
       " ('David Coverdale',),\n",
       " ('Deep Purple',),\n",
       " ('Faith No More',),\n",
       " ('Gerald Moore',),\n",
       " ('Jackson Browne',),\n",
       " ('James Levine',),\n",
       " ('Karsh Kale',),\n",
       " ('Les Arts Florissants & William Christie',),\n",
       " ('Marcos Valle',),\n",
       " ('Marisa Monte',),\n",
       " ('Martin Roscoe',),\n",
       " ('Marvin Gaye',),\n",
       " ('Mötley Crüe',),\n",
       " ('Nash Ensemble',),\n",
       " ('Ozzy Osbourne',),\n",
       " ('Pedro Luís & A Parede',),\n",
       " ('Pedro Luís E A Parede',),\n",
       " ('Philip Glass Ensemble',),\n",
       " ('R.E.M. Feat. KRS-One',),\n",
       " ('Richard Marlow & The Choir of Trinity College, Cambridge',),\n",
       " ('Scholars Baroque Ensemble',),\n",
       " ('Seu Jorge',),\n",
       " ('Stevie Ray Vaughan & Double Trouble',),\n",
       " ('The Office',),\n",
       " ('The Police',),\n",
       " ('The Postal Service',),\n",
       " ('Whitesnake',)]"
      ]
     },
     "execution_count": 39,
     "metadata": {},
     "output_type": "execute_result"
    }
   ],
   "source": [
    "# Union of artists that have names starting with `a` or end with `e` (a Set)\n",
    "c.execute(\"\"\"\n",
    "SELECT name FROM artist WHERE name LIKE 'a%' OR name LIKE 'A%'\n",
    "UNION \n",
    "SELECT name FROM artist WHERE name LIKE '%e' OR name LIKE '%E';\n",
    "\"\"\")\n",
    "c.fetchall()"
   ]
  },
  {
   "cell_type": "code",
   "execution_count": 40,
   "metadata": {},
   "outputs": [
    {
     "data": {
      "text/plain": [
       "[('AC/DC',),\n",
       " ('Accept',),\n",
       " ('Aerosmith',),\n",
       " ('Alanis Morissette',),\n",
       " ('Alice In Chains',),\n",
       " ('Antônio Carlos Jobim',),\n",
       " ('Apocalyptica',),\n",
       " ('Audioslave',),\n",
       " ('Azymuth',),\n",
       " ('A Cor Do Som',),\n",
       " ('Aquaman',),\n",
       " (\"Aerosmith & Sierra Leone's Refugee Allstars\",),\n",
       " ('Avril Lavigne',),\n",
       " ('Aisha Duo',),\n",
       " ('Aaron Goldberg',),\n",
       " ('Alberto Turco & Nova Schola Gregoriana',),\n",
       " ('Anne-Sophie Mutter, Herbert Von Karajan & Wiener Philharmoniker',),\n",
       " ('Academy of St. Martin in the Fields & Sir Neville Marriner',),\n",
       " ('Academy of St. Martin in the Fields Chamber Ensemble & Sir Neville Marriner',),\n",
       " ('Academy of St. Martin in the Fields, John Birch, Sir Neville Marriner & Sylvia McNair',),\n",
       " ('Aaron Copland & London Symphony Orchestra',),\n",
       " ('Academy of St. Martin in the Fields, Sir Neville Marriner & William Bennett',),\n",
       " ('Antal Doráti & London Symphony Orchestra',),\n",
       " ('Amy Winehouse',),\n",
       " ('Academy of St. Martin in the Fields, Sir Neville Marriner & Thurston Dart',),\n",
       " ('Adrian Leaper & Doreen de Feis',),\n",
       " ('Alanis Morissette',),\n",
       " ('Audioslave',),\n",
       " ('Chico Buarque',),\n",
       " ('Marcos Valle',),\n",
       " ('Pedro Luís & A Parede',),\n",
       " ('David Coverdale',),\n",
       " ('Deep Purple',),\n",
       " ('Faith No More',),\n",
       " ('Marisa Monte',),\n",
       " ('Marvin Gaye',),\n",
       " ('Mötley Crüe',),\n",
       " ('Ozzy Osbourne',),\n",
       " ('R.E.M. Feat. KRS-One',),\n",
       " ('Stevie Ray Vaughan & Double Trouble',),\n",
       " ('The Police',),\n",
       " ('Whitesnake',),\n",
       " ('The Office',),\n",
       " ('Corinne Bailey Rae',),\n",
       " ('Jackson Browne',),\n",
       " ('Avril Lavigne',),\n",
       " ('The Postal Service',),\n",
       " ('Pedro Luís E A Parede',),\n",
       " ('Seu Jorge',),\n",
       " ('Cake',),\n",
       " ('Karsh Kale',),\n",
       " ('Richard Marlow & The Choir of Trinity College, Cambridge',),\n",
       " ('Scholars Baroque Ensemble',),\n",
       " ('James Levine',),\n",
       " ('Amy Winehouse',),\n",
       " ('Les Arts Florissants & William Christie',),\n",
       " ('Martin Roscoe',),\n",
       " ('Gerald Moore',),\n",
       " ('Nash Ensemble',),\n",
       " ('Philip Glass Ensemble',)]"
      ]
     },
     "execution_count": 40,
     "metadata": {},
     "output_type": "execute_result"
    }
   ],
   "source": [
    "# Union of artists that have names starting with `a` or end with `e` (a List)\n",
    "c.execute(\"\"\"\n",
    "SELECT name FROM artist WHERE name LIKE 'a%' OR name LIKE 'A%'\n",
    "UNION ALL\n",
    "SELECT name FROM artist WHERE name LIKE '%e' OR name LIKE '%E';\n",
    "\"\"\")\n",
    "c.fetchall()"
   ]
  },
  {
   "cell_type": "markdown",
   "metadata": {},
   "source": [
    "### Intersect"
   ]
  },
  {
   "cell_type": "markdown",
   "metadata": {},
   "source": [
    "The ``INTERSECT`` operation retrieves common records between two queries or tables. The purpose of ``INTERSECT`` is to provide similar support to the equivalent mathematical set operation."
   ]
  },
  {
   "cell_type": "code",
   "execution_count": 41,
   "metadata": {},
   "outputs": [
    {
     "data": {
      "text/plain": [
       "[('Alanis Morissette',),\n",
       " ('Amy Winehouse',),\n",
       " ('Audioslave',),\n",
       " ('Avril Lavigne',)]"
      ]
     },
     "execution_count": 41,
     "metadata": {},
     "output_type": "execute_result"
    }
   ],
   "source": [
    "# Intersection of artists that have names starting with `a` or end with `e` (a Set). \n",
    "# There is no list equivalent in SQLite.\n",
    "\n",
    "c.execute(\"\"\"\n",
    "SELECT name FROM artist WHERE name LIKE 'a%' OR name LIKE 'A%'\n",
    "INTERSECT\n",
    "SELECT name FROM artist WHERE name LIKE '%e' OR name LIKE '%E';\n",
    "\"\"\")\n",
    "c.fetchall() #These are the artists that had duplicates in the prior query"
   ]
  },
  {
   "cell_type": "markdown",
   "metadata": {},
   "source": [
    "## EXERCISE 3: Practicing JOINs"
   ]
  },
  {
   "cell_type": "markdown",
   "metadata": {},
   "source": [
    "**Task 1:** One of the columns in the table `track` is `genreid`. This is a foreign key which allows us to join `track` table with the `genre` table to get a genre name. Write an SQL query which will count the number of tracks for each genre. The output should also include two numbers for each genre: the duration of the longest and shortest tracks."
   ]
  },
  {
   "cell_type": "code",
   "execution_count": 42,
   "metadata": {},
   "outputs": [],
   "source": [
    "# Type your code here"
   ]
  },
  {
   "cell_type": "code",
   "execution_count": null,
   "metadata": {},
   "outputs": [],
   "source": []
  },
  {
   "cell_type": "code",
   "execution_count": null,
   "metadata": {},
   "outputs": [],
   "source": []
  },
  {
   "cell_type": "markdown",
   "metadata": {},
   "source": [
    "**Task 2:** Rewrite the query from Task 4 of the Exercise 2 above to get the album name and the number of tracks for each album, display the top 10 results based on the number of tracks, sorted in descending order."
   ]
  },
  {
   "cell_type": "code",
   "execution_count": 43,
   "metadata": {},
   "outputs": [],
   "source": [
    "# Type your code here\n"
   ]
  },
  {
   "cell_type": "code",
   "execution_count": null,
   "metadata": {},
   "outputs": [],
   "source": []
  },
  {
   "cell_type": "markdown",
   "metadata": {},
   "source": [
    "**Solutions:**"
   ]
  },
  {
   "cell_type": "markdown",
   "metadata": {},
   "source": [
    "**Task 1:** This query will join two tables based on the `genreid` key, then it will group the rows by the genre and count the number of rows within each group (genre). It will also find the shortest and longest tracks within each group:"
   ]
  },
  {
   "cell_type": "code",
   "execution_count": 44,
   "metadata": {},
   "outputs": [
    {
     "data": {
      "text/plain": [
       "[('Alternative', 40, 204078, 672773),\n",
       " ('Alternative & Punk', 332, 4884, 558602),\n",
       " ('Blues', 81, 135053, 589531),\n",
       " ('Bossa Nova', 15, 137482, 409965),\n",
       " ('Classical', 74, 51780, 596519),\n",
       " ('Comedy', 17, 1268268, 2541875),\n",
       " ('Drama', 64, 112712, 5088838),\n",
       " ('Easy Listening', 24, 89730, 292075),\n",
       " ('Electronica/Dance', 30, 143830, 529684),\n",
       " ('Heavy Metal', 28, 48013, 516649),\n",
       " ('Hip Hop/Rap', 35, 7941, 410409),\n",
       " ('Jazz', 130, 126511, 907520),\n",
       " ('Latin', 579, 33149, 543007),\n",
       " ('Metal', 374, 41900, 816509),\n",
       " ('Opera', 1, 174813, 174813),\n",
       " ('Pop', 48, 129666, 663426),\n",
       " ('R&B/Soul', 61, 127399, 418293),\n",
       " ('Reggae', 58, 173008, 366733),\n",
       " ('Rock', 1297, 1071, 1612329),\n",
       " ('Rock And Roll', 12, 106266, 163265),\n",
       " ('Sci Fi & Fantasy', 26, 2622622, 2960293),\n",
       " ('Science Fiction', 13, 2563938, 2713755),\n",
       " ('Soundtrack', 43, 32287, 383764),\n",
       " ('TV Shows', 93, 1237791, 5286953),\n",
       " ('World', 28, 39131, 300605)]"
      ]
     },
     "execution_count": 44,
     "metadata": {},
     "output_type": "execute_result"
    }
   ],
   "source": [
    "c.execute(\"\"\"\n",
    "SELECT  genre.name AS genre, COUNT(*), MIN(Milliseconds), MAX(Milliseconds)\n",
    "FROM track \n",
    "JOIN genre on genre.genreid=track.genreid\n",
    "GROUP BY genre;\n",
    "\"\"\")\n",
    "c.fetchall()"
   ]
  },
  {
   "cell_type": "markdown",
   "metadata": {},
   "source": [
    "**Task 2:** Below is the query which produces the same calculations for the number of tracks per album as in the previous exercise. It also fetches the album name from the `album` table."
   ]
  },
  {
   "cell_type": "code",
   "execution_count": 45,
   "metadata": {},
   "outputs": [
    {
     "data": {
      "text/plain": [
       "[('Greatest Hits', 57),\n",
       " ('Minha Historia', 34),\n",
       " ('Unplugged', 30),\n",
       " ('Lost, Season 3', 26),\n",
       " ('The Office, Season 3', 25),\n",
       " ('Lost, Season 1', 25),\n",
       " ('My Way: The Best Of Frank Sinatra [Disc 1]', 24),\n",
       " ('Lost, Season 2', 24),\n",
       " ('Battlestar Galactica (Classic), Season 1', 24),\n",
       " ('Instant Karma: The Amnesty International Campaign to Save Darfur', 23)]"
      ]
     },
     "execution_count": 45,
     "metadata": {},
     "output_type": "execute_result"
    }
   ],
   "source": [
    "c.execute(\"\"\"\n",
    "SELECT album.title AS title, COUNT(*)\n",
    "FROM track\n",
    "JOIN album on album.albumId = track.albumId\n",
    "GROUP BY title\n",
    "ORDER BY COUNT(*) DESC LIMIT 10;\n",
    "\"\"\")\n",
    "c.fetchall()"
   ]
  },
  {
   "cell_type": "markdown",
   "metadata": {},
   "source": [
    "# Manipulating Tables\n",
    "In this section we cover some of the operations in SQL responsible for changing the state of the database.\n",
    "\n",
    "## CREATE TABLE\n",
    "\n",
    "Creating tables usually requires a declaration or an initialization for inferring a declaration. As such, a query is often enough for creating a new table. But, it's necessary to also know how to declare the schema. The following template shows how to build a new table from a preexisting table:\n",
    "\n",
    "```\n",
    "-- General Form\n",
    "CREATE TABLE [table name] AS [query];\n",
    "```\n",
    "\n"
   ]
  },
  {
   "cell_type": "markdown",
   "metadata": {},
   "source": [
    "The following query will create a new table in the Chinook database with the following parameters:\n",
    "- Name of the table: `customers_two`\n",
    "- The new table will use data from two existing tables, `customer` and `invoice`, using only those records that meet the criteria specified by the `SELECT` statement"
   ]
  },
  {
   "cell_type": "code",
   "execution_count": 46,
   "metadata": {},
   "outputs": [
    {
     "data": {
      "text/plain": [
       "[(179,)]"
      ]
     },
     "execution_count": 46,
     "metadata": {},
     "output_type": "execute_result"
    }
   ],
   "source": [
    "c.execute(\"\"\"CREATE TABLE customers_two AS SELECT * FROM Customer AS a, invoice AS b \n",
    "           WHERE b.total > 5 AND a.customerid = b.customerid ORDER BY a.customerid;\"\"\")\n",
    "c.execute(\"SELECT COUNT(*) FROM customers_two;\")\n",
    "c.fetchall()"
   ]
  },
  {
   "cell_type": "markdown",
   "metadata": {},
   "source": [
    "The table `customers_two` was created and it contains 179 rows of data. Let's take a look at a couple of rows to confirm that we got what we expected:"
   ]
  },
  {
   "cell_type": "code",
   "execution_count": 47,
   "metadata": {},
   "outputs": [
    {
     "data": {
      "text/plain": [
       "[(1,\n",
       "  'Luís',\n",
       "  'Gonçalves',\n",
       "  'Embraer - Empresa Brasileira de Aeronáutica S.A.',\n",
       "  'Av. Brigadeiro Faria Lima, 2170',\n",
       "  'São José dos Campos',\n",
       "  'SP',\n",
       "  'Brazil',\n",
       "  '12227-000',\n",
       "  '+55 (12) 3923-5555',\n",
       "  '+55 (12) 3923-5566',\n",
       "  'luisg@embraer.com.br',\n",
       "  3,\n",
       "  143,\n",
       "  1,\n",
       "  '2010-09-15 00:00:00',\n",
       "  'Av. Brigadeiro Faria Lima, 2170',\n",
       "  'São José dos Campos',\n",
       "  'SP',\n",
       "  'Brazil',\n",
       "  '12227-000',\n",
       "  5.94),\n",
       " (1,\n",
       "  'Luís',\n",
       "  'Gonçalves',\n",
       "  'Embraer - Empresa Brasileira de Aeronáutica S.A.',\n",
       "  'Av. Brigadeiro Faria Lima, 2170',\n",
       "  'São José dos Campos',\n",
       "  'SP',\n",
       "  'Brazil',\n",
       "  '12227-000',\n",
       "  '+55 (12) 3923-5555',\n",
       "  '+55 (12) 3923-5566',\n",
       "  'luisg@embraer.com.br',\n",
       "  3,\n",
       "  327,\n",
       "  1,\n",
       "  '2012-12-07 00:00:00',\n",
       "  'Av. Brigadeiro Faria Lima, 2170',\n",
       "  'São José dos Campos',\n",
       "  'SP',\n",
       "  'Brazil',\n",
       "  '12227-000',\n",
       "  13.86)]"
      ]
     },
     "execution_count": 47,
     "metadata": {},
     "output_type": "execute_result"
    }
   ],
   "source": [
    "c.execute(\"SELECT * FROM customers_two limit 2;\")\n",
    "c.fetchall()"
   ]
  },
  {
   "cell_type": "markdown",
   "metadata": {},
   "source": [
    "When only specifying the schema, an empty table with `NULL` values is created.\n",
    "\n",
    "```\n",
    "-- General Form\n",
    "CREATE TABLE [table name] ([[attribute name] [attribute type] [, ...]]);\n",
    "```\n",
    "\n",
    "The following is an example of declaring a table schema. \n",
    "\n",
    "The first table which we are creating is a new table `phonebook` which will have the following 4 columns:\n",
    "- `phone`, of INTEGER type\n",
    "- `firstname`, of VARCHAR(32) type\n",
    "- `lastname`, of VARCHAR(32) type\n",
    "- `address`, of VARCHAR(255) type\n",
    "\n",
    "Take a look at the second `CREATE TABLE` prodsales statement and try to understand what the table will look like after it is created."
   ]
  },
  {
   "cell_type": "code",
   "execution_count": 48,
   "metadata": {},
   "outputs": [
    {
     "data": {
      "text/plain": [
       "[]"
      ]
     },
     "execution_count": 48,
     "metadata": {},
     "output_type": "execute_result"
    }
   ],
   "source": [
    "\"\"\"\n",
    "The following is an example of declaring a table schema. \n",
    "We are creating a new table `phonebook`, it will \n",
    "\"\"\"\n",
    "c.execute(\"CREATE TABLE  phonebook (phone INT, firstname VARCHAR(32), lastname VARCHAR(32), address VARCHAR(255));\")\n",
    "output1 = c.fetchall()\n",
    "\n",
    "c.execute(\"CREATE TABLE prodsales (product CHAR(3), mnth SMALLINT, sales MONEY);\")\n",
    "output2 = c.fetchall()\n",
    "\n",
    "output1 + output2 # empty because output isn't from any query."
   ]
  },
  {
   "cell_type": "markdown",
   "metadata": {},
   "source": [
    "## DELETE\n",
    "\n",
    "The `DELETE` statement is used to delete rows from a table. It's important to note that deletes can fail. Often the schema is used to check the validity of not just querying operations, but mutable operations as well. As such, types must be consistent when deleting records.\n",
    "\n",
    "```\n",
    "-- General form\n",
    "DELETE \n",
    "FROM [table_name]\n",
    "WHERE [condition [, ...]];\n",
    "```"
   ]
  },
  {
   "cell_type": "code",
   "execution_count": 49,
   "metadata": {},
   "outputs": [
    {
     "data": {
      "text/plain": [
       "[(55,), (0,)]"
      ]
     },
     "execution_count": 49,
     "metadata": {},
     "output_type": "execute_result"
    }
   ],
   "source": [
    "c.execute(\"SELECT count(*) FROM invoice WHERE total < 1;\")\n",
    "outputBefore = c.fetchall()\n",
    "\n",
    "c.execute(\"DELETE FROM invoice WHERE total < 1;\")\n",
    "c.execute(\"SELECT count(*) FROM invoice WHERE total < 1;\")\n",
    "outputAfter = c.fetchall()\n",
    "\n",
    "assert outputBefore[0][0] != outputAfter[0][0] \n",
    "\n",
    "outputBefore + outputAfter"
   ]
  },
  {
   "cell_type": "markdown",
   "metadata": {},
   "source": [
    "## DROP\n",
    "\n",
    "The `DROP` statement is similar to `DELETE`, but used to delete tables and databases. Similarly, it is now possible to violate key constraints, thus an option of cascading changes to other tables is also available to prevent integrity failures.\n",
    "\n",
    "```\n",
    "-- General forms\n",
    "DROP TABLE table_name;\n",
    "DROP DATABASE database_name; \n",
    "```\n",
    "\n"
   ]
  },
  {
   "cell_type": "code",
   "execution_count": 50,
   "metadata": {},
   "outputs": [
    {
     "data": {
      "text/plain": [
       "[]"
      ]
     },
     "execution_count": 50,
     "metadata": {},
     "output_type": "execute_result"
    }
   ],
   "source": [
    "c.execute(\"DROP TABLE Customer;\") # delete\n",
    "c.execute(\"SELECT * FROM sqlite_master WHERE type = 'table' AND tbl_name = 'Customer';\") # check against schema\n",
    "output = c.fetchall()\n",
    "\n",
    "assert output == []\n",
    "output"
   ]
  },
  {
   "cell_type": "markdown",
   "metadata": {},
   "source": [
    "## TRUNCATE\n",
    "\n",
    "If we only want to delete the data inside the table, and not the table itself, we can use the `TRUNCATE TABLE` statement.\n",
    "\n",
    "```\n",
    "-- General Form\n",
    "TRUNCATE TABLE table_name;\n",
    "\n",
    "-- Equivalent to but faster than\n",
    "DELETE * FROM table_name;\n",
    "```\n",
    "\n"
   ]
  },
  {
   "cell_type": "code",
   "execution_count": 51,
   "metadata": {},
   "outputs": [
    {
     "data": {
      "text/plain": [
       "[(8,)]"
      ]
     },
     "execution_count": 51,
     "metadata": {},
     "output_type": "execute_result"
    }
   ],
   "source": [
    "c.execute(\"SELECT count(*) FROM employee;\")\n",
    "outputBefore = c.fetchall()\n",
    "outputAfter= None\n",
    "try:\n",
    "    c.execute(\"TRUNCATE TABLE employee;\")\n",
    "except:\n",
    "    outputAfter = c.fetchall()\n",
    "    \n",
    "outputBefore + outputAfter"
   ]
  },
  {
   "cell_type": "markdown",
   "metadata": {},
   "source": [
    "Unfortunately, `TRUNCATE` isn't implemented in SQLite but is standard in many databases.\n",
    "\n",
    "\n",
    "## UPDATE\n",
    "\n",
    "The `UPDATE` statement is used to update records in a table.\n",
    "\n",
    "```\n",
    "-- General Form\n",
    "UPDATE [table_name] \n",
    "SET [column1=value1 [, ...] ]\n",
    "WHERE [condition [, ...]];\n",
    "```"
   ]
  },
  {
   "cell_type": "code",
   "execution_count": 52,
   "metadata": {},
   "outputs": [
    {
     "data": {
      "text/plain": [
       "[[(90, 'Iron Maiden')], [(90, 'censored')]]"
      ]
     },
     "execution_count": 52,
     "metadata": {},
     "output_type": "execute_result"
    }
   ],
   "source": [
    "c.execute(\"\"\"\n",
    "\n",
    "    -- In case it's unclear by this point, this is what a comment in SQL looks like.\n",
    "    -- 2 dashes AND a space. Don't forget that space.\n",
    "    \n",
    "    SELECT * \n",
    "    FROM artist\n",
    "    WHERE name = 'Iron Maiden' OR name = 'censored'\n",
    ";\n",
    "\"\"\")\n",
    "outputBefore = c.fetchall()\n",
    "c.execute(\"\"\"\n",
    "    UPDATE artist\n",
    "    SET name = 'censored'\n",
    "    WHERE name = 'Iron Maiden'\n",
    ";\n",
    "\"\"\")\n",
    "c.execute(\"\"\"\n",
    "    SELECT * \n",
    "    FROM artist\n",
    "    WHERE name = 'Iron Maiden' OR name = 'censored'\n",
    ";\n",
    "\"\"\")\n",
    "outputAfter = c.fetchall()\n",
    "\n",
    "[outputBefore , outputAfter]"
   ]
  },
  {
   "cell_type": "markdown",
   "metadata": {},
   "source": [
    "**NOTE:** In order to save changes to the database (i.e. save to disk and not just memory), we commit changes in memory to disk."
   ]
  },
  {
   "cell_type": "code",
   "execution_count": 53,
   "metadata": {},
   "outputs": [],
   "source": [
    "conn.commit()\n",
    "## To close connections to the database\n",
    "conn.close()"
   ]
  },
  {
   "cell_type": "markdown",
   "metadata": {
    "solution": "hidden",
    "solution2": "hidden",
    "solution2_first": true
   },
   "source": [
    "# Installing SQLite Studio"
   ]
  },
  {
   "cell_type": "markdown",
   "metadata": {
    "solution": "hidden",
    "solution2": "hidden",
    "solution2_first": true
   },
   "source": [
    "Before you install SQLite Studio, we should remind you that SQLite is an *embeddable database*. This means it doesn't have to be installed on a computer and doesn't need any special user privileges to be run. The database is *embeddable* in the sense that an application or program could be using it internally. If the database is embedded, the computer process can limit its own memory use by leveraging out-of-core operations and committing state information and data onto disk. This means python's `sqlite3` library already downloaded SQLite when the library was installed via `Anaconda Navigator`. The tool described here is an alternative interface."
   ]
  },
  {
   "cell_type": "markdown",
   "metadata": {
    "solution": "hidden",
    "solution2": "hidden",
    "solution2_first": true
   },
   "source": [
    "## Installing SQLite Studio on your laptop"
   ]
  },
  {
   "cell_type": "markdown",
   "metadata": {
    "solution": "hidden",
    "solution2": "hidden",
    "solution2_first": true
   },
   "source": [
    "* Go to https://sqlitestudio.pl/ and choose the right installation for your laptop\n",
    "* Unzip the downloaded file into a directory of your choice\n",
    "* On Windows, run `SQLiteStudio.exe`\n",
    "* On Mac, double-click the .dmg you downloaded, and move `SQLiteStudio.app` into \"Applications.\""
   ]
  },
  {
   "cell_type": "markdown",
   "metadata": {
    "solution": "hidden",
    "solution2": "hidden",
    "solution2_first": true
   },
   "source": [
    "## Downloading the Chinook database"
   ]
  },
  {
   "cell_type": "markdown",
   "metadata": {
    "solution": "hidden",
    "solution2": "hidden",
    "solution2_first": true
   },
   "source": [
    "- Download the Chinook database from this [SQLite Sample Database page](http://www.sqlitetutorial.net/sqlite-sample-database). Open the URL, scroll to the middle of the page, find \"Download SQLite sample database\" section and click on the button with the caption \"Download SQLite sample database\".\n",
    "- The sample database file is ZIP format, therefore, you need to extract it to a folder, for example, `C:\\sqlite\\db`. The name of the file is `chinook.db`\n",
    "- After you have downloaded and unzipped the sample database, open SQLite Studio\n",
    "- From the `Database` menu, select `Add a Database`\n",
    "- In the next window, under the `File` field, navigate to the folder where you saved the sample database, file  `chinook.db` and click `OK`.\n",
    "- The database will be loaded into the SQLite database and opened in SQLite Studio.\n",
    "\n",
    "After you have successfuly completed all the steps above, you can practice the same queries that we used in this module using the SQLite Studio interface."
   ]
  },
  {
   "cell_type": "markdown",
   "metadata": {},
   "source": [
    "**End of Module**\n",
    "\n",
    "You have reached the end of this module.\n",
    "\n",
    "If you have any questions, please reach out to your peers using the discussion boards. If you\n",
    "and your peers are unable to come to a suitable conclusion, do not hesitate to reach out to\n",
    "your instructor on the designated discussion board."
   ]
  },
  {
   "cell_type": "markdown",
   "metadata": {
    "cell_style": "center",
    "solution": "hidden",
    "solution2": "hidden",
    "solution2_first": true
   },
   "source": [
    "# Resources"
   ]
  },
  {
   "cell_type": "markdown",
   "metadata": {
    "cell_style": "center",
    "solution": "hidden",
    "solution2": "hidden",
    "solution2_first": true
   },
   "source": [
    "## Web"
   ]
  },
  {
   "cell_type": "markdown",
   "metadata": {
    "cell_style": "center",
    "solution": "hidden",
    "solution2": "hidden",
    "solution2_first": true
   },
   "source": [
    "* Bayer, M., (2009). SQLAlchemy. Retrieved from: [SQLAlchemy webpage](https://www.sqlalchemy.org/)\n",
    "* W3Schools.com (2018). SQL Tutorial. Retrieved from [W3Schools webpage](http://www.w3schools.com/sql/)\n",
    "* Eder, L., (2016). A Beginner’s Guide to the True Order of SQL Operations. An article is retrieved from the following [webpage on the Database Zone website](https://dzone.com/articles/a-beginners-guide-to-the-true-order-of-sqlnbspoper)"
   ]
  },
  {
   "cell_type": "markdown",
   "metadata": {
    "cell_style": "center",
    "solution": "hidden",
    "solution2": "hidden",
    "solution2_first": true
   },
   "source": [
    "## Books"
   ]
  },
  {
   "cell_type": "markdown",
   "metadata": {
    "cell_style": "center",
    "solution": "hidden",
    "solution2": "hidden",
    "solution2_first": true
   },
   "source": [
    "* Beaulieu, A. (2009). ``_Learning SQL: Master SQL Fundamentals, 2nd. Ed_''. O'Reilly.\n",
    "* Forta, B. (2012). ``_SQL in 10 Minutes, Sams Teach Yourself, 4th Ed_''. Sams.\n",
    "* Viescas, J.L. and Hernandez, M.J. (2014). ``_SQL Queries for Mere Mortals: A Hands-On Guide to Data Manipulation in SQL, 3rd. Ed_''. Addison-Wesley.\n",
    "* Molinaro, A. (2006). ``_SQL cookbook_'',  O'Reilly.\n",
    "* Fehily, C. (2015). ``_SQL (Database Programming)_''. Questing Vole Press."
   ]
  },
  {
   "cell_type": "markdown",
   "metadata": {},
   "source": [
    "# References\n",
    "\n",
    "- International team of developers. (2018). *SQLite Version 3.24.0 (2018-06-04)*. Retrieved from [https://www.sqlite.org/index.html](https://www.sqlite.org/index.html)\n",
    "\n",
    "\n",
    "- Python Documentation (2018). The Python Standard Library. 12.6. sqlite3. Article *12.6.3. Cursor Objects*. Retrieved from [https://docs.python.org/3/library/sqlite3.html#cursor-objects](https://docs.python.org/3/library/sqlite3.html#cursor-objects)\n",
    "\n",
    "\n",
    "- McKinney, W. (2017). 10.1 GroupBy Mechanics. Python for Data Analysis (p 290). O'Reilly: Boston"
   ]
  },
  {
   "cell_type": "code",
   "execution_count": null,
   "metadata": {},
   "outputs": [],
   "source": []
  }
 ],
 "metadata": {
  "anaconda-cloud": {},
  "kernelspec": {
   "display_name": "Python 3 (ipykernel)",
   "language": "python",
   "name": "python3"
  },
  "language_info": {
   "codemirror_mode": {
    "name": "ipython",
    "version": 3
   },
   "file_extension": ".py",
   "mimetype": "text/x-python",
   "name": "python",
   "nbconvert_exporter": "python",
   "pygments_lexer": "ipython3",
   "version": "3.9.7"
  },
  "latex_envs": {
   "LaTeX_envs_menu_present": true,
   "autoclose": false,
   "autocomplete": false,
   "bibliofile": "biblio.bib",
   "cite_by": "apalike",
   "current_citInitial": 1,
   "eqLabelWithNumbers": true,
   "eqNumInitial": 1,
   "hotkeys": {
    "equation": "Ctrl-E",
    "itemize": "Ctrl-I"
   },
   "labels_anchors": true,
   "latex_user_defs": false,
   "report_style_numbering": false,
   "user_envs_cfg": false
  },
  "nbTranslate": {
   "displayLangs": [
    "en"
   ],
   "hotkey": "alt-t",
   "langInMainMenu": true,
   "sourceLang": "en",
   "targetLang": "fr",
   "useGoogleTranslate": true
  },
  "toc": {
   "base_numbering": 1,
   "nav_menu": {},
   "number_sections": true,
   "sideBar": true,
   "skip_h1_title": true,
   "title_cell": "Table of Contents",
   "title_sidebar": "Table of Contents",
   "toc_cell": true,
   "toc_position": {
    "height": "calc(100% - 180px)",
    "left": "10px",
    "top": "150px",
    "width": "281px"
   },
   "toc_section_display": true,
   "toc_window_display": true
  },
  "varInspector": {
   "cols": {
    "lenName": 16,
    "lenType": 16,
    "lenVar": 40
   },
   "kernels_config": {
    "python": {
     "delete_cmd_postfix": "",
     "delete_cmd_prefix": "del ",
     "library": "var_list.py",
     "varRefreshCmd": "print(var_dic_list())"
    },
    "r": {
     "delete_cmd_postfix": ") ",
     "delete_cmd_prefix": "rm(",
     "library": "var_list.r",
     "varRefreshCmd": "cat(var_dic_list()) "
    }
   },
   "position": {
    "height": "1097px",
    "left": "2190px",
    "right": "20px",
    "top": "120px",
    "width": "337px"
   },
   "types_to_exclude": [
    "module",
    "function",
    "builtin_function_or_method",
    "instance",
    "_Feature"
   ],
   "window_display": false
  }
 },
 "nbformat": 4,
 "nbformat_minor": 2
}
