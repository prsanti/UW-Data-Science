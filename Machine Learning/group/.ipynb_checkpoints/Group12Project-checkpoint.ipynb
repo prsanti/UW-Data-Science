{
 "cells": [
  {
   "cell_type": "code",
   "execution_count": null,
   "id": "210689c7-50db-4c07-8941-bebdd9185fe3",
   "metadata": {
    "id": "210689c7-50db-4c07-8941-bebdd9185fe3"
   },
   "outputs": [],
   "source": [
    "import pandas as pd\n",
    "import numpy as np\n",
    "import scipy as scipy\n",
    "import math as math\n",
    "\n",
    "# Use matplotlib to plot figures and seaborn for more visualizations\n",
    "import matplotlib.pyplot as plt\n",
    "import seaborn as sns\n",
    "%matplotlib inline\n",
    "#plt.style.use('ggplot')\n",
    "\n",
    "# Use statsmodels package for regression analysis \n",
    "import statsmodels.formula.api as smf\n",
    "\n",
    "# For visual inspection of the regression models\n",
    "from statsmodels.graphics.regressionplots import plot_regress_exog, plot_fit, plot_leverage_resid2, influence_plot\n",
    "\n",
    "# Import the function to calculate RMSE\n",
    "from statsmodels.tools.eval_measures import rmse\n",
    "\n",
    "import sklearn\n",
    "from sklearn.metrics import mean_squared_error, r2_score\n",
    "from sklearn.model_selection import GridSearchCV"
   ]
  },
  {
   "cell_type": "code",
   "execution_count": null,
   "id": "4oOH51DXaRsT",
   "metadata": {
    "colab": {
     "base_uri": "https://localhost:8080/",
     "height": 346
    },
    "executionInfo": {
     "elapsed": 8299,
     "status": "error",
     "timestamp": 1680983253786,
     "user": {
      "displayName": "Laurence N. Béland",
      "userId": "13181126361956602330"
     },
     "user_tz": 240
    },
    "id": "4oOH51DXaRsT",
    "outputId": "9e7a8ff1-bebf-4194-b041-6bc226e993ee"
   },
   "outputs": [
    {
     "ename": "MessageError",
     "evalue": "ignored",
     "output_type": "error",
     "traceback": [
      "\u001b[0;31m---------------------------------------------------------------------------\u001b[0m",
      "\u001b[0;31mMessageError\u001b[0m                              Traceback (most recent call last)",
      "\u001b[0;32m<ipython-input-5-d5df0069828e>\u001b[0m in \u001b[0;36m<cell line: 2>\u001b[0;34m()\u001b[0m\n\u001b[1;32m      1\u001b[0m \u001b[0;32mfrom\u001b[0m \u001b[0mgoogle\u001b[0m\u001b[0;34m.\u001b[0m\u001b[0mcolab\u001b[0m \u001b[0;32mimport\u001b[0m \u001b[0mdrive\u001b[0m\u001b[0;34m\u001b[0m\u001b[0;34m\u001b[0m\u001b[0m\n\u001b[0;32m----> 2\u001b[0;31m \u001b[0mdrive\u001b[0m\u001b[0;34m.\u001b[0m\u001b[0mmount\u001b[0m\u001b[0;34m(\u001b[0m\u001b[0;34m'/content/drive'\u001b[0m\u001b[0;34m)\u001b[0m\u001b[0;34m\u001b[0m\u001b[0;34m\u001b[0m\u001b[0m\n\u001b[0m",
      "\u001b[0;32m/usr/local/lib/python3.9/dist-packages/google/colab/drive.py\u001b[0m in \u001b[0;36mmount\u001b[0;34m(mountpoint, force_remount, timeout_ms, readonly)\u001b[0m\n\u001b[1;32m    101\u001b[0m \u001b[0;32mdef\u001b[0m \u001b[0mmount\u001b[0m\u001b[0;34m(\u001b[0m\u001b[0mmountpoint\u001b[0m\u001b[0;34m,\u001b[0m \u001b[0mforce_remount\u001b[0m\u001b[0;34m=\u001b[0m\u001b[0;32mFalse\u001b[0m\u001b[0;34m,\u001b[0m \u001b[0mtimeout_ms\u001b[0m\u001b[0;34m=\u001b[0m\u001b[0;36m120000\u001b[0m\u001b[0;34m,\u001b[0m \u001b[0mreadonly\u001b[0m\u001b[0;34m=\u001b[0m\u001b[0;32mFalse\u001b[0m\u001b[0;34m)\u001b[0m\u001b[0;34m:\u001b[0m\u001b[0;34m\u001b[0m\u001b[0;34m\u001b[0m\u001b[0m\n\u001b[1;32m    102\u001b[0m   \u001b[0;34m\"\"\"Mount your Google Drive at the specified mountpoint path.\"\"\"\u001b[0m\u001b[0;34m\u001b[0m\u001b[0;34m\u001b[0m\u001b[0m\n\u001b[0;32m--> 103\u001b[0;31m   return _mount(\n\u001b[0m\u001b[1;32m    104\u001b[0m       \u001b[0mmountpoint\u001b[0m\u001b[0;34m,\u001b[0m\u001b[0;34m\u001b[0m\u001b[0;34m\u001b[0m\u001b[0m\n\u001b[1;32m    105\u001b[0m       \u001b[0mforce_remount\u001b[0m\u001b[0;34m=\u001b[0m\u001b[0mforce_remount\u001b[0m\u001b[0;34m,\u001b[0m\u001b[0;34m\u001b[0m\u001b[0;34m\u001b[0m\u001b[0m\n",
      "\u001b[0;32m/usr/local/lib/python3.9/dist-packages/google/colab/drive.py\u001b[0m in \u001b[0;36m_mount\u001b[0;34m(mountpoint, force_remount, timeout_ms, ephemeral, readonly)\u001b[0m\n\u001b[1;32m    130\u001b[0m   )\n\u001b[1;32m    131\u001b[0m   \u001b[0;32mif\u001b[0m \u001b[0mephemeral\u001b[0m\u001b[0;34m:\u001b[0m\u001b[0;34m\u001b[0m\u001b[0;34m\u001b[0m\u001b[0m\n\u001b[0;32m--> 132\u001b[0;31m     _message.blocking_request(\n\u001b[0m\u001b[1;32m    133\u001b[0m         \u001b[0;34m'request_auth'\u001b[0m\u001b[0;34m,\u001b[0m \u001b[0mrequest\u001b[0m\u001b[0;34m=\u001b[0m\u001b[0;34m{\u001b[0m\u001b[0;34m'authType'\u001b[0m\u001b[0;34m:\u001b[0m \u001b[0;34m'dfs_ephemeral'\u001b[0m\u001b[0;34m}\u001b[0m\u001b[0;34m,\u001b[0m \u001b[0mtimeout_sec\u001b[0m\u001b[0;34m=\u001b[0m\u001b[0;32mNone\u001b[0m\u001b[0;34m\u001b[0m\u001b[0;34m\u001b[0m\u001b[0m\n\u001b[1;32m    134\u001b[0m     )\n",
      "\u001b[0;32m/usr/local/lib/python3.9/dist-packages/google/colab/_message.py\u001b[0m in \u001b[0;36mblocking_request\u001b[0;34m(request_type, request, timeout_sec, parent)\u001b[0m\n\u001b[1;32m    175\u001b[0m       \u001b[0mrequest_type\u001b[0m\u001b[0;34m,\u001b[0m \u001b[0mrequest\u001b[0m\u001b[0;34m,\u001b[0m \u001b[0mparent\u001b[0m\u001b[0;34m=\u001b[0m\u001b[0mparent\u001b[0m\u001b[0;34m,\u001b[0m \u001b[0mexpect_reply\u001b[0m\u001b[0;34m=\u001b[0m\u001b[0;32mTrue\u001b[0m\u001b[0;34m\u001b[0m\u001b[0;34m\u001b[0m\u001b[0m\n\u001b[1;32m    176\u001b[0m   )\n\u001b[0;32m--> 177\u001b[0;31m   \u001b[0;32mreturn\u001b[0m \u001b[0mread_reply_from_input\u001b[0m\u001b[0;34m(\u001b[0m\u001b[0mrequest_id\u001b[0m\u001b[0;34m,\u001b[0m \u001b[0mtimeout_sec\u001b[0m\u001b[0;34m)\u001b[0m\u001b[0;34m\u001b[0m\u001b[0;34m\u001b[0m\u001b[0m\n\u001b[0m",
      "\u001b[0;32m/usr/local/lib/python3.9/dist-packages/google/colab/_message.py\u001b[0m in \u001b[0;36mread_reply_from_input\u001b[0;34m(message_id, timeout_sec)\u001b[0m\n\u001b[1;32m    102\u001b[0m     ):\n\u001b[1;32m    103\u001b[0m       \u001b[0;32mif\u001b[0m \u001b[0;34m'error'\u001b[0m \u001b[0;32min\u001b[0m \u001b[0mreply\u001b[0m\u001b[0;34m:\u001b[0m\u001b[0;34m\u001b[0m\u001b[0;34m\u001b[0m\u001b[0m\n\u001b[0;32m--> 104\u001b[0;31m         \u001b[0;32mraise\u001b[0m \u001b[0mMessageError\u001b[0m\u001b[0;34m(\u001b[0m\u001b[0mreply\u001b[0m\u001b[0;34m[\u001b[0m\u001b[0;34m'error'\u001b[0m\u001b[0;34m]\u001b[0m\u001b[0;34m)\u001b[0m\u001b[0;34m\u001b[0m\u001b[0;34m\u001b[0m\u001b[0m\n\u001b[0m\u001b[1;32m    105\u001b[0m       \u001b[0;32mreturn\u001b[0m \u001b[0mreply\u001b[0m\u001b[0;34m.\u001b[0m\u001b[0mget\u001b[0m\u001b[0;34m(\u001b[0m\u001b[0;34m'data'\u001b[0m\u001b[0;34m,\u001b[0m \u001b[0;32mNone\u001b[0m\u001b[0;34m)\u001b[0m\u001b[0;34m\u001b[0m\u001b[0;34m\u001b[0m\u001b[0m\n\u001b[1;32m    106\u001b[0m \u001b[0;34m\u001b[0m\u001b[0m\n",
      "\u001b[0;31mMessageError\u001b[0m: Error: credential propagation was unsuccessful"
     ]
    }
   ],
   "source": [
    "from google.colab import drive\n",
    "drive.mount('/content/drive')"
   ]
  },
  {
   "cell_type": "code",
   "execution_count": null,
   "id": "db10ac38-9ee0-4ad7-b371-a52bb03418a0",
   "metadata": {
    "id": "db10ac38-9ee0-4ad7-b371-a52bb03418a0"
   },
   "outputs": [],
   "source": [
    "# loading the 2022 data\n",
    "df = pd.read_csv(\"/content/drive/MyDrive/Colab Notebooks/Parking_Tags_Data_2022.000.csv\", converters={'time_of_infraction': str})\n",
    "df1 = pd.read_csv(\"/content/drive/MyDrive/Colab Notebooks/Parking_Tags_Data_2022.001.csv\", converters={'time_of_infraction': str})\n",
    "df2 = pd.read_csv(\"/content/drive/MyDrive/Colab Notebooks/Parking_Tags_Data_2022.002.csv\", converters={'time_of_infraction': str})\n",
    "df3 = pd.read_csv(\"/content/drive/MyDrive/Colab Notebooks/Parking_Tags_Data_2022.003.csv\", converters={'time_of_infraction': str})\n",
    "df4 = pd.read_csv(\"/content/drive/MyDrive/Colab Notebooks/Parking_Tags_Data_2022.004.csv\", converters={'time_of_infraction': str})\n",
    "df5 = pd.read_csv(\"/content/drive/MyDrive/Colab Notebooks/Parking_Tags_Data_2022.005.csv\", converters={'time_of_infraction': str})\n",
    "df6 = pd.read_csv(\"/content/drive/MyDrive/Colab Notebooks/Parking_Tags_Data_2022.006.csv\", converters={'time_of_infraction': str})\n",
    "df7 = pd.read_csv(\"/content/drive/MyDrive/Colab Notebooks/Parking_Tags_Data_2022.007.csv\", converters={'time_of_infraction': str})"
   ]
  },
  {
   "cell_type": "code",
   "execution_count": null,
   "id": "ddc52bd7-8517-432d-8fb7-9f59ca391016",
   "metadata": {
    "id": "ddc52bd7-8517-432d-8fb7-9f59ca391016"
   },
   "outputs": [],
   "source": [
    "# append 2022 files to one dataframe\n",
    "\n",
    "df2022 = pd.concat([df, df1, df2, df3, df4, df5, df6, df7])\n",
    "df2022.info()"
   ]
  },
  {
   "cell_type": "code",
   "execution_count": null,
   "id": "lwrVroDK0GUI",
   "metadata": {
    "id": "lwrVroDK0GUI"
   },
   "outputs": [],
   "source": [
    "# loading the 2021 data\n",
    "df = pd.read_csv(\"/content/drive/MyDrive/Colab Notebooks/Parking_Tags_Data_2021.000.csv\", converters={'time_of_infraction': str})\n",
    "df1 = pd.read_csv(\"/content/drive/MyDrive/Colab Notebooks/Parking_Tags_Data_2021.001.csv\", converters={'time_of_infraction': str})\n",
    "df2 = pd.read_csv(\"/content/drive/MyDrive/Colab Notebooks/Parking_Tags_Data_2021.002.csv\", converters={'time_of_infraction': str})\n",
    "df3 = pd.read_csv(\"/content/drive/MyDrive/Colab Notebooks/Parking_Tags_Data_2021.003.csv\", converters={'time_of_infraction': str})\n",
    "df4 = pd.read_csv(\"/content/drive/MyDrive/Colab Notebooks/Parking_Tags_Data_2021.004.csv\", converters={'time_of_infraction': str})\n",
    "df5 = pd.read_csv(\"/content/drive/MyDrive/Colab Notebooks/Parking_Tags_Data_2021.005.csv\", converters={'time_of_infraction': str})\n",
    "df6 = pd.read_csv(\"/content/drive/MyDrive/Colab Notebooks/Parking_Tags_Data_2021.006.csv\", converters={'time_of_infraction': str})\n",
    "df7 = pd.read_csv(\"/content/drive/MyDrive/Colab Notebooks/Parking_Tags_Data_2021.007.csv\", converters={'time_of_infraction': str})\n",
    "df8 = pd.read_csv(\"/content/drive/MyDrive/Colab Notebooks/Parking_Tags_Data_2021.008.csv\", converters={'time_of_infraction': str})\n",
    "df9 = pd.read_csv(\"/content/drive/MyDrive/Colab Notebooks/Parking_Tags_Data_2021.009.csv\", converters={'time_of_infraction': str})\n",
    "df10 = pd.read_csv(\"/content/drive/MyDrive/Colab Notebooks/Parking_Tags_Data_2021.010.csv\", converters={'time_of_infraction': str})\n",
    "df11 = pd.read_csv(\"/content/drive/MyDrive/Colab Notebooks/Parking_Tags_Data_2021.011.csv\", converters={'time_of_infraction': str})\n",
    "df12 = pd.read_csv(\"/content/drive/MyDrive/Colab Notebooks/Parking_Tags_Data_2021.012.csv\", converters={'time_of_infraction': str})\n",
    "df13 = pd.read_csv(\"/content/drive/MyDrive/Colab Notebooks/Parking_Tags_Data_2021.013.csv\", converters={'time_of_infraction': str})\n",
    "df14 = pd.read_csv(\"/content/drive/MyDrive/Colab Notebooks/Parking_Tags_Data_2021.014.csv\", converters={'time_of_infraction': str})"
   ]
  },
  {
   "cell_type": "code",
   "execution_count": null,
   "id": "NmgbbzfT0iAx",
   "metadata": {
    "id": "NmgbbzfT0iAx"
   },
   "outputs": [],
   "source": [
    "# append 2021 files to one dataframe\n",
    "\n",
    "df2021 = pd.concat([df, df1, df2, df3, df4, df5, df6, df7,df8, df9, df10, df11, df12, df13, df14])\n",
    "df2021.info()"
   ]
  },
  {
   "cell_type": "code",
   "execution_count": null,
   "id": "CmT62uoIwlV8",
   "metadata": {
    "id": "CmT62uoIwlV8"
   },
   "outputs": [],
   "source": [
    "df = pd.concat([df2021,df2022])\n",
    "df.info()"
   ]
  },
  {
   "cell_type": "code",
   "execution_count": null,
   "id": "01569798-212d-4cc1-81a9-5522175209e4",
   "metadata": {
    "id": "01569798-212d-4cc1-81a9-5522175209e4"
   },
   "outputs": [],
   "source": [
    "# display all columns\n",
    "\n",
    "pd.set_option('display.max_columns', None)\n",
    "df.head()"
   ]
  },
  {
   "cell_type": "markdown",
   "id": "IwFNP3LF4ZY1",
   "metadata": {
    "id": "IwFNP3LF4ZY1"
   },
   "source": [
    "New columns are engineered for meaningful analysis"
   ]
  },
  {
   "cell_type": "code",
   "execution_count": null,
   "id": "Aqa1m4Ms3d2A",
   "metadata": {
    "id": "Aqa1m4Ms3d2A"
   },
   "outputs": [],
   "source": [
    "# convert infraction date to datetime format\n",
    "df[\"date_of_infraction\"] = pd.to_datetime(df[\"date_of_infraction\"], format='%Y%m%d')\n",
    "\n",
    "# new columns to hold year, month, day, and day of week\n",
    "df['year'], df['month'], df['day'] = df['date_of_infraction'].dt.year, df['date_of_infraction'].dt.month, df['date_of_infraction'].dt.day\n",
    "df['day_of_week'] = df[\"date_of_infraction\"].dt.day_name()"
   ]
  },
  {
   "cell_type": "code",
   "execution_count": null,
   "id": "88dc24ae-85d8-43b7-9701-a858b5ebe708",
   "metadata": {
    "id": "88dc24ae-85d8-43b7-9701-a858b5ebe708"
   },
   "outputs": [],
   "source": [
    "# convert infraction time to separate hour and minute columns\n",
    "df['time_hour'],df['time_min']  = df['time_of_infraction'].str[:2], df['time_of_infraction'].str[2:]"
   ]
  },
  {
   "cell_type": "code",
   "execution_count": null,
   "id": "78d253a0-673e-4fc7-946d-258afda3c8e6",
   "metadata": {
    "id": "78d253a0-673e-4fc7-946d-258afda3c8e6"
   },
   "outputs": [],
   "source": [
    "df.nunique()"
   ]
  },
  {
   "cell_type": "code",
   "execution_count": null,
   "id": "fJjBgtBzcAFF",
   "metadata": {
    "id": "fJjBgtBzcAFF"
   },
   "outputs": [],
   "source": [
    "df.isnull().sum()\n",
    "\n",
    "# The only attributes that have null values are the location related attributes\n",
    "# We will do some analysis to ensure that it is reasonable to drop any records/attributes"
   ]
  },
  {
   "cell_type": "markdown",
   "id": "7jQmi_pk5VUQ",
   "metadata": {
    "id": "7jQmi_pk5VUQ"
   },
   "source": [
    "**Location Analysis**"
   ]
  },
  {
   "cell_type": "code",
   "execution_count": null,
   "id": "OsPzpkaN5Zw9",
   "metadata": {
    "id": "OsPzpkaN5Zw9"
   },
   "outputs": [],
   "source": [
    "location = df[['location1','location2','location3','location4']]\n",
    "\n",
    "# We expect that  location2 is most useful since this field is defined to be the street address where the infraction occurred\n",
    "# However, there are some records that do not have location2 so group 1 will be used to check these records\n",
    "grp1 = location.loc[location['location2'].notnull() == False]\n",
    "\n",
    "# We also want to validate that location2 values upholds its definition, i.e. the value should start with a number (digit).\n",
    "# We will check the records that do not beging with a number.\n",
    "grp2 = location.loc[location['location2'].str[0].str.isdigit() == False]\n",
    "\n",
    "# 92% of location 3 & 4 are null from the entire consolidated dataset\n",
    "# So, group 3 will be used to check if these columns hold meaningful values\n",
    "grp3 = location.loc[(location['location3'].notnull() == True) | (location['location4'].notnull() == True)]"
   ]
  },
  {
   "cell_type": "code",
   "execution_count": null,
   "id": "LaP0NJKJ7I-Z",
   "metadata": {
    "id": "LaP0NJKJ7I-Z"
   },
   "outputs": [],
   "source": [
    "print(grp1.shape)\n",
    "print(grp1[(grp1['location1'].notnull() == True) | (grp1['location3'].notnull() == True) | (grp1['location4'].notnull() == True)].shape)\n",
    "grp1[(grp1['location1'].notnull() == True) | (grp1['location3'].notnull() == True) | (grp1['location4'].notnull() == True)]\n",
    "\n",
    "# There are a total of 192 records that do not have values in location2 column. Out of them, there are 31 records that have values in one or more of the other location columns.\n",
    "# However, they are deemed meaningless since the other location attributes also do not provide further location information.\n",
    "\n",
    "# Conclusion: We can safely drop these 192 records that do not have any location information."
   ]
  },
  {
   "cell_type": "code",
   "execution_count": null,
   "id": "lzYsaYVW9E2r",
   "metadata": {
    "id": "lzYsaYVW9E2r"
   },
   "outputs": [],
   "source": [
    "print(grp2.shape)\n",
    "grp2.sample(10)\n",
    "\n",
    "# There are 279134 records where location2 does not start with a digit.\n",
    "# Sample of the data shows that location3 and location4 are used in conjunction with street in location2 to pinpoint an intersection.\n",
    "\n",
    "# Conclusion: Analysis of location3 and location4 is needed."
   ]
  },
  {
   "cell_type": "code",
   "execution_count": null,
   "id": "IenQbUmo8pgF",
   "metadata": {
    "id": "IenQbUmo8pgF"
   },
   "outputs": [],
   "source": [
    "grp3.loc[grp3['location2'].str[0].str.isdigit() == True]\n",
    "\n",
    "# for records that have location3/location4 values, there are some records that have street addresses provided in location2. This means that even if location3/location4 are not used, location data is still retained"
   ]
  },
  {
   "cell_type": "code",
   "execution_count": null,
   "id": "ZrpMmNKTHy-6",
   "metadata": {
    "id": "ZrpMmNKTHy-6"
   },
   "outputs": [],
   "source": [
    "grp3.loc[grp3['location2'].str[0].str.isdigit() == False]\n",
    "\n",
    "# When only a street is provided, location3 and location4 are used as observed in grp2. \n",
    "# Conclusion: location3 and location4 are only used optionally when no street address is provided in location2. For the purpose of our project, it is also safe to drop the records that do not have a street number."
   ]
  },
  {
   "cell_type": "code",
   "execution_count": null,
   "id": "aLlmN05E_Vh3",
   "metadata": {
    "id": "aLlmN05E_Vh3"
   },
   "outputs": [],
   "source": [
    "grp3.loc[grp3['location2'].str.isdigit() == True]\n",
    "\n",
    "# There is a record that has an error, with the street address split between location2 and location3. For the purpose of our project, we will also drop this record."
   ]
  },
  {
   "cell_type": "code",
   "execution_count": null,
   "id": "8bax8-HiI8B8",
   "metadata": {
    "id": "8bax8-HiI8B8"
   },
   "outputs": [],
   "source": [
    "df = df[df['location2'].notnull() == True] # conclusion from grp1 analysis\n",
    "df = df[df['location2'].str[0].str.isdigit() == True] # conclusion from grp2 and grp3 analysis\n",
    "df = df[df['location2'].str.isdigit() == False] # exclusion of error record"
   ]
  },
  {
   "cell_type": "code",
   "execution_count": null,
   "id": "5d8920f8-214e-412d-8042-5d9c481412b2",
   "metadata": {
    "id": "5d8920f8-214e-412d-8042-5d9c481412b2"
   },
   "outputs": [],
   "source": [
    "# drop tag_number, infraction desc, location1, location3, location4, province\n",
    "\n",
    "df=df.drop(df[['tag_number_masked','infraction_description','location1','province','location3','location4']],axis = 1)\n",
    "df.isnull().sum()"
   ]
  },
  {
   "cell_type": "code",
   "execution_count": null,
   "id": "NAK3qyYAKsxa",
   "metadata": {
    "id": "NAK3qyYAKsxa"
   },
   "outputs": [],
   "source": [
    "df.sample(20)"
   ]
  },
  {
   "cell_type": "markdown",
   "id": "DmCCnVrk1Sn4",
   "metadata": {
    "id": "DmCCnVrk1Sn4"
   },
   "source": [
    "**Observations to note**"
   ]
  },
  {
   "cell_type": "code",
   "execution_count": null,
   "id": "f0e4a8f0-4d0b-49d4-9a99-a3d671bfbc67",
   "metadata": {
    "id": "f0e4a8f0-4d0b-49d4-9a99-a3d671bfbc67"
   },
   "outputs": [],
   "source": [
    "# Noticed that some infractions of fine amount of $0, so we need to check which infraction codes have such infractions\n",
    "distinct_fines = df.groupby(['infraction_code', 'infraction_description','set_fine_amount'], as_index = False).size()\n",
    "warning_codes = distinct_fines[distinct_fines['set_fine_amount'] == 0]['infraction_code']\n",
    "\n",
    "distinct_fines[distinct_fines['set_fine_amount'] == 0]\n",
    "\n",
    "# We may have to make the assumption that fine = $0 means a warning?"
   ]
  }
 ],
 "metadata": {
  "colab": {
   "provenance": [
    {
     "file_id": "1Gmim4ZSW7a16zQA0UbLdC3qYtcm0FfEu",
     "timestamp": 1680980140501
    }
   ]
  },
  "kernelspec": {
   "display_name": "Python 3 (ipykernel)",
   "language": "python",
   "name": "python3"
  },
  "language_info": {
   "codemirror_mode": {
    "name": "ipython",
    "version": 3
   },
   "file_extension": ".py",
   "mimetype": "text/x-python",
   "name": "python",
   "nbconvert_exporter": "python",
   "pygments_lexer": "ipython3",
   "version": "3.9.7"
  }
 },
 "nbformat": 4,
 "nbformat_minor": 5
}
