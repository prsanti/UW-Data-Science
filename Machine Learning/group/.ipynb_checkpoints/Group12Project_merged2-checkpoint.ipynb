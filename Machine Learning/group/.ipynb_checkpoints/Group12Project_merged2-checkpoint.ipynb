{
 "cells": [
  {
   "cell_type": "code",
   "execution_count": 1,
   "id": "210689c7-50db-4c07-8941-bebdd9185fe3",
   "metadata": {
    "executionInfo": {
     "elapsed": 4079,
     "status": "ok",
     "timestamp": 1681516217521,
     "user": {
      "displayName": "Stuart L",
      "userId": "02812462676981724217"
     },
     "user_tz": 240
    },
    "id": "210689c7-50db-4c07-8941-bebdd9185fe3"
   },
   "outputs": [],
   "source": [
    "import pandas as pd\n",
    "import numpy as np\n",
    "import scipy as scipy\n",
    "import math as math\n",
    "import datetime\n",
    "import re\n",
    "import math\n",
    "import random\n",
    "\n",
    "import matplotlib.pyplot as plt\n",
    "import seaborn as sns\n",
    "%matplotlib inline\n",
    "\n",
    "# Use statsmodels package for regression analysis \n",
    "import statsmodels.formula.api as smf\n",
    "\n",
    "# For visual inspection of the regression models\n",
    "from statsmodels.graphics.regressionplots import plot_regress_exog, plot_fit, plot_leverage_resid2, influence_plot\n",
    "\n",
    "# Import the function to calculate RMSE\n",
    "from statsmodels.tools.eval_measures import rmse\n",
    "\n",
    "import sklearn\n",
    "from sklearn.metrics import mean_squared_error, r2_score\n",
    "from sklearn.model_selection import GridSearchCV\n",
    "from sklearn.preprocessing import StandardScaler\n",
    "\n",
    "from sklearn.model_selection import train_test_split\n",
    "from sklearn.preprocessing import StandardScaler\n",
    "from sklearn.linear_model import LinearRegression\n",
    "from sklearn.preprocessing import PolynomialFeatures\n",
    "from sklearn.pipeline import Pipeline\n",
    "from sklearn.metrics import mean_squared_error\n",
    "from sklearn.preprocessing import LabelEncoder\n",
    "from sklearn.linear_model import SGDRegressor\n",
    "from sklearn import metrics\n",
    "from sklearn.metrics import r2_score\n",
    "\n",
    "# Use statsmodels package for regression analysis \n",
    "import statsmodels.formula.api as smf\n",
    "\n",
    "# For visual inspection of the regression models\n",
    "from statsmodels.graphics.regressionplots import plot_regress_exog, plot_fit, plot_leverage_resid2, influence_plot\n",
    "\n",
    "# Import the function to calculate RMSE\n",
    "from statsmodels.tools.eval_measures import rmse\n",
    "\n",
    "from sklearn.metrics import mean_squared_error, r2_score\n",
    "from sklearn.model_selection import GridSearchCV\n",
    "from sklearn.model_selection import train_test_split\n",
    "from sklearn.ensemble import RandomForestRegressor\n",
    "from sklearn.model_selection import RandomizedSearchCV\n",
    "from sklearn.tree import DecisionTreeClassifier\n",
    "from sklearn.model_selection import train_test_split, RandomizedSearchCV\n",
    "from sklearn.metrics import confusion_matrix, classification_report\n",
    "from sklearn.ensemble import RandomForestClassifier, AdaBoostClassifier, ExtraTreesClassifier, GradientBoostingClassifier\n",
    "from sklearn.metrics import accuracy_score\n",
    "from sklearn.model_selection import learning_curve\n",
    "from sklearn.cluster import KMeans\n",
    "from sklearn.preprocessing import StandardScaler\n",
    "from sklearn.pipeline import Pipeline\n",
    "from sklearn.metrics import silhouette_score\n",
    "from sklearn import preprocessing"
   ]
  },
  {
   "cell_type": "code",
   "execution_count": 2,
   "id": "db10ac38-9ee0-4ad7-b371-a52bb03418a0",
   "metadata": {
    "colab": {
     "base_uri": "https://localhost:8080/",
     "height": 380
    },
    "executionInfo": {
     "elapsed": 1002,
     "status": "error",
     "timestamp": 1681516244799,
     "user": {
      "displayName": "Stuart L",
      "userId": "02812462676981724217"
     },
     "user_tz": 240
    },
    "id": "db10ac38-9ee0-4ad7-b371-a52bb03418a0",
    "outputId": "44d39d63-b9d8-4324-fab4-9bba31e17b4b"
   },
   "outputs": [],
   "source": [
    "# loading the 2022 data\n",
    "\n",
    "path = 'Data/parking-tickets-2022/'\n",
    "\n",
    "df = pd.read_csv(\"Parking_Tags_Data_2022.000.csv\", converters={'time_of_infraction': str})\n",
    "df1 = pd.read_csv(\"Parking_Tags_Data_2022.001.csv\", converters={'time_of_infraction': str})\n",
    "df2 = pd.read_csv(\"Parking_Tags_Data_2022.002.csv\", converters={'time_of_infraction': str})\n",
    "df3 = pd.read_csv(\"Parking_Tags_Data_2022.003.csv\", converters={'time_of_infraction': str})\n",
    "df4 = pd.read_csv(\"Parking_Tags_Data_2022.004.csv\", converters={'time_of_infraction': str})\n",
    "df5 = pd.read_csv(\"Parking_Tags_Data_2022.005.csv\", converters={'time_of_infraction': str})\n",
    "df6 = pd.read_csv(\"Parking_Tags_Data_2022.006.csv\", converters={'time_of_infraction': str})\n",
    "df7 = pd.read_csv(\"Parking_Tags_Data_2022.007.csv\", converters={'time_of_infraction': str})"
   ]
  },
  {
   "cell_type": "code",
   "execution_count": 3,
   "id": "ddc52bd7-8517-432d-8fb7-9f59ca391016",
   "metadata": {
    "executionInfo": {
     "elapsed": 5,
     "status": "aborted",
     "timestamp": 1681516244800,
     "user": {
      "displayName": "Stuart L",
      "userId": "02812462676981724217"
     },
     "user_tz": 240
    },
    "id": "ddc52bd7-8517-432d-8fb7-9f59ca391016"
   },
   "outputs": [
    {
     "name": "stdout",
     "output_type": "stream",
     "text": [
      "<class 'pandas.core.frame.DataFrame'>\n",
      "RangeIndex: 1821887 entries, 0 to 1821886\n",
      "Data columns (total 11 columns):\n",
      " #   Column                  Dtype \n",
      "---  ------                  ----- \n",
      " 0   tag_number_masked       object\n",
      " 1   date_of_infraction      int64 \n",
      " 2   infraction_code         int64 \n",
      " 3   infraction_description  object\n",
      " 4   set_fine_amount         int64 \n",
      " 5   time_of_infraction      object\n",
      " 6   location1               object\n",
      " 7   location2               object\n",
      " 8   location3               object\n",
      " 9   location4               object\n",
      " 10  province                object\n",
      "dtypes: int64(3), object(8)\n",
      "memory usage: 152.9+ MB\n"
     ]
    }
   ],
   "source": [
    "# append 2022 files to one dataframe\n",
    "\n",
    "df2022 = pd.concat([df, df1, df2, df3, df4, df5, df6, df7], ignore_index=True)\n",
    "df2022.info()"
   ]
  },
  {
   "cell_type": "code",
   "execution_count": 4,
   "id": "lwrVroDK0GUI",
   "metadata": {
    "executionInfo": {
     "elapsed": 5,
     "status": "aborted",
     "timestamp": 1681516244801,
     "user": {
      "displayName": "Stuart L",
      "userId": "02812462676981724217"
     },
     "user_tz": 240
    },
    "id": "lwrVroDK0GUI"
   },
   "outputs": [],
   "source": [
    "# loading the 2021 data\n",
    "path = 'Data/parking-tickets-2021/'\n",
    "\n",
    "df = pd.read_csv(\"Parking_Tags_Data_2021.000.csv\", converters={'time_of_infraction': str})\n",
    "df1 = pd.read_csv(\"Parking_Tags_Data_2021.001.csv\", converters={'time_of_infraction': str})\n",
    "df2 = pd.read_csv(\"Parking_Tags_Data_2021.002.csv\", converters={'time_of_infraction': str})\n",
    "df3 = pd.read_csv(\"Parking_Tags_Data_2021.003.csv\", converters={'time_of_infraction': str})\n",
    "df4 = pd.read_csv(\"Parking_Tags_Data_2021.004.csv\", converters={'time_of_infraction': str})\n",
    "df5 = pd.read_csv(\"Parking_Tags_Data_2021.005.csv\", converters={'time_of_infraction': str})\n",
    "df6 = pd.read_csv(\"Parking_Tags_Data_2021.006.csv\", converters={'time_of_infraction': str})\n",
    "df7 = pd.read_csv(\"Parking_Tags_Data_2021.007.csv\", converters={'time_of_infraction': str})\n",
    "df8 = pd.read_csv(\"Parking_Tags_Data_2021.008.csv\", converters={'time_of_infraction': str})\n",
    "df9 = pd.read_csv(\"Parking_Tags_Data_2021.009.csv\", converters={'time_of_infraction': str})\n",
    "df10 = pd.read_csv(\"Parking_Tags_Data_2021.010.csv\", converters={'time_of_infraction': str})\n",
    "df11 = pd.read_csv(\"Parking_Tags_Data_2021.011.csv\", converters={'time_of_infraction': str})\n",
    "df12 = pd.read_csv(\"Parking_Tags_Data_2021.012.csv\", converters={'time_of_infraction': str})\n",
    "df13 = pd.read_csv(\"Parking_Tags_Data_2021.013.csv\", converters={'time_of_infraction': str})\n",
    "df14 = pd.read_csv(\"Parking_Tags_Data_2021.014.csv\", converters={'time_of_infraction': str})"
   ]
  },
  {
   "cell_type": "code",
   "execution_count": 5,
   "id": "NmgbbzfT0iAx",
   "metadata": {
    "executionInfo": {
     "elapsed": 7,
     "status": "aborted",
     "timestamp": 1681516244803,
     "user": {
      "displayName": "Stuart L",
      "userId": "02812462676981724217"
     },
     "user_tz": 240
    },
    "id": "NmgbbzfT0iAx"
   },
   "outputs": [
    {
     "name": "stdout",
     "output_type": "stream",
     "text": [
      "<class 'pandas.core.frame.DataFrame'>\n",
      "RangeIndex: 1481709 entries, 0 to 1481708\n",
      "Data columns (total 11 columns):\n",
      " #   Column                  Non-Null Count    Dtype \n",
      "---  ------                  --------------    ----- \n",
      " 0   tag_number_masked       1481709 non-null  object\n",
      " 1   date_of_infraction      1481709 non-null  int64 \n",
      " 2   infraction_code         1481709 non-null  int64 \n",
      " 3   infraction_description  1481709 non-null  object\n",
      " 4   set_fine_amount         1481709 non-null  int64 \n",
      " 5   time_of_infraction      1481709 non-null  object\n",
      " 6   location1               1266684 non-null  object\n",
      " 7   location2               1481627 non-null  object\n",
      " 8   location3               126160 non-null   object\n",
      " 9   location4               126286 non-null   object\n",
      " 10  province                1481709 non-null  object\n",
      "dtypes: int64(3), object(8)\n",
      "memory usage: 124.4+ MB\n"
     ]
    }
   ],
   "source": [
    "# append 2021 files to one dataframe\n",
    "\n",
    "df2021 = pd.concat([df, df1, df2, df3, df4, df5, df6, df7,df8, df9, df10, df11, df12, df13, df14], ignore_index=True)\n",
    "df2021.info()"
   ]
  },
  {
   "cell_type": "code",
   "execution_count": 6,
   "id": "CmT62uoIwlV8",
   "metadata": {
    "executionInfo": {
     "elapsed": 7,
     "status": "aborted",
     "timestamp": 1681516244803,
     "user": {
      "displayName": "Stuart L",
      "userId": "02812462676981724217"
     },
     "user_tz": 240
    },
    "id": "CmT62uoIwlV8"
   },
   "outputs": [
    {
     "name": "stdout",
     "output_type": "stream",
     "text": [
      "<class 'pandas.core.frame.DataFrame'>\n",
      "RangeIndex: 3303596 entries, 0 to 3303595\n",
      "Data columns (total 11 columns):\n",
      " #   Column                  Dtype \n",
      "---  ------                  ----- \n",
      " 0   tag_number_masked       object\n",
      " 1   date_of_infraction      int64 \n",
      " 2   infraction_code         int64 \n",
      " 3   infraction_description  object\n",
      " 4   set_fine_amount         int64 \n",
      " 5   time_of_infraction      object\n",
      " 6   location1               object\n",
      " 7   location2               object\n",
      " 8   location3               object\n",
      " 9   location4               object\n",
      " 10  province                object\n",
      "dtypes: int64(3), object(8)\n",
      "memory usage: 277.2+ MB\n"
     ]
    }
   ],
   "source": [
    "df = pd.concat([df2021,df2022], ignore_index=True)\n",
    "df.info()"
   ]
  },
  {
   "cell_type": "code",
   "execution_count": 7,
   "id": "01569798-212d-4cc1-81a9-5522175209e4",
   "metadata": {
    "colab": {
     "base_uri": "https://localhost:8080/",
     "height": 337
    },
    "id": "01569798-212d-4cc1-81a9-5522175209e4",
    "outputId": "a7996b14-da9e-43a4-8e90-080988db094f"
   },
   "outputs": [
    {
     "data": {
      "text/html": [
       "<div>\n",
       "<style scoped>\n",
       "    .dataframe tbody tr th:only-of-type {\n",
       "        vertical-align: middle;\n",
       "    }\n",
       "\n",
       "    .dataframe tbody tr th {\n",
       "        vertical-align: top;\n",
       "    }\n",
       "\n",
       "    .dataframe thead th {\n",
       "        text-align: right;\n",
       "    }\n",
       "</style>\n",
       "<table border=\"1\" class=\"dataframe\">\n",
       "  <thead>\n",
       "    <tr style=\"text-align: right;\">\n",
       "      <th></th>\n",
       "      <th>tag_number_masked</th>\n",
       "      <th>date_of_infraction</th>\n",
       "      <th>infraction_code</th>\n",
       "      <th>infraction_description</th>\n",
       "      <th>set_fine_amount</th>\n",
       "      <th>time_of_infraction</th>\n",
       "      <th>location1</th>\n",
       "      <th>location2</th>\n",
       "      <th>location3</th>\n",
       "      <th>location4</th>\n",
       "      <th>province</th>\n",
       "    </tr>\n",
       "  </thead>\n",
       "  <tbody>\n",
       "    <tr>\n",
       "      <th>0</th>\n",
       "      <td>***92621</td>\n",
       "      <td>20210101</td>\n",
       "      <td>3</td>\n",
       "      <td>PARK ON PRIVATE PROPERTY</td>\n",
       "      <td>30</td>\n",
       "      <td>0013</td>\n",
       "      <td>AT</td>\n",
       "      <td>1440 LAWRENCE AVE W</td>\n",
       "      <td>NaN</td>\n",
       "      <td>NaN</td>\n",
       "      <td>ON</td>\n",
       "    </tr>\n",
       "    <tr>\n",
       "      <th>1</th>\n",
       "      <td>***42843</td>\n",
       "      <td>20210101</td>\n",
       "      <td>3</td>\n",
       "      <td>PARK ON PRIVATE PROPERTY</td>\n",
       "      <td>30</td>\n",
       "      <td>0026</td>\n",
       "      <td>NaN</td>\n",
       "      <td>33 GABIAN WAY</td>\n",
       "      <td>NaN</td>\n",
       "      <td>NaN</td>\n",
       "      <td>ON</td>\n",
       "    </tr>\n",
       "    <tr>\n",
       "      <th>2</th>\n",
       "      <td>***47171</td>\n",
       "      <td>20210101</td>\n",
       "      <td>3</td>\n",
       "      <td>PARK ON PRIVATE PROPERTY</td>\n",
       "      <td>30</td>\n",
       "      <td>0029</td>\n",
       "      <td>NaN</td>\n",
       "      <td>16 WILLIAM KITCHEN</td>\n",
       "      <td>NaN</td>\n",
       "      <td>NaN</td>\n",
       "      <td>ON</td>\n",
       "    </tr>\n",
       "    <tr>\n",
       "      <th>3</th>\n",
       "      <td>***42844</td>\n",
       "      <td>20210101</td>\n",
       "      <td>3</td>\n",
       "      <td>PARK ON PRIVATE PROPERTY</td>\n",
       "      <td>30</td>\n",
       "      <td>0029</td>\n",
       "      <td>NaN</td>\n",
       "      <td>33 GABIAN WAY</td>\n",
       "      <td>NaN</td>\n",
       "      <td>NaN</td>\n",
       "      <td>ON</td>\n",
       "    </tr>\n",
       "    <tr>\n",
       "      <th>4</th>\n",
       "      <td>***42848</td>\n",
       "      <td>20210101</td>\n",
       "      <td>3</td>\n",
       "      <td>PARK ON PRIVATE PROPERTY</td>\n",
       "      <td>30</td>\n",
       "      <td>0040</td>\n",
       "      <td>NaN</td>\n",
       "      <td>33 GABIAN WAY</td>\n",
       "      <td>NaN</td>\n",
       "      <td>NaN</td>\n",
       "      <td>ON</td>\n",
       "    </tr>\n",
       "  </tbody>\n",
       "</table>\n",
       "</div>"
      ],
      "text/plain": [
       "  tag_number_masked  date_of_infraction  infraction_code  \\\n",
       "0          ***92621            20210101                3   \n",
       "1          ***42843            20210101                3   \n",
       "2          ***47171            20210101                3   \n",
       "3          ***42844            20210101                3   \n",
       "4          ***42848            20210101                3   \n",
       "\n",
       "     infraction_description  set_fine_amount time_of_infraction location1  \\\n",
       "0  PARK ON PRIVATE PROPERTY               30               0013        AT   \n",
       "1  PARK ON PRIVATE PROPERTY               30               0026       NaN   \n",
       "2  PARK ON PRIVATE PROPERTY               30               0029       NaN   \n",
       "3  PARK ON PRIVATE PROPERTY               30               0029       NaN   \n",
       "4  PARK ON PRIVATE PROPERTY               30               0040       NaN   \n",
       "\n",
       "             location2 location3 location4 province  \n",
       "0  1440 LAWRENCE AVE W       NaN       NaN       ON  \n",
       "1        33 GABIAN WAY       NaN       NaN       ON  \n",
       "2   16 WILLIAM KITCHEN       NaN       NaN       ON  \n",
       "3        33 GABIAN WAY       NaN       NaN       ON  \n",
       "4        33 GABIAN WAY       NaN       NaN       ON  "
      ]
     },
     "execution_count": 7,
     "metadata": {},
     "output_type": "execute_result"
    }
   ],
   "source": [
    "# display all columns\n",
    "\n",
    "pd.set_option('display.max_columns', None)\n",
    "df.head()"
   ]
  },
  {
   "cell_type": "code",
   "execution_count": 8,
   "id": "160879b1",
   "metadata": {},
   "outputs": [],
   "source": [
    "df_con = df"
   ]
  },
  {
   "cell_type": "markdown",
   "id": "IwFNP3LF4ZY1",
   "metadata": {
    "id": "IwFNP3LF4ZY1"
   },
   "source": [
    "New columns are engineered for meaningful analysis"
   ]
  },
  {
   "cell_type": "code",
   "execution_count": 9,
   "id": "Aqa1m4Ms3d2A",
   "metadata": {
    "id": "Aqa1m4Ms3d2A"
   },
   "outputs": [],
   "source": [
    "# convert infraction date to datetime format\n",
    "df[\"date_of_infraction\"] = pd.to_datetime(df[\"date_of_infraction\"], format='%Y%m%d')\n",
    "\n",
    "# new columns to hold year, month, day, and day of week\n",
    "df['year'], df['month'], df['day'] = df['date_of_infraction'].dt.year, df['date_of_infraction'].dt.month, df['date_of_infraction'].dt.day"
   ]
  },
  {
   "cell_type": "markdown",
   "id": "Xsxq3kTjmwd_",
   "metadata": {
    "id": "Xsxq3kTjmwd_"
   },
   "source": [
    "**day of the week name**"
   ]
  },
  {
   "cell_type": "code",
   "execution_count": 10,
   "id": "WKHTsNmUb53e",
   "metadata": {
    "colab": {
     "base_uri": "https://localhost:8080/"
    },
    "id": "WKHTsNmUb53e",
    "outputId": "b1626067-b7cd-477d-84c3-96281c2d5410"
   },
   "outputs": [
    {
     "data": {
      "text/plain": [
       "0            Friday\n",
       "1            Friday\n",
       "2            Friday\n",
       "3            Friday\n",
       "4            Friday\n",
       "             ...   \n",
       "3303591    Saturday\n",
       "3303592    Saturday\n",
       "3303593    Saturday\n",
       "3303594    Saturday\n",
       "3303595    Saturday\n",
       "Name: day_of_week_name, Length: 3303596, dtype: object"
      ]
     },
     "execution_count": 10,
     "metadata": {},
     "output_type": "execute_result"
    }
   ],
   "source": [
    "df['day_of_week_name'] = df[\"date_of_infraction\"].dt.day_name()\n",
    "df['day_of_week_name']"
   ]
  },
  {
   "cell_type": "markdown",
   "id": "d03z5-6Amz46",
   "metadata": {
    "id": "d03z5-6Amz46"
   },
   "source": [
    "**day of the week numerical value** \n",
    "(to process in the model)\n",
    "\n",
    "- 0 = Monday\n",
    "- 1 = Tuesday\n",
    "- 2 = Wednesday\n",
    "- 3 = Thursday\n",
    "- 4 = Friday\n",
    "- 5 = Saturday\n",
    "- 6 = Sunday"
   ]
  },
  {
   "cell_type": "code",
   "execution_count": 11,
   "id": "TiIvAtflcFWw",
   "metadata": {
    "colab": {
     "base_uri": "https://localhost:8080/"
    },
    "id": "TiIvAtflcFWw",
    "outputId": "dacdd053-6780-49b7-b0c3-fda69722de35"
   },
   "outputs": [
    {
     "data": {
      "text/plain": [
       "0          4\n",
       "1          4\n",
       "2          4\n",
       "3          4\n",
       "4          4\n",
       "          ..\n",
       "3303591    5\n",
       "3303592    5\n",
       "3303593    5\n",
       "3303594    5\n",
       "3303595    5\n",
       "Name: day_of_week, Length: 3303596, dtype: int64"
      ]
     },
     "execution_count": 11,
     "metadata": {},
     "output_type": "execute_result"
    }
   ],
   "source": [
    "df['day_of_week'] = df['date_of_infraction'].dt.weekday\n",
    "df['day_of_week']"
   ]
  },
  {
   "cell_type": "code",
   "execution_count": 12,
   "id": "a59e8194",
   "metadata": {},
   "outputs": [],
   "source": [
    "df_rfc = df.copy()"
   ]
  },
  {
   "cell_type": "code",
   "execution_count": 13,
   "id": "Yl0ZOYHAciSN",
   "metadata": {
    "colab": {
     "base_uri": "https://localhost:8080/",
     "height": 1000
    },
    "id": "Yl0ZOYHAciSN",
    "outputId": "08c245ca-cee9-471b-b0b4-3636041e490c"
   },
   "outputs": [
    {
     "data": {
      "text/html": [
       "<div>\n",
       "<style scoped>\n",
       "    .dataframe tbody tr th:only-of-type {\n",
       "        vertical-align: middle;\n",
       "    }\n",
       "\n",
       "    .dataframe tbody tr th {\n",
       "        vertical-align: top;\n",
       "    }\n",
       "\n",
       "    .dataframe thead th {\n",
       "        text-align: right;\n",
       "    }\n",
       "</style>\n",
       "<table border=\"1\" class=\"dataframe\">\n",
       "  <thead>\n",
       "    <tr style=\"text-align: right;\">\n",
       "      <th></th>\n",
       "      <th>tag_number_masked</th>\n",
       "      <th>date_of_infraction</th>\n",
       "      <th>infraction_code</th>\n",
       "      <th>infraction_description</th>\n",
       "      <th>set_fine_amount</th>\n",
       "      <th>time_of_infraction</th>\n",
       "      <th>location1</th>\n",
       "      <th>location2</th>\n",
       "      <th>location3</th>\n",
       "      <th>location4</th>\n",
       "      <th>province</th>\n",
       "      <th>year</th>\n",
       "      <th>month</th>\n",
       "      <th>day</th>\n",
       "      <th>day_of_week_name</th>\n",
       "      <th>day_of_week</th>\n",
       "    </tr>\n",
       "  </thead>\n",
       "  <tbody>\n",
       "    <tr>\n",
       "      <th>361583</th>\n",
       "      <td>***54680</td>\n",
       "      <td>2021-06-02</td>\n",
       "      <td>3</td>\n",
       "      <td>PARK ON PRIVATE PROPERTY</td>\n",
       "      <td>30</td>\n",
       "      <td>1238</td>\n",
       "      <td>AT</td>\n",
       "      <td>440 BROWN'S LINE</td>\n",
       "      <td>NaN</td>\n",
       "      <td>NaN</td>\n",
       "      <td>ON</td>\n",
       "      <td>2021</td>\n",
       "      <td>6</td>\n",
       "      <td>2</td>\n",
       "      <td>Wednesday</td>\n",
       "      <td>2</td>\n",
       "    </tr>\n",
       "    <tr>\n",
       "      <th>246434</th>\n",
       "      <td>***50183</td>\n",
       "      <td>2021-04-19</td>\n",
       "      <td>384</td>\n",
       "      <td>STOP VEH OTR THN BCYCL-BYCL LN</td>\n",
       "      <td>150</td>\n",
       "      <td>0815</td>\n",
       "      <td>NR</td>\n",
       "      <td>245 DAVENPORT RD</td>\n",
       "      <td>NaN</td>\n",
       "      <td>NaN</td>\n",
       "      <td>ON</td>\n",
       "      <td>2021</td>\n",
       "      <td>4</td>\n",
       "      <td>19</td>\n",
       "      <td>Monday</td>\n",
       "      <td>0</td>\n",
       "    </tr>\n",
       "    <tr>\n",
       "      <th>2128939</th>\n",
       "      <td>***60536</td>\n",
       "      <td>2022-05-18</td>\n",
       "      <td>417</td>\n",
       "      <td>STAND VEH.-PSGR LD ZN LD/UNLD</td>\n",
       "      <td>100</td>\n",
       "      <td>1404</td>\n",
       "      <td>NR</td>\n",
       "      <td>273 BLOOR ST W</td>\n",
       "      <td>NaN</td>\n",
       "      <td>NaN</td>\n",
       "      <td>ON</td>\n",
       "      <td>2022</td>\n",
       "      <td>5</td>\n",
       "      <td>18</td>\n",
       "      <td>Wednesday</td>\n",
       "      <td>2</td>\n",
       "    </tr>\n",
       "    <tr>\n",
       "      <th>76774</th>\n",
       "      <td>***73584</td>\n",
       "      <td>2021-02-10</td>\n",
       "      <td>384</td>\n",
       "      <td>STOP VEH OTR THN BCYCL-BYCL LN</td>\n",
       "      <td>150</td>\n",
       "      <td>2155</td>\n",
       "      <td>NR</td>\n",
       "      <td>15 FORT YORK BLVD</td>\n",
       "      <td>NaN</td>\n",
       "      <td>NaN</td>\n",
       "      <td>ON</td>\n",
       "      <td>2021</td>\n",
       "      <td>2</td>\n",
       "      <td>10</td>\n",
       "      <td>Wednesday</td>\n",
       "      <td>2</td>\n",
       "    </tr>\n",
       "    <tr>\n",
       "      <th>3075976</th>\n",
       "      <td>***32678</td>\n",
       "      <td>2022-11-10</td>\n",
       "      <td>6</td>\n",
       "      <td>PARK-SIGNED HWY-EXC PERMT TIME</td>\n",
       "      <td>40</td>\n",
       "      <td>1931</td>\n",
       "      <td>NR</td>\n",
       "      <td>20 SUSSEX AVE</td>\n",
       "      <td>NaN</td>\n",
       "      <td>NaN</td>\n",
       "      <td>ON</td>\n",
       "      <td>2022</td>\n",
       "      <td>11</td>\n",
       "      <td>10</td>\n",
       "      <td>Thursday</td>\n",
       "      <td>3</td>\n",
       "    </tr>\n",
       "    <tr>\n",
       "      <th>1165284</th>\n",
       "      <td>***35209</td>\n",
       "      <td>2021-11-01</td>\n",
       "      <td>3</td>\n",
       "      <td>PARK ON PRIVATE PROPERTY</td>\n",
       "      <td>30</td>\n",
       "      <td>1133</td>\n",
       "      <td>AT</td>\n",
       "      <td>232 DUPONT ST</td>\n",
       "      <td>NaN</td>\n",
       "      <td>NaN</td>\n",
       "      <td>ON</td>\n",
       "      <td>2021</td>\n",
       "      <td>11</td>\n",
       "      <td>1</td>\n",
       "      <td>Monday</td>\n",
       "      <td>0</td>\n",
       "    </tr>\n",
       "    <tr>\n",
       "      <th>104599</th>\n",
       "      <td>***00054</td>\n",
       "      <td>2021-02-24</td>\n",
       "      <td>5</td>\n",
       "      <td>PARK-SIGNED HWY-PROHIBIT DY/TM</td>\n",
       "      <td>50</td>\n",
       "      <td>0912</td>\n",
       "      <td>NR</td>\n",
       "      <td>105 THE POND RD</td>\n",
       "      <td>NaN</td>\n",
       "      <td>NaN</td>\n",
       "      <td>ON</td>\n",
       "      <td>2021</td>\n",
       "      <td>2</td>\n",
       "      <td>24</td>\n",
       "      <td>Wednesday</td>\n",
       "      <td>2</td>\n",
       "    </tr>\n",
       "    <tr>\n",
       "      <th>2759076</th>\n",
       "      <td>***10762</td>\n",
       "      <td>2022-09-13</td>\n",
       "      <td>134</td>\n",
       "      <td>PARK-SIGNED HWY-PUBLIC LANE</td>\n",
       "      <td>40</td>\n",
       "      <td>1241</td>\n",
       "      <td>N/O</td>\n",
       "      <td>QUEEN ST W</td>\n",
       "      <td>E/O</td>\n",
       "      <td>RYERSON AVE</td>\n",
       "      <td>ON</td>\n",
       "      <td>2022</td>\n",
       "      <td>9</td>\n",
       "      <td>13</td>\n",
       "      <td>Tuesday</td>\n",
       "      <td>1</td>\n",
       "    </tr>\n",
       "    <tr>\n",
       "      <th>343482</th>\n",
       "      <td>***49193</td>\n",
       "      <td>2021-05-27</td>\n",
       "      <td>29</td>\n",
       "      <td>PARK PROHIBITED TIME NO PERMIT</td>\n",
       "      <td>30</td>\n",
       "      <td>0222</td>\n",
       "      <td>NR</td>\n",
       "      <td>2 SARAH JACKSON CRES</td>\n",
       "      <td>NaN</td>\n",
       "      <td>NaN</td>\n",
       "      <td>ON</td>\n",
       "      <td>2021</td>\n",
       "      <td>5</td>\n",
       "      <td>27</td>\n",
       "      <td>Thursday</td>\n",
       "      <td>3</td>\n",
       "    </tr>\n",
       "    <tr>\n",
       "      <th>2940057</th>\n",
       "      <td>***23777</td>\n",
       "      <td>2022-10-17</td>\n",
       "      <td>3</td>\n",
       "      <td>PARK ON PRIVATE PROPERTY</td>\n",
       "      <td>30</td>\n",
       "      <td>1008</td>\n",
       "      <td>NaN</td>\n",
       "      <td>18 HARBOUR ST</td>\n",
       "      <td>NaN</td>\n",
       "      <td>NaN</td>\n",
       "      <td>ON</td>\n",
       "      <td>2022</td>\n",
       "      <td>10</td>\n",
       "      <td>17</td>\n",
       "      <td>Monday</td>\n",
       "      <td>0</td>\n",
       "    </tr>\n",
       "    <tr>\n",
       "      <th>2357462</th>\n",
       "      <td>***10522</td>\n",
       "      <td>2022-06-29</td>\n",
       "      <td>29</td>\n",
       "      <td>PARK PROHIBITED TIME NO PERMIT</td>\n",
       "      <td>30</td>\n",
       "      <td>0636</td>\n",
       "      <td>OPP</td>\n",
       "      <td>38 HOWICK AVE</td>\n",
       "      <td>NaN</td>\n",
       "      <td>NaN</td>\n",
       "      <td>ON</td>\n",
       "      <td>2022</td>\n",
       "      <td>6</td>\n",
       "      <td>29</td>\n",
       "      <td>Wednesday</td>\n",
       "      <td>2</td>\n",
       "    </tr>\n",
       "    <tr>\n",
       "      <th>360985</th>\n",
       "      <td>***04340</td>\n",
       "      <td>2021-06-02</td>\n",
       "      <td>5</td>\n",
       "      <td>PARK-SIGNED HWY-PROHIBIT DY/TM</td>\n",
       "      <td>50</td>\n",
       "      <td>1049</td>\n",
       "      <td>OPP</td>\n",
       "      <td>34 LITTLE NORWAY CRES</td>\n",
       "      <td>NaN</td>\n",
       "      <td>NaN</td>\n",
       "      <td>ON</td>\n",
       "      <td>2021</td>\n",
       "      <td>6</td>\n",
       "      <td>2</td>\n",
       "      <td>Wednesday</td>\n",
       "      <td>2</td>\n",
       "    </tr>\n",
       "    <tr>\n",
       "      <th>157761</th>\n",
       "      <td>***06441</td>\n",
       "      <td>2021-03-16</td>\n",
       "      <td>14</td>\n",
       "      <td>PARK-OBSTRUCT (DRWAY/LANEWAY)</td>\n",
       "      <td>50</td>\n",
       "      <td>1243</td>\n",
       "      <td>OPP</td>\n",
       "      <td>31 TRENT AVE</td>\n",
       "      <td>NaN</td>\n",
       "      <td>NaN</td>\n",
       "      <td>ON</td>\n",
       "      <td>2021</td>\n",
       "      <td>3</td>\n",
       "      <td>16</td>\n",
       "      <td>Tuesday</td>\n",
       "      <td>1</td>\n",
       "    </tr>\n",
       "    <tr>\n",
       "      <th>636567</th>\n",
       "      <td>***49176</td>\n",
       "      <td>2021-07-28</td>\n",
       "      <td>3</td>\n",
       "      <td>PARK ON PRIVATE PROPERTY</td>\n",
       "      <td>30</td>\n",
       "      <td>0148</td>\n",
       "      <td>AT</td>\n",
       "      <td>200 CHALKFARM DR</td>\n",
       "      <td>NaN</td>\n",
       "      <td>NaN</td>\n",
       "      <td>MB</td>\n",
       "      <td>2021</td>\n",
       "      <td>7</td>\n",
       "      <td>28</td>\n",
       "      <td>Wednesday</td>\n",
       "      <td>2</td>\n",
       "    </tr>\n",
       "    <tr>\n",
       "      <th>1042884</th>\n",
       "      <td>***01544</td>\n",
       "      <td>2021-10-10</td>\n",
       "      <td>6</td>\n",
       "      <td>PARK-SIGNED HWY-EXC PERMT TIME</td>\n",
       "      <td>40</td>\n",
       "      <td>1244</td>\n",
       "      <td>N/S</td>\n",
       "      <td>SPRINGHURST AVE</td>\n",
       "      <td>W/O</td>\n",
       "      <td>CLOSE AVE</td>\n",
       "      <td>ON</td>\n",
       "      <td>2021</td>\n",
       "      <td>10</td>\n",
       "      <td>10</td>\n",
       "      <td>Sunday</td>\n",
       "      <td>6</td>\n",
       "    </tr>\n",
       "    <tr>\n",
       "      <th>1845791</th>\n",
       "      <td>***71242</td>\n",
       "      <td>2022-03-28</td>\n",
       "      <td>6</td>\n",
       "      <td>PARK-SIGNED HWY-EXC PERMT TIME</td>\n",
       "      <td>40</td>\n",
       "      <td>0935</td>\n",
       "      <td>NR</td>\n",
       "      <td>217 GLENGARRY AVE</td>\n",
       "      <td>NaN</td>\n",
       "      <td>NaN</td>\n",
       "      <td>ON</td>\n",
       "      <td>2022</td>\n",
       "      <td>3</td>\n",
       "      <td>28</td>\n",
       "      <td>Monday</td>\n",
       "      <td>0</td>\n",
       "    </tr>\n",
       "    <tr>\n",
       "      <th>3240981</th>\n",
       "      <td>***13104</td>\n",
       "      <td>2022-12-14</td>\n",
       "      <td>29</td>\n",
       "      <td>PARK PROHIBITED TIME NO PERMIT</td>\n",
       "      <td>30</td>\n",
       "      <td>0107</td>\n",
       "      <td>NR</td>\n",
       "      <td>69 JASPER AVE</td>\n",
       "      <td>NaN</td>\n",
       "      <td>NaN</td>\n",
       "      <td>ON</td>\n",
       "      <td>2022</td>\n",
       "      <td>12</td>\n",
       "      <td>14</td>\n",
       "      <td>Wednesday</td>\n",
       "      <td>2</td>\n",
       "    </tr>\n",
       "    <tr>\n",
       "      <th>1327062</th>\n",
       "      <td>***87815</td>\n",
       "      <td>2021-11-29</td>\n",
       "      <td>3</td>\n",
       "      <td>PARK ON PRIVATE PROPERTY</td>\n",
       "      <td>30</td>\n",
       "      <td>0240</td>\n",
       "      <td>NaN</td>\n",
       "      <td>270 TIMBERBANK BLVD</td>\n",
       "      <td>NaN</td>\n",
       "      <td>NaN</td>\n",
       "      <td>ON</td>\n",
       "      <td>2021</td>\n",
       "      <td>11</td>\n",
       "      <td>29</td>\n",
       "      <td>Monday</td>\n",
       "      <td>0</td>\n",
       "    </tr>\n",
       "    <tr>\n",
       "      <th>2918425</th>\n",
       "      <td>***09160</td>\n",
       "      <td>2022-10-13</td>\n",
       "      <td>5</td>\n",
       "      <td>PARK-SIGNED HWY-PROHIBIT DY/TM</td>\n",
       "      <td>50</td>\n",
       "      <td>0916</td>\n",
       "      <td>OPP</td>\n",
       "      <td>80 GIVINS ST</td>\n",
       "      <td>NaN</td>\n",
       "      <td>NaN</td>\n",
       "      <td>ON</td>\n",
       "      <td>2022</td>\n",
       "      <td>10</td>\n",
       "      <td>13</td>\n",
       "      <td>Thursday</td>\n",
       "      <td>3</td>\n",
       "    </tr>\n",
       "    <tr>\n",
       "      <th>2248028</th>\n",
       "      <td>***24252</td>\n",
       "      <td>2022-06-09</td>\n",
       "      <td>8</td>\n",
       "      <td>STAND VEH.-PROHIBIT TIME/DAY</td>\n",
       "      <td>100</td>\n",
       "      <td>1415</td>\n",
       "      <td>NR</td>\n",
       "      <td>312 BROADVIEW AVE</td>\n",
       "      <td>NaN</td>\n",
       "      <td>NaN</td>\n",
       "      <td>ON</td>\n",
       "      <td>2022</td>\n",
       "      <td>6</td>\n",
       "      <td>9</td>\n",
       "      <td>Thursday</td>\n",
       "      <td>3</td>\n",
       "    </tr>\n",
       "  </tbody>\n",
       "</table>\n",
       "</div>"
      ],
      "text/plain": [
       "        tag_number_masked date_of_infraction  infraction_code  \\\n",
       "361583           ***54680         2021-06-02                3   \n",
       "246434           ***50183         2021-04-19              384   \n",
       "2128939          ***60536         2022-05-18              417   \n",
       "76774            ***73584         2021-02-10              384   \n",
       "3075976          ***32678         2022-11-10                6   \n",
       "1165284          ***35209         2021-11-01                3   \n",
       "104599           ***00054         2021-02-24                5   \n",
       "2759076          ***10762         2022-09-13              134   \n",
       "343482           ***49193         2021-05-27               29   \n",
       "2940057          ***23777         2022-10-17                3   \n",
       "2357462          ***10522         2022-06-29               29   \n",
       "360985           ***04340         2021-06-02                5   \n",
       "157761           ***06441         2021-03-16               14   \n",
       "636567           ***49176         2021-07-28                3   \n",
       "1042884          ***01544         2021-10-10                6   \n",
       "1845791          ***71242         2022-03-28                6   \n",
       "3240981          ***13104         2022-12-14               29   \n",
       "1327062          ***87815         2021-11-29                3   \n",
       "2918425          ***09160         2022-10-13                5   \n",
       "2248028          ***24252         2022-06-09                8   \n",
       "\n",
       "                 infraction_description  set_fine_amount time_of_infraction  \\\n",
       "361583         PARK ON PRIVATE PROPERTY               30               1238   \n",
       "246434   STOP VEH OTR THN BCYCL-BYCL LN              150               0815   \n",
       "2128939   STAND VEH.-PSGR LD ZN LD/UNLD              100               1404   \n",
       "76774    STOP VEH OTR THN BCYCL-BYCL LN              150               2155   \n",
       "3075976  PARK-SIGNED HWY-EXC PERMT TIME               40               1931   \n",
       "1165284        PARK ON PRIVATE PROPERTY               30               1133   \n",
       "104599   PARK-SIGNED HWY-PROHIBIT DY/TM               50               0912   \n",
       "2759076     PARK-SIGNED HWY-PUBLIC LANE               40               1241   \n",
       "343482   PARK PROHIBITED TIME NO PERMIT               30               0222   \n",
       "2940057        PARK ON PRIVATE PROPERTY               30               1008   \n",
       "2357462  PARK PROHIBITED TIME NO PERMIT               30               0636   \n",
       "360985   PARK-SIGNED HWY-PROHIBIT DY/TM               50               1049   \n",
       "157761    PARK-OBSTRUCT (DRWAY/LANEWAY)               50               1243   \n",
       "636567         PARK ON PRIVATE PROPERTY               30               0148   \n",
       "1042884  PARK-SIGNED HWY-EXC PERMT TIME               40               1244   \n",
       "1845791  PARK-SIGNED HWY-EXC PERMT TIME               40               0935   \n",
       "3240981  PARK PROHIBITED TIME NO PERMIT               30               0107   \n",
       "1327062        PARK ON PRIVATE PROPERTY               30               0240   \n",
       "2918425  PARK-SIGNED HWY-PROHIBIT DY/TM               50               0916   \n",
       "2248028    STAND VEH.-PROHIBIT TIME/DAY              100               1415   \n",
       "\n",
       "        location1              location2 location3    location4 province  \\\n",
       "361583         AT       440 BROWN'S LINE       NaN          NaN       ON   \n",
       "246434         NR       245 DAVENPORT RD       NaN          NaN       ON   \n",
       "2128939        NR         273 BLOOR ST W       NaN          NaN       ON   \n",
       "76774          NR      15 FORT YORK BLVD       NaN          NaN       ON   \n",
       "3075976        NR          20 SUSSEX AVE       NaN          NaN       ON   \n",
       "1165284        AT          232 DUPONT ST       NaN          NaN       ON   \n",
       "104599         NR        105 THE POND RD       NaN          NaN       ON   \n",
       "2759076       N/O             QUEEN ST W       E/O  RYERSON AVE       ON   \n",
       "343482         NR   2 SARAH JACKSON CRES       NaN          NaN       ON   \n",
       "2940057       NaN          18 HARBOUR ST       NaN          NaN       ON   \n",
       "2357462       OPP          38 HOWICK AVE       NaN          NaN       ON   \n",
       "360985        OPP  34 LITTLE NORWAY CRES       NaN          NaN       ON   \n",
       "157761        OPP           31 TRENT AVE       NaN          NaN       ON   \n",
       "636567         AT       200 CHALKFARM DR       NaN          NaN       MB   \n",
       "1042884       N/S        SPRINGHURST AVE       W/O    CLOSE AVE       ON   \n",
       "1845791        NR      217 GLENGARRY AVE       NaN          NaN       ON   \n",
       "3240981        NR          69 JASPER AVE       NaN          NaN       ON   \n",
       "1327062       NaN    270 TIMBERBANK BLVD       NaN          NaN       ON   \n",
       "2918425       OPP           80 GIVINS ST       NaN          NaN       ON   \n",
       "2248028        NR      312 BROADVIEW AVE       NaN          NaN       ON   \n",
       "\n",
       "         year  month  day day_of_week_name  day_of_week  \n",
       "361583   2021      6    2        Wednesday            2  \n",
       "246434   2021      4   19           Monday            0  \n",
       "2128939  2022      5   18        Wednesday            2  \n",
       "76774    2021      2   10        Wednesday            2  \n",
       "3075976  2022     11   10         Thursday            3  \n",
       "1165284  2021     11    1           Monday            0  \n",
       "104599   2021      2   24        Wednesday            2  \n",
       "2759076  2022      9   13          Tuesday            1  \n",
       "343482   2021      5   27         Thursday            3  \n",
       "2940057  2022     10   17           Monday            0  \n",
       "2357462  2022      6   29        Wednesday            2  \n",
       "360985   2021      6    2        Wednesday            2  \n",
       "157761   2021      3   16          Tuesday            1  \n",
       "636567   2021      7   28        Wednesday            2  \n",
       "1042884  2021     10   10           Sunday            6  \n",
       "1845791  2022      3   28           Monday            0  \n",
       "3240981  2022     12   14        Wednesday            2  \n",
       "1327062  2021     11   29           Monday            0  \n",
       "2918425  2022     10   13         Thursday            3  \n",
       "2248028  2022      6    9         Thursday            3  "
      ]
     },
     "execution_count": 13,
     "metadata": {},
     "output_type": "execute_result"
    }
   ],
   "source": [
    "df.sample(20)"
   ]
  },
  {
   "cell_type": "markdown",
   "id": "XWlfMkaam8Ho",
   "metadata": {
    "id": "XWlfMkaam8Ho"
   },
   "source": [
    "**remove empty value of time_of_infraction**"
   ]
  },
  {
   "cell_type": "code",
   "execution_count": 14,
   "id": "fJKr2_EpgThe",
   "metadata": {
    "colab": {
     "base_uri": "https://localhost:8080/",
     "height": 696
    },
    "id": "fJKr2_EpgThe",
    "outputId": "2b8bd193-011b-4ba7-8007-35a9ea62c954"
   },
   "outputs": [
    {
     "data": {
      "text/html": [
       "<div>\n",
       "<style scoped>\n",
       "    .dataframe tbody tr th:only-of-type {\n",
       "        vertical-align: middle;\n",
       "    }\n",
       "\n",
       "    .dataframe tbody tr th {\n",
       "        vertical-align: top;\n",
       "    }\n",
       "\n",
       "    .dataframe thead th {\n",
       "        text-align: right;\n",
       "    }\n",
       "</style>\n",
       "<table border=\"1\" class=\"dataframe\">\n",
       "  <thead>\n",
       "    <tr style=\"text-align: right;\">\n",
       "      <th></th>\n",
       "      <th>tag_number_masked</th>\n",
       "      <th>date_of_infraction</th>\n",
       "      <th>infraction_code</th>\n",
       "      <th>infraction_description</th>\n",
       "      <th>set_fine_amount</th>\n",
       "      <th>time_of_infraction</th>\n",
       "      <th>location1</th>\n",
       "      <th>location2</th>\n",
       "      <th>location3</th>\n",
       "      <th>location4</th>\n",
       "      <th>province</th>\n",
       "      <th>year</th>\n",
       "      <th>month</th>\n",
       "      <th>day</th>\n",
       "      <th>day_of_week_name</th>\n",
       "      <th>day_of_week</th>\n",
       "    </tr>\n",
       "  </thead>\n",
       "  <tbody>\n",
       "    <tr>\n",
       "      <th>1901</th>\n",
       "      <td>***92218</td>\n",
       "      <td>2021-01-02</td>\n",
       "      <td>5</td>\n",
       "      <td>PARK-SIGNED HWY-PROHIBIT DY/TM</td>\n",
       "      <td>50</td>\n",
       "      <td></td>\n",
       "      <td>OPP</td>\n",
       "      <td>129 ULSTER ST</td>\n",
       "      <td>NaN</td>\n",
       "      <td>NaN</td>\n",
       "      <td>ON</td>\n",
       "      <td>2021</td>\n",
       "      <td>1</td>\n",
       "      <td>2</td>\n",
       "      <td>Saturday</td>\n",
       "      <td>5</td>\n",
       "    </tr>\n",
       "    <tr>\n",
       "      <th>1902</th>\n",
       "      <td>***30296</td>\n",
       "      <td>2021-01-02</td>\n",
       "      <td>3</td>\n",
       "      <td>PARK ON PRIVATE PROPERTY</td>\n",
       "      <td>30</td>\n",
       "      <td></td>\n",
       "      <td>NaN</td>\n",
       "      <td>2264 LAKE SHORE BLVD</td>\n",
       "      <td>NaN</td>\n",
       "      <td>NaN</td>\n",
       "      <td>ON</td>\n",
       "      <td>2021</td>\n",
       "      <td>1</td>\n",
       "      <td>2</td>\n",
       "      <td>Saturday</td>\n",
       "      <td>5</td>\n",
       "    </tr>\n",
       "    <tr>\n",
       "      <th>3159</th>\n",
       "      <td>***00433</td>\n",
       "      <td>2021-01-03</td>\n",
       "      <td>3</td>\n",
       "      <td>PARK ON PRIVATE PROPERTY</td>\n",
       "      <td>30</td>\n",
       "      <td></td>\n",
       "      <td>NaN</td>\n",
       "      <td>415 WILLOWDALE AVE</td>\n",
       "      <td>NaN</td>\n",
       "      <td>NaN</td>\n",
       "      <td>ON</td>\n",
       "      <td>2021</td>\n",
       "      <td>1</td>\n",
       "      <td>3</td>\n",
       "      <td>Sunday</td>\n",
       "      <td>6</td>\n",
       "    </tr>\n",
       "    <tr>\n",
       "      <th>3160</th>\n",
       "      <td>***30364</td>\n",
       "      <td>2021-01-03</td>\n",
       "      <td>3</td>\n",
       "      <td>PARK ON PRIVATE PROPERTY</td>\n",
       "      <td>30</td>\n",
       "      <td></td>\n",
       "      <td>NaN</td>\n",
       "      <td>1137 MARKHAM RD</td>\n",
       "      <td>NaN</td>\n",
       "      <td>NaN</td>\n",
       "      <td>ON</td>\n",
       "      <td>2021</td>\n",
       "      <td>1</td>\n",
       "      <td>3</td>\n",
       "      <td>Sunday</td>\n",
       "      <td>6</td>\n",
       "    </tr>\n",
       "    <tr>\n",
       "      <th>7167</th>\n",
       "      <td>***00979</td>\n",
       "      <td>2021-01-05</td>\n",
       "      <td>3</td>\n",
       "      <td>PARK ON PRIVATE PROPERTY</td>\n",
       "      <td>30</td>\n",
       "      <td></td>\n",
       "      <td>NaN</td>\n",
       "      <td>15 FIELD SPARROWAY</td>\n",
       "      <td>NaN</td>\n",
       "      <td>NaN</td>\n",
       "      <td>ON</td>\n",
       "      <td>2021</td>\n",
       "      <td>1</td>\n",
       "      <td>5</td>\n",
       "      <td>Tuesday</td>\n",
       "      <td>1</td>\n",
       "    </tr>\n",
       "    <tr>\n",
       "      <th>...</th>\n",
       "      <td>...</td>\n",
       "      <td>...</td>\n",
       "      <td>...</td>\n",
       "      <td>...</td>\n",
       "      <td>...</td>\n",
       "      <td>...</td>\n",
       "      <td>...</td>\n",
       "      <td>...</td>\n",
       "      <td>...</td>\n",
       "      <td>...</td>\n",
       "      <td>...</td>\n",
       "      <td>...</td>\n",
       "      <td>...</td>\n",
       "      <td>...</td>\n",
       "      <td>...</td>\n",
       "      <td>...</td>\n",
       "    </tr>\n",
       "    <tr>\n",
       "      <th>3281475</th>\n",
       "      <td>***10085</td>\n",
       "      <td>2022-12-23</td>\n",
       "      <td>403</td>\n",
       "      <td>STOP-SIGNED HIGHWAY-RUSH HOUR</td>\n",
       "      <td>150</td>\n",
       "      <td></td>\n",
       "      <td>NR</td>\n",
       "      <td>2455 YONGE ST</td>\n",
       "      <td>NaN</td>\n",
       "      <td>NaN</td>\n",
       "      <td>ON</td>\n",
       "      <td>2022</td>\n",
       "      <td>12</td>\n",
       "      <td>23</td>\n",
       "      <td>Friday</td>\n",
       "      <td>4</td>\n",
       "    </tr>\n",
       "    <tr>\n",
       "      <th>3284511</th>\n",
       "      <td>***62181</td>\n",
       "      <td>2022-12-26</td>\n",
       "      <td>5</td>\n",
       "      <td>PARK-SIGNED HWY-PROHIBIT DY/TM</td>\n",
       "      <td>50</td>\n",
       "      <td></td>\n",
       "      <td>NR</td>\n",
       "      <td>199 YONGE ST</td>\n",
       "      <td>NaN</td>\n",
       "      <td>NaN</td>\n",
       "      <td>ON</td>\n",
       "      <td>2022</td>\n",
       "      <td>12</td>\n",
       "      <td>26</td>\n",
       "      <td>Monday</td>\n",
       "      <td>0</td>\n",
       "    </tr>\n",
       "    <tr>\n",
       "      <th>3284512</th>\n",
       "      <td>***62182</td>\n",
       "      <td>2022-12-26</td>\n",
       "      <td>9</td>\n",
       "      <td>STOP-SIGNED HWY-PROHIBIT TM/DY</td>\n",
       "      <td>100</td>\n",
       "      <td></td>\n",
       "      <td>NR</td>\n",
       "      <td>220 YONGE ST</td>\n",
       "      <td>NaN</td>\n",
       "      <td>NaN</td>\n",
       "      <td>ON</td>\n",
       "      <td>2022</td>\n",
       "      <td>12</td>\n",
       "      <td>26</td>\n",
       "      <td>Monday</td>\n",
       "      <td>0</td>\n",
       "    </tr>\n",
       "    <tr>\n",
       "      <th>3286724</th>\n",
       "      <td>***57829</td>\n",
       "      <td>2022-12-27</td>\n",
       "      <td>3</td>\n",
       "      <td>PARK ON PRIVATE PROPERTY</td>\n",
       "      <td>30</td>\n",
       "      <td></td>\n",
       "      <td>NaN</td>\n",
       "      <td>33 SHORE BREEZE DR</td>\n",
       "      <td>NaN</td>\n",
       "      <td>NaN</td>\n",
       "      <td>ON</td>\n",
       "      <td>2022</td>\n",
       "      <td>12</td>\n",
       "      <td>27</td>\n",
       "      <td>Tuesday</td>\n",
       "      <td>1</td>\n",
       "    </tr>\n",
       "    <tr>\n",
       "      <th>3303595</th>\n",
       "      <td>***43230</td>\n",
       "      <td>2022-12-31</td>\n",
       "      <td>3</td>\n",
       "      <td>PARK ON PRIVATE PROPERTY</td>\n",
       "      <td>30</td>\n",
       "      <td></td>\n",
       "      <td>NaN</td>\n",
       "      <td>145 MARLEE AVE</td>\n",
       "      <td>NaN</td>\n",
       "      <td>NaN</td>\n",
       "      <td>ON</td>\n",
       "      <td>2022</td>\n",
       "      <td>12</td>\n",
       "      <td>31</td>\n",
       "      <td>Saturday</td>\n",
       "      <td>5</td>\n",
       "    </tr>\n",
       "  </tbody>\n",
       "</table>\n",
       "<p>1864 rows × 16 columns</p>\n",
       "</div>"
      ],
      "text/plain": [
       "        tag_number_masked date_of_infraction  infraction_code  \\\n",
       "1901             ***92218         2021-01-02                5   \n",
       "1902             ***30296         2021-01-02                3   \n",
       "3159             ***00433         2021-01-03                3   \n",
       "3160             ***30364         2021-01-03                3   \n",
       "7167             ***00979         2021-01-05                3   \n",
       "...                   ...                ...              ...   \n",
       "3281475          ***10085         2022-12-23              403   \n",
       "3284511          ***62181         2022-12-26                5   \n",
       "3284512          ***62182         2022-12-26                9   \n",
       "3286724          ***57829         2022-12-27                3   \n",
       "3303595          ***43230         2022-12-31                3   \n",
       "\n",
       "                 infraction_description  set_fine_amount time_of_infraction  \\\n",
       "1901     PARK-SIGNED HWY-PROHIBIT DY/TM               50                      \n",
       "1902           PARK ON PRIVATE PROPERTY               30                      \n",
       "3159           PARK ON PRIVATE PROPERTY               30                      \n",
       "3160           PARK ON PRIVATE PROPERTY               30                      \n",
       "7167           PARK ON PRIVATE PROPERTY               30                      \n",
       "...                                 ...              ...                ...   \n",
       "3281475   STOP-SIGNED HIGHWAY-RUSH HOUR              150                      \n",
       "3284511  PARK-SIGNED HWY-PROHIBIT DY/TM               50                      \n",
       "3284512  STOP-SIGNED HWY-PROHIBIT TM/DY              100                      \n",
       "3286724        PARK ON PRIVATE PROPERTY               30                      \n",
       "3303595        PARK ON PRIVATE PROPERTY               30                      \n",
       "\n",
       "        location1             location2 location3 location4 province  year  \\\n",
       "1901          OPP         129 ULSTER ST       NaN       NaN       ON  2021   \n",
       "1902          NaN  2264 LAKE SHORE BLVD       NaN       NaN       ON  2021   \n",
       "3159          NaN    415 WILLOWDALE AVE       NaN       NaN       ON  2021   \n",
       "3160          NaN       1137 MARKHAM RD       NaN       NaN       ON  2021   \n",
       "7167          NaN    15 FIELD SPARROWAY       NaN       NaN       ON  2021   \n",
       "...           ...                   ...       ...       ...      ...   ...   \n",
       "3281475        NR         2455 YONGE ST       NaN       NaN       ON  2022   \n",
       "3284511        NR          199 YONGE ST       NaN       NaN       ON  2022   \n",
       "3284512        NR          220 YONGE ST       NaN       NaN       ON  2022   \n",
       "3286724       NaN    33 SHORE BREEZE DR       NaN       NaN       ON  2022   \n",
       "3303595       NaN        145 MARLEE AVE       NaN       NaN       ON  2022   \n",
       "\n",
       "         month  day day_of_week_name  day_of_week  \n",
       "1901         1    2         Saturday            5  \n",
       "1902         1    2         Saturday            5  \n",
       "3159         1    3           Sunday            6  \n",
       "3160         1    3           Sunday            6  \n",
       "7167         1    5          Tuesday            1  \n",
       "...        ...  ...              ...          ...  \n",
       "3281475     12   23           Friday            4  \n",
       "3284511     12   26           Monday            0  \n",
       "3284512     12   26           Monday            0  \n",
       "3286724     12   27          Tuesday            1  \n",
       "3303595     12   31         Saturday            5  \n",
       "\n",
       "[1864 rows x 16 columns]"
      ]
     },
     "execution_count": 14,
     "metadata": {},
     "output_type": "execute_result"
    }
   ],
   "source": [
    "df[df['time_of_infraction'] == '']"
   ]
  },
  {
   "cell_type": "code",
   "execution_count": 15,
   "id": "o2UN5dWyiyAw",
   "metadata": {
    "colab": {
     "base_uri": "https://localhost:8080/"
    },
    "id": "o2UN5dWyiyAw",
    "outputId": "e8134f25-5774-452b-c421-444418902da1"
   },
   "outputs": [
    {
     "data": {
      "text/plain": [
       "1864"
      ]
     },
     "execution_count": 15,
     "metadata": {},
     "output_type": "execute_result"
    }
   ],
   "source": [
    "len(df[df['time_of_infraction'] == ''])"
   ]
  },
  {
   "cell_type": "code",
   "execution_count": 16,
   "id": "V_UoZZzLlFXw",
   "metadata": {
    "id": "V_UoZZzLlFXw"
   },
   "outputs": [],
   "source": [
    "df.drop(df[df['time_of_infraction'] == ''].index, inplace=True)"
   ]
  },
  {
   "cell_type": "code",
   "execution_count": 17,
   "id": "MSKxTrsZlIUE",
   "metadata": {
    "colab": {
     "base_uri": "https://localhost:8080/"
    },
    "id": "MSKxTrsZlIUE",
    "outputId": "f325c7ab-6a6d-40ab-8a8c-2d5083b1fadf"
   },
   "outputs": [
    {
     "data": {
      "text/plain": [
       "0"
      ]
     },
     "execution_count": 17,
     "metadata": {},
     "output_type": "execute_result"
    }
   ],
   "source": [
    "len(df[df['time_of_infraction'] == ''])"
   ]
  },
  {
   "cell_type": "code",
   "execution_count": 18,
   "id": "VujfO89ppRUc",
   "metadata": {
    "colab": {
     "base_uri": "https://localhost:8080/",
     "height": 180
    },
    "id": "VujfO89ppRUc",
    "outputId": "4f5ff0b0-51d7-452c-98e9-146b56864f22"
   },
   "outputs": [
    {
     "data": {
      "text/html": [
       "<div>\n",
       "<style scoped>\n",
       "    .dataframe tbody tr th:only-of-type {\n",
       "        vertical-align: middle;\n",
       "    }\n",
       "\n",
       "    .dataframe tbody tr th {\n",
       "        vertical-align: top;\n",
       "    }\n",
       "\n",
       "    .dataframe thead th {\n",
       "        text-align: right;\n",
       "    }\n",
       "</style>\n",
       "<table border=\"1\" class=\"dataframe\">\n",
       "  <thead>\n",
       "    <tr style=\"text-align: right;\">\n",
       "      <th></th>\n",
       "      <th>tag_number_masked</th>\n",
       "      <th>date_of_infraction</th>\n",
       "      <th>infraction_code</th>\n",
       "      <th>infraction_description</th>\n",
       "      <th>set_fine_amount</th>\n",
       "      <th>time_of_infraction</th>\n",
       "      <th>location1</th>\n",
       "      <th>location2</th>\n",
       "      <th>location3</th>\n",
       "      <th>location4</th>\n",
       "      <th>province</th>\n",
       "      <th>year</th>\n",
       "      <th>month</th>\n",
       "      <th>day</th>\n",
       "      <th>day_of_week_name</th>\n",
       "      <th>day_of_week</th>\n",
       "    </tr>\n",
       "  </thead>\n",
       "  <tbody>\n",
       "    <tr>\n",
       "      <th>2314064</th>\n",
       "      <td>***19297</td>\n",
       "      <td>2022-06-21</td>\n",
       "      <td>312</td>\n",
       "      <td>PARKING MACH-NOT USED/NO FEE</td>\n",
       "      <td>75</td>\n",
       "      <td>1197</td>\n",
       "      <td>NaN</td>\n",
       "      <td>10 KINGSDALE AVE</td>\n",
       "      <td>NaN</td>\n",
       "      <td>NaN</td>\n",
       "      <td>ON</td>\n",
       "      <td>2022</td>\n",
       "      <td>6</td>\n",
       "      <td>21</td>\n",
       "      <td>Tuesday</td>\n",
       "      <td>1</td>\n",
       "    </tr>\n",
       "  </tbody>\n",
       "</table>\n",
       "</div>"
      ],
      "text/plain": [
       "        tag_number_masked date_of_infraction  infraction_code  \\\n",
       "2314064          ***19297         2022-06-21              312   \n",
       "\n",
       "               infraction_description  set_fine_amount time_of_infraction  \\\n",
       "2314064  PARKING MACH-NOT USED/NO FEE               75               1197   \n",
       "\n",
       "        location1         location2 location3 location4 province  year  month  \\\n",
       "2314064       NaN  10 KINGSDALE AVE       NaN       NaN       ON  2022      6   \n",
       "\n",
       "         day day_of_week_name  day_of_week  \n",
       "2314064   21          Tuesday            1  "
      ]
     },
     "execution_count": 18,
     "metadata": {},
     "output_type": "execute_result"
    }
   ],
   "source": [
    "df[df['time_of_infraction'].str.contains('97')]"
   ]
  },
  {
   "cell_type": "markdown",
   "id": "fFBk3dVum_7C",
   "metadata": {
    "id": "fFBk3dVum_7C"
   },
   "source": [
    "**extract hour and min**\n",
    "(but need to be in numerical value (not string) to be able to process it in the model)"
   ]
  },
  {
   "cell_type": "code",
   "execution_count": 19,
   "id": "FkmdOPk8iehW",
   "metadata": {
    "id": "FkmdOPk8iehW"
   },
   "outputs": [],
   "source": [
    "# convert infraction time to separate hour and minute columns\n",
    "df['time_hour'],df['time_min']  = df['time_of_infraction'].str[:2], df['time_of_infraction'].str[2:]"
   ]
  },
  {
   "cell_type": "code",
   "execution_count": 20,
   "id": "rSztXt7IoDO2",
   "metadata": {
    "id": "rSztXt7IoDO2"
   },
   "outputs": [],
   "source": [
    "#df['time_of_infraction'] = df['time_of_infraction'].fillna(pd.Timestamp('00:00:00').time())"
   ]
  },
  {
   "cell_type": "code",
   "execution_count": 21,
   "id": "8pSagVBVhSrF",
   "metadata": {
    "colab": {
     "base_uri": "https://localhost:8080/"
    },
    "id": "8pSagVBVhSrF",
    "outputId": "1a697855-0889-4d89-da16-e8b638dd7b4f"
   },
   "outputs": [
    {
     "name": "stdout",
     "output_type": "stream",
     "text": [
      "['00' '01' '02' '03' '04' '05' '06' '07' '08' '09' '10' '11' '12' '13'\n",
      " '14' '15' '16' '17' '18' '19' '20' '21' '22' '23' '24' '28']\n"
     ]
    }
   ],
   "source": [
    "print(df['time_hour'].unique())"
   ]
  },
  {
   "cell_type": "code",
   "execution_count": 22,
   "id": "Ml0sHyjRtEza",
   "metadata": {
    "colab": {
     "base_uri": "https://localhost:8080/"
    },
    "id": "Ml0sHyjRtEza",
    "outputId": "5fcbfd4b-e165-4c69-bdfa-ce7b7df01e45"
   },
   "outputs": [
    {
     "data": {
      "text/plain": [
       "1"
      ]
     },
     "execution_count": 22,
     "metadata": {},
     "output_type": "execute_result"
    }
   ],
   "source": [
    "len(df[df['time_hour'] == '28'])"
   ]
  },
  {
   "cell_type": "markdown",
   "id": "2x5ywCsdrqRq",
   "metadata": {
    "id": "2x5ywCsdrqRq"
   },
   "source": [
    "**remove '28' value since it does not correspond to regular hour**"
   ]
  },
  {
   "cell_type": "code",
   "execution_count": 23,
   "id": "y9AIJmserpf-",
   "metadata": {
    "colab": {
     "base_uri": "https://localhost:8080/"
    },
    "id": "y9AIJmserpf-",
    "outputId": "cbf32d5e-976d-470c-ee53-a262f5227338"
   },
   "outputs": [
    {
     "name": "stdout",
     "output_type": "stream",
     "text": [
      "['00' '01' '02' '03' '04' '05' '06' '07' '08' '09' '10' '11' '12' '13'\n",
      " '14' '15' '16' '17' '18' '19' '20' '21' '22' '23' '24']\n"
     ]
    }
   ],
   "source": [
    "df.drop(df[df['time_hour'] == '28'].index, inplace=True)\n",
    "print(df['time_hour'].unique())"
   ]
  },
  {
   "cell_type": "code",
   "execution_count": 24,
   "id": "DNW00Xn3hUmO",
   "metadata": {
    "colab": {
     "base_uri": "https://localhost:8080/"
    },
    "id": "DNW00Xn3hUmO",
    "outputId": "2077cdfc-5ff1-490f-c2d1-b3ec1a85edd1"
   },
   "outputs": [
    {
     "name": "stdout",
     "output_type": "stream",
     "text": [
      "['13' '26' '29' '40' '45' '48' '50' '53' '55' '56' '05' '07' '08' '09'\n",
      " '10' '11' '12' '14' '16' '17' '19' '20' '21' '27' '28' '31' '32' '38'\n",
      " '43' '44' '46' '51' '52' '00' '01' '02' '03' '04' '06' '15' '18' '22'\n",
      " '23' '24' '25' '30' '33' '34' '35' '36' '39' '41' '42' '47' '49' '54'\n",
      " '57' '58' '59' '37' '90' '97']\n"
     ]
    }
   ],
   "source": [
    "print(df['time_min'].unique())"
   ]
  },
  {
   "cell_type": "markdown",
   "id": "aHTrsrVCsqXp",
   "metadata": {
    "id": "aHTrsrVCsqXp"
   },
   "source": [
    "**remove '90' and '97' valuea since it does not correspond to regular min**"
   ]
  },
  {
   "cell_type": "code",
   "execution_count": 25,
   "id": "oZPmfG-JtBw_",
   "metadata": {
    "colab": {
     "base_uri": "https://localhost:8080/"
    },
    "id": "oZPmfG-JtBw_",
    "outputId": "2359695f-0679-40d0-a57c-d6868b970a56"
   },
   "outputs": [
    {
     "data": {
      "text/plain": [
       "1"
      ]
     },
     "execution_count": 25,
     "metadata": {},
     "output_type": "execute_result"
    }
   ],
   "source": [
    "len(df[df['time_min'] == '90'])"
   ]
  },
  {
   "cell_type": "code",
   "execution_count": 26,
   "id": "TxfaPjd5s1h2",
   "metadata": {
    "colab": {
     "base_uri": "https://localhost:8080/"
    },
    "id": "TxfaPjd5s1h2",
    "outputId": "627caca6-a590-41ef-e87a-b18207e644f6"
   },
   "outputs": [
    {
     "data": {
      "text/plain": [
       "1"
      ]
     },
     "execution_count": 26,
     "metadata": {},
     "output_type": "execute_result"
    }
   ],
   "source": [
    "len(df[df['time_min'] == '97'])"
   ]
  },
  {
   "cell_type": "code",
   "execution_count": 27,
   "id": "_PLXq8AvsSP2",
   "metadata": {
    "colab": {
     "base_uri": "https://localhost:8080/"
    },
    "id": "_PLXq8AvsSP2",
    "outputId": "cc80bdeb-4ead-40c3-d2a4-0f1f6aa21c0f"
   },
   "outputs": [
    {
     "name": "stdout",
     "output_type": "stream",
     "text": [
      "['13' '26' '29' '40' '45' '48' '50' '53' '55' '56' '05' '07' '08' '09'\n",
      " '10' '11' '12' '14' '16' '17' '19' '20' '21' '27' '28' '31' '32' '38'\n",
      " '43' '44' '46' '51' '52' '00' '01' '02' '03' '04' '06' '15' '18' '22'\n",
      " '23' '24' '25' '30' '33' '34' '35' '36' '39' '41' '42' '47' '49' '54'\n",
      " '57' '58' '59' '37']\n"
     ]
    }
   ],
   "source": [
    "df.drop(df[df['time_min'] == '90'].index, inplace=True)\n",
    "df.drop(df[df['time_min'] == '97'].index, inplace=True)\n",
    "print(df['time_min'].unique())"
   ]
  },
  {
   "cell_type": "markdown",
   "id": "FrbFS1HBuPyz",
   "metadata": {
    "id": "FrbFS1HBuPyz"
   },
   "source": [
    "**change to numerical value**"
   ]
  },
  {
   "cell_type": "code",
   "execution_count": 28,
   "id": "9KjHLCNXg5ui",
   "metadata": {
    "id": "9KjHLCNXg5ui"
   },
   "outputs": [],
   "source": [
    "df[['time_hour', 'time_min']] = df[['time_hour', 'time_min']].astype(int)"
   ]
  },
  {
   "cell_type": "code",
   "execution_count": 29,
   "id": "DQxO5HHcuK3o",
   "metadata": {
    "colab": {
     "base_uri": "https://localhost:8080/"
    },
    "id": "DQxO5HHcuK3o",
    "outputId": "b373c3c7-a27a-4a71-98ad-378f3ee70417"
   },
   "outputs": [
    {
     "name": "stdout",
     "output_type": "stream",
     "text": [
      "[ 0  1  2  3  4  5  6  7  8  9 10 11 12 13 14 15 16 17 18 19 20 21 22 23\n",
      " 24]\n"
     ]
    }
   ],
   "source": [
    "print(df['time_hour'].unique())"
   ]
  },
  {
   "cell_type": "code",
   "execution_count": 30,
   "id": "HAnGEyrVuKLq",
   "metadata": {
    "colab": {
     "base_uri": "https://localhost:8080/"
    },
    "id": "HAnGEyrVuKLq",
    "outputId": "ab37cc2a-6c3f-4020-d1b3-26c64d084214"
   },
   "outputs": [
    {
     "name": "stdout",
     "output_type": "stream",
     "text": [
      "[13 26 29 40 45 48 50 53 55 56  5  7  8  9 10 11 12 14 16 17 19 20 21 27\n",
      " 28 31 32 38 43 44 46 51 52  0  1  2  3  4  6 15 18 22 23 24 25 30 33 34\n",
      " 35 36 39 41 42 47 49 54 57 58 59 37]\n"
     ]
    }
   ],
   "source": [
    "print(df['time_min'].unique())"
   ]
  },
  {
   "cell_type": "code",
   "execution_count": 31,
   "id": "fI_6wZfTgIGh",
   "metadata": {
    "colab": {
     "base_uri": "https://localhost:8080/"
    },
    "id": "fI_6wZfTgIGh",
    "outputId": "26bdd421-7e1a-458b-ffca-7787ca7e883f"
   },
   "outputs": [
    {
     "data": {
      "text/plain": [
       "dtype('O')"
      ]
     },
     "execution_count": 31,
     "metadata": {},
     "output_type": "execute_result"
    }
   ],
   "source": [
    "df['time_of_infraction'].dtypes"
   ]
  },
  {
   "cell_type": "code",
   "execution_count": 32,
   "id": "78d253a0-673e-4fc7-946d-258afda3c8e6",
   "metadata": {
    "colab": {
     "base_uri": "https://localhost:8080/"
    },
    "id": "78d253a0-673e-4fc7-946d-258afda3c8e6",
    "outputId": "0cd13fcd-63f1-4ded-f836-0620078dac48"
   },
   "outputs": [
    {
     "data": {
      "text/plain": [
       "tag_number_masked         100004\n",
       "date_of_infraction           730\n",
       "infraction_code              174\n",
       "infraction_description       190\n",
       "set_fine_amount               17\n",
       "time_of_infraction          1441\n",
       "location1                    233\n",
       "location2                 244423\n",
       "location3                     80\n",
       "location4                   3931\n",
       "province                      68\n",
       "year                           2\n",
       "month                         12\n",
       "day                           31\n",
       "day_of_week_name               7\n",
       "day_of_week                    7\n",
       "time_hour                     25\n",
       "time_min                      60\n",
       "dtype: int64"
      ]
     },
     "execution_count": 32,
     "metadata": {},
     "output_type": "execute_result"
    }
   ],
   "source": [
    "df.nunique()"
   ]
  },
  {
   "cell_type": "code",
   "execution_count": 33,
   "id": "fJjBgtBzcAFF",
   "metadata": {
    "colab": {
     "base_uri": "https://localhost:8080/"
    },
    "id": "fJjBgtBzcAFF",
    "outputId": "87a1acfe-da6c-4f90-8865-64dba900bb98"
   },
   "outputs": [
    {
     "data": {
      "text/plain": [
       "tag_number_masked               0\n",
       "date_of_infraction              0\n",
       "infraction_code                 0\n",
       "infraction_description          0\n",
       "set_fine_amount                 0\n",
       "time_of_infraction              0\n",
       "location1                  428805\n",
       "location2                     161\n",
       "location3                 3023389\n",
       "location4                 3023145\n",
       "province                        0\n",
       "year                            0\n",
       "month                           0\n",
       "day                             0\n",
       "day_of_week_name                0\n",
       "day_of_week                     0\n",
       "time_hour                       0\n",
       "time_min                        0\n",
       "dtype: int64"
      ]
     },
     "execution_count": 33,
     "metadata": {},
     "output_type": "execute_result"
    }
   ],
   "source": [
    "df.isnull().sum()\n",
    "\n",
    "# The only attributes that have null values are the location related attributes\n",
    "# We will do some analysis to ensure that it is reasonable to drop any records/attributes"
   ]
  },
  {
   "cell_type": "markdown",
   "id": "7jQmi_pk5VUQ",
   "metadata": {
    "id": "7jQmi_pk5VUQ"
   },
   "source": [
    "**Location Analysis**"
   ]
  },
  {
   "cell_type": "code",
   "execution_count": 34,
   "id": "OsPzpkaN5Zw9",
   "metadata": {
    "id": "OsPzpkaN5Zw9"
   },
   "outputs": [],
   "source": [
    "location = df[['location1','location2','location3','location4']]\n",
    "\n",
    "# We expect that  location2 is most useful since this field is defined to be the street address where the infraction occurred\n",
    "# However, there are some records that do not have location2 so group 1 will be used to check these records\n",
    "grp1 = location.loc[location['location2'].notnull() == False]\n",
    "\n",
    "# We also want to validate that location2 values upholds its definition, i.e. the value should start with a number (digit).\n",
    "# We will check the records that do not beging with a number.\n",
    "grp2 = location.loc[location['location2'].str[0].str.isdigit() == False]\n",
    "\n",
    "# 92% of location 3 & 4 are null from the entire consolidated dataset\n",
    "# So, group 3 will be used to check if these columns hold meaningful values\n",
    "grp3 = location.loc[(location['location3'].notnull() == True) | (location['location4'].notnull() == True)]"
   ]
  },
  {
   "cell_type": "code",
   "execution_count": 35,
   "id": "LaP0NJKJ7I-Z",
   "metadata": {
    "colab": {
     "base_uri": "https://localhost:8080/",
     "height": 837
    },
    "id": "LaP0NJKJ7I-Z",
    "outputId": "c473970c-370d-4b85-921e-4f3488a768f4"
   },
   "outputs": [
    {
     "name": "stdout",
     "output_type": "stream",
     "text": [
      "(161, 4)\n",
      "(24, 4)\n"
     ]
    },
    {
     "data": {
      "text/html": [
       "<div>\n",
       "<style scoped>\n",
       "    .dataframe tbody tr th:only-of-type {\n",
       "        vertical-align: middle;\n",
       "    }\n",
       "\n",
       "    .dataframe tbody tr th {\n",
       "        vertical-align: top;\n",
       "    }\n",
       "\n",
       "    .dataframe thead th {\n",
       "        text-align: right;\n",
       "    }\n",
       "</style>\n",
       "<table border=\"1\" class=\"dataframe\">\n",
       "  <thead>\n",
       "    <tr style=\"text-align: right;\">\n",
       "      <th></th>\n",
       "      <th>location1</th>\n",
       "      <th>location2</th>\n",
       "      <th>location3</th>\n",
       "      <th>location4</th>\n",
       "    </tr>\n",
       "  </thead>\n",
       "  <tbody>\n",
       "    <tr>\n",
       "      <th>9465</th>\n",
       "      <td>AT</td>\n",
       "      <td>NaN</td>\n",
       "      <td>NaN</td>\n",
       "      <td>NaN</td>\n",
       "    </tr>\n",
       "    <tr>\n",
       "      <th>14987</th>\n",
       "      <td>AT</td>\n",
       "      <td>NaN</td>\n",
       "      <td>NaN</td>\n",
       "      <td>NaN</td>\n",
       "    </tr>\n",
       "    <tr>\n",
       "      <th>66955</th>\n",
       "      <td>AT</td>\n",
       "      <td>NaN</td>\n",
       "      <td>NaN</td>\n",
       "      <td>NaN</td>\n",
       "    </tr>\n",
       "    <tr>\n",
       "      <th>206898</th>\n",
       "      <td>NR</td>\n",
       "      <td>NaN</td>\n",
       "      <td>NaN</td>\n",
       "      <td>NaN</td>\n",
       "    </tr>\n",
       "    <tr>\n",
       "      <th>348687</th>\n",
       "      <td>AT</td>\n",
       "      <td>NaN</td>\n",
       "      <td>NaN</td>\n",
       "      <td>NaN</td>\n",
       "    </tr>\n",
       "    <tr>\n",
       "      <th>366129</th>\n",
       "      <td>AT</td>\n",
       "      <td>NaN</td>\n",
       "      <td>NaN</td>\n",
       "      <td>NaN</td>\n",
       "    </tr>\n",
       "    <tr>\n",
       "      <th>366209</th>\n",
       "      <td>AT</td>\n",
       "      <td>NaN</td>\n",
       "      <td>NaN</td>\n",
       "      <td>NaN</td>\n",
       "    </tr>\n",
       "    <tr>\n",
       "      <th>366213</th>\n",
       "      <td>AT</td>\n",
       "      <td>NaN</td>\n",
       "      <td>NaN</td>\n",
       "      <td>NaN</td>\n",
       "    </tr>\n",
       "    <tr>\n",
       "      <th>1279641</th>\n",
       "      <td>AT</td>\n",
       "      <td>NaN</td>\n",
       "      <td>NaN</td>\n",
       "      <td>NaN</td>\n",
       "    </tr>\n",
       "    <tr>\n",
       "      <th>1502271</th>\n",
       "      <td>AT</td>\n",
       "      <td>NaN</td>\n",
       "      <td>NaN</td>\n",
       "      <td>NaN</td>\n",
       "    </tr>\n",
       "    <tr>\n",
       "      <th>1511114</th>\n",
       "      <td>AT</td>\n",
       "      <td>NaN</td>\n",
       "      <td>NaN</td>\n",
       "      <td>NaN</td>\n",
       "    </tr>\n",
       "    <tr>\n",
       "      <th>1539997</th>\n",
       "      <td>AT</td>\n",
       "      <td>NaN</td>\n",
       "      <td>NaN</td>\n",
       "      <td>NaN</td>\n",
       "    </tr>\n",
       "    <tr>\n",
       "      <th>1604516</th>\n",
       "      <td>AT</td>\n",
       "      <td>NaN</td>\n",
       "      <td>NaN</td>\n",
       "      <td>NaN</td>\n",
       "    </tr>\n",
       "    <tr>\n",
       "      <th>1622388</th>\n",
       "      <td>AT</td>\n",
       "      <td>NaN</td>\n",
       "      <td>NaN</td>\n",
       "      <td>NaN</td>\n",
       "    </tr>\n",
       "    <tr>\n",
       "      <th>1661165</th>\n",
       "      <td>AT</td>\n",
       "      <td>NaN</td>\n",
       "      <td>NaN</td>\n",
       "      <td>NaN</td>\n",
       "    </tr>\n",
       "    <tr>\n",
       "      <th>2404039</th>\n",
       "      <td>NR</td>\n",
       "      <td>NaN</td>\n",
       "      <td>NaN</td>\n",
       "      <td>NaN</td>\n",
       "    </tr>\n",
       "    <tr>\n",
       "      <th>2404096</th>\n",
       "      <td>NR</td>\n",
       "      <td>NaN</td>\n",
       "      <td>NaN</td>\n",
       "      <td>NaN</td>\n",
       "    </tr>\n",
       "    <tr>\n",
       "      <th>2404106</th>\n",
       "      <td>NR</td>\n",
       "      <td>NaN</td>\n",
       "      <td>NaN</td>\n",
       "      <td>NaN</td>\n",
       "    </tr>\n",
       "    <tr>\n",
       "      <th>2404133</th>\n",
       "      <td>NR</td>\n",
       "      <td>NaN</td>\n",
       "      <td>NaN</td>\n",
       "      <td>NaN</td>\n",
       "    </tr>\n",
       "    <tr>\n",
       "      <th>2404134</th>\n",
       "      <td>NR</td>\n",
       "      <td>NaN</td>\n",
       "      <td>NaN</td>\n",
       "      <td>NaN</td>\n",
       "    </tr>\n",
       "    <tr>\n",
       "      <th>2494998</th>\n",
       "      <td>AT</td>\n",
       "      <td>NaN</td>\n",
       "      <td>NaN</td>\n",
       "      <td>NaN</td>\n",
       "    </tr>\n",
       "    <tr>\n",
       "      <th>2739115</th>\n",
       "      <td>NEAR</td>\n",
       "      <td>NaN</td>\n",
       "      <td>NaN</td>\n",
       "      <td>NaN</td>\n",
       "    </tr>\n",
       "    <tr>\n",
       "      <th>2832358</th>\n",
       "      <td>NaN</td>\n",
       "      <td>NaN</td>\n",
       "      <td>NaN</td>\n",
       "      <td>SORAUREN AVE</td>\n",
       "    </tr>\n",
       "    <tr>\n",
       "      <th>3190143</th>\n",
       "      <td>AT</td>\n",
       "      <td>NaN</td>\n",
       "      <td>NaN</td>\n",
       "      <td>NaN</td>\n",
       "    </tr>\n",
       "  </tbody>\n",
       "</table>\n",
       "</div>"
      ],
      "text/plain": [
       "        location1 location2 location3     location4\n",
       "9465           AT       NaN       NaN           NaN\n",
       "14987          AT       NaN       NaN           NaN\n",
       "66955          AT       NaN       NaN           NaN\n",
       "206898         NR       NaN       NaN           NaN\n",
       "348687         AT       NaN       NaN           NaN\n",
       "366129         AT       NaN       NaN           NaN\n",
       "366209         AT       NaN       NaN           NaN\n",
       "366213         AT       NaN       NaN           NaN\n",
       "1279641        AT       NaN       NaN           NaN\n",
       "1502271        AT       NaN       NaN           NaN\n",
       "1511114        AT       NaN       NaN           NaN\n",
       "1539997        AT       NaN       NaN           NaN\n",
       "1604516        AT       NaN       NaN           NaN\n",
       "1622388        AT       NaN       NaN           NaN\n",
       "1661165        AT       NaN       NaN           NaN\n",
       "2404039        NR       NaN       NaN           NaN\n",
       "2404096        NR       NaN       NaN           NaN\n",
       "2404106        NR       NaN       NaN           NaN\n",
       "2404133        NR       NaN       NaN           NaN\n",
       "2404134        NR       NaN       NaN           NaN\n",
       "2494998        AT       NaN       NaN           NaN\n",
       "2739115      NEAR       NaN       NaN           NaN\n",
       "2832358       NaN       NaN       NaN  SORAUREN AVE\n",
       "3190143        AT       NaN       NaN           NaN"
      ]
     },
     "execution_count": 35,
     "metadata": {},
     "output_type": "execute_result"
    }
   ],
   "source": [
    "print(grp1.shape)\n",
    "print(grp1[(grp1['location1'].notnull() == True) | (grp1['location3'].notnull() == True) | (grp1['location4'].notnull() == True)].shape)\n",
    "grp1[(grp1['location1'].notnull() == True) | (grp1['location3'].notnull() == True) | (grp1['location4'].notnull() == True)]\n",
    "\n",
    "# There are a total of 192 records that do not have values in location2 column. Out of them, there are 31 records that have values in one or more of the other location columns.\n",
    "# However, they are deemed meaningless since the other location attributes also do not provide further location information.\n",
    "\n",
    "# Conclusion: We can safely drop these 192 records that do not have any location information."
   ]
  },
  {
   "cell_type": "code",
   "execution_count": 36,
   "id": "lzYsaYVW9E2r",
   "metadata": {
    "colab": {
     "base_uri": "https://localhost:8080/",
     "height": 381
    },
    "id": "lzYsaYVW9E2r",
    "outputId": "1f13840a-14ce-4af2-9e0b-47f0957bb916"
   },
   "outputs": [
    {
     "name": "stdout",
     "output_type": "stream",
     "text": [
      "(279087, 4)\n"
     ]
    },
    {
     "data": {
      "text/html": [
       "<div>\n",
       "<style scoped>\n",
       "    .dataframe tbody tr th:only-of-type {\n",
       "        vertical-align: middle;\n",
       "    }\n",
       "\n",
       "    .dataframe tbody tr th {\n",
       "        vertical-align: top;\n",
       "    }\n",
       "\n",
       "    .dataframe thead th {\n",
       "        text-align: right;\n",
       "    }\n",
       "</style>\n",
       "<table border=\"1\" class=\"dataframe\">\n",
       "  <thead>\n",
       "    <tr style=\"text-align: right;\">\n",
       "      <th></th>\n",
       "      <th>location1</th>\n",
       "      <th>location2</th>\n",
       "      <th>location3</th>\n",
       "      <th>location4</th>\n",
       "    </tr>\n",
       "  </thead>\n",
       "  <tbody>\n",
       "    <tr>\n",
       "      <th>1031444</th>\n",
       "      <td>S/S</td>\n",
       "      <td>WITHROW AVE</td>\n",
       "      <td>E/O</td>\n",
       "      <td>LOGAN AVE</td>\n",
       "    </tr>\n",
       "    <tr>\n",
       "      <th>2558700</th>\n",
       "      <td>W/S</td>\n",
       "      <td>JACKMAN AVE</td>\n",
       "      <td>N/O</td>\n",
       "      <td>DANFORTH AVE</td>\n",
       "    </tr>\n",
       "    <tr>\n",
       "      <th>2818674</th>\n",
       "      <td>S/S</td>\n",
       "      <td>GERRARD ST E</td>\n",
       "      <td>W/O</td>\n",
       "      <td>PEMBROKE ST</td>\n",
       "    </tr>\n",
       "    <tr>\n",
       "      <th>1485293</th>\n",
       "      <td>S/S</td>\n",
       "      <td>MCGILL ST</td>\n",
       "      <td>W/O</td>\n",
       "      <td>CHURCH ST</td>\n",
       "    </tr>\n",
       "    <tr>\n",
       "      <th>2464897</th>\n",
       "      <td>W/S</td>\n",
       "      <td>OAKMOUNT RD</td>\n",
       "      <td>S/O</td>\n",
       "      <td>GLENLAKE AVE</td>\n",
       "    </tr>\n",
       "    <tr>\n",
       "      <th>2344487</th>\n",
       "      <td>N/S</td>\n",
       "      <td>SAMMON AVE</td>\n",
       "      <td>W/O</td>\n",
       "      <td>ROOSEVELT RD</td>\n",
       "    </tr>\n",
       "    <tr>\n",
       "      <th>1460615</th>\n",
       "      <td>N/S</td>\n",
       "      <td>GROSVENOR ST</td>\n",
       "      <td>E/O</td>\n",
       "      <td>SURREY PL</td>\n",
       "    </tr>\n",
       "    <tr>\n",
       "      <th>2079519</th>\n",
       "      <td>N/S</td>\n",
       "      <td>AVON AVE</td>\n",
       "      <td>E/O</td>\n",
       "      <td>CAYUGA AVE</td>\n",
       "    </tr>\n",
       "    <tr>\n",
       "      <th>2982571</th>\n",
       "      <td>S/S</td>\n",
       "      <td>PEARL ST</td>\n",
       "      <td>E/O</td>\n",
       "      <td>ED MIRVISH WAY</td>\n",
       "    </tr>\n",
       "    <tr>\n",
       "      <th>1085086</th>\n",
       "      <td>N/S</td>\n",
       "      <td>GROSVENOR ST</td>\n",
       "      <td>W/O</td>\n",
       "      <td>BAY ST</td>\n",
       "    </tr>\n",
       "  </tbody>\n",
       "</table>\n",
       "</div>"
      ],
      "text/plain": [
       "        location1     location2 location3       location4\n",
       "1031444       S/S   WITHROW AVE       E/O       LOGAN AVE\n",
       "2558700       W/S   JACKMAN AVE       N/O    DANFORTH AVE\n",
       "2818674       S/S  GERRARD ST E       W/O     PEMBROKE ST\n",
       "1485293       S/S     MCGILL ST       W/O       CHURCH ST\n",
       "2464897       W/S   OAKMOUNT RD       S/O    GLENLAKE AVE\n",
       "2344487       N/S    SAMMON AVE       W/O    ROOSEVELT RD\n",
       "1460615       N/S  GROSVENOR ST       E/O       SURREY PL\n",
       "2079519       N/S      AVON AVE       E/O      CAYUGA AVE\n",
       "2982571       S/S      PEARL ST       E/O  ED MIRVISH WAY\n",
       "1085086       N/S  GROSVENOR ST       W/O          BAY ST"
      ]
     },
     "execution_count": 36,
     "metadata": {},
     "output_type": "execute_result"
    }
   ],
   "source": [
    "print(grp2.shape)\n",
    "grp2.sample(10)\n",
    "\n",
    "# There are 279134 records where location2 does not start with a digit.\n",
    "# Sample of the data shows that location3 and location4 are used in conjunction with street in location2 to pinpoint an intersection.\n",
    "\n",
    "# Conclusion: Analysis of location3 and location4 is needed."
   ]
  },
  {
   "cell_type": "code",
   "execution_count": 37,
   "id": "IenQbUmo8pgF",
   "metadata": {
    "colab": {
     "base_uri": "https://localhost:8080/",
     "height": 424
    },
    "id": "IenQbUmo8pgF",
    "outputId": "b83eb978-3b99-40b7-9a16-bf0c4f1d9baa"
   },
   "outputs": [
    {
     "data": {
      "text/html": [
       "<div>\n",
       "<style scoped>\n",
       "    .dataframe tbody tr th:only-of-type {\n",
       "        vertical-align: middle;\n",
       "    }\n",
       "\n",
       "    .dataframe tbody tr th {\n",
       "        vertical-align: top;\n",
       "    }\n",
       "\n",
       "    .dataframe thead th {\n",
       "        text-align: right;\n",
       "    }\n",
       "</style>\n",
       "<table border=\"1\" class=\"dataframe\">\n",
       "  <thead>\n",
       "    <tr style=\"text-align: right;\">\n",
       "      <th></th>\n",
       "      <th>location1</th>\n",
       "      <th>location2</th>\n",
       "      <th>location3</th>\n",
       "      <th>location4</th>\n",
       "    </tr>\n",
       "  </thead>\n",
       "  <tbody>\n",
       "    <tr>\n",
       "      <th>10591</th>\n",
       "      <td>NaN</td>\n",
       "      <td>3030 BIRCHMOUNT RD</td>\n",
       "      <td>NaN</td>\n",
       "      <td>SCARBOROUGH</td>\n",
       "    </tr>\n",
       "    <tr>\n",
       "      <th>19278</th>\n",
       "      <td>NaN</td>\n",
       "      <td>50 WILSON HTS BLVD</td>\n",
       "      <td>NaN</td>\n",
       "      <td>4</td>\n",
       "    </tr>\n",
       "    <tr>\n",
       "      <th>40709</th>\n",
       "      <td>NR</td>\n",
       "      <td>170 BAYVIEW AVE</td>\n",
       "      <td>NaN</td>\n",
       "      <td>OUT INCOMING TRAFFIC</td>\n",
       "    </tr>\n",
       "    <tr>\n",
       "      <th>61891</th>\n",
       "      <td>NaN</td>\n",
       "      <td>36 DRIFTWOOD AVE</td>\n",
       "      <td>NaN</td>\n",
       "      <td>`</td>\n",
       "    </tr>\n",
       "    <tr>\n",
       "      <th>62665</th>\n",
       "      <td>NaN</td>\n",
       "      <td>27 PITTSBORO DRIVE</td>\n",
       "      <td>NaN</td>\n",
       "      <td>ETOBICOKE, ON</td>\n",
       "    </tr>\n",
       "    <tr>\n",
       "      <th>...</th>\n",
       "      <td>...</td>\n",
       "      <td>...</td>\n",
       "      <td>...</td>\n",
       "      <td>...</td>\n",
       "    </tr>\n",
       "    <tr>\n",
       "      <th>2855502</th>\n",
       "      <td>NaN</td>\n",
       "      <td>100 GRAYDON HALL</td>\n",
       "      <td>NaN</td>\n",
       "      <td>NORTH YORK</td>\n",
       "    </tr>\n",
       "    <tr>\n",
       "      <th>2855514</th>\n",
       "      <td>NaN</td>\n",
       "      <td>100 GRAYDON HALL</td>\n",
       "      <td>NaN</td>\n",
       "      <td>NORTH YORK</td>\n",
       "    </tr>\n",
       "    <tr>\n",
       "      <th>3041008</th>\n",
       "      <td>ACROSS</td>\n",
       "      <td>76 GRENVILLE ST</td>\n",
       "      <td>NaN</td>\n",
       "      <td>TORONTO</td>\n",
       "    </tr>\n",
       "    <tr>\n",
       "      <th>3270054</th>\n",
       "      <td>NR</td>\n",
       "      <td>25 YORK ST</td>\n",
       "      <td>ON</td>\n",
       "      <td>BREMNER BLVD</td>\n",
       "    </tr>\n",
       "    <tr>\n",
       "      <th>3299963</th>\n",
       "      <td>AT</td>\n",
       "      <td>15 YORK ST N</td>\n",
       "      <td>NaN</td>\n",
       "      <td>BREMNER ST</td>\n",
       "    </tr>\n",
       "  </tbody>\n",
       "</table>\n",
       "<p>151 rows × 4 columns</p>\n",
       "</div>"
      ],
      "text/plain": [
       "        location1           location2 location3             location4\n",
       "10591         NaN  3030 BIRCHMOUNT RD       NaN           SCARBOROUGH\n",
       "19278         NaN  50 WILSON HTS BLVD       NaN                     4\n",
       "40709          NR     170 BAYVIEW AVE       NaN  OUT INCOMING TRAFFIC\n",
       "61891         NaN    36 DRIFTWOOD AVE       NaN                     `\n",
       "62665         NaN  27 PITTSBORO DRIVE       NaN         ETOBICOKE, ON\n",
       "...           ...                 ...       ...                   ...\n",
       "2855502       NaN    100 GRAYDON HALL       NaN            NORTH YORK\n",
       "2855514       NaN    100 GRAYDON HALL       NaN            NORTH YORK\n",
       "3041008    ACROSS     76 GRENVILLE ST       NaN               TORONTO\n",
       "3270054        NR          25 YORK ST        ON          BREMNER BLVD\n",
       "3299963        AT        15 YORK ST N       NaN            BREMNER ST\n",
       "\n",
       "[151 rows x 4 columns]"
      ]
     },
     "execution_count": 37,
     "metadata": {},
     "output_type": "execute_result"
    }
   ],
   "source": [
    "grp3.loc[grp3['location2'].str[0].str.isdigit() == True]\n",
    "\n",
    "# for records that have location3/location4 values, there are some records that have street addresses provided in location2. This means that even if location3/location4 are not used, location data is still retained"
   ]
  },
  {
   "cell_type": "code",
   "execution_count": 38,
   "id": "ZrpMmNKTHy-6",
   "metadata": {
    "colab": {
     "base_uri": "https://localhost:8080/",
     "height": 424
    },
    "id": "ZrpMmNKTHy-6",
    "outputId": "305aa0bd-e782-4940-9f16-3d97c94990bc"
   },
   "outputs": [
    {
     "data": {
      "text/html": [
       "<div>\n",
       "<style scoped>\n",
       "    .dataframe tbody tr th:only-of-type {\n",
       "        vertical-align: middle;\n",
       "    }\n",
       "\n",
       "    .dataframe tbody tr th {\n",
       "        vertical-align: top;\n",
       "    }\n",
       "\n",
       "    .dataframe thead th {\n",
       "        text-align: right;\n",
       "    }\n",
       "</style>\n",
       "<table border=\"1\" class=\"dataframe\">\n",
       "  <thead>\n",
       "    <tr style=\"text-align: right;\">\n",
       "      <th></th>\n",
       "      <th>location1</th>\n",
       "      <th>location2</th>\n",
       "      <th>location3</th>\n",
       "      <th>location4</th>\n",
       "    </tr>\n",
       "  </thead>\n",
       "  <tbody>\n",
       "    <tr>\n",
       "      <th>108</th>\n",
       "      <td>N/S</td>\n",
       "      <td>MCADAM AVE</td>\n",
       "      <td>W/O</td>\n",
       "      <td>DUFFERIN ST</td>\n",
       "    </tr>\n",
       "    <tr>\n",
       "      <th>111</th>\n",
       "      <td>N/S</td>\n",
       "      <td>MCADAM AVE</td>\n",
       "      <td>W/O</td>\n",
       "      <td>DUFFERIN ST</td>\n",
       "    </tr>\n",
       "    <tr>\n",
       "      <th>119</th>\n",
       "      <td>E/S</td>\n",
       "      <td>DANESBURY AVE</td>\n",
       "      <td>N/O</td>\n",
       "      <td>GLENCAIRN AVE</td>\n",
       "    </tr>\n",
       "    <tr>\n",
       "      <th>158</th>\n",
       "      <td>W/S</td>\n",
       "      <td>IONIC LANE</td>\n",
       "      <td>S/O</td>\n",
       "      <td>WINSTON PARK BLVD</td>\n",
       "    </tr>\n",
       "    <tr>\n",
       "      <th>358</th>\n",
       "      <td>E/S</td>\n",
       "      <td>ARENA ST</td>\n",
       "      <td>N/O</td>\n",
       "      <td>TRETHEWEY DR</td>\n",
       "    </tr>\n",
       "    <tr>\n",
       "      <th>...</th>\n",
       "      <td>...</td>\n",
       "      <td>...</td>\n",
       "      <td>...</td>\n",
       "      <td>...</td>\n",
       "    </tr>\n",
       "    <tr>\n",
       "      <th>3303588</th>\n",
       "      <td>S/S</td>\n",
       "      <td>DUNDAS ST W</td>\n",
       "      <td>W/O</td>\n",
       "      <td>YONGE ST</td>\n",
       "    </tr>\n",
       "    <tr>\n",
       "      <th>3303590</th>\n",
       "      <td>S/S</td>\n",
       "      <td>DUNDAS ST W</td>\n",
       "      <td>W/O</td>\n",
       "      <td>YONGE ST</td>\n",
       "    </tr>\n",
       "    <tr>\n",
       "      <th>3303591</th>\n",
       "      <td>N/S</td>\n",
       "      <td>DUNDAS ST W</td>\n",
       "      <td>W/O</td>\n",
       "      <td>YONGE ST</td>\n",
       "    </tr>\n",
       "    <tr>\n",
       "      <th>3303592</th>\n",
       "      <td>W/S</td>\n",
       "      <td>FREELAND ST</td>\n",
       "      <td>S/O</td>\n",
       "      <td>LAKESHORE RD E</td>\n",
       "    </tr>\n",
       "    <tr>\n",
       "      <th>3303593</th>\n",
       "      <td>W/S</td>\n",
       "      <td>FREELAND ST</td>\n",
       "      <td>N/O</td>\n",
       "      <td>QUEENS QUAY E</td>\n",
       "    </tr>\n",
       "  </tbody>\n",
       "</table>\n",
       "<p>278468 rows × 4 columns</p>\n",
       "</div>"
      ],
      "text/plain": [
       "        location1      location2 location3          location4\n",
       "108           N/S     MCADAM AVE       W/O        DUFFERIN ST\n",
       "111           N/S     MCADAM AVE       W/O        DUFFERIN ST\n",
       "119           E/S  DANESBURY AVE       N/O      GLENCAIRN AVE\n",
       "158           W/S     IONIC LANE       S/O  WINSTON PARK BLVD\n",
       "358           E/S       ARENA ST       N/O       TRETHEWEY DR\n",
       "...           ...            ...       ...                ...\n",
       "3303588       S/S    DUNDAS ST W       W/O           YONGE ST\n",
       "3303590       S/S    DUNDAS ST W       W/O           YONGE ST\n",
       "3303591       N/S    DUNDAS ST W       W/O           YONGE ST\n",
       "3303592       W/S    FREELAND ST       S/O     LAKESHORE RD E\n",
       "3303593       W/S    FREELAND ST       N/O      QUEENS QUAY E\n",
       "\n",
       "[278468 rows x 4 columns]"
      ]
     },
     "execution_count": 38,
     "metadata": {},
     "output_type": "execute_result"
    }
   ],
   "source": [
    "grp3.loc[grp3['location2'].str[0].str.isdigit() == False]\n",
    "\n",
    "# When only a street is provided, location3 and location4 are used as observed in grp2. \n",
    "# Conclusion: location3 and location4 are only used optionally when no street address is provided in location2. For the purpose of our project, it is also safe to drop the records that do not have a street number."
   ]
  },
  {
   "cell_type": "code",
   "execution_count": 39,
   "id": "aLlmN05E_Vh3",
   "metadata": {
    "colab": {
     "base_uri": "https://localhost:8080/",
     "height": 81
    },
    "id": "aLlmN05E_Vh3",
    "outputId": "997874b2-6e34-45b6-b763-5e836a0b9766"
   },
   "outputs": [
    {
     "data": {
      "text/html": [
       "<div>\n",
       "<style scoped>\n",
       "    .dataframe tbody tr th:only-of-type {\n",
       "        vertical-align: middle;\n",
       "    }\n",
       "\n",
       "    .dataframe tbody tr th {\n",
       "        vertical-align: top;\n",
       "    }\n",
       "\n",
       "    .dataframe thead th {\n",
       "        text-align: right;\n",
       "    }\n",
       "</style>\n",
       "<table border=\"1\" class=\"dataframe\">\n",
       "  <thead>\n",
       "    <tr style=\"text-align: right;\">\n",
       "      <th></th>\n",
       "      <th>location1</th>\n",
       "      <th>location2</th>\n",
       "      <th>location3</th>\n",
       "      <th>location4</th>\n",
       "    </tr>\n",
       "  </thead>\n",
       "  <tbody>\n",
       "    <tr>\n",
       "      <th>1110181</th>\n",
       "      <td>OPP</td>\n",
       "      <td>19</td>\n",
       "      <td>HANNA AV</td>\n",
       "      <td>NaN</td>\n",
       "    </tr>\n",
       "  </tbody>\n",
       "</table>\n",
       "</div>"
      ],
      "text/plain": [
       "        location1 location2 location3 location4\n",
       "1110181       OPP        19  HANNA AV       NaN"
      ]
     },
     "execution_count": 39,
     "metadata": {},
     "output_type": "execute_result"
    }
   ],
   "source": [
    "grp3.loc[grp3['location2'].str.isdigit() == True]\n",
    "\n",
    "# There is a record that has an error, with the street address split between location2 and location3. For the purpose of our project, we will also drop this record."
   ]
  },
  {
   "cell_type": "code",
   "execution_count": 40,
   "id": "8bax8-HiI8B8",
   "metadata": {
    "id": "8bax8-HiI8B8"
   },
   "outputs": [],
   "source": [
    "df = df[df['location2'].notnull() == True] # conclusion from grp1 analysis\n",
    "df = df[df['location2'].str[0].str.isdigit() == True] # conclusion from grp2 and grp3 analysis\n",
    "df = df[df['location2'].str.isdigit() == False] # exclusion of error record"
   ]
  },
  {
   "cell_type": "markdown",
   "id": "DmCCnVrk1Sn4",
   "metadata": {
    "id": "DmCCnVrk1Sn4"
   },
   "source": [
    "**Observations to note**"
   ]
  },
  {
   "cell_type": "code",
   "execution_count": 41,
   "id": "f0e4a8f0-4d0b-49d4-9a99-a3d671bfbc67",
   "metadata": {
    "colab": {
     "base_uri": "https://localhost:8080/",
     "height": 928
    },
    "id": "f0e4a8f0-4d0b-49d4-9a99-a3d671bfbc67",
    "outputId": "456ba2a7-f088-45a5-f65d-f9e1739d3ceb"
   },
   "outputs": [
    {
     "data": {
      "text/html": [
       "<div>\n",
       "<style scoped>\n",
       "    .dataframe tbody tr th:only-of-type {\n",
       "        vertical-align: middle;\n",
       "    }\n",
       "\n",
       "    .dataframe tbody tr th {\n",
       "        vertical-align: top;\n",
       "    }\n",
       "\n",
       "    .dataframe thead th {\n",
       "        text-align: right;\n",
       "    }\n",
       "</style>\n",
       "<table border=\"1\" class=\"dataframe\">\n",
       "  <thead>\n",
       "    <tr style=\"text-align: right;\">\n",
       "      <th></th>\n",
       "      <th>infraction_code</th>\n",
       "      <th>infraction_description</th>\n",
       "      <th>set_fine_amount</th>\n",
       "      <th>size</th>\n",
       "    </tr>\n",
       "  </thead>\n",
       "  <tbody>\n",
       "    <tr>\n",
       "      <th>1</th>\n",
       "      <td>1</td>\n",
       "      <td>PARK-FAIL TO DEPOSIT FEE METER</td>\n",
       "      <td>0</td>\n",
       "      <td>1</td>\n",
       "    </tr>\n",
       "    <tr>\n",
       "      <th>3</th>\n",
       "      <td>3</td>\n",
       "      <td>PARK ON PRIV PROP NO CONSENT</td>\n",
       "      <td>0</td>\n",
       "      <td>6</td>\n",
       "    </tr>\n",
       "    <tr>\n",
       "      <th>5</th>\n",
       "      <td>3</td>\n",
       "      <td>PARK PRIVATE PROP NO CONSENT</td>\n",
       "      <td>0</td>\n",
       "      <td>6</td>\n",
       "    </tr>\n",
       "    <tr>\n",
       "      <th>6</th>\n",
       "      <td>4</td>\n",
       "      <td>PARK MUN PROP NO CONSENT</td>\n",
       "      <td>0</td>\n",
       "      <td>1</td>\n",
       "    </tr>\n",
       "    <tr>\n",
       "      <th>7</th>\n",
       "      <td>4</td>\n",
       "      <td>PARK ON MUN PROP NO CONSENT</td>\n",
       "      <td>0</td>\n",
       "      <td>66</td>\n",
       "    </tr>\n",
       "    <tr>\n",
       "      <th>9</th>\n",
       "      <td>5</td>\n",
       "      <td>PARK HWY PRO TIMES/DAYS</td>\n",
       "      <td>0</td>\n",
       "      <td>1</td>\n",
       "    </tr>\n",
       "    <tr>\n",
       "      <th>10</th>\n",
       "      <td>5</td>\n",
       "      <td>PARK HWY PROHIBITED TIMES/DAYS</td>\n",
       "      <td>0</td>\n",
       "      <td>2</td>\n",
       "    </tr>\n",
       "    <tr>\n",
       "      <th>12</th>\n",
       "      <td>6</td>\n",
       "      <td>PARK SIGNED HWY EXCESS OF TIME</td>\n",
       "      <td>0</td>\n",
       "      <td>1</td>\n",
       "    </tr>\n",
       "    <tr>\n",
       "      <th>14</th>\n",
       "      <td>7</td>\n",
       "      <td>PARK IN DESIGNATED FIRE ROUTE</td>\n",
       "      <td>0</td>\n",
       "      <td>1</td>\n",
       "    </tr>\n",
       "    <tr>\n",
       "      <th>15</th>\n",
       "      <td>7</td>\n",
       "      <td>PARK/LEAVE-FIRE ROUTE</td>\n",
       "      <td>0</td>\n",
       "      <td>2</td>\n",
       "    </tr>\n",
       "    <tr>\n",
       "      <th>17</th>\n",
       "      <td>9</td>\n",
       "      <td>STOP SIGNED HWY PRO TIMES/DAYS</td>\n",
       "      <td>0</td>\n",
       "      <td>1</td>\n",
       "    </tr>\n",
       "    <tr>\n",
       "      <th>18</th>\n",
       "      <td>9</td>\n",
       "      <td>STOP-HWY-PROHIBITED TIMES/DAYS</td>\n",
       "      <td>0</td>\n",
       "      <td>1</td>\n",
       "    </tr>\n",
       "    <tr>\n",
       "      <th>33</th>\n",
       "      <td>25</td>\n",
       "      <td>STAND SIGNED TAXICAB STAND</td>\n",
       "      <td>0</td>\n",
       "      <td>1</td>\n",
       "    </tr>\n",
       "    <tr>\n",
       "      <th>34</th>\n",
       "      <td>28</td>\n",
       "      <td>PARK-N.YORK 2AM-6AM DEC1-MAR31</td>\n",
       "      <td>0</td>\n",
       "      <td>11</td>\n",
       "    </tr>\n",
       "    <tr>\n",
       "      <th>37</th>\n",
       "      <td>29</td>\n",
       "      <td>Park Prohibited Area No Permit</td>\n",
       "      <td>0</td>\n",
       "      <td>1</td>\n",
       "    </tr>\n",
       "    <tr>\n",
       "      <th>38</th>\n",
       "      <td>30</td>\n",
       "      <td>STOP ON/OVER SIDEWALK/FOOTPATH</td>\n",
       "      <td>0</td>\n",
       "      <td>1</td>\n",
       "    </tr>\n",
       "    <tr>\n",
       "      <th>40</th>\n",
       "      <td>31</td>\n",
       "      <td>STOP SIDE STOPPED/PARKED VEH</td>\n",
       "      <td>0</td>\n",
       "      <td>482</td>\n",
       "    </tr>\n",
       "    <tr>\n",
       "      <th>42</th>\n",
       "      <td>32</td>\n",
       "      <td>STAND VEHICLE-SIGNED HIGHWAY</td>\n",
       "      <td>0</td>\n",
       "      <td>3</td>\n",
       "    </tr>\n",
       "    <tr>\n",
       "      <th>43</th>\n",
       "      <td>33</td>\n",
       "      <td>STAND VEHICLE-SIGNED HIGHWAY-3</td>\n",
       "      <td>0</td>\n",
       "      <td>5</td>\n",
       "    </tr>\n",
       "    <tr>\n",
       "      <th>44</th>\n",
       "      <td>34</td>\n",
       "      <td>STAND VEHICLE SIGNED HIGHWAY 2</td>\n",
       "      <td>0</td>\n",
       "      <td>1</td>\n",
       "    </tr>\n",
       "    <tr>\n",
       "      <th>45</th>\n",
       "      <td>35</td>\n",
       "      <td>STAND VEH-HWY-18.5 PST BSTP SM</td>\n",
       "      <td>0</td>\n",
       "      <td>1</td>\n",
       "    </tr>\n",
       "    <tr>\n",
       "      <th>48</th>\n",
       "      <td>40</td>\n",
       "      <td>PARAL PRK-MTRD-FR WHLS NO OPP</td>\n",
       "      <td>0</td>\n",
       "      <td>1</td>\n",
       "    </tr>\n",
       "    <tr>\n",
       "      <th>49</th>\n",
       "      <td>44</td>\n",
       "      <td>PARALLEL PARK-METERED SPACE-FR</td>\n",
       "      <td>0</td>\n",
       "      <td>2</td>\n",
       "    </tr>\n",
       "    <tr>\n",
       "      <th>80</th>\n",
       "      <td>89</td>\n",
       "      <td>PARK MOTORCYCLE - IN SPACE</td>\n",
       "      <td>0</td>\n",
       "      <td>1</td>\n",
       "    </tr>\n",
       "    <tr>\n",
       "      <th>85</th>\n",
       "      <td>135</td>\n",
       "      <td>PARK NORTH SIDE FARNHAM AVENUE</td>\n",
       "      <td>0</td>\n",
       "      <td>9</td>\n",
       "    </tr>\n",
       "    <tr>\n",
       "      <th>91</th>\n",
       "      <td>210</td>\n",
       "      <td>PARK FAIL TO DISPLAY RECEIPT</td>\n",
       "      <td>0</td>\n",
       "      <td>1</td>\n",
       "    </tr>\n",
       "    <tr>\n",
       "      <th>141</th>\n",
       "      <td>353</td>\n",
       "      <td>PARK ONSTRT ACCESSIBLE NO PRMT</td>\n",
       "      <td>0</td>\n",
       "      <td>1</td>\n",
       "    </tr>\n",
       "    <tr>\n",
       "      <th>142</th>\n",
       "      <td>354</td>\n",
       "      <td>PARK ONSTRT ACCESSIBLE NOT D/O</td>\n",
       "      <td>0</td>\n",
       "      <td>1</td>\n",
       "    </tr>\n",
       "  </tbody>\n",
       "</table>\n",
       "</div>"
      ],
      "text/plain": [
       "     infraction_code          infraction_description  set_fine_amount  size\n",
       "1                  1  PARK-FAIL TO DEPOSIT FEE METER                0     1\n",
       "3                  3    PARK ON PRIV PROP NO CONSENT                0     6\n",
       "5                  3    PARK PRIVATE PROP NO CONSENT                0     6\n",
       "6                  4        PARK MUN PROP NO CONSENT                0     1\n",
       "7                  4     PARK ON MUN PROP NO CONSENT                0    66\n",
       "9                  5         PARK HWY PRO TIMES/DAYS                0     1\n",
       "10                 5  PARK HWY PROHIBITED TIMES/DAYS                0     2\n",
       "12                 6  PARK SIGNED HWY EXCESS OF TIME                0     1\n",
       "14                 7   PARK IN DESIGNATED FIRE ROUTE                0     1\n",
       "15                 7           PARK/LEAVE-FIRE ROUTE                0     2\n",
       "17                 9  STOP SIGNED HWY PRO TIMES/DAYS                0     1\n",
       "18                 9  STOP-HWY-PROHIBITED TIMES/DAYS                0     1\n",
       "33                25      STAND SIGNED TAXICAB STAND                0     1\n",
       "34                28  PARK-N.YORK 2AM-6AM DEC1-MAR31                0    11\n",
       "37                29  Park Prohibited Area No Permit                0     1\n",
       "38                30  STOP ON/OVER SIDEWALK/FOOTPATH                0     1\n",
       "40                31    STOP SIDE STOPPED/PARKED VEH                0   482\n",
       "42                32    STAND VEHICLE-SIGNED HIGHWAY                0     3\n",
       "43                33  STAND VEHICLE-SIGNED HIGHWAY-3                0     5\n",
       "44                34  STAND VEHICLE SIGNED HIGHWAY 2                0     1\n",
       "45                35  STAND VEH-HWY-18.5 PST BSTP SM                0     1\n",
       "48                40   PARAL PRK-MTRD-FR WHLS NO OPP                0     1\n",
       "49                44  PARALLEL PARK-METERED SPACE-FR                0     2\n",
       "80                89      PARK MOTORCYCLE - IN SPACE                0     1\n",
       "85               135  PARK NORTH SIDE FARNHAM AVENUE                0     9\n",
       "91               210    PARK FAIL TO DISPLAY RECEIPT                0     1\n",
       "141              353  PARK ONSTRT ACCESSIBLE NO PRMT                0     1\n",
       "142              354  PARK ONSTRT ACCESSIBLE NOT D/O                0     1"
      ]
     },
     "execution_count": 41,
     "metadata": {},
     "output_type": "execute_result"
    }
   ],
   "source": [
    "# Noticed that some infractions of fine amount of $0, so we need to check which infraction codes have such infractions\n",
    "distinct_fines = df.groupby(['infraction_code', 'infraction_description', 'set_fine_amount'], as_index = False).size()\n",
    "warning_codes = distinct_fines[distinct_fines['set_fine_amount'] == 0]['infraction_code']\n",
    "\n",
    "distinct_fines[distinct_fines['set_fine_amount'] == 0]\n",
    "\n",
    "# We may have to make the assumption that fine = $0 means a warning?"
   ]
  },
  {
   "cell_type": "markdown",
   "id": "rWXiJgg0ZyT1",
   "metadata": {
    "id": "rWXiJgg0ZyT1"
   },
   "source": [
    "#### **Drop irrelevant features**"
   ]
  },
  {
   "cell_type": "code",
   "execution_count": 42,
   "id": "5d8920f8-214e-412d-8042-5d9c481412b2",
   "metadata": {
    "id": "5d8920f8-214e-412d-8042-5d9c481412b2"
   },
   "outputs": [],
   "source": [
    "# drop tag_number, infraction desc, location1, location3, location4, province\n",
    "\n",
    "#df=df.drop(df[['tag_number_masked','infraction_description','location1','province','location3','location4']],axis = 1)\n",
    "#df.isnull().sum()"
   ]
  },
  {
   "cell_type": "code",
   "execution_count": 43,
   "id": "NAK3qyYAKsxa",
   "metadata": {
    "colab": {
     "base_uri": "https://localhost:8080/",
     "height": 1000
    },
    "id": "NAK3qyYAKsxa",
    "outputId": "4c289b9a-4f70-47af-ba68-55a06ace9c2b"
   },
   "outputs": [
    {
     "data": {
      "text/html": [
       "<div>\n",
       "<style scoped>\n",
       "    .dataframe tbody tr th:only-of-type {\n",
       "        vertical-align: middle;\n",
       "    }\n",
       "\n",
       "    .dataframe tbody tr th {\n",
       "        vertical-align: top;\n",
       "    }\n",
       "\n",
       "    .dataframe thead th {\n",
       "        text-align: right;\n",
       "    }\n",
       "</style>\n",
       "<table border=\"1\" class=\"dataframe\">\n",
       "  <thead>\n",
       "    <tr style=\"text-align: right;\">\n",
       "      <th></th>\n",
       "      <th>tag_number_masked</th>\n",
       "      <th>date_of_infraction</th>\n",
       "      <th>infraction_code</th>\n",
       "      <th>infraction_description</th>\n",
       "      <th>set_fine_amount</th>\n",
       "      <th>time_of_infraction</th>\n",
       "      <th>location1</th>\n",
       "      <th>location2</th>\n",
       "      <th>location3</th>\n",
       "      <th>location4</th>\n",
       "      <th>province</th>\n",
       "      <th>year</th>\n",
       "      <th>month</th>\n",
       "      <th>day</th>\n",
       "      <th>day_of_week_name</th>\n",
       "      <th>day_of_week</th>\n",
       "      <th>time_hour</th>\n",
       "      <th>time_min</th>\n",
       "    </tr>\n",
       "  </thead>\n",
       "  <tbody>\n",
       "    <tr>\n",
       "      <th>1720911</th>\n",
       "      <td>***35157</td>\n",
       "      <td>2022-03-05</td>\n",
       "      <td>3</td>\n",
       "      <td>PARK ON PRIVATE PROPERTY</td>\n",
       "      <td>30</td>\n",
       "      <td>2210</td>\n",
       "      <td>NaN</td>\n",
       "      <td>384 MOUNT PLEASANT RD</td>\n",
       "      <td>NaN</td>\n",
       "      <td>NaN</td>\n",
       "      <td>ON</td>\n",
       "      <td>2022</td>\n",
       "      <td>3</td>\n",
       "      <td>5</td>\n",
       "      <td>Saturday</td>\n",
       "      <td>5</td>\n",
       "      <td>22</td>\n",
       "      <td>10</td>\n",
       "    </tr>\n",
       "    <tr>\n",
       "      <th>3003984</th>\n",
       "      <td>***45275</td>\n",
       "      <td>2022-10-28</td>\n",
       "      <td>4</td>\n",
       "      <td>PARK ON MUNICIPAL PROPERTY</td>\n",
       "      <td>30</td>\n",
       "      <td>1111</td>\n",
       "      <td>AT</td>\n",
       "      <td>400 MUNSTER AVENUE</td>\n",
       "      <td>NaN</td>\n",
       "      <td>NaN</td>\n",
       "      <td>ON</td>\n",
       "      <td>2022</td>\n",
       "      <td>10</td>\n",
       "      <td>28</td>\n",
       "      <td>Friday</td>\n",
       "      <td>4</td>\n",
       "      <td>11</td>\n",
       "      <td>11</td>\n",
       "    </tr>\n",
       "    <tr>\n",
       "      <th>2470887</th>\n",
       "      <td>***60941</td>\n",
       "      <td>2022-07-20</td>\n",
       "      <td>2</td>\n",
       "      <td>PARK - LONGER THAN 3 HOURS</td>\n",
       "      <td>30</td>\n",
       "      <td>1157</td>\n",
       "      <td>OPP</td>\n",
       "      <td>72 WARLAND AVE</td>\n",
       "      <td>NaN</td>\n",
       "      <td>NaN</td>\n",
       "      <td>ON</td>\n",
       "      <td>2022</td>\n",
       "      <td>7</td>\n",
       "      <td>20</td>\n",
       "      <td>Wednesday</td>\n",
       "      <td>2</td>\n",
       "      <td>11</td>\n",
       "      <td>57</td>\n",
       "    </tr>\n",
       "    <tr>\n",
       "      <th>2352379</th>\n",
       "      <td>***59162</td>\n",
       "      <td>2022-06-28</td>\n",
       "      <td>312</td>\n",
       "      <td>PARKING MACH-NOT USED/NO FEE</td>\n",
       "      <td>75</td>\n",
       "      <td>1034</td>\n",
       "      <td>NaN</td>\n",
       "      <td>15 PRICE ST</td>\n",
       "      <td>NaN</td>\n",
       "      <td>NaN</td>\n",
       "      <td>ON</td>\n",
       "      <td>2022</td>\n",
       "      <td>6</td>\n",
       "      <td>28</td>\n",
       "      <td>Tuesday</td>\n",
       "      <td>1</td>\n",
       "      <td>10</td>\n",
       "      <td>34</td>\n",
       "    </tr>\n",
       "    <tr>\n",
       "      <th>1750557</th>\n",
       "      <td>***14085</td>\n",
       "      <td>2022-03-11</td>\n",
       "      <td>2</td>\n",
       "      <td>PARK - LONGER THAN 3 HOURS</td>\n",
       "      <td>30</td>\n",
       "      <td>0324</td>\n",
       "      <td>NR</td>\n",
       "      <td>402 SILVERTHORN AVE</td>\n",
       "      <td>NaN</td>\n",
       "      <td>NaN</td>\n",
       "      <td>ON</td>\n",
       "      <td>2022</td>\n",
       "      <td>3</td>\n",
       "      <td>11</td>\n",
       "      <td>Friday</td>\n",
       "      <td>4</td>\n",
       "      <td>3</td>\n",
       "      <td>24</td>\n",
       "    </tr>\n",
       "    <tr>\n",
       "      <th>3216362</th>\n",
       "      <td>***60936</td>\n",
       "      <td>2022-12-08</td>\n",
       "      <td>207</td>\n",
       "      <td>PARK MACHINE-REQD FEE NOT PAID</td>\n",
       "      <td>30</td>\n",
       "      <td>2037</td>\n",
       "      <td>NR</td>\n",
       "      <td>3300 BLOOR ST W</td>\n",
       "      <td>NaN</td>\n",
       "      <td>NaN</td>\n",
       "      <td>ON</td>\n",
       "      <td>2022</td>\n",
       "      <td>12</td>\n",
       "      <td>8</td>\n",
       "      <td>Thursday</td>\n",
       "      <td>3</td>\n",
       "      <td>20</td>\n",
       "      <td>37</td>\n",
       "    </tr>\n",
       "    <tr>\n",
       "      <th>1763331</th>\n",
       "      <td>***48344</td>\n",
       "      <td>2022-03-13</td>\n",
       "      <td>5</td>\n",
       "      <td>PARK-SIGNED HWY-PROHIBIT DY/TM</td>\n",
       "      <td>50</td>\n",
       "      <td>1752</td>\n",
       "      <td>OPP</td>\n",
       "      <td>25 CHARLES ST E</td>\n",
       "      <td>NaN</td>\n",
       "      <td>NaN</td>\n",
       "      <td>ON</td>\n",
       "      <td>2022</td>\n",
       "      <td>3</td>\n",
       "      <td>13</td>\n",
       "      <td>Sunday</td>\n",
       "      <td>6</td>\n",
       "      <td>17</td>\n",
       "      <td>52</td>\n",
       "    </tr>\n",
       "    <tr>\n",
       "      <th>1507378</th>\n",
       "      <td>***66115</td>\n",
       "      <td>2022-01-08</td>\n",
       "      <td>3</td>\n",
       "      <td>PARK ON PRIVATE PROPERTY</td>\n",
       "      <td>30</td>\n",
       "      <td>0303</td>\n",
       "      <td>AT</td>\n",
       "      <td>1403 ROYAL YORK RD</td>\n",
       "      <td>NaN</td>\n",
       "      <td>NaN</td>\n",
       "      <td>ON</td>\n",
       "      <td>2022</td>\n",
       "      <td>1</td>\n",
       "      <td>8</td>\n",
       "      <td>Saturday</td>\n",
       "      <td>5</td>\n",
       "      <td>3</td>\n",
       "      <td>3</td>\n",
       "    </tr>\n",
       "    <tr>\n",
       "      <th>3250799</th>\n",
       "      <td>***32832</td>\n",
       "      <td>2022-12-16</td>\n",
       "      <td>48</td>\n",
       "      <td>FAIL TO PARK/STOP PARALL. CURB</td>\n",
       "      <td>30</td>\n",
       "      <td>1153</td>\n",
       "      <td>NR</td>\n",
       "      <td>186 SWANWICK AVE</td>\n",
       "      <td>NaN</td>\n",
       "      <td>NaN</td>\n",
       "      <td>ON</td>\n",
       "      <td>2022</td>\n",
       "      <td>12</td>\n",
       "      <td>16</td>\n",
       "      <td>Friday</td>\n",
       "      <td>4</td>\n",
       "      <td>11</td>\n",
       "      <td>53</td>\n",
       "    </tr>\n",
       "    <tr>\n",
       "      <th>2972381</th>\n",
       "      <td>***93473</td>\n",
       "      <td>2022-10-22</td>\n",
       "      <td>3</td>\n",
       "      <td>PARK ON PRIVATE PROPERTY</td>\n",
       "      <td>30</td>\n",
       "      <td>1855</td>\n",
       "      <td>AT</td>\n",
       "      <td>202 JARVIS ST</td>\n",
       "      <td>NaN</td>\n",
       "      <td>NaN</td>\n",
       "      <td>ON</td>\n",
       "      <td>2022</td>\n",
       "      <td>10</td>\n",
       "      <td>22</td>\n",
       "      <td>Saturday</td>\n",
       "      <td>5</td>\n",
       "      <td>18</td>\n",
       "      <td>55</td>\n",
       "    </tr>\n",
       "    <tr>\n",
       "      <th>1383987</th>\n",
       "      <td>***10675</td>\n",
       "      <td>2021-12-08</td>\n",
       "      <td>6</td>\n",
       "      <td>PARK-SIGNED HWY-EXC PERMT TIME</td>\n",
       "      <td>40</td>\n",
       "      <td>1530</td>\n",
       "      <td>NR</td>\n",
       "      <td>5 HOWARD PARK AVE</td>\n",
       "      <td>NaN</td>\n",
       "      <td>NaN</td>\n",
       "      <td>ON</td>\n",
       "      <td>2021</td>\n",
       "      <td>12</td>\n",
       "      <td>8</td>\n",
       "      <td>Wednesday</td>\n",
       "      <td>2</td>\n",
       "      <td>15</td>\n",
       "      <td>30</td>\n",
       "    </tr>\n",
       "    <tr>\n",
       "      <th>1568755</th>\n",
       "      <td>***34280</td>\n",
       "      <td>2022-01-25</td>\n",
       "      <td>28</td>\n",
       "      <td>PARK-N.YORK 2AM-6AM DEC1-MAR31</td>\n",
       "      <td>40</td>\n",
       "      <td>0238</td>\n",
       "      <td>NR</td>\n",
       "      <td>31 TIPPETT RD</td>\n",
       "      <td>NaN</td>\n",
       "      <td>NaN</td>\n",
       "      <td>ON</td>\n",
       "      <td>2022</td>\n",
       "      <td>1</td>\n",
       "      <td>25</td>\n",
       "      <td>Tuesday</td>\n",
       "      <td>1</td>\n",
       "      <td>2</td>\n",
       "      <td>38</td>\n",
       "    </tr>\n",
       "    <tr>\n",
       "      <th>283620</th>\n",
       "      <td>***44224</td>\n",
       "      <td>2021-05-04</td>\n",
       "      <td>320</td>\n",
       "      <td>PARK NON-BUS-BUS PK ZNE DY/TM</td>\n",
       "      <td>150</td>\n",
       "      <td>1018</td>\n",
       "      <td>NR</td>\n",
       "      <td>244 VICTORIA ST</td>\n",
       "      <td>NaN</td>\n",
       "      <td>NaN</td>\n",
       "      <td>ON</td>\n",
       "      <td>2021</td>\n",
       "      <td>5</td>\n",
       "      <td>4</td>\n",
       "      <td>Tuesday</td>\n",
       "      <td>1</td>\n",
       "      <td>10</td>\n",
       "      <td>18</td>\n",
       "    </tr>\n",
       "    <tr>\n",
       "      <th>1961973</th>\n",
       "      <td>***98134</td>\n",
       "      <td>2022-04-18</td>\n",
       "      <td>312</td>\n",
       "      <td>PARKING MACH-NOT USED/NO FEE</td>\n",
       "      <td>75</td>\n",
       "      <td>1009</td>\n",
       "      <td>NaN</td>\n",
       "      <td>205 MCCAUL ST</td>\n",
       "      <td>NaN</td>\n",
       "      <td>NaN</td>\n",
       "      <td>ON</td>\n",
       "      <td>2022</td>\n",
       "      <td>4</td>\n",
       "      <td>18</td>\n",
       "      <td>Monday</td>\n",
       "      <td>0</td>\n",
       "      <td>10</td>\n",
       "      <td>9</td>\n",
       "    </tr>\n",
       "    <tr>\n",
       "      <th>1152512</th>\n",
       "      <td>***67768</td>\n",
       "      <td>2021-10-29</td>\n",
       "      <td>3</td>\n",
       "      <td>PARK ON PRIVATE PROPERTY</td>\n",
       "      <td>30</td>\n",
       "      <td>1856</td>\n",
       "      <td>AT</td>\n",
       "      <td>1033 QUEEN ST W</td>\n",
       "      <td>NaN</td>\n",
       "      <td>NaN</td>\n",
       "      <td>ON</td>\n",
       "      <td>2021</td>\n",
       "      <td>10</td>\n",
       "      <td>29</td>\n",
       "      <td>Friday</td>\n",
       "      <td>4</td>\n",
       "      <td>18</td>\n",
       "      <td>56</td>\n",
       "    </tr>\n",
       "    <tr>\n",
       "      <th>1331416</th>\n",
       "      <td>***49656</td>\n",
       "      <td>2021-11-29</td>\n",
       "      <td>207</td>\n",
       "      <td>PARK MACHINE-REQD FEE NOT PAID</td>\n",
       "      <td>30</td>\n",
       "      <td>1903</td>\n",
       "      <td>NR</td>\n",
       "      <td>89 OSSINGTON AVE</td>\n",
       "      <td>NaN</td>\n",
       "      <td>NaN</td>\n",
       "      <td>ON</td>\n",
       "      <td>2021</td>\n",
       "      <td>11</td>\n",
       "      <td>29</td>\n",
       "      <td>Monday</td>\n",
       "      <td>0</td>\n",
       "      <td>19</td>\n",
       "      <td>3</td>\n",
       "    </tr>\n",
       "    <tr>\n",
       "      <th>578570</th>\n",
       "      <td>***89231</td>\n",
       "      <td>2021-07-17</td>\n",
       "      <td>3</td>\n",
       "      <td>PARK ON PRIVATE PROPERTY</td>\n",
       "      <td>30</td>\n",
       "      <td>0352</td>\n",
       "      <td>AT</td>\n",
       "      <td>955 BAY ST</td>\n",
       "      <td>NaN</td>\n",
       "      <td>NaN</td>\n",
       "      <td>ON</td>\n",
       "      <td>2021</td>\n",
       "      <td>7</td>\n",
       "      <td>17</td>\n",
       "      <td>Saturday</td>\n",
       "      <td>5</td>\n",
       "      <td>3</td>\n",
       "      <td>52</td>\n",
       "    </tr>\n",
       "    <tr>\n",
       "      <th>2003183</th>\n",
       "      <td>***51845</td>\n",
       "      <td>2022-04-26</td>\n",
       "      <td>4</td>\n",
       "      <td>PARK ON MUNICIPAL PROPERTY</td>\n",
       "      <td>30</td>\n",
       "      <td>1014</td>\n",
       "      <td>NaN</td>\n",
       "      <td>400 MUNSTER AVE</td>\n",
       "      <td>NaN</td>\n",
       "      <td>NaN</td>\n",
       "      <td>ON</td>\n",
       "      <td>2022</td>\n",
       "      <td>4</td>\n",
       "      <td>26</td>\n",
       "      <td>Tuesday</td>\n",
       "      <td>1</td>\n",
       "      <td>10</td>\n",
       "      <td>14</td>\n",
       "    </tr>\n",
       "    <tr>\n",
       "      <th>2076808</th>\n",
       "      <td>***19556</td>\n",
       "      <td>2022-05-09</td>\n",
       "      <td>384</td>\n",
       "      <td>STOP VEH OTR THN BCYCL-BYCL LN</td>\n",
       "      <td>150</td>\n",
       "      <td>1255</td>\n",
       "      <td>NR</td>\n",
       "      <td>134 PETER ST</td>\n",
       "      <td>NaN</td>\n",
       "      <td>NaN</td>\n",
       "      <td>ON</td>\n",
       "      <td>2022</td>\n",
       "      <td>5</td>\n",
       "      <td>9</td>\n",
       "      <td>Monday</td>\n",
       "      <td>0</td>\n",
       "      <td>12</td>\n",
       "      <td>55</td>\n",
       "    </tr>\n",
       "    <tr>\n",
       "      <th>993913</th>\n",
       "      <td>***81229</td>\n",
       "      <td>2021-10-01</td>\n",
       "      <td>9</td>\n",
       "      <td>STOP-SIGNED HWY-PROHIBIT TM/DY</td>\n",
       "      <td>100</td>\n",
       "      <td>1222</td>\n",
       "      <td>NR</td>\n",
       "      <td>80 COOPERAGE ST</td>\n",
       "      <td>NaN</td>\n",
       "      <td>NaN</td>\n",
       "      <td>ON</td>\n",
       "      <td>2021</td>\n",
       "      <td>10</td>\n",
       "      <td>1</td>\n",
       "      <td>Friday</td>\n",
       "      <td>4</td>\n",
       "      <td>12</td>\n",
       "      <td>22</td>\n",
       "    </tr>\n",
       "  </tbody>\n",
       "</table>\n",
       "</div>"
      ],
      "text/plain": [
       "        tag_number_masked date_of_infraction  infraction_code  \\\n",
       "1720911          ***35157         2022-03-05                3   \n",
       "3003984          ***45275         2022-10-28                4   \n",
       "2470887          ***60941         2022-07-20                2   \n",
       "2352379          ***59162         2022-06-28              312   \n",
       "1750557          ***14085         2022-03-11                2   \n",
       "3216362          ***60936         2022-12-08              207   \n",
       "1763331          ***48344         2022-03-13                5   \n",
       "1507378          ***66115         2022-01-08                3   \n",
       "3250799          ***32832         2022-12-16               48   \n",
       "2972381          ***93473         2022-10-22                3   \n",
       "1383987          ***10675         2021-12-08                6   \n",
       "1568755          ***34280         2022-01-25               28   \n",
       "283620           ***44224         2021-05-04              320   \n",
       "1961973          ***98134         2022-04-18              312   \n",
       "1152512          ***67768         2021-10-29                3   \n",
       "1331416          ***49656         2021-11-29              207   \n",
       "578570           ***89231         2021-07-17                3   \n",
       "2003183          ***51845         2022-04-26                4   \n",
       "2076808          ***19556         2022-05-09              384   \n",
       "993913           ***81229         2021-10-01                9   \n",
       "\n",
       "                 infraction_description  set_fine_amount time_of_infraction  \\\n",
       "1720911        PARK ON PRIVATE PROPERTY               30               2210   \n",
       "3003984      PARK ON MUNICIPAL PROPERTY               30               1111   \n",
       "2470887      PARK - LONGER THAN 3 HOURS               30               1157   \n",
       "2352379    PARKING MACH-NOT USED/NO FEE               75               1034   \n",
       "1750557      PARK - LONGER THAN 3 HOURS               30               0324   \n",
       "3216362  PARK MACHINE-REQD FEE NOT PAID               30               2037   \n",
       "1763331  PARK-SIGNED HWY-PROHIBIT DY/TM               50               1752   \n",
       "1507378        PARK ON PRIVATE PROPERTY               30               0303   \n",
       "3250799  FAIL TO PARK/STOP PARALL. CURB               30               1153   \n",
       "2972381        PARK ON PRIVATE PROPERTY               30               1855   \n",
       "1383987  PARK-SIGNED HWY-EXC PERMT TIME               40               1530   \n",
       "1568755  PARK-N.YORK 2AM-6AM DEC1-MAR31               40               0238   \n",
       "283620    PARK NON-BUS-BUS PK ZNE DY/TM              150               1018   \n",
       "1961973    PARKING MACH-NOT USED/NO FEE               75               1009   \n",
       "1152512        PARK ON PRIVATE PROPERTY               30               1856   \n",
       "1331416  PARK MACHINE-REQD FEE NOT PAID               30               1903   \n",
       "578570         PARK ON PRIVATE PROPERTY               30               0352   \n",
       "2003183      PARK ON MUNICIPAL PROPERTY               30               1014   \n",
       "2076808  STOP VEH OTR THN BCYCL-BYCL LN              150               1255   \n",
       "993913   STOP-SIGNED HWY-PROHIBIT TM/DY              100               1222   \n",
       "\n",
       "        location1              location2 location3 location4 province  year  \\\n",
       "1720911       NaN  384 MOUNT PLEASANT RD       NaN       NaN       ON  2022   \n",
       "3003984        AT     400 MUNSTER AVENUE       NaN       NaN       ON  2022   \n",
       "2470887       OPP         72 WARLAND AVE       NaN       NaN       ON  2022   \n",
       "2352379       NaN            15 PRICE ST       NaN       NaN       ON  2022   \n",
       "1750557        NR    402 SILVERTHORN AVE       NaN       NaN       ON  2022   \n",
       "3216362        NR        3300 BLOOR ST W       NaN       NaN       ON  2022   \n",
       "1763331       OPP        25 CHARLES ST E       NaN       NaN       ON  2022   \n",
       "1507378        AT     1403 ROYAL YORK RD       NaN       NaN       ON  2022   \n",
       "3250799        NR       186 SWANWICK AVE       NaN       NaN       ON  2022   \n",
       "2972381        AT          202 JARVIS ST       NaN       NaN       ON  2022   \n",
       "1383987        NR      5 HOWARD PARK AVE       NaN       NaN       ON  2021   \n",
       "1568755        NR          31 TIPPETT RD       NaN       NaN       ON  2022   \n",
       "283620         NR        244 VICTORIA ST       NaN       NaN       ON  2021   \n",
       "1961973       NaN          205 MCCAUL ST       NaN       NaN       ON  2022   \n",
       "1152512        AT        1033 QUEEN ST W       NaN       NaN       ON  2021   \n",
       "1331416        NR       89 OSSINGTON AVE       NaN       NaN       ON  2021   \n",
       "578570         AT             955 BAY ST       NaN       NaN       ON  2021   \n",
       "2003183       NaN        400 MUNSTER AVE       NaN       NaN       ON  2022   \n",
       "2076808        NR           134 PETER ST       NaN       NaN       ON  2022   \n",
       "993913         NR        80 COOPERAGE ST       NaN       NaN       ON  2021   \n",
       "\n",
       "         month  day day_of_week_name  day_of_week  time_hour  time_min  \n",
       "1720911      3    5         Saturday            5         22        10  \n",
       "3003984     10   28           Friday            4         11        11  \n",
       "2470887      7   20        Wednesday            2         11        57  \n",
       "2352379      6   28          Tuesday            1         10        34  \n",
       "1750557      3   11           Friday            4          3        24  \n",
       "3216362     12    8         Thursday            3         20        37  \n",
       "1763331      3   13           Sunday            6         17        52  \n",
       "1507378      1    8         Saturday            5          3         3  \n",
       "3250799     12   16           Friday            4         11        53  \n",
       "2972381     10   22         Saturday            5         18        55  \n",
       "1383987     12    8        Wednesday            2         15        30  \n",
       "1568755      1   25          Tuesday            1          2        38  \n",
       "283620       5    4          Tuesday            1         10        18  \n",
       "1961973      4   18           Monday            0         10         9  \n",
       "1152512     10   29           Friday            4         18        56  \n",
       "1331416     11   29           Monday            0         19         3  \n",
       "578570       7   17         Saturday            5          3        52  \n",
       "2003183      4   26          Tuesday            1         10        14  \n",
       "2076808      5    9           Monday            0         12        55  \n",
       "993913      10    1           Friday            4         12        22  "
      ]
     },
     "execution_count": 43,
     "metadata": {},
     "output_type": "execute_result"
    }
   ],
   "source": [
    "df.sample(20)"
   ]
  },
  {
   "cell_type": "markdown",
   "id": "crmT-1VWM2QK",
   "metadata": {
    "id": "crmT-1VWM2QK"
   },
   "source": [
    "# **Clustering Model #1**\n",
    "\n",
    "With clustering, we're trying to group together parking violations with similar characteristics based on the features that were selected (infraction code, year, month, day, day of the week, set fine amount, time hour, and time minute).\n",
    "\n",
    "---\n",
    "\n",
    "1. **Numerical discrete**:\n",
    "\n",
    "  - infraction_code\n",
    "  - year\n",
    "  - month\n",
    "  - day\n",
    "  - day_of_week\n",
    "\n",
    "2. **Numerical continuous**\n",
    "\n",
    "  - set_fine_amount\t\n",
    "  - time_hour\t\n",
    "  - time_min\n",
    "\n",
    "3. **Categorical discrete**\n",
    "\n",
    "  - province\n",
    "\n",
    "4. **Categorical String (not useful if not converted into numerical)**\n",
    "\n",
    "  - tag_number_masked\n",
    "  - infraction_description\n",
    "  - location2\n",
    "\n"
   ]
  },
  {
   "cell_type": "code",
   "execution_count": 44,
   "id": "pzmZ1B8fzpZ1",
   "metadata": {
    "id": "pzmZ1B8fzpZ1"
   },
   "outputs": [
    {
     "ename": "ModuleNotFoundError",
     "evalue": "No module named 'yellowbrick'",
     "output_type": "error",
     "traceback": [
      "\u001b[0;31m---------------------------------------------------------------------------\u001b[0m",
      "\u001b[0;31mModuleNotFoundError\u001b[0m                       Traceback (most recent call last)",
      "\u001b[0;32m/var/folders/dl/nzqz9d4s48z5l005svj0w2sr0000gn/T/ipykernel_5006/1054659903.py\u001b[0m in \u001b[0;36m<module>\u001b[0;34m\u001b[0m\n\u001b[1;32m      4\u001b[0m \u001b[0;32mfrom\u001b[0m \u001b[0msklearn\u001b[0m\u001b[0;34m.\u001b[0m\u001b[0mpreprocessing\u001b[0m \u001b[0;32mimport\u001b[0m \u001b[0mStandardScaler\u001b[0m\u001b[0;34m,\u001b[0m \u001b[0mOneHotEncoder\u001b[0m\u001b[0;34m\u001b[0m\u001b[0;34m\u001b[0m\u001b[0m\n\u001b[1;32m      5\u001b[0m \u001b[0;32mfrom\u001b[0m \u001b[0msklearn\u001b[0m\u001b[0;34m.\u001b[0m\u001b[0mcompose\u001b[0m \u001b[0;32mimport\u001b[0m \u001b[0mColumnTransformer\u001b[0m\u001b[0;34m\u001b[0m\u001b[0;34m\u001b[0m\u001b[0m\n\u001b[0;32m----> 6\u001b[0;31m \u001b[0;32mfrom\u001b[0m \u001b[0myellowbrick\u001b[0m\u001b[0;34m.\u001b[0m\u001b[0mcluster\u001b[0m \u001b[0;32mimport\u001b[0m \u001b[0mKElbowVisualizer\u001b[0m\u001b[0;34m\u001b[0m\u001b[0;34m\u001b[0m\u001b[0m\n\u001b[0m\u001b[1;32m      7\u001b[0m \u001b[0;32mfrom\u001b[0m \u001b[0msklearn\u001b[0m\u001b[0;34m.\u001b[0m\u001b[0mmetrics\u001b[0m \u001b[0;32mimport\u001b[0m \u001b[0msilhouette_score\u001b[0m\u001b[0;34m\u001b[0m\u001b[0;34m\u001b[0m\u001b[0m\n\u001b[1;32m      8\u001b[0m \u001b[0;32mfrom\u001b[0m \u001b[0msklearn\u001b[0m\u001b[0;34m.\u001b[0m\u001b[0mdecomposition\u001b[0m \u001b[0;32mimport\u001b[0m \u001b[0mPCA\u001b[0m\u001b[0;34m\u001b[0m\u001b[0;34m\u001b[0m\u001b[0m\n",
      "\u001b[0;31mModuleNotFoundError\u001b[0m: No module named 'yellowbrick'"
     ]
    }
   ],
   "source": [
    "from sklearn import metrics\n",
    "\n",
    "from sklearn.cluster import KMeans\n",
    "from sklearn.preprocessing import StandardScaler, OneHotEncoder\n",
    "from sklearn.compose import ColumnTransformer\n",
    "from yellowbrick.cluster import KElbowVisualizer\n",
    "from sklearn.metrics import silhouette_score\n",
    "from sklearn.decomposition import PCA"
   ]
  },
  {
   "cell_type": "markdown",
   "id": "ohx_t9A6bEy4",
   "metadata": {
    "id": "ohx_t9A6bEy4"
   },
   "source": [
    "# **Data Preparation**"
   ]
  },
  {
   "cell_type": "code",
   "execution_count": null,
   "id": "vgFNYb2nM2Y8",
   "metadata": {
    "colab": {
     "base_uri": "https://localhost:8080/"
    },
    "id": "vgFNYb2nM2Y8",
    "outputId": "42c1d279-9c35-45ed-f8a0-342a23cf8d80"
   },
   "outputs": [],
   "source": [
    "# Data separation\n",
    "num_discrete = ['infraction_code', 'year', 'month', 'day', 'day_of_week']\n",
    "num_continuous = ['set_fine_amount', 'time_hour', 'time_min']\n",
    "#X = df[num_discrete + num_continuous]\n",
    "\n",
    "# 50% of the data\n",
    "df_sample_half = df.sample(frac=0.5, random_state=42)\n",
    "X_half = df_sample_half[num_discrete + num_continuous]\n",
    "print(len(df_sample_half))\n",
    "\n",
    "# Scaling\n",
    "scaler = StandardScaler()\n",
    "X_scaled = scaler.fit_transform(X_half)"
   ]
  },
  {
   "cell_type": "code",
   "execution_count": null,
   "id": "Lg8Ap4fbzgpf",
   "metadata": {
    "colab": {
     "base_uri": "https://localhost:8080/"
    },
    "id": "Lg8Ap4fbzgpf",
    "outputId": "9aa4a5ab-ab0e-437d-85a3-734c9f15d9ca"
   },
   "outputs": [],
   "source": [
    "# Smaller random sample to find best K\n",
    "sample_df = df.sample(frac=0.02, random_state=42)\n",
    "X_sample = sample_df[num_discrete + num_continuous]\n",
    "print(len(sample_df))\n",
    "\n",
    "scaler = StandardScaler()\n",
    "X_sample_norm = scaler.fit_transform(X_sample)"
   ]
  },
  {
   "cell_type": "markdown",
   "id": "X3r0-SXbxKfP",
   "metadata": {
    "id": "X3r0-SXbxKfP"
   },
   "source": [
    "# **Kmeans Model Preparation**"
   ]
  },
  {
   "cell_type": "code",
   "execution_count": null,
   "id": "boJHEU2lxdEL",
   "metadata": {
    "colab": {
     "base_uri": "https://localhost:8080/",
     "height": 874
    },
    "id": "boJHEU2lxdEL",
    "outputId": "8fc6b285-90cf-41f0-b6c4-ce824262d342"
   },
   "outputs": [],
   "source": [
    "from yellowbrick.cluster import KElbowVisualizer\n",
    "\n",
    "kmeans_elbow = KMeans(random_state=42)\n",
    "visualizer_elbow = KElbowVisualizer(kmeans_elbow, k=(2,11), metric='distortion')\n",
    "visualizer_elbow.fit(X_sample_norm)\n",
    "k_opt = visualizer_elbow.elbow_value_\n",
    "print(f'Optimal K: K={k_opt}')\n",
    "visualizer_elbow.show()\n",
    "None"
   ]
  },
  {
   "cell_type": "markdown",
   "id": "ZHiMaAegAqiq",
   "metadata": {
    "id": "ZHiMaAegAqiq"
   },
   "source": [
    "Optimal K"
   ]
  },
  {
   "cell_type": "code",
   "execution_count": null,
   "id": "S0cil4Fsaw-P",
   "metadata": {
    "colab": {
     "base_uri": "https://localhost:8080/"
    },
    "id": "S0cil4Fsaw-P",
    "outputId": "3f85fc36-642d-4233-e983-dd9aa7644457"
   },
   "outputs": [],
   "source": [
    "kmeans = KMeans(n_clusters=k_opt, random_state=42).fit(X_scaled)\n",
    "\n",
    "df_sample_half['cluster'] = kmeans.labels_\n",
    "\n",
    "print(df_sample_half.groupby('cluster').size())"
   ]
  },
  {
   "cell_type": "markdown",
   "id": "ja6bhSRm_915",
   "metadata": {
    "id": "ja6bhSRm_915"
   },
   "source": [
    "PCA"
   ]
  },
  {
   "cell_type": "code",
   "execution_count": null,
   "id": "BxcxjOdz_-Ek",
   "metadata": {
    "colab": {
     "base_uri": "https://localhost:8080/"
    },
    "id": "BxcxjOdz_-Ek",
    "outputId": "4ff86b2a-da5e-46cf-9308-6b7a2b9a8911"
   },
   "outputs": [],
   "source": [
    "# Reduce the dimensionality\n",
    "pca = PCA(n_components=2, random_state=42)\n",
    "X_pca = pca.fit_transform(X_scaled)\n",
    "\n",
    "pca.explained_variance_ratio_"
   ]
  },
  {
   "cell_type": "code",
   "execution_count": null,
   "id": "N6NZz16ZCaPq",
   "metadata": {
    "colab": {
     "base_uri": "https://localhost:8080/"
    },
    "id": "N6NZz16ZCaPq",
    "outputId": "97f14a54-3d76-4311-9f19-03a6c93a585e"
   },
   "outputs": [],
   "source": [
    "pca.components_"
   ]
  },
  {
   "cell_type": "code",
   "execution_count": null,
   "id": "OAvFjK1KDlK_",
   "metadata": {
    "colab": {
     "base_uri": "https://localhost:8080/",
     "height": 776
    },
    "id": "OAvFjK1KDlK_",
    "outputId": "229c143d-b8a8-4a79-f17d-41c83e59fdde"
   },
   "outputs": [],
   "source": [
    "colors = ['red', 'green', 'blue', 'pink', 'orange']\n",
    "\n",
    "sns.set_style('whitegrid')\n",
    "fig, ax = plt.subplots(figsize=(9, 9)) \n",
    "\n",
    "ax = sns.scatterplot(x=X_pca[:, 0], \n",
    "                     y=X_pca[:, 1], \n",
    "                     hue=df_sample_half['cluster'], \n",
    "                     palette=colors)\n",
    "\n",
    "# Clusters + centroids\n",
    "counts = df_sample_half['cluster'].value_counts()\n",
    "for i in range(len(counts)):\n",
    "    centroid = [X_pca[df_sample_half['cluster'] == i, 0].mean(), \n",
    "                X_pca[df_sample_half['cluster'] == i, 1].mean()]\n",
    "    ax.scatter(centroid[0], centroid[1], marker='X', s=100, c='black')\n",
    "    ax.annotate(f'Cluster {i+1}', \n",
    "                xy=(centroid[0]+0.0, \n",
    "                    centroid[1]+0.30), \n",
    "                fontsize=12, \n",
    "                fontweight='bold',\n",
    "                bbox=dict(facecolor='white', \n",
    "                          edgecolor='black', \n",
    "                          boxstyle='round'))\n",
    "    \n",
    "# Clusters count + legend\n",
    "handles, labels = ax.get_legend_handles_labels()\n",
    "labels_legend = [f'Cluster {i+1} ({counts[i]})' for i, label in enumerate(labels)]\n",
    "ax.legend(handles, \n",
    "          labels_legend, \n",
    "          title='Clusters', \n",
    "          loc='upper right', \n",
    "          bbox_to_anchor=(1.30, 1))\n",
    "\n",
    "plt.title('Clusters of Parking Tickets')\n",
    "plt.show()"
   ]
  },
  {
   "cell_type": "markdown",
   "id": "-UYR7hhrGAGK",
   "metadata": {
    "id": "-UYR7hhrGAGK"
   },
   "source": [
    "# **Analysis**\n"
   ]
  },
  {
   "cell_type": "markdown",
   "id": "BHL8GZKAf694",
   "metadata": {
    "id": "BHL8GZKAf694"
   },
   "source": [
    "#### **Hour (time_hour)**\n",
    "\n",
    "---\n",
    "\n",
    "- Clusters 1, 2, and 3 have similar distributions with a peak around 13:00 (1 pm) and a spread between 10:00 (10 am) and 17:00 (5 pm). (It has a higher median hour value than the other clusters which indicates that tickets are more likely to occur during the later hours of the day.)\n",
    "- Cluster 4 has a similar shape to clusters 1, 2, and 3 but with a slightly later peak at around 14:00 (2 pm). (It has a higher median minute value than the other clusters which indicates that tickets are more likely to occur during the later minutes of the hour.)\n",
    "- Cluster 5 has a very different distribution with a peak at 02:00 (2 am) and a spread between 01:00 (1 am) and 04:00 (4 am).\n",
    "\n",
    "It can be useful for understanding when it is more likely to receive a ticket:\n",
    "\n",
    "- Clusters 1, 2, and 3 all have a similar distribution with a peak during the afternoon, which suggests that these clusters may represent areas with higher levels of daytime activity. \n",
    "- Cluster 5 has a very different distribution with a peak during the early morning hours, which may suggest that this cluster represents a different type of area, such as a nightlife district or an industrial area with overnight activity.\n",
    "\n",
    "It would be even better in relation with location."
   ]
  },
  {
   "cell_type": "code",
   "execution_count": null,
   "id": "nGGSBfDGl80r",
   "metadata": {
    "colab": {
     "base_uri": "https://localhost:8080/",
     "height": 527
    },
    "id": "nGGSBfDGl80r",
    "outputId": "8c93543b-a432-429c-d4f1-b686bc467f0d"
   },
   "outputs": [],
   "source": [
    "sns.boxplot(x='cluster', y='time_hour', data=df_sample_half, palette=colors)\n",
    "plt.title('Hour by Cluster')\n",
    "plt.ylabel('Hours')\n",
    "plt.xlabel('Clusters')\n",
    "plt.xticks(ticks=[0,1,2,3,4], labels=[1,2,3,4,5])\n",
    "plt.show()"
   ]
  },
  {
   "cell_type": "code",
   "execution_count": null,
   "id": "rLhLW9RVe8xn",
   "metadata": {
    "colab": {
     "base_uri": "https://localhost:8080/"
    },
    "id": "rLhLW9RVe8xn",
    "outputId": "cc48dad7-2185-44dd-b3f8-61a5a6163bce"
   },
   "outputs": [],
   "source": [
    "hour_stats = df_sample_half.groupby('cluster')['time_hour'].describe()\n",
    "print(hour_stats)"
   ]
  },
  {
   "cell_type": "markdown",
   "id": "InaUK7kbf9U6",
   "metadata": {
    "id": "InaUK7kbf9U6"
   },
   "source": [
    "#### **Minutes (time_min)**\n",
    "\n",
    "---\n",
    "\n",
    "**Boxplots**\n",
    "- Boxplots for minutes are similar across all clusters. It may indicate that the time of day when tickets are issued is not strongly related to the specific minute in the hour. \n",
    "- The hour of the day might be more important than the minutes for determining patterns in term of these parking tickets.\n",
    "\n",
    "**Frequency distribution + Heatmap**\n",
    "\n",
    "*Further analysis to try to find more details from the distribution*\n",
    "\n",
    "The color within a cluster is similar across all minutes (even if each cluster has different red pigment). It suggests that frequency is evenly distributed throughout the hour of the cluster. That means and reinforces that a specific minute within the hour is not strongly related to receiving a ticket.\n",
    "\n",
    "Heatmap results:\n",
    "\n",
    "- Cluster 1 (darker red) has the highest frequency of tickets across all minutes.\n",
    "- Cluster 2 (orange) still has moderate frequency, less than clusters 1, 3 and 5.\n",
    "- Cluster 3 (medium red) has relavelity high frequency, not as strngly has Clusters 0.\n",
    "- Cluster 4 (white) has very low frequency compared to others. The area might not be as strict as the others.\n",
    "- Cluster 5 (lighter red) has more frequency than clusters 2 and 4 but less than clusters 1 and 3. "
   ]
  },
  {
   "cell_type": "code",
   "execution_count": null,
   "id": "E5NRy2IRmGW9",
   "metadata": {
    "colab": {
     "base_uri": "https://localhost:8080/",
     "height": 527
    },
    "id": "E5NRy2IRmGW9",
    "outputId": "2bf599ad-505b-4a3c-db2a-c8b6ada0a69c"
   },
   "outputs": [],
   "source": [
    "sns.boxplot(x='cluster', y='time_min', data=df_sample_half, palette=colors)\n",
    "plt.title('Minutes by Cluster')\n",
    "plt.ylabel('Minutes')\n",
    "plt.xlabel('Clusters')\n",
    "plt.xticks(ticks=[0,1,2,3,4], labels=[1,2,3,4,5])\n",
    "plt.show()"
   ]
  },
  {
   "cell_type": "code",
   "execution_count": null,
   "id": "fI_Z2Ly_f5c_",
   "metadata": {
    "colab": {
     "base_uri": "https://localhost:8080/"
    },
    "id": "fI_Z2Ly_f5c_",
    "outputId": "1ffa1e2b-202b-4794-b2c8-2fb45577a185"
   },
   "outputs": [],
   "source": [
    "minute_stats = df_sample_half.groupby('cluster')['time_min'].describe()\n",
    "print(minute_stats)"
   ]
  },
  {
   "cell_type": "code",
   "execution_count": null,
   "id": "epQJtn0R43-V",
   "metadata": {
    "colab": {
     "base_uri": "https://localhost:8080/",
     "height": 424
    },
    "id": "epQJtn0R43-V",
    "outputId": "9d7c0b75-6730-4028-e8e2-3f4a6383bf68"
   },
   "outputs": [],
   "source": [
    "# Further analysis for minutes since they don't show any special pattern in the boxplot\n",
    "# Frequency distribution to see number of tickets for each minutes of the hour\n",
    "group_time_min = df_sample_half.groupby(['cluster', 'time_min']).size().reset_index(name='frequency')\n",
    "group_time_min"
   ]
  },
  {
   "cell_type": "code",
   "execution_count": null,
   "id": "08DelCTO6ojG",
   "metadata": {
    "colab": {
     "base_uri": "https://localhost:8080/",
     "height": 527
    },
    "id": "08DelCTO6ojG",
    "outputId": "4b4f5fbf-a2b1-4eda-d92b-12190c6bbd26"
   },
   "outputs": [],
   "source": [
    "pivot_time_min = group_time_min.pivot(index='time_min', columns='cluster', values='frequency')\n",
    "\n",
    "sns.heatmap(pivot_time_min, cmap='Reds', xticklabels=True, yticklabels=True)\n",
    "plt.title('Frequency Distribution of Parking Tickets by Minutes and Clusters')\n",
    "plt.xlabel('Clusters')\n",
    "plt.xticks(ticks=[0,1,2,3,4], labels=[1,2,3,4,5])\n",
    "plt.ylabel('Minutes')\n",
    "plt.show()"
   ]
  },
  {
   "cell_type": "markdown",
   "id": "Bxd-D2boCPVQ",
   "metadata": {
    "id": "Bxd-D2boCPVQ"
   },
   "source": [
    "### **Hours (time_hour) & minutes (time_min)**\n",
    "\n",
    "--- \n",
    "\n",
    "- Cluster 5 are more clear pattern than the others. The pattern is more related to 0 (midnightt) to 8 (am) hours. \n",
    "- For each cluster, tickest are gave throughout the hour. No significant pattern.\n"
   ]
  },
  {
   "cell_type": "code",
   "execution_count": null,
   "id": "-p6cqdL2c9h6",
   "metadata": {
    "colab": {
     "base_uri": "https://localhost:8080/",
     "height": 754
    },
    "id": "-p6cqdL2c9h6",
    "outputId": "975429e0-0c56-4b42-8ac3-e84f81ac1217"
   },
   "outputs": [],
   "source": [
    "plt.subplots(figsize=(10, 8))\n",
    "sns.scatterplot(x='time_hour', y='time_min', hue='cluster', data=df_sample_half, palette=colors)\n",
    "plt.title('Relationship - Hours & Minutes')\n",
    "plt.xlabel('Hours')\n",
    "plt.ylabel('Minutes')\n",
    "plt.show()"
   ]
  },
  {
   "cell_type": "markdown",
   "id": "WNpWu6c7gLTC",
   "metadata": {
    "id": "WNpWu6c7gLTC"
   },
   "source": [
    "#### **Fine Amount (set_fine_amount)**\n",
    "\n",
    "---\n",
    "\n",
    "- Cluster 1 and 3 have very similar distributions with median values around 30-50 and maximum values of 150\n",
    "- Cluster 2 has a higher median value of 64 and a wider range of values with maximum value of 200. - Cluster 4 has a much higher median value of 362 and all the data points fall within the third quartile and no outliers are present. It seems to be an outlier in terms of the fine amount and contains only very high fine values. \n",
    "- Cluster 5 is much smaller in size and has a lower median value of 30 with a wider range of values and a lot of outliers.\n"
   ]
  },
  {
   "cell_type": "code",
   "execution_count": null,
   "id": "uuFUakEMMgbm",
   "metadata": {
    "colab": {
     "base_uri": "https://localhost:8080/",
     "height": 527
    },
    "id": "uuFUakEMMgbm",
    "outputId": "9a8aab1f-9333-40b3-c8ca-51d29d788371"
   },
   "outputs": [],
   "source": [
    "sns.boxplot(x='cluster', y='set_fine_amount', data=df_sample_half, palette=colors)\n",
    "plt.title('Fine Amount by Cluster')\n",
    "plt.ylabel('Fine Amount')\n",
    "plt.xlabel('Clusters')\n",
    "plt.xticks(ticks=[0,1,2,3,4], labels=[1,2,3,4,5])\n",
    "plt.show()"
   ]
  },
  {
   "cell_type": "code",
   "execution_count": null,
   "id": "GovVohv6gRZ1",
   "metadata": {
    "colab": {
     "base_uri": "https://localhost:8080/"
    },
    "id": "GovVohv6gRZ1",
    "outputId": "68e5536d-0873-47de-f036-a995a70d3cf1"
   },
   "outputs": [],
   "source": [
    "amount_stats = df_sample_half.groupby('cluster')['set_fine_amount'].describe()\n",
    "print(amount_stats)"
   ]
  },
  {
   "cell_type": "markdown",
   "id": "ehmM2ysyAJjO",
   "metadata": {
    "id": "ehmM2ysyAJjO"
   },
   "source": [
    "### **Hour (time_hour) + Fine amount (set_fine_amount)**\n",
    "\n",
    "---\n",
    "\n",
    "**Correlation**\n",
    "\n",
    "Checking the correlation between hour and fine amount to see any relation.\n",
    "\n",
    "- 0.167 is a weak positive correlation. \n",
    "\n",
    "**Scatter plot**\n",
    "\n",
    "- Clusters 1, 2, 3 and 5 have lower fine amount than cluster 4.\n",
    "- Cluster 4 has the highest fine amount throughout all hours of the day.\n",
    "  - Fine amount are either around 250, 300 and 450.\n",
    "- Cluster 1 and 3 have similarities in term of fine amount and hours. \n",
    "  - Fine amount are mostly between 0 and 100 and sometimes up to 150 or 200. \n",
    "  - Hours are between 5 am and 24 (midnight). \n",
    "- Cluster 2 is similarly spread throughout the hours/day which low fine amount, with some variation compares to clusters 1 and 3.\n",
    "  - Fine amount mainly around 75 throughout the day with few variations around 50 and 150 and 200.\n",
    "\n",
    "- Cluster 5 is only at the beginning of the day and below fine amount of 150.\n",
    "  - Fine amount mainly between 0 and 100 with few 150.\n",
    "  - Hours are only between 0 (midnight) and 8 am.\n",
    "\n",
    "\n",
    "**Correlation (phi coefficient)**\n",
    "\n",
    "- Phi coefficient: 246282\n",
    "  - Strong positive relation between set_fine_amount and month.\n",
    "  - It suggests that certain fine amounts tend to be associated with certain month.\n",
    "\n",
    "- P-value: 0\n",
    "  - 0 indicates the association between set_fine_amount and month is significant.\n",
    "\n",
    "**Heat Map**\n",
    "\n",
    "- Stronger positive relation between fine amount 30 at any time of the day, especially between 0 to 4 am and 8 am to 8 pm."
   ]
  },
  {
   "cell_type": "code",
   "execution_count": null,
   "id": "6h8vaFcIAJuH",
   "metadata": {
    "colab": {
     "base_uri": "https://localhost:8080/"
    },
    "id": "6h8vaFcIAJuH",
    "outputId": "fde84584-f0c3-4045-c4ea-00e3f31f426f"
   },
   "outputs": [],
   "source": [
    "# Correlation\n",
    "corr = df_sample_half['time_hour'].corr(df_sample_half['set_fine_amount'])\n",
    "corr"
   ]
  },
  {
   "cell_type": "code",
   "execution_count": null,
   "id": "ezXY2SCNBHG2",
   "metadata": {
    "colab": {
     "base_uri": "https://localhost:8080/",
     "height": 754
    },
    "id": "ezXY2SCNBHG2",
    "outputId": "7b0c9bfb-9fe0-41be-b19f-424eef951272"
   },
   "outputs": [],
   "source": [
    "# Scatter plot\n",
    "plt.subplots(figsize=(10, 8))\n",
    "sns.scatterplot(x='time_hour', y='set_fine_amount', hue='cluster', data=df_sample_half, palette=colors)\n",
    "plt.title('Relationship - Hour & Fine amount')\n",
    "plt.xlabel('Hour')\n",
    "plt.ylabel('Fine amount')\n",
    "plt.show()"
   ]
  },
  {
   "cell_type": "code",
   "execution_count": null,
   "id": "GUKHmrHbsGF5",
   "metadata": {
    "colab": {
     "base_uri": "https://localhost:8080/"
    },
    "id": "GUKHmrHbsGF5",
    "outputId": "7f2ad44f-8155-4ffc-c389-78280d007dd8"
   },
   "outputs": [],
   "source": [
    "# Correlation (phi coefficient)\n",
    "from scipy.stats import chi2_contingency\n",
    "contingency_table = pd.crosstab(df_sample_half['set_fine_amount'], df_sample_half['time_hour'])\n",
    "phi_coefficient, p_value, degee_freedom, expected_frequencies = chi2_contingency(contingency_table)\n",
    "print(\"Phi coefficient: \", phi_coefficient)\n",
    "print(\"p-value: \", p_value)"
   ]
  },
  {
   "cell_type": "code",
   "execution_count": null,
   "id": "Qyt0-m0YsGF6",
   "metadata": {
    "colab": {
     "base_uri": "https://localhost:8080/",
     "height": 1000
    },
    "id": "Qyt0-m0YsGF6",
    "outputId": "33597648-1ff7-48f1-d0cc-d6480487e493"
   },
   "outputs": [],
   "source": [
    "plt.subplots(figsize=(20, 15))\n",
    "sns.heatmap(contingency_table, annot=True, cmap='Reds', cbar=False, square=True,\n",
    "            linewidths=.5, linecolor='gray', fmt='g', annot_kws={\"size\": 12},\n",
    "            vmin=0, vmax=contingency_table.sum().max() * 0.5, center=contingency_table.sum().max() * 0.2)\n",
    "plt.xlabel(\"Hours\", fontsize=14)\n",
    "plt.ylabel(\"Fine Amount\", fontsize=14)\n",
    "plt.title(f\"Phi Coefficient: {phi_coefficient:.2f}, p-value: {p_value:.2E}\", fontsize=16)\n",
    "plt.show()"
   ]
  },
  {
   "cell_type": "markdown",
   "id": "GD8HIFYjhU-s",
   "metadata": {
    "id": "GD8HIFYjhU-s"
   },
   "source": [
    "#### **Year**\n",
    "\n",
    "---\n",
    "\n",
    "*We probably don't have enough years to be able to draw conclusions.*\n",
    "\n",
    "- Cluster 1 is the highest of year 2021 and the lowest of year 2022.\n",
    "- Cluster 2 is higher in year 2022 than 2021.\n",
    "- Cluster 3 is the highest of year 2022 and the lowest of year 2021.\n",
    "- Cluster 4 is similar throughout both year.\n",
    "- Cluster 5 seems constant but higher in year 2022.\n"
   ]
  },
  {
   "cell_type": "code",
   "execution_count": null,
   "id": "iJggLntBkwFe",
   "metadata": {
    "colab": {
     "base_uri": "https://localhost:8080/",
     "height": 547
    },
    "id": "iJggLntBkwFe",
    "outputId": "0ebd7bf0-841e-4139-ef82-777da1e5d80d"
   },
   "outputs": [],
   "source": [
    "plt.hist([df_sample_half[df_sample_half['cluster'] == i]['year'] for i in range(len(kmeans.cluster_centers_))], \n",
    "         bins=2,\n",
    "         range=(2020.5, 2022.5),\n",
    "         label=[f'Cluster {i+1}' for i in range(len(kmeans.cluster_centers_))],\n",
    "         color=colors)\n",
    "plt.title('Year by Cluster')\n",
    "plt.xlabel('Year')\n",
    "plt.ylabel('Frequency')\n",
    "plt.xticks([2021, 2022], rotation=45, ha='right')\n",
    "plt.legend(loc='upper right')\n",
    "plt.show()"
   ]
  },
  {
   "cell_type": "markdown",
   "id": "nRswqRL2GwQF",
   "metadata": {
    "id": "nRswqRL2GwQF"
   },
   "source": [
    "#### **Month (January to December)**\n",
    "\n",
    "---\n",
    "\n",
    "- Cluster 1: Frequency is pretty high for each month troughout the year, but it seems higher between June and December.\n",
    "- Cluster 2: Frequency is average for each month throughout the year, but it is slightly higher during March and between June and November. \n",
    "- Cluster 3: Frequency is higher than clusters 2, 3, 4 and 5 but less than cluster 1. It is pretty high for each month except January and February.\n",
    "- Cluster 4: Seems to have the same low frequency throughout each month of the year.\n",
    "- Cluster 5: Frequency is similar to Cluster 2 but it is above average for each month and throughout the year."
   ]
  },
  {
   "cell_type": "code",
   "execution_count": null,
   "id": "ZlazI62yk3jQ",
   "metadata": {
    "colab": {
     "base_uri": "https://localhost:8080/",
     "height": 735
    },
    "id": "ZlazI62yk3jQ",
    "outputId": "05839aac-9f27-429e-f7ed-3eb80572a6dc"
   },
   "outputs": [],
   "source": [
    "plt.subplots(figsize=(10, 8))\n",
    "plt.hist([df_sample_half[df_sample_half['cluster'] == i]['month'] for i in range(len(kmeans.cluster_centers_))], \n",
    "         bins=12,\n",
    "         label=[f'Cluster {i+1}' for i in range(len(kmeans.cluster_centers_))],\n",
    "         color=colors)\n",
    "plt.title('Month by Cluster')\n",
    "plt.xlabel('Month')\n",
    "plt.xticks(range(1,13), ['Jan', 'Feb', 'Mar', 'Apr', 'May', 'Jun', 'Jul', 'Aug', 'Sep', 'Oct', 'Nov', 'Dec'], rotation=45, ha='right')\n",
    "plt.ylabel('Frequency')\n",
    "plt.legend(loc='upper right')\n",
    "plt.show()"
   ]
  },
  {
   "cell_type": "markdown",
   "id": "ypUAlDcAhIh8",
   "metadata": {
    "id": "ypUAlDcAhIh8"
   },
   "source": [
    "### **Month (month) + Fine amount (set_fine_amount)**\n",
    "\n",
    "---\n",
    "\n",
    "**Correlation**\n",
    "\n",
    "- -0.0258 is a weak negative correlation. \n",
    "\n",
    "**Correlation (phi coefficient)**\n",
    "\n",
    "- Phi coefficient: 25597\n",
    "  - Strong postitive relation between set_fine_amount and month.\n",
    "  - It suggests that certain fine amounts tend to be associated with certain month.\n",
    "\n",
    "- P-value: 0\n",
    "  - 0 indicates the association between set_fine_amount and month is significant.\n",
    "\n",
    "**Heat Map**\n",
    "\n",
    "- Stronger positive relation between fine amount 30 at any month of the year.\n",
    "- Medium positive relation for fine amount of 50 and 100.\n"
   ]
  },
  {
   "cell_type": "code",
   "execution_count": null,
   "id": "hJA0ooiwhIh9",
   "metadata": {
    "colab": {
     "base_uri": "https://localhost:8080/"
    },
    "id": "hJA0ooiwhIh9",
    "outputId": "9bed7882-029b-4b9f-aa7d-17b7ef27755c"
   },
   "outputs": [],
   "source": [
    "# Correlation\n",
    "corr = df_sample_half['month'].corr(df_sample_half['set_fine_amount'])\n",
    "corr"
   ]
  },
  {
   "cell_type": "code",
   "execution_count": null,
   "id": "OiDCxFyWrSy2",
   "metadata": {
    "colab": {
     "base_uri": "https://localhost:8080/"
    },
    "id": "OiDCxFyWrSy2",
    "outputId": "5de61375-0ce7-42dc-f9da-b87f70a550e9"
   },
   "outputs": [],
   "source": [
    "# Correlation (phi coefficient)\n",
    "from scipy.stats import chi2_contingency\n",
    "contingency_table = pd.crosstab(df_sample_half['set_fine_amount'], df_sample_half['month'])\n",
    "phi_coefficient, p_value, degee_freedom, expected_frequencies = chi2_contingency(contingency_table)\n",
    "print(\"Phi coefficient: \", phi_coefficient)\n",
    "print(\"p-value: \", p_value)"
   ]
  },
  {
   "cell_type": "code",
   "execution_count": null,
   "id": "NpoPwBxJrSy2",
   "metadata": {
    "colab": {
     "base_uri": "https://localhost:8080/",
     "height": 1000
    },
    "id": "NpoPwBxJrSy2",
    "outputId": "23f48c81-9720-4c32-ca9f-54f6f265ecaa"
   },
   "outputs": [],
   "source": [
    "plt.subplots(figsize=(20, 15))\n",
    "sns.heatmap(contingency_table, annot=True, cmap='Reds', cbar=False, square=True,\n",
    "            linewidths=.5, linecolor='gray', fmt='g', annot_kws={\"size\": 12},\n",
    "            vmin=0, vmax=contingency_table.sum().max() * 0.5, center=contingency_table.sum().max() * 0.2)\n",
    "plt.xlabel(\"Month\", fontsize=14)\n",
    "plt.ylabel(\"Fine Amount\", fontsize=14)\n",
    "plt.title(f\"Phi Coefficient: {phi_coefficient:.2f}, p-value: {p_value:.2E}\", fontsize=16)\n",
    "plt.show()"
   ]
  },
  {
   "cell_type": "code",
   "execution_count": null,
   "id": "5un5-LluhIh9",
   "metadata": {
    "colab": {
     "base_uri": "https://localhost:8080/",
     "height": 754
    },
    "id": "5un5-LluhIh9",
    "outputId": "6265448f-8f67-4720-b38f-54964a155c56"
   },
   "outputs": [],
   "source": [
    "# Scatter plot\n",
    "plt.subplots(figsize=(10, 8))\n",
    "sns.scatterplot(x='month', y='set_fine_amount', hue='cluster', data=df_sample_half, palette=colors)\n",
    "plt.title('Relationship - Month & Fine amount')\n",
    "plt.xlabel('Month')\n",
    "plt.ylabel('Fine amount')\n",
    "plt.show()"
   ]
  },
  {
   "cell_type": "markdown",
   "id": "nTSM95hSGxsA",
   "metadata": {
    "id": "nTSM95hSGxsA"
   },
   "source": [
    "#### **Day (1 to 29/30/31)**\n",
    "\n",
    "---\n",
    "\n",
    "- Cluster 1, 2, 3 and 5 are constant throughout the month. Cluster 1 always being the highest of these three, followed by cluster 3, cluster 5 and cluster 2. They are slightly higher at the end of the month.\n",
    "- Cluster 4: Seems to have the same low frequency throughout each day of the month."
   ]
  },
  {
   "cell_type": "code",
   "execution_count": null,
   "id": "2G9aEObllO0t",
   "metadata": {
    "colab": {
     "base_uri": "https://localhost:8080/",
     "height": 646
    },
    "id": "2G9aEObllO0t",
    "outputId": "b46e26c1-3476-4638-e24c-e092fb50222c"
   },
   "outputs": [],
   "source": [
    "plt.subplots(figsize=(20, 8))\n",
    "plt.hist([df_sample_half[df_sample_half['cluster'] == i]['day'] for i in range(len(kmeans.cluster_centers_))], \n",
    "         label=[f'Cluster {i+1}' for i in range(len(kmeans.cluster_centers_))],\n",
    "         color=colors)\n",
    "plt.title('Day by Cluster')\n",
    "plt.xlabel('Day')\n",
    "days= [str(num) for num in range(1, 32)]\n",
    "plt.ylabel('Frequency')\n",
    "plt.legend(loc='upper right')\n",
    "plt.show()"
   ]
  },
  {
   "cell_type": "markdown",
   "id": "2VhoPxpus24m",
   "metadata": {
    "id": "2VhoPxpus24m"
   },
   "source": [
    "### **Day (day) + Fine amount (set_fine_amount)**\n",
    "\n",
    "---\n",
    "\n",
    "**Correlation**\n",
    "\n",
    "- -0.0004 is a weak negative correlation. \n",
    "\n",
    "**Correlation (phi coefficient)**\n",
    "\n",
    "- Phi coefficient: 4687\n",
    "  - Strong postitive relation between set_fine_amount and day.\n",
    "  - It suggests that certain fine amounts tend to be associated with certain day.\n",
    "\n",
    "- P-value: 0\n",
    "  - 0 indicates the association between set_fine_amount and day is significant.\n",
    "\n",
    "**Heat Map**\n",
    "\n",
    "- Stronger positive relation for fine amount 30 at any day of the month.\n",
    "- Medium positive reltion for fine amount of 50 and 100.\n"
   ]
  },
  {
   "cell_type": "code",
   "execution_count": null,
   "id": "-eg7AX0Ps24u",
   "metadata": {
    "colab": {
     "base_uri": "https://localhost:8080/"
    },
    "id": "-eg7AX0Ps24u",
    "outputId": "c5e02c4b-7a83-4839-c456-523f895c2754"
   },
   "outputs": [],
   "source": [
    "# Correlation\n",
    "corr = df_sample_half['day'].corr(df_sample_half['set_fine_amount'])\n",
    "corr"
   ]
  },
  {
   "cell_type": "code",
   "execution_count": null,
   "id": "GQg0uIU0s24u",
   "metadata": {
    "colab": {
     "base_uri": "https://localhost:8080/"
    },
    "id": "GQg0uIU0s24u",
    "outputId": "47ab9a4c-6e92-44ef-c116-5264b5545ed1"
   },
   "outputs": [],
   "source": [
    "# Correlation (phi coefficient)\n",
    "from scipy.stats import chi2_contingency\n",
    "contingency_table = pd.crosstab(df_sample_half['set_fine_amount'], df_sample_half['day'])\n",
    "phi_coefficient, p_value, degee_freedom, expected_frequencies = chi2_contingency(contingency_table)\n",
    "print(\"Phi coefficient: \", phi_coefficient)\n",
    "print(\"p-value: \", p_value)"
   ]
  },
  {
   "cell_type": "code",
   "execution_count": null,
   "id": "kniaW6K1s24v",
   "metadata": {
    "colab": {
     "base_uri": "https://localhost:8080/",
     "height": 830
    },
    "id": "kniaW6K1s24v",
    "outputId": "6b9682e0-6d42-4e91-8280-31c89ab6ce48"
   },
   "outputs": [],
   "source": [
    "plt.subplots(figsize=(40, 10))\n",
    "sns.heatmap(contingency_table, annot=True, cmap='Reds', cbar=False, square=True,\n",
    "            linewidths=.5, linecolor='gray', fmt='g', annot_kws={\"size\": 12},\n",
    "            vmin=0, vmax=contingency_table.sum().max() * 0.5, center=contingency_table.sum().max() * 0.2)\n",
    "plt.xlabel(\"Day\", fontsize=14) \n",
    "plt.ylabel(\"Fine Amount\", fontsize=14)\n",
    "plt.title(f\"Phi Coefficient: {phi_coefficient:.2f}, p-value: {p_value:.2E}\", fontsize=16)\n",
    "plt.show()"
   ]
  },
  {
   "cell_type": "markdown",
   "id": "HD4eKjVAlcJR",
   "metadata": {
    "id": "HD4eKjVAlcJR"
   },
   "source": [
    "#### **Day of week**\n",
    "\n",
    "---\n",
    "\n",
    "- Cluster 1, 2 and 3 are higher on the weekday than the weekend. They increase from Monday to Wednesday and decrease from Wednesday to Sunday. Thursday and Friday are pretty similar.\n",
    "- Cluster 4: Seems to have the same low frequency throughout each day of the week.\n",
    "- Cluster 5: Frequency is increasing as the week go (Monday to Sunday). It is increasing on the weekend compared to other clusters that decrease on the weekend (except for cluster 4 that is the same for every day). "
   ]
  },
  {
   "cell_type": "code",
   "execution_count": null,
   "id": "HMiWKOrzld1J",
   "metadata": {
    "colab": {
     "base_uri": "https://localhost:8080/",
     "height": 544
    },
    "id": "HMiWKOrzld1J",
    "outputId": "41a5a9e0-e4fa-44ec-bbee-10c2a3298c49"
   },
   "outputs": [],
   "source": [
    "plt.hist([df_sample_half[df_sample_half['cluster'] == i]['day_of_week'] for i in range(len(kmeans.cluster_centers_))], \n",
    "         bins=7,\n",
    "         label=[f'Cluster {i+1}' for i in range(len(kmeans.cluster_centers_))],\n",
    "         color=colors)\n",
    "plt.title('Day of Week by Cluster')\n",
    "plt.xlabel('Day of Week')\n",
    "plt.xticks(range(0,7), ['Mon', 'Tue', 'Wed', 'Thu', 'Fri', 'Sat', 'Sun'], rotation=45, ha='right')\n",
    "plt.ylabel('Frequency')\n",
    "plt.legend(loc='upper right')\n",
    "plt.show()"
   ]
  },
  {
   "cell_type": "markdown",
   "id": "1npAZ4wlgoH2",
   "metadata": {
    "id": "1npAZ4wlgoH2"
   },
   "source": [
    "### **Day of week (day_of_week) + Fine amount (set_fine_amount)**\n",
    "\n",
    "---\n",
    "\n",
    "**Correlation (linear)**\n",
    "\n",
    "- -0.0147 is a weak negative correlation. \n",
    "\n",
    "\n",
    "*It is maybe not a linear correlation so we try another correlation tool:*\n",
    "\n",
    "**Correlation (phi coefficient)**\n",
    "\n",
    "- Phi coefficient: 12080.36989562692\n",
    "  - Strong postitive relation between set_fine_amount and day_of_week.\n",
    "  - It suggests that certain fine amounts tend to be associated with certain days of the week.\n",
    "\n",
    "- P-value: 0\n",
    "  - 0 indicates the association between set_fine_amount and day_of_week is significant.\n",
    "\n",
    "**Heat Map**\n",
    "\n",
    "- Stronger positive relation for fine amount 30 at any day of the week.\n",
    "- Medium positive relation for fine amount of 50 and 100."
   ]
  },
  {
   "cell_type": "code",
   "execution_count": null,
   "id": "XYt-enq4gh8P",
   "metadata": {
    "colab": {
     "base_uri": "https://localhost:8080/"
    },
    "id": "XYt-enq4gh8P",
    "outputId": "c67393a3-b0c5-46ac-c146-04db72ea66f9"
   },
   "outputs": [],
   "source": [
    "# Correlation (linear)\n",
    "corr = df_sample_half['day_of_week'].corr(df_sample_half['set_fine_amount'])\n",
    "corr"
   ]
  },
  {
   "cell_type": "code",
   "execution_count": null,
   "id": "kuCEhJ48kur7",
   "metadata": {
    "colab": {
     "base_uri": "https://localhost:8080/"
    },
    "id": "kuCEhJ48kur7",
    "outputId": "64d76f37-923c-4efd-d8de-1167a4fd09f7"
   },
   "outputs": [],
   "source": [
    "# Correlation (phi coefficient)\n",
    "from scipy.stats import chi2_contingency\n",
    "contingency_table = pd.crosstab(df_sample_half['set_fine_amount'], df_sample_half['day_of_week'])\n",
    "phi_coefficient, p_value, degee_freedom, expected_frequencies = chi2_contingency(contingency_table)\n",
    "print(\"Phi coefficient: \", phi_coefficient)\n",
    "print(\"p-value: \", p_value)"
   ]
  },
  {
   "cell_type": "code",
   "execution_count": null,
   "id": "UI09_18-gh8Q",
   "metadata": {
    "colab": {
     "base_uri": "https://localhost:8080/",
     "height": 1000
    },
    "id": "UI09_18-gh8Q",
    "outputId": "a33bd204-3066-4eec-907f-a817cffef649"
   },
   "outputs": [],
   "source": [
    "plt.subplots(figsize=(8, 15))\n",
    "sns.heatmap(contingency_table, annot=True, cmap='Reds', cbar=False, square=True,\n",
    "            linewidths=.5, linecolor='gray', fmt='g', annot_kws={\"size\": 12},\n",
    "            vmin=0, vmax=contingency_table.sum().max() * 0.5, center=contingency_table.sum().max() * 0.2)\n",
    "plt.xlabel(\"Day of Week\", fontsize=14)\n",
    "plt.ylabel(\"Fine Amount\", fontsize=14)\n",
    "plt.title(f\"Phi Coefficient: {phi_coefficient:.2f}, p-value: {p_value:.2E}\", fontsize=16)\n",
    "plt.show()"
   ]
  },
  {
   "cell_type": "markdown",
   "id": "_6e1KcwTktNG",
   "metadata": {
    "id": "_6e1KcwTktNG"
   },
   "source": [
    "#### **Infraction Code** (if needed)\n",
    "\n",
    "---\n"
   ]
  },
  {
   "cell_type": "code",
   "execution_count": null,
   "id": "N64oby5Kkh_5",
   "metadata": {
    "colab": {
     "base_uri": "https://localhost:8080/",
     "height": 527
    },
    "id": "N64oby5Kkh_5",
    "outputId": "dad79d82-5525-4925-be3f-41705d622481"
   },
   "outputs": [],
   "source": [
    "plt.hist([df_sample_half[df_sample_half['cluster'] == i]['infraction_code'] for i in range(len(kmeans.cluster_centers_))], \n",
    "         bins=20, \n",
    "         label=[f'Cluster {i+1}' for i in range(len(kmeans.cluster_centers_))],\n",
    "         color=colors)\n",
    "plt.title('Infraction Code by Cluster')\n",
    "plt.xlabel('Infraction Code')\n",
    "plt.ylabel('Frequency')\n",
    "plt.legend(loc='upper right')\n",
    "plt.show()"
   ]
  },
  {
   "cell_type": "code",
   "execution_count": null,
   "id": "kg6CgKKrZxhJ",
   "metadata": {
    "colab": {
     "base_uri": "https://localhost:8080/"
    },
    "id": "kg6CgKKrZxhJ",
    "outputId": "2d457095-ecda-4a44-f470-578d7c841f3d"
   },
   "outputs": [],
   "source": [
    "# Correlation\n",
    "corr = df_sample_half['infraction_code'].corr(df_sample_half['set_fine_amount'])\n",
    "corr"
   ]
  },
  {
   "cell_type": "code",
   "execution_count": null,
   "id": "-qBEjmtvZxhJ",
   "metadata": {
    "colab": {
     "base_uri": "https://localhost:8080/"
    },
    "id": "-qBEjmtvZxhJ",
    "outputId": "7d834f6d-6a15-4dec-9a6a-ad4ebf2b0d60"
   },
   "outputs": [],
   "source": [
    "# Correlation (phi coefficient)\n",
    "from scipy.stats import chi2_contingency\n",
    "contingency_table = pd.crosstab(df_sample_half['set_fine_amount'], df_sample_half['infraction_code'])\n",
    "phi_coefficient, p_value, degee_freedom, expected_frequencies = chi2_contingency(contingency_table)\n",
    "print(\"Phi coefficient: \", phi_coefficient)\n",
    "print(\"p-value: \", p_value)"
   ]
  },
  {
   "cell_type": "code",
   "execution_count": null,
   "id": "Qe5X9ZDoZxhK",
   "metadata": {
    "colab": {
     "base_uri": "https://localhost:8080/",
     "height": 719
    },
    "id": "Qe5X9ZDoZxhK",
    "outputId": "c2e52003-4be1-4296-fb5b-8af8a54e982a"
   },
   "outputs": [],
   "source": [
    "plt.subplots(figsize=(10, 8))\n",
    "sns.scatterplot(x='infraction_code', y='set_fine_amount', hue='cluster', data=df_sample_half, palette=colors)\n",
    "plt.title('Relationship - Infraction Code & Fine amount')\n",
    "plt.xlabel('Infraction Code')\n",
    "plt.ylabel('Fine amount')\n",
    "plt.show()"
   ]
  },
  {
   "cell_type": "code",
   "execution_count": null,
   "id": "c166e48b",
   "metadata": {},
   "outputs": [],
   "source": []
  },
  {
   "cell_type": "markdown",
   "id": "afc3ffed",
   "metadata": {},
   "source": [
    "Regression Analysis"
   ]
  },
  {
   "cell_type": "code",
   "execution_count": null,
   "id": "efc4336b",
   "metadata": {},
   "outputs": [],
   "source": [
    "#extract street name from street address\n",
    "df_con['street_name'] = df_con['location2'].str.extractall(r\"([A-Z]+)\").groupby(level=0).sum(numeric_only=False)"
   ]
  },
  {
   "cell_type": "code",
   "execution_count": null,
   "id": "e07b1d92",
   "metadata": {},
   "outputs": [],
   "source": [
    "#extract day_of_year, day_of_week, and year from date\n",
    "df_con[\"date_of_infraction\"] = pd.to_datetime(df_con[\"date_of_infraction\"], format='%Y%m%d')\n",
    "\n",
    "df_con['day_of_year'] = df_con['date_of_infraction'].dt.dayofyear\n",
    "df_con['day_of_week'] = df_con['date_of_infraction'].dt.dayofweek\n",
    "df_con['year'] = df_con['date_of_infraction'].dt.year"
   ]
  },
  {
   "cell_type": "code",
   "execution_count": null,
   "id": "01fc2892",
   "metadata": {},
   "outputs": [],
   "source": [
    "print(df_con.head())"
   ]
  },
  {
   "cell_type": "code",
   "execution_count": null,
   "id": "6aebf54c",
   "metadata": {},
   "outputs": [],
   "source": [
    "# select columns that we are interested in  \n",
    "df_init = df_con.filter(['street_name','day_of_year', 'day_of_week', 'year'], axis=1)"
   ]
  },
  {
   "cell_type": "code",
   "execution_count": null,
   "id": "06931402",
   "metadata": {},
   "outputs": [],
   "source": [
    "grouper = df_init.groupby(['year'])\n",
    "df_year = grouper['street_name'].count().to_frame(name = 'count').reset_index()\n",
    "df_year"
   ]
  },
  {
   "cell_type": "code",
   "execution_count": null,
   "id": "f42c0637",
   "metadata": {},
   "outputs": [],
   "source": [
    "# There are less tickets in 2021 which it can be due to restriction for Covid-19 "
   ]
  },
  {
   "cell_type": "code",
   "execution_count": null,
   "id": "7d5a392c",
   "metadata": {},
   "outputs": [],
   "source": [
    "grouper = df_init.groupby(['day_of_week'])\n",
    "df_week = grouper['street_name'].count().to_frame(name = 'count').reset_index()\n",
    "df_week"
   ]
  },
  {
   "cell_type": "code",
   "execution_count": null,
   "id": "d8dd06d5",
   "metadata": {},
   "outputs": [],
   "source": [
    "ax = df_week.plot.bar(x='day_of_week', title='Parking tickets based on the day of week', rot=0)"
   ]
  },
  {
   "cell_type": "code",
   "execution_count": null,
   "id": "6e5a02bc",
   "metadata": {},
   "outputs": [],
   "source": [
    "# There are less tickets on weekends, minimum on Sunday and maximum on Wednesday"
   ]
  },
  {
   "cell_type": "code",
   "execution_count": null,
   "id": "a99347a9",
   "metadata": {},
   "outputs": [],
   "source": [
    "grouper = df_init.groupby(['day_of_year'])\n",
    "df_day_of_year = grouper['street_name'].count().to_frame(name = 'count').reset_index()\n",
    "\n",
    "ax = df_day_of_year.plot(figsize=(20, 5), x='day_of_year', title='Parking tickets based on the day of year', rot=0)\n"
   ]
  },
  {
   "cell_type": "code",
   "execution_count": null,
   "id": "e967fcd7",
   "metadata": {},
   "outputs": [],
   "source": [
    "grouper = df_init.groupby(['street_name'])\n",
    "df_street = grouper['street_name'].count().to_frame(name = 'count').reset_index()\n",
    "df_street"
   ]
  },
  {
   "cell_type": "code",
   "execution_count": null,
   "id": "97790943",
   "metadata": {},
   "outputs": [],
   "source": [
    "# number of streets with less than 1000 tickets\n",
    "df_street_sub1 = df_street[df_street['count'] <= 5000]\n",
    "df_street_sub1.shape"
   ]
  },
  {
   "cell_type": "code",
   "execution_count": null,
   "id": "0a122241",
   "metadata": {},
   "outputs": [],
   "source": [
    "# there are a lot of steert that some have very few and some have a lot of tickets issued so we categorize them by\n",
    "# number of tickets issued into three categoris, low, medium, and high"
   ]
  },
  {
   "cell_type": "code",
   "execution_count": null,
   "id": "5adb7543",
   "metadata": {},
   "outputs": [],
   "source": [
    "# number of streets with tickets between 5000 and 10000\n",
    "df_street_sub2 = df_street[(df_street['count'] > 5000) & (df_street['count'] <= 20000)]\n",
    "df_street_sub2.shape"
   ]
  },
  {
   "cell_type": "code",
   "execution_count": null,
   "id": "6e50ec75",
   "metadata": {},
   "outputs": [],
   "source": [
    "# number of streets with tickets more than 10000\n",
    "df_street_sub3 = df_street[(df_street['count'] > 20000)]\n",
    "df_street_sub3.shape"
   ]
  },
  {
   "cell_type": "code",
   "execution_count": null,
   "id": "fe533b76",
   "metadata": {},
   "outputs": [],
   "source": [
    "df_street_sub2.plot(kind = 'scatter', x = 'street_name', y = 'count', title='Streets with tickets between 5000 and 20000')\n",
    "plt.show()"
   ]
  },
  {
   "cell_type": "code",
   "execution_count": null,
   "id": "7a4c80c8",
   "metadata": {},
   "outputs": [],
   "source": [
    "df_street_sub3.plot(kind = 'scatter', x = 'street_name', y = 'count', title='Streets with more than 20000 tickets')\n",
    "plt.show()"
   ]
  },
  {
   "cell_type": "code",
   "execution_count": null,
   "id": "dc64f3e6",
   "metadata": {},
   "outputs": [],
   "source": [
    "# streets with maximum number of tickets\n",
    "print(df_street_sub3.sort_values(by=['count'], ascending=False))"
   ]
  },
  {
   "cell_type": "code",
   "execution_count": null,
   "id": "6d1a5744",
   "metadata": {},
   "outputs": [],
   "source": [
    "print ('Average number of tickets issued per day for first category: ', df_street_sub1['count'].mean()/730)\n",
    "print ('Average number of tickets issued per day for second category: ', df_street_sub2['count'].mean()/730)\n",
    "print ('Average number of tickets issued per day for third category: ', df_street_sub3['count'].mean()/730)"
   ]
  },
  {
   "cell_type": "code",
   "execution_count": null,
   "id": "220aa1f0",
   "metadata": {},
   "outputs": [],
   "source": []
  },
  {
   "cell_type": "code",
   "execution_count": null,
   "id": "a35a6690",
   "metadata": {},
   "outputs": [],
   "source": [
    "np.random.seed(123)"
   ]
  },
  {
   "cell_type": "code",
   "execution_count": null,
   "id": "4db3bfcc",
   "metadata": {},
   "outputs": [],
   "source": [
    "grouper = df_init.groupby(['street_name', 'year', 'day_of_year', 'day_of_week'])\n",
    "df_process = grouper['street_name'].count().to_frame(name = 'count').reset_index()\n",
    "df_process"
   ]
  },
  {
   "cell_type": "code",
   "execution_count": null,
   "id": "9ccc8795",
   "metadata": {},
   "outputs": [],
   "source": [
    "df_process.corr()"
   ]
  },
  {
   "cell_type": "code",
   "execution_count": null,
   "id": "4b1f3f22",
   "metadata": {},
   "outputs": [],
   "source": [
    "df_process.street_name.nunique()"
   ]
  },
  {
   "cell_type": "code",
   "execution_count": null,
   "id": "aeec5fb6",
   "metadata": {},
   "outputs": [],
   "source": [
    "# because there are alot of streets so we don't use One Hot encoder, instead we use label encoder \n",
    "df_process['street_name'] = df_process['street_name'].astype('category')  \n",
    "df_process['street_code'] = df_process['street_name'].cat.codes  \n",
    "\n",
    "df_process.head()\n",
    "\n",
    "features = ['street_code', 'day_of_week', 'day_of_year', 'year']\n",
    "target = ['count']\n"
   ]
  },
  {
   "cell_type": "code",
   "execution_count": null,
   "id": "d5d6183b",
   "metadata": {},
   "outputs": [],
   "source": [
    "X = df_process[features]\n",
    "y = df_process[target]\n",
    "\n",
    "X_train, X_test, y_train, y_test = train_test_split(X, y, test_size=0.2, random_state=123)"
   ]
  },
  {
   "cell_type": "markdown",
   "id": "90401ecf",
   "metadata": {},
   "source": [
    "# Linear Regression"
   ]
  },
  {
   "cell_type": "code",
   "execution_count": null,
   "id": "0fa73aa1",
   "metadata": {},
   "outputs": [],
   "source": [
    "std_scaler = StandardScaler()\n",
    "lin_reg = LinearRegression()\n",
    "lin_regression = Pipeline([\n",
    "    (\"std_scaler\", std_scaler),\n",
    "    (\"lin_reg\", lin_reg)\n",
    "])\n",
    "res = lin_regression.fit(X_train, y_train)\n",
    "y_train_pred = res.predict(X_train)\n",
    "y_test_pred = res.predict(X_test)\n",
    "print('RMSE: ', math.sqrt(mean_squared_error(y_test, y_test_pred)))\n",
    "print('R-square train: ', r2_score(y_train, y_train_pred)) \n",
    "print('R-square test: ', r2_score(y_test, y_test_pred)) \n"
   ]
  },
  {
   "cell_type": "code",
   "execution_count": null,
   "id": "8e3a4905",
   "metadata": {},
   "outputs": [],
   "source": [
    "# r-squared is zero which means the model doesn't perform beter than a mean value so we have reconsider\n",
    "# our approach"
   ]
  },
  {
   "cell_type": "markdown",
   "id": "864e071b",
   "metadata": {},
   "source": [
    "# Reconsider input data"
   ]
  },
  {
   "cell_type": "code",
   "execution_count": null,
   "id": "fc18f06f",
   "metadata": {},
   "outputs": [],
   "source": [
    "# first approach, look into streets with highest rate of tickets\n",
    "df_process_sub3 = df_process[df_process['street_name'].isin(df_street_sub3['street_name'])]\n",
    "\n",
    "X = df_process_sub3[features]\n",
    "y = df_process_sub3[target]\n",
    "\n",
    "X_train, X_test, y_train, y_test = train_test_split(X, y, test_size=0.2, random_state=123)"
   ]
  },
  {
   "cell_type": "code",
   "execution_count": null,
   "id": "9530a367",
   "metadata": {},
   "outputs": [],
   "source": [
    "# linear regression\n",
    "std_scaler = StandardScaler()\n",
    "lin_reg = LinearRegression()\n",
    "lin_regression = Pipeline([\n",
    "    (\"std_scaler\", std_scaler),\n",
    "    (\"lin_reg\", lin_reg)\n",
    "])\n",
    "res = lin_regression.fit(X_train, y_train)\n",
    "y_train_pred = res.predict(X_train)\n",
    "y_test_pred = res.predict(X_test)\n",
    "print('Model: Linear Regression')\n",
    "print('RMSE: ', math.sqrt(mean_squared_error(y_test, y_test_pred)))\n",
    "print('R-square train: ', r2_score(y_train, y_train_pred)) \n",
    "print('R-square test: ', r2_score(y_test, y_test_pred)) "
   ]
  },
  {
   "cell_type": "code",
   "execution_count": null,
   "id": "8f9aaf0b",
   "metadata": {},
   "outputs": [],
   "source": [
    "# polynomial regression\n",
    "poly_degrees = [1, 2, 4, 6, 8]\n",
    "\n",
    "train_errors, test_errors = [], []\n",
    "\n",
    "for i in poly_degrees:\n",
    "    poly_features = PolynomialFeatures(degree = i)\n",
    "    std_scaler = StandardScaler()\n",
    "    lin_reg = LinearRegression()\n",
    "    poly_regression = Pipeline([\n",
    "        (\"poly_features\", poly_features),\n",
    "        (\"std_scaler\", std_scaler),\n",
    "        (\"lin_reg\", lin_reg)\n",
    "    ])\n",
    "    poly_regression.fit(X_train, y_train)\n",
    "    y_train_pred = poly_regression.predict(X_train)\n",
    "    y_test_pred = poly_regression.predict(X_test)\n",
    "    train_errors.append(math.sqrt(mean_squared_error(y_train, y_train_pred)))\n",
    "    test_errors.append(math.sqrt(mean_squared_error(y_test, y_test_pred)))\n",
    "    \n",
    "plt.plot(poly_degrees, train_errors, \"r-+\", label=\"train\")\n",
    "plt.plot(poly_degrees, test_errors, \"b-\", label=\"test\")\n",
    "plt.legend(loc=\"upper right\", fontsize=14)\n",
    "plt.xlabel(\"degree of polynomial\", fontsize=14)\n",
    "plt.ylabel(\"RMSE\", fontsize=14)"
   ]
  },
  {
   "cell_type": "code",
   "execution_count": null,
   "id": "30ba5ec6",
   "metadata": {},
   "outputs": [],
   "source": [
    "# best result is for degree 8 \n",
    "poly_features = PolynomialFeatures(degree = 8)\n",
    "std_scaler = StandardScaler()\n",
    "lin_reg = LinearRegression()\n",
    "poly_regression = Pipeline([\n",
    "    (\"poly_features\", poly_features),\n",
    "    (\"std_scaler\", std_scaler),\n",
    "    (\"lin_reg\", lin_reg)\n",
    "])\n",
    "res = poly_regression.fit(X_train, y_train)\n",
    "y_train_pred = res.predict(X_train)\n",
    "y_test_pred = res.predict(X_test)\n",
    "print('Model: Polynomial Regression with degree 8')\n",
    "print('RMSE: ', math.sqrt(mean_squared_error(y_test, y_test_pred)))\n",
    "print('R-square train: ', r2_score(y_train, y_train_pred)) \n",
    "print('R-square test: ', r2_score(y_test, y_test_pred)) \n",
    "print('')"
   ]
  },
  {
   "cell_type": "code",
   "execution_count": null,
   "id": "ac8c42fb",
   "metadata": {},
   "outputs": [],
   "source": [
    "# SGD regression\n",
    "\n",
    "std_scaler = StandardScaler()\n",
    "sgd_reg = SGDRegressor(max_iter=1000, tol=1e-3, eta0=0.1)\n",
    "sgd_regression = Pipeline([\n",
    "    (\"std_scaler\", std_scaler),\n",
    "    (\"sgd_reg\", sgd_reg)\n",
    "])\n",
    "res = sgd_regression.fit(X_train, y_train)\n",
    "y_train_pred = res.predict(X_train)\n",
    "y_test_pred = res.predict(X_test)\n",
    "print('Model: SGD')\n",
    "print('RMSE: ', math.sqrt(mean_squared_error(y_test, y_test_pred)))\n",
    "print('R-square train: ', r2_score(y_train, y_train_pred)) \n",
    "print('R-square test: ', r2_score(y_test, y_test_pred)) "
   ]
  },
  {
   "cell_type": "code",
   "execution_count": null,
   "id": "c0ad673c",
   "metadata": {},
   "outputs": [],
   "source": [
    "# second approach, use the model for each street, here we implement for the street with highest ticket\n",
    "# street with highest number of tickets is QUEENSTW\n",
    "\n",
    "code_num = df_process[df_process.street_name == 'QUEENSTW'].iloc[0]['street_code']\n",
    "\n",
    "df_process_street = df_process[df_process.street_code == code_num]\n",
    "\n",
    "X = df_process_street[features]\n",
    "y = df_process_street[target]\n",
    "\n",
    "X_train, X_test, y_train, y_test = train_test_split(X, y, test_size=0.2, random_state=123)\n",
    "\n",
    "# Linear Regression\n",
    "\n",
    "std_scaler = StandardScaler()\n",
    "lin_reg = LinearRegression()\n",
    "lin_regression = Pipeline([\n",
    "    (\"std_scaler\", std_scaler),\n",
    "    (\"lin_reg\", lin_reg)\n",
    "])\n",
    "res = lin_regression.fit(X_train, y_train)\n",
    "y_train_pred = res.predict(X_train)\n",
    "y_test_pred = res.predict(X_test)\n",
    "print('Model: Linear Regression')\n",
    "print('RMSE: ', math.sqrt(mean_squared_error(y_test, y_test_pred)))\n",
    "print('R-square train: ', r2_score(y_train, y_train_pred)) \n",
    "print('R-square test: ', r2_score(y_test, y_test_pred)) "
   ]
  },
  {
   "cell_type": "code",
   "execution_count": null,
   "id": "3bab1426",
   "metadata": {},
   "outputs": [],
   "source": [
    "poly_degrees = [1, 2, 4, 6, 8]\n",
    "\n",
    "train_errors, test_errors = [], []\n",
    "\n",
    "for i in poly_degrees:\n",
    "    poly_features = PolynomialFeatures(degree = i)\n",
    "    std_scaler = StandardScaler()\n",
    "    lin_reg = LinearRegression()\n",
    "    poly_regression = Pipeline([\n",
    "        (\"poly_features\", poly_features),\n",
    "        (\"std_scaler\", std_scaler),\n",
    "        (\"lin_reg\", lin_reg)\n",
    "    ])\n",
    "    poly_regression.fit(X_train, y_train)\n",
    "    y_train_pred = poly_regression.predict(X_train)\n",
    "    y_test_pred = poly_regression.predict(X_test)\n",
    "    train_errors.append(math.sqrt(mean_squared_error(y_train, y_train_pred)))\n",
    "    test_errors.append(math.sqrt(mean_squared_error(y_test, y_test_pred)))\n",
    "    \n",
    "plt.plot(poly_degrees, train_errors, \"r-+\", label=\"train\")\n",
    "plt.plot(poly_degrees, test_errors, \"b-\", label=\"test\")\n",
    "plt.legend(loc=\"upper right\", fontsize=14)\n",
    "plt.xlabel(\"degree of polynomial\", fontsize=14)\n",
    "plt.ylabel(\"RMSE\", fontsize=14)"
   ]
  },
  {
   "cell_type": "code",
   "execution_count": null,
   "id": "1b838369",
   "metadata": {},
   "outputs": [],
   "source": [
    "poly_features = PolynomialFeatures(degree = 6)\n",
    "std_scaler = StandardScaler()\n",
    "lin_reg = LinearRegression()\n",
    "poly_regression = Pipeline([\n",
    "    (\"poly_features\", poly_features),\n",
    "    (\"std_scaler\", std_scaler),\n",
    "    (\"lin_reg\", lin_reg)\n",
    "])\n",
    "res = poly_regression.fit(X_train, y_train)\n",
    "y_train_pred = res.predict(X_train)\n",
    "y_test_pred = res.predict(X_test)\n",
    "print('Model: Polynomial Regression with degree 6')\n",
    "print('RMSE: ', math.sqrt(mean_squared_error(y_test, y_test_pred)))\n",
    "print('R-square train: ', r2_score(y_train, y_train_pred)) \n",
    "print('R-square test: ', r2_score(y_test, y_test_pred)) \n",
    "print('')"
   ]
  },
  {
   "cell_type": "code",
   "execution_count": null,
   "id": "939a17e4",
   "metadata": {},
   "outputs": [],
   "source": [
    "std_scaler = StandardScaler()\n",
    "sgd_reg = SGDRegressor(max_iter=1000, tol=1e-3, eta0=0.1)\n",
    "sgd_regression = Pipeline([\n",
    "    (\"std_scaler\", std_scaler),\n",
    "    (\"sgd_reg\", sgd_reg)\n",
    "])\n",
    "res = sgd_regression.fit(X_train, y_train)\n",
    "y_train_pred = res.predict(X_train)\n",
    "y_test_pred = res.predict(X_test)\n",
    "print('Model: SGD')\n",
    "print('RMSE: ', math.sqrt(mean_squared_error(y_test, y_test_pred)))\n",
    "print('R-square train: ', r2_score(y_train, y_train_pred)) \n",
    "print('R-square test: ', r2_score(y_test, y_test_pred)) \n"
   ]
  },
  {
   "cell_type": "code",
   "execution_count": null,
   "id": "8a55ffb1",
   "metadata": {},
   "outputs": [],
   "source": [
    "# In both approaches, we got the best result with polynomial regression model"
   ]
  },
  {
   "cell_type": "markdown",
   "id": "bab98c6d",
   "metadata": {},
   "source": [
    "## Random Forest Classifier Model"
   ]
  },
  {
   "cell_type": "code",
   "execution_count": 45,
   "id": "61dbd7d0",
   "metadata": {},
   "outputs": [
    {
     "name": "stderr",
     "output_type": "stream",
     "text": [
      "/var/folders/dl/nzqz9d4s48z5l005svj0w2sr0000gn/T/ipykernel_5006/1489498569.py:9: FutureWarning: The pandas.np module is deprecated and will be removed from pandas in a future version. Import numpy directly instead\n",
      "  df_rfc = df_rfc.replace(r'^\\s*$', value=pd.np.nan, regex=True)\n"
     ]
    }
   ],
   "source": [
    "# clean up data\n",
    "# import preprocessing\n",
    "le = preprocessing.LabelEncoder()\n",
    "\n",
    "# use unedited data\n",
    "#df = df_rfc\n",
    "\n",
    "# replace empty strings or strings containing only spaces with NaN values\n",
    "df_rfc = df_rfc.replace(r'^\\s*$', value=pd.np.nan, regex=True)\n",
    "# drop null values\n",
    "#df.dropna(subset=['time_of_infraction'], inplace=True)\n",
    "\n",
    "# drop unnecessary columns\n",
    "df_rfc=df_rfc.drop(df_rfc[['date_of_infraction', 'time_of_infraction', 'day', 'day_of_week_name']],axis = 1)\n",
    "df_rfc=df_rfc.drop(df_rfc[['tag_number_masked','infraction_description','location1','province','location3','location4']],axis = 1)\n",
    "\n",
    "# transform data\n",
    "df_rfc['set_fine_amount'] = le.fit_transform(df_rfc['set_fine_amount'])\n",
    "df_rfc['location2'] = le.fit_transform(df_rfc['location2'])"
   ]
  },
  {
   "cell_type": "code",
   "execution_count": 47,
   "id": "b8e9d2ef",
   "metadata": {},
   "outputs": [],
   "source": [
    "X = df_rfc.drop(\"set_fine_amount\", axis=1)\n",
    "y = df_rfc[\"set_fine_amount\"]\n",
    "\n",
    "# split the data into training and test, 80 to 20%\n",
    "# set random state to 42\n",
    "X_train, X_test, y_train, y_test = train_test_split(X, y, test_size=0.2, random_state=42)"
   ]
  },
  {
   "cell_type": "code",
   "execution_count": 48,
   "id": "51ab6d50",
   "metadata": {},
   "outputs": [
    {
     "name": "stderr",
     "output_type": "stream",
     "text": [
      "/Users/paulo/opt/anaconda3/lib/python3.9/site-packages/sklearn/model_selection/_split.py:666: UserWarning: The least populated class in y has only 1 members, which is less than n_splits=5.\n",
      "  warnings.warn((\"The least populated class in y has only %d\"\n"
     ]
    },
    {
     "name": "stdout",
     "output_type": "stream",
     "text": [
      "Best Hyperparameters: {'min_samples_split': 4, 'min_samples_leaf': 6, 'max_depth': 10, 'criterion': 'entropy'}\n",
      "Best Score: 0.9997979473913409\n"
     ]
    }
   ],
   "source": [
    "# Rnadomized Search\n",
    "params = {'criterion': ['gini', 'entropy'],\n",
    "          # 1 to 50 hyperparameters\n",
    "          'max_depth': range(1, 11),\n",
    "          'min_samples_split': range(2, 10),\n",
    "          'min_samples_leaf': range(1, 10)}\n",
    "\n",
    "# randomized search\n",
    "random_search = RandomizedSearchCV(DecisionTreeClassifier(), param_distributions=params, n_iter=50, cv=5)\n",
    "random_search.fit(X_train, y_train)\n",
    "\n",
    "# get best hyperparameters\n",
    "print(\"Best Hyperparameters:\", random_search.best_params_)\n",
    "# best score\n",
    "print(\"Best Score:\", random_search.best_score_)"
   ]
  },
  {
   "cell_type": "code",
   "execution_count": 49,
   "id": "8d4d016f",
   "metadata": {},
   "outputs": [
    {
     "name": "stdout",
     "output_type": "stream",
     "text": [
      "Random Forest Classifier Score: 0.9994036808330307\n"
     ]
    },
    {
     "name": "stderr",
     "output_type": "stream",
     "text": [
      "/Users/paulo/opt/anaconda3/lib/python3.9/site-packages/sklearn/metrics/_classification.py:1248: UndefinedMetricWarning: Precision and F-score are ill-defined and being set to 0.0 in labels with no predicted samples. Use `zero_division` parameter to control this behavior.\n",
      "  _warn_prf(average, modifier, msg_start, len(result))\n"
     ]
    },
    {
     "name": "stdout",
     "output_type": "stream",
     "text": [
      "              precision    recall  f1-score   support\n",
      "\n",
      "           0       0.60      0.44      0.51       125\n",
      "           1       0.00      0.00      0.00         8\n",
      "           2       1.00      1.00      1.00    380761\n",
      "           3       1.00      1.00      1.00     37976\n",
      "           4       1.00      1.00      1.00     98836\n",
      "           5       1.00      1.00      1.00        13\n",
      "           6       0.99      0.98      0.99      4513\n",
      "           7       1.00      1.00      1.00     20532\n",
      "           8       0.99      0.89      0.94       248\n",
      "           9       1.00      1.00      1.00     80964\n",
      "          10       1.00      1.00      1.00     26062\n",
      "          12       1.00      0.82      0.90        11\n",
      "          13       1.00      1.00      1.00      4641\n",
      "          14       1.00      0.63      0.77        78\n",
      "          15       1.00      1.00      1.00      5951\n",
      "          16       0.00      0.00      0.00         1\n",
      "\n",
      "    accuracy                           1.00    660720\n",
      "   macro avg       0.85      0.80      0.82    660720\n",
      "weighted avg       1.00      1.00      1.00    660720\n",
      "\n"
     ]
    },
    {
     "name": "stderr",
     "output_type": "stream",
     "text": [
      "/Users/paulo/opt/anaconda3/lib/python3.9/site-packages/sklearn/metrics/_classification.py:1248: UndefinedMetricWarning: Precision and F-score are ill-defined and being set to 0.0 in labels with no predicted samples. Use `zero_division` parameter to control this behavior.\n",
      "  _warn_prf(average, modifier, msg_start, len(result))\n",
      "/Users/paulo/opt/anaconda3/lib/python3.9/site-packages/sklearn/metrics/_classification.py:1248: UndefinedMetricWarning: Precision and F-score are ill-defined and being set to 0.0 in labels with no predicted samples. Use `zero_division` parameter to control this behavior.\n",
      "  _warn_prf(average, modifier, msg_start, len(result))\n"
     ]
    }
   ],
   "source": [
    "# Random Forest Classifier\n",
    "rfc = RandomForestClassifier(n_estimators=50, random_state=42)\n",
    "rfc.fit(X_train, y_train)\n",
    "\n",
    "# Make predictions on the test data\n",
    "y_pred = rfc.predict(X_test)\n",
    "\n",
    "# get score\n",
    "rfc_score = rfc.score(X_test, y_test)\n",
    "print(\"Random Forest Classifier Score:\", rfc_score)\n",
    "\n",
    "# Evaluate the performance of the classifier\n",
    "print(classification_report(y_test, y_pred))"
   ]
  },
  {
   "cell_type": "code",
   "execution_count": 50,
   "id": "a1858643",
   "metadata": {},
   "outputs": [
    {
     "name": "stderr",
     "output_type": "stream",
     "text": [
      "/Users/paulo/opt/anaconda3/lib/python3.9/site-packages/sklearn/model_selection/_split.py:666: UserWarning: The least populated class in y has only 1 members, which is less than n_splits=5.\n",
      "  warnings.warn((\"The least populated class in y has only %d\"\n"
     ]
    },
    {
     "data": {
      "image/png": "[encoded data removed]",
      "text/plain": [
       "<Figure size 720x432 with 1 Axes>"
      ]
     },
     "metadata": {
      "needs_background": "light"
     },
     "output_type": "display_data"
    }
   ],
   "source": [
    "# Random Forest Classifier learning curve\n",
    "train_sizes, train_scores, test_scores = learning_curve(rfc, X_train, y_train, cv=5, train_sizes=np.linspace(0.1, 1.0, 10), scoring='accuracy')\n",
    "\n",
    "# calculate mean and std of training and test data\n",
    "train_mean = np.mean(train_scores, axis=1)\n",
    "train_std = np.std(train_scores, axis=1)\n",
    "test_mean = np.mean(test_scores, axis=1)\n",
    "test_std = np.std(test_scores, axis=1)\n",
    "\n",
    "# plot learning curve\n",
    "plt.figure(figsize=(10,6))\n",
    "plt.plot(train_sizes, train_mean, label='Training Score')\n",
    "plt.plot(train_sizes, test_mean, label='Cross-Validation Score')\n",
    "\n",
    "plt.fill_between(train_sizes, train_mean - train_std, train_mean + train_std, alpha=0.1)\n",
    "plt.fill_between(train_sizes, test_mean - test_std, test_mean + test_std, alpha=0.1)\n",
    "\n",
    "plt.legend(loc='best')\n",
    "plt.xlabel('Training Set Size')\n",
    "plt.ylabel('Accuracy Score')\n",
    "plt.title('Random Forest Classifier Learning Curve')\n",
    "plt.show()"
   ]
  },
  {
   "cell_type": "code",
   "execution_count": null,
   "id": "9a59fe3a",
   "metadata": {},
   "outputs": [],
   "source": []
  }
 ],
 "metadata": {
  "colab": {
   "provenance": []
  },
  "kernelspec": {
   "display_name": "Python 3 (ipykernel)",
   "language": "python",
   "name": "python3"
  },
  "language_info": {
   "codemirror_mode": {
    "name": "ipython",
    "version": 3
   },
   "file_extension": ".py",
   "mimetype": "text/x-python",
   "name": "python",
   "nbconvert_exporter": "python",
   "pygments_lexer": "ipython3",
   "version": "3.9.7"
  }
 },
 "nbformat": 4,
 "nbformat_minor": 5
}
