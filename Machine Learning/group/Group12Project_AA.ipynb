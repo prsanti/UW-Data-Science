{
 "cells": [
  {
   "cell_type": "code",
   "execution_count": 1,
   "id": "4e69f185",
   "metadata": {},
   "outputs": [],
   "source": [
    "import pandas as pd\n",
    "import numpy as np\n",
    "import datetime\n",
    "import re\n",
    "import math\n",
    "import matplotlib.pyplot as plt\n",
    "import seaborn as sns\n",
    "from sklearn.model_selection import train_test_split\n",
    "from sklearn.preprocessing import StandardScaler\n",
    "from sklearn.linear_model import LinearRegression\n",
    "from sklearn.preprocessing import PolynomialFeatures\n",
    "from sklearn.pipeline import Pipeline\n",
    "from sklearn.metrics import mean_squared_error\n",
    "from sklearn.preprocessing import LabelEncoder\n",
    "from sklearn.linear_model import SGDRegressor\n",
    "from sklearn.linear_model import PoissonRegressor\n",
    "from sklearn import metrics\n",
    "from sklearn.metrics import r2_score"
   ]
  },
  {
   "cell_type": "code",
   "execution_count": 2,
   "id": "7c25d0cd",
   "metadata": {},
   "outputs": [],
   "source": [
    "# Predict number of tickets based on the day of the week"
   ]
  },
  {
   "cell_type": "code",
   "execution_count": 3,
   "id": "45d78228",
   "metadata": {},
   "outputs": [],
   "source": [
    "df0 = pd.read_csv(\"Data/parking-tickets-2022/Parking_Tags_Data_2022.000.csv\", converters={'time_of_infraction': str})\n",
    "df1 = pd.read_csv(\"Data/parking-tickets-2022/Parking_Tags_Data_2022.001.csv\", converters={'time_of_infraction': str})\n",
    "df2 = pd.read_csv(\"Data/parking-tickets-2022/Parking_Tags_Data_2022.002.csv\", converters={'time_of_infraction': str})\n",
    "df3 = pd.read_csv(\"Data/parking-tickets-2022/Parking_Tags_Data_2022.003.csv\", converters={'time_of_infraction': str})\n",
    "df4 = pd.read_csv(\"Data/parking-tickets-2022/Parking_Tags_Data_2022.004.csv\", converters={'time_of_infraction': str})\n",
    "df5 = pd.read_csv(\"Data/parking-tickets-2022/Parking_Tags_Data_2022.005.csv\", converters={'time_of_infraction': str})\n",
    "df6 = pd.read_csv(\"Data/parking-tickets-2022/Parking_Tags_Data_2022.006.csv\", converters={'time_of_infraction': str})\n",
    "df7 = pd.read_csv(\"Data/parking-tickets-2022/Parking_Tags_Data_2022.007.csv\", converters={'time_of_infraction': str})"
   ]
  },
  {
   "cell_type": "code",
   "execution_count": 4,
   "id": "c567ce15",
   "metadata": {},
   "outputs": [],
   "source": [
    "df2022 = pd.concat([df0, df1, df2, df3, df4, df5, df6, df7], ignore_index=True)"
   ]
  },
  {
   "cell_type": "code",
   "execution_count": 5,
   "id": "133febe0",
   "metadata": {},
   "outputs": [],
   "source": [
    "df0 = pd.read_csv(\"Data/parking-tickets-2021/Parking_Tags_Data_2021.000.csv\", converters={'time_of_infraction': str})\n",
    "df1 = pd.read_csv(\"Data/parking-tickets-2021/Parking_Tags_Data_2021.001.csv\", converters={'time_of_infraction': str})\n",
    "df2 = pd.read_csv(\"Data/parking-tickets-2021/Parking_Tags_Data_2021.002.csv\", converters={'time_of_infraction': str})\n",
    "df3 = pd.read_csv(\"Data/parking-tickets-2021/Parking_Tags_Data_2021.003.csv\", converters={'time_of_infraction': str})\n",
    "df4 = pd.read_csv(\"Data/parking-tickets-2021/Parking_Tags_Data_2021.004.csv\", converters={'time_of_infraction': str})\n",
    "df5 = pd.read_csv(\"Data/parking-tickets-2021/Parking_Tags_Data_2021.005.csv\", converters={'time_of_infraction': str})\n",
    "df6 = pd.read_csv(\"Data/parking-tickets-2021/Parking_Tags_Data_2021.006.csv\", converters={'time_of_infraction': str})\n",
    "df7 = pd.read_csv(\"Data/parking-tickets-2021/Parking_Tags_Data_2021.007.csv\", converters={'time_of_infraction': str})\n",
    "df8 = pd.read_csv(\"Data/parking-tickets-2021/Parking_Tags_Data_2021.008.csv\", converters={'time_of_infraction': str})\n",
    "df9 = pd.read_csv(\"Data/parking-tickets-2021/Parking_Tags_Data_2021.009.csv\", converters={'time_of_infraction': str})\n",
    "df10 = pd.read_csv(\"Data/parking-tickets-2021/Parking_Tags_Data_2021.010.csv\", converters={'time_of_infraction': str})\n",
    "df11 = pd.read_csv(\"Data/parking-tickets-2021/Parking_Tags_Data_2021.011.csv\", converters={'time_of_infraction': str})\n",
    "df12 = pd.read_csv(\"Data/parking-tickets-2021/Parking_Tags_Data_2021.012.csv\", converters={'time_of_infraction': str})\n",
    "df13 = pd.read_csv(\"Data/parking-tickets-2021/Parking_Tags_Data_2021.013.csv\", converters={'time_of_infraction': str})\n",
    "df14 = pd.read_csv(\"Data/parking-tickets-2021/Parking_Tags_Data_2021.014.csv\", converters={'time_of_infraction': str})"
   ]
  },
  {
   "cell_type": "code",
   "execution_count": 6,
   "id": "8b17d36a",
   "metadata": {},
   "outputs": [],
   "source": [
    "df2021 = pd.concat([df0, df1, df2, df3, df4, df5, df6, df7,df8, df9, df10, df11, df12, df13, df14], ignore_index=True)"
   ]
  },
  {
   "cell_type": "code",
   "execution_count": 7,
   "id": "98ded0db",
   "metadata": {},
   "outputs": [
    {
     "data": {
      "text/html": [
       "<div>\n",
       "<style scoped>\n",
       "    .dataframe tbody tr th:only-of-type {\n",
       "        vertical-align: middle;\n",
       "    }\n",
       "\n",
       "    .dataframe tbody tr th {\n",
       "        vertical-align: top;\n",
       "    }\n",
       "\n",
       "    .dataframe thead th {\n",
       "        text-align: right;\n",
       "    }\n",
       "</style>\n",
       "<table border=\"1\" class=\"dataframe\">\n",
       "  <thead>\n",
       "    <tr style=\"text-align: right;\">\n",
       "      <th></th>\n",
       "      <th>tag_number_masked</th>\n",
       "      <th>date_of_infraction</th>\n",
       "      <th>infraction_code</th>\n",
       "      <th>infraction_description</th>\n",
       "      <th>set_fine_amount</th>\n",
       "      <th>time_of_infraction</th>\n",
       "      <th>location1</th>\n",
       "      <th>location2</th>\n",
       "      <th>location3</th>\n",
       "      <th>location4</th>\n",
       "      <th>province</th>\n",
       "    </tr>\n",
       "  </thead>\n",
       "  <tbody>\n",
       "    <tr>\n",
       "      <th>0</th>\n",
       "      <td>***73863</td>\n",
       "      <td>20220101</td>\n",
       "      <td>29</td>\n",
       "      <td>PARK PROHIBITED TIME NO PERMIT</td>\n",
       "      <td>30</td>\n",
       "      <td>0003</td>\n",
       "      <td>OPP</td>\n",
       "      <td>233 COLERIDGE AVE</td>\n",
       "      <td>NaN</td>\n",
       "      <td>NaN</td>\n",
       "      <td>ON</td>\n",
       "    </tr>\n",
       "    <tr>\n",
       "      <th>1</th>\n",
       "      <td>***46942</td>\n",
       "      <td>20220101</td>\n",
       "      <td>15</td>\n",
       "      <td>PARK-WITHIN 3M OF FIRE HYDRANT</td>\n",
       "      <td>100</td>\n",
       "      <td>0005</td>\n",
       "      <td>NR</td>\n",
       "      <td>25 TOWN CENTRE CRT</td>\n",
       "      <td>NaN</td>\n",
       "      <td>NaN</td>\n",
       "      <td>ON</td>\n",
       "    </tr>\n",
       "    <tr>\n",
       "      <th>2</th>\n",
       "      <td>***73864</td>\n",
       "      <td>20220101</td>\n",
       "      <td>29</td>\n",
       "      <td>PARK PROHIBITED TIME NO PERMIT</td>\n",
       "      <td>30</td>\n",
       "      <td>0005</td>\n",
       "      <td>NR</td>\n",
       "      <td>252 COLERIDGE AVE</td>\n",
       "      <td>NaN</td>\n",
       "      <td>NaN</td>\n",
       "      <td>MA</td>\n",
       "    </tr>\n",
       "    <tr>\n",
       "      <th>3</th>\n",
       "      <td>***63914</td>\n",
       "      <td>20220101</td>\n",
       "      <td>9</td>\n",
       "      <td>STOP-SIGNED HWY-PROHIBIT TM/DY</td>\n",
       "      <td>100</td>\n",
       "      <td>0006</td>\n",
       "      <td>NR</td>\n",
       "      <td>70 DAN LECKIE WAY</td>\n",
       "      <td>NaN</td>\n",
       "      <td>NaN</td>\n",
       "      <td>ON</td>\n",
       "    </tr>\n",
       "    <tr>\n",
       "      <th>4</th>\n",
       "      <td>***73865</td>\n",
       "      <td>20220101</td>\n",
       "      <td>29</td>\n",
       "      <td>PARK PROHIBITED TIME NO PERMIT</td>\n",
       "      <td>30</td>\n",
       "      <td>0006</td>\n",
       "      <td>NR</td>\n",
       "      <td>262 COLERIDGE AVE</td>\n",
       "      <td>NaN</td>\n",
       "      <td>NaN</td>\n",
       "      <td>ON</td>\n",
       "    </tr>\n",
       "  </tbody>\n",
       "</table>\n",
       "</div>"
      ],
      "text/plain": [
       "  tag_number_masked  date_of_infraction  infraction_code  \\\n",
       "0          ***73863            20220101               29   \n",
       "1          ***46942            20220101               15   \n",
       "2          ***73864            20220101               29   \n",
       "3          ***63914            20220101                9   \n",
       "4          ***73865            20220101               29   \n",
       "\n",
       "           infraction_description  set_fine_amount time_of_infraction  \\\n",
       "0  PARK PROHIBITED TIME NO PERMIT               30               0003   \n",
       "1  PARK-WITHIN 3M OF FIRE HYDRANT              100               0005   \n",
       "2  PARK PROHIBITED TIME NO PERMIT               30               0005   \n",
       "3  STOP-SIGNED HWY-PROHIBIT TM/DY              100               0006   \n",
       "4  PARK PROHIBITED TIME NO PERMIT               30               0006   \n",
       "\n",
       "  location1           location2 location3 location4 province  \n",
       "0       OPP   233 COLERIDGE AVE       NaN       NaN       ON  \n",
       "1        NR  25 TOWN CENTRE CRT       NaN       NaN       ON  \n",
       "2        NR   252 COLERIDGE AVE       NaN       NaN       MA  \n",
       "3        NR   70 DAN LECKIE WAY       NaN       NaN       ON  \n",
       "4        NR   262 COLERIDGE AVE       NaN       NaN       ON  "
      ]
     },
     "execution_count": 7,
     "metadata": {},
     "output_type": "execute_result"
    }
   ],
   "source": [
    "df2022.head()"
   ]
  },
  {
   "cell_type": "code",
   "execution_count": 8,
   "id": "8284fb7e",
   "metadata": {},
   "outputs": [],
   "source": [
    "df = pd.concat([df2021,df2022], ignore_index=True)"
   ]
  },
  {
   "cell_type": "code",
   "execution_count": 9,
   "id": "038d3a42",
   "metadata": {},
   "outputs": [],
   "source": [
    "df_con = df"
   ]
  },
  {
   "cell_type": "code",
   "execution_count": 10,
   "id": "efc4336b",
   "metadata": {},
   "outputs": [],
   "source": [
    "#extract street name from street address\n",
    "df_con['street_name'] = df_con['location2'].str.extractall(r\"([A-Z]+)\").groupby(level=0).sum(numeric_only=False)"
   ]
  },
  {
   "cell_type": "code",
   "execution_count": 11,
   "id": "e07b1d92",
   "metadata": {},
   "outputs": [],
   "source": [
    "#extract day_of_year, day_of_week, and year from date\n",
    "df_con['date_of_infraction_str'] = df_con['date_of_infraction'].astype(str)\n",
    "df_con['date'] = pd.to_datetime(df_con['date_of_infraction_str'], format='%Y%m%d')\n",
    "\n",
    "df_con['day_of_year'] = df_con['date'].dt.dayofyear\n",
    "df_con['day_of_week'] = df_con['date'].dt.dayofweek\n",
    "df_con['year'] = df_con['date'].dt.year"
   ]
  },
  {
   "cell_type": "code",
   "execution_count": 12,
   "id": "01fc2892",
   "metadata": {},
   "outputs": [
    {
     "name": "stdout",
     "output_type": "stream",
     "text": [
      "  tag_number_masked  date_of_infraction  infraction_code  \\\n",
      "0          ***92621            20210101                3   \n",
      "1          ***42843            20210101                3   \n",
      "2          ***47171            20210101                3   \n",
      "3          ***42844            20210101                3   \n",
      "4          ***42848            20210101                3   \n",
      "\n",
      "     infraction_description  set_fine_amount time_of_infraction location1  \\\n",
      "0  PARK ON PRIVATE PROPERTY               30               0013        AT   \n",
      "1  PARK ON PRIVATE PROPERTY               30               0026       NaN   \n",
      "2  PARK ON PRIVATE PROPERTY               30               0029       NaN   \n",
      "3  PARK ON PRIVATE PROPERTY               30               0029       NaN   \n",
      "4  PARK ON PRIVATE PROPERTY               30               0040       NaN   \n",
      "\n",
      "             location2 location3 location4 province     street_name  \\\n",
      "0  1440 LAWRENCE AVE W       NaN       NaN       ON    LAWRENCEAVEW   \n",
      "1        33 GABIAN WAY       NaN       NaN       ON       GABIANWAY   \n",
      "2   16 WILLIAM KITCHEN       NaN       NaN       ON  WILLIAMKITCHEN   \n",
      "3        33 GABIAN WAY       NaN       NaN       ON       GABIANWAY   \n",
      "4        33 GABIAN WAY       NaN       NaN       ON       GABIANWAY   \n",
      "\n",
      "  date_of_infraction_str       date  day_of_year  day_of_week  year  \n",
      "0               20210101 2021-01-01            1            4  2021  \n",
      "1               20210101 2021-01-01            1            4  2021  \n",
      "2               20210101 2021-01-01            1            4  2021  \n",
      "3               20210101 2021-01-01            1            4  2021  \n",
      "4               20210101 2021-01-01            1            4  2021  \n"
     ]
    }
   ],
   "source": [
    "print(df_con.head())"
   ]
  },
  {
   "cell_type": "code",
   "execution_count": 13,
   "id": "6aebf54c",
   "metadata": {},
   "outputs": [],
   "source": [
    "# select columns that we are interested in  \n",
    "df_init = df_con.filter(['street_name','day_of_year', 'day_of_week', 'year'], axis=1)"
   ]
  },
  {
   "cell_type": "code",
   "execution_count": 14,
   "id": "06931402",
   "metadata": {},
   "outputs": [
    {
     "data": {
      "text/html": [
       "<div>\n",
       "<style scoped>\n",
       "    .dataframe tbody tr th:only-of-type {\n",
       "        vertical-align: middle;\n",
       "    }\n",
       "\n",
       "    .dataframe tbody tr th {\n",
       "        vertical-align: top;\n",
       "    }\n",
       "\n",
       "    .dataframe thead th {\n",
       "        text-align: right;\n",
       "    }\n",
       "</style>\n",
       "<table border=\"1\" class=\"dataframe\">\n",
       "  <thead>\n",
       "    <tr style=\"text-align: right;\">\n",
       "      <th></th>\n",
       "      <th>year</th>\n",
       "      <th>count</th>\n",
       "    </tr>\n",
       "  </thead>\n",
       "  <tbody>\n",
       "    <tr>\n",
       "      <th>0</th>\n",
       "      <td>2021</td>\n",
       "      <td>1481612</td>\n",
       "    </tr>\n",
       "    <tr>\n",
       "      <th>1</th>\n",
       "      <td>2022</td>\n",
       "      <td>1821768</td>\n",
       "    </tr>\n",
       "  </tbody>\n",
       "</table>\n",
       "</div>"
      ],
      "text/plain": [
       "   year    count\n",
       "0  2021  1481612\n",
       "1  2022  1821768"
      ]
     },
     "execution_count": 14,
     "metadata": {},
     "output_type": "execute_result"
    }
   ],
   "source": [
    "grouper = df_init.groupby(['year'])\n",
    "df_year = grouper['street_name'].count().to_frame(name = 'count').reset_index()\n",
    "df_year"
   ]
  },
  {
   "cell_type": "code",
   "execution_count": 15,
   "id": "f42c0637",
   "metadata": {},
   "outputs": [],
   "source": [
    "# There are less tickets in 2021 which it can be due to restriction for Covid-19 "
   ]
  },
  {
   "cell_type": "code",
   "execution_count": 16,
   "id": "7d5a392c",
   "metadata": {},
   "outputs": [
    {
     "data": {
      "text/html": [
       "<div>\n",
       "<style scoped>\n",
       "    .dataframe tbody tr th:only-of-type {\n",
       "        vertical-align: middle;\n",
       "    }\n",
       "\n",
       "    .dataframe tbody tr th {\n",
       "        vertical-align: top;\n",
       "    }\n",
       "\n",
       "    .dataframe thead th {\n",
       "        text-align: right;\n",
       "    }\n",
       "</style>\n",
       "<table border=\"1\" class=\"dataframe\">\n",
       "  <thead>\n",
       "    <tr style=\"text-align: right;\">\n",
       "      <th></th>\n",
       "      <th>day_of_week</th>\n",
       "      <th>count</th>\n",
       "    </tr>\n",
       "  </thead>\n",
       "  <tbody>\n",
       "    <tr>\n",
       "      <th>0</th>\n",
       "      <td>0</td>\n",
       "      <td>466266</td>\n",
       "    </tr>\n",
       "    <tr>\n",
       "      <th>1</th>\n",
       "      <td>1</td>\n",
       "      <td>532874</td>\n",
       "    </tr>\n",
       "    <tr>\n",
       "      <th>2</th>\n",
       "      <td>2</td>\n",
       "      <td>542504</td>\n",
       "    </tr>\n",
       "    <tr>\n",
       "      <th>3</th>\n",
       "      <td>3</td>\n",
       "      <td>517492</td>\n",
       "    </tr>\n",
       "    <tr>\n",
       "      <th>4</th>\n",
       "      <td>4</td>\n",
       "      <td>512816</td>\n",
       "    </tr>\n",
       "    <tr>\n",
       "      <th>5</th>\n",
       "      <td>5</td>\n",
       "      <td>403473</td>\n",
       "    </tr>\n",
       "    <tr>\n",
       "      <th>6</th>\n",
       "      <td>6</td>\n",
       "      <td>327955</td>\n",
       "    </tr>\n",
       "  </tbody>\n",
       "</table>\n",
       "</div>"
      ],
      "text/plain": [
       "   day_of_week   count\n",
       "0            0  466266\n",
       "1            1  532874\n",
       "2            2  542504\n",
       "3            3  517492\n",
       "4            4  512816\n",
       "5            5  403473\n",
       "6            6  327955"
      ]
     },
     "execution_count": 16,
     "metadata": {},
     "output_type": "execute_result"
    }
   ],
   "source": [
    "grouper = df_init.groupby(['day_of_week'])\n",
    "df_week = grouper['street_name'].count().to_frame(name = 'count').reset_index()\n",
    "df_week"
   ]
  },
  {
   "cell_type": "code",
   "execution_count": 17,
   "id": "d8dd06d5",
   "metadata": {},
   "outputs": [
    {
     "data": {
      "image/png": "[encoded data removed]",
      "text/plain": [
       "<Figure size 432x288 with 1 Axes>"
      ]
     },
     "metadata": {
      "needs_background": "light"
     },
     "output_type": "display_data"
    }
   ],
   "source": [
    "ax = df_week.plot.bar(x='day_of_week', title='Parking tickets based on the day of week', rot=0)"
   ]
  },
  {
   "cell_type": "code",
   "execution_count": 18,
   "id": "6e5a02bc",
   "metadata": {},
   "outputs": [],
   "source": [
    "# There are less tickets on weekends, minimum on Sunday and maximum on Wednesday"
   ]
  },
  {
   "cell_type": "code",
   "execution_count": 19,
   "id": "e967fcd7",
   "metadata": {},
   "outputs": [
    {
     "data": {
      "text/html": [
       "<div>\n",
       "<style scoped>\n",
       "    .dataframe tbody tr th:only-of-type {\n",
       "        vertical-align: middle;\n",
       "    }\n",
       "\n",
       "    .dataframe tbody tr th {\n",
       "        vertical-align: top;\n",
       "    }\n",
       "\n",
       "    .dataframe thead th {\n",
       "        text-align: right;\n",
       "    }\n",
       "</style>\n",
       "<table border=\"1\" class=\"dataframe\">\n",
       "  <thead>\n",
       "    <tr style=\"text-align: right;\">\n",
       "      <th></th>\n",
       "      <th>street_name</th>\n",
       "      <th>count</th>\n",
       "    </tr>\n",
       "  </thead>\n",
       "  <tbody>\n",
       "    <tr>\n",
       "      <th>0</th>\n",
       "      <td>AAACOXWELLAVE</td>\n",
       "      <td>1</td>\n",
       "    </tr>\n",
       "    <tr>\n",
       "      <th>1</th>\n",
       "      <td>AAAKNIGHTST</td>\n",
       "      <td>2</td>\n",
       "    </tr>\n",
       "    <tr>\n",
       "      <th>2</th>\n",
       "      <td>AAAMAINST</td>\n",
       "      <td>1</td>\n",
       "    </tr>\n",
       "    <tr>\n",
       "      <th>3</th>\n",
       "      <td>AAAMORTIMERAVE</td>\n",
       "      <td>2</td>\n",
       "    </tr>\n",
       "    <tr>\n",
       "      <th>4</th>\n",
       "      <td>AABERDEENAVE</td>\n",
       "      <td>1</td>\n",
       "    </tr>\n",
       "    <tr>\n",
       "      <th>...</th>\n",
       "      <td>...</td>\n",
       "      <td>...</td>\n",
       "    </tr>\n",
       "    <tr>\n",
       "      <th>16520</th>\n",
       "      <td>ZEZELWAY</td>\n",
       "      <td>116</td>\n",
       "    </tr>\n",
       "    <tr>\n",
       "      <th>16521</th>\n",
       "      <td>ZHOWARDST</td>\n",
       "      <td>1</td>\n",
       "    </tr>\n",
       "    <tr>\n",
       "      <th>16522</th>\n",
       "      <td>ZHUNTLEYST</td>\n",
       "      <td>3</td>\n",
       "    </tr>\n",
       "    <tr>\n",
       "      <th>16523</th>\n",
       "      <td>ZLINDENST</td>\n",
       "      <td>2</td>\n",
       "    </tr>\n",
       "    <tr>\n",
       "      <th>16524</th>\n",
       "      <td>ZORRAST</td>\n",
       "      <td>2799</td>\n",
       "    </tr>\n",
       "  </tbody>\n",
       "</table>\n",
       "<p>16525 rows × 2 columns</p>\n",
       "</div>"
      ],
      "text/plain": [
       "          street_name  count\n",
       "0       AAACOXWELLAVE      1\n",
       "1         AAAKNIGHTST      2\n",
       "2           AAAMAINST      1\n",
       "3      AAAMORTIMERAVE      2\n",
       "4        AABERDEENAVE      1\n",
       "...               ...    ...\n",
       "16520        ZEZELWAY    116\n",
       "16521       ZHOWARDST      1\n",
       "16522      ZHUNTLEYST      3\n",
       "16523       ZLINDENST      2\n",
       "16524         ZORRAST   2799\n",
       "\n",
       "[16525 rows x 2 columns]"
      ]
     },
     "execution_count": 19,
     "metadata": {},
     "output_type": "execute_result"
    }
   ],
   "source": [
    "grouper = df_init.groupby(['street_name'])\n",
    "df_street = grouper['street_name'].count().to_frame(name = 'count').reset_index()\n",
    "df_street"
   ]
  },
  {
   "cell_type": "code",
   "execution_count": 20,
   "id": "97790943",
   "metadata": {},
   "outputs": [
    {
     "data": {
      "text/plain": [
       "(15914, 2)"
      ]
     },
     "execution_count": 20,
     "metadata": {},
     "output_type": "execute_result"
    }
   ],
   "source": [
    "# number of streets with less than 1000 tickets\n",
    "df_street_sub1 = df_street[df_street['count'] <= 1000]\n",
    "df_street_sub1.shape"
   ]
  },
  {
   "cell_type": "code",
   "execution_count": 21,
   "id": "5adb7543",
   "metadata": {},
   "outputs": [
    {
     "data": {
      "text/plain": [
       "(571, 2)"
      ]
     },
     "execution_count": 21,
     "metadata": {},
     "output_type": "execute_result"
    }
   ],
   "source": [
    "# number of streets with tickets between 1000 and 10000\n",
    "df_street_sub2 = df_street[(df_street['count'] > 1000) & (df_street['count'] <= 10000)]\n",
    "df_street_sub2.shape"
   ]
  },
  {
   "cell_type": "code",
   "execution_count": 22,
   "id": "6e50ec75",
   "metadata": {},
   "outputs": [
    {
     "data": {
      "text/plain": [
       "(40, 2)"
      ]
     },
     "execution_count": 22,
     "metadata": {},
     "output_type": "execute_result"
    }
   ],
   "source": [
    "# number of streets with tickets more than 10000\n",
    "df_street_sub3 = df_street[(df_street['count'] > 10000)]\n",
    "df_street_sub3.shape"
   ]
  },
  {
   "cell_type": "code",
   "execution_count": 23,
   "id": "fe533b76",
   "metadata": {},
   "outputs": [
    {
     "data": {
      "image/png": "[encoded data removed]",
      "text/plain": [
       "<Figure size 432x288 with 1 Axes>"
      ]
     },
     "metadata": {
      "needs_background": "light"
     },
     "output_type": "display_data"
    }
   ],
   "source": [
    "df_street_sub2.plot(kind = 'scatter', x = 'street_name', y = 'count', title='Streets with tickets between 1000 and 10000')\n",
    "plt.show()"
   ]
  },
  {
   "cell_type": "code",
   "execution_count": 24,
   "id": "7a4c80c8",
   "metadata": {},
   "outputs": [
    {
     "data": {
      "image/png": "[encoded data removed]",
      "text/plain": [
       "<Figure size 432x288 with 1 Axes>"
      ]
     },
     "metadata": {
      "needs_background": "light"
     },
     "output_type": "display_data"
    }
   ],
   "source": [
    "df_street_sub3.plot(kind = 'scatter', x = 'street_name', y = 'count', title='Streets with more than 10000 tickets')\n",
    "plt.show()"
   ]
  },
  {
   "cell_type": "code",
   "execution_count": 25,
   "id": "dc64f3e6",
   "metadata": {},
   "outputs": [
    {
     "name": "stdout",
     "output_type": "stream",
     "text": [
      "           street_name  count\n",
      "12365         QUEENSTW  52411\n",
      "16431          YONGEST  50699\n",
      "2166          BLOORSTW  39627\n",
      "4868         DUNDASSTW  34358\n",
      "4206       DANFORTHAVE  32674\n",
      "8213           KEELEST  31478\n",
      "14157      STCLAIRAVEW  30018\n",
      "12358         QUEENSTE  27568\n",
      "8690    LAKESHOREBLVDW  26083\n",
      "8476           KINGSTW  23435\n",
      "3705         COLLEGEST  22011\n",
      "1589        BAYVIEWAVE  21680\n",
      "15716    WELLINGTONSTW  21169\n",
      "15248    UNIVERSITYAVE  20064\n",
      "12711      RICHMONDSTW  19555\n",
      "221        ADELAIDESTW  19026\n",
      "1523        BATHURSTST  18041\n",
      "14011       SPADINAAVE  17446\n",
      "6116          FRONTSTE  17245\n",
      "15467       VICTORIAST  17226\n",
      "9871    MARINEPARADEDR  16909\n",
      "3478          CHURCHST  16713\n",
      "5326             ELMST  16499\n",
      "6123          FRONTSTW  16195\n",
      "10716         MUTUALST  15776\n",
      "4100      CUMBERLANDST  15507\n",
      "16468     YORKVILLEAVE  14970\n",
      "5006     EASTLIBERTYST  14538\n",
      "5112          EDWARDST  14384\n",
      "11276     OSSINGTONAVE  14195\n",
      "1579             BAYST  13446\n",
      "7988          JARVISST  12912\n",
      "6312        GERRARDSTE  12647\n",
      "1244          AVENUERD  11898\n",
      "6851       GRENVILLEST  11877\n",
      "2275            BONDST  11073\n",
      "10070         MCCAULST  10926\n",
      "5162      EGLINTONAVEW  10765\n",
      "12960  RONCESVALLESAVE  10373\n",
      "15816         WESTONRD  10167\n"
     ]
    }
   ],
   "source": [
    "# streets with maximum number of tickets\n",
    "print(df_street_sub3.sort_values(by=['count'], ascending=False))"
   ]
  },
  {
   "cell_type": "code",
   "execution_count": 26,
   "id": "4db3bfcc",
   "metadata": {},
   "outputs": [
    {
     "data": {
      "text/html": [
       "<div>\n",
       "<style scoped>\n",
       "    .dataframe tbody tr th:only-of-type {\n",
       "        vertical-align: middle;\n",
       "    }\n",
       "\n",
       "    .dataframe tbody tr th {\n",
       "        vertical-align: top;\n",
       "    }\n",
       "\n",
       "    .dataframe thead th {\n",
       "        text-align: right;\n",
       "    }\n",
       "</style>\n",
       "<table border=\"1\" class=\"dataframe\">\n",
       "  <thead>\n",
       "    <tr style=\"text-align: right;\">\n",
       "      <th></th>\n",
       "      <th>street_name</th>\n",
       "      <th>year</th>\n",
       "      <th>day_of_year</th>\n",
       "      <th>day_of_week</th>\n",
       "      <th>count</th>\n",
       "    </tr>\n",
       "  </thead>\n",
       "  <tbody>\n",
       "    <tr>\n",
       "      <th>0</th>\n",
       "      <td>AAACOXWELLAVE</td>\n",
       "      <td>2021</td>\n",
       "      <td>267</td>\n",
       "      <td>4</td>\n",
       "      <td>1</td>\n",
       "    </tr>\n",
       "    <tr>\n",
       "      <th>1</th>\n",
       "      <td>AAAKNIGHTST</td>\n",
       "      <td>2021</td>\n",
       "      <td>267</td>\n",
       "      <td>4</td>\n",
       "      <td>2</td>\n",
       "    </tr>\n",
       "    <tr>\n",
       "      <th>2</th>\n",
       "      <td>AAAMAINST</td>\n",
       "      <td>2021</td>\n",
       "      <td>267</td>\n",
       "      <td>4</td>\n",
       "      <td>1</td>\n",
       "    </tr>\n",
       "    <tr>\n",
       "      <th>3</th>\n",
       "      <td>AAAMORTIMERAVE</td>\n",
       "      <td>2021</td>\n",
       "      <td>267</td>\n",
       "      <td>4</td>\n",
       "      <td>2</td>\n",
       "    </tr>\n",
       "    <tr>\n",
       "      <th>4</th>\n",
       "      <td>AABERDEENAVE</td>\n",
       "      <td>2021</td>\n",
       "      <td>242</td>\n",
       "      <td>0</td>\n",
       "      <td>1</td>\n",
       "    </tr>\n",
       "    <tr>\n",
       "      <th>...</th>\n",
       "      <td>...</td>\n",
       "      <td>...</td>\n",
       "      <td>...</td>\n",
       "      <td>...</td>\n",
       "      <td>...</td>\n",
       "    </tr>\n",
       "    <tr>\n",
       "      <th>666195</th>\n",
       "      <td>ZORRAST</td>\n",
       "      <td>2022</td>\n",
       "      <td>356</td>\n",
       "      <td>3</td>\n",
       "      <td>19</td>\n",
       "    </tr>\n",
       "    <tr>\n",
       "      <th>666196</th>\n",
       "      <td>ZORRAST</td>\n",
       "      <td>2022</td>\n",
       "      <td>357</td>\n",
       "      <td>4</td>\n",
       "      <td>15</td>\n",
       "    </tr>\n",
       "    <tr>\n",
       "      <th>666197</th>\n",
       "      <td>ZORRAST</td>\n",
       "      <td>2022</td>\n",
       "      <td>360</td>\n",
       "      <td>0</td>\n",
       "      <td>20</td>\n",
       "    </tr>\n",
       "    <tr>\n",
       "      <th>666198</th>\n",
       "      <td>ZORRAST</td>\n",
       "      <td>2022</td>\n",
       "      <td>364</td>\n",
       "      <td>4</td>\n",
       "      <td>2</td>\n",
       "    </tr>\n",
       "    <tr>\n",
       "      <th>666199</th>\n",
       "      <td>ZORRAST</td>\n",
       "      <td>2022</td>\n",
       "      <td>365</td>\n",
       "      <td>5</td>\n",
       "      <td>10</td>\n",
       "    </tr>\n",
       "  </tbody>\n",
       "</table>\n",
       "<p>666200 rows × 5 columns</p>\n",
       "</div>"
      ],
      "text/plain": [
       "           street_name  year  day_of_year  day_of_week  count\n",
       "0        AAACOXWELLAVE  2021          267            4      1\n",
       "1          AAAKNIGHTST  2021          267            4      2\n",
       "2            AAAMAINST  2021          267            4      1\n",
       "3       AAAMORTIMERAVE  2021          267            4      2\n",
       "4         AABERDEENAVE  2021          242            0      1\n",
       "...                ...   ...          ...          ...    ...\n",
       "666195         ZORRAST  2022          356            3     19\n",
       "666196         ZORRAST  2022          357            4     15\n",
       "666197         ZORRAST  2022          360            0     20\n",
       "666198         ZORRAST  2022          364            4      2\n",
       "666199         ZORRAST  2022          365            5     10\n",
       "\n",
       "[666200 rows x 5 columns]"
      ]
     },
     "execution_count": 26,
     "metadata": {},
     "output_type": "execute_result"
    }
   ],
   "source": [
    "grouper = df_init.groupby(['street_name', 'year', 'day_of_year', 'day_of_week'])\n",
    "df_process = grouper['street_name'].count().to_frame(name = 'count').reset_index()\n",
    "df_process"
   ]
  },
  {
   "cell_type": "code",
   "execution_count": 27,
   "id": "9ccc8795",
   "metadata": {},
   "outputs": [
    {
     "data": {
      "text/html": [
       "<div>\n",
       "<style scoped>\n",
       "    .dataframe tbody tr th:only-of-type {\n",
       "        vertical-align: middle;\n",
       "    }\n",
       "\n",
       "    .dataframe tbody tr th {\n",
       "        vertical-align: top;\n",
       "    }\n",
       "\n",
       "    .dataframe thead th {\n",
       "        text-align: right;\n",
       "    }\n",
       "</style>\n",
       "<table border=\"1\" class=\"dataframe\">\n",
       "  <thead>\n",
       "    <tr style=\"text-align: right;\">\n",
       "      <th></th>\n",
       "      <th>year</th>\n",
       "      <th>day_of_year</th>\n",
       "      <th>day_of_week</th>\n",
       "      <th>count</th>\n",
       "    </tr>\n",
       "  </thead>\n",
       "  <tbody>\n",
       "    <tr>\n",
       "      <th>year</th>\n",
       "      <td>1.000000</td>\n",
       "      <td>-0.120984</td>\n",
       "      <td>0.010412</td>\n",
       "      <td>0.024440</td>\n",
       "    </tr>\n",
       "    <tr>\n",
       "      <th>day_of_year</th>\n",
       "      <td>-0.120984</td>\n",
       "      <td>1.000000</td>\n",
       "      <td>-0.000833</td>\n",
       "      <td>0.034651</td>\n",
       "    </tr>\n",
       "    <tr>\n",
       "      <th>day_of_week</th>\n",
       "      <td>0.010412</td>\n",
       "      <td>-0.000833</td>\n",
       "      <td>1.000000</td>\n",
       "      <td>-0.007829</td>\n",
       "    </tr>\n",
       "    <tr>\n",
       "      <th>count</th>\n",
       "      <td>0.024440</td>\n",
       "      <td>0.034651</td>\n",
       "      <td>-0.007829</td>\n",
       "      <td>1.000000</td>\n",
       "    </tr>\n",
       "  </tbody>\n",
       "</table>\n",
       "</div>"
      ],
      "text/plain": [
       "                 year  day_of_year  day_of_week     count\n",
       "year         1.000000    -0.120984     0.010412  0.024440\n",
       "day_of_year -0.120984     1.000000    -0.000833  0.034651\n",
       "day_of_week  0.010412    -0.000833     1.000000 -0.007829\n",
       "count        0.024440     0.034651    -0.007829  1.000000"
      ]
     },
     "execution_count": 27,
     "metadata": {},
     "output_type": "execute_result"
    }
   ],
   "source": [
    "df_process.corr()"
   ]
  },
  {
   "cell_type": "code",
   "execution_count": 28,
   "id": "4b1f3f22",
   "metadata": {},
   "outputs": [
    {
     "data": {
      "text/plain": [
       "16525"
      ]
     },
     "execution_count": 28,
     "metadata": {},
     "output_type": "execute_result"
    }
   ],
   "source": [
    "df_process.street_name.nunique()"
   ]
  },
  {
   "cell_type": "code",
   "execution_count": 29,
   "id": "aeec5fb6",
   "metadata": {},
   "outputs": [
    {
     "name": "stdout",
     "output_type": "stream",
     "text": [
      "street_name    object\n",
      "year            int64\n",
      "day_of_year     int64\n",
      "day_of_week     int64\n",
      "count           int64\n",
      "dtype: object\n",
      "street_name    category\n",
      "year              int64\n",
      "day_of_year       int64\n",
      "day_of_week       int64\n",
      "count             int64\n",
      "street_code       int16\n",
      "dtype: object\n"
     ]
    },
    {
     "data": {
      "text/html": [
       "<div>\n",
       "<style scoped>\n",
       "    .dataframe tbody tr th:only-of-type {\n",
       "        vertical-align: middle;\n",
       "    }\n",
       "\n",
       "    .dataframe tbody tr th {\n",
       "        vertical-align: top;\n",
       "    }\n",
       "\n",
       "    .dataframe thead th {\n",
       "        text-align: right;\n",
       "    }\n",
       "</style>\n",
       "<table border=\"1\" class=\"dataframe\">\n",
       "  <thead>\n",
       "    <tr style=\"text-align: right;\">\n",
       "      <th></th>\n",
       "      <th>street_name</th>\n",
       "      <th>year</th>\n",
       "      <th>day_of_year</th>\n",
       "      <th>day_of_week</th>\n",
       "      <th>count</th>\n",
       "      <th>street_code</th>\n",
       "    </tr>\n",
       "  </thead>\n",
       "  <tbody>\n",
       "    <tr>\n",
       "      <th>0</th>\n",
       "      <td>AAACOXWELLAVE</td>\n",
       "      <td>2021</td>\n",
       "      <td>267</td>\n",
       "      <td>4</td>\n",
       "      <td>1</td>\n",
       "      <td>0</td>\n",
       "    </tr>\n",
       "    <tr>\n",
       "      <th>1</th>\n",
       "      <td>AAAKNIGHTST</td>\n",
       "      <td>2021</td>\n",
       "      <td>267</td>\n",
       "      <td>4</td>\n",
       "      <td>2</td>\n",
       "      <td>1</td>\n",
       "    </tr>\n",
       "    <tr>\n",
       "      <th>2</th>\n",
       "      <td>AAAMAINST</td>\n",
       "      <td>2021</td>\n",
       "      <td>267</td>\n",
       "      <td>4</td>\n",
       "      <td>1</td>\n",
       "      <td>2</td>\n",
       "    </tr>\n",
       "    <tr>\n",
       "      <th>3</th>\n",
       "      <td>AAAMORTIMERAVE</td>\n",
       "      <td>2021</td>\n",
       "      <td>267</td>\n",
       "      <td>4</td>\n",
       "      <td>2</td>\n",
       "      <td>3</td>\n",
       "    </tr>\n",
       "    <tr>\n",
       "      <th>4</th>\n",
       "      <td>AABERDEENAVE</td>\n",
       "      <td>2021</td>\n",
       "      <td>242</td>\n",
       "      <td>0</td>\n",
       "      <td>1</td>\n",
       "      <td>4</td>\n",
       "    </tr>\n",
       "  </tbody>\n",
       "</table>\n",
       "</div>"
      ],
      "text/plain": [
       "      street_name  year  day_of_year  day_of_week  count  street_code\n",
       "0   AAACOXWELLAVE  2021          267            4      1            0\n",
       "1     AAAKNIGHTST  2021          267            4      2            1\n",
       "2       AAAMAINST  2021          267            4      1            2\n",
       "3  AAAMORTIMERAVE  2021          267            4      2            3\n",
       "4    AABERDEENAVE  2021          242            0      1            4"
      ]
     },
     "execution_count": 29,
     "metadata": {},
     "output_type": "execute_result"
    }
   ],
   "source": [
    "# because there are alot of streets so we don't use One Hot encoder, instead we use label encoder\n",
    "print(df_process.dtypes)  \n",
    "df_process['street_name'] = df_process['street_name'].astype('category')  \n",
    "df_process['street_code'] = df_process['street_name'].cat.codes  \n",
    "print(df_process.dtypes) \n",
    "df_process.head()"
   ]
  },
  {
   "cell_type": "code",
   "execution_count": 30,
   "id": "d5d6183b",
   "metadata": {},
   "outputs": [],
   "source": [
    "features = ['street_code', 'year', 'day_of_week']\n",
    "target = ['count']\n",
    "\n",
    "X = df_process[features]\n",
    "y = df_process[target]\n"
   ]
  },
  {
   "cell_type": "code",
   "execution_count": 31,
   "id": "2d8260a8",
   "metadata": {},
   "outputs": [],
   "source": [
    "X_train, X_test, y_train, y_test = train_test_split(X, y, test_size=0.2, random_state=123)"
   ]
  },
  {
   "cell_type": "markdown",
   "id": "90401ecf",
   "metadata": {},
   "source": [
    "# Linear Regression"
   ]
  },
  {
   "cell_type": "code",
   "execution_count": 32,
   "id": "0fa73aa1",
   "metadata": {},
   "outputs": [
    {
     "name": "stdout",
     "output_type": "stream",
     "text": [
      "RMSE:  8.539769244669376\n",
      "R-square train:  0.0006802331999767874\n",
      "R-square test:  0.0005881342403007972\n"
     ]
    }
   ],
   "source": [
    "std_scaler = StandardScaler()\n",
    "lin_reg = LinearRegression()\n",
    "lin_regression = Pipeline([\n",
    "    (\"std_scaler\", std_scaler),\n",
    "    (\"lin_reg\", lin_reg)\n",
    "])\n",
    "res = lin_regression.fit(X_train, y_train)\n",
    "y_train_pred = res.predict(X_train)\n",
    "y_test_pred = res.predict(X_test)\n",
    "print('RMSE: ', math.sqrt(mean_squared_error(y_test, y_test_pred)))\n",
    "print('R-square train: ', r2_score(y_train, y_train_pred)) \n",
    "print('R-square test: ', r2_score(y_test, y_test_pred)) \n"
   ]
  },
  {
   "cell_type": "markdown",
   "id": "864e071b",
   "metadata": {},
   "source": [
    "# Reconsider input data"
   ]
  },
  {
   "cell_type": "code",
   "execution_count": 33,
   "id": "1a014c3e",
   "metadata": {},
   "outputs": [],
   "source": [
    "# r squared is zero which means the model doesn't perform beter than a mean value so we recoside the input features\n",
    "# we don't use street name as a feature but instead we have a model for each street, and we implement it for a street\n",
    "# with highest number of tickets which is QUEENSTW"
   ]
  },
  {
   "cell_type": "code",
   "execution_count": 34,
   "id": "0572e0aa",
   "metadata": {},
   "outputs": [
    {
     "name": "stdout",
     "output_type": "stream",
     "text": [
      "       street_name  year  day_of_year  day_of_week  count  street_code\n",
      "486564    QUEENSTW  2021            1            4      7        12365\n",
      "486565    QUEENSTW  2021            2            5      3        12365\n",
      "486566    QUEENSTW  2021            3            6     14        12365\n",
      "486567    QUEENSTW  2021            4            0     11        12365\n",
      "486568    QUEENSTW  2021            5            1     36        12365\n",
      "...            ...   ...          ...          ...    ...          ...\n",
      "487283    QUEENSTW  2022          361            1      4        12365\n",
      "487284    QUEENSTW  2022          362            2    137        12365\n",
      "487285    QUEENSTW  2022          363            3    110        12365\n",
      "487286    QUEENSTW  2022          364            4    133        12365\n",
      "487287    QUEENSTW  2022          365            5      9        12365\n",
      "\n",
      "[724 rows x 6 columns]\n"
     ]
    }
   ],
   "source": [
    "print(df_process[df_process.street_name == 'QUEENSTW'])"
   ]
  },
  {
   "cell_type": "code",
   "execution_count": 35,
   "id": "8d8b8ecc",
   "metadata": {},
   "outputs": [],
   "source": [
    "df_process_yonge = df_process[df_process.street_code == 12365]"
   ]
  },
  {
   "cell_type": "code",
   "execution_count": 36,
   "id": "06797dda",
   "metadata": {},
   "outputs": [],
   "source": [
    "features = ['year', 'day_of_week']\n",
    "target = ['count']\n",
    "\n",
    "X = df_process_yonge[features]\n",
    "y = df_process_yonge[target]\n",
    "\n",
    "X_train, X_test, y_train, y_test = train_test_split(X, y, test_size=0.2, random_state=123)"
   ]
  },
  {
   "cell_type": "markdown",
   "id": "5a50a1c6",
   "metadata": {},
   "source": [
    "# Linear Regression"
   ]
  },
  {
   "cell_type": "code",
   "execution_count": 37,
   "id": "4c19c5d3",
   "metadata": {},
   "outputs": [
    {
     "name": "stdout",
     "output_type": "stream",
     "text": [
      "RMSE:  40.095300621497934\n",
      "R-square train:  0.37932077689462484\n",
      "R-square test:  0.276243408796669\n"
     ]
    }
   ],
   "source": [
    "std_scaler = StandardScaler()\n",
    "lin_reg = LinearRegression()\n",
    "lin_regression = Pipeline([\n",
    "    (\"std_scaler\", std_scaler),\n",
    "    (\"lin_reg\", lin_reg)\n",
    "])\n",
    "res = lin_regression.fit(X_train, y_train)\n",
    "y_train_pred = res.predict(X_train)\n",
    "y_test_pred = res.predict(X_test)\n",
    "print('RMSE: ', math.sqrt(mean_squared_error(y_test, y_test_pred)))\n",
    "print('R-square train: ', r2_score(y_train, y_train_pred)) \n",
    "print('R-square test: ', r2_score(y_test, y_test_pred)) \n"
   ]
  },
  {
   "cell_type": "markdown",
   "id": "2c452f5e",
   "metadata": {},
   "source": [
    "# Polynomial Regression"
   ]
  },
  {
   "cell_type": "code",
   "execution_count": 38,
   "id": "6fd42813",
   "metadata": {},
   "outputs": [
    {
     "data": {
      "text/plain": [
       "Text(0, 0.5, 'RMSE')"
      ]
     },
     "execution_count": 38,
     "metadata": {},
     "output_type": "execute_result"
    },
    {
     "data": {
      "image/png": "[encoded data removed]",
      "text/plain": [
       "<Figure size 432x288 with 1 Axes>"
      ]
     },
     "metadata": {
      "needs_background": "light"
     },
     "output_type": "display_data"
    }
   ],
   "source": [
    "poly_degrees = [1, 2, 4, 6, 8]\n",
    "\n",
    "train_errors, test_errors = [], []\n",
    "\n",
    "for i in poly_degrees:\n",
    "    poly_features = PolynomialFeatures(degree = i, include_bias=False)\n",
    "    std_scaler = StandardScaler()\n",
    "    lin_reg = LinearRegression()\n",
    "    poly_regression = Pipeline([\n",
    "        (\"poly_features\", poly_features),\n",
    "        (\"std_scaler\", std_scaler),\n",
    "        (\"lin_reg\", lin_reg)\n",
    "    ])\n",
    "    poly_regression.fit(X_train, y_train)\n",
    "    y_train_pred = poly_regression.predict(X_train)\n",
    "    y_test_pred = poly_regression.predict(X_test)\n",
    "    train_errors.append(math.sqrt(mean_squared_error(y_train, y_train_pred)))\n",
    "    test_errors.append(math.sqrt(mean_squared_error(y_test, y_test_pred)))\n",
    "    \n",
    "plt.plot(poly_degrees, train_errors, \"r-+\", label=\"train\")\n",
    "plt.plot(poly_degrees, test_errors, \"b-\", label=\"test\")\n",
    "plt.legend(loc=\"upper right\", fontsize=14)\n",
    "plt.xlabel(\"degree of polynomial\", fontsize=14)\n",
    "plt.ylabel(\"RMSE\", fontsize=14)"
   ]
  },
  {
   "cell_type": "code",
   "execution_count": 39,
   "id": "da5a3ae5",
   "metadata": {},
   "outputs": [],
   "source": [
    "# increasing the degree won't improve the model"
   ]
  },
  {
   "cell_type": "markdown",
   "id": "8d32036d",
   "metadata": {},
   "source": [
    "# Stochastic Gradient Descent"
   ]
  },
  {
   "cell_type": "code",
   "execution_count": 40,
   "id": "4153b0c2",
   "metadata": {},
   "outputs": [
    {
     "name": "stdout",
     "output_type": "stream",
     "text": [
      "RMSE:  40.300405746143404\n",
      "R-square train:  0.3746872385276312\n",
      "R-square test:  0.2688198021714322\n"
     ]
    },
    {
     "name": "stderr",
     "output_type": "stream",
     "text": [
      "/Users/asmaa/opt/anaconda3/lib/python3.9/site-packages/sklearn/utils/validation.py:63: DataConversionWarning: A column-vector y was passed when a 1d array was expected. Please change the shape of y to (n_samples, ), for example using ravel().\n",
      "  return f(*args, **kwargs)\n"
     ]
    }
   ],
   "source": [
    "std_scaler = StandardScaler()\n",
    "sgd_reg = SGDRegressor(max_iter=1000, tol=1e-3, eta0=0.1)\n",
    "sgd_regression = Pipeline([\n",
    "    (\"std_scaler\", std_scaler),\n",
    "    (\"sgd_reg\", sgd_reg)\n",
    "])\n",
    "res = sgd_regression.fit(X_train, y_train)\n",
    "y_train_pred = res.predict(X_train)\n",
    "y_test_pred = res.predict(X_test)\n",
    "print('RMSE: ', math.sqrt(mean_squared_error(y_test, y_test_pred)))\n",
    "print('R-square train: ', r2_score(y_train, y_train_pred)) \n",
    "print('R-square test: ', r2_score(y_test, y_test_pred)) \n"
   ]
  },
  {
   "cell_type": "code",
   "execution_count": 41,
   "id": "f05ae393",
   "metadata": {},
   "outputs": [],
   "source": [
    "# Linear Regression model performs slightly better than other models"
   ]
  }
 ],
 "metadata": {
  "kernelspec": {
   "display_name": "Python 3 (ipykernel)",
   "language": "python",
   "name": "python3"
  },
  "language_info": {
   "codemirror_mode": {
    "name": "ipython",
    "version": 3
   },
   "file_extension": ".py",
   "mimetype": "text/x-python",
   "name": "python",
   "nbconvert_exporter": "python",
   "pygments_lexer": "ipython3",
   "version": "3.9.7"
  }
 },
 "nbformat": 4,
 "nbformat_minor": 5
}
