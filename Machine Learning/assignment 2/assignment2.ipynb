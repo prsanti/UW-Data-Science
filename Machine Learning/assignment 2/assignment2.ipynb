{
 "cells": [
  {
   "cell_type": "markdown",
   "metadata": {
    "colab_type": "text",
    "id": "D9UboDIvnAKI"
   },
   "source": [
    "## Assignment 2 - Clustering"
   ]
  },
  {
   "cell_type": "markdown",
   "metadata": {
    "colab_type": "text",
    "id": "5AibtmcInAKK"
   },
   "source": [
    "## Learning Outcomes\n",
    "\n",
    "In this assignment, you will do the following:\n",
    "\n",
    "* Explore a dataset and carry out clustering using k-means algorithm\n",
    "\n",
    "* Identify the optimum number of clusters for a given dataset\n",
    "\n"
   ]
  },
  {
   "cell_type": "markdown",
   "metadata": {
    "colab_type": "text",
    "id": "TJBMBFfAnAKK"
   },
   "source": [
    "## Problem Description\n",
    "\n",
    "In this assignment, you will study the electricity demand from clients in Portugal, during 2013 and 2014. You have been provided with the data file, which you should download when you download this assignment file.\n",
    "\n",
    "The data$^1$ available contains 370 time series, corresponding to the electric demand$^2$ for 370 clients, between 2011 and 2014. \n",
    "\n",
    "In this guided exercise, you will use clustering techniques to understand the typical usage behaviour during 2013-2014.\n",
    "\n",
    "Both these datasets are publicly available, and can be used to carry out experiments. Their source is below:\n",
    "\n",
    " 1. Data:\n",
    "https://archive.ics.uci.edu/ml/datasets/ElectricityLoadDiagrams20112014#\n",
    "\n",
    " 2. Electric Demand:\n",
    "http://www.think-energy.net/KWvsKWH.htm\n",
    "\n",
    "We will start by exploring the data set and continue on to the assignment.  Consider this as a working notebook, you will add your work to the same notebook.\n",
    "\n",
    "In this assignment we will use the sklearn package for k-means.  Please refer here for the documentation https://scikit-learn.org/stable/modules/generated/sklearn.cluster.KMeans.html\n",
    "(https://scikit-learn.org/stable/modules/generated/sklearn.cluster.KMeans.html).\n",
    "\n",
    "The sklearn package for k-means is one of the many clustering algorithms found in the module \"sklearn.cluster\".  These come with a variety of functions that you can call by importing the package.\n",
    "\n",
    "For example \n",
    "    \n",
    "    from sklearn.cluster import AgglomerativeClustering\n",
    "    from sklearn.cluster import KMeans\n",
    "\n"
   ]
  },
  {
   "cell_type": "markdown",
   "metadata": {
    "colab_type": "text",
    "id": "u0fHlteBnAKL"
   },
   "source": [
    "## Data Preparation\n",
    "\n",
    "Start by downloading the data to a local directory and modify the \"pathToFile\" and \"fileName\" variables, if needed. The data file has been provided with this assignment. It is also available at the links provided above."
   ]
  },
  {
   "cell_type": "code",
   "execution_count": 1,
   "metadata": {
    "colab": {},
    "colab_type": "code",
    "id": "0DJsRL9_nAKM"
   },
   "outputs": [
    {
     "name": "stdout",
     "output_type": "stream",
     "text": [
      "assignment2-data/\n"
     ]
    }
   ],
   "source": [
    "#pathToFile = \"~/Documents/UW Data Science/Machine Learning/assignment 2/assignment2-data/\"\n",
    "#pathToFile = \"Users/paulo/Documents/UW Data Science/Machine Learning/assignment 2/assignment2-data/\"\n",
    "pathToFile = \"assignment2-data/\"\n",
    "#pathToFile = r\"C:\\\\Users\\\\<your username>\\\\Downloads\\\\\"\n",
    "\n",
    "fileName = 'LD2011_2014.txt'\n",
    "print(pathToFile)"
   ]
  },
  {
   "cell_type": "code",
   "execution_count": 2,
   "metadata": {
    "colab": {},
    "colab_type": "code",
    "id": "yLxHF5B-nAKP"
   },
   "outputs": [],
   "source": [
    "import numpy as np\n",
    "from sklearn.cluster import KMeans\n",
    "import matplotlib.pyplot as plt\n",
    "from matplotlib.pyplot import figure\n",
    "import random\n",
    "from sklearn.metrics import silhouette_score\n",
    "from sklearn.cluster import AgglomerativeClustering\n",
    "from sklearn import metrics\n",
    "from datetime import datetime\n",
    "random.seed(42)"
   ]
  },
  {
   "cell_type": "code",
   "execution_count": 3,
   "metadata": {
    "colab": {},
    "colab_type": "code",
    "id": "6c6CmGbYnAKR"
   },
   "outputs": [
    {
     "name": "stdout",
     "output_type": "stream",
     "text": [
      "assignment2-data/\n",
      "path assignment2-data/\n",
      "filename LD2011_2014.txt\n",
      "test assignment2-data/LD2011_2014.txt\n",
      "file <fileinput.FileInput object at 0x7f9d97e9f070>\n"
     ]
    }
   ],
   "source": [
    "# Replace \",\" by \".\", otherwise the numbers will be in the form 2,3445 instead of 2.3445\n",
    "import fileinput\n",
    "\n",
    "fileName = 'LD2011_2014.txt'\n",
    "print(pathToFile)\n",
    "\n",
    "print('path', pathToFile)\n",
    "print('filename', fileName)\n",
    "print('test', pathToFile+fileName)\n",
    "\n",
    "with fileinput.FileInput(pathToFile+fileName, inplace=True, backup='.bak') as file:\n",
    "    #print('here')\n",
    "    print('file', file)\n",
    "    for line in file:\n",
    "        print(line.replace(\",\", \".\"), end='')"
   ]
  },
  {
   "cell_type": "code",
   "execution_count": 4,
   "metadata": {
    "colab": {},
    "colab_type": "code",
    "id": "ACTUfls8nAKU"
   },
   "outputs": [],
   "source": [
    "# Create dataframe\n",
    "import pandas as pd\n",
    "data = pd.read_csv(pathToFile+fileName, sep=\";\", index_col=0)"
   ]
  },
  {
   "cell_type": "markdown",
   "metadata": {
    "colab_type": "text",
    "id": "CfULOBctnAKW"
   },
   "source": [
    "### Quick data inspection"
   ]
  },
  {
   "cell_type": "code",
   "execution_count": 5,
   "metadata": {},
   "outputs": [],
   "source": [
    "#data"
   ]
  },
  {
   "cell_type": "code",
   "execution_count": 6,
   "metadata": {
    "colab": {},
    "colab_type": "code",
    "id": "x3OHI8vRnAKX",
    "outputId": "c821694f-6e8f-48ad-ff42-336915cb4da4"
   },
   "outputs": [
    {
     "data": {
      "text/html": [
       "<div>\n",
       "<style scoped>\n",
       "    .dataframe tbody tr th:only-of-type {\n",
       "        vertical-align: middle;\n",
       "    }\n",
       "\n",
       "    .dataframe tbody tr th {\n",
       "        vertical-align: top;\n",
       "    }\n",
       "\n",
       "    .dataframe thead th {\n",
       "        text-align: right;\n",
       "    }\n",
       "</style>\n",
       "<table border=\"1\" class=\"dataframe\">\n",
       "  <thead>\n",
       "    <tr style=\"text-align: right;\">\n",
       "      <th></th>\n",
       "      <th>MT_001</th>\n",
       "      <th>MT_002</th>\n",
       "      <th>MT_003</th>\n",
       "      <th>MT_004</th>\n",
       "      <th>MT_005</th>\n",
       "      <th>MT_006</th>\n",
       "      <th>MT_007</th>\n",
       "      <th>MT_008</th>\n",
       "      <th>MT_009</th>\n",
       "      <th>MT_010</th>\n",
       "      <th>...</th>\n",
       "      <th>MT_361</th>\n",
       "      <th>MT_362</th>\n",
       "      <th>MT_363</th>\n",
       "      <th>MT_364</th>\n",
       "      <th>MT_365</th>\n",
       "      <th>MT_366</th>\n",
       "      <th>MT_367</th>\n",
       "      <th>MT_368</th>\n",
       "      <th>MT_369</th>\n",
       "      <th>MT_370</th>\n",
       "    </tr>\n",
       "  </thead>\n",
       "  <tbody>\n",
       "    <tr>\n",
       "      <th>2011-01-01 00:15:00</th>\n",
       "      <td>0.0</td>\n",
       "      <td>0.0</td>\n",
       "      <td>0.0</td>\n",
       "      <td>0.0</td>\n",
       "      <td>0.0</td>\n",
       "      <td>0.0</td>\n",
       "      <td>0.0</td>\n",
       "      <td>0.0</td>\n",
       "      <td>0.0</td>\n",
       "      <td>0.0</td>\n",
       "      <td>...</td>\n",
       "      <td>0.0</td>\n",
       "      <td>0.0</td>\n",
       "      <td>0.0</td>\n",
       "      <td>0.0</td>\n",
       "      <td>0.0</td>\n",
       "      <td>0.0</td>\n",
       "      <td>0.0</td>\n",
       "      <td>0.0</td>\n",
       "      <td>0.0</td>\n",
       "      <td>0.0</td>\n",
       "    </tr>\n",
       "    <tr>\n",
       "      <th>2011-01-01 00:30:00</th>\n",
       "      <td>0.0</td>\n",
       "      <td>0.0</td>\n",
       "      <td>0.0</td>\n",
       "      <td>0.0</td>\n",
       "      <td>0.0</td>\n",
       "      <td>0.0</td>\n",
       "      <td>0.0</td>\n",
       "      <td>0.0</td>\n",
       "      <td>0.0</td>\n",
       "      <td>0.0</td>\n",
       "      <td>...</td>\n",
       "      <td>0.0</td>\n",
       "      <td>0.0</td>\n",
       "      <td>0.0</td>\n",
       "      <td>0.0</td>\n",
       "      <td>0.0</td>\n",
       "      <td>0.0</td>\n",
       "      <td>0.0</td>\n",
       "      <td>0.0</td>\n",
       "      <td>0.0</td>\n",
       "      <td>0.0</td>\n",
       "    </tr>\n",
       "    <tr>\n",
       "      <th>2011-01-01 00:45:00</th>\n",
       "      <td>0.0</td>\n",
       "      <td>0.0</td>\n",
       "      <td>0.0</td>\n",
       "      <td>0.0</td>\n",
       "      <td>0.0</td>\n",
       "      <td>0.0</td>\n",
       "      <td>0.0</td>\n",
       "      <td>0.0</td>\n",
       "      <td>0.0</td>\n",
       "      <td>0.0</td>\n",
       "      <td>...</td>\n",
       "      <td>0.0</td>\n",
       "      <td>0.0</td>\n",
       "      <td>0.0</td>\n",
       "      <td>0.0</td>\n",
       "      <td>0.0</td>\n",
       "      <td>0.0</td>\n",
       "      <td>0.0</td>\n",
       "      <td>0.0</td>\n",
       "      <td>0.0</td>\n",
       "      <td>0.0</td>\n",
       "    </tr>\n",
       "    <tr>\n",
       "      <th>2011-01-01 01:00:00</th>\n",
       "      <td>0.0</td>\n",
       "      <td>0.0</td>\n",
       "      <td>0.0</td>\n",
       "      <td>0.0</td>\n",
       "      <td>0.0</td>\n",
       "      <td>0.0</td>\n",
       "      <td>0.0</td>\n",
       "      <td>0.0</td>\n",
       "      <td>0.0</td>\n",
       "      <td>0.0</td>\n",
       "      <td>...</td>\n",
       "      <td>0.0</td>\n",
       "      <td>0.0</td>\n",
       "      <td>0.0</td>\n",
       "      <td>0.0</td>\n",
       "      <td>0.0</td>\n",
       "      <td>0.0</td>\n",
       "      <td>0.0</td>\n",
       "      <td>0.0</td>\n",
       "      <td>0.0</td>\n",
       "      <td>0.0</td>\n",
       "    </tr>\n",
       "    <tr>\n",
       "      <th>2011-01-01 01:15:00</th>\n",
       "      <td>0.0</td>\n",
       "      <td>0.0</td>\n",
       "      <td>0.0</td>\n",
       "      <td>0.0</td>\n",
       "      <td>0.0</td>\n",
       "      <td>0.0</td>\n",
       "      <td>0.0</td>\n",
       "      <td>0.0</td>\n",
       "      <td>0.0</td>\n",
       "      <td>0.0</td>\n",
       "      <td>...</td>\n",
       "      <td>0.0</td>\n",
       "      <td>0.0</td>\n",
       "      <td>0.0</td>\n",
       "      <td>0.0</td>\n",
       "      <td>0.0</td>\n",
       "      <td>0.0</td>\n",
       "      <td>0.0</td>\n",
       "      <td>0.0</td>\n",
       "      <td>0.0</td>\n",
       "      <td>0.0</td>\n",
       "    </tr>\n",
       "  </tbody>\n",
       "</table>\n",
       "<p>5 rows × 370 columns</p>\n",
       "</div>"
      ],
      "text/plain": [
       "                     MT_001  MT_002  MT_003  MT_004  MT_005  MT_006  MT_007  \\\n",
       "2011-01-01 00:15:00     0.0     0.0     0.0     0.0     0.0     0.0     0.0   \n",
       "2011-01-01 00:30:00     0.0     0.0     0.0     0.0     0.0     0.0     0.0   \n",
       "2011-01-01 00:45:00     0.0     0.0     0.0     0.0     0.0     0.0     0.0   \n",
       "2011-01-01 01:00:00     0.0     0.0     0.0     0.0     0.0     0.0     0.0   \n",
       "2011-01-01 01:15:00     0.0     0.0     0.0     0.0     0.0     0.0     0.0   \n",
       "\n",
       "                     MT_008  MT_009  MT_010  ...  MT_361  MT_362  MT_363  \\\n",
       "2011-01-01 00:15:00     0.0     0.0     0.0  ...     0.0     0.0     0.0   \n",
       "2011-01-01 00:30:00     0.0     0.0     0.0  ...     0.0     0.0     0.0   \n",
       "2011-01-01 00:45:00     0.0     0.0     0.0  ...     0.0     0.0     0.0   \n",
       "2011-01-01 01:00:00     0.0     0.0     0.0  ...     0.0     0.0     0.0   \n",
       "2011-01-01 01:15:00     0.0     0.0     0.0  ...     0.0     0.0     0.0   \n",
       "\n",
       "                     MT_364  MT_365  MT_366  MT_367  MT_368  MT_369  MT_370  \n",
       "2011-01-01 00:15:00     0.0     0.0     0.0     0.0     0.0     0.0     0.0  \n",
       "2011-01-01 00:30:00     0.0     0.0     0.0     0.0     0.0     0.0     0.0  \n",
       "2011-01-01 00:45:00     0.0     0.0     0.0     0.0     0.0     0.0     0.0  \n",
       "2011-01-01 01:00:00     0.0     0.0     0.0     0.0     0.0     0.0     0.0  \n",
       "2011-01-01 01:15:00     0.0     0.0     0.0     0.0     0.0     0.0     0.0  \n",
       "\n",
       "[5 rows x 370 columns]"
      ]
     },
     "execution_count": 6,
     "metadata": {},
     "output_type": "execute_result"
    }
   ],
   "source": [
    "data.head(5)"
   ]
  },
  {
   "cell_type": "code",
   "execution_count": 7,
   "metadata": {
    "colab": {},
    "colab_type": "code",
    "id": "BtQvkYF_nAKd",
    "outputId": "9598f8f3-b53a-49ce-d97f-51d562f582d0"
   },
   "outputs": [
    {
     "data": {
      "text/html": [
       "<div>\n",
       "<style scoped>\n",
       "    .dataframe tbody tr th:only-of-type {\n",
       "        vertical-align: middle;\n",
       "    }\n",
       "\n",
       "    .dataframe tbody tr th {\n",
       "        vertical-align: top;\n",
       "    }\n",
       "\n",
       "    .dataframe thead th {\n",
       "        text-align: right;\n",
       "    }\n",
       "</style>\n",
       "<table border=\"1\" class=\"dataframe\">\n",
       "  <thead>\n",
       "    <tr style=\"text-align: right;\">\n",
       "      <th></th>\n",
       "      <th>MT_001</th>\n",
       "      <th>MT_002</th>\n",
       "      <th>MT_003</th>\n",
       "      <th>MT_004</th>\n",
       "      <th>MT_005</th>\n",
       "      <th>MT_006</th>\n",
       "      <th>MT_007</th>\n",
       "      <th>MT_008</th>\n",
       "      <th>MT_009</th>\n",
       "      <th>MT_010</th>\n",
       "      <th>...</th>\n",
       "      <th>MT_361</th>\n",
       "      <th>MT_362</th>\n",
       "      <th>MT_363</th>\n",
       "      <th>MT_364</th>\n",
       "      <th>MT_365</th>\n",
       "      <th>MT_366</th>\n",
       "      <th>MT_367</th>\n",
       "      <th>MT_368</th>\n",
       "      <th>MT_369</th>\n",
       "      <th>MT_370</th>\n",
       "    </tr>\n",
       "  </thead>\n",
       "  <tbody>\n",
       "    <tr>\n",
       "      <th>2014-12-31 23:00:00</th>\n",
       "      <td>2.538071</td>\n",
       "      <td>22.048364</td>\n",
       "      <td>1.737619</td>\n",
       "      <td>150.406504</td>\n",
       "      <td>85.365854</td>\n",
       "      <td>303.571429</td>\n",
       "      <td>11.305822</td>\n",
       "      <td>282.828283</td>\n",
       "      <td>68.181818</td>\n",
       "      <td>72.043011</td>\n",
       "      <td>...</td>\n",
       "      <td>276.945039</td>\n",
       "      <td>28200.0</td>\n",
       "      <td>1616.033755</td>\n",
       "      <td>1363.636364</td>\n",
       "      <td>29.986962</td>\n",
       "      <td>5.851375</td>\n",
       "      <td>697.102722</td>\n",
       "      <td>176.961603</td>\n",
       "      <td>651.026393</td>\n",
       "      <td>7621.621622</td>\n",
       "    </tr>\n",
       "    <tr>\n",
       "      <th>2014-12-31 23:15:00</th>\n",
       "      <td>2.538071</td>\n",
       "      <td>21.337127</td>\n",
       "      <td>1.737619</td>\n",
       "      <td>166.666667</td>\n",
       "      <td>81.707317</td>\n",
       "      <td>324.404762</td>\n",
       "      <td>11.305822</td>\n",
       "      <td>252.525253</td>\n",
       "      <td>64.685315</td>\n",
       "      <td>72.043011</td>\n",
       "      <td>...</td>\n",
       "      <td>279.800143</td>\n",
       "      <td>28300.0</td>\n",
       "      <td>1569.620253</td>\n",
       "      <td>1340.909091</td>\n",
       "      <td>29.986962</td>\n",
       "      <td>9.947338</td>\n",
       "      <td>671.641791</td>\n",
       "      <td>168.614357</td>\n",
       "      <td>669.354839</td>\n",
       "      <td>6702.702703</td>\n",
       "    </tr>\n",
       "    <tr>\n",
       "      <th>2014-12-31 23:30:00</th>\n",
       "      <td>2.538071</td>\n",
       "      <td>20.625889</td>\n",
       "      <td>1.737619</td>\n",
       "      <td>162.601626</td>\n",
       "      <td>82.926829</td>\n",
       "      <td>318.452381</td>\n",
       "      <td>10.175240</td>\n",
       "      <td>242.424242</td>\n",
       "      <td>61.188811</td>\n",
       "      <td>74.193548</td>\n",
       "      <td>...</td>\n",
       "      <td>284.796574</td>\n",
       "      <td>27800.0</td>\n",
       "      <td>1556.962025</td>\n",
       "      <td>1318.181818</td>\n",
       "      <td>27.379400</td>\n",
       "      <td>9.362200</td>\n",
       "      <td>670.763828</td>\n",
       "      <td>153.589316</td>\n",
       "      <td>670.087977</td>\n",
       "      <td>6864.864865</td>\n",
       "    </tr>\n",
       "    <tr>\n",
       "      <th>2014-12-31 23:45:00</th>\n",
       "      <td>1.269036</td>\n",
       "      <td>21.337127</td>\n",
       "      <td>1.737619</td>\n",
       "      <td>166.666667</td>\n",
       "      <td>85.365854</td>\n",
       "      <td>285.714286</td>\n",
       "      <td>10.175240</td>\n",
       "      <td>225.589226</td>\n",
       "      <td>64.685315</td>\n",
       "      <td>72.043011</td>\n",
       "      <td>...</td>\n",
       "      <td>246.252677</td>\n",
       "      <td>28000.0</td>\n",
       "      <td>1443.037975</td>\n",
       "      <td>909.090909</td>\n",
       "      <td>26.075619</td>\n",
       "      <td>4.095963</td>\n",
       "      <td>664.618086</td>\n",
       "      <td>146.911519</td>\n",
       "      <td>646.627566</td>\n",
       "      <td>6540.540541</td>\n",
       "    </tr>\n",
       "    <tr>\n",
       "      <th>2015-01-01 00:00:00</th>\n",
       "      <td>2.538071</td>\n",
       "      <td>19.914651</td>\n",
       "      <td>1.737619</td>\n",
       "      <td>178.861789</td>\n",
       "      <td>84.146341</td>\n",
       "      <td>279.761905</td>\n",
       "      <td>10.175240</td>\n",
       "      <td>249.158249</td>\n",
       "      <td>62.937063</td>\n",
       "      <td>69.892473</td>\n",
       "      <td>...</td>\n",
       "      <td>188.436831</td>\n",
       "      <td>27800.0</td>\n",
       "      <td>1409.282700</td>\n",
       "      <td>954.545455</td>\n",
       "      <td>27.379400</td>\n",
       "      <td>4.095963</td>\n",
       "      <td>628.621598</td>\n",
       "      <td>131.886477</td>\n",
       "      <td>673.020528</td>\n",
       "      <td>7135.135135</td>\n",
       "    </tr>\n",
       "  </tbody>\n",
       "</table>\n",
       "<p>5 rows × 370 columns</p>\n",
       "</div>"
      ],
      "text/plain": [
       "                       MT_001     MT_002    MT_003      MT_004     MT_005  \\\n",
       "2014-12-31 23:00:00  2.538071  22.048364  1.737619  150.406504  85.365854   \n",
       "2014-12-31 23:15:00  2.538071  21.337127  1.737619  166.666667  81.707317   \n",
       "2014-12-31 23:30:00  2.538071  20.625889  1.737619  162.601626  82.926829   \n",
       "2014-12-31 23:45:00  1.269036  21.337127  1.737619  166.666667  85.365854   \n",
       "2015-01-01 00:00:00  2.538071  19.914651  1.737619  178.861789  84.146341   \n",
       "\n",
       "                         MT_006     MT_007      MT_008     MT_009     MT_010  \\\n",
       "2014-12-31 23:00:00  303.571429  11.305822  282.828283  68.181818  72.043011   \n",
       "2014-12-31 23:15:00  324.404762  11.305822  252.525253  64.685315  72.043011   \n",
       "2014-12-31 23:30:00  318.452381  10.175240  242.424242  61.188811  74.193548   \n",
       "2014-12-31 23:45:00  285.714286  10.175240  225.589226  64.685315  72.043011   \n",
       "2015-01-01 00:00:00  279.761905  10.175240  249.158249  62.937063  69.892473   \n",
       "\n",
       "                     ...      MT_361   MT_362       MT_363       MT_364  \\\n",
       "2014-12-31 23:00:00  ...  276.945039  28200.0  1616.033755  1363.636364   \n",
       "2014-12-31 23:15:00  ...  279.800143  28300.0  1569.620253  1340.909091   \n",
       "2014-12-31 23:30:00  ...  284.796574  27800.0  1556.962025  1318.181818   \n",
       "2014-12-31 23:45:00  ...  246.252677  28000.0  1443.037975   909.090909   \n",
       "2015-01-01 00:00:00  ...  188.436831  27800.0  1409.282700   954.545455   \n",
       "\n",
       "                        MT_365    MT_366      MT_367      MT_368      MT_369  \\\n",
       "2014-12-31 23:00:00  29.986962  5.851375  697.102722  176.961603  651.026393   \n",
       "2014-12-31 23:15:00  29.986962  9.947338  671.641791  168.614357  669.354839   \n",
       "2014-12-31 23:30:00  27.379400  9.362200  670.763828  153.589316  670.087977   \n",
       "2014-12-31 23:45:00  26.075619  4.095963  664.618086  146.911519  646.627566   \n",
       "2015-01-01 00:00:00  27.379400  4.095963  628.621598  131.886477  673.020528   \n",
       "\n",
       "                          MT_370  \n",
       "2014-12-31 23:00:00  7621.621622  \n",
       "2014-12-31 23:15:00  6702.702703  \n",
       "2014-12-31 23:30:00  6864.864865  \n",
       "2014-12-31 23:45:00  6540.540541  \n",
       "2015-01-01 00:00:00  7135.135135  \n",
       "\n",
       "[5 rows x 370 columns]"
      ]
     },
     "execution_count": 7,
     "metadata": {},
     "output_type": "execute_result"
    }
   ],
   "source": [
    "data.tail(5)"
   ]
  },
  {
   "cell_type": "code",
   "execution_count": 8,
   "metadata": {
    "colab": {},
    "colab_type": "code",
    "id": "Ydr4AkL9nAKg",
    "outputId": "1b4b50f0-3fc4-4805-8160-d8872a35efae"
   },
   "outputs": [
    {
     "data": {
      "text/plain": [
       "(140256, 370)"
      ]
     },
     "execution_count": 8,
     "metadata": {},
     "output_type": "execute_result"
    }
   ],
   "source": [
    "data.shape"
   ]
  },
  {
   "cell_type": "markdown",
   "metadata": {
    "colab_type": "text",
    "id": "j4xzOoTunAKj"
   },
   "source": [
    "#### As it can be seen, the dataframe contains a row for each interval of 15 minutes between Jan 1, 2011 to Dec 31 2014. There are 370 columns corresponding 370 clients. The dataframe is indexed by the timestamp.\n",
    "\n",
    "Since the frequency is 15 minutes, each day provides $24\\times 4 = 96$ datapoints, which multiplied by 365 days and 4 years (plus 1 day in Feb 29, 2012) gives: $96 \\times 365 \\times 4 + 96 = 140256$, as observed in data.shape"
   ]
  },
  {
   "cell_type": "code",
   "execution_count": 9,
   "metadata": {
    "colab": {},
    "colab_type": "code",
    "id": "K1RXKoAwnAKj",
    "outputId": "a7cfcc67-0a4c-4ee9-8cc9-b6ea80a74d3a"
   },
   "outputs": [
    {
     "name": "stdout",
     "output_type": "stream",
     "text": [
      "<class 'pandas.core.frame.DataFrame'>\n",
      "Index: 140256 entries, 2011-01-01 00:15:00 to 2015-01-01 00:00:00\n",
      "Columns: 370 entries, MT_001 to MT_370\n",
      "dtypes: float64(370)\n",
      "memory usage: 397.0+ MB\n"
     ]
    }
   ],
   "source": [
    "data.info()"
   ]
  },
  {
   "cell_type": "code",
   "execution_count": 10,
   "metadata": {
    "colab": {},
    "colab_type": "code",
    "id": "LqyOk3X6nAKm",
    "outputId": "eb0ccbc7-4bc8-486f-c852-b9385db69abb"
   },
   "outputs": [
    {
     "data": {
      "text/html": [
       "<div>\n",
       "<style scoped>\n",
       "    .dataframe tbody tr th:only-of-type {\n",
       "        vertical-align: middle;\n",
       "    }\n",
       "\n",
       "    .dataframe tbody tr th {\n",
       "        vertical-align: top;\n",
       "    }\n",
       "\n",
       "    .dataframe thead th {\n",
       "        text-align: right;\n",
       "    }\n",
       "</style>\n",
       "<table border=\"1\" class=\"dataframe\">\n",
       "  <thead>\n",
       "    <tr style=\"text-align: right;\">\n",
       "      <th></th>\n",
       "      <th>MT_001</th>\n",
       "      <th>MT_002</th>\n",
       "      <th>MT_003</th>\n",
       "      <th>MT_004</th>\n",
       "      <th>MT_005</th>\n",
       "      <th>MT_006</th>\n",
       "      <th>MT_007</th>\n",
       "      <th>MT_008</th>\n",
       "      <th>MT_009</th>\n",
       "      <th>MT_010</th>\n",
       "      <th>...</th>\n",
       "      <th>MT_361</th>\n",
       "      <th>MT_362</th>\n",
       "      <th>MT_363</th>\n",
       "      <th>MT_364</th>\n",
       "      <th>MT_365</th>\n",
       "      <th>MT_366</th>\n",
       "      <th>MT_367</th>\n",
       "      <th>MT_368</th>\n",
       "      <th>MT_369</th>\n",
       "      <th>MT_370</th>\n",
       "    </tr>\n",
       "  </thead>\n",
       "  <tbody>\n",
       "    <tr>\n",
       "      <th>count</th>\n",
       "      <td>140256.000000</td>\n",
       "      <td>140256.000000</td>\n",
       "      <td>140256.000000</td>\n",
       "      <td>140256.000000</td>\n",
       "      <td>140256.000000</td>\n",
       "      <td>140256.000000</td>\n",
       "      <td>140256.000000</td>\n",
       "      <td>140256.000000</td>\n",
       "      <td>140256.000000</td>\n",
       "      <td>140256.000000</td>\n",
       "      <td>...</td>\n",
       "      <td>140256.000000</td>\n",
       "      <td>140256.000000</td>\n",
       "      <td>140256.000000</td>\n",
       "      <td>140256.000000</td>\n",
       "      <td>140256.000000</td>\n",
       "      <td>140256.000000</td>\n",
       "      <td>140256.000000</td>\n",
       "      <td>140256.000000</td>\n",
       "      <td>140256.000000</td>\n",
       "      <td>140256.000000</td>\n",
       "    </tr>\n",
       "    <tr>\n",
       "      <th>mean</th>\n",
       "      <td>3.970785</td>\n",
       "      <td>20.768480</td>\n",
       "      <td>2.918308</td>\n",
       "      <td>82.184490</td>\n",
       "      <td>37.240309</td>\n",
       "      <td>141.227385</td>\n",
       "      <td>4.521338</td>\n",
       "      <td>191.401476</td>\n",
       "      <td>39.975354</td>\n",
       "      <td>42.205152</td>\n",
       "      <td>...</td>\n",
       "      <td>218.213701</td>\n",
       "      <td>37607.987537</td>\n",
       "      <td>1887.427366</td>\n",
       "      <td>2940.031734</td>\n",
       "      <td>65.413150</td>\n",
       "      <td>9.269709</td>\n",
       "      <td>424.262904</td>\n",
       "      <td>94.704717</td>\n",
       "      <td>625.251734</td>\n",
       "      <td>8722.355145</td>\n",
       "    </tr>\n",
       "    <tr>\n",
       "      <th>std</th>\n",
       "      <td>5.983965</td>\n",
       "      <td>13.272415</td>\n",
       "      <td>11.014456</td>\n",
       "      <td>58.248392</td>\n",
       "      <td>26.461327</td>\n",
       "      <td>98.439984</td>\n",
       "      <td>6.485684</td>\n",
       "      <td>121.981187</td>\n",
       "      <td>29.814595</td>\n",
       "      <td>33.401251</td>\n",
       "      <td>...</td>\n",
       "      <td>204.833532</td>\n",
       "      <td>38691.954832</td>\n",
       "      <td>1801.486488</td>\n",
       "      <td>2732.251967</td>\n",
       "      <td>65.007818</td>\n",
       "      <td>10.016782</td>\n",
       "      <td>274.337122</td>\n",
       "      <td>80.297301</td>\n",
       "      <td>380.656042</td>\n",
       "      <td>9195.155777</td>\n",
       "    </tr>\n",
       "    <tr>\n",
       "      <th>min</th>\n",
       "      <td>0.000000</td>\n",
       "      <td>0.000000</td>\n",
       "      <td>0.000000</td>\n",
       "      <td>0.000000</td>\n",
       "      <td>0.000000</td>\n",
       "      <td>0.000000</td>\n",
       "      <td>0.000000</td>\n",
       "      <td>0.000000</td>\n",
       "      <td>0.000000</td>\n",
       "      <td>0.000000</td>\n",
       "      <td>...</td>\n",
       "      <td>0.000000</td>\n",
       "      <td>0.000000</td>\n",
       "      <td>0.000000</td>\n",
       "      <td>0.000000</td>\n",
       "      <td>0.000000</td>\n",
       "      <td>0.000000</td>\n",
       "      <td>0.000000</td>\n",
       "      <td>0.000000</td>\n",
       "      <td>0.000000</td>\n",
       "      <td>0.000000</td>\n",
       "    </tr>\n",
       "    <tr>\n",
       "      <th>25%</th>\n",
       "      <td>0.000000</td>\n",
       "      <td>2.844950</td>\n",
       "      <td>0.000000</td>\n",
       "      <td>36.585366</td>\n",
       "      <td>15.853659</td>\n",
       "      <td>71.428571</td>\n",
       "      <td>0.565291</td>\n",
       "      <td>111.111111</td>\n",
       "      <td>13.986014</td>\n",
       "      <td>9.677419</td>\n",
       "      <td>...</td>\n",
       "      <td>5.710207</td>\n",
       "      <td>0.000000</td>\n",
       "      <td>0.000000</td>\n",
       "      <td>0.000000</td>\n",
       "      <td>13.037810</td>\n",
       "      <td>0.000000</td>\n",
       "      <td>0.000000</td>\n",
       "      <td>30.050083</td>\n",
       "      <td>83.944282</td>\n",
       "      <td>0.000000</td>\n",
       "    </tr>\n",
       "    <tr>\n",
       "      <th>50%</th>\n",
       "      <td>1.269036</td>\n",
       "      <td>24.893314</td>\n",
       "      <td>1.737619</td>\n",
       "      <td>87.398374</td>\n",
       "      <td>39.024390</td>\n",
       "      <td>157.738095</td>\n",
       "      <td>2.826456</td>\n",
       "      <td>222.222222</td>\n",
       "      <td>40.209790</td>\n",
       "      <td>40.860215</td>\n",
       "      <td>...</td>\n",
       "      <td>131.334761</td>\n",
       "      <td>24100.000000</td>\n",
       "      <td>1050.632911</td>\n",
       "      <td>2136.363636</td>\n",
       "      <td>31.290743</td>\n",
       "      <td>7.021650</td>\n",
       "      <td>525.899912</td>\n",
       "      <td>76.794658</td>\n",
       "      <td>758.064516</td>\n",
       "      <td>0.000000</td>\n",
       "    </tr>\n",
       "    <tr>\n",
       "      <th>75%</th>\n",
       "      <td>2.538071</td>\n",
       "      <td>29.871977</td>\n",
       "      <td>1.737619</td>\n",
       "      <td>115.853659</td>\n",
       "      <td>54.878049</td>\n",
       "      <td>205.357143</td>\n",
       "      <td>4.522329</td>\n",
       "      <td>279.461279</td>\n",
       "      <td>57.692308</td>\n",
       "      <td>61.290323</td>\n",
       "      <td>...</td>\n",
       "      <td>403.283369</td>\n",
       "      <td>54800.000000</td>\n",
       "      <td>3312.236287</td>\n",
       "      <td>5363.636364</td>\n",
       "      <td>108.213820</td>\n",
       "      <td>11.702750</td>\n",
       "      <td>627.743635</td>\n",
       "      <td>151.919866</td>\n",
       "      <td>875.366569</td>\n",
       "      <td>17783.783784</td>\n",
       "    </tr>\n",
       "    <tr>\n",
       "      <th>max</th>\n",
       "      <td>48.223350</td>\n",
       "      <td>115.220484</td>\n",
       "      <td>151.172893</td>\n",
       "      <td>321.138211</td>\n",
       "      <td>150.000000</td>\n",
       "      <td>535.714286</td>\n",
       "      <td>44.657999</td>\n",
       "      <td>552.188552</td>\n",
       "      <td>157.342657</td>\n",
       "      <td>198.924731</td>\n",
       "      <td>...</td>\n",
       "      <td>852.962170</td>\n",
       "      <td>192800.000000</td>\n",
       "      <td>7751.054852</td>\n",
       "      <td>12386.363636</td>\n",
       "      <td>335.071708</td>\n",
       "      <td>60.269163</td>\n",
       "      <td>1138.718174</td>\n",
       "      <td>362.270451</td>\n",
       "      <td>1549.120235</td>\n",
       "      <td>30918.918919</td>\n",
       "    </tr>\n",
       "  </tbody>\n",
       "</table>\n",
       "<p>8 rows × 370 columns</p>\n",
       "</div>"
      ],
      "text/plain": [
       "              MT_001         MT_002         MT_003         MT_004  \\\n",
       "count  140256.000000  140256.000000  140256.000000  140256.000000   \n",
       "mean        3.970785      20.768480       2.918308      82.184490   \n",
       "std         5.983965      13.272415      11.014456      58.248392   \n",
       "min         0.000000       0.000000       0.000000       0.000000   \n",
       "25%         0.000000       2.844950       0.000000      36.585366   \n",
       "50%         1.269036      24.893314       1.737619      87.398374   \n",
       "75%         2.538071      29.871977       1.737619     115.853659   \n",
       "max        48.223350     115.220484     151.172893     321.138211   \n",
       "\n",
       "              MT_005         MT_006         MT_007         MT_008  \\\n",
       "count  140256.000000  140256.000000  140256.000000  140256.000000   \n",
       "mean       37.240309     141.227385       4.521338     191.401476   \n",
       "std        26.461327      98.439984       6.485684     121.981187   \n",
       "min         0.000000       0.000000       0.000000       0.000000   \n",
       "25%        15.853659      71.428571       0.565291     111.111111   \n",
       "50%        39.024390     157.738095       2.826456     222.222222   \n",
       "75%        54.878049     205.357143       4.522329     279.461279   \n",
       "max       150.000000     535.714286      44.657999     552.188552   \n",
       "\n",
       "              MT_009         MT_010  ...         MT_361         MT_362  \\\n",
       "count  140256.000000  140256.000000  ...  140256.000000  140256.000000   \n",
       "mean       39.975354      42.205152  ...     218.213701   37607.987537   \n",
       "std        29.814595      33.401251  ...     204.833532   38691.954832   \n",
       "min         0.000000       0.000000  ...       0.000000       0.000000   \n",
       "25%        13.986014       9.677419  ...       5.710207       0.000000   \n",
       "50%        40.209790      40.860215  ...     131.334761   24100.000000   \n",
       "75%        57.692308      61.290323  ...     403.283369   54800.000000   \n",
       "max       157.342657     198.924731  ...     852.962170  192800.000000   \n",
       "\n",
       "              MT_363         MT_364         MT_365         MT_366  \\\n",
       "count  140256.000000  140256.000000  140256.000000  140256.000000   \n",
       "mean     1887.427366    2940.031734      65.413150       9.269709   \n",
       "std      1801.486488    2732.251967      65.007818      10.016782   \n",
       "min         0.000000       0.000000       0.000000       0.000000   \n",
       "25%         0.000000       0.000000      13.037810       0.000000   \n",
       "50%      1050.632911    2136.363636      31.290743       7.021650   \n",
       "75%      3312.236287    5363.636364     108.213820      11.702750   \n",
       "max      7751.054852   12386.363636     335.071708      60.269163   \n",
       "\n",
       "              MT_367         MT_368         MT_369         MT_370  \n",
       "count  140256.000000  140256.000000  140256.000000  140256.000000  \n",
       "mean      424.262904      94.704717     625.251734    8722.355145  \n",
       "std       274.337122      80.297301     380.656042    9195.155777  \n",
       "min         0.000000       0.000000       0.000000       0.000000  \n",
       "25%         0.000000      30.050083      83.944282       0.000000  \n",
       "50%       525.899912      76.794658     758.064516       0.000000  \n",
       "75%       627.743635     151.919866     875.366569   17783.783784  \n",
       "max      1138.718174     362.270451    1549.120235   30918.918919  \n",
       "\n",
       "[8 rows x 370 columns]"
      ]
     },
     "execution_count": 10,
     "metadata": {},
     "output_type": "execute_result"
    }
   ],
   "source": [
    "data.describe()"
   ]
  },
  {
   "cell_type": "markdown",
   "metadata": {
    "colab_type": "text",
    "id": "bEz7tlUqnAKp"
   },
   "source": [
    "### Plot the first 2 days of 2012 for the first 2 clients"
   ]
  },
  {
   "cell_type": "code",
   "execution_count": 11,
   "metadata": {
    "colab": {},
    "colab_type": "code",
    "id": "DVIRDmI2nAKp",
    "outputId": "f76887ae-1b6d-40ab-f9a8-63ef83264ae2"
   },
   "outputs": [
    {
     "data": {
      "image/png": "[encoded data removed]",
      "text/plain": [
       "<Figure size 432x288 with 1 Axes>"
      ]
     },
     "metadata": {
      "needs_background": "light"
     },
     "output_type": "display_data"
    },
    {
     "data": {
      "text/plain": [
       "<Figure size 864x720 with 0 Axes>"
      ]
     },
     "metadata": {},
     "output_type": "display_data"
    }
   ],
   "source": [
    "data_example = data.loc['2012-01-01 00:15:00':'2012-01-03 00:00:00'][['MT_001','MT_002']]\n",
    "data_example.plot()\n",
    "\n",
    "plt.figure(figsize=(12,10))\n",
    "plt.show()"
   ]
  },
  {
   "cell_type": "markdown",
   "metadata": {
    "colab_type": "text",
    "id": "7Vyl4umRnAKs"
   },
   "source": [
    "#### We  note that the main difference between the curves is the level (also seen on the means in df.describe()).  We know we will have to somehow normalize the curves, in order for the clustering technique to capture the behaviour of the consumption throughout the day."
   ]
  },
  {
   "cell_type": "markdown",
   "metadata": {
    "colab_type": "text",
    "id": "eNRzAdtunAKs"
   },
   "source": [
    "### Data for the analysis\n",
    "\n",
    "We focus on 2013 and 2014 because these are the years with low number of clients having zero demand"
   ]
  },
  {
   "cell_type": "code",
   "execution_count": 12,
   "metadata": {
    "colab": {},
    "colab_type": "code",
    "id": "kZRJzrdJnAKt"
   },
   "outputs": [],
   "source": [
    "data2011 = data.loc['2011-01-01 00:15:00':'2012-01-01 00:00:00']\n",
    "data2012 = data.loc['2012-01-01 00:15:00':'2013-01-01 00:00:00']\n",
    "data2013 = data.loc['2013-01-01 00:15:00':'2014-01-01 00:00:00']\n",
    "data2014 = data.loc['2014-01-01 00:15:00':'2015-01-01 00:00:00']"
   ]
  },
  {
   "cell_type": "code",
   "execution_count": 13,
   "metadata": {
    "colab": {},
    "colab_type": "code",
    "id": "cl68kB4VnAKw",
    "outputId": "3bfce148-042a-4267-f48d-f9ce6c0b52e3"
   },
   "outputs": [
    {
     "name": "stdout",
     "output_type": "stream",
     "text": [
      "365.0\n",
      "366.0\n",
      "365.0\n",
      "365.0\n"
     ]
    }
   ],
   "source": [
    "# Check number of days\n",
    "print(data2011.shape[0]/96)\n",
    "print(data2012.shape[0]/96)\n",
    "print(data2013.shape[0]/96)\n",
    "print(data2014.shape[0]/96)"
   ]
  },
  {
   "cell_type": "code",
   "execution_count": 14,
   "metadata": {
    "colab": {},
    "colab_type": "code",
    "id": "t4wacP4KnAKz",
    "outputId": "dc47bba0-61eb-4a59-9374-54eab9def4e8"
   },
   "outputs": [
    {
     "name": "stdout",
     "output_type": "stream",
     "text": [
      "210\n",
      "37\n",
      "21\n",
      "1\n"
     ]
    }
   ],
   "source": [
    "# See number of clients with 0 demand per year\n",
    "\n",
    "print(sum(data2011.mean()==0))\n",
    "print(sum(data2012.mean()==0))\n",
    "print(sum(data2013.mean()==0))\n",
    "print(sum(data2014.mean()==0))"
   ]
  },
  {
   "cell_type": "code",
   "execution_count": 15,
   "metadata": {
    "colab": {},
    "colab_type": "code",
    "id": "aWlgH8e1nAK4",
    "outputId": "ab6d9de0-b2b7-45aa-f5aa-6622a2a2267c"
   },
   "outputs": [
    {
     "name": "stdout",
     "output_type": "stream",
     "text": [
      "(70080, 349)\n",
      "0\n"
     ]
    }
   ],
   "source": [
    "clients = data2011.columns\n",
    "clients_no_demand = clients[data2013.mean()==0] # clients with 0 demand\n",
    "data_13_14 = data2013.append(data2014) # appending 2013 and 2014\n",
    "data_13_14 = data_13_14.drop(clients_no_demand, axis=1) # drop clients with 0 demand\n",
    "print(data_13_14.shape)\n",
    "print(sum(data_13_14.mean()==0)) # check that there are no clients with 0 demand"
   ]
  },
  {
   "cell_type": "markdown",
   "metadata": {
    "colab_type": "text",
    "id": "x3umOLGGnAK9"
   },
   "source": [
    "## Getting average curves per client"
   ]
  },
  {
   "cell_type": "code",
   "execution_count": 16,
   "metadata": {
    "colab": {},
    "colab_type": "code",
    "id": "4OaRjfZGnAK_"
   },
   "outputs": [],
   "source": [
    "data = data_13_14.copy() # weekdays weekends, data2011, data2012, data2013, data2014"
   ]
  },
  {
   "cell_type": "code",
   "execution_count": 17,
   "metadata": {
    "colab": {},
    "colab_type": "code",
    "id": "WI-3XYBJnALD"
   },
   "outputs": [],
   "source": [
    "data['hour'] = data.index.map(lambda x: x[11:])"
   ]
  },
  {
   "cell_type": "code",
   "execution_count": 18,
   "metadata": {
    "colab": {},
    "colab_type": "code",
    "id": "zXejFSuBnALF",
    "outputId": "f5e38ef6-019f-48bb-c751-b100dcdb9a32"
   },
   "outputs": [
    {
     "data": {
      "text/html": [
       "<div>\n",
       "<style scoped>\n",
       "    .dataframe tbody tr th:only-of-type {\n",
       "        vertical-align: middle;\n",
       "    }\n",
       "\n",
       "    .dataframe tbody tr th {\n",
       "        vertical-align: top;\n",
       "    }\n",
       "\n",
       "    .dataframe thead th {\n",
       "        text-align: right;\n",
       "    }\n",
       "</style>\n",
       "<table border=\"1\" class=\"dataframe\">\n",
       "  <thead>\n",
       "    <tr style=\"text-align: right;\">\n",
       "      <th></th>\n",
       "      <th>MT_001</th>\n",
       "      <th>MT_002</th>\n",
       "      <th>MT_003</th>\n",
       "      <th>MT_004</th>\n",
       "      <th>MT_005</th>\n",
       "      <th>MT_006</th>\n",
       "      <th>MT_007</th>\n",
       "      <th>MT_008</th>\n",
       "      <th>MT_009</th>\n",
       "      <th>MT_010</th>\n",
       "      <th>...</th>\n",
       "      <th>MT_362</th>\n",
       "      <th>MT_363</th>\n",
       "      <th>MT_364</th>\n",
       "      <th>MT_365</th>\n",
       "      <th>MT_366</th>\n",
       "      <th>MT_367</th>\n",
       "      <th>MT_368</th>\n",
       "      <th>MT_369</th>\n",
       "      <th>MT_370</th>\n",
       "      <th>hour</th>\n",
       "    </tr>\n",
       "  </thead>\n",
       "  <tbody>\n",
       "    <tr>\n",
       "      <th>2013-01-01 00:15:00</th>\n",
       "      <td>2.538071</td>\n",
       "      <td>22.759602</td>\n",
       "      <td>2.606429</td>\n",
       "      <td>138.211382</td>\n",
       "      <td>63.414634</td>\n",
       "      <td>255.952381</td>\n",
       "      <td>4.522329</td>\n",
       "      <td>239.057239</td>\n",
       "      <td>57.692308</td>\n",
       "      <td>78.494624</td>\n",
       "      <td>...</td>\n",
       "      <td>22300.0</td>\n",
       "      <td>886.075949</td>\n",
       "      <td>1000.000000</td>\n",
       "      <td>16.949153</td>\n",
       "      <td>6.436513</td>\n",
       "      <td>616.330114</td>\n",
       "      <td>76.794658</td>\n",
       "      <td>731.671554</td>\n",
       "      <td>8086.486486</td>\n",
       "      <td>00:15:00</td>\n",
       "    </tr>\n",
       "    <tr>\n",
       "      <th>2013-01-01 00:30:00</th>\n",
       "      <td>1.269036</td>\n",
       "      <td>22.759602</td>\n",
       "      <td>2.606429</td>\n",
       "      <td>138.211382</td>\n",
       "      <td>63.414634</td>\n",
       "      <td>264.880952</td>\n",
       "      <td>5.652911</td>\n",
       "      <td>228.956229</td>\n",
       "      <td>57.692308</td>\n",
       "      <td>76.344086</td>\n",
       "      <td>...</td>\n",
       "      <td>21000.0</td>\n",
       "      <td>864.978903</td>\n",
       "      <td>909.090909</td>\n",
       "      <td>18.252934</td>\n",
       "      <td>3.510825</td>\n",
       "      <td>564.530290</td>\n",
       "      <td>76.794658</td>\n",
       "      <td>727.272727</td>\n",
       "      <td>8086.486486</td>\n",
       "      <td>00:30:00</td>\n",
       "    </tr>\n",
       "    <tr>\n",
       "      <th>2013-01-01 00:45:00</th>\n",
       "      <td>2.538071</td>\n",
       "      <td>22.759602</td>\n",
       "      <td>2.606429</td>\n",
       "      <td>134.146341</td>\n",
       "      <td>60.975610</td>\n",
       "      <td>250.000000</td>\n",
       "      <td>5.652911</td>\n",
       "      <td>239.057239</td>\n",
       "      <td>54.195804</td>\n",
       "      <td>76.344086</td>\n",
       "      <td>...</td>\n",
       "      <td>18200.0</td>\n",
       "      <td>860.759494</td>\n",
       "      <td>840.909091</td>\n",
       "      <td>16.949153</td>\n",
       "      <td>5.851375</td>\n",
       "      <td>590.869183</td>\n",
       "      <td>68.447412</td>\n",
       "      <td>730.205279</td>\n",
       "      <td>7848.648649</td>\n",
       "      <td>00:45:00</td>\n",
       "    </tr>\n",
       "  </tbody>\n",
       "</table>\n",
       "<p>3 rows × 350 columns</p>\n",
       "</div>"
      ],
      "text/plain": [
       "                       MT_001     MT_002    MT_003      MT_004     MT_005  \\\n",
       "2013-01-01 00:15:00  2.538071  22.759602  2.606429  138.211382  63.414634   \n",
       "2013-01-01 00:30:00  1.269036  22.759602  2.606429  138.211382  63.414634   \n",
       "2013-01-01 00:45:00  2.538071  22.759602  2.606429  134.146341  60.975610   \n",
       "\n",
       "                         MT_006    MT_007      MT_008     MT_009     MT_010  \\\n",
       "2013-01-01 00:15:00  255.952381  4.522329  239.057239  57.692308  78.494624   \n",
       "2013-01-01 00:30:00  264.880952  5.652911  228.956229  57.692308  76.344086   \n",
       "2013-01-01 00:45:00  250.000000  5.652911  239.057239  54.195804  76.344086   \n",
       "\n",
       "                     ...   MT_362      MT_363       MT_364     MT_365  \\\n",
       "2013-01-01 00:15:00  ...  22300.0  886.075949  1000.000000  16.949153   \n",
       "2013-01-01 00:30:00  ...  21000.0  864.978903   909.090909  18.252934   \n",
       "2013-01-01 00:45:00  ...  18200.0  860.759494   840.909091  16.949153   \n",
       "\n",
       "                       MT_366      MT_367     MT_368      MT_369       MT_370  \\\n",
       "2013-01-01 00:15:00  6.436513  616.330114  76.794658  731.671554  8086.486486   \n",
       "2013-01-01 00:30:00  3.510825  564.530290  76.794658  727.272727  8086.486486   \n",
       "2013-01-01 00:45:00  5.851375  590.869183  68.447412  730.205279  7848.648649   \n",
       "\n",
       "                         hour  \n",
       "2013-01-01 00:15:00  00:15:00  \n",
       "2013-01-01 00:30:00  00:30:00  \n",
       "2013-01-01 00:45:00  00:45:00  \n",
       "\n",
       "[3 rows x 350 columns]"
      ]
     },
     "execution_count": 18,
     "metadata": {},
     "output_type": "execute_result"
    }
   ],
   "source": [
    "data.head(3)"
   ]
  },
  {
   "cell_type": "code",
   "execution_count": 19,
   "metadata": {},
   "outputs": [
    {
     "data": {
      "text/html": [
       "<div>\n",
       "<style scoped>\n",
       "    .dataframe tbody tr th:only-of-type {\n",
       "        vertical-align: middle;\n",
       "    }\n",
       "\n",
       "    .dataframe tbody tr th {\n",
       "        vertical-align: top;\n",
       "    }\n",
       "\n",
       "    .dataframe thead th {\n",
       "        text-align: right;\n",
       "    }\n",
       "</style>\n",
       "<table border=\"1\" class=\"dataframe\">\n",
       "  <thead>\n",
       "    <tr style=\"text-align: right;\">\n",
       "      <th></th>\n",
       "      <th>MT_001</th>\n",
       "      <th>MT_002</th>\n",
       "      <th>MT_003</th>\n",
       "      <th>MT_004</th>\n",
       "      <th>MT_005</th>\n",
       "      <th>MT_006</th>\n",
       "      <th>MT_007</th>\n",
       "      <th>MT_008</th>\n",
       "      <th>MT_009</th>\n",
       "      <th>MT_010</th>\n",
       "      <th>...</th>\n",
       "      <th>MT_361</th>\n",
       "      <th>MT_362</th>\n",
       "      <th>MT_363</th>\n",
       "      <th>MT_364</th>\n",
       "      <th>MT_365</th>\n",
       "      <th>MT_366</th>\n",
       "      <th>MT_367</th>\n",
       "      <th>MT_368</th>\n",
       "      <th>MT_369</th>\n",
       "      <th>MT_370</th>\n",
       "    </tr>\n",
       "  </thead>\n",
       "  <tbody>\n",
       "    <tr>\n",
       "      <th>count</th>\n",
       "      <td>70080.000000</td>\n",
       "      <td>70080.000000</td>\n",
       "      <td>70080.000000</td>\n",
       "      <td>70080.000000</td>\n",
       "      <td>70080.000000</td>\n",
       "      <td>70080.000000</td>\n",
       "      <td>70080.000000</td>\n",
       "      <td>70080.000000</td>\n",
       "      <td>70080.000000</td>\n",
       "      <td>70080.000000</td>\n",
       "      <td>...</td>\n",
       "      <td>70080.000000</td>\n",
       "      <td>70080.000000</td>\n",
       "      <td>70080.000000</td>\n",
       "      <td>70080.000000</td>\n",
       "      <td>70080.000000</td>\n",
       "      <td>70080.000000</td>\n",
       "      <td>70080.000000</td>\n",
       "      <td>70080.000000</td>\n",
       "      <td>70080.000000</td>\n",
       "      <td>70080.000000</td>\n",
       "    </tr>\n",
       "    <tr>\n",
       "      <th>mean</th>\n",
       "      <td>5.191112</td>\n",
       "      <td>28.106884</td>\n",
       "      <td>1.954785</td>\n",
       "      <td>114.508535</td>\n",
       "      <td>50.884390</td>\n",
       "      <td>189.447901</td>\n",
       "      <td>6.639154</td>\n",
       "      <td>255.688496</td>\n",
       "      <td>52.428693</td>\n",
       "      <td>57.792308</td>\n",
       "      <td>...</td>\n",
       "      <td>288.480586</td>\n",
       "      <td>48502.053368</td>\n",
       "      <td>2374.435184</td>\n",
       "      <td>3842.678497</td>\n",
       "      <td>80.222919</td>\n",
       "      <td>12.144033</td>\n",
       "      <td>556.904701</td>\n",
       "      <td>127.032402</td>\n",
       "      <td>820.311872</td>\n",
       "      <td>17456.658722</td>\n",
       "    </tr>\n",
       "    <tr>\n",
       "      <th>std</th>\n",
       "      <td>6.359491</td>\n",
       "      <td>6.332915</td>\n",
       "      <td>0.727959</td>\n",
       "      <td>38.580278</td>\n",
       "      <td>17.940264</td>\n",
       "      <td>64.874532</td>\n",
       "      <td>7.235114</td>\n",
       "      <td>58.588435</td>\n",
       "      <td>20.852845</td>\n",
       "      <td>25.709564</td>\n",
       "      <td>...</td>\n",
       "      <td>182.080880</td>\n",
       "      <td>35750.529364</td>\n",
       "      <td>1552.755546</td>\n",
       "      <td>2503.583722</td>\n",
       "      <td>52.255311</td>\n",
       "      <td>9.435227</td>\n",
       "      <td>154.172689</td>\n",
       "      <td>69.521835</td>\n",
       "      <td>138.275642</td>\n",
       "      <td>4092.050633</td>\n",
       "    </tr>\n",
       "    <tr>\n",
       "      <th>min</th>\n",
       "      <td>0.000000</td>\n",
       "      <td>0.000000</td>\n",
       "      <td>0.000000</td>\n",
       "      <td>0.000000</td>\n",
       "      <td>0.000000</td>\n",
       "      <td>0.000000</td>\n",
       "      <td>0.000000</td>\n",
       "      <td>0.000000</td>\n",
       "      <td>0.000000</td>\n",
       "      <td>0.000000</td>\n",
       "      <td>...</td>\n",
       "      <td>0.000000</td>\n",
       "      <td>0.000000</td>\n",
       "      <td>0.000000</td>\n",
       "      <td>0.000000</td>\n",
       "      <td>0.000000</td>\n",
       "      <td>0.000000</td>\n",
       "      <td>0.000000</td>\n",
       "      <td>0.000000</td>\n",
       "      <td>0.000000</td>\n",
       "      <td>0.000000</td>\n",
       "    </tr>\n",
       "    <tr>\n",
       "      <th>25%</th>\n",
       "      <td>1.269036</td>\n",
       "      <td>23.470839</td>\n",
       "      <td>1.737619</td>\n",
       "      <td>87.398374</td>\n",
       "      <td>37.804878</td>\n",
       "      <td>142.857143</td>\n",
       "      <td>2.826456</td>\n",
       "      <td>208.754209</td>\n",
       "      <td>38.461538</td>\n",
       "      <td>39.784946</td>\n",
       "      <td>...</td>\n",
       "      <td>114.917916</td>\n",
       "      <td>15900.000000</td>\n",
       "      <td>856.540084</td>\n",
       "      <td>1227.272727</td>\n",
       "      <td>23.468057</td>\n",
       "      <td>5.851375</td>\n",
       "      <td>481.123793</td>\n",
       "      <td>58.430718</td>\n",
       "      <td>714.076246</td>\n",
       "      <td>15221.621622</td>\n",
       "    </tr>\n",
       "    <tr>\n",
       "      <th>50%</th>\n",
       "      <td>2.538071</td>\n",
       "      <td>27.738265</td>\n",
       "      <td>1.737619</td>\n",
       "      <td>103.658537</td>\n",
       "      <td>48.780488</td>\n",
       "      <td>181.547619</td>\n",
       "      <td>3.957038</td>\n",
       "      <td>252.525253</td>\n",
       "      <td>47.202797</td>\n",
       "      <td>52.688172</td>\n",
       "      <td>...</td>\n",
       "      <td>310.492505</td>\n",
       "      <td>41200.000000</td>\n",
       "      <td>2236.286920</td>\n",
       "      <td>3522.727273</td>\n",
       "      <td>87.353325</td>\n",
       "      <td>8.777063</td>\n",
       "      <td>575.943810</td>\n",
       "      <td>123.539232</td>\n",
       "      <td>802.052786</td>\n",
       "      <td>17783.783784</td>\n",
       "    </tr>\n",
       "    <tr>\n",
       "      <th>75%</th>\n",
       "      <td>3.807107</td>\n",
       "      <td>32.005690</td>\n",
       "      <td>1.737619</td>\n",
       "      <td>132.113821</td>\n",
       "      <td>60.975610</td>\n",
       "      <td>223.214286</td>\n",
       "      <td>6.218202</td>\n",
       "      <td>292.929293</td>\n",
       "      <td>62.937063</td>\n",
       "      <td>70.967742</td>\n",
       "      <td>...</td>\n",
       "      <td>425.410421</td>\n",
       "      <td>68300.000000</td>\n",
       "      <td>3506.329114</td>\n",
       "      <td>6204.545455</td>\n",
       "      <td>108.213820</td>\n",
       "      <td>13.458163</td>\n",
       "      <td>654.082529</td>\n",
       "      <td>178.631052</td>\n",
       "      <td>895.894428</td>\n",
       "      <td>20216.216216</td>\n",
       "    </tr>\n",
       "    <tr>\n",
       "      <th>max</th>\n",
       "      <td>43.147208</td>\n",
       "      <td>67.567568</td>\n",
       "      <td>7.819288</td>\n",
       "      <td>321.138211</td>\n",
       "      <td>150.000000</td>\n",
       "      <td>535.714286</td>\n",
       "      <td>44.657999</td>\n",
       "      <td>552.188552</td>\n",
       "      <td>157.342657</td>\n",
       "      <td>195.698925</td>\n",
       "      <td>...</td>\n",
       "      <td>852.962170</td>\n",
       "      <td>181400.000000</td>\n",
       "      <td>7751.054852</td>\n",
       "      <td>12386.363636</td>\n",
       "      <td>267.275098</td>\n",
       "      <td>60.269163</td>\n",
       "      <td>1138.718174</td>\n",
       "      <td>362.270451</td>\n",
       "      <td>1549.120235</td>\n",
       "      <td>30918.918919</td>\n",
       "    </tr>\n",
       "  </tbody>\n",
       "</table>\n",
       "<p>8 rows × 349 columns</p>\n",
       "</div>"
      ],
      "text/plain": [
       "             MT_001        MT_002        MT_003        MT_004        MT_005  \\\n",
       "count  70080.000000  70080.000000  70080.000000  70080.000000  70080.000000   \n",
       "mean       5.191112     28.106884      1.954785    114.508535     50.884390   \n",
       "std        6.359491      6.332915      0.727959     38.580278     17.940264   \n",
       "min        0.000000      0.000000      0.000000      0.000000      0.000000   \n",
       "25%        1.269036     23.470839      1.737619     87.398374     37.804878   \n",
       "50%        2.538071     27.738265      1.737619    103.658537     48.780488   \n",
       "75%        3.807107     32.005690      1.737619    132.113821     60.975610   \n",
       "max       43.147208     67.567568      7.819288    321.138211    150.000000   \n",
       "\n",
       "             MT_006        MT_007        MT_008        MT_009        MT_010  \\\n",
       "count  70080.000000  70080.000000  70080.000000  70080.000000  70080.000000   \n",
       "mean     189.447901      6.639154    255.688496     52.428693     57.792308   \n",
       "std       64.874532      7.235114     58.588435     20.852845     25.709564   \n",
       "min        0.000000      0.000000      0.000000      0.000000      0.000000   \n",
       "25%      142.857143      2.826456    208.754209     38.461538     39.784946   \n",
       "50%      181.547619      3.957038    252.525253     47.202797     52.688172   \n",
       "75%      223.214286      6.218202    292.929293     62.937063     70.967742   \n",
       "max      535.714286     44.657999    552.188552    157.342657    195.698925   \n",
       "\n",
       "       ...        MT_361         MT_362        MT_363        MT_364  \\\n",
       "count  ...  70080.000000   70080.000000  70080.000000  70080.000000   \n",
       "mean   ...    288.480586   48502.053368   2374.435184   3842.678497   \n",
       "std    ...    182.080880   35750.529364   1552.755546   2503.583722   \n",
       "min    ...      0.000000       0.000000      0.000000      0.000000   \n",
       "25%    ...    114.917916   15900.000000    856.540084   1227.272727   \n",
       "50%    ...    310.492505   41200.000000   2236.286920   3522.727273   \n",
       "75%    ...    425.410421   68300.000000   3506.329114   6204.545455   \n",
       "max    ...    852.962170  181400.000000   7751.054852  12386.363636   \n",
       "\n",
       "             MT_365        MT_366        MT_367        MT_368        MT_369  \\\n",
       "count  70080.000000  70080.000000  70080.000000  70080.000000  70080.000000   \n",
       "mean      80.222919     12.144033    556.904701    127.032402    820.311872   \n",
       "std       52.255311      9.435227    154.172689     69.521835    138.275642   \n",
       "min        0.000000      0.000000      0.000000      0.000000      0.000000   \n",
       "25%       23.468057      5.851375    481.123793     58.430718    714.076246   \n",
       "50%       87.353325      8.777063    575.943810    123.539232    802.052786   \n",
       "75%      108.213820     13.458163    654.082529    178.631052    895.894428   \n",
       "max      267.275098     60.269163   1138.718174    362.270451   1549.120235   \n",
       "\n",
       "             MT_370  \n",
       "count  70080.000000  \n",
       "mean   17456.658722  \n",
       "std     4092.050633  \n",
       "min        0.000000  \n",
       "25%    15221.621622  \n",
       "50%    17783.783784  \n",
       "75%    20216.216216  \n",
       "max    30918.918919  \n",
       "\n",
       "[8 rows x 349 columns]"
      ]
     },
     "execution_count": 19,
     "metadata": {},
     "output_type": "execute_result"
    }
   ],
   "source": [
    "data.describe()"
   ]
  },
  {
   "cell_type": "markdown",
   "metadata": {
    "colab_type": "text",
    "id": "8KR5kWP9nALH"
   },
   "source": [
    "### Getting average curves per client"
   ]
  },
  {
   "cell_type": "code",
   "execution_count": 20,
   "metadata": {
    "colab": {},
    "colab_type": "code",
    "id": "-a_Ca2zSnALI",
    "outputId": "72890259-4294-4af3-f4a1-624b057b9474"
   },
   "outputs": [
    {
     "data": {
      "text/plain": [
       "(96, 349)"
      ]
     },
     "execution_count": 20,
     "metadata": {},
     "output_type": "execute_result"
    }
   ],
   "source": [
    "datagrouped = data.groupby(\"hour\")\n",
    "average_curves = datagrouped.agg(\"mean\")\n",
    "average_curves.shape "
   ]
  },
  {
   "cell_type": "markdown",
   "metadata": {
    "colab_type": "text",
    "id": "CmBX_M92nALL"
   },
   "source": [
    "#### The dataframe average_curves contains the 349 typical weekday electric demands\n",
    "\n",
    "#### We now divide each curve by its mean, so that all curves have mean 1"
   ]
  },
  {
   "cell_type": "code",
   "execution_count": 21,
   "metadata": {
    "colab": {},
    "colab_type": "code",
    "id": "NdGU5rKFnALM"
   },
   "outputs": [],
   "source": [
    "average_curves_norm = average_curves/(average_curves.mean())\n",
    "#print(average_curves_norm.head(5))"
   ]
  },
  {
   "cell_type": "markdown",
   "metadata": {
    "colab_type": "text",
    "id": "sIJCEfqfnALO"
   },
   "source": [
    "#### Plot the first 2 and last 2 clients"
   ]
  },
  {
   "cell_type": "code",
   "execution_count": 22,
   "metadata": {
    "colab": {},
    "colab_type": "code",
    "id": "9YZQfHOxnALO",
    "outputId": "d671a5c7-e4bb-4bd4-8da3-dfa2efbdb688"
   },
   "outputs": [
    {
     "data": {
      "image/png": "[encoded data removed]",
      "text/plain": [
       "<Figure size 432x288 with 1 Axes>"
      ]
     },
     "metadata": {
      "needs_background": "light"
     },
     "output_type": "display_data"
    }
   ],
   "source": [
    "average_curves_norm[['MT_001','MT_002','MT_369','MT_370']].plot()\n",
    "plt.show()"
   ]
  },
  {
   "cell_type": "markdown",
   "metadata": {
    "colab_type": "text",
    "id": "i06taQLunALR"
   },
   "source": [
    "## Clustering Analysis on the average normalized curves"
   ]
  },
  {
   "cell_type": "code",
   "execution_count": 23,
   "metadata": {
    "colab": {},
    "colab_type": "code",
    "id": "xBjIy1DInALR"
   },
   "outputs": [],
   "source": [
    "X = average_curves_norm.copy()  # We call this normalized curve\n",
    "#print('x-1', X)\n",
    "X = np.array(X.T) # put it on the right format\n",
    "#print('x-2', X)"
   ]
  },
  {
   "cell_type": "markdown",
   "metadata": {
    "colab_type": "text",
    "id": "c0_PPXRvnALV"
   },
   "source": [
    "# Questions (15 marks total)\n",
    "\n",
    "**Q1: (7 marks)**\n",
    "\n",
    "a. Determine what a convenient number of clusters. Justify your choice.  Make use of the sklearn's package for k-means for this. You may refer to the module to figure out how to come up with the optimal number of clusters. \n",
    "\n",
    "b. Make a plot for each cluster, that includes:\n",
    "    - The number of clients in the cluster (you can put this in the title of the plot)\n",
    "    - All the curves in the cluster\n",
    "    - The curve corresponding to the center of the cluster (make this curve thicker to distinguish it from the individual curves).  The center is also sometimes referred to as \"centroid\".\n",
    "    \n",
    "You have 2 separate plots for each cluster if you prefer (one for the individual curves, one for the centroid)"
   ]
  },
  {
   "cell_type": "code",
   "execution_count": 24,
   "metadata": {},
   "outputs": [],
   "source": [
    "# Set X Data\n",
    "X = data.iloc[:, 1:]\n",
    "#print('before', X['hour'])\n",
    "#for col in X.columns:\n",
    "    #print(col)\n",
    "#print(X.describe)\n",
    "X = data.iloc[:, 1:].values\n",
    "#print('after', X)\n",
    "X = np.array(X.T)\n",
    "#print('transpose', X)\n",
    "X = np.array(data_13_14.T)\n",
    "#print('13-14', X)"
   ]
  },
  {
   "cell_type": "code",
   "execution_count": 25,
   "metadata": {},
   "outputs": [
    {
     "data": {
      "image/png": "[encoded data removed]",
      "text/plain": [
       "<Figure size 864x720 with 1 Axes>"
      ]
     },
     "metadata": {
      "needs_background": "light"
     },
     "output_type": "display_data"
    }
   ],
   "source": [
    "# total squared errors\n",
    "total_squared_error = []\n",
    "\n",
    "# loop through nodes and find the best number of nodes\n",
    "for i in range(1, 11):\n",
    "    kmeans = KMeans(n_clusters=i, init='k-means++', max_iter=300, n_init=10)\n",
    "    kmeans.fit(X)\n",
    "    total_squared_error.append(kmeans.inertia_)\n",
    "\n",
    "# plot the elbow method\n",
    "plt.figure(figsize=(12,10))\n",
    "plt.plot(range(1, 11), total_squared_error)\n",
    "plt.title('Total Error vs. Number of Clusters (Elbow Method)')\n",
    "plt.xlabel('k')\n",
    "plt.ylabel('Total Squared Error')\n",
    "plt.show()"
   ]
  },
  {
   "cell_type": "code",
   "execution_count": 26,
   "metadata": {},
   "outputs": [
    {
     "name": "stdout",
     "output_type": "stream",
     "text": [
      "KMeans(n_clusters=3, random_state=1)\n",
      "cluster 3 silhouette score =  0.9569788416824179\n"
     ]
    }
   ],
   "source": [
    "# find kmeans and silhouette scores\n",
    "\n",
    "# cluster 2\n",
    "#kmeans_model = KMeans(n_clusters=2, random_state=1).fit(X)\n",
    "#labels = kmeans_model.labels_\n",
    "#cluster_2 = metrics.silhouette_score(X, labels, metric='euclidean')\n",
    "#print(\"cluster 2 silhouette score = \", cluster_2)\n",
    "\n",
    "# we will be using 3 nodes\n",
    "# cluster 3\n",
    "# set clusters to 3\n",
    "kmeans_model = KMeans(n_clusters=3, random_state=1).fit(X)\n",
    "print(kmeans_model)\n",
    "labels = kmeans_model.labels_\n",
    "# true centroids\n",
    "# set centroids to the cluster centers\n",
    "kmeans_centroids = kmeans_model.cluster_centers_\n",
    "cluster_3 = metrics.silhouette_score(X, labels, metric='euclidean')\n",
    "print(\"cluster 3 silhouette score = \", cluster_3)\n",
    "\n",
    "# cluster 4\n",
    "#kmeans_model = KMeans(n_clusters=4, random_state=1).fit(X)\n",
    "#labels = kmeans_model.labels_\n",
    "#cluster_4 = metrics.silhouette_score(X, labels, metric='euclidean')\n",
    "#print(\"cluster 4 silhouette score = \", cluster_4)"
   ]
  },
  {
   "cell_type": "code",
   "execution_count": 27,
   "metadata": {},
   "outputs": [
    {
     "data": {
      "image/png": "[encoded data removed]",
      "text/plain": [
       "<Figure size 864x720 with 1 Axes>"
      ]
     },
     "metadata": {
      "needs_background": "light"
     },
     "output_type": "display_data"
    }
   ],
   "source": [
    "trueK = 3 # Desired number of clusters\n",
    "colors = 'bgr'\n",
    "colors=[*colors]\n",
    "#print(colors)\n",
    "dim = 2 # dimension of feature space\n",
    "n = 40 # points per cluster\n",
    "# set true centroids with kmeans\n",
    "trueCentroids = kmeans_centroids\n",
    "data = data_13_14\n",
    "data['hour'] = data.index.map(lambda x: x[11:])\n",
    "\n",
    "if dim==2:\n",
    "    plt.figure(figsize=(12,10))\n",
    "    # time series\n",
    "    #plt.plot(data['hour'], trueCentroids[:,1], color=colors[:len(trueCentroids)])\n",
    "    # scatter plot the centroids\n",
    "    plt.scatter(trueCentroids[:,0],trueCentroids[:,1], color=colors[:len(trueCentroids)])\n",
    "    plt.xlim(-1000,30000)\n",
    "    plt.ylim(-1000,30000)\n",
    "    plt.show()"
   ]
  },
  {
   "cell_type": "code",
   "execution_count": 28,
   "metadata": {},
   "outputs": [
    {
     "data": {
      "image/png": "[encoded data removed]",
      "text/plain": [
       "<Figure size 432x288 with 1 Axes>"
      ]
     },
     "metadata": {
      "needs_background": "light"
     },
     "output_type": "display_data"
    },
    {
     "data": {
      "text/plain": [
       "<Figure size 1440x1440 with 0 Axes>"
      ]
     },
     "metadata": {},
     "output_type": "display_data"
    }
   ],
   "source": [
    "# graph every client energy usage\n",
    "fig, ax = plt.subplots()\n",
    "# loop through every client\n",
    "for client in data:\n",
    "    if client != 'hour':\n",
    "        ax.plot(data['hour'], data[client],  'o', label=client)\n",
    "        #for J in range(2*365):\n",
    "            #X.extend([np.array(oneClient[J*96:(J+1)*96])])#/np.mean(oneClient[J*96:(J+1)*96])]) \n",
    "\n",
    "plt.figure(figsize=(20,20))\n",
    "ax.set_title('Energy Use of Every Client')\n",
    "ax.set_xlabel('Time (2013 - 2014)')\n",
    "ax.set_ylabel('Energy Output')\n",
    "plt.show()"
   ]
  },
  {
   "cell_type": "markdown",
   "metadata": {},
   "source": [
    "## Analysis\n",
    "Looking at the elbow graph, the number of clusters that best represent the data is 3 since the graph bends there. Furthermore, looking at the silhouette scores, "
   ]
  },
  {
   "cell_type": "markdown",
   "metadata": {
    "colab_type": "text",
    "id": "HnJC0E1RnALW"
   },
   "source": [
    "**Q2: (8 marks)**\n",
    "\n",
    "In this exercise you work with the daily curves of 1 single client.\n",
    "First, create a list of arrays, each array containing a curve for a day. You may use X from the cells above.\n",
    "    X = average_curves_norm.copy() \n",
    "The list contains 730 arrays, one for each of the days of 2013 and 2014.\n",
    "\n",
    "a. Determine the optimal value of k ( number of clusters). This time you may also perform silhoutte analysis as stated in the module. Carrying out silhoutte analysis is left as an exercise. What do you understand about the clusters? \n",
    "\n",
    "b. Based on your results from your analyses of both methods, what do understand?  Interpret it perhaps with different perspectives of timelines like weeks or months."
   ]
  },
  {
   "cell_type": "markdown",
   "metadata": {
    "colab_type": "text",
    "id": "FaNz6HBlnALZ"
   },
   "source": [
    "#### The following cell generates a list of all the days in the two years 2013-2014, which is helpful to answer part (b).  The cells below are only to give you a headstart.  You may or may not use these and come up with your own interpretation.\n"
   ]
  },
  {
   "cell_type": "code",
   "execution_count": 29,
   "metadata": {
    "colab": {},
    "colab_type": "code",
    "id": "GFAdtF0mnALb"
   },
   "outputs": [],
   "source": [
    "from datetime import date, timedelta\n",
    "\n",
    "d1 = date(2013, 1, 1)  # start date\n",
    "d2 = date(2014, 12, 31)  # end date\n",
    "delta = d2 - d1         # timedelta\n",
    "daysyear = []\n",
    "D = {0:'mon', 1:'tue', 2:'wed', 3:'thu', 4:'fri', 5:'sat', 6:'sun'}\n",
    "for i in range(delta.days + 1):\n",
    "    daysyear.extend([D[(d1 + timedelta(days=i)).weekday()]+\"-\"+str(d1 + timedelta(days=i))])"
   ]
  },
  {
   "cell_type": "code",
   "execution_count": 30,
   "metadata": {},
   "outputs": [
    {
     "data": {
      "text/html": [
       "<div>\n",
       "<style scoped>\n",
       "    .dataframe tbody tr th:only-of-type {\n",
       "        vertical-align: middle;\n",
       "    }\n",
       "\n",
       "    .dataframe tbody tr th {\n",
       "        vertical-align: top;\n",
       "    }\n",
       "\n",
       "    .dataframe thead th {\n",
       "        text-align: right;\n",
       "    }\n",
       "</style>\n",
       "<table border=\"1\" class=\"dataframe\">\n",
       "  <thead>\n",
       "    <tr style=\"text-align: right;\">\n",
       "      <th></th>\n",
       "      <th>MT_001</th>\n",
       "      <th>MT_002</th>\n",
       "      <th>MT_003</th>\n",
       "      <th>MT_004</th>\n",
       "      <th>MT_005</th>\n",
       "      <th>MT_006</th>\n",
       "      <th>MT_007</th>\n",
       "      <th>MT_008</th>\n",
       "      <th>MT_009</th>\n",
       "      <th>MT_010</th>\n",
       "      <th>...</th>\n",
       "      <th>MT_361</th>\n",
       "      <th>MT_362</th>\n",
       "      <th>MT_363</th>\n",
       "      <th>MT_364</th>\n",
       "      <th>MT_365</th>\n",
       "      <th>MT_366</th>\n",
       "      <th>MT_367</th>\n",
       "      <th>MT_368</th>\n",
       "      <th>MT_369</th>\n",
       "      <th>MT_370</th>\n",
       "    </tr>\n",
       "    <tr>\n",
       "      <th>hour</th>\n",
       "      <th></th>\n",
       "      <th></th>\n",
       "      <th></th>\n",
       "      <th></th>\n",
       "      <th></th>\n",
       "      <th></th>\n",
       "      <th></th>\n",
       "      <th></th>\n",
       "      <th></th>\n",
       "      <th></th>\n",
       "      <th></th>\n",
       "      <th></th>\n",
       "      <th></th>\n",
       "      <th></th>\n",
       "      <th></th>\n",
       "      <th></th>\n",
       "      <th></th>\n",
       "      <th></th>\n",
       "      <th></th>\n",
       "      <th></th>\n",
       "      <th></th>\n",
       "    </tr>\n",
       "  </thead>\n",
       "  <tbody>\n",
       "    <tr>\n",
       "      <th>00:00:00</th>\n",
       "      <td>0.964792</td>\n",
       "      <td>0.926674</td>\n",
       "      <td>0.991800</td>\n",
       "      <td>1.140106</td>\n",
       "      <td>1.186498</td>\n",
       "      <td>1.008914</td>\n",
       "      <td>1.170686</td>\n",
       "      <td>0.946572</td>\n",
       "      <td>0.983915</td>\n",
       "      <td>0.948867</td>\n",
       "      <td>...</td>\n",
       "      <td>0.414676</td>\n",
       "      <td>0.748555</td>\n",
       "      <td>0.561491</td>\n",
       "      <td>0.430085</td>\n",
       "      <td>0.471574</td>\n",
       "      <td>1.358632</td>\n",
       "      <td>1.215272</td>\n",
       "      <td>1.170441</td>\n",
       "      <td>0.974307</td>\n",
       "      <td>0.992967</td>\n",
       "    </tr>\n",
       "    <tr>\n",
       "      <th>00:15:00</th>\n",
       "      <td>0.947378</td>\n",
       "      <td>0.919117</td>\n",
       "      <td>0.977796</td>\n",
       "      <td>1.099159</td>\n",
       "      <td>1.131703</td>\n",
       "      <td>0.946419</td>\n",
       "      <td>1.118666</td>\n",
       "      <td>0.909376</td>\n",
       "      <td>0.953996</td>\n",
       "      <td>0.924425</td>\n",
       "      <td>...</td>\n",
       "      <td>0.414381</td>\n",
       "      <td>0.662602</td>\n",
       "      <td>0.412336</td>\n",
       "      <td>0.375704</td>\n",
       "      <td>0.423108</td>\n",
       "      <td>1.365299</td>\n",
       "      <td>1.184899</td>\n",
       "      <td>1.223818</td>\n",
       "      <td>0.969266</td>\n",
       "      <td>1.000548</td>\n",
       "    </tr>\n",
       "    <tr>\n",
       "      <th>00:30:00</th>\n",
       "      <td>0.960104</td>\n",
       "      <td>0.880744</td>\n",
       "      <td>0.976579</td>\n",
       "      <td>1.061641</td>\n",
       "      <td>1.090238</td>\n",
       "      <td>0.905552</td>\n",
       "      <td>1.081459</td>\n",
       "      <td>0.881217</td>\n",
       "      <td>0.931614</td>\n",
       "      <td>0.908674</td>\n",
       "      <td>...</td>\n",
       "      <td>0.386706</td>\n",
       "      <td>0.561815</td>\n",
       "      <td>0.395294</td>\n",
       "      <td>0.344682</td>\n",
       "      <td>0.386975</td>\n",
       "      <td>1.312627</td>\n",
       "      <td>1.177781</td>\n",
       "      <td>1.211343</td>\n",
       "      <td>0.947969</td>\n",
       "      <td>1.008515</td>\n",
       "    </tr>\n",
       "    <tr>\n",
       "      <th>00:45:00</th>\n",
       "      <td>0.959434</td>\n",
       "      <td>0.877243</td>\n",
       "      <td>0.971708</td>\n",
       "      <td>1.030153</td>\n",
       "      <td>1.053960</td>\n",
       "      <td>0.868064</td>\n",
       "      <td>1.056382</td>\n",
       "      <td>0.855331</td>\n",
       "      <td>0.907404</td>\n",
       "      <td>0.885073</td>\n",
       "      <td>...</td>\n",
       "      <td>0.337499</td>\n",
       "      <td>0.499651</td>\n",
       "      <td>0.352628</td>\n",
       "      <td>0.295219</td>\n",
       "      <td>0.377024</td>\n",
       "      <td>1.245171</td>\n",
       "      <td>1.156699</td>\n",
       "      <td>1.189829</td>\n",
       "      <td>0.937889</td>\n",
       "      <td>1.007613</td>\n",
       "    </tr>\n",
       "    <tr>\n",
       "      <th>01:00:00</th>\n",
       "      <td>0.956085</td>\n",
       "      <td>0.841989</td>\n",
       "      <td>0.953443</td>\n",
       "      <td>0.975761</td>\n",
       "      <td>1.024347</td>\n",
       "      <td>0.822656</td>\n",
       "      <td>1.030838</td>\n",
       "      <td>0.830275</td>\n",
       "      <td>0.888265</td>\n",
       "      <td>0.869041</td>\n",
       "      <td>...</td>\n",
       "      <td>0.318475</td>\n",
       "      <td>0.422753</td>\n",
       "      <td>0.342066</td>\n",
       "      <td>0.288892</td>\n",
       "      <td>0.369187</td>\n",
       "      <td>1.292298</td>\n",
       "      <td>1.149629</td>\n",
       "      <td>1.167326</td>\n",
       "      <td>0.931284</td>\n",
       "      <td>1.006770</td>\n",
       "    </tr>\n",
       "  </tbody>\n",
       "</table>\n",
       "<p>5 rows × 349 columns</p>\n",
       "</div>"
      ],
      "text/plain": [
       "            MT_001    MT_002    MT_003    MT_004    MT_005    MT_006  \\\n",
       "hour                                                                   \n",
       "00:00:00  0.964792  0.926674  0.991800  1.140106  1.186498  1.008914   \n",
       "00:15:00  0.947378  0.919117  0.977796  1.099159  1.131703  0.946419   \n",
       "00:30:00  0.960104  0.880744  0.976579  1.061641  1.090238  0.905552   \n",
       "00:45:00  0.959434  0.877243  0.971708  1.030153  1.053960  0.868064   \n",
       "01:00:00  0.956085  0.841989  0.953443  0.975761  1.024347  0.822656   \n",
       "\n",
       "            MT_007    MT_008    MT_009    MT_010  ...    MT_361    MT_362  \\\n",
       "hour                                              ...                       \n",
       "00:00:00  1.170686  0.946572  0.983915  0.948867  ...  0.414676  0.748555   \n",
       "00:15:00  1.118666  0.909376  0.953996  0.924425  ...  0.414381  0.662602   \n",
       "00:30:00  1.081459  0.881217  0.931614  0.908674  ...  0.386706  0.561815   \n",
       "00:45:00  1.056382  0.855331  0.907404  0.885073  ...  0.337499  0.499651   \n",
       "01:00:00  1.030838  0.830275  0.888265  0.869041  ...  0.318475  0.422753   \n",
       "\n",
       "            MT_363    MT_364    MT_365    MT_366    MT_367    MT_368  \\\n",
       "hour                                                                   \n",
       "00:00:00  0.561491  0.430085  0.471574  1.358632  1.215272  1.170441   \n",
       "00:15:00  0.412336  0.375704  0.423108  1.365299  1.184899  1.223818   \n",
       "00:30:00  0.395294  0.344682  0.386975  1.312627  1.177781  1.211343   \n",
       "00:45:00  0.352628  0.295219  0.377024  1.245171  1.156699  1.189829   \n",
       "01:00:00  0.342066  0.288892  0.369187  1.292298  1.149629  1.167326   \n",
       "\n",
       "            MT_369    MT_370  \n",
       "hour                          \n",
       "00:00:00  0.974307  0.992967  \n",
       "00:15:00  0.969266  1.000548  \n",
       "00:30:00  0.947969  1.008515  \n",
       "00:45:00  0.937889  1.007613  \n",
       "01:00:00  0.931284  1.006770  \n",
       "\n",
       "[5 rows x 349 columns]"
      ]
     },
     "execution_count": 30,
     "metadata": {},
     "output_type": "execute_result"
    }
   ],
   "source": [
    "X = average_curves_norm.copy() \n",
    "X.head(5)"
   ]
  },
  {
   "cell_type": "code",
   "execution_count": 31,
   "metadata": {},
   "outputs": [
    {
     "data": {
      "image/png": "[encoded data removed]",
      "text/plain": [
       "<Figure size 864x720 with 1 Axes>"
      ]
     },
     "metadata": {
      "needs_background": "light"
     },
     "output_type": "display_data"
    }
   ],
   "source": [
    "# use client MT_022\n",
    "client = 'MT_022'\n",
    "data = data_13_14\n",
    "data['hour'] = data.index.map(lambda x: x[11:])\n",
    "oneClient = data[client]\n",
    "\n",
    "X = [] # a list of arrays, each array being a normalized curve for a day\n",
    "for J in range(2*365):\n",
    "    X.extend([np.array(oneClient[J*96:(J+1)*96])])#/np.mean(oneClient[J*96:(J+1)*96])]) \n",
    "\n",
    "#print('x', X)\n",
    "\n",
    "# total squared errors\n",
    "total_squared_error = []\n",
    "\n",
    "# loop through nodes 1 to 11\n",
    "for i in range(1, 11):\n",
    "    kmeans = KMeans(n_clusters=i, init='k-means++', max_iter=300, n_init=10)\n",
    "    kmeans.fit(X)\n",
    "    total_squared_error.append(kmeans.inertia_)\n",
    "\n",
    "# plot kmeans\n",
    "plt.figure(figsize=(12,10))\n",
    "plt.plot(range(1, 11), total_squared_error)\n",
    "plt.title('Total Error vs. Number of Clusters (Elbow Method)')\n",
    "plt.xlabel('k')\n",
    "plt.ylabel('Total Squared Error')\n",
    "plt.show()"
   ]
  },
  {
   "cell_type": "code",
   "execution_count": 32,
   "metadata": {},
   "outputs": [
    {
     "name": "stdout",
     "output_type": "stream",
     "text": [
      "cluster 2 silhouette score =  0.5011374240143706\n",
      "cluster 3 silhouette score =  0.28219774161561895\n",
      "cluster 4 silhouette score =  0.2809197902174719\n",
      "cluster 5 silhouette score =  0.2196591577577872\n",
      "cluster 6 silhouette score =  0.19130102609088037\n",
      "cluster 7 silhouette score =  0.19110553294674834\n",
      "cluster 8 silhouette score =  0.18228945938505678\n",
      "cluster 9 silhouette score =  0.18267141805423623\n",
      "cluster 10 silhouette score =  0.18360699079201817\n"
     ]
    }
   ],
   "source": [
    "# calculate the silhouette scores of each cluster\n",
    "for cluster in range(2, 11):\n",
    "    kmeans_model = KMeans(n_clusters=cluster, random_state=1).fit(X)\n",
    "    labels = kmeans_model.labels_\n",
    "    silhouette_score = metrics.silhouette_score(X, labels, metric='euclidean')\n",
    "    print(\"cluster\", cluster, \"silhouette score = \", silhouette_score)"
   ]
  },
  {
   "cell_type": "markdown",
   "metadata": {},
   "source": [
    "## 2a\n",
    "### Analysis\n",
    "#### Client MT_022\n",
    "Using the Elbow Method and observing the graph, we can see a clear bend when k = 2 or at 2 clusters. After the graph reaches 2 clusters, the rate of decrease is significantly reduced. \n",
    "\n",
    "Furthermore, when calculating the silhouette scores of the clusters we can see that at cluster 2 there is a silhouette score of 0.501, at 3 clusters there is a score of 0.282, and at 4 clusters there is a score of 0.281. We can conclude that 2 clusters best represent Client MT_022 because of the higher silhouette score. Every score after is significantly lower and will have worse results."
   ]
  },
  {
   "cell_type": "code",
   "execution_count": 33,
   "metadata": {
    "scrolled": true
   },
   "outputs": [],
   "source": [
    "# MT_022\n",
    "data = data_13_14\n",
    "data['hour'] = data.index.map(lambda x: x[11:])\n",
    "\n",
    "# set oneClient to MT_022 data\n",
    "oneClient = data[client]\n",
    "\n",
    "# create day list array\n",
    "day_list = []\n",
    "for i, x in enumerate(oneClient):\n",
    "    # convert time stamp to day of week\n",
    "    date_time = datetime.strptime(oneClient.index[i], '%Y-%m-%d %H:%M:%S')\n",
    "    day_list.append(date_time.weekday())\n",
    "\n",
    "# set column to day_list data\n",
    "data['day'] = day_list\n",
    "\n",
    "# create timeseries df\n",
    "client_ts = data['day']\n",
    "client_ts.index = pd.to_datetime(client_ts.index)"
   ]
  },
  {
   "cell_type": "code",
   "execution_count": 34,
   "metadata": {},
   "outputs": [
    {
     "data": {
      "image/png": "[encoded data removed]",
      "text/plain": [
       "<Figure size 864x864 with 1 Axes>"
      ]
     },
     "metadata": {
      "needs_background": "light"
     },
     "output_type": "display_data"
    }
   ],
   "source": [
    "# plot daily time series of MT_022\n",
    "client_ts = data['day']\n",
    "client_ts = client_ts.resample('D').mean()\n",
    "plt.figure(figsize=(12,12))\n",
    "ax=client_ts.plot()\n",
    "ax.set_xlabel('Date (Daily)')\n",
    "ax.set_ylabel('Energy Output')\n",
    "\n",
    "plt.show()"
   ]
  },
  {
   "cell_type": "markdown",
   "metadata": {},
   "source": [
    "## Daily\n",
    "Looking at the daily data, we can see that the energy usage is very consistent throughout the years of 2013 to 2014."
   ]
  },
  {
   "cell_type": "code",
   "execution_count": 35,
   "metadata": {},
   "outputs": [
    {
     "data": {
      "image/png": "[encoded data removed]",
      "text/plain": [
       "<Figure size 864x864 with 1 Axes>"
      ]
     },
     "metadata": {
      "needs_background": "light"
     },
     "output_type": "display_data"
    }
   ],
   "source": [
    "# plot weekly time series of MT_022\n",
    "client_ts = data['day']\n",
    "client_ts = client_ts.resample('W').mean()\n",
    "plt.figure(figsize=(12,12))\n",
    "ax=client_ts.plot()\n",
    "ax.set_xlabel('Date (Weekly)')\n",
    "ax.set_ylabel('Energy Output')\n",
    "plt.show()"
   ]
  },
  {
   "cell_type": "markdown",
   "metadata": {},
   "source": [
    "## Weekly\n",
    "Looking at the weekly time series, we can see that weekly energy usage is very consistent."
   ]
  },
  {
   "cell_type": "code",
   "execution_count": 36,
   "metadata": {},
   "outputs": [
    {
     "data": {
      "image/png": "[encoded data removed]",
      "text/plain": [
       "<Figure size 864x864 with 1 Axes>"
      ]
     },
     "metadata": {
      "needs_background": "light"
     },
     "output_type": "display_data"
    }
   ],
   "source": [
    "# plot monthly time series of MT_022\n",
    "client_ts = data['day']\n",
    "client_ts = client_ts.resample('M').mean()\n",
    "plt.figure(figsize=(12,12))\n",
    "ax=client_ts.plot()\n",
    "ax.set_xlabel('Date (Monthly)')\n",
    "ax.set_ylabel('Energy Output')\n",
    "plt.show()"
   ]
  },
  {
   "cell_type": "markdown",
   "metadata": {},
   "source": [
    "## Monthly\n",
    "Looking at the monthly data, we can see a much different result from the previous time series graphs. We can see an decrease of energy in the leading months up to April, July, and October. In between those months we see a significant increase of energy usage. We can see that energy only decreases when spring approaches, mid summer approaches and when fall begins. However, in 2014 we can see a significant use of energy in the early months compared to 2013."
   ]
  },
  {
   "cell_type": "markdown",
   "metadata": {},
   "source": [
    "## Analysis\n",
    "\n",
    "After looking at the timeseries, it makes sense to use 2 clusters of data since 2013 and 2014 data are different when compared. Although they follow a similar trend, we must separate this data since the year to year comparison has a lot of variance. The weekly and daily timeseries data seems almost irrelevant since they look consistent through the years. We should be using the yearly data as clusters."
   ]
  }
 ],
 "metadata": {
  "colab": {
   "collapsed_sections": [],
   "name": "Assignment2- Clustering_July7.ipynb",
   "provenance": [],
   "version": "0.3.2"
  },
  "kernelspec": {
   "display_name": "Python 3 (ipykernel)",
   "language": "python",
   "name": "python3"
  },
  "language_info": {
   "codemirror_mode": {
    "name": "ipython",
    "version": 3
   },
   "file_extension": ".py",
   "mimetype": "text/x-python",
   "name": "python",
   "nbconvert_exporter": "python",
   "pygments_lexer": "ipython3",
   "version": "3.9.7"
  }
 },
 "nbformat": 4,
 "nbformat_minor": 1
}
