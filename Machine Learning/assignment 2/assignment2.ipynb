{
 "cells": [
  {
   "cell_type": "markdown",
   "metadata": {
    "colab_type": "text",
    "id": "D9UboDIvnAKI"
   },
   "source": [
    "## Assignment 2 - Clustering"
   ]
  },
  {
   "cell_type": "markdown",
   "metadata": {
    "colab_type": "text",
    "id": "5AibtmcInAKK"
   },
   "source": [
    "## Learning Outcomes\n",
    "\n",
    "In this assignment, you will do the following:\n",
    "\n",
    "* Explore a dataset and carry out clustering using k-means algorithm\n",
    "\n",
    "* Identify the optimum number of clusters for a given dataset\n",
    "\n"
   ]
  },
  {
   "cell_type": "markdown",
   "metadata": {
    "colab_type": "text",
    "id": "TJBMBFfAnAKK"
   },
   "source": [
    "## Problem Description\n",
    "\n",
    "In this assignment, you will study the electricity demand from clients in Portugal, during 2013 and 2014. You have been provided with the data file, which you should download when you download this assignment file.\n",
    "\n",
    "The data$^1$ available contains 370 time series, corresponding to the electric demand$^2$ for 370 clients, between 2011 and 2014. \n",
    "\n",
    "In this guided exercise, you will use clustering techniques to understand the typical usage behaviour during 2013-2014.\n",
    "\n",
    "Both these datasets are publicly available, and can be used to carry out experiments. Their source is below:\n",
    "\n",
    " 1. Data:\n",
    "https://archive.ics.uci.edu/ml/datasets/ElectricityLoadDiagrams20112014#\n",
    "\n",
    " 2. Electric Demand:\n",
    "http://www.think-energy.net/KWvsKWH.htm\n",
    "\n",
    "We will start by exploring the data set and continue on to the assignment.  Consider this as a working notebook, you will add your work to the same notebook.\n",
    "\n",
    "In this assignment we will use the sklearn package for k-means.  Please refer here for the documentation https://scikit-learn.org/stable/modules/generated/sklearn.cluster.KMeans.html\n",
    "(https://scikit-learn.org/stable/modules/generated/sklearn.cluster.KMeans.html).\n",
    "\n",
    "The sklearn package for k-means is one of the many clustering algorithms found in the module \"sklearn.cluster\".  These come with a variety of functions that you can call by importing the package.\n",
    "\n",
    "For example \n",
    "    \n",
    "    from sklearn.cluster import AgglomerativeClustering\n",
    "    from sklearn.cluster import KMeans\n",
    "\n"
   ]
  },
  {
   "cell_type": "markdown",
   "metadata": {
    "colab_type": "text",
    "id": "u0fHlteBnAKL"
   },
   "source": [
    "## Data Preparation\n",
    "\n",
    "Start by downloading the data to a local directory and modify the \"pathToFile\" and \"fileName\" variables, if needed. The data file has been provided with this assignment. It is also available at the links provided above."
   ]
  },
  {
   "cell_type": "code",
   "execution_count": 0,
   "metadata": {
    "colab": {},
    "colab_type": "code",
    "id": "0DJsRL9_nAKM"
   },
   "outputs": [],
   "source": [
    "pathToFile = r\"C:\\\\path\\\\to\\\\file\\\\\"\n",
    "#pathToFile = r\"C:\\\\Users\\\\<your username>\\\\Downloads\\\\\"\n",
    "\n",
    "fileName = 'LD2011_2014.txt'"
   ]
  },
  {
   "cell_type": "code",
   "execution_count": 0,
   "metadata": {
    "colab": {},
    "colab_type": "code",
    "id": "yLxHF5B-nAKP"
   },
   "outputs": [],
   "source": [
    "import numpy as np\n",
    "from sklearn.cluster import KMeans\n",
    "import matplotlib.pyplot as plt\n",
    "import random\n",
    "from sklearn.metrics import silhouette_score\n",
    "from sklearn.cluster import AgglomerativeClustering\n",
    "random.seed(42)"
   ]
  },
  {
   "cell_type": "code",
   "execution_count": 0,
   "metadata": {
    "colab": {},
    "colab_type": "code",
    "id": "6c6CmGbYnAKR"
   },
   "outputs": [],
   "source": [
    "# Replace \",\" by \".\", otherwise the numbers will be in the form 2,3445 instead of 2.3445\n",
    "import fileinput\n",
    "\n",
    "with fileinput.FileInput(pathToFile+fileName, inplace=True, backup='.bak') as file:\n",
    "    for line in file:\n",
    "        print(line.replace(\",\", \".\"), end='')"
   ]
  },
  {
   "cell_type": "code",
   "execution_count": 0,
   "metadata": {
    "colab": {},
    "colab_type": "code",
    "id": "ACTUfls8nAKU"
   },
   "outputs": [],
   "source": [
    "# Create dataframe\n",
    "import pandas as pd\n",
    "data = pd.read_csv(pathToFile+fileName, sep=\";\", index_col=0)"
   ]
  },
  {
   "cell_type": "markdown",
   "metadata": {
    "colab_type": "text",
    "id": "CfULOBctnAKW"
   },
   "source": [
    "### Quick data inspection"
   ]
  },
  {
   "cell_type": "code",
   "execution_count": 0,
   "metadata": {
    "colab": {},
    "colab_type": "code",
    "id": "x3OHI8vRnAKX",
    "outputId": "c821694f-6e8f-48ad-ff42-336915cb4da4"
   },
   "outputs": [
    {
     "data": {
      "text/html": [
       "<div>\n",
       "<style>\n",
       "    .dataframe thead tr:only-child th {\n",
       "        text-align: right;\n",
       "    }\n",
       "\n",
       "    .dataframe thead th {\n",
       "        text-align: left;\n",
       "    }\n",
       "\n",
       "    .dataframe tbody tr th {\n",
       "        vertical-align: top;\n",
       "    }\n",
       "</style>\n",
       "<table border=\"1\" class=\"dataframe\">\n",
       "  <thead>\n",
       "    <tr style=\"text-align: right;\">\n",
       "      <th></th>\n",
       "      <th>MT_001</th>\n",
       "      <th>MT_002</th>\n",
       "      <th>MT_003</th>\n",
       "      <th>MT_004</th>\n",
       "      <th>MT_005</th>\n",
       "      <th>MT_006</th>\n",
       "      <th>MT_007</th>\n",
       "      <th>MT_008</th>\n",
       "      <th>MT_009</th>\n",
       "      <th>MT_010</th>\n",
       "      <th>...</th>\n",
       "      <th>MT_361</th>\n",
       "      <th>MT_362</th>\n",
       "      <th>MT_363</th>\n",
       "      <th>MT_364</th>\n",
       "      <th>MT_365</th>\n",
       "      <th>MT_366</th>\n",
       "      <th>MT_367</th>\n",
       "      <th>MT_368</th>\n",
       "      <th>MT_369</th>\n",
       "      <th>MT_370</th>\n",
       "    </tr>\n",
       "  </thead>\n",
       "  <tbody>\n",
       "    <tr>\n",
       "      <th>2011-01-01 00:15:00</th>\n",
       "      <td>0.0</td>\n",
       "      <td>0.0</td>\n",
       "      <td>0.0</td>\n",
       "      <td>0.0</td>\n",
       "      <td>0.0</td>\n",
       "      <td>0.0</td>\n",
       "      <td>0.0</td>\n",
       "      <td>0.0</td>\n",
       "      <td>0.0</td>\n",
       "      <td>0.0</td>\n",
       "      <td>...</td>\n",
       "      <td>0.0</td>\n",
       "      <td>0.0</td>\n",
       "      <td>0.0</td>\n",
       "      <td>0.0</td>\n",
       "      <td>0.0</td>\n",
       "      <td>0.0</td>\n",
       "      <td>0.0</td>\n",
       "      <td>0.0</td>\n",
       "      <td>0.0</td>\n",
       "      <td>0.0</td>\n",
       "    </tr>\n",
       "    <tr>\n",
       "      <th>2011-01-01 00:30:00</th>\n",
       "      <td>0.0</td>\n",
       "      <td>0.0</td>\n",
       "      <td>0.0</td>\n",
       "      <td>0.0</td>\n",
       "      <td>0.0</td>\n",
       "      <td>0.0</td>\n",
       "      <td>0.0</td>\n",
       "      <td>0.0</td>\n",
       "      <td>0.0</td>\n",
       "      <td>0.0</td>\n",
       "      <td>...</td>\n",
       "      <td>0.0</td>\n",
       "      <td>0.0</td>\n",
       "      <td>0.0</td>\n",
       "      <td>0.0</td>\n",
       "      <td>0.0</td>\n",
       "      <td>0.0</td>\n",
       "      <td>0.0</td>\n",
       "      <td>0.0</td>\n",
       "      <td>0.0</td>\n",
       "      <td>0.0</td>\n",
       "    </tr>\n",
       "  </tbody>\n",
       "</table>\n",
       "<p>2 rows × 370 columns</p>\n",
       "</div>"
      ],
      "text/plain": [
       "                     MT_001  MT_002  MT_003  MT_004  MT_005  MT_006  MT_007  \\\n",
       "2011-01-01 00:15:00     0.0     0.0     0.0     0.0     0.0     0.0     0.0   \n",
       "2011-01-01 00:30:00     0.0     0.0     0.0     0.0     0.0     0.0     0.0   \n",
       "\n",
       "                     MT_008  MT_009  MT_010   ...    MT_361  MT_362  MT_363  \\\n",
       "2011-01-01 00:15:00     0.0     0.0     0.0   ...       0.0     0.0     0.0   \n",
       "2011-01-01 00:30:00     0.0     0.0     0.0   ...       0.0     0.0     0.0   \n",
       "\n",
       "                     MT_364  MT_365  MT_366  MT_367  MT_368  MT_369  MT_370  \n",
       "2011-01-01 00:15:00     0.0     0.0     0.0     0.0     0.0     0.0     0.0  \n",
       "2011-01-01 00:30:00     0.0     0.0     0.0     0.0     0.0     0.0     0.0  \n",
       "\n",
       "[2 rows x 370 columns]"
      ]
     },
     "execution_count": 5,
     "metadata": {
      "tags": []
     },
     "output_type": "execute_result"
    }
   ],
   "source": [
    "data.head(2)"
   ]
  },
  {
   "cell_type": "code",
   "execution_count": 0,
   "metadata": {
    "colab": {},
    "colab_type": "code",
    "id": "BtQvkYF_nAKd",
    "outputId": "9598f8f3-b53a-49ce-d97f-51d562f582d0"
   },
   "outputs": [
    {
     "data": {
      "text/html": [
       "<div>\n",
       "<style>\n",
       "    .dataframe thead tr:only-child th {\n",
       "        text-align: right;\n",
       "    }\n",
       "\n",
       "    .dataframe thead th {\n",
       "        text-align: left;\n",
       "    }\n",
       "\n",
       "    .dataframe tbody tr th {\n",
       "        vertical-align: top;\n",
       "    }\n",
       "</style>\n",
       "<table border=\"1\" class=\"dataframe\">\n",
       "  <thead>\n",
       "    <tr style=\"text-align: right;\">\n",
       "      <th></th>\n",
       "      <th>MT_001</th>\n",
       "      <th>MT_002</th>\n",
       "      <th>MT_003</th>\n",
       "      <th>MT_004</th>\n",
       "      <th>MT_005</th>\n",
       "      <th>MT_006</th>\n",
       "      <th>MT_007</th>\n",
       "      <th>MT_008</th>\n",
       "      <th>MT_009</th>\n",
       "      <th>MT_010</th>\n",
       "      <th>...</th>\n",
       "      <th>MT_361</th>\n",
       "      <th>MT_362</th>\n",
       "      <th>MT_363</th>\n",
       "      <th>MT_364</th>\n",
       "      <th>MT_365</th>\n",
       "      <th>MT_366</th>\n",
       "      <th>MT_367</th>\n",
       "      <th>MT_368</th>\n",
       "      <th>MT_369</th>\n",
       "      <th>MT_370</th>\n",
       "    </tr>\n",
       "  </thead>\n",
       "  <tbody>\n",
       "    <tr>\n",
       "      <th>2014-12-31 23:45:00</th>\n",
       "      <td>1.269036</td>\n",
       "      <td>21.337127</td>\n",
       "      <td>1.737619</td>\n",
       "      <td>166.666667</td>\n",
       "      <td>85.365854</td>\n",
       "      <td>285.714286</td>\n",
       "      <td>10.17524</td>\n",
       "      <td>225.589226</td>\n",
       "      <td>64.685315</td>\n",
       "      <td>72.043011</td>\n",
       "      <td>...</td>\n",
       "      <td>246.252677</td>\n",
       "      <td>28000.0</td>\n",
       "      <td>1443.037975</td>\n",
       "      <td>909.090909</td>\n",
       "      <td>26.075619</td>\n",
       "      <td>4.095963</td>\n",
       "      <td>664.618086</td>\n",
       "      <td>146.911519</td>\n",
       "      <td>646.627566</td>\n",
       "      <td>6540.540541</td>\n",
       "    </tr>\n",
       "    <tr>\n",
       "      <th>2015-01-01 00:00:00</th>\n",
       "      <td>2.538071</td>\n",
       "      <td>19.914651</td>\n",
       "      <td>1.737619</td>\n",
       "      <td>178.861789</td>\n",
       "      <td>84.146341</td>\n",
       "      <td>279.761905</td>\n",
       "      <td>10.17524</td>\n",
       "      <td>249.158249</td>\n",
       "      <td>62.937063</td>\n",
       "      <td>69.892473</td>\n",
       "      <td>...</td>\n",
       "      <td>188.436831</td>\n",
       "      <td>27800.0</td>\n",
       "      <td>1409.282700</td>\n",
       "      <td>954.545455</td>\n",
       "      <td>27.379400</td>\n",
       "      <td>4.095963</td>\n",
       "      <td>628.621598</td>\n",
       "      <td>131.886477</td>\n",
       "      <td>673.020528</td>\n",
       "      <td>7135.135135</td>\n",
       "    </tr>\n",
       "  </tbody>\n",
       "</table>\n",
       "<p>2 rows × 370 columns</p>\n",
       "</div>"
      ],
      "text/plain": [
       "                       MT_001     MT_002    MT_003      MT_004     MT_005  \\\n",
       "2014-12-31 23:45:00  1.269036  21.337127  1.737619  166.666667  85.365854   \n",
       "2015-01-01 00:00:00  2.538071  19.914651  1.737619  178.861789  84.146341   \n",
       "\n",
       "                         MT_006    MT_007      MT_008     MT_009     MT_010  \\\n",
       "2014-12-31 23:45:00  285.714286  10.17524  225.589226  64.685315  72.043011   \n",
       "2015-01-01 00:00:00  279.761905  10.17524  249.158249  62.937063  69.892473   \n",
       "\n",
       "                        ...           MT_361   MT_362       MT_363  \\\n",
       "2014-12-31 23:45:00     ...       246.252677  28000.0  1443.037975   \n",
       "2015-01-01 00:00:00     ...       188.436831  27800.0  1409.282700   \n",
       "\n",
       "                         MT_364     MT_365    MT_366      MT_367      MT_368  \\\n",
       "2014-12-31 23:45:00  909.090909  26.075619  4.095963  664.618086  146.911519   \n",
       "2015-01-01 00:00:00  954.545455  27.379400  4.095963  628.621598  131.886477   \n",
       "\n",
       "                         MT_369       MT_370  \n",
       "2014-12-31 23:45:00  646.627566  6540.540541  \n",
       "2015-01-01 00:00:00  673.020528  7135.135135  \n",
       "\n",
       "[2 rows x 370 columns]"
      ]
     },
     "execution_count": 6,
     "metadata": {
      "tags": []
     },
     "output_type": "execute_result"
    }
   ],
   "source": [
    "data.tail(2)"
   ]
  },
  {
   "cell_type": "code",
   "execution_count": 0,
   "metadata": {
    "colab": {},
    "colab_type": "code",
    "id": "Ydr4AkL9nAKg",
    "outputId": "1b4b50f0-3fc4-4805-8160-d8872a35efae"
   },
   "outputs": [
    {
     "data": {
      "text/plain": [
       "(140256, 370)"
      ]
     },
     "execution_count": 7,
     "metadata": {
      "tags": []
     },
     "output_type": "execute_result"
    }
   ],
   "source": [
    "data.shape"
   ]
  },
  {
   "cell_type": "markdown",
   "metadata": {
    "colab_type": "text",
    "id": "j4xzOoTunAKj"
   },
   "source": [
    "#### As it can be seen, the dataframe contains a row for each interval of 15 minutes between Jan 1, 2011 to Dec 31 2014. There are 370 columns corresponding 370 clients. The dataframe is indexed by the timestamp.\n",
    "\n",
    "Since the frequency is 15 minutes, each day provides $24\\times 4 = 96$ datapoints, which multiplied by 365 days and 4 years (plus 1 day in Feb 29, 2012) gives: $96 \\times 365 \\times 4 + 96 = 140256$, as observed in data.shape"
   ]
  },
  {
   "cell_type": "code",
   "execution_count": 0,
   "metadata": {
    "colab": {},
    "colab_type": "code",
    "id": "K1RXKoAwnAKj",
    "outputId": "a7cfcc67-0a4c-4ee9-8cc9-b6ea80a74d3a"
   },
   "outputs": [
    {
     "name": "stdout",
     "output_type": "stream",
     "text": [
      "<class 'pandas.core.frame.DataFrame'>\n",
      "Index: 140256 entries, 2011-01-01 00:15:00 to 2015-01-01 00:00:00\n",
      "Columns: 370 entries, MT_001 to MT_370\n",
      "dtypes: float64(370)\n",
      "memory usage: 397.0+ MB\n"
     ]
    }
   ],
   "source": [
    "data.info()"
   ]
  },
  {
   "cell_type": "code",
   "execution_count": 0,
   "metadata": {
    "colab": {},
    "colab_type": "code",
    "id": "LqyOk3X6nAKm",
    "outputId": "eb0ccbc7-4bc8-486f-c852-b9385db69abb"
   },
   "outputs": [
    {
     "data": {
      "text/html": [
       "<div>\n",
       "<style>\n",
       "    .dataframe thead tr:only-child th {\n",
       "        text-align: right;\n",
       "    }\n",
       "\n",
       "    .dataframe thead th {\n",
       "        text-align: left;\n",
       "    }\n",
       "\n",
       "    .dataframe tbody tr th {\n",
       "        vertical-align: top;\n",
       "    }\n",
       "</style>\n",
       "<table border=\"1\" class=\"dataframe\">\n",
       "  <thead>\n",
       "    <tr style=\"text-align: right;\">\n",
       "      <th></th>\n",
       "      <th>MT_001</th>\n",
       "      <th>MT_002</th>\n",
       "      <th>MT_003</th>\n",
       "      <th>MT_004</th>\n",
       "      <th>MT_005</th>\n",
       "      <th>MT_006</th>\n",
       "      <th>MT_007</th>\n",
       "      <th>MT_008</th>\n",
       "      <th>MT_009</th>\n",
       "      <th>MT_010</th>\n",
       "      <th>...</th>\n",
       "      <th>MT_361</th>\n",
       "      <th>MT_362</th>\n",
       "      <th>MT_363</th>\n",
       "      <th>MT_364</th>\n",
       "      <th>MT_365</th>\n",
       "      <th>MT_366</th>\n",
       "      <th>MT_367</th>\n",
       "      <th>MT_368</th>\n",
       "      <th>MT_369</th>\n",
       "      <th>MT_370</th>\n",
       "    </tr>\n",
       "  </thead>\n",
       "  <tbody>\n",
       "    <tr>\n",
       "      <th>count</th>\n",
       "      <td>140256.000000</td>\n",
       "      <td>140256.000000</td>\n",
       "      <td>140256.000000</td>\n",
       "      <td>140256.000000</td>\n",
       "      <td>140256.000000</td>\n",
       "      <td>140256.000000</td>\n",
       "      <td>140256.000000</td>\n",
       "      <td>140256.000000</td>\n",
       "      <td>140256.000000</td>\n",
       "      <td>140256.000000</td>\n",
       "      <td>...</td>\n",
       "      <td>140256.000000</td>\n",
       "      <td>140256.000000</td>\n",
       "      <td>140256.000000</td>\n",
       "      <td>140256.000000</td>\n",
       "      <td>140256.000000</td>\n",
       "      <td>140256.000000</td>\n",
       "      <td>140256.000000</td>\n",
       "      <td>140256.000000</td>\n",
       "      <td>140256.000000</td>\n",
       "      <td>140256.000000</td>\n",
       "    </tr>\n",
       "    <tr>\n",
       "      <th>mean</th>\n",
       "      <td>3.970785</td>\n",
       "      <td>20.768480</td>\n",
       "      <td>2.918308</td>\n",
       "      <td>82.184490</td>\n",
       "      <td>37.240309</td>\n",
       "      <td>141.227385</td>\n",
       "      <td>4.521338</td>\n",
       "      <td>191.401476</td>\n",
       "      <td>39.975354</td>\n",
       "      <td>42.205152</td>\n",
       "      <td>...</td>\n",
       "      <td>218.213701</td>\n",
       "      <td>37607.987537</td>\n",
       "      <td>1887.427366</td>\n",
       "      <td>2940.031734</td>\n",
       "      <td>65.413150</td>\n",
       "      <td>9.269709</td>\n",
       "      <td>424.262904</td>\n",
       "      <td>94.704717</td>\n",
       "      <td>625.251734</td>\n",
       "      <td>8722.355145</td>\n",
       "    </tr>\n",
       "    <tr>\n",
       "      <th>std</th>\n",
       "      <td>5.983965</td>\n",
       "      <td>13.272415</td>\n",
       "      <td>11.014456</td>\n",
       "      <td>58.248392</td>\n",
       "      <td>26.461327</td>\n",
       "      <td>98.439984</td>\n",
       "      <td>6.485684</td>\n",
       "      <td>121.981187</td>\n",
       "      <td>29.814595</td>\n",
       "      <td>33.401251</td>\n",
       "      <td>...</td>\n",
       "      <td>204.833532</td>\n",
       "      <td>38691.954832</td>\n",
       "      <td>1801.486488</td>\n",
       "      <td>2732.251967</td>\n",
       "      <td>65.007818</td>\n",
       "      <td>10.016782</td>\n",
       "      <td>274.337122</td>\n",
       "      <td>80.297301</td>\n",
       "      <td>380.656042</td>\n",
       "      <td>9195.155777</td>\n",
       "    </tr>\n",
       "    <tr>\n",
       "      <th>min</th>\n",
       "      <td>0.000000</td>\n",
       "      <td>0.000000</td>\n",
       "      <td>0.000000</td>\n",
       "      <td>0.000000</td>\n",
       "      <td>0.000000</td>\n",
       "      <td>0.000000</td>\n",
       "      <td>0.000000</td>\n",
       "      <td>0.000000</td>\n",
       "      <td>0.000000</td>\n",
       "      <td>0.000000</td>\n",
       "      <td>...</td>\n",
       "      <td>0.000000</td>\n",
       "      <td>0.000000</td>\n",
       "      <td>0.000000</td>\n",
       "      <td>0.000000</td>\n",
       "      <td>0.000000</td>\n",
       "      <td>0.000000</td>\n",
       "      <td>0.000000</td>\n",
       "      <td>0.000000</td>\n",
       "      <td>0.000000</td>\n",
       "      <td>0.000000</td>\n",
       "    </tr>\n",
       "    <tr>\n",
       "      <th>25%</th>\n",
       "      <td>0.000000</td>\n",
       "      <td>2.844950</td>\n",
       "      <td>0.000000</td>\n",
       "      <td>36.585366</td>\n",
       "      <td>15.853659</td>\n",
       "      <td>71.428571</td>\n",
       "      <td>0.565291</td>\n",
       "      <td>111.111111</td>\n",
       "      <td>13.986014</td>\n",
       "      <td>9.677419</td>\n",
       "      <td>...</td>\n",
       "      <td>5.710207</td>\n",
       "      <td>0.000000</td>\n",
       "      <td>0.000000</td>\n",
       "      <td>0.000000</td>\n",
       "      <td>13.037810</td>\n",
       "      <td>0.000000</td>\n",
       "      <td>0.000000</td>\n",
       "      <td>30.050083</td>\n",
       "      <td>83.944282</td>\n",
       "      <td>0.000000</td>\n",
       "    </tr>\n",
       "    <tr>\n",
       "      <th>50%</th>\n",
       "      <td>1.269036</td>\n",
       "      <td>24.893314</td>\n",
       "      <td>1.737619</td>\n",
       "      <td>87.398374</td>\n",
       "      <td>39.024390</td>\n",
       "      <td>157.738095</td>\n",
       "      <td>2.826456</td>\n",
       "      <td>222.222222</td>\n",
       "      <td>40.209790</td>\n",
       "      <td>40.860215</td>\n",
       "      <td>...</td>\n",
       "      <td>131.334761</td>\n",
       "      <td>24100.000000</td>\n",
       "      <td>1050.632911</td>\n",
       "      <td>2136.363636</td>\n",
       "      <td>31.290743</td>\n",
       "      <td>7.021650</td>\n",
       "      <td>525.899912</td>\n",
       "      <td>76.794658</td>\n",
       "      <td>758.064516</td>\n",
       "      <td>0.000000</td>\n",
       "    </tr>\n",
       "    <tr>\n",
       "      <th>75%</th>\n",
       "      <td>2.538071</td>\n",
       "      <td>29.871977</td>\n",
       "      <td>1.737619</td>\n",
       "      <td>115.853659</td>\n",
       "      <td>54.878049</td>\n",
       "      <td>205.357143</td>\n",
       "      <td>4.522329</td>\n",
       "      <td>279.461279</td>\n",
       "      <td>57.692308</td>\n",
       "      <td>61.290323</td>\n",
       "      <td>...</td>\n",
       "      <td>403.283369</td>\n",
       "      <td>54800.000000</td>\n",
       "      <td>3312.236287</td>\n",
       "      <td>5363.636364</td>\n",
       "      <td>108.213820</td>\n",
       "      <td>11.702750</td>\n",
       "      <td>627.743635</td>\n",
       "      <td>151.919866</td>\n",
       "      <td>875.366569</td>\n",
       "      <td>17783.783784</td>\n",
       "    </tr>\n",
       "    <tr>\n",
       "      <th>max</th>\n",
       "      <td>48.223350</td>\n",
       "      <td>115.220484</td>\n",
       "      <td>151.172893</td>\n",
       "      <td>321.138211</td>\n",
       "      <td>150.000000</td>\n",
       "      <td>535.714286</td>\n",
       "      <td>44.657999</td>\n",
       "      <td>552.188552</td>\n",
       "      <td>157.342657</td>\n",
       "      <td>198.924731</td>\n",
       "      <td>...</td>\n",
       "      <td>852.962170</td>\n",
       "      <td>192800.000000</td>\n",
       "      <td>7751.054852</td>\n",
       "      <td>12386.363636</td>\n",
       "      <td>335.071708</td>\n",
       "      <td>60.269163</td>\n",
       "      <td>1138.718174</td>\n",
       "      <td>362.270451</td>\n",
       "      <td>1549.120235</td>\n",
       "      <td>30918.918919</td>\n",
       "    </tr>\n",
       "  </tbody>\n",
       "</table>\n",
       "<p>8 rows × 370 columns</p>\n",
       "</div>"
      ],
      "text/plain": [
       "              MT_001         MT_002         MT_003         MT_004  \\\n",
       "count  140256.000000  140256.000000  140256.000000  140256.000000   \n",
       "mean        3.970785      20.768480       2.918308      82.184490   \n",
       "std         5.983965      13.272415      11.014456      58.248392   \n",
       "min         0.000000       0.000000       0.000000       0.000000   \n",
       "25%         0.000000       2.844950       0.000000      36.585366   \n",
       "50%         1.269036      24.893314       1.737619      87.398374   \n",
       "75%         2.538071      29.871977       1.737619     115.853659   \n",
       "max        48.223350     115.220484     151.172893     321.138211   \n",
       "\n",
       "              MT_005         MT_006         MT_007         MT_008  \\\n",
       "count  140256.000000  140256.000000  140256.000000  140256.000000   \n",
       "mean       37.240309     141.227385       4.521338     191.401476   \n",
       "std        26.461327      98.439984       6.485684     121.981187   \n",
       "min         0.000000       0.000000       0.000000       0.000000   \n",
       "25%        15.853659      71.428571       0.565291     111.111111   \n",
       "50%        39.024390     157.738095       2.826456     222.222222   \n",
       "75%        54.878049     205.357143       4.522329     279.461279   \n",
       "max       150.000000     535.714286      44.657999     552.188552   \n",
       "\n",
       "              MT_009         MT_010      ...               MT_361  \\\n",
       "count  140256.000000  140256.000000      ...        140256.000000   \n",
       "mean       39.975354      42.205152      ...           218.213701   \n",
       "std        29.814595      33.401251      ...           204.833532   \n",
       "min         0.000000       0.000000      ...             0.000000   \n",
       "25%        13.986014       9.677419      ...             5.710207   \n",
       "50%        40.209790      40.860215      ...           131.334761   \n",
       "75%        57.692308      61.290323      ...           403.283369   \n",
       "max       157.342657     198.924731      ...           852.962170   \n",
       "\n",
       "              MT_362         MT_363         MT_364         MT_365  \\\n",
       "count  140256.000000  140256.000000  140256.000000  140256.000000   \n",
       "mean    37607.987537    1887.427366    2940.031734      65.413150   \n",
       "std     38691.954832    1801.486488    2732.251967      65.007818   \n",
       "min         0.000000       0.000000       0.000000       0.000000   \n",
       "25%         0.000000       0.000000       0.000000      13.037810   \n",
       "50%     24100.000000    1050.632911    2136.363636      31.290743   \n",
       "75%     54800.000000    3312.236287    5363.636364     108.213820   \n",
       "max    192800.000000    7751.054852   12386.363636     335.071708   \n",
       "\n",
       "              MT_366         MT_367         MT_368         MT_369  \\\n",
       "count  140256.000000  140256.000000  140256.000000  140256.000000   \n",
       "mean        9.269709     424.262904      94.704717     625.251734   \n",
       "std        10.016782     274.337122      80.297301     380.656042   \n",
       "min         0.000000       0.000000       0.000000       0.000000   \n",
       "25%         0.000000       0.000000      30.050083      83.944282   \n",
       "50%         7.021650     525.899912      76.794658     758.064516   \n",
       "75%        11.702750     627.743635     151.919866     875.366569   \n",
       "max        60.269163    1138.718174     362.270451    1549.120235   \n",
       "\n",
       "              MT_370  \n",
       "count  140256.000000  \n",
       "mean     8722.355145  \n",
       "std      9195.155777  \n",
       "min         0.000000  \n",
       "25%         0.000000  \n",
       "50%         0.000000  \n",
       "75%     17783.783784  \n",
       "max     30918.918919  \n",
       "\n",
       "[8 rows x 370 columns]"
      ]
     },
     "execution_count": 9,
     "metadata": {
      "tags": []
     },
     "output_type": "execute_result"
    }
   ],
   "source": [
    "data.describe()"
   ]
  },
  {
   "cell_type": "markdown",
   "metadata": {
    "colab_type": "text",
    "id": "bEz7tlUqnAKp"
   },
   "source": [
    "### Plot the first 2 days of 2012 for the first 2 clients"
   ]
  },
  {
   "cell_type": "code",
   "execution_count": 0,
   "metadata": {
    "colab": {},
    "colab_type": "code",
    "id": "DVIRDmI2nAKp",
    "outputId": "f76887ae-1b6d-40ab-f9a8-63ef83264ae2"
   },
   "outputs": [
    {
     "data": {
      "image/png": "[encoded data removed]",
      "text/plain": [
       "<matplotlib.figure.Figure at 0x7e98c05f8>"
      ]
     },
     "metadata": {
      "tags": []
     },
     "output_type": "display_data"
    }
   ],
   "source": [
    "data_example = data.loc['2012-01-01 00:15:00':'2012-01-03 00:00:00'][['MT_001','MT_002']]\n",
    "data_example.plot()\n",
    "plt.show()"
   ]
  },
  {
   "cell_type": "markdown",
   "metadata": {
    "colab_type": "text",
    "id": "7Vyl4umRnAKs"
   },
   "source": [
    "#### We  note that the main difference between the curves is the level (also seen on the means in df.describe()).  We know we will have to somehow normalize the curves, in order for the clustering technique to capture the behaviour of the consumption throughout the day."
   ]
  },
  {
   "cell_type": "markdown",
   "metadata": {
    "colab_type": "text",
    "id": "eNRzAdtunAKs"
   },
   "source": [
    "### Data for the analysis\n",
    "\n",
    "We focus on 2013 and 2014 because these are the years with low number of clients having zero demand"
   ]
  },
  {
   "cell_type": "code",
   "execution_count": 0,
   "metadata": {
    "colab": {},
    "colab_type": "code",
    "id": "kZRJzrdJnAKt"
   },
   "outputs": [],
   "source": [
    "data2011 = data.loc['2011-01-01 00:15:00':'2012-01-01 00:00:00']\n",
    "data2012 = data.loc['2012-01-01 00:15:00':'2013-01-01 00:00:00']\n",
    "data2013 = data.loc['2013-01-01 00:15:00':'2014-01-01 00:00:00']\n",
    "data2014 = data.loc['2014-01-01 00:15:00':'2015-01-01 00:00:00']"
   ]
  },
  {
   "cell_type": "code",
   "execution_count": 0,
   "metadata": {
    "colab": {},
    "colab_type": "code",
    "id": "cl68kB4VnAKw",
    "outputId": "3bfce148-042a-4267-f48d-f9ce6c0b52e3"
   },
   "outputs": [
    {
     "name": "stdout",
     "output_type": "stream",
     "text": [
      "365.0\n",
      "366.0\n",
      "365.0\n",
      "365.0\n"
     ]
    }
   ],
   "source": [
    "# Check number of days\n",
    "print(data2011.shape[0]/96)\n",
    "print(data2012.shape[0]/96)\n",
    "print(data2013.shape[0]/96)\n",
    "print(data2014.shape[0]/96)"
   ]
  },
  {
   "cell_type": "code",
   "execution_count": 0,
   "metadata": {
    "colab": {},
    "colab_type": "code",
    "id": "t4wacP4KnAKz",
    "outputId": "dc47bba0-61eb-4a59-9374-54eab9def4e8"
   },
   "outputs": [
    {
     "name": "stdout",
     "output_type": "stream",
     "text": [
      "210\n",
      "37\n",
      "21\n",
      "1\n"
     ]
    }
   ],
   "source": [
    "# See number of clients with 0 demand per year\n",
    "print(sum(data2011.mean()==0))\n",
    "print(sum(data2012.mean()==0))\n",
    "print(sum(data2013.mean()==0))\n",
    "print(sum(data2014.mean()==0))"
   ]
  },
  {
   "cell_type": "code",
   "execution_count": 0,
   "metadata": {
    "colab": {},
    "colab_type": "code",
    "id": "aWlgH8e1nAK4",
    "outputId": "ab6d9de0-b2b7-45aa-f5aa-6622a2a2267c"
   },
   "outputs": [
    {
     "name": "stdout",
     "output_type": "stream",
     "text": [
      "(70080, 349)\n",
      "0\n"
     ]
    }
   ],
   "source": [
    "clients = data2011.columns\n",
    "clients_no_demand = clients[data2013.mean()==0] # clients with 0 demand\n",
    "data_13_14 = data2013.append(data2014) # appending 2013 and 2014\n",
    "data_13_14 = data_13_14.drop(clients_no_demand, axis=1) # drop clients with 0 demand\n",
    "print(data_13_14.shape)\n",
    "print(sum(data_13_14.mean()==0)) # check that there are no clients with 0 demand"
   ]
  },
  {
   "cell_type": "markdown",
   "metadata": {
    "colab_type": "text",
    "id": "x3umOLGGnAK9"
   },
   "source": [
    "## Getting average curves per client"
   ]
  },
  {
   "cell_type": "code",
   "execution_count": 0,
   "metadata": {
    "colab": {},
    "colab_type": "code",
    "id": "4OaRjfZGnAK_"
   },
   "outputs": [],
   "source": [
    "data = data_13_14.copy() # weekdays weekends, data2011, data2012, data2013, data2014"
   ]
  },
  {
   "cell_type": "code",
   "execution_count": 0,
   "metadata": {
    "colab": {},
    "colab_type": "code",
    "id": "WI-3XYBJnALD"
   },
   "outputs": [],
   "source": [
    "data['hour'] = data.index.map(lambda x: x[11:])"
   ]
  },
  {
   "cell_type": "code",
   "execution_count": 0,
   "metadata": {
    "colab": {},
    "colab_type": "code",
    "id": "zXejFSuBnALF",
    "outputId": "f5e38ef6-019f-48bb-c751-b100dcdb9a32"
   },
   "outputs": [
    {
     "data": {
      "text/html": [
       "<div>\n",
       "<style>\n",
       "    .dataframe thead tr:only-child th {\n",
       "        text-align: right;\n",
       "    }\n",
       "\n",
       "    .dataframe thead th {\n",
       "        text-align: left;\n",
       "    }\n",
       "\n",
       "    .dataframe tbody tr th {\n",
       "        vertical-align: top;\n",
       "    }\n",
       "</style>\n",
       "<table border=\"1\" class=\"dataframe\">\n",
       "  <thead>\n",
       "    <tr style=\"text-align: right;\">\n",
       "      <th></th>\n",
       "      <th>MT_001</th>\n",
       "      <th>MT_002</th>\n",
       "      <th>MT_003</th>\n",
       "      <th>MT_004</th>\n",
       "      <th>MT_005</th>\n",
       "      <th>MT_006</th>\n",
       "      <th>MT_007</th>\n",
       "      <th>MT_008</th>\n",
       "      <th>MT_009</th>\n",
       "      <th>MT_010</th>\n",
       "      <th>...</th>\n",
       "      <th>MT_362</th>\n",
       "      <th>MT_363</th>\n",
       "      <th>MT_364</th>\n",
       "      <th>MT_365</th>\n",
       "      <th>MT_366</th>\n",
       "      <th>MT_367</th>\n",
       "      <th>MT_368</th>\n",
       "      <th>MT_369</th>\n",
       "      <th>MT_370</th>\n",
       "      <th>hour</th>\n",
       "    </tr>\n",
       "  </thead>\n",
       "  <tbody>\n",
       "    <tr>\n",
       "      <th>2013-01-01 00:15:00</th>\n",
       "      <td>2.538071</td>\n",
       "      <td>22.759602</td>\n",
       "      <td>2.606429</td>\n",
       "      <td>138.211382</td>\n",
       "      <td>63.414634</td>\n",
       "      <td>255.952381</td>\n",
       "      <td>4.522329</td>\n",
       "      <td>239.057239</td>\n",
       "      <td>57.692308</td>\n",
       "      <td>78.494624</td>\n",
       "      <td>...</td>\n",
       "      <td>22300.0</td>\n",
       "      <td>886.075949</td>\n",
       "      <td>1000.000000</td>\n",
       "      <td>16.949153</td>\n",
       "      <td>6.436513</td>\n",
       "      <td>616.330114</td>\n",
       "      <td>76.794658</td>\n",
       "      <td>731.671554</td>\n",
       "      <td>8086.486486</td>\n",
       "      <td>00:15:00</td>\n",
       "    </tr>\n",
       "    <tr>\n",
       "      <th>2013-01-01 00:30:00</th>\n",
       "      <td>1.269036</td>\n",
       "      <td>22.759602</td>\n",
       "      <td>2.606429</td>\n",
       "      <td>138.211382</td>\n",
       "      <td>63.414634</td>\n",
       "      <td>264.880952</td>\n",
       "      <td>5.652911</td>\n",
       "      <td>228.956229</td>\n",
       "      <td>57.692308</td>\n",
       "      <td>76.344086</td>\n",
       "      <td>...</td>\n",
       "      <td>21000.0</td>\n",
       "      <td>864.978903</td>\n",
       "      <td>909.090909</td>\n",
       "      <td>18.252934</td>\n",
       "      <td>3.510825</td>\n",
       "      <td>564.530290</td>\n",
       "      <td>76.794658</td>\n",
       "      <td>727.272727</td>\n",
       "      <td>8086.486486</td>\n",
       "      <td>00:30:00</td>\n",
       "    </tr>\n",
       "    <tr>\n",
       "      <th>2013-01-01 00:45:00</th>\n",
       "      <td>2.538071</td>\n",
       "      <td>22.759602</td>\n",
       "      <td>2.606429</td>\n",
       "      <td>134.146341</td>\n",
       "      <td>60.975610</td>\n",
       "      <td>250.000000</td>\n",
       "      <td>5.652911</td>\n",
       "      <td>239.057239</td>\n",
       "      <td>54.195804</td>\n",
       "      <td>76.344086</td>\n",
       "      <td>...</td>\n",
       "      <td>18200.0</td>\n",
       "      <td>860.759494</td>\n",
       "      <td>840.909091</td>\n",
       "      <td>16.949153</td>\n",
       "      <td>5.851375</td>\n",
       "      <td>590.869183</td>\n",
       "      <td>68.447412</td>\n",
       "      <td>730.205279</td>\n",
       "      <td>7848.648649</td>\n",
       "      <td>00:45:00</td>\n",
       "    </tr>\n",
       "  </tbody>\n",
       "</table>\n",
       "<p>3 rows × 350 columns</p>\n",
       "</div>"
      ],
      "text/plain": [
       "                       MT_001     MT_002    MT_003      MT_004     MT_005  \\\n",
       "2013-01-01 00:15:00  2.538071  22.759602  2.606429  138.211382  63.414634   \n",
       "2013-01-01 00:30:00  1.269036  22.759602  2.606429  138.211382  63.414634   \n",
       "2013-01-01 00:45:00  2.538071  22.759602  2.606429  134.146341  60.975610   \n",
       "\n",
       "                         MT_006    MT_007      MT_008     MT_009     MT_010  \\\n",
       "2013-01-01 00:15:00  255.952381  4.522329  239.057239  57.692308  78.494624   \n",
       "2013-01-01 00:30:00  264.880952  5.652911  228.956229  57.692308  76.344086   \n",
       "2013-01-01 00:45:00  250.000000  5.652911  239.057239  54.195804  76.344086   \n",
       "\n",
       "                       ...      MT_362      MT_363       MT_364     MT_365  \\\n",
       "2013-01-01 00:15:00    ...     22300.0  886.075949  1000.000000  16.949153   \n",
       "2013-01-01 00:30:00    ...     21000.0  864.978903   909.090909  18.252934   \n",
       "2013-01-01 00:45:00    ...     18200.0  860.759494   840.909091  16.949153   \n",
       "\n",
       "                       MT_366      MT_367     MT_368      MT_369       MT_370  \\\n",
       "2013-01-01 00:15:00  6.436513  616.330114  76.794658  731.671554  8086.486486   \n",
       "2013-01-01 00:30:00  3.510825  564.530290  76.794658  727.272727  8086.486486   \n",
       "2013-01-01 00:45:00  5.851375  590.869183  68.447412  730.205279  7848.648649   \n",
       "\n",
       "                         hour  \n",
       "2013-01-01 00:15:00  00:15:00  \n",
       "2013-01-01 00:30:00  00:30:00  \n",
       "2013-01-01 00:45:00  00:45:00  \n",
       "\n",
       "[3 rows x 350 columns]"
      ]
     },
     "execution_count": 17,
     "metadata": {
      "tags": []
     },
     "output_type": "execute_result"
    }
   ],
   "source": [
    "data.head(3)"
   ]
  },
  {
   "cell_type": "markdown",
   "metadata": {
    "colab_type": "text",
    "id": "8KR5kWP9nALH"
   },
   "source": [
    "### Getting average curves per client"
   ]
  },
  {
   "cell_type": "code",
   "execution_count": 0,
   "metadata": {
    "colab": {},
    "colab_type": "code",
    "id": "-a_Ca2zSnALI",
    "outputId": "72890259-4294-4af3-f4a1-624b057b9474"
   },
   "outputs": [
    {
     "data": {
      "text/plain": [
       "(96, 349)"
      ]
     },
     "execution_count": 18,
     "metadata": {
      "tags": []
     },
     "output_type": "execute_result"
    }
   ],
   "source": [
    "datagrouped = data.groupby(\"hour\")\n",
    "average_curves = datagrouped.agg(\"mean\")\n",
    "average_curves.shape "
   ]
  },
  {
   "cell_type": "markdown",
   "metadata": {
    "colab_type": "text",
    "id": "CmBX_M92nALL"
   },
   "source": [
    "#### The dataframe average_curves contains the 349 typical weekday electric demands\n",
    "\n",
    "#### We now divide each curve by its mean, so that all curves have mean 1"
   ]
  },
  {
   "cell_type": "code",
   "execution_count": 0,
   "metadata": {
    "colab": {},
    "colab_type": "code",
    "id": "NdGU5rKFnALM"
   },
   "outputs": [],
   "source": [
    "average_curves_norm = average_curves/(average_curves.mean())"
   ]
  },
  {
   "cell_type": "markdown",
   "metadata": {
    "colab_type": "text",
    "id": "sIJCEfqfnALO"
   },
   "source": [
    "#### Plot the first 2 and last 2 clients"
   ]
  },
  {
   "cell_type": "code",
   "execution_count": 0,
   "metadata": {
    "colab": {},
    "colab_type": "code",
    "id": "9YZQfHOxnALO",
    "outputId": "d671a5c7-e4bb-4bd4-8da3-dfa2efbdb688"
   },
   "outputs": [
    {
     "data": {
      "image/png": "[encoded data removed]",
      "text/plain": [
       "<matplotlib.figure.Figure at 0x7e9cfe278>"
      ]
     },
     "metadata": {
      "tags": []
     },
     "output_type": "display_data"
    }
   ],
   "source": [
    "average_curves_norm[['MT_001','MT_002','MT_369','MT_370']].plot()\n",
    "plt.show()"
   ]
  },
  {
   "cell_type": "markdown",
   "metadata": {
    "colab_type": "text",
    "id": "i06taQLunALR"
   },
   "source": [
    "## Clustering Analysis on the average normalized curves"
   ]
  },
  {
   "cell_type": "code",
   "execution_count": 0,
   "metadata": {
    "colab": {},
    "colab_type": "code",
    "id": "xBjIy1DInALR"
   },
   "outputs": [],
   "source": [
    "X = average_curves_norm.copy()  # We call this normalized curve\n",
    "X = np.array(X.T) # put it on the right format"
   ]
  },
  {
   "cell_type": "markdown",
   "metadata": {
    "colab_type": "text",
    "id": "c0_PPXRvnALV"
   },
   "source": [
    "# Questions (15 marks total)\n",
    "\n",
    "**Q1: (7 marks)**\n",
    "\n",
    "a. Determine what a convenient number of clusters. Justify your choice.  Make use of the sklearn's package for k-means for this. You may refer to the module to figure out how to come up with the optimal number of clusters. \n",
    "\n",
    "b. Make a plot for each cluster, that includes:\n",
    "    - The number of clients in the cluster (you can put this in the title of the plot)\n",
    "    - All the curves in the cluster\n",
    "    - The curve corresponding to the center of the cluster (make this curve thicker to distinguish it from the individual curves).  The center is also sometimes referred to as \"centroid\".\n",
    "    \n",
    "You have 2 separate plots for each cluster if you prefer (one for the individual curves, one for the centroid)"
   ]
  },
  {
   "cell_type": "code",
   "execution_count": 0,
   "metadata": {
    "colab": {},
    "colab_type": "code",
    "id": "PN3OqvrBaapu"
   },
   "outputs": [],
   "source": [
    "client = 'MT_022'\n",
    "oneClient = data_13_14[client]\n",
    "X = [] # a list of arrays, each array being a normalized curve for a day\n",
    "for J in range(2*365):\n",
    "    X.extend([np.array(oneClient[J*96:(J+1)*96])])#/np.mean(oneClient[J*96:(J+1)*96])]) "
   ]
  },
  {
   "cell_type": "markdown",
   "metadata": {
    "colab_type": "text",
    "id": "HnJC0E1RnALW"
   },
   "source": [
    "**Q2: (8 marks)**\n",
    "\n",
    "In this exercise you work with the daily curves of 1 single client.\n",
    "First, create a list of arrays, each array containing a curve for a day. You may use X from the cells above.\n",
    "    X = average_curves_norm.copy() \n",
    "The list contains 730 arrays, one for each of the days of 2013 and 2014.\n",
    "\n",
    "a. Determine the optimal value of k ( number of clusters). This time you may also perform silhoutte analysis as stated in the module. Carrying out silhoutte analysis is left as an exercise. What do you understand about the clusters? \n",
    "\n",
    "b. Based on your results from your analyses of both methods, what do understand?  Interpret it perhaps with different perspectives of timelines like weeks or months."
   ]
  },
  {
   "cell_type": "markdown",
   "metadata": {
    "colab_type": "text",
    "id": "FaNz6HBlnALZ"
   },
   "source": [
    "#### The following cell generates a list of all the days in the two years 2013-2014, which is helpful to answer part (b).  The cells below are only to give you a headstart.  You may or may not use these and come up with your own interpretation.\n"
   ]
  },
  {
   "cell_type": "code",
   "execution_count": 0,
   "metadata": {
    "colab": {},
    "colab_type": "code",
    "id": "GFAdtF0mnALb"
   },
   "outputs": [],
   "source": [
    "from datetime import date, timedelta\n",
    "\n",
    "d1 = date(2013, 1, 1)  # start date\n",
    "d2 = date(2014, 12, 31)  # end date\n",
    "delta = d2 - d1         # timedelta\n",
    "daysyear = []\n",
    "D = {0:'mon', 1:'tue', 2:'wed', 3:'thu', 4:'fri', 5:'sat', 6:'sun'}\n",
    "for i in range(delta.days + 1):\n",
    "    daysyear.extend([D[(d1 + timedelta(days=i)).weekday()]+\"-\"+str(d1 + timedelta(days=i))])"
   ]
  },
  {
   "cell_type": "markdown",
   "metadata": {
    "colab_type": "text",
    "id": "JBp3QYfYnALg"
   },
   "source": [
    "#### The following cell shows you how to do the following: given a list L, and a list of booleans B (True, False), get the sublist of L that corresponds to the True values in B. For example if L=[1,2,3,4] and B=[False,True,True,False], then the results is [2,3]. This is also helpful for pard (b)"
   ]
  },
  {
   "cell_type": "code",
   "execution_count": 0,
   "metadata": {
    "colab": {},
    "colab_type": "code",
    "id": "EJEM65H9nALh",
    "outputId": "997e9f1c-8896-4573-83af-fda78775c9ba"
   },
   "outputs": [
    {
     "data": {
      "text/plain": [
       "[2, 3]"
      ]
     },
     "execution_count": 417,
     "metadata": {
      "tags": []
     },
     "output_type": "execute_result"
    }
   ],
   "source": [
    "from itertools import compress\n",
    "L = [1,2,3,4]\n",
    "B = [False, True, True, False]\n",
    "list(compress(L, B))"
   ]
  },
  {
   "cell_type": "markdown",
   "metadata": {
    "colab_type": "text",
    "id": "3G5JeHkQnALt"
   },
   "source": [
    "Continue with your analysis here:"
   ]
  }
 ],
 "metadata": {
  "colab": {
   "collapsed_sections": [],
   "name": "Assignment2- Clustering_July7.ipynb",
   "provenance": [],
   "version": "0.3.2"
  },
  "kernelspec": {
   "display_name": "Python 3",
   "language": "python",
   "name": "python3"
  },
  "language_info": {
   "codemirror_mode": {
    "name": "ipython",
    "version": 3
   },
   "file_extension": ".py",
   "mimetype": "text/x-python",
   "name": "python",
   "nbconvert_exporter": "python",
   "pygments_lexer": "ipython3",
   "version": "3.6.5"
  }
 },
 "nbformat": 4,
 "nbformat_minor": 1
}
