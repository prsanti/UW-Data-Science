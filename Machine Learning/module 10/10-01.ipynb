{
 "cells": [
  {
   "cell_type": "markdown",
   "metadata": {
    "colab_type": "text",
    "id": "UTFMTTd7l9qH"
   },
   "source": [
    "# Module 10 Part 1: Optimizing Deep Neural Networks - The Vanishing and Exploding Gradient Problems"
   ]
  },
  {
   "cell_type": "markdown",
   "metadata": {},
   "source": [
    "# Introduction"
   ]
  },
  {
   "cell_type": "markdown",
   "metadata": {
    "colab_type": "text",
    "id": "wzJXPBCbl9qI"
   },
   "source": [
    "At some point, you will need to train a much deeper neural network with many layers, each containing hundreds of neurons, connected by hundreds of thousands of connections. Inevitably, you will face several problems throughout this process:\n",
    "\n",
    "- The **vanishing gradients problem** or the related **exploding gradient problem** &mdash; these problems make it very hard to train lower layers.\n",
    "\n",
    "\n",
    "- With such a large network, training will be extremely slow and take up a great deal of computing power.\n",
    "\n",
    "\n",
    "- A model with millions of parameters will severely risk overfitting the training set and thus reduce the accuracy of the model.\n",
    "\n",
    "Here we will go through each of these problems and present techniques to solve them.\n",
    "\n",
    "This module consists of 3 parts:\n",
    "\n",
    "- **Part 1** - Vanishing/Exploding Gradient Problem\n",
    "\n",
    "- **Part 2** - Using Faster Optimizers\n",
    "\n",
    "- **Part 3** - Avoiding Overfitting through Regularization\n",
    "\n",
    "Each part is provided in a separate notebook file. It is recommended that you follow the order of the notebooks."
   ]
  },
  {
   "cell_type": "markdown",
   "metadata": {},
   "source": [
    "# Learning Outcomes"
   ]
  },
  {
   "cell_type": "markdown",
   "metadata": {},
   "source": [
    "In this module, you will:\n",
    "\n",
    "* Explore the vanishing gradient problem and some of the most popular solutions to this problem\n",
    "* Become familiar with various optimizers that can speed up the training of large models tremendously compared to basic gradient descent\n",
    "* Be introduced to a few popular regularization techniques for large neural networks"
   ]
  },
  {
   "cell_type": "markdown",
   "metadata": {
    "colab_type": "text",
    "id": "4zrDAo_pl9qJ"
   },
   "source": [
    "# Readings and Resources"
   ]
  },
  {
   "cell_type": "markdown",
   "metadata": {
    "colab_type": "text",
    "id": "WJr1AcIgl9qK"
   },
   "source": [
    "We invite you to further supplement this notebook with the following recommended texts/resources.\n",
    "\n",
    "- Géron, A. (2019). Chapter 11: Training Deep Neural Nets in *Hands-On Machine Learning with Scikit-Learn, Keras, and TensorFlow* (2nd ed.). O’Reilly Media. https://www.oreilly.com/library/view/hands-on-machine-learning/9781492032632/\n",
    "\n",
    "\n",
    "- TensorFlow documentation and tutorials: https://www.tensorflow.org/tutorials\n",
    "\n",
    "\n",
    "- Kathuria, A. (2018). Paperspace blog: Intro to optimization in deep learning: Vanishing gradients and choosing the right activation function. https://blog.paperspace.com/vanishing-gradients-activation-function/"
   ]
  },
  {
   "cell_type": "markdown",
   "metadata": {},
   "source": [
    "<h1>Table of Contents<span class=\"tocSkip\"></span></h1>\n",
    "<br>\n",
    "<div class=\"toc\">\n",
    "<ul class=\"toc-item\">\n",
    "<li><span><a href=\"#Module-10-Part-1:-Optimizing-Deep-Neural-Networks---The-Vanishing-and-Exploding-Gradient-Problems\" data-toc-modified-id=\"Module-10-Part-1:-Optimizing-Deep-Neural-Networks---The-Vanishing-and-Exploding-Gradient-Problems\">Module 10 Part 1: Optimizing Deep Neural Networks - The Vanishing and Exploding Gradient Problems</a></span>\n",
    "</li>\n",
    "<li><span><a href=\"#Introduction\" data-toc-modified-id=\"Introduction\">Introduction</a></span>\n",
    "</li>\n",
    "<li><span><a href=\"#Learning-Outcomes\" data-toc-modified-id=\"Learning-Outcomes\">Learning Outcomes</a></span>\n",
    "</li>\n",
    "<li><span><a href=\"#Readings-and-Resources\" data-toc-modified-id=\"Readings-and-Resources\">Readings and Resources</a></span>\n",
    "</li>\n",
    "<li><span><a href=\"#Table-of-Contents\" data-toc-modified-id=\"Table-of-Contents\">Table of Contents</a></span>\n",
    "</li>\n",
    "<li><span><a href=\"#Vanishing/Exploding-Gradient-Problem\" data-toc-modified-id=\"Vanishing/Exploding-Gradient-Problem\">Vanishing/Exploding Gradient Problem</a></span>\n",
    "<ul class=\"toc-item\">\n",
    "<li><span><a href=\"#Overview-of-the-problem\" data-toc-modified-id=\"Overview-of-the-problem\">Overview of the problem</a></span>\n",
    "</li>\n",
    "<li><span><a href=\"#Xavier-and-He-Initialization\" data-toc-modified-id=\"Xavier-and-He-Initialization\">Xavier and He Initialization</a></span>\n",
    "</li>\n",
    "<li><span><a href=\"#Nonsaturating-Activation-Functions\" data-toc-modified-id=\"Nonsaturating-Activation-Functions\">Nonsaturating Activation Functions</a></span>\n",
    "<ul class=\"toc-item\">\n",
    "<li><span><a href=\"#Advanced-Activations\" data-toc-modified-id=\"Advanced-Activations\">Advanced Activations</a></span>\n",
    "</li>\n",
    "<li><span><a href=\"#Choosing-an-Activation-Function\" data-toc-modified-id=\"Choosing-an-Activation-Function\">Choosing an Activation Function</a></span>\n",
    "</li>\n",
    "</ul>\n",
    "</li>\n",
    "<li><span><a href=\"#Batch-Normalization\" data-toc-modified-id=\"Batch-Normalization\">Batch Normalization</a></span>\n",
    "</li>\n",
    "</ul>\n",
    "</li>\n",
    "<li><span><a href=\"#References\" data-toc-modified-id=\"References\">References</a></span>\n",
    "</li>\n",
    "</ul>\n",
    "</div>"
   ]
  },
  {
   "cell_type": "markdown",
   "metadata": {
    "colab_type": "text",
    "id": "IDH-Ttenl9qL",
    "toc-hr-collapsed": false
   },
   "source": [
    "# Vanishing/Exploding Gradient Problem\n",
    "\n",
    "We will start by explaining the vanishing gradients problem and exploring some of the most popular solutions to this problem."
   ]
  },
  {
   "cell_type": "markdown",
   "metadata": {
    "colab_type": "text",
    "id": "GnZjGxH9l9qM"
   },
   "source": [
    "## Overview of the problem\n",
    "\n",
    "As we know from the previous module, the backpropagation algorithm works by going from the output layer to the input layer, propagating the gradients along the way. By the chain rule, the derivatives of each layer are multiplied down the network (from the final layer to the initial) to compute the derivatives of the weight parameters of initial layers. Once the algorithm has computed the gradient of the cost function with regards to each parameter in the network, it uses these gradients to update each parameter with a gradient descent step. \n",
    "\n",
    "This is fairly straightforward. However, the gradients often get smaller and smaller as the algorithm progresses down to the lower layers. As a result, the gradient descent update leaves the lower layer connection weights virtually unchanged, and training never converges. This is called the **vanishing gradients problem**. For a shallow network with only a few layers, this isn't a huge problem. However, when more layers are used, it can cause the gradient to be too small for training to work effectively. In some cases, the opposite can happen: the gradients get so big that the algorithm diverges. This is called **exploding gradients**, which mostly occurs in recurrent neural networks (which are not covered in this course).\n",
    "\n",
    "More generally, distributed neural networks (DNNs) suffer from unstable gradients and different layers may learn at widely different rates.\n",
    "\n",
    "To dig into this phenomenon, let's quickly explore two very common neural network activation functions: the **sigmoid function** and the **tanh function**. In the plots below, we show the output of both of these functions along with their gradients."
   ]
  },
  {
   "cell_type": "code",
   "execution_count": 8,
   "metadata": {
    "colab": {},
    "colab_type": "code",
    "id": "HD5RFLm-l9qN"
   },
   "outputs": [],
   "source": [
    "# Basic setup\n",
    "import numpy as np\n",
    "import matplotlib.pyplot as plt"
   ]
  },
  {
   "cell_type": "code",
   "execution_count": 9,
   "metadata": {
    "colab": {
     "base_uri": "https://localhost:8080/",
     "height": 296
    },
    "colab_type": "code",
    "executionInfo": {
     "elapsed": 1156,
     "status": "ok",
     "timestamp": 1563490038155,
     "user": {
      "displayName": "Michael Ciniello",
      "photoUrl": "https://lh4.googleusercontent.com/-Sc81UFAmWWE/AAAAAAAAAAI/AAAAAAAAInI/ccJjIOAmlUo/s64/photo.jpg",
      "userId": "09099206197539783636"
     },
     "user_tz": 240
    },
    "id": "tsA6c1_Cl9qP",
    "outputId": "b1476282-65e4-408c-f609-c266ad493ae0"
   },
   "outputs": [
    {
     "data": {
      "image/png": "[encoded data removed]",
      "text/plain": [
       "<Figure size 432x288 with 1 Axes>"
      ]
     },
     "metadata": {
      "needs_background": "light"
     },
     "output_type": "display_data"
    }
   ],
   "source": [
    "# Plot the sigmoid function\n",
    "z = np.linspace(-5, 5, 200)\n",
    "\n",
    "def sigmoid(z):\n",
    "    return 1 / (1 + np.exp(-z))\n",
    "\n",
    "def sigmoid_gradient(z):\n",
    "    return sigmoid(z) * (1-sigmoid(z))\n",
    "\n",
    "plt.plot([-5, 5], [1, 1], 'k--')\n",
    "plt.plot([-5, 5], [0, 0], 'k--')\n",
    "plt.plot(z, sigmoid(z), \"b-\", linewidth=2, label='Activation')\n",
    "plt.plot(z, sigmoid_gradient(z), \"g-\", linewidth=2, label='Derivative')\n",
    "plt.legend()\n",
    "plt.grid(True)\n",
    "plt.title(\"Sigmoid Activation & Derivative\", fontsize=14)\n",
    "plt.axis([-5, 5, -0.2, 1.2])\n",
    "plt.xlabel('WX+b')\n",
    "plt.ylabel('Activation & Derivative')\n",
    "plt.show()"
   ]
  },
  {
   "cell_type": "code",
   "execution_count": 10,
   "metadata": {
    "colab": {
     "base_uri": "https://localhost:8080/",
     "height": 296
    },
    "colab_type": "code",
    "executionInfo": {
     "elapsed": 1304,
     "status": "ok",
     "timestamp": 1563490038323,
     "user": {
      "displayName": "Michael Ciniello",
      "photoUrl": "https://lh4.googleusercontent.com/-Sc81UFAmWWE/AAAAAAAAAAI/AAAAAAAAInI/ccJjIOAmlUo/s64/photo.jpg",
      "userId": "09099206197539783636"
     },
     "user_tz": 240
    },
    "id": "T1HHJ-T1l9qS",
    "outputId": "d3540263-3a16-4760-aaaa-1848c7a80958"
   },
   "outputs": [
    {
     "data": {
      "image/png": "[encoded data removed]",
      "text/plain": [
       "<Figure size 432x288 with 1 Axes>"
      ]
     },
     "metadata": {
      "needs_background": "light"
     },
     "output_type": "display_data"
    }
   ],
   "source": [
    "# Plot the tanh function\n",
    "def tanh(z):\n",
    "    num = np.exp(z) - np.exp(-z)\n",
    "    denom = np.exp(z) + np.exp(-z)\n",
    "    return num/denom\n",
    "\n",
    "def tanh_gradient(z):\n",
    "    num = (np.exp(z) - np.exp(-z))**2\n",
    "    denom = (np.exp(z) + np.exp(-z))**2\n",
    "    return 1- num/denom\n",
    "\n",
    "plt.plot([-5, 5], [1, 1], 'k--')\n",
    "plt.plot([-5, 5], [-1, -1], 'k--')\n",
    "plt.plot(z, tanh(z), \"b-\", linewidth=2, label='Activation')\n",
    "plt.plot(z, tanh_gradient(z), \"g-\", linewidth=2, label='Derivative')\n",
    "plt.legend()\n",
    "plt.grid(True)\n",
    "plt.title(\"Tanh Activation & Derivative\", fontsize=14)\n",
    "plt.axis([-5, 5, -1.2, 1.2])\n",
    "plt.xlabel('WX+b')\n",
    "plt.ylabel('Activation & Derivative')\n",
    "\n",
    "plt.show()"
   ]
  },
  {
   "cell_type": "markdown",
   "metadata": {
    "colab_type": "text",
    "id": "cEs-WFsbl9qU"
   },
   "source": [
    "Looking at the sigmoid activation function, you can see that when inputs become large (negative or positive), the function saturates at 0 or 1 (becomes very close to either value), with a derivative (or gradient) extremely close to 0. The same goes for the tanh function. As the activation outputs get close to either 1 or -1, the value of the function derivative gets closer and closer to zero. This is called **saturation**.\n",
    "\n",
    "Thus, when backpropagation kicks in, it has virtually no gradient to propagate back through the network, and what little gradient exists keeps getting diluted as backpropagation progresses through the top layers, leaving nothing for the lower layers. This is a huge problem, as initial layers are often crucial to recognizing the core elements of the input data and can lead to overall inaccuracy of the whole network."
   ]
  },
  {
   "cell_type": "markdown",
   "metadata": {
    "colab_type": "text",
    "id": "vL2a5JA_l9qf"
   },
   "source": [
    "## Xavier and He Initialization\n",
    "\n",
    "Significant progress on solving the vanishing gradient problem was made with the 2010 paper \"Understanding the Difficulty of Training Deep Feedforward Neural Networks\": http://proceedings.mlr.press/v9/glorot10a/glorot10a.pdf (Glorot & Bengio, 2010). The authors of the paper narrowed down the problem to two main issues:\n",
    "\n",
    "1. The popular logistic sigmoid activation function (when it is used as an activation function in hidden layers).<br><br>\n",
    "\n",
    "2. The random weight initialization technique (using a normal distribution with a mean of 0 and a standard deviation of 1).\n",
    "\n",
    "In short, they illustrated that these two configurations combined caused the variance of the outputs of each layer to be MUCH greater than the variance of its inputs. In other words, as you go forward through the network, the larger variances saturate the outputs, and the gradients get super small. This is actually made worse by the fact that the logistic function has a mean of 0.5, not 0 like the tanh function (which is why we see slightly better results above with the tanh function!). \n",
    "\n",
    "To address this issue, Glorot and Bengio proposed two solutions:\n",
    "\n",
    "1. The variance of the outputs of each layer should be equal to the variance of its inputs.<br><br>\n",
    "\n",
    "2. The gradients should have equal variance before and after flowing through a layer in reverse direction.\n",
    "\n",
    "It is actually not possible to guarantee both unless the layer has an equal number of input and output connections, but they proposed a good compromise that has proven to work very well in practice: \n",
    "\n",
    "- The connection weights must be initialized randomly as described in the equation below, where `n_inputs` and `n_outputs` are the number of input and output connections for the layer whose weights are being initialized.\n",
    "\n",
    "This is called **Xavier initialization or Glorot initialization**:\n",
    "\n",
    "- *Normal distribution* with mean of 0 and standard deviation of  $\\sigma=\\sqrt{\\frac{2}{\\text{n_inputs + n_outputs}}}$\n",
    "\n",
    "or\n",
    "\n",
    "- *Uniform distribution* with between $-r$ and $r$ where $r=\\sqrt{\\frac{6}{\\text{n_inputs + n_outputs}}}$\n",
    "\n",
    "\n",
    "Using the Xavier initialization strategy can speed up training considerably, and it is one of the tricks that has led to the current success of deep learning. Some recent papers have provided similar strategies for different activation functions, as shown in the table below. The initialization strategy for the ReLU activation function (and its variants, including the ELU activation described shortly) is sometimes called **He initialization** (after the last name of its author).\n",
    "\n",
    "| **Activation Function** | &nbsp;&nbsp;&nbsp;&nbsp;**Uniform distribution $[-r,r]$**&nbsp;&nbsp;&nbsp;&nbsp; | &nbsp;&nbsp;&nbsp;**Normal distribution**&nbsp;&nbsp;&nbsp; | \n",
    "| ------- | ------- | ------- |\n",
    "| sigmoid | $r=\\sqrt{\\frac{6}{\\text{n_inputs + n_outputs}}}$ | $\\sigma=\\sqrt{\\frac{2}{\\text{n_inputs + n_outputs}}}$ |\n",
    "| tanh | $r=4\\sqrt{\\frac{6}{\\text{n_inputs + n_outputs}}}$ | $\\sigma=4\\sqrt{\\frac{2}{\\text{n_inputs + n_outputs}}}$ |\n",
    "| ReLU (he_init) | $r=\\sqrt{2}\\sqrt{\\frac{6}{\\text{n_inputs + n_outputs}}}$ | $\\sigma=\\sqrt{2}\\sqrt{\\frac{2}{\\text{n_inputs + n_outputs}}}$ |"
   ]
  },
  {
   "cell_type": "code",
   "execution_count": 11,
   "metadata": {
    "colab": {},
    "colab_type": "code",
    "id": "t0jh42aOl9qm"
   },
   "outputs": [],
   "source": [
    "from tensorflow.keras import layers\n",
    "\n",
    "# Initialize simple_model function\n",
    "def simple_model(initializer, activation='relu'): # Use relu as base activation function\n",
    "    return tf.keras.Sequential([layers.Dense(32, activation, input_shape=(784,), kernel_initializer=initializer),\n",
    "                                layers.Dense(32, activation, kernel_initializer=initializer),\n",
    "                                layers.Dense(32, activation, kernel_initializer=initializer),\n",
    "                                layers.Dense(32, activation, kernel_initializer=initializer),\n",
    "                                layers.Dense(10, activation='softmax', kernel_initializer=tf.keras.initializers.glorot_normal())])"
   ]
  },
  {
   "cell_type": "code",
   "execution_count": 13,
   "metadata": {},
   "outputs": [
    {
     "name": "stdout",
     "output_type": "stream",
     "text": [
      "X_train: (1000, 784)\n",
      "y_train: (1000, 10)\n",
      "X_test: (1000, 784)\n",
      "y_test: (1000, 10)\n",
      "Min: -1.2103644782186072\n",
      "Max: 31.606961258558652\n",
      "X dtype: float64\n",
      "y dtype: float64\n"
     ]
    }
   ],
   "source": [
    "# First load in the data\n",
    "from sklearn.preprocessing import StandardScaler\n",
    "from sklearn.preprocessing import OneHotEncoder\n",
    "\n",
    "import tensorflow as tf\n",
    "\n",
    "def load_mnist_clean(train_size, test_size):\n",
    "    # Load data\n",
    "    train, test = tf.keras.datasets.mnist.load_data()        \n",
    "\n",
    "    # Take sample\n",
    "    train_idx = np.random.randint(low=0, high=train[0].shape[0], size=train_size)\n",
    "    test_idx = np.random.randint(low=0, high=test[0].shape[0], size=test_size)\n",
    "    X_train = train[0][train_idx].reshape(-1,28*28)\n",
    "    y_train = train[1][train_idx].reshape(-1,1)\n",
    "    X_test = test[0][test_idx].reshape(-1,28*28)\n",
    "    y_test = test[1][test_idx].reshape(-1,1)\n",
    "\n",
    "    # As always, scale the data before running it throught the model\n",
    "    scaler = StandardScaler()\n",
    "    X_train = scaler.fit_transform(X_train)\n",
    "    X_test = scaler.transform(X_test) # Use scaler fit on training data\n",
    "\n",
    "    # Covert to onehot\n",
    "    oh = OneHotEncoder(categories='auto', sparse=False)\n",
    "    y_train = oh.fit_transform(y_train)\n",
    "    y_test = oh.transform(y_test)\n",
    "\n",
    "    # Check shapes\n",
    "    print('X_train:',X_train.shape)\n",
    "    print('y_train:',y_train.shape)\n",
    "    print('X_test:',X_test.shape)\n",
    "    print('y_test:',y_test.shape)\n",
    "    # Check scales\n",
    "    print('Min:',X_train.min())\n",
    "    print('Max:',X_train.max())\n",
    "    # Check data types\n",
    "    print(\"X dtype:\", X_train.dtype)\n",
    "    print(\"y dtype:\", y_train.dtype)\n",
    "    \n",
    "    return X_train, X_test, y_train, y_test\n",
    "\n",
    "X_train, X_test, y_train, y_test = load_mnist_clean(1000,1000)"
   ]
  },
  {
   "cell_type": "code",
   "execution_count": 14,
   "metadata": {
    "colab": {
     "base_uri": "https://localhost:8080/",
     "height": 153
    },
    "colab_type": "code",
    "executionInfo": {
     "elapsed": 53903,
     "status": "ok",
     "timestamp": 1563490090990,
     "user": {
      "displayName": "Michael Ciniello",
      "photoUrl": "https://lh4.googleusercontent.com/-Sc81UFAmWWE/AAAAAAAAAAI/AAAAAAAAInI/ccJjIOAmlUo/s64/photo.jpg",
      "userId": "09099206197539783636"
     },
     "user_tz": 240
    },
    "id": "U6-Hms6Pl9qr",
    "outputId": "1a2fe3af-fcfd-4e51-ee52-6e86e182f8fc"
   },
   "outputs": [
    {
     "name": "stdout",
     "output_type": "stream",
     "text": [
      "X_train: (60000, 784)\n",
      "y_train: (60000, 10)\n",
      "X_test: (10000, 784)\n",
      "y_test: (10000, 10)\n",
      "Min: -1.2840231792172976\n",
      "Max: 244.94693302870266\n",
      "X dtype: float64\n",
      "y dtype: float64\n"
     ]
    }
   ],
   "source": [
    "# First load in larger dataset\n",
    "X_train, X_test, y_train, y_test = load_mnist_clean(60000,10000) # take full dataset"
   ]
  },
  {
   "cell_type": "markdown",
   "metadata": {
    "colab_type": "text",
    "id": "pHKtc1rol9qu"
   },
   "source": [
    "**Zeros initialization** "
   ]
  },
  {
   "cell_type": "code",
   "execution_count": 15,
   "metadata": {
    "colab": {
     "base_uri": "https://localhost:8080/",
     "height": 391
    },
    "colab_type": "code",
    "executionInfo": {
     "elapsed": 61092,
     "status": "ok",
     "timestamp": 1563490098187,
     "user": {
      "displayName": "Michael Ciniello",
      "photoUrl": "https://lh4.googleusercontent.com/-Sc81UFAmWWE/AAAAAAAAAAI/AAAAAAAAInI/ccJjIOAmlUo/s64/photo.jpg",
      "userId": "09099206197539783636"
     },
     "user_tz": 240
    },
    "id": "1BGFV00nl9qv",
    "outputId": "241e8a05-3e9d-4aae-ed9a-3bc7d1ae67da"
   },
   "outputs": [
    {
     "name": "stderr",
     "output_type": "stream",
     "text": [
      "2022-08-16 10:47:21.809999: I tensorflow/core/common_runtime/pluggable_device/pluggable_device_factory.cc:305] Could not identify NUMA node of platform GPU ID 0, defaulting to 0. Your kernel may not have been built with NUMA support.\n",
      "2022-08-16 10:47:21.810470: I tensorflow/core/common_runtime/pluggable_device/pluggable_device_factory.cc:271] Created TensorFlow device (/job:localhost/replica:0/task:0/device:GPU:0 with 0 MB memory) -> physical PluggableDevice (device: 0, name: METAL, pci bus id: <undefined>)\n"
     ]
    },
    {
     "name": "stdout",
     "output_type": "stream",
     "text": [
      "Metal device set to: Apple M1 Max\n"
     ]
    },
    {
     "name": "stderr",
     "output_type": "stream",
     "text": [
      "2022-08-16 10:47:22.310767: I tensorflow/compiler/mlir/mlir_graph_optimization_pass.cc:185] None of the MLIR Optimization Passes are enabled (registered 2)\n",
      "2022-08-16 10:47:22.312934: W tensorflow/core/platform/profile_utils/cpu_utils.cc:128] Failed to get CPU frequency: 0 Hz\n",
      "2022-08-16 10:47:22.410931: I tensorflow/core/grappler/optimizers/custom_graph_optimizer_registry.cc:112] Plugin optimizer for device_type GPU is enabled.\n"
     ]
    },
    {
     "name": "stdout",
     "output_type": "stream",
     "text": [
      "Epoch 1/10\n",
      "19/19 [==============================] - 1s 19ms/step - loss: 2.3026 - accuracy: 0.1090 - val_loss: 2.3025 - val_accuracy: 0.1148\n",
      "Epoch 2/10\n",
      "12/19 [=================>............] - ETA: 0s - loss: 2.3025 - accuracy: 0.1095"
     ]
    },
    {
     "name": "stderr",
     "output_type": "stream",
     "text": [
      "2022-08-16 10:47:22.913875: I tensorflow/core/grappler/optimizers/custom_graph_optimizer_registry.cc:112] Plugin optimizer for device_type GPU is enabled.\n"
     ]
    },
    {
     "name": "stdout",
     "output_type": "stream",
     "text": [
      "19/19 [==============================] - 0s 13ms/step - loss: 2.3025 - accuracy: 0.1111 - val_loss: 2.3025 - val_accuracy: 0.1148\n",
      "Epoch 3/10\n",
      "19/19 [==============================] - 0s 13ms/step - loss: 2.3025 - accuracy: 0.1111 - val_loss: 2.3025 - val_accuracy: 0.1148\n",
      "Epoch 4/10\n",
      "19/19 [==============================] - 0s 12ms/step - loss: 2.3024 - accuracy: 0.1111 - val_loss: 2.3024 - val_accuracy: 0.1148\n",
      "Epoch 5/10\n",
      "19/19 [==============================] - 0s 12ms/step - loss: 2.3024 - accuracy: 0.1111 - val_loss: 2.3024 - val_accuracy: 0.1148\n",
      "Epoch 6/10\n",
      "19/19 [==============================] - 0s 12ms/step - loss: 2.3024 - accuracy: 0.1111 - val_loss: 2.3023 - val_accuracy: 0.1148\n",
      "Epoch 7/10\n",
      "19/19 [==============================] - 0s 12ms/step - loss: 2.3023 - accuracy: 0.1111 - val_loss: 2.3023 - val_accuracy: 0.1148\n",
      "Epoch 8/10\n",
      "19/19 [==============================] - 0s 12ms/step - loss: 2.3023 - accuracy: 0.1111 - val_loss: 2.3023 - val_accuracy: 0.1148\n",
      "Epoch 9/10\n",
      "19/19 [==============================] - 0s 12ms/step - loss: 2.3023 - accuracy: 0.1111 - val_loss: 2.3022 - val_accuracy: 0.1148\n",
      "Epoch 10/10\n",
      "19/19 [==============================] - 0s 13ms/step - loss: 2.3022 - accuracy: 0.1111 - val_loss: 2.3022 - val_accuracy: 0.1148\n"
     ]
    },
    {
     "data": {
      "text/plain": [
       "<keras.callbacks.History at 0x29ef36670>"
      ]
     },
     "execution_count": 15,
     "metadata": {},
     "output_type": "execute_result"
    }
   ],
   "source": [
    "# Set params\n",
    "init = tf.initializers.zeros()\n",
    "activate = 'relu'\n",
    "\n",
    "# Run model\n",
    "optimizer = tf.keras.optimizers.SGD(0.01)\n",
    "model_ze = simple_model(init, activate)\n",
    "model_ze.compile(optimizer=optimizer, loss='categorical_crossentropy', metrics=['accuracy'])\n",
    "model_ze.fit(X_train, y_train, epochs=10, batch_size=3200, validation_data=(X_test, y_test))"
   ]
  },
  {
   "cell_type": "markdown",
   "metadata": {
    "colab_type": "text",
    "id": "GMRpwTU9l9qx"
   },
   "source": [
    "**Random Normal Initialization**"
   ]
  },
  {
   "cell_type": "code",
   "execution_count": 16,
   "metadata": {
    "colab": {
     "base_uri": "https://localhost:8080/",
     "height": 391
    },
    "colab_type": "code",
    "executionInfo": {
     "elapsed": 68271,
     "status": "ok",
     "timestamp": 1563490105378,
     "user": {
      "displayName": "Michael Ciniello",
      "photoUrl": "https://lh4.googleusercontent.com/-Sc81UFAmWWE/AAAAAAAAAAI/AAAAAAAAInI/ccJjIOAmlUo/s64/photo.jpg",
      "userId": "09099206197539783636"
     },
     "user_tz": 240
    },
    "id": "HFMPxPaSl9qx",
    "outputId": "d32df6d7-e7d6-4242-c5cb-178440c6d2ce"
   },
   "outputs": [
    {
     "name": "stdout",
     "output_type": "stream",
     "text": [
      "Epoch 1/10\n",
      " 8/19 [===========>..................] - ETA: 0s - loss: 2.3019 - accuracy: 0.1030"
     ]
    },
    {
     "name": "stderr",
     "output_type": "stream",
     "text": [
      "2022-08-16 10:47:36.439383: I tensorflow/core/grappler/optimizers/custom_graph_optimizer_registry.cc:112] Plugin optimizer for device_type GPU is enabled.\n"
     ]
    },
    {
     "name": "stdout",
     "output_type": "stream",
     "text": [
      "19/19 [==============================] - 1s 24ms/step - loss: 2.3017 - accuracy: 0.1046 - val_loss: 2.3019 - val_accuracy: 0.0996\n",
      "Epoch 2/10\n",
      "13/19 [===================>..........] - ETA: 0s - loss: 2.3013 - accuracy: 0.1053"
     ]
    },
    {
     "name": "stderr",
     "output_type": "stream",
     "text": [
      "2022-08-16 10:47:36.898637: I tensorflow/core/grappler/optimizers/custom_graph_optimizer_registry.cc:112] Plugin optimizer for device_type GPU is enabled.\n"
     ]
    },
    {
     "name": "stdout",
     "output_type": "stream",
     "text": [
      "19/19 [==============================] - 0s 12ms/step - loss: 2.3013 - accuracy: 0.1046 - val_loss: 2.3015 - val_accuracy: 0.0994\n",
      "Epoch 3/10\n",
      "19/19 [==============================] - 0s 12ms/step - loss: 2.3009 - accuracy: 0.1046 - val_loss: 2.3011 - val_accuracy: 0.0993\n",
      "Epoch 4/10\n",
      "19/19 [==============================] - 0s 12ms/step - loss: 2.3006 - accuracy: 0.1045 - val_loss: 2.3008 - val_accuracy: 0.0995\n",
      "Epoch 5/10\n",
      "19/19 [==============================] - 0s 11ms/step - loss: 2.3003 - accuracy: 0.1045 - val_loss: 2.3005 - val_accuracy: 0.0994\n",
      "Epoch 6/10\n",
      "19/19 [==============================] - 0s 13ms/step - loss: 2.2999 - accuracy: 0.1044 - val_loss: 2.3001 - val_accuracy: 0.0995\n",
      "Epoch 7/10\n",
      "19/19 [==============================] - 0s 14ms/step - loss: 2.2996 - accuracy: 0.1053 - val_loss: 2.2998 - val_accuracy: 0.1021\n",
      "Epoch 8/10\n",
      "19/19 [==============================] - 0s 12ms/step - loss: 2.2992 - accuracy: 0.1090 - val_loss: 2.2995 - val_accuracy: 0.1083\n",
      "Epoch 9/10\n",
      "19/19 [==============================] - 0s 12ms/step - loss: 2.2989 - accuracy: 0.1141 - val_loss: 2.2991 - val_accuracy: 0.1187\n",
      "Epoch 10/10\n",
      "19/19 [==============================] - 0s 12ms/step - loss: 2.2986 - accuracy: 0.1221 - val_loss: 2.2988 - val_accuracy: 0.1252\n"
     ]
    },
    {
     "data": {
      "text/plain": [
       "<keras.callbacks.History at 0x2fe702250>"
      ]
     },
     "execution_count": 16,
     "metadata": {},
     "output_type": "execute_result"
    }
   ],
   "source": [
    "# Set params\n",
    "init = tf.initializers.random_normal()\n",
    "activate = 'relu'\n",
    "\n",
    "# Run model\n",
    "optimizer = tf.keras.optimizers.SGD(0.01)\n",
    "model_rn = simple_model(init, activate)\n",
    "model_rn.compile(optimizer=optimizer, loss='categorical_crossentropy', metrics=['accuracy'])\n",
    "model_rn.fit(X_train, y_train, epochs=10, batch_size=3200, validation_data=(X_test, y_test))"
   ]
  },
  {
   "cell_type": "markdown",
   "metadata": {
    "colab_type": "text",
    "id": "lL2xkAeRl9q0"
   },
   "source": [
    "**Glorot Normal Initialization (Xavier Initialization)**"
   ]
  },
  {
   "cell_type": "code",
   "execution_count": 17,
   "metadata": {
    "colab": {
     "base_uri": "https://localhost:8080/",
     "height": 391
    },
    "colab_type": "code",
    "executionInfo": {
     "elapsed": 75464,
     "status": "ok",
     "timestamp": 1563490112583,
     "user": {
      "displayName": "Michael Ciniello",
      "photoUrl": "https://lh4.googleusercontent.com/-Sc81UFAmWWE/AAAAAAAAAAI/AAAAAAAAInI/ccJjIOAmlUo/s64/photo.jpg",
      "userId": "09099206197539783636"
     },
     "user_tz": 240
    },
    "id": "vdPfOJ8Vl9q1",
    "outputId": "2d17d5c3-486c-41e0-dfd9-07791a5bac14"
   },
   "outputs": [
    {
     "name": "stdout",
     "output_type": "stream",
     "text": [
      "Epoch 1/10\n",
      " 7/19 [==========>...................] - ETA: 0s - loss: 2.3356 - accuracy: 0.0844"
     ]
    },
    {
     "name": "stderr",
     "output_type": "stream",
     "text": [
      "2022-08-16 10:47:41.111923: I tensorflow/core/grappler/optimizers/custom_graph_optimizer_registry.cc:112] Plugin optimizer for device_type GPU is enabled.\n"
     ]
    },
    {
     "name": "stdout",
     "output_type": "stream",
     "text": [
      "19/19 [==============================] - 0s 19ms/step - loss: 2.3289 - accuracy: 0.0917 - val_loss: 2.3094 - val_accuracy: 0.1038\n",
      "Epoch 2/10\n",
      " 9/19 [=============>................] - ETA: 0s - loss: 2.3081 - accuracy: 0.1098"
     ]
    },
    {
     "name": "stderr",
     "output_type": "stream",
     "text": [
      "2022-08-16 10:47:41.479424: I tensorflow/core/grappler/optimizers/custom_graph_optimizer_registry.cc:112] Plugin optimizer for device_type GPU is enabled.\n"
     ]
    },
    {
     "name": "stdout",
     "output_type": "stream",
     "text": [
      "19/19 [==============================] - 0s 14ms/step - loss: 2.3022 - accuracy: 0.1156 - val_loss: 2.2856 - val_accuracy: 0.1289\n",
      "Epoch 3/10\n",
      "19/19 [==============================] - 0s 12ms/step - loss: 2.2781 - accuracy: 0.1422 - val_loss: 2.2618 - val_accuracy: 0.1616\n",
      "Epoch 4/10\n",
      "19/19 [==============================] - 0s 12ms/step - loss: 2.2526 - accuracy: 0.1707 - val_loss: 2.2352 - val_accuracy: 0.1838\n",
      "Epoch 5/10\n",
      "19/19 [==============================] - 0s 12ms/step - loss: 2.2232 - accuracy: 0.1951 - val_loss: 2.2038 - val_accuracy: 0.2045\n",
      "Epoch 6/10\n",
      "19/19 [==============================] - 0s 12ms/step - loss: 2.1887 - accuracy: 0.2185 - val_loss: 2.1675 - val_accuracy: 0.2307\n",
      "Epoch 7/10\n",
      "19/19 [==============================] - 0s 12ms/step - loss: 2.1498 - accuracy: 0.2427 - val_loss: 2.1284 - val_accuracy: 0.2555\n",
      "Epoch 8/10\n",
      "19/19 [==============================] - 0s 12ms/step - loss: 2.1093 - accuracy: 0.2722 - val_loss: 2.0888 - val_accuracy: 0.2888\n",
      "Epoch 9/10\n",
      "19/19 [==============================] - 0s 14ms/step - loss: 2.0685 - accuracy: 0.3047 - val_loss: 2.0482 - val_accuracy: 0.3265\n",
      "Epoch 10/10\n",
      "19/19 [==============================] - 0s 12ms/step - loss: 2.0257 - accuracy: 0.3421 - val_loss: 2.0041 - val_accuracy: 0.3629\n"
     ]
    },
    {
     "data": {
      "text/plain": [
       "<keras.callbacks.History at 0x175b8ab80>"
      ]
     },
     "execution_count": 17,
     "metadata": {},
     "output_type": "execute_result"
    }
   ],
   "source": [
    "# Set params\n",
    "init = tf.keras.initializers.glorot_uniform()\n",
    "activate = 'relu'\n",
    "\n",
    "# Run model\n",
    "optimizer = tf.keras.optimizers.SGD(0.01)\n",
    "model_xa = simple_model(init, activate)\n",
    "model_xa.compile(optimizer=optimizer, loss='categorical_crossentropy', metrics=['accuracy'])\n",
    "model_xa.fit(X_train, y_train, epochs=10, batch_size=3200, validation_data=(X_test, y_test))"
   ]
  },
  {
   "cell_type": "markdown",
   "metadata": {
    "colab_type": "text",
    "id": "-5-Q4eeUl9q3"
   },
   "source": [
    "**He Initialization**"
   ]
  },
  {
   "cell_type": "code",
   "execution_count": 18,
   "metadata": {
    "colab": {
     "base_uri": "https://localhost:8080/",
     "height": 391
    },
    "colab_type": "code",
    "executionInfo": {
     "elapsed": 82749,
     "status": "ok",
     "timestamp": 1563490119877,
     "user": {
      "displayName": "Michael Ciniello",
      "photoUrl": "https://lh4.googleusercontent.com/-Sc81UFAmWWE/AAAAAAAAAAI/AAAAAAAAInI/ccJjIOAmlUo/s64/photo.jpg",
      "userId": "09099206197539783636"
     },
     "user_tz": 240
    },
    "id": "Qk-z713Al9q3",
    "outputId": "a4efb8f1-7761-400a-e550-69ff9c984a79"
   },
   "outputs": [
    {
     "name": "stdout",
     "output_type": "stream",
     "text": [
      "Epoch 1/10\n",
      "10/19 [==============>...............] - ETA: 0s - loss: 2.4939 - accuracy: 0.0830"
     ]
    },
    {
     "name": "stderr",
     "output_type": "stream",
     "text": [
      "2022-08-16 10:47:48.906529: I tensorflow/core/grappler/optimizers/custom_graph_optimizer_registry.cc:112] Plugin optimizer for device_type GPU is enabled.\n"
     ]
    },
    {
     "name": "stdout",
     "output_type": "stream",
     "text": [
      "19/19 [==============================] - 0s 17ms/step - loss: 2.4562 - accuracy: 0.0878 - val_loss: 2.3621 - val_accuracy: 0.1019\n",
      "Epoch 2/10\n",
      "10/19 [==============>...............] - ETA: 0s - loss: 2.3509 - accuracy: 0.1136"
     ]
    },
    {
     "name": "stderr",
     "output_type": "stream",
     "text": [
      "2022-08-16 10:47:49.245902: I tensorflow/core/grappler/optimizers/custom_graph_optimizer_registry.cc:112] Plugin optimizer for device_type GPU is enabled.\n"
     ]
    },
    {
     "name": "stdout",
     "output_type": "stream",
     "text": [
      "19/19 [==============================] - 0s 13ms/step - loss: 2.3254 - accuracy: 0.1276 - val_loss: 2.2655 - val_accuracy: 0.1599\n",
      "Epoch 3/10\n",
      "19/19 [==============================] - 0s 11ms/step - loss: 2.2363 - accuracy: 0.1820 - val_loss: 2.1855 - val_accuracy: 0.2100\n",
      "Epoch 4/10\n",
      "19/19 [==============================] - 0s 14ms/step - loss: 2.1574 - accuracy: 0.2297 - val_loss: 2.1091 - val_accuracy: 0.2528\n",
      "Epoch 5/10\n",
      "19/19 [==============================] - 0s 12ms/step - loss: 2.0801 - accuracy: 0.2735 - val_loss: 2.0320 - val_accuracy: 0.2965\n",
      "Epoch 6/10\n",
      "19/19 [==============================] - 0s 12ms/step - loss: 2.0017 - accuracy: 0.3197 - val_loss: 1.9511 - val_accuracy: 0.3501\n",
      "Epoch 7/10\n",
      "19/19 [==============================] - 0s 12ms/step - loss: 1.9183 - accuracy: 0.3716 - val_loss: 1.8634 - val_accuracy: 0.3945\n",
      "Epoch 8/10\n",
      "19/19 [==============================] - 0s 13ms/step - loss: 1.8264 - accuracy: 0.4235 - val_loss: 1.7648 - val_accuracy: 0.4476\n",
      "Epoch 9/10\n",
      "19/19 [==============================] - 0s 12ms/step - loss: 1.7229 - accuracy: 0.4730 - val_loss: 1.6533 - val_accuracy: 0.4955\n",
      "Epoch 10/10\n",
      "19/19 [==============================] - 0s 12ms/step - loss: 1.6089 - accuracy: 0.5150 - val_loss: 1.5350 - val_accuracy: 0.5341\n"
     ]
    },
    {
     "data": {
      "text/plain": [
       "<keras.callbacks.History at 0x1777f6610>"
      ]
     },
     "execution_count": 18,
     "metadata": {},
     "output_type": "execute_result"
    }
   ],
   "source": [
    "# Set params\n",
    "init = tf.keras.initializers.he_uniform()\n",
    "activate = 'relu'\n",
    "\n",
    "# Run model\n",
    "optimizer = tf.keras.optimizers.SGD(0.01)\n",
    "model_he = simple_model(init, activate)\n",
    "model_he.compile(optimizer=optimizer, loss='categorical_crossentropy', metrics=['accuracy'])\n",
    "model_he.fit(X_train, y_train, epochs=10, batch_size=3200, validation_data=(X_test, y_test))"
   ]
  },
  {
   "cell_type": "code",
   "execution_count": 19,
   "metadata": {
    "colab": {
     "base_uri": "https://localhost:8080/",
     "height": 283
    },
    "colab_type": "code",
    "executionInfo": {
     "elapsed": 83145,
     "status": "ok",
     "timestamp": 1563490120283,
     "user": {
      "displayName": "Michael Ciniello",
      "photoUrl": "https://lh4.googleusercontent.com/-Sc81UFAmWWE/AAAAAAAAAAI/AAAAAAAAInI/ccJjIOAmlUo/s64/photo.jpg",
      "userId": "09099206197539783636"
     },
     "user_tz": 240
    },
    "id": "kGgsc6aSl9q5",
    "outputId": "d76a5ebf-7f6e-494f-c0ad-cbd1ecd3ff98"
   },
   "outputs": [
    {
     "data": {
      "image/png": "[encoded data removed]",
      "text/plain": [
       "<Figure size 432x288 with 1 Axes>"
      ]
     },
     "metadata": {
      "needs_background": "light"
     },
     "output_type": "display_data"
    }
   ],
   "source": [
    "for model in [model_ze, model_rn, model_xa, model_he]:\n",
    "    plt.plot(model.history.history['val_accuracy'], label=model.get_config()['layers'][1]['config']['kernel_initializer']['class_name'])\n",
    "\n",
    "plt.legend()\n",
    "plt.xlabel('Epoch')\n",
    "plt.ylabel('Validation Accuracy')\n",
    "plt.show()"
   ]
  },
  {
   "cell_type": "markdown",
   "metadata": {
    "colab_type": "text",
    "id": "-oUE_zXWl9q8"
   },
   "source": [
    "**NOTE:** `VarianceScaling` is another name for He initialization.\n",
    "\n",
    "Our model accuracy after 10 epochs actually goes up significantly from epoch to epoch when we use the \"Glorot uniform\" and \"He uniform\" initializations. This makes sense, as the gradient updates are more effectively transferred through to the initial layers, thus speeding up training. `VarianceScaling` (He initialization) is optimized specifically for ReLU activation functions, which explains why it performs the best here.\n",
    "\n",
    "You are encouraged to experiment with different activation functions and initialization strategies to see if you can improve training accuracy even more.\n",
    "\n",
    "You may even want to train for more epochs and see how that affects the model."
   ]
  },
  {
   "cell_type": "markdown",
   "metadata": {
    "colab_type": "text",
    "id": "LXn4vW0Pl9q_"
   },
   "source": [
    "## Nonsaturating Activation Functions\n",
    "\n",
    "Proper initialization strategies are incredibly important when addressing the vanishing gradient problem, but we can do more! The next technique involves tweaking the activation functions themselves.\n",
    "\n",
    "As mentioned above, one of the insights in the 2010 paper by Xavier and Glorot was that the vanishing/exploding gradients problems was in part due a poor choice of activation function, namely the sigmoid activation function. As we demonstrated above, the ReLU or tanh activation functions present excellent alternatives to the sigmoid function. Of particular interest is the ReLU activation function, mostly because it does not saturate for positive values, and also because it is super fast to compute.\n",
    "\n",
    "However, ReLU activation is not perfect, as it suffers from what is called the **dying ReLU problem**: during training some neurons effectively die, meaning they stop outputting anything other than 0. This is because the gradient of the ReLU function is 0 when its input is negative. In some cases, you may find that half of your network's neurons are dead, especially if you used a large learning rate. "
   ]
  },
  {
   "cell_type": "markdown",
   "metadata": {
    "colab_type": "text",
    "id": "ajzRbo9Kl9rB"
   },
   "source": [
    "### Advanced Activations"
   ]
  },
  {
   "cell_type": "markdown",
   "metadata": {
    "colab_type": "text",
    "id": "3cqRXVNWl9rC"
   },
   "source": [
    "**Leaky ReLU:**\n",
    "\n",
    "To solve the dying neuron problem outlined above, researchers came up with a clever variant of the ReLU function called the **leaky ReLU function**. \n",
    "\n",
    "Leaky ReLU is defined as $\\alpha(z) = max(\\alpha z, z)$:\n",
    "\n",
    "- Hyperparameter $\\alpha$ defines how much the function \"leaks\": it is the slope of the function where $z$ is less than 0 and is typically set to 0.01, though larger leaks (e.g. $\\alpha$ = 0.2) can sometimes lead to even better results.\n",
    "\n",
    "\n",
    "- The small slope ensures that leaky ReLU neurons never die. They can go into a long coma, but they have a chance to eventually wake up (as the activation output will likely never become exactly zero, though it may be very small).\n",
    "\n",
    "Recent papers have showed that leaky ReLUs often outperform strict ReLU functions. The **randomized leaky ReLU (RReLU)**, where $\\alpha$ is picked randomly in a given range during training (and is fixed to an average value during testing), as well as the **parametric leaky ReLU (PReLU)**, where $\\alpha$ is authorized to be learned during training, have also both been shown to produce strong results. The RReLU in particular seems to act as a regularizer (reducing the risk of overfitting the training set), while the parametric leaky ReLU (PReLU) tends to outperform ReLU on large image datasets, but on smaller datasets it runs the risk of overfitting the training set.\n",
    "\n",
    "Below we we have plotted the activation output and derivative of a basic leaky ReLU implementation."
   ]
  },
  {
   "cell_type": "code",
   "execution_count": 20,
   "metadata": {
    "colab": {
     "base_uri": "https://localhost:8080/",
     "height": 296
    },
    "colab_type": "code",
    "executionInfo": {
     "elapsed": 83400,
     "status": "ok",
     "timestamp": 1563490120549,
     "user": {
      "displayName": "Michael Ciniello",
      "photoUrl": "https://lh4.googleusercontent.com/-Sc81UFAmWWE/AAAAAAAAAAI/AAAAAAAAInI/ccJjIOAmlUo/s64/photo.jpg",
      "userId": "09099206197539783636"
     },
     "user_tz": 240
    },
    "id": "Ggy3IABYl9rD",
    "outputId": "f5422074-d4fb-4730-e03e-c3f2b2d48be5"
   },
   "outputs": [
    {
     "data": {
      "image/png": "[encoded data removed]",
      "text/plain": [
       "<Figure size 432x288 with 1 Axes>"
      ]
     },
     "metadata": {
      "needs_background": "light"
     },
     "output_type": "display_data"
    }
   ],
   "source": [
    "# Plot the sigmoid function\n",
    "z = np.linspace(-5, 5, 200)\n",
    "\n",
    "# high alpha for visualization purposes\n",
    "def leaky_relu(z, alpha=0.1):\n",
    "    return np.where(z < 0, alpha*z,z)\n",
    "\n",
    "def leaky_relu_gradient(z, alpha=0.1):\n",
    "    return np.where(z < 0, alpha,1)\n",
    "\n",
    "\n",
    "plt.plot([0, 0], [-5, 5], 'k--')\n",
    "plt.plot([-5, 5], [0, 0], 'k--')\n",
    "plt.plot(z, leaky_relu(z), \"b-\", linewidth=2, label='Activation')\n",
    "plt.plot(z, leaky_relu_gradient(z), \"g-\", linewidth=2, label='Derivative')\n",
    "plt.legend()\n",
    "plt.grid(True)\n",
    "plt.title(\"Leaky ReLU (α=0.1) Activation & Derivative\", fontsize=14)\n",
    "plt.axis([-5,5, -0.5, 3])\n",
    "plt.xlabel('WX+b')\n",
    "plt.ylabel('Activation & Derivative')\n",
    "plt.show()"
   ]
  },
  {
   "cell_type": "markdown",
   "metadata": {
    "colab_type": "text",
    "id": "m9Ith3AEl9rF"
   },
   "source": [
    "**Exponential Linear Unit (ELU):**\n",
    "\n",
    "Soon after ReLU was proposed, a 2015 paper by Djork-Arné Clevert et al. proposed a new activation function called the **exponential linear unit (ELU)** that outperformed all the ReLU variants in their experiments (training time was reduced and the neural network performed better on the test set). It is shown below.\n",
    "\n",
    "$$f(x) = \\left \\{\t\\begin{array}{rcl}\t\\alpha (exp(x) - 1) & \\mbox{for} & x \\le 0\\\\\tx & \\mbox{for} & x > 0\\end{array} \\right.$$\n",
    "\n",
    "We have plotted the function as well as its derivative below."
   ]
  },
  {
   "cell_type": "code",
   "execution_count": 21,
   "metadata": {
    "colab": {
     "base_uri": "https://localhost:8080/",
     "height": 296
    },
    "colab_type": "code",
    "executionInfo": {
     "elapsed": 83687,
     "status": "ok",
     "timestamp": 1563490120845,
     "user": {
      "displayName": "Michael Ciniello",
      "photoUrl": "https://lh4.googleusercontent.com/-Sc81UFAmWWE/AAAAAAAAAAI/AAAAAAAAInI/ccJjIOAmlUo/s64/photo.jpg",
      "userId": "09099206197539783636"
     },
     "user_tz": 240
    },
    "id": "VHn1k58cl9rG",
    "outputId": "439095dc-1bf9-466c-cb9b-2d0a50e1b2c0"
   },
   "outputs": [
    {
     "data": {
      "image/png": "[encoded data removed]",
      "text/plain": [
       "<Figure size 432x288 with 1 Axes>"
      ]
     },
     "metadata": {
      "needs_background": "light"
     },
     "output_type": "display_data"
    }
   ],
   "source": [
    "# Plot the sigmoid function\n",
    "z = np.linspace(-5, 5, 200)\n",
    "\n",
    "# high alpha for visualization purposes\n",
    "def elu(z, alpha=1):\n",
    "    return np.where(z < 0, alpha*np.exp(z)-1,z)\n",
    "\n",
    "def elu_gradient(z, alpha=1):\n",
    "    return np.where(z < 0, alpha*np.exp(z),1)\n",
    "\n",
    "plt.plot([0, 0], [-5, 5], 'k--')\n",
    "plt.plot([-5, 5], [0, 0], 'k--')\n",
    "plt.plot(z, elu(z), \"b-\", linewidth=2, label='Activation')\n",
    "plt.plot(z, elu_gradient(z), \"g-\", linewidth=2, label='Derivative')\n",
    "plt.legend()\n",
    "plt.grid(True)\n",
    "plt.title(\"ELU (α=1) Activation & Derivative\", fontsize=14)\n",
    "plt.axis([-5,5, -2, 3])\n",
    "plt.xlabel('WX+b')\n",
    "plt.ylabel('Activation & Derivative')\n",
    "plt.show()"
   ]
  },
  {
   "cell_type": "markdown",
   "metadata": {
    "colab_type": "text",
    "id": "naViu_3Al9rI"
   },
   "source": [
    "### Choosing an Activation Function\n",
    "\n",
    "So, which activation functions should you use for the **hidden layers** of your deep neural network?\n",
    "\n",
    "The short answer is it will usually vary from dataset to dataset and the type of architecture you choose. However, this trend generally holds:\n",
    "\n",
    "- $\\text{ELU} > \\text{Leaky ReLU} > \\text{ReLU} > \\text{tanh} > \\text{sigmoid}$\n",
    "\n",
    "\n",
    "- If you don’t want to tweak yet another hyperparameter, you may just use the default $\\alpha$ values suggested earlier (0.01 for Leaky ReLU, and 1 for ELU)."
   ]
  },
  {
   "cell_type": "markdown",
   "metadata": {
    "colab_type": "text",
    "id": "gXQrHqA8l9rK"
   },
   "source": [
    "**Exercise 1**\n",
    "\n",
    "Let's try and put the `elu` function to the test and see how it compares to our results above. Start with He initialization, but feel free to try out other combinations to get the best accuracy within 10 epochs. Leverage the existing `simple_model` function to perform your tests. You can also try out the `layer1_gradients` function using the `elu` activation function to see how it affects L1 gradients *(make sure to load a smaller dataset with this function, as it will take too long with the full MNSIT dataset).*"
   ]
  },
  {
   "cell_type": "code",
   "execution_count": 22,
   "metadata": {
    "colab": {},
    "colab_type": "code",
    "id": "jYCxScKXKS8v"
   },
   "outputs": [],
   "source": [
    "# Your work here"
   ]
  },
  {
   "cell_type": "code",
   "execution_count": 23,
   "metadata": {
    "colab": {},
    "colab_type": "code",
    "id": "kIqZ_RTpKS8x"
   },
   "outputs": [],
   "source": [
    "# Your work here"
   ]
  },
  {
   "cell_type": "code",
   "execution_count": 24,
   "metadata": {
    "colab": {},
    "colab_type": "code",
    "id": "HS2w1fG7KS8z"
   },
   "outputs": [],
   "source": [
    "# Your work here"
   ]
  },
  {
   "cell_type": "markdown",
   "metadata": {
    "colab_type": "text",
    "id": "M056yNI6l9rQ"
   },
   "source": [
    "**Exercise 1 Solution**"
   ]
  },
  {
   "cell_type": "code",
   "execution_count": 25,
   "metadata": {
    "colab": {
     "base_uri": "https://localhost:8080/",
     "height": 391
    },
    "colab_type": "code",
    "executionInfo": {
     "elapsed": 91309,
     "status": "ok",
     "timestamp": 1563490128482,
     "user": {
      "displayName": "Michael Ciniello",
      "photoUrl": "https://lh4.googleusercontent.com/-Sc81UFAmWWE/AAAAAAAAAAI/AAAAAAAAInI/ccJjIOAmlUo/s64/photo.jpg",
      "userId": "09099206197539783636"
     },
     "user_tz": 240
    },
    "id": "4dJMtVcEl9rQ",
    "outputId": "ce42f98b-2b05-4c9a-811a-a850afc94f35"
   },
   "outputs": [
    {
     "name": "stdout",
     "output_type": "stream",
     "text": [
      "Epoch 1/10\n",
      " 7/19 [==========>...................] - ETA: 0s - loss: 2.4037 - accuracy: 0.2305"
     ]
    },
    {
     "name": "stderr",
     "output_type": "stream",
     "text": [
      "2022-08-16 10:48:01.737930: I tensorflow/core/grappler/optimizers/custom_graph_optimizer_registry.cc:112] Plugin optimizer for device_type GPU is enabled.\n"
     ]
    },
    {
     "name": "stdout",
     "output_type": "stream",
     "text": [
      "19/19 [==============================] - 1s 25ms/step - loss: 2.1287 - accuracy: 0.3175 - val_loss: 1.7234 - val_accuracy: 0.4559\n",
      "Epoch 2/10\n",
      " 4/19 [=====>........................] - ETA: 0s - loss: 1.7465 - accuracy: 0.4473"
     ]
    },
    {
     "name": "stderr",
     "output_type": "stream",
     "text": [
      "2022-08-16 10:48:02.206753: I tensorflow/core/grappler/optimizers/custom_graph_optimizer_registry.cc:112] Plugin optimizer for device_type GPU is enabled.\n"
     ]
    },
    {
     "name": "stdout",
     "output_type": "stream",
     "text": [
      "19/19 [==============================] - 0s 21ms/step - loss: 1.5880 - accuracy: 0.5034 - val_loss: 1.3735 - val_accuracy: 0.5866\n",
      "Epoch 3/10\n",
      "19/19 [==============================] - 0s 20ms/step - loss: 1.3055 - accuracy: 0.6059 - val_loss: 1.1621 - val_accuracy: 0.6620\n",
      "Epoch 4/10\n",
      "19/19 [==============================] - 0s 20ms/step - loss: 1.1201 - accuracy: 0.6703 - val_loss: 1.0166 - val_accuracy: 0.7074\n",
      "Epoch 5/10\n",
      "19/19 [==============================] - 0s 20ms/step - loss: 0.9866 - accuracy: 0.7162 - val_loss: 0.9082 - val_accuracy: 0.7425\n",
      "Epoch 6/10\n",
      "19/19 [==============================] - 0s 20ms/step - loss: 0.8850 - accuracy: 0.7502 - val_loss: 0.8240 - val_accuracy: 0.7688\n",
      "Epoch 7/10\n",
      "19/19 [==============================] - 0s 20ms/step - loss: 0.8052 - accuracy: 0.7746 - val_loss: 0.7572 - val_accuracy: 0.7891\n",
      "Epoch 8/10\n",
      "19/19 [==============================] - 0s 20ms/step - loss: 0.7414 - accuracy: 0.7924 - val_loss: 0.7034 - val_accuracy: 0.8046\n",
      "Epoch 9/10\n",
      "19/19 [==============================] - 0s 20ms/step - loss: 0.6897 - accuracy: 0.8073 - val_loss: 0.6594 - val_accuracy: 0.8153\n",
      "Epoch 10/10\n",
      "19/19 [==============================] - 0s 20ms/step - loss: 0.6469 - accuracy: 0.8192 - val_loss: 0.6229 - val_accuracy: 0.8261\n"
     ]
    },
    {
     "data": {
      "text/plain": [
       "<keras.callbacks.History at 0x177939280>"
      ]
     },
     "execution_count": 25,
     "metadata": {},
     "output_type": "execute_result"
    }
   ],
   "source": [
    "# Set params\n",
    "activate = 'elu'\n",
    "init = tf.keras.initializers.he_uniform()\n",
    "\n",
    "# Run model\n",
    "optimizer = tf.keras.optimizers.SGD(0.01)\n",
    "model_he_elu = simple_model(init, activate)\n",
    "model_he_elu.compile(optimizer=optimizer, loss='categorical_crossentropy', metrics=['accuracy'])\n",
    "model_he_elu.fit(X_train, y_train, epochs=10, batch_size=3200, validation_data=(X_test, y_test))"
   ]
  },
  {
   "cell_type": "code",
   "execution_count": 26,
   "metadata": {
    "colab": {
     "base_uri": "https://localhost:8080/",
     "height": 283
    },
    "colab_type": "code",
    "executionInfo": {
     "elapsed": 91725,
     "status": "ok",
     "timestamp": 1563490128908,
     "user": {
      "displayName": "Michael Ciniello",
      "photoUrl": "https://lh4.googleusercontent.com/-Sc81UFAmWWE/AAAAAAAAAAI/AAAAAAAAInI/ccJjIOAmlUo/s64/photo.jpg",
      "userId": "09099206197539783636"
     },
     "user_tz": 240
    },
    "id": "TLsbb-qGl9rS",
    "outputId": "5e5c2aa9-1f38-47a1-cb6e-d89a5fcf100e"
   },
   "outputs": [
    {
     "data": {
      "image/png": "[encoded data removed]",
      "text/plain": [
       "<Figure size 432x288 with 1 Axes>"
      ]
     },
     "metadata": {
      "needs_background": "light"
     },
     "output_type": "display_data"
    }
   ],
   "source": [
    "for model in [model_ze, model_rn, model_xa, model_he, model_he_elu]:\n",
    "    init = model.get_config()['layers'][1]['config']['kernel_initializer']['class_name']\n",
    "    act = model.get_config()['layers'][1]['config']['activation']\n",
    "    plt.plot(model.history.history['val_accuracy'], label = init+\"_\"+act)\n",
    "\n",
    "plt.legend()\n",
    "plt.xlabel('Epoch')\n",
    "plt.ylabel('Validation Accuracy')\n",
    "plt.show()"
   ]
  },
  {
   "cell_type": "markdown",
   "metadata": {
    "colab_type": "text",
    "id": "2iuRCPWFl9rU"
   },
   "source": [
    "It looks like when using He initialization (`VarianceScaling`) the `elu` activation function produces better results!\n",
    "\n",
    "Again, **the combination will always vary based on the dataset you are running your model on**, so there is no hard and fast rule for choosing the right initialization and activation parameters. The only option is to experiment!"
   ]
  },
  {
   "cell_type": "markdown",
   "metadata": {
    "colab_type": "text",
    "id": "0QEfUXTMl9rV",
    "toc-hr-collapsed": true
   },
   "source": [
    "## Batch Normalization"
   ]
  },
  {
   "cell_type": "markdown",
   "metadata": {
    "colab_type": "text",
    "id": "iDUEp0oul9rW"
   },
   "source": [
    "While using He initialization along with ELU can reduce vanishing/exploding gradient issues at the beginning of training, it doesn't guarantee that these won't come back at a later point in the training process. This is largely because as the training process progresses from epoch to epoch, the distribution of each layer's inputs can change significantly as the parameters of the previous layers change. This is called the **internal covariate shift problem**. To address this issue, researches came up with a technique called **batch normalization**.\n",
    "\n",
    "Batch normalization layers are added in the model just before the activation function of each layer. The operation consists of two main steps:\n",
    "\n",
    "1. **Zero-centering the inputs:** In order to zero-center and normalize the inputs the algorithm needs to estimate the mean and standard deviation of the inputs. It does so by evaluating the mean and standard deviation of the inputs over the current mini-batch (hence the name “batch normalization”).<br><br>\n",
    " \n",
    "2. **Scaling and shifting:** The zero-centered inputs are then scaled and shifted using two new learnable parameters per layer (one for scaling and one for shifting). In other words, batch normalization lets the model learn the optimal scale and mean of the inputs for each layer. \n",
    "\n",
    "Mathematically, these steps can be broken down as follows:\n",
    "\n",
    "1. **Calculate Mean**: $\\mu_B=\\frac{1}{m_B} \\sum\\limits_{i=1}^{m_B}X^i$<br><br>\n",
    "\n",
    "2. **Calculate StDev**: $\\sigma_B^2=\\frac{1}{m_B} \\sum\\limits_{i=1}^{m_B}(X^i-\\mu_B)^2$<br><br>\n",
    "\n",
    "3. **Zero Centre**: $X^i=\\frac{X^i-\\mu_B}{\\sqrt{\\sigma_B^2 + \\epsilon}}$<br><br>\n",
    "\n",
    "4. **Scale & Shift**: $Z^i=\\gamma X^i + \\beta$\n",
    "\n",
    "\n",
    "where:\n",
    "- $\\mu_B$ is the empirical mean, evaluated over the entire mini-batch.\n",
    "- $\\sigma_B$ is the empirical standard deviation, also evaluated over the entire mini-batch.\n",
    "- $m_B$ is the number of instances in the mini-batch.\n",
    "- $X^i$ is the zero-centred and normalized input.\n",
    "- $\\gamma$ is the trainable scaling parameter for the layer.\n",
    "- $\\beta$ is the trainable shifting parameter (offset) for the layer.\n",
    "- $\\epsilon$ is a tiny number to avoid division by zero (typically $10^{-3}$). This is called a *smoothing term.*\n",
    "- $Z^i$ is the output of the batch normalization operation: a scaled and shifted version of the inputs.\n",
    "\n",
    "If this process looks familiar, that is because we are simply performing a standard scaling operation that we typically perform on our input data (plus the scaling and shifting component). Essentially we are taking the standard scaling methods we would normally apply to our raw data, and applying it to the inputs at each layer."
   ]
  },
  {
   "cell_type": "markdown",
   "metadata": {
    "colab_type": "text",
    "id": "5Ik1aHVgl9rW"
   },
   "source": [
    "To add batch normalization to our model, all we have to do is add a `tensorflow.keras.layers.BatchNormalization` layer in between our dense layers. Here is the \"init signature\" for the Keras batch normalization layer:\n",
    "\n",
    "    layers.BatchNormalization(\n",
    "        ['axis=-1', 'momentum=0.99', 'epsilon=0.001', 'center=True', 'scale=True', \"beta_initializer='zeros'\", \"gamma_initializer='ones'\", \n",
    "        \"moving_mean_initializer='zeros'\", \"moving_variance_initializer='ones'\", 'beta_regularizer=None', 'gamma_regularizer=None', \n",
    "        'beta_constraint=None', 'gamma_constraint=None', 'renorm=False', 'renorm_clipping=None', 'renorm_momentum=0.99', 'fused=None', \n",
    "        'trainable=True', 'virtual_batch_size=None', 'adjustment=None', 'name=None', '**kwargs'],)\n",
    "\n",
    "The default batch normalization arguments work for most cases &mdash; however, you are encouraged to dig into the documentation for more clarity. For our purposes, it is most important to note that that each batch layer creates 4 new parameters per layer:\n",
    "\n",
    "- Two trainable parameters:\n",
    "    - γ (scale) turned on via the `scale` argument\n",
    "    - β (offset) turned on via the `center` argument\n",
    "- And two non-trainable parameters:\n",
    "    - μ (mean)\n",
    "    - σ (standard deviation)\n",
    "\n",
    "Note that we want to perform batch normalization before the activation function at each layer in order to avoid the vanishing gradient problem. To do so, we have to set the `Dense` layer activation parameter to `None` (which is actually the default parameter), and then explicitly add a `tf.layers.Activation` function after our `BatchNormalization` layer. We implement this structure below."
   ]
  },
  {
   "cell_type": "code",
   "execution_count": 27,
   "metadata": {
    "colab": {
     "base_uri": "https://localhost:8080/",
     "height": 612
    },
    "colab_type": "code",
    "executionInfo": {
     "elapsed": 92084,
     "status": "ok",
     "timestamp": 1563490129277,
     "user": {
      "displayName": "Michael Ciniello",
      "photoUrl": "https://lh4.googleusercontent.com/-Sc81UFAmWWE/AAAAAAAAAAI/AAAAAAAAInI/ccJjIOAmlUo/s64/photo.jpg",
      "userId": "09099206197539783636"
     },
     "user_tz": 240
    },
    "id": "5ZHet4qxl9ra",
    "outputId": "4c5a8acc-f20d-42b4-991d-a239bfdda364"
   },
   "outputs": [
    {
     "name": "stdout",
     "output_type": "stream",
     "text": [
      "Model WITH BatchNorm\n",
      "Model: \"sequential_5\"\n",
      "_________________________________________________________________\n",
      "Layer (type)                 Output Shape              Param #   \n",
      "=================================================================\n",
      "dense_25 (Dense)             (None, 32)                25120     \n",
      "_________________________________________________________________\n",
      "batch_normalization (BatchNo (None, 32)                128       \n",
      "_________________________________________________________________\n",
      "activation (Activation)      (None, 32)                0         \n",
      "_________________________________________________________________\n",
      "dense_26 (Dense)             (None, 32)                1056      \n",
      "_________________________________________________________________\n",
      "batch_normalization_1 (Batch (None, 32)                128       \n",
      "_________________________________________________________________\n",
      "activation_1 (Activation)    (None, 32)                0         \n",
      "_________________________________________________________________\n",
      "dense_27 (Dense)             (None, 32)                1056      \n",
      "_________________________________________________________________\n",
      "batch_normalization_2 (Batch (None, 32)                128       \n",
      "_________________________________________________________________\n",
      "activation_2 (Activation)    (None, 32)                0         \n",
      "_________________________________________________________________\n",
      "dense_28 (Dense)             (None, 32)                1056      \n",
      "_________________________________________________________________\n",
      "batch_normalization_3 (Batch (None, 32)                128       \n",
      "_________________________________________________________________\n",
      "activation_3 (Activation)    (None, 32)                0         \n",
      "_________________________________________________________________\n",
      "dense_29 (Dense)             (None, 10)                330       \n",
      "=================================================================\n",
      "Total params: 29,130\n",
      "Trainable params: 28,874\n",
      "Non-trainable params: 256\n",
      "_________________________________________________________________\n"
     ]
    }
   ],
   "source": [
    "# Initialize simple_model function\n",
    "def simple_model_bn(initializer='he_normal', activation='relu'): # Use relu as base activation function\n",
    "    return tf.keras.Sequential([layers.Dense(32, activation=None, input_shape=(784,), kernel_initializer=initializer),\n",
    "                                layers.BatchNormalization(trainable=True, scale=True, center=True), # Add BatchNorm\n",
    "                                layers.Activation(activation), # Add relu activation layer\n",
    "                                layers.Dense(32, activation=None, kernel_initializer=initializer),\n",
    "                                layers.BatchNormalization(trainable=True, scale=True, center=True), # Add BatchNorm                \n",
    "                                layers.Activation(activation), # Add relu activation layer\n",
    "                                layers.Dense(32, activation=None, kernel_initializer=initializer),\n",
    "                                layers.BatchNormalization(trainable=True, scale=True, center=True), # Add BatchNorm\n",
    "                                layers.Activation(activation), # Add relu activation layer\n",
    "                                layers.Dense(32, activation=None, kernel_initializer=initializer),\n",
    "                                layers.BatchNormalization(trainable=True, scale=True, center=True), # Add BatchNorm\n",
    "                                layers.Activation(activation), # Add relu activation layer\n",
    "                                layers.Dense(10, activation='softmax', kernel_initializer=tf.keras.initializers.glorot_normal())])\n",
    "print(\"Model WITH BatchNorm\")\n",
    "simple_model_bn().summary()"
   ]
  },
  {
   "cell_type": "markdown",
   "metadata": {
    "colab_type": "text",
    "id": "boi9lRczl9rd"
   },
   "source": [
    "As we see above, we have 128 parameters per batch normalization layer (32 neurons $\\cdot$ 4), and only half of those are trainable (hence the 256 non-trainable parameters). It is important to note that the parameters are treated slightly different during training and testing.\n",
    "\n",
    "- **Batch normalization during training**: The training data mean and standard deviation values for each mini-batch are typically calculated efficiently during training using a moving average (this is what the `momentum`, `moving_mean_initializer`, and `moving_variance_initializer` parameters in the `tf.keras.layers.BatchNormalization` function are used for).\n",
    "\n",
    "\n",
    "- **Batch normalization during testing:** There is no mini batch to compute the empirical mean and standard deviation during testing, so instead you simply use the whole training set's mean and standard deviation. That makes sense, as you want to scale and shift the testing data the exact same way you scale and shift the training data."
   ]
  },
  {
   "cell_type": "markdown",
   "metadata": {
    "colab_type": "text",
    "id": "tfIl2BPRl9rd"
   },
   "source": [
    "Batch normalization has been demonstrated to considerably improve the training performance of deep neural networks. Some of the highlights from the research using various model architectures include:\n",
    "\n",
    "- The vanishing gradients problem is strongly reduced, to the point that even saturating activation functions such as the tanh and even the sigmoid activation function could be used in hidden layers\n",
    "\n",
    "\n",
    "- Models become much less sensitive to the weight initialization\n",
    "\n",
    "\n",
    "- Larger learning rates can be used, which can significantly speed up the training process\n",
    "\n",
    "\n",
    "- Batch normalization also acts like a regularizer, reducing the need for other regularization techniques (such as dropout)\n",
    "\n",
    "As we can see from the above implementation, batch normalization can certainly add some complexity to the model, but it also **removes the need for normalizing the input data** since the first hidden layer will take care of that provided it is batch normalized. Moreover, there is a runtime penalty: the neural network makes slower predictions due to the extra computations required at each layer. So, if you need predictions to be lightning-fast, you may want to check how well plain ELU + He initialization performs before playing with batch normalization.\n",
    "\n",
    "Now, let's try to implement batch normalization using a heavily saturating activation function (the sigmoid function, for example), and see how it affects our model accuracy."
   ]
  },
  {
   "cell_type": "code",
   "execution_count": 28,
   "metadata": {
    "colab": {
     "base_uri": "https://localhost:8080/",
     "height": 391
    },
    "colab_type": "code",
    "executionInfo": {
     "elapsed": 11105,
     "status": "ok",
     "timestamp": 1563490158977,
     "user": {
      "displayName": "Michael Ciniello",
      "photoUrl": "https://lh4.googleusercontent.com/-Sc81UFAmWWE/AAAAAAAAAAI/AAAAAAAAInI/ccJjIOAmlUo/s64/photo.jpg",
      "userId": "09099206197539783636"
     },
     "user_tz": 240
    },
    "id": "3s9WYRJKl9re",
    "outputId": "791bd521-da61-4178-b171-82df1c5640db"
   },
   "outputs": [
    {
     "name": "stdout",
     "output_type": "stream",
     "text": [
      "Epoch 1/10\n"
     ]
    },
    {
     "name": "stderr",
     "output_type": "stream",
     "text": [
      "2022-08-16 10:48:15.499204: I tensorflow/core/grappler/optimizers/custom_graph_optimizer_registry.cc:112] Plugin optimizer for device_type GPU is enabled.\n"
     ]
    },
    {
     "name": "stdout",
     "output_type": "stream",
     "text": [
      "19/19 [==============================] - 1s 33ms/step - loss: 2.2436 - accuracy: 0.1941 - val_loss: 2.2976 - val_accuracy: 0.1354\n",
      "Epoch 2/10\n",
      " 5/19 [======>.......................] - ETA: 0s - loss: 1.9643 - accuracy: 0.3806"
     ]
    },
    {
     "name": "stderr",
     "output_type": "stream",
     "text": [
      "2022-08-16 10:48:16.309624: I tensorflow/core/grappler/optimizers/custom_graph_optimizer_registry.cc:112] Plugin optimizer for device_type GPU is enabled.\n"
     ]
    },
    {
     "name": "stdout",
     "output_type": "stream",
     "text": [
      "19/19 [==============================] - 0s 17ms/step - loss: 1.8518 - accuracy: 0.4506 - val_loss: 2.2904 - val_accuracy: 0.1311\n",
      "Epoch 3/10\n",
      "19/19 [==============================] - 0s 17ms/step - loss: 1.5660 - accuracy: 0.5652 - val_loss: 2.2813 - val_accuracy: 0.1508\n",
      "Epoch 4/10\n",
      "19/19 [==============================] - 0s 17ms/step - loss: 1.3517 - accuracy: 0.6288 - val_loss: 2.2690 - val_accuracy: 0.1850\n",
      "Epoch 5/10\n",
      "19/19 [==============================] - 0s 16ms/step - loss: 1.2043 - accuracy: 0.6735 - val_loss: 2.2523 - val_accuracy: 0.2350\n",
      "Epoch 6/10\n",
      "19/19 [==============================] - 0s 16ms/step - loss: 1.0893 - accuracy: 0.7082 - val_loss: 2.2290 - val_accuracy: 0.3215\n",
      "Epoch 7/10\n",
      "19/19 [==============================] - 0s 19ms/step - loss: 0.9936 - accuracy: 0.7407 - val_loss: 2.1970 - val_accuracy: 0.4413\n",
      "Epoch 8/10\n",
      "19/19 [==============================] - 0s 17ms/step - loss: 0.9122 - accuracy: 0.7675 - val_loss: 2.1531 - val_accuracy: 0.5448\n",
      "Epoch 9/10\n",
      "19/19 [==============================] - 0s 18ms/step - loss: 0.8421 - accuracy: 0.7886 - val_loss: 2.0957 - val_accuracy: 0.6444\n",
      "Epoch 10/10\n",
      "19/19 [==============================] - 0s 16ms/step - loss: 0.7821 - accuracy: 0.8053 - val_loss: 2.0238 - val_accuracy: 0.7166\n"
     ]
    },
    {
     "data": {
      "text/plain": [
       "<keras.callbacks.History at 0x2fcac8eb0>"
      ]
     },
     "execution_count": 28,
     "metadata": {},
     "output_type": "execute_result"
    }
   ],
   "source": [
    "# Set params\n",
    "init = tf.keras.initializers.random_normal()\n",
    "activate = 'relu'\n",
    "\n",
    "# Run model\n",
    "optimizer = tf.keras.optimizers.SGD(0.01)\n",
    "model_rn = simple_model_bn(init, activate)\n",
    "model_rn.compile(optimizer=optimizer, loss='categorical_crossentropy', metrics=['accuracy'])\n",
    "model_rn.fit(X_train, y_train, epochs=10, batch_size=3200, validation_data=(X_test, y_test))"
   ]
  },
  {
   "cell_type": "markdown",
   "metadata": {
    "colab_type": "text",
    "id": "M17o8iLpl9rg"
   },
   "source": [
    "Interesting! Using `random_normal` initialization and `relu`, we typically only get up to around ~20% accuracy after 10 epochs. However, with our new batch normalization model, we hit ~81%, which is pretty good considering we are using a simple initialization function. "
   ]
  },
  {
   "cell_type": "markdown",
   "metadata": {
    "colab_type": "text",
    "id": "xZu6IKT0l9rh"
   },
   "source": [
    "**Exercise 2**\n",
    "\n",
    "Try playing with the model above, using different activation as well as initialization functions and see how high you can get the 10 epoch accuracy. You could even try opening up the `simple_model_bn` function and tweaking some of the `BatchNormalization` parameters if you like (though the defaults should be fine for this relatively simple model). "
   ]
  },
  {
   "cell_type": "code",
   "execution_count": 29,
   "metadata": {
    "colab": {},
    "colab_type": "code",
    "id": "5rM5QFLoKS9K"
   },
   "outputs": [],
   "source": [
    "# Your work here"
   ]
  },
  {
   "cell_type": "code",
   "execution_count": 30,
   "metadata": {
    "colab": {},
    "colab_type": "code",
    "id": "kwXN9GavKS9M"
   },
   "outputs": [],
   "source": [
    "# Your work here"
   ]
  },
  {
   "cell_type": "code",
   "execution_count": 31,
   "metadata": {
    "colab": {},
    "colab_type": "code",
    "id": "rBvLXJexKS9N"
   },
   "outputs": [],
   "source": [
    "# Your work here"
   ]
  },
  {
   "cell_type": "markdown",
   "metadata": {
    "colab_type": "text",
    "id": "XYWw0E7tl9rh"
   },
   "source": [
    "**Exercise 2 Solution**"
   ]
  },
  {
   "cell_type": "code",
   "execution_count": 32,
   "metadata": {
    "colab": {},
    "colab_type": "code",
    "id": "tcUy5F8ml9ri",
    "outputId": "9e484597-9e7e-4e70-9d00-118d4e79c486"
   },
   "outputs": [
    {
     "name": "stdout",
     "output_type": "stream",
     "text": [
      "Epoch 1/10\n",
      " 1/19 [>.............................] - ETA: 6s - loss: 2.7634 - accuracy: 0.0809"
     ]
    },
    {
     "name": "stderr",
     "output_type": "stream",
     "text": [
      "2022-08-16 10:48:23.769295: I tensorflow/core/grappler/optimizers/custom_graph_optimizer_registry.cc:112] Plugin optimizer for device_type GPU is enabled.\n"
     ]
    },
    {
     "name": "stdout",
     "output_type": "stream",
     "text": [
      "19/19 [==============================] - 1s 26ms/step - loss: 2.5644 - accuracy: 0.1067 - val_loss: 2.4952 - val_accuracy: 0.1002\n",
      "Epoch 2/10\n",
      " 5/19 [======>.......................] - ETA: 0s - loss: 2.3642 - accuracy: 0.1663"
     ]
    },
    {
     "name": "stderr",
     "output_type": "stream",
     "text": [
      "2022-08-16 10:48:24.367947: I tensorflow/core/grappler/optimizers/custom_graph_optimizer_registry.cc:112] Plugin optimizer for device_type GPU is enabled.\n"
     ]
    },
    {
     "name": "stdout",
     "output_type": "stream",
     "text": [
      "19/19 [==============================] - 0s 17ms/step - loss: 2.2775 - accuracy: 0.2066 - val_loss: 2.2759 - val_accuracy: 0.1661\n",
      "Epoch 3/10\n",
      "19/19 [==============================] - 0s 18ms/step - loss: 2.0981 - accuracy: 0.2952 - val_loss: 2.1290 - val_accuracy: 0.2330\n",
      "Epoch 4/10\n",
      "19/19 [==============================] - 0s 16ms/step - loss: 1.9742 - accuracy: 0.3557 - val_loss: 2.0142 - val_accuracy: 0.2987\n",
      "Epoch 5/10\n",
      "19/19 [==============================] - 0s 18ms/step - loss: 1.8759 - accuracy: 0.4065 - val_loss: 1.9144 - val_accuracy: 0.3577\n",
      "Epoch 6/10\n",
      "19/19 [==============================] - 0s 19ms/step - loss: 1.7896 - accuracy: 0.4487 - val_loss: 1.8216 - val_accuracy: 0.4232\n",
      "Epoch 7/10\n",
      "19/19 [==============================] - 0s 16ms/step - loss: 1.7102 - accuracy: 0.4881 - val_loss: 1.7334 - val_accuracy: 0.4781\n",
      "Epoch 8/10\n",
      "19/19 [==============================] - 0s 16ms/step - loss: 1.6351 - accuracy: 0.5221 - val_loss: 1.6490 - val_accuracy: 0.5204\n",
      "Epoch 9/10\n",
      "19/19 [==============================] - 0s 19ms/step - loss: 1.5629 - accuracy: 0.5523 - val_loss: 1.5691 - val_accuracy: 0.5516\n",
      "Epoch 10/10\n",
      "19/19 [==============================] - 0s 17ms/step - loss: 1.4952 - accuracy: 0.5807 - val_loss: 1.4952 - val_accuracy: 0.5787\n"
     ]
    },
    {
     "data": {
      "text/plain": [
       "<keras.callbacks.History at 0x1779b6430>"
      ]
     },
     "execution_count": 32,
     "metadata": {},
     "output_type": "execute_result"
    }
   ],
   "source": [
    "# Set params\n",
    "init = tf.keras.initializers.he_normal()\n",
    "activate = 'relu'\n",
    "\n",
    "# Run model\n",
    "optimizer = tf.keras.optimizers.SGD(0.01)\n",
    "model_rn = simple_model_bn(init, activate)\n",
    "model_rn.compile(optimizer=optimizer, loss='categorical_crossentropy', metrics=['accuracy'])\n",
    "model_rn.fit(X_train, y_train, epochs=10, batch_size=3200, validation_data=(X_test, y_test))"
   ]
  },
  {
   "cell_type": "code",
   "execution_count": 33,
   "metadata": {
    "colab": {},
    "colab_type": "code",
    "id": "E4tjHSADl9rj",
    "outputId": "bb8b62da-92df-4947-dbd2-62d6cbf76f4b"
   },
   "outputs": [
    {
     "name": "stdout",
     "output_type": "stream",
     "text": [
      "Epoch 1/10\n",
      " 1/19 [>.............................] - ETA: 6s - loss: 2.4771 - accuracy: 0.1084"
     ]
    },
    {
     "name": "stderr",
     "output_type": "stream",
     "text": [
      "2022-08-16 10:48:27.832528: I tensorflow/core/grappler/optimizers/custom_graph_optimizer_registry.cc:112] Plugin optimizer for device_type GPU is enabled.\n"
     ]
    },
    {
     "name": "stdout",
     "output_type": "stream",
     "text": [
      "19/19 [==============================] - 1s 27ms/step - loss: 2.3460 - accuracy: 0.1470 - val_loss: 2.2220 - val_accuracy: 0.1767\n",
      "Epoch 2/10\n",
      " 5/19 [======>.......................] - ETA: 0s - loss: 2.2018 - accuracy: 0.2049"
     ]
    },
    {
     "name": "stderr",
     "output_type": "stream",
     "text": [
      "2022-08-16 10:48:28.402063: I tensorflow/core/grappler/optimizers/custom_graph_optimizer_registry.cc:112] Plugin optimizer for device_type GPU is enabled.\n"
     ]
    },
    {
     "name": "stdout",
     "output_type": "stream",
     "text": [
      "19/19 [==============================] - 0s 18ms/step - loss: 2.1328 - accuracy: 0.2484 - val_loss: 2.1101 - val_accuracy: 0.2378\n",
      "Epoch 3/10\n",
      "19/19 [==============================] - 0s 20ms/step - loss: 1.9739 - accuracy: 0.3518 - val_loss: 1.9945 - val_accuracy: 0.3088\n",
      "Epoch 4/10\n",
      "19/19 [==============================] - 0s 17ms/step - loss: 1.8480 - accuracy: 0.4252 - val_loss: 1.8814 - val_accuracy: 0.3849\n",
      "Epoch 5/10\n",
      "19/19 [==============================] - 0s 17ms/step - loss: 1.7417 - accuracy: 0.4813 - val_loss: 1.7759 - val_accuracy: 0.4665\n",
      "Epoch 6/10\n",
      "19/19 [==============================] - 0s 21ms/step - loss: 1.6487 - accuracy: 0.5276 - val_loss: 1.6789 - val_accuracy: 0.5255\n",
      "Epoch 7/10\n",
      "19/19 [==============================] - 0s 18ms/step - loss: 1.5658 - accuracy: 0.5671 - val_loss: 1.5888 - val_accuracy: 0.5751\n",
      "Epoch 8/10\n",
      "19/19 [==============================] - 0s 17ms/step - loss: 1.4907 - accuracy: 0.6007 - val_loss: 1.5048 - val_accuracy: 0.6120\n",
      "Epoch 9/10\n",
      "19/19 [==============================] - 0s 19ms/step - loss: 1.4211 - accuracy: 0.6306 - val_loss: 1.4267 - val_accuracy: 0.6379\n",
      "Epoch 10/10\n",
      "19/19 [==============================] - 0s 18ms/step - loss: 1.3562 - accuracy: 0.6578 - val_loss: 1.3543 - val_accuracy: 0.6630\n"
     ]
    },
    {
     "data": {
      "text/plain": [
       "<keras.callbacks.History at 0x323152280>"
      ]
     },
     "execution_count": 33,
     "metadata": {},
     "output_type": "execute_result"
    }
   ],
   "source": [
    "# Set params\n",
    "init = tf.keras.initializers.he_uniform()\n",
    "activate = 'relu'\n",
    "\n",
    "# Run model\n",
    "optimizer = tf.keras.optimizers.SGD(0.01)\n",
    "model_rn = simple_model_bn(init, activate)\n",
    "model_rn.compile(optimizer=optimizer, loss='categorical_crossentropy', metrics=['accuracy'])\n",
    "model_rn.fit(X_train, y_train, epochs=10, batch_size=3200, validation_data=(X_test, y_test))"
   ]
  },
  {
   "cell_type": "markdown",
   "metadata": {
    "colab_type": "text",
    "id": "bWowfZ0BKS9a"
   },
   "source": [
    "**End of Part 1**\n",
    "\n",
    "This notebook makes up one part of this module. Now that you have completed this part, please proceed to the next notebook in this module.\n",
    "\n",
    "If you have any questions, please reach out to your peers using the discussion boards. If you and your peers are unable to come to a suitable conclusion, do not hesitate to reach out to your instructor on the designated discussion board."
   ]
  },
  {
   "cell_type": "markdown",
   "metadata": {},
   "source": [
    "# References\n",
    "\n",
    "- Clevert, D., Unterthiner, T., & Hochreiter, S. (2015). *Fast and Accurate Deep Network Learning by Exponential Linear Unites (ELUs)*. Cornell University. Published as a conference paper at ICLR 2016.\n",
    "\n",
    "\n",
    "- Glorot, X., & Bengio, Y. (2010). Understanding the difficulty of training deep feedforward neural networks in *Volume 9: Proceedings of the Thirteenth International Conference on Artificial Intelligence and Statistics, 13-15 May 2010, Chia Laguna Resort, Sardinia, Italy* http://proceedings.mlr.press/v9/glorot10a/glorot10a.pdf\n",
    "\n",
    "\n",
    "- PMLR. (2010). *Volume 9: Proceedings of the Thirteenth International Conference on Artificial Intelligence and Statistics, 13-15 May 2010, Chia Laguna Resort, Sardinia, Italy.* http://proceedings.mlr.press/v9/"
   ]
  },
  {
   "cell_type": "code",
   "execution_count": null,
   "metadata": {
    "colab": {},
    "colab_type": "code",
    "id": "qabDriMqKS9b"
   },
   "outputs": [],
   "source": []
  },
  {
   "cell_type": "code",
   "execution_count": null,
   "metadata": {},
   "outputs": [],
   "source": []
  }
 ],
 "metadata": {
  "colab": {
   "collapsed_sections": [],
   "name": "Module11_Part1_edited_by_ML_MC.ipynb",
   "provenance": [],
   "toc_visible": true,
   "version": "0.3.2"
  },
  "kernelspec": {
   "display_name": "Python 3",
   "language": "python",
   "name": "python3"
  },
  "language_info": {
   "codemirror_mode": {
    "name": "ipython",
    "version": 3
   },
   "file_extension": ".py",
   "mimetype": "text/x-python",
   "name": "python",
   "nbconvert_exporter": "python",
   "pygments_lexer": "ipython3",
   "version": "3.8.3"
  }
 },
 "nbformat": 4,
 "nbformat_minor": 1
}
