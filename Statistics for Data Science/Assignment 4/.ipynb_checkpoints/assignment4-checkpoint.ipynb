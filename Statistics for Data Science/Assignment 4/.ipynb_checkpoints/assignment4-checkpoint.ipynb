{
 "cells": [
  {
   "cell_type": "markdown",
   "metadata": {},
   "source": [
    "## Assignment 4"
   ]
  },
  {
   "cell_type": "markdown",
   "metadata": {},
   "source": [
    "### Paulo Santiago"
   ]
  },
  {
   "cell_type": "markdown",
   "metadata": {},
   "source": [
    "This assignment asks you to use resources at hand to apply module 6 - Linear Regression to several sets of data."
   ]
  },
  {
   "cell_type": "markdown",
   "metadata": {},
   "source": [
    "## Learning Outcomes"
   ]
  },
  {
   "cell_type": "markdown",
   "metadata": {},
   "source": [
    "- Exploratory analysis for regression\n",
    "- Understand difference between linear and non-linear models\n",
    "- Carry out OLS regression model\n",
    "- Evaluate model\n"
   ]
  },
  {
   "cell_type": "markdown",
   "metadata": {},
   "source": [
    "**Question 1**\n",
    "\n",
    "* For each data set in Assignment4_linear_regression_data.xlsx:\n",
    "\n",
    "- Create a scatter plot and visually decide if a linear model is appropriate (a matrix scatter plot will would be most efficient).\n",
    "\n",
    "* If the relation is not linear, transform the data accordingly. \n",
    " - Try logarithm, exponential, square root, square, etc., for Y and/or X until you see a linear relation.  You only need to report what is the transformation chosen, not all the attempts. \n",
    " Note:  most of the time, you can guess visually. A systematic way is to create a matrix scatter plot of the different transformations.  A generic way we did not cover is to use a Box-Cox transformation. \n",
    " \n",
    "* Create an OLS model for the original and transformed data if required. \n",
    " - Evaluate if the OLS assumptions are met: normality of errors centered around zero, equal variance, etc..., for the original data and transformed data if appropriate. \n",
    "\n",
    " - Comment how the transformation impacted the different assumptions. (This should be done only by looking at the output diagnostic charts created by the software)\n",
    " - If datasets have outliers, remove the outliers and see the effect in the model (slope, intercept and R-square)\n"
   ]
  },
  {
   "cell_type": "markdown",
   "metadata": {
    "collapsed": true
   },
   "source": [
    "The output of the assignment should be: \n",
    "\n",
    "- OLS full report for the original and transformed data if appropriate (only two datasets should need transformation).\n",
    "\n",
    "- A short comment on the validity of the linear assumptions for the original and transformed data set when appropriate (it should not need to be longer than a couple of sentences).\n",
    "\n",
    "- An interpretation of the slope and intercept in relation to the original data, i.e. if the model is linear [intercept value] is the expected value when the independent variable is zero, etc.).  If the model is not linear, you need to transform the equation back to its original form.  \n",
    "\n",
    "Check out the following if you need further guidance:\n",
    "http://www.bzst.com/2009/09/interpreting-log-transformed-variables.html\n",
    "\n",
    "https://stats.idre.ucla.edu/other/mult-pkg/faq/general/faqhow-do-i-interpret-a-regression-model-when-some-variables-are-log-transformed/\n",
    "\n",
    "https://stats.idre.ucla.edu/sas/faq/how-can-i-interpret-log-transformed-variables-in-terms-of-percent-change-in-linear-regression/\n",
    "\n",
    "https://stats.stackexchange.com/questions/266722/interpretation-of-linear-regression-results-where-dependent-variable-is-transfor\n",
    "\n",
    "- If the dataset have outliers, determine if the outlier have leverage or not by comparing the OLS with and without the outlier.\n"
   ]
  },
  {
   "cell_type": "code",
   "execution_count": 102,
   "metadata": {},
   "outputs": [],
   "source": [
    "import pandas as pd\n",
    "import numpy as np\n",
    "import matplotlib.pyplot as plt\n",
    "import seaborn as sns\n",
    "import statsmodels.formula.api as sm\n",
    "import scipy\n",
    "#from scipy import stats\n",
    "from statsmodels.graphics.regressionplots import plot_regress_exog, plot_fit, plot_leverage_resid2, influence_plot"
   ]
  },
  {
   "cell_type": "code",
   "execution_count": 2,
   "metadata": {},
   "outputs": [
    {
     "data": {
      "text/plain": [
       "'\\ndf1\\ndf2\\ndf3\\ndf4\\ndf5\\ndf6\\n'"
      ]
     },
     "execution_count": 2,
     "metadata": {},
     "output_type": "execute_result"
    }
   ],
   "source": [
    "xlsx = pd.ExcelFile('Assignment4_linear_regresion_data.xlsx')\n",
    "\n",
    "df1 = pd.read_excel(xlsx, 'Set 1')\n",
    "df2 = pd.read_excel(xlsx, 'Set 2')\n",
    "df3 = pd.read_excel(xlsx, 'Set 3')\n",
    "# rename 'Y' column to lowercase to match others\n",
    "df3 = df3.rename(str.lower, axis='columns')\n",
    "\n",
    "df4 = pd.read_excel(xlsx, 'Set 4')\n",
    "df4 = df4.rename(str.lower, axis='columns')\n",
    "\n",
    "df5 = pd.read_excel(xlsx, 'Set 5')\n",
    "df5 = df5.rename(str.lower, axis='columns')\n",
    "\n",
    "df6 = pd.read_excel(xlsx, 'Set 6')"
   ]
  },
  {
   "cell_type": "markdown",
   "metadata": {},
   "source": [
    "# Set 1"
   ]
  },
  {
   "cell_type": "code",
   "execution_count": 3,
   "metadata": {},
   "outputs": [
    {
     "data": {
      "image/png": "[encoded data removed]",
      "text/plain": [
       "<Figure size 432x288 with 1 Axes>"
      ]
     },
     "metadata": {
      "needs_background": "light"
     },
     "output_type": "display_data"
    }
   ],
   "source": [
    "# Set 1\n",
    "plt.plot(df1.x, df1.y, 'o')\n",
    "plt.xlabel('x')\n",
    "plt.ylabel('y')\n",
    "plt.title('Data Set 1 (Original)')\n",
    "plt.show()"
   ]
  },
  {
   "cell_type": "markdown",
   "metadata": {},
   "source": [
    "## Visual Analysis"
   ]
  },
  {
   "cell_type": "markdown",
   "metadata": {},
   "source": [
    "Looking at the scatter plot of Data Set 1, visually we can see that there is a strong, positive correlation in the data. As x increases, so does y. It looks like there are no outliers, so a transformation of the data set is not necessary. An OLS regression will be performed on the original data set."
   ]
  },
  {
   "cell_type": "code",
   "execution_count": 4,
   "metadata": {},
   "outputs": [
    {
     "data": {
      "text/html": [
       "<div>\n",
       "<style scoped>\n",
       "    .dataframe tbody tr th:only-of-type {\n",
       "        vertical-align: middle;\n",
       "    }\n",
       "\n",
       "    .dataframe tbody tr th {\n",
       "        vertical-align: top;\n",
       "    }\n",
       "\n",
       "    .dataframe thead th {\n",
       "        text-align: right;\n",
       "    }\n",
       "</style>\n",
       "<table border=\"1\" class=\"dataframe\">\n",
       "  <thead>\n",
       "    <tr style=\"text-align: right;\">\n",
       "      <th></th>\n",
       "      <th>y</th>\n",
       "      <th>x</th>\n",
       "    </tr>\n",
       "  </thead>\n",
       "  <tbody>\n",
       "    <tr>\n",
       "      <th>y</th>\n",
       "      <td>1.000000</td>\n",
       "      <td>0.989468</td>\n",
       "    </tr>\n",
       "    <tr>\n",
       "      <th>x</th>\n",
       "      <td>0.989468</td>\n",
       "      <td>1.000000</td>\n",
       "    </tr>\n",
       "  </tbody>\n",
       "</table>\n",
       "</div>"
      ],
      "text/plain": [
       "          y         x\n",
       "y  1.000000  0.989468\n",
       "x  0.989468  1.000000"
      ]
     },
     "execution_count": 4,
     "metadata": {},
     "output_type": "execute_result"
    }
   ],
   "source": [
    "# correlation matrix\n",
    "df1_cm = df1.corr(method = 'pearson')\n",
    "df1_cm"
   ]
  },
  {
   "cell_type": "code",
   "execution_count": 5,
   "metadata": {},
   "outputs": [
    {
     "name": "stdout",
     "output_type": "stream",
     "text": [
      "df1 x mean = 5.809318189398433 df1 y mean = 29.193214088275504\n"
     ]
    }
   ],
   "source": [
    "# mean of x and y\n",
    "df1_mu_x = np.mean(df1.x)\n",
    "df1_mu_y = np.mean(df1.y)\n",
    "\n",
    "print(\"df1 x mean =\", df1_mu_x, \"df1 y mean =\", df1_mu_y)"
   ]
  },
  {
   "cell_type": "code",
   "execution_count": 6,
   "metadata": {},
   "outputs": [
    {
     "name": "stdout",
     "output_type": "stream",
     "text": [
      "df1 x standard deviation = 2.6177123843290535 df1 y standard deviation = 13.186232166883334\n"
     ]
    }
   ],
   "source": [
    "# standard deviation of x and y\n",
    "df1_sig_x = np.std(df1.x, ddof=1)\n",
    "df1_sig_y = np.std(df1.y, ddof=1 )\n",
    "\n",
    "print(\"df1 x standard deviation =\", df1_sig_x, \"df1 y standard deviation =\", df1_sig_y)"
   ]
  },
  {
   "cell_type": "code",
   "execution_count": 7,
   "metadata": {},
   "outputs": [
    {
     "name": "stdout",
     "output_type": "stream",
     "text": [
      "df1 B0 = 0.23807024664960608 df1 B1 = 4.984258547666893\n"
     ]
    }
   ],
   "source": [
    "# B0 and B1 of regression\n",
    "df1_beta_1 = df1_sig_y/df1_sig_x * df1_cm.loc['x', 'y']\n",
    "df1_beta_0 = df1_mu_y - df1_beta_1 * df1_mu_x\n",
    "\n",
    "print(\"df1 B0 =\", df1_beta_0, \"df1 B1 =\", df1_beta_1)"
   ]
  },
  {
   "cell_type": "code",
   "execution_count": 8,
   "metadata": {},
   "outputs": [],
   "source": [
    "# use OLS method\n",
    "df1_m = sm.ols('y ~ x', data = df1)"
   ]
  },
  {
   "cell_type": "code",
   "execution_count": 9,
   "metadata": {},
   "outputs": [],
   "source": [
    "# get the fit of m\n",
    "df1_m = df1_m.fit()"
   ]
  },
  {
   "cell_type": "code",
   "execution_count": 10,
   "metadata": {},
   "outputs": [
    {
     "data": {
      "text/plain": [
       "Intercept    0.238070\n",
       "x            4.984259\n",
       "dtype: float64"
      ]
     },
     "execution_count": 10,
     "metadata": {},
     "output_type": "execute_result"
    }
   ],
   "source": [
    "# show intercept and x coefficient\n",
    "df1_m.params"
   ]
  },
  {
   "cell_type": "code",
   "execution_count": 11,
   "metadata": {},
   "outputs": [],
   "source": [
    "df1_intercept, df1_slope = df1_m.params\n",
    "df1['y_est'] = df1_intercept + df1_slope * df1.x"
   ]
  },
  {
   "cell_type": "code",
   "execution_count": 12,
   "metadata": {},
   "outputs": [
    {
     "data": {
      "image/png": "[encoded data removed]",
      "text/plain": [
       "<Figure size 432x288 with 1 Axes>"
      ]
     },
     "metadata": {
      "needs_background": "light"
     },
     "output_type": "display_data"
    }
   ],
   "source": [
    "# plot OLS\n",
    "# plot observations\n",
    "plt.plot(df1.x, df1.y, 'o', label = 'Observations')\n",
    "plt.xlabel('x')\n",
    "plt.ylabel('y')\n",
    "plt.title('Data Set 1 (OLS Regression)')\n",
    "\n",
    "# plot estimates\n",
    "plt.plot(df1.x, df1.y_est, 'r+', label='Estimates')\n",
    "\n",
    "# plot regression\n",
    "plt.plot(df1.x, df1.y_est, 'r-', label='Regression line')\n",
    "\n",
    "# plot errors\n",
    "plt.vlines(df1.x, df1.y_est, df1.y, linestyles='dashed', label = 'errors')\n",
    "\n",
    "# add legend\n",
    "plt.legend()\n",
    "plt.show()"
   ]
  },
  {
   "cell_type": "code",
   "execution_count": 13,
   "metadata": {},
   "outputs": [
    {
     "data": {
      "text/html": [
       "<table class=\"simpletable\">\n",
       "<caption>OLS Regression Results</caption>\n",
       "<tr>\n",
       "  <th>Dep. Variable:</th>            <td>y</td>        <th>  R-squared:         </th> <td>   0.979</td>\n",
       "</tr>\n",
       "<tr>\n",
       "  <th>Model:</th>                   <td>OLS</td>       <th>  Adj. R-squared:    </th> <td>   0.979</td>\n",
       "</tr>\n",
       "<tr>\n",
       "  <th>Method:</th>             <td>Least Squares</td>  <th>  F-statistic:       </th> <td>   4579.</td>\n",
       "</tr>\n",
       "<tr>\n",
       "  <th>Date:</th>             <td>Sun, 20 Nov 2022</td> <th>  Prob (F-statistic):</th> <td>4.47e-84</td>\n",
       "</tr>\n",
       "<tr>\n",
       "  <th>Time:</th>                 <td>15:37:25</td>     <th>  Log-Likelihood:    </th> <td> -206.03</td>\n",
       "</tr>\n",
       "<tr>\n",
       "  <th>No. Observations:</th>      <td>   100</td>      <th>  AIC:               </th> <td>   416.1</td>\n",
       "</tr>\n",
       "<tr>\n",
       "  <th>Df Residuals:</th>          <td>    98</td>      <th>  BIC:               </th> <td>   421.3</td>\n",
       "</tr>\n",
       "<tr>\n",
       "  <th>Df Model:</th>              <td>     1</td>      <th>                     </th>     <td> </td>   \n",
       "</tr>\n",
       "<tr>\n",
       "  <th>Covariance Type:</th>      <td>nonrobust</td>    <th>                     </th>     <td> </td>   \n",
       "</tr>\n",
       "</table>\n",
       "<table class=\"simpletable\">\n",
       "<tr>\n",
       "      <td></td>         <th>coef</th>     <th>std err</th>      <th>t</th>      <th>P>|t|</th>  <th>[0.025</th>    <th>0.975]</th>  \n",
       "</tr>\n",
       "<tr>\n",
       "  <th>Intercept</th> <td>    0.2381</td> <td>    0.469</td> <td>    0.508</td> <td> 0.613</td> <td>   -0.693</td> <td>    1.169</td>\n",
       "</tr>\n",
       "<tr>\n",
       "  <th>x</th>         <td>    4.9843</td> <td>    0.074</td> <td>   67.669</td> <td> 0.000</td> <td>    4.838</td> <td>    5.130</td>\n",
       "</tr>\n",
       "</table>\n",
       "<table class=\"simpletable\">\n",
       "<tr>\n",
       "  <th>Omnibus:</th>       <td> 4.971</td> <th>  Durbin-Watson:     </th> <td>   1.982</td>\n",
       "</tr>\n",
       "<tr>\n",
       "  <th>Prob(Omnibus):</th> <td> 0.083</td> <th>  Jarque-Bera (JB):  </th> <td>   4.783</td>\n",
       "</tr>\n",
       "<tr>\n",
       "  <th>Skew:</th>          <td>-0.536</td> <th>  Prob(JB):          </th> <td>  0.0915</td>\n",
       "</tr>\n",
       "<tr>\n",
       "  <th>Kurtosis:</th>      <td> 2.988</td> <th>  Cond. No.          </th> <td>    15.9</td>\n",
       "</tr>\n",
       "</table><br/><br/>Notes:<br/>[1] Standard Errors assume that the covariance matrix of the errors is correctly specified."
      ],
      "text/plain": [
       "<class 'statsmodels.iolib.summary.Summary'>\n",
       "\"\"\"\n",
       "                            OLS Regression Results                            \n",
       "==============================================================================\n",
       "Dep. Variable:                      y   R-squared:                       0.979\n",
       "Model:                            OLS   Adj. R-squared:                  0.979\n",
       "Method:                 Least Squares   F-statistic:                     4579.\n",
       "Date:                Sun, 20 Nov 2022   Prob (F-statistic):           4.47e-84\n",
       "Time:                        15:37:25   Log-Likelihood:                -206.03\n",
       "No. Observations:                 100   AIC:                             416.1\n",
       "Df Residuals:                      98   BIC:                             421.3\n",
       "Df Model:                           1                                         \n",
       "Covariance Type:            nonrobust                                         \n",
       "==============================================================================\n",
       "                 coef    std err          t      P>|t|      [0.025      0.975]\n",
       "------------------------------------------------------------------------------\n",
       "Intercept      0.2381      0.469      0.508      0.613      -0.693       1.169\n",
       "x              4.9843      0.074     67.669      0.000       4.838       5.130\n",
       "==============================================================================\n",
       "Omnibus:                        4.971   Durbin-Watson:                   1.982\n",
       "Prob(Omnibus):                  0.083   Jarque-Bera (JB):                4.783\n",
       "Skew:                          -0.536   Prob(JB):                       0.0915\n",
       "Kurtosis:                       2.988   Cond. No.                         15.9\n",
       "==============================================================================\n",
       "\n",
       "Notes:\n",
       "[1] Standard Errors assume that the covariance matrix of the errors is correctly specified.\n",
       "\"\"\""
      ]
     },
     "execution_count": 13,
     "metadata": {},
     "output_type": "execute_result"
    }
   ],
   "source": [
    "df1_m.summary()"
   ]
  },
  {
   "cell_type": "markdown",
   "metadata": {},
   "source": [
    "## Analysis (Original Data)"
   ]
  },
  {
   "cell_type": "markdown",
   "metadata": {},
   "source": [
    "Looking at the OLS Regression summary of data set 1, the R-squared has a value of 0.979, thus the regression has a good fit with the dataset. In addition, The adjusted R-squared has the same value of 0.979. This means that if we replace some independent variables with differing numbers, the goodness of fit equation still works well. Therefore, we can conclude that the generated OLS regression fits the model well and is appropriate for the data set.\n",
    "\n",
    "The equation of the regression is y_est = 0.2381 + 4.9843x\n",
    "\n",
    "We can see that the intercept is 0.2381 and the slope or coefficient of the regresion parameters (B0 and B1) is 4.9843. There is a strong positive correlation between the two parameters."
   ]
  },
  {
   "cell_type": "markdown",
   "metadata": {},
   "source": [
    "# Set 2"
   ]
  },
  {
   "cell_type": "code",
   "execution_count": 14,
   "metadata": {},
   "outputs": [
    {
     "data": {
      "image/png": "[encoded data removed]",
      "text/plain": [
       "<Figure size 432x288 with 1 Axes>"
      ]
     },
     "metadata": {
      "needs_background": "light"
     },
     "output_type": "display_data"
    }
   ],
   "source": [
    "# Set 2\n",
    "plt.plot(df2.x, df2.y, 'o')\n",
    "plt.xlabel('x')\n",
    "plt.ylabel('y')\n",
    "plt.title('Data Set 2 (Original)')\n",
    "plt.show()"
   ]
  },
  {
   "cell_type": "markdown",
   "metadata": {},
   "source": [
    "## Visual Analysis"
   ]
  },
  {
   "cell_type": "markdown",
   "metadata": {},
   "source": [
    "Looking at the scatter plot of Data Set 2, visually we can see that there is a weak, positive correlation in the data. As x increases, so does y. There may be some outliers in the data, but first an OLS regression will be performed on the dataset and determine if further adjustments need to be made."
   ]
  },
  {
   "cell_type": "code",
   "execution_count": 15,
   "metadata": {},
   "outputs": [
    {
     "data": {
      "text/html": [
       "<div>\n",
       "<style scoped>\n",
       "    .dataframe tbody tr th:only-of-type {\n",
       "        vertical-align: middle;\n",
       "    }\n",
       "\n",
       "    .dataframe tbody tr th {\n",
       "        vertical-align: top;\n",
       "    }\n",
       "\n",
       "    .dataframe thead th {\n",
       "        text-align: right;\n",
       "    }\n",
       "</style>\n",
       "<table border=\"1\" class=\"dataframe\">\n",
       "  <thead>\n",
       "    <tr style=\"text-align: right;\">\n",
       "      <th></th>\n",
       "      <th>y</th>\n",
       "      <th>x</th>\n",
       "    </tr>\n",
       "  </thead>\n",
       "  <tbody>\n",
       "    <tr>\n",
       "      <th>y</th>\n",
       "      <td>1.000000</td>\n",
       "      <td>0.745168</td>\n",
       "    </tr>\n",
       "    <tr>\n",
       "      <th>x</th>\n",
       "      <td>0.745168</td>\n",
       "      <td>1.000000</td>\n",
       "    </tr>\n",
       "  </tbody>\n",
       "</table>\n",
       "</div>"
      ],
      "text/plain": [
       "          y         x\n",
       "y  1.000000  0.745168\n",
       "x  0.745168  1.000000"
      ]
     },
     "execution_count": 15,
     "metadata": {},
     "output_type": "execute_result"
    }
   ],
   "source": [
    "# correlation matrix\n",
    "df2_cm = df2.corr(method = 'pearson')\n",
    "df2_cm"
   ]
  },
  {
   "cell_type": "code",
   "execution_count": 16,
   "metadata": {},
   "outputs": [
    {
     "name": "stdout",
     "output_type": "stream",
     "text": [
      "df2 x mean = 5.375184037349295 df2 y mean = 26.774707353588543\n"
     ]
    }
   ],
   "source": [
    "# mean of x and y\n",
    "df2_mu_x = np.mean(df2.x)\n",
    "df2_mu_y = np.mean(df2.y)\n",
    "\n",
    "print(\"df2 x mean =\", df2_mu_x, \"df2 y mean =\", df2_mu_y)"
   ]
  },
  {
   "cell_type": "code",
   "execution_count": 17,
   "metadata": {},
   "outputs": [
    {
     "name": "stdout",
     "output_type": "stream",
     "text": [
      "df2 x standard deviation = 2.4364560000707685 df2 y standard deviation = 15.620389615388762\n"
     ]
    }
   ],
   "source": [
    "# standard deviation of x and y\n",
    "df2_sig_x = np.std(df2.x, ddof=1)\n",
    "df2_sig_y = np.std(df2.y, ddof=1 )\n",
    "\n",
    "print(\"df2 x standard deviation =\", df2_sig_x, \"df2 y standard deviation =\", df2_sig_y)"
   ]
  },
  {
   "cell_type": "code",
   "execution_count": 18,
   "metadata": {},
   "outputs": [
    {
     "name": "stdout",
     "output_type": "stream",
     "text": [
      "df2 B0 = 1.0955520655451245 df2 B1 = 4.777353688657472\n"
     ]
    }
   ],
   "source": [
    "# B0 and B1 of regression\n",
    "df2_beta_1 = df2_sig_y/df2_sig_x * df2_cm.loc['x', 'y']\n",
    "df2_beta_0 = df2_mu_y - df2_beta_1 * df2_mu_x\n",
    "\n",
    "print(\"df2 B0 =\", df2_beta_0, \"df2 B1 =\", df2_beta_1)"
   ]
  },
  {
   "cell_type": "code",
   "execution_count": 19,
   "metadata": {},
   "outputs": [],
   "source": [
    "# use OLS method\n",
    "df2_m = sm.ols('y ~ x', data = df2)"
   ]
  },
  {
   "cell_type": "code",
   "execution_count": 20,
   "metadata": {},
   "outputs": [],
   "source": [
    "# get the fit of m\n",
    "df2_m = df2_m.fit()"
   ]
  },
  {
   "cell_type": "code",
   "execution_count": 21,
   "metadata": {},
   "outputs": [
    {
     "data": {
      "text/plain": [
       "Intercept    1.095552\n",
       "x            4.777354\n",
       "dtype: float64"
      ]
     },
     "execution_count": 21,
     "metadata": {},
     "output_type": "execute_result"
    }
   ],
   "source": [
    "# show intercept and x coefficient\n",
    "df2_m.params"
   ]
  },
  {
   "cell_type": "code",
   "execution_count": 22,
   "metadata": {},
   "outputs": [],
   "source": [
    "df2_intercept, df2_slope = df2_m.params\n",
    "df2['y_est'] = df2_intercept + df2_slope * df2.x"
   ]
  },
  {
   "cell_type": "code",
   "execution_count": 23,
   "metadata": {},
   "outputs": [
    {
     "data": {
      "image/png": "[encoded data removed]",
      "text/plain": [
       "<Figure size 432x288 with 1 Axes>"
      ]
     },
     "metadata": {
      "needs_background": "light"
     },
     "output_type": "display_data"
    }
   ],
   "source": [
    "# plot OLS\n",
    "# plot observations\n",
    "plt.plot(df2.x, df2.y, 'o', label = 'Observations')\n",
    "plt.xlabel('x')\n",
    "plt.ylabel('y')\n",
    "plt.title('Data Set 2 (OLS Regression)')\n",
    "\n",
    "# plot estimates\n",
    "plt.plot(df2.x, df2.y_est, 'r+', label='Estimates')\n",
    "\n",
    "# plot regression\n",
    "plt.plot(df2.x, df2.y_est, 'r-', label='Regression line')\n",
    "\n",
    "# plot errors\n",
    "plt.vlines(df2.x, df2.y_est, df2.y, linestyles='dashed', label = 'errors')\n",
    "\n",
    "# add legend\n",
    "plt.legend()\n",
    "plt.show()"
   ]
  },
  {
   "cell_type": "code",
   "execution_count": 24,
   "metadata": {},
   "outputs": [
    {
     "data": {
      "text/html": [
       "<table class=\"simpletable\">\n",
       "<caption>OLS Regression Results</caption>\n",
       "<tr>\n",
       "  <th>Dep. Variable:</th>            <td>y</td>        <th>  R-squared:         </th> <td>   0.555</td>\n",
       "</tr>\n",
       "<tr>\n",
       "  <th>Model:</th>                   <td>OLS</td>       <th>  Adj. R-squared:    </th> <td>   0.551</td>\n",
       "</tr>\n",
       "<tr>\n",
       "  <th>Method:</th>             <td>Least Squares</td>  <th>  F-statistic:       </th> <td>   122.4</td>\n",
       "</tr>\n",
       "<tr>\n",
       "  <th>Date:</th>             <td>Sun, 20 Nov 2022</td> <th>  Prob (F-statistic):</th> <td>6.11e-19</td>\n",
       "</tr>\n",
       "<tr>\n",
       "  <th>Time:</th>                 <td>15:37:26</td>     <th>  Log-Likelihood:    </th> <td> -375.73</td>\n",
       "</tr>\n",
       "<tr>\n",
       "  <th>No. Observations:</th>      <td>   100</td>      <th>  AIC:               </th> <td>   755.5</td>\n",
       "</tr>\n",
       "<tr>\n",
       "  <th>Df Residuals:</th>          <td>    98</td>      <th>  BIC:               </th> <td>   760.7</td>\n",
       "</tr>\n",
       "<tr>\n",
       "  <th>Df Model:</th>              <td>     1</td>      <th>                     </th>     <td> </td>   \n",
       "</tr>\n",
       "<tr>\n",
       "  <th>Covariance Type:</th>      <td>nonrobust</td>    <th>                     </th>     <td> </td>   \n",
       "</tr>\n",
       "</table>\n",
       "<table class=\"simpletable\">\n",
       "<tr>\n",
       "      <td></td>         <th>coef</th>     <th>std err</th>      <th>t</th>      <th>P>|t|</th>  <th>[0.025</th>    <th>0.975]</th>  \n",
       "</tr>\n",
       "<tr>\n",
       "  <th>Intercept</th> <td>    1.0956</td> <td>    2.547</td> <td>    0.430</td> <td> 0.668</td> <td>   -3.958</td> <td>    6.149</td>\n",
       "</tr>\n",
       "<tr>\n",
       "  <th>x</th>         <td>    4.7774</td> <td>    0.432</td> <td>   11.062</td> <td> 0.000</td> <td>    3.920</td> <td>    5.634</td>\n",
       "</tr>\n",
       "</table>\n",
       "<table class=\"simpletable\">\n",
       "<tr>\n",
       "  <th>Omnibus:</th>       <td> 0.254</td> <th>  Durbin-Watson:     </th> <td>   2.043</td>\n",
       "</tr>\n",
       "<tr>\n",
       "  <th>Prob(Omnibus):</th> <td> 0.881</td> <th>  Jarque-Bera (JB):  </th> <td>   0.079</td>\n",
       "</tr>\n",
       "<tr>\n",
       "  <th>Skew:</th>          <td>-0.065</td> <th>  Prob(JB):          </th> <td>   0.961</td>\n",
       "</tr>\n",
       "<tr>\n",
       "  <th>Kurtosis:</th>      <td> 3.045</td> <th>  Cond. No.          </th> <td>    14.7</td>\n",
       "</tr>\n",
       "</table><br/><br/>Notes:<br/>[1] Standard Errors assume that the covariance matrix of the errors is correctly specified."
      ],
      "text/plain": [
       "<class 'statsmodels.iolib.summary.Summary'>\n",
       "\"\"\"\n",
       "                            OLS Regression Results                            \n",
       "==============================================================================\n",
       "Dep. Variable:                      y   R-squared:                       0.555\n",
       "Model:                            OLS   Adj. R-squared:                  0.551\n",
       "Method:                 Least Squares   F-statistic:                     122.4\n",
       "Date:                Sun, 20 Nov 2022   Prob (F-statistic):           6.11e-19\n",
       "Time:                        15:37:26   Log-Likelihood:                -375.73\n",
       "No. Observations:                 100   AIC:                             755.5\n",
       "Df Residuals:                      98   BIC:                             760.7\n",
       "Df Model:                           1                                         \n",
       "Covariance Type:            nonrobust                                         \n",
       "==============================================================================\n",
       "                 coef    std err          t      P>|t|      [0.025      0.975]\n",
       "------------------------------------------------------------------------------\n",
       "Intercept      1.0956      2.547      0.430      0.668      -3.958       6.149\n",
       "x              4.7774      0.432     11.062      0.000       3.920       5.634\n",
       "==============================================================================\n",
       "Omnibus:                        0.254   Durbin-Watson:                   2.043\n",
       "Prob(Omnibus):                  0.881   Jarque-Bera (JB):                0.079\n",
       "Skew:                          -0.065   Prob(JB):                        0.961\n",
       "Kurtosis:                       3.045   Cond. No.                         14.7\n",
       "==============================================================================\n",
       "\n",
       "Notes:\n",
       "[1] Standard Errors assume that the covariance matrix of the errors is correctly specified.\n",
       "\"\"\""
      ]
     },
     "execution_count": 24,
     "metadata": {},
     "output_type": "execute_result"
    }
   ],
   "source": [
    "df2_m.summary()"
   ]
  },
  {
   "cell_type": "markdown",
   "metadata": {},
   "source": [
    "## Analysis"
   ]
  },
  {
   "cell_type": "markdown",
   "metadata": {},
   "source": [
    "Looking at the OLS Regression summary of data set 2, the R-squared has a value of 0.555, thus the regression has a weak fit with the dataset. About slightly more than half of the data fits with the regression. In addition, The adjusted R-squared has a similar value of 0.551. Therefore, we can conclude that the generated OLS regression fits the model ok and may be appropriate for the data set. However, I will attempt to remove outliers and run another OLS regression to determine if that helps make the regression fit better.\n",
    "\n",
    "The equation of the regression is y_est = 1.0856 + 4.7774x\n",
    "\n",
    "We can see that the intercept is 1.0856 and the slope or coefficient of the regresion parameters (B0 and B1) is 4.7774. There is a strong positive correlation between the two parameters."
   ]
  },
  {
   "cell_type": "markdown",
   "metadata": {},
   "source": [
    "# Set 3"
   ]
  },
  {
   "cell_type": "code",
   "execution_count": 25,
   "metadata": {},
   "outputs": [
    {
     "data": {
      "image/png": "[encoded data removed]",
      "text/plain": [
       "<Figure size 432x288 with 1 Axes>"
      ]
     },
     "metadata": {
      "needs_background": "light"
     },
     "output_type": "display_data"
    }
   ],
   "source": [
    "# Set 3\n",
    "plt.plot(df3.x, df3.y, 'o')\n",
    "plt.xlabel('x')\n",
    "plt.ylabel('y')\n",
    "plt.title('Data Set 3 (Original)')\n",
    "plt.show()"
   ]
  },
  {
   "cell_type": "markdown",
   "metadata": {},
   "source": [
    "## Visual Analysis"
   ]
  },
  {
   "cell_type": "markdown",
   "metadata": {},
   "source": [
    "Looking at the scatter plot of Data Set 3, visually we can see that there is a positive correlation in the data. As x increases, so does y. However, visually the graph does not look linear but instead looks like it follows the curve similar to y = x^2. First an OLS regression will be performed on the dataset, then transform the data to represent it more linearly."
   ]
  },
  {
   "cell_type": "code",
   "execution_count": 26,
   "metadata": {},
   "outputs": [
    {
     "data": {
      "text/html": [
       "<div>\n",
       "<style scoped>\n",
       "    .dataframe tbody tr th:only-of-type {\n",
       "        vertical-align: middle;\n",
       "    }\n",
       "\n",
       "    .dataframe tbody tr th {\n",
       "        vertical-align: top;\n",
       "    }\n",
       "\n",
       "    .dataframe thead th {\n",
       "        text-align: right;\n",
       "    }\n",
       "</style>\n",
       "<table border=\"1\" class=\"dataframe\">\n",
       "  <thead>\n",
       "    <tr style=\"text-align: right;\">\n",
       "      <th></th>\n",
       "      <th>y</th>\n",
       "      <th>x</th>\n",
       "    </tr>\n",
       "  </thead>\n",
       "  <tbody>\n",
       "    <tr>\n",
       "      <th>y</th>\n",
       "      <td>1.000000</td>\n",
       "      <td>0.869031</td>\n",
       "    </tr>\n",
       "    <tr>\n",
       "      <th>x</th>\n",
       "      <td>0.869031</td>\n",
       "      <td>1.000000</td>\n",
       "    </tr>\n",
       "  </tbody>\n",
       "</table>\n",
       "</div>"
      ],
      "text/plain": [
       "          y         x\n",
       "y  1.000000  0.869031\n",
       "x  0.869031  1.000000"
      ]
     },
     "execution_count": 26,
     "metadata": {},
     "output_type": "execute_result"
    }
   ],
   "source": [
    "# correlation matrix\n",
    "df3_cm = df3.corr(method = 'pearson')\n",
    "df3_cm"
   ]
  },
  {
   "cell_type": "code",
   "execution_count": 27,
   "metadata": {},
   "outputs": [
    {
     "name": "stdout",
     "output_type": "stream",
     "text": [
      "df3 x mean = 5.999130000000001 df3 y mean = 3853.8435187740993\n"
     ]
    }
   ],
   "source": [
    "# mean of x and y\n",
    "df3_mu_x = np.mean(df3.x)\n",
    "df3_mu_y = np.mean(df3.y)\n",
    "\n",
    "print(\"df3 x mean =\", df3_mu_x, \"df3 y mean =\", df3_mu_y)"
   ]
  },
  {
   "cell_type": "code",
   "execution_count": 28,
   "metadata": {},
   "outputs": [
    {
     "name": "stdout",
     "output_type": "stream",
     "text": [
      "df3 x standard deviation = 2.44405810762231 df3 y standard deviation = 3042.5227162011843\n"
     ]
    }
   ],
   "source": [
    "# standard deviation of x and y\n",
    "df3_sig_x = np.std(df3.x, ddof=1)\n",
    "df3_sig_y = np.std(df3.y, ddof=1 )\n",
    "\n",
    "print(\"df3 x standard deviation =\", df3_sig_x, \"df3 y standard deviation =\", df3_sig_y)"
   ]
  },
  {
   "cell_type": "code",
   "execution_count": 29,
   "metadata": {},
   "outputs": [
    {
     "name": "stdout",
     "output_type": "stream",
     "text": [
      "df3 B0 = -2636.1748393061157 df3 B1 = 1081.8265912024267\n"
     ]
    }
   ],
   "source": [
    "# B0 and B1 of regression\n",
    "df3_beta_1 = df3_sig_y/df3_sig_x * df3_cm.loc['x', 'y']\n",
    "df3_beta_0 = df3_mu_y - df3_beta_1 * df3_mu_x\n",
    "\n",
    "print(\"df3 B0 =\", df3_beta_0, \"df3 B1 =\", df3_beta_1)"
   ]
  },
  {
   "cell_type": "code",
   "execution_count": 30,
   "metadata": {},
   "outputs": [],
   "source": [
    "# use OLS method\n",
    "df3_m = sm.ols('y ~ x', data = df3)"
   ]
  },
  {
   "cell_type": "code",
   "execution_count": 31,
   "metadata": {},
   "outputs": [],
   "source": [
    "# get the fit of m\n",
    "df3_m = df3_m.fit()"
   ]
  },
  {
   "cell_type": "code",
   "execution_count": 32,
   "metadata": {},
   "outputs": [
    {
     "data": {
      "text/plain": [
       "Intercept   -2636.174839\n",
       "x            1081.826591\n",
       "dtype: float64"
      ]
     },
     "execution_count": 32,
     "metadata": {},
     "output_type": "execute_result"
    }
   ],
   "source": [
    "# show intercept and x coefficient\n",
    "df3_m.params"
   ]
  },
  {
   "cell_type": "code",
   "execution_count": 33,
   "metadata": {},
   "outputs": [],
   "source": [
    "df3_intercept, df3_slope = df3_m.params\n",
    "df3['y_est'] = df3_intercept + df3_slope * df3.x"
   ]
  },
  {
   "cell_type": "code",
   "execution_count": 34,
   "metadata": {},
   "outputs": [
    {
     "data": {
      "image/png": "[encoded data removed]",
      "text/plain": [
       "<Figure size 432x288 with 1 Axes>"
      ]
     },
     "metadata": {
      "needs_background": "light"
     },
     "output_type": "display_data"
    }
   ],
   "source": [
    "# plot OLS\n",
    "# plot observations\n",
    "plt.plot(df3.x, df3.y, 'o', label = 'Observations')\n",
    "plt.xlabel('x')\n",
    "plt.ylabel('y')\n",
    "plt.title('Data Set 3 (OLS Regression)')\n",
    "\n",
    "# plot estimates\n",
    "plt.plot(df3.x, df3.y_est, 'r+', label='Estimates')\n",
    "\n",
    "# plot regression\n",
    "plt.plot(df3.x, df3.y_est, 'r-', label='Regression line')\n",
    "\n",
    "# plot errors\n",
    "plt.vlines(df3.x, df3.y_est, df3.y, linestyles='dashed', label = 'errors')\n",
    "\n",
    "# add legend\n",
    "plt.legend()\n",
    "plt.show()"
   ]
  },
  {
   "cell_type": "code",
   "execution_count": 35,
   "metadata": {},
   "outputs": [
    {
     "data": {
      "text/html": [
       "<table class=\"simpletable\">\n",
       "<caption>OLS Regression Results</caption>\n",
       "<tr>\n",
       "  <th>Dep. Variable:</th>            <td>y</td>        <th>  R-squared:         </th> <td>   0.755</td>\n",
       "</tr>\n",
       "<tr>\n",
       "  <th>Model:</th>                   <td>OLS</td>       <th>  Adj. R-squared:    </th> <td>   0.753</td>\n",
       "</tr>\n",
       "<tr>\n",
       "  <th>Method:</th>             <td>Least Squares</td>  <th>  F-statistic:       </th> <td>   302.4</td>\n",
       "</tr>\n",
       "<tr>\n",
       "  <th>Date:</th>             <td>Sun, 20 Nov 2022</td> <th>  Prob (F-statistic):</th> <td>1.04e-31</td>\n",
       "</tr>\n",
       "<tr>\n",
       "  <th>Time:</th>                 <td>15:37:26</td>     <th>  Log-Likelihood:    </th> <td> -873.07</td>\n",
       "</tr>\n",
       "<tr>\n",
       "  <th>No. Observations:</th>      <td>   100</td>      <th>  AIC:               </th> <td>   1750.</td>\n",
       "</tr>\n",
       "<tr>\n",
       "  <th>Df Residuals:</th>          <td>    98</td>      <th>  BIC:               </th> <td>   1755.</td>\n",
       "</tr>\n",
       "<tr>\n",
       "  <th>Df Model:</th>              <td>     1</td>      <th>                     </th>     <td> </td>   \n",
       "</tr>\n",
       "<tr>\n",
       "  <th>Covariance Type:</th>      <td>nonrobust</td>    <th>                     </th>     <td> </td>   \n",
       "</tr>\n",
       "</table>\n",
       "<table class=\"simpletable\">\n",
       "<tr>\n",
       "      <td></td>         <th>coef</th>     <th>std err</th>      <th>t</th>      <th>P>|t|</th>  <th>[0.025</th>    <th>0.975]</th>  \n",
       "</tr>\n",
       "<tr>\n",
       "  <th>Intercept</th> <td>-2636.1748</td> <td>  402.741</td> <td>   -6.546</td> <td> 0.000</td> <td>-3435.400</td> <td>-1836.949</td>\n",
       "</tr>\n",
       "<tr>\n",
       "  <th>x</th>         <td> 1081.8266</td> <td>   62.216</td> <td>   17.388</td> <td> 0.000</td> <td>  958.361</td> <td> 1205.292</td>\n",
       "</tr>\n",
       "</table>\n",
       "<table class=\"simpletable\">\n",
       "<tr>\n",
       "  <th>Omnibus:</th>       <td>21.170</td> <th>  Durbin-Watson:     </th> <td>   2.159</td>\n",
       "</tr>\n",
       "<tr>\n",
       "  <th>Prob(Omnibus):</th> <td> 0.000</td> <th>  Jarque-Bera (JB):  </th> <td>  37.896</td>\n",
       "</tr>\n",
       "<tr>\n",
       "  <th>Skew:</th>          <td> 0.863</td> <th>  Prob(JB):          </th> <td>5.90e-09</td>\n",
       "</tr>\n",
       "<tr>\n",
       "  <th>Kurtosis:</th>      <td> 5.474</td> <th>  Cond. No.          </th> <td>    17.6</td>\n",
       "</tr>\n",
       "</table><br/><br/>Notes:<br/>[1] Standard Errors assume that the covariance matrix of the errors is correctly specified."
      ],
      "text/plain": [
       "<class 'statsmodels.iolib.summary.Summary'>\n",
       "\"\"\"\n",
       "                            OLS Regression Results                            \n",
       "==============================================================================\n",
       "Dep. Variable:                      y   R-squared:                       0.755\n",
       "Model:                            OLS   Adj. R-squared:                  0.753\n",
       "Method:                 Least Squares   F-statistic:                     302.4\n",
       "Date:                Sun, 20 Nov 2022   Prob (F-statistic):           1.04e-31\n",
       "Time:                        15:37:26   Log-Likelihood:                -873.07\n",
       "No. Observations:                 100   AIC:                             1750.\n",
       "Df Residuals:                      98   BIC:                             1755.\n",
       "Df Model:                           1                                         \n",
       "Covariance Type:            nonrobust                                         \n",
       "==============================================================================\n",
       "                 coef    std err          t      P>|t|      [0.025      0.975]\n",
       "------------------------------------------------------------------------------\n",
       "Intercept  -2636.1748    402.741     -6.546      0.000   -3435.400   -1836.949\n",
       "x           1081.8266     62.216     17.388      0.000     958.361    1205.292\n",
       "==============================================================================\n",
       "Omnibus:                       21.170   Durbin-Watson:                   2.159\n",
       "Prob(Omnibus):                  0.000   Jarque-Bera (JB):               37.896\n",
       "Skew:                           0.863   Prob(JB):                     5.90e-09\n",
       "Kurtosis:                       5.474   Cond. No.                         17.6\n",
       "==============================================================================\n",
       "\n",
       "Notes:\n",
       "[1] Standard Errors assume that the covariance matrix of the errors is correctly specified.\n",
       "\"\"\""
      ]
     },
     "execution_count": 35,
     "metadata": {},
     "output_type": "execute_result"
    }
   ],
   "source": [
    "df3_m.summary()"
   ]
  },
  {
   "cell_type": "markdown",
   "metadata": {},
   "source": [
    "## Analysis"
   ]
  },
  {
   "cell_type": "markdown",
   "metadata": {},
   "source": [
    "Looking at the OLS Regression summary of data set 3, the R-squared has a value of 0.755, thus the regression has a decent fit with the dataset. In addition, The adjusted R-squared has a similar value of 0.753. Therefore, we can conclude that the generated OLS regression fits the model decently well and may be appropriate for the data set. \n",
    "\n",
    "The equation of the regression is y_est = -2636.1748 + 1081.8266x\n",
    "\n",
    "We can see that the intercept is -2636.1748 and the slope or coefficient of the regresion parameters (B0 and B1) is 1081.8266. There is a strong positive correlation between the two parameters. The intercept and coefficient variable look to large and out of place to represent the data. Thus, a transformation of the data is needed.\n",
    "\n",
    "Visually the data does not follow a linear trend, and the regression equation is not a good representation of the data. Thus, a Box-Cox transformation will be applied to the data to better represent it linearly."
   ]
  },
  {
   "cell_type": "code",
   "execution_count": 36,
   "metadata": {},
   "outputs": [
    {
     "data": {
      "text/html": [
       "<div>\n",
       "<style scoped>\n",
       "    .dataframe tbody tr th:only-of-type {\n",
       "        vertical-align: middle;\n",
       "    }\n",
       "\n",
       "    .dataframe tbody tr th {\n",
       "        vertical-align: top;\n",
       "    }\n",
       "\n",
       "    .dataframe thead th {\n",
       "        text-align: right;\n",
       "    }\n",
       "</style>\n",
       "<table border=\"1\" class=\"dataframe\">\n",
       "  <thead>\n",
       "    <tr style=\"text-align: right;\">\n",
       "      <th></th>\n",
       "      <th>y_transformed</th>\n",
       "      <th>x</th>\n",
       "    </tr>\n",
       "  </thead>\n",
       "  <tbody>\n",
       "    <tr>\n",
       "      <th>0</th>\n",
       "      <td>78.994369</td>\n",
       "      <td>9.517</td>\n",
       "    </tr>\n",
       "    <tr>\n",
       "      <th>1</th>\n",
       "      <td>54.763335</td>\n",
       "      <td>5.113</td>\n",
       "    </tr>\n",
       "    <tr>\n",
       "      <th>2</th>\n",
       "      <td>104.769880</td>\n",
       "      <td>9.773</td>\n",
       "    </tr>\n",
       "    <tr>\n",
       "      <th>3</th>\n",
       "      <td>74.057879</td>\n",
       "      <td>8.428</td>\n",
       "    </tr>\n",
       "    <tr>\n",
       "      <th>4</th>\n",
       "      <td>56.435874</td>\n",
       "      <td>5.752</td>\n",
       "    </tr>\n",
       "    <tr>\n",
       "      <th>...</th>\n",
       "      <td>...</td>\n",
       "      <td>...</td>\n",
       "    </tr>\n",
       "    <tr>\n",
       "      <th>95</th>\n",
       "      <td>72.663186</td>\n",
       "      <td>8.091</td>\n",
       "    </tr>\n",
       "    <tr>\n",
       "      <th>96</th>\n",
       "      <td>16.320093</td>\n",
       "      <td>1.325</td>\n",
       "    </tr>\n",
       "    <tr>\n",
       "      <th>97</th>\n",
       "      <td>49.668245</td>\n",
       "      <td>4.446</td>\n",
       "    </tr>\n",
       "    <tr>\n",
       "      <th>98</th>\n",
       "      <td>18.357036</td>\n",
       "      <td>1.335</td>\n",
       "    </tr>\n",
       "    <tr>\n",
       "      <th>99</th>\n",
       "      <td>55.891360</td>\n",
       "      <td>4.587</td>\n",
       "    </tr>\n",
       "  </tbody>\n",
       "</table>\n",
       "<p>100 rows × 2 columns</p>\n",
       "</div>"
      ],
      "text/plain": [
       "    y_transformed      x\n",
       "0       78.994369  9.517\n",
       "1       54.763335  5.113\n",
       "2      104.769880  9.773\n",
       "3       74.057879  8.428\n",
       "4       56.435874  5.752\n",
       "..            ...    ...\n",
       "95      72.663186  8.091\n",
       "96      16.320093  1.325\n",
       "97      49.668245  4.446\n",
       "98      18.357036  1.335\n",
       "99      55.891360  4.587\n",
       "\n",
       "[100 rows x 2 columns]"
      ]
     },
     "execution_count": 36,
     "metadata": {},
     "output_type": "execute_result"
    }
   ],
   "source": [
    "df3_y_transformed, df3_lmbda = scipy.stats.boxcox(df3.y)\n",
    "df3[\"y_transformed\"] = df3_y_transformed\n",
    "#df3_transformed = df3[[\"y_transformed\"],[]]\n",
    "df3_transformed = df3[[\"y_transformed\", \"x\"]]\n",
    "df3_transformed"
   ]
  },
  {
   "cell_type": "code",
   "execution_count": 37,
   "metadata": {},
   "outputs": [
    {
     "data": {
      "image/png": "[encoded data removed]",
      "text/plain": [
       "<Figure size 432x288 with 1 Axes>"
      ]
     },
     "metadata": {
      "needs_background": "light"
     },
     "output_type": "display_data"
    }
   ],
   "source": [
    "plt.plot(df3_transformed.x, df3_transformed.y_transformed, 'o')\n",
    "plt.xlabel('x')\n",
    "plt.ylabel('y_transformed')\n",
    "plt.title('Data Set 3 Transformed')\n",
    "plt.show()"
   ]
  },
  {
   "cell_type": "markdown",
   "metadata": {},
   "source": [
    "## Visual Analysis (Box-Cox Transformation)"
   ]
  },
  {
   "cell_type": "markdown",
   "metadata": {},
   "source": [
    "After applying the Box-Cox transformation to data set 3, visually the data better follows a linear trend rather than a parabolic trend. An OLS regression will be performed on the transformed data and compared with the original data."
   ]
  },
  {
   "cell_type": "code",
   "execution_count": 76,
   "metadata": {},
   "outputs": [
    {
     "data": {
      "text/plain": [
       "\"fig = plt.figure()\\nax1 = fig.add_subplot(211)\\nx = scipy.stats.loggamma.rvs(5, size=500) + 5\\nprob = scipy.stats.probplot(df3_transformed.x, dist=scipy.stats.norm, plot=ax1)\\nax1.set_xlabel('')\\nax1.set_title('Probplot against normal distribution')\\n\\nax2 = fig.add_subplot(212)\\nxt, _ = scipy.stats.boxcox(df3_transformed.x)\\nprob = scipy.stats.probplot(xt, dist=scipy.stats.norm, plot=ax2)\\nax2.set_title('Probplot after Box-Cox transformation')\\n\\nplt.show()\""
      ]
     },
     "execution_count": 76,
     "metadata": {},
     "output_type": "execute_result"
    }
   ],
   "source": [
    "'''fig = plt.figure()\n",
    "ax1 = fig.add_subplot(211)\n",
    "x = scipy.stats.loggamma.rvs(5, size=500) + 5\n",
    "prob = scipy.stats.probplot(df3_transformed.x, dist=scipy.stats.norm, plot=ax1)\n",
    "ax1.set_xlabel('')\n",
    "ax1.set_title('Probplot against normal distribution')\n",
    "\n",
    "ax2 = fig.add_subplot(212)\n",
    "xt, _ = scipy.stats.boxcox(df3_transformed.x)\n",
    "prob = scipy.stats.probplot(xt, dist=scipy.stats.norm, plot=ax2)\n",
    "ax2.set_title('Probplot after Box-Cox transformation')\n",
    "\n",
    "plt.show()'''"
   ]
  },
  {
   "cell_type": "code",
   "execution_count": 77,
   "metadata": {},
   "outputs": [
    {
     "data": {
      "text/html": [
       "<div>\n",
       "<style scoped>\n",
       "    .dataframe tbody tr th:only-of-type {\n",
       "        vertical-align: middle;\n",
       "    }\n",
       "\n",
       "    .dataframe tbody tr th {\n",
       "        vertical-align: top;\n",
       "    }\n",
       "\n",
       "    .dataframe thead th {\n",
       "        text-align: right;\n",
       "    }\n",
       "</style>\n",
       "<table border=\"1\" class=\"dataframe\">\n",
       "  <thead>\n",
       "    <tr style=\"text-align: right;\">\n",
       "      <th></th>\n",
       "      <th>y_transformed</th>\n",
       "      <th>x</th>\n",
       "    </tr>\n",
       "  </thead>\n",
       "  <tbody>\n",
       "    <tr>\n",
       "      <th>y_transformed</th>\n",
       "      <td>1.00000</td>\n",
       "      <td>0.93141</td>\n",
       "    </tr>\n",
       "    <tr>\n",
       "      <th>x</th>\n",
       "      <td>0.93141</td>\n",
       "      <td>1.00000</td>\n",
       "    </tr>\n",
       "  </tbody>\n",
       "</table>\n",
       "</div>"
      ],
      "text/plain": [
       "               y_transformed        x\n",
       "y_transformed        1.00000  0.93141\n",
       "x                    0.93141  1.00000"
      ]
     },
     "execution_count": 77,
     "metadata": {},
     "output_type": "execute_result"
    }
   ],
   "source": [
    "# correlation matrix\n",
    "df3_transformed_cm = df3_transformed.corr(method = 'pearson')\n",
    "df3_transformed_cm"
   ]
  },
  {
   "cell_type": "code",
   "execution_count": 79,
   "metadata": {},
   "outputs": [
    {
     "name": "stdout",
     "output_type": "stream",
     "text": [
      "df3_transformed x mean = 5.999130000000001 df3_transformed y mean = 58.071316635003\n"
     ]
    }
   ],
   "source": [
    "# mean of x and y\n",
    "df3_transformed_mu_x = np.mean(df3_transformed.x)\n",
    "df3_transformed_mu_y = np.mean(df3_transformed.y_transformed)\n",
    "\n",
    "print(\"df3_transformed x mean =\", df3_transformed_mu_x, \"df3_transformed y mean =\", df3_transformed_mu_y)"
   ]
  },
  {
   "cell_type": "code",
   "execution_count": 80,
   "metadata": {},
   "outputs": [
    {
     "name": "stdout",
     "output_type": "stream",
     "text": [
      "df3_transformed x standard deviation = 2.44405810762231 df3_transformed y standard deviation = 22.88912296027125\n"
     ]
    }
   ],
   "source": [
    "# standard deviation of x and y\n",
    "df3_transformed_sig_x = np.std(df3_transformed.x, ddof=1)\n",
    "df3_transformed_sig_y = np.std(df3_transformed.y_transformed, ddof=1 )\n",
    "\n",
    "print(\"df3_transformed x standard deviation =\", df3_transformed_sig_x, \"df3_transformed y standard deviation =\", df3_transformed_sig_y)"
   ]
  },
  {
   "cell_type": "code",
   "execution_count": 81,
   "metadata": {},
   "outputs": [
    {
     "name": "stdout",
     "output_type": "stream",
     "text": [
      "df3_transformed B0 = 5.741774392659124 df3_transformed B1 = 8.722855187726198\n"
     ]
    }
   ],
   "source": [
    "# B0 and B1 of regression\n",
    "df3_transformed_beta_1 = df3_transformed_sig_y/df3_transformed_sig_x * df3_transformed_cm.loc['x', 'y_transformed']\n",
    "df3_transformed_beta_0 = df3_transformed_mu_y - df3_transformed_beta_1 * df3_transformed_mu_x\n",
    "\n",
    "print(\"df3_transformed B0 =\", df3_transformed_beta_0, \"df3_transformed B1 =\", df3_transformed_beta_1)"
   ]
  },
  {
   "cell_type": "code",
   "execution_count": 82,
   "metadata": {},
   "outputs": [],
   "source": [
    "# use OLS method\n",
    "df3_transformed_m = sm.ols('y_transformed ~ x', data = df3_transformed)"
   ]
  },
  {
   "cell_type": "code",
   "execution_count": 83,
   "metadata": {},
   "outputs": [],
   "source": [
    "# get the fit of m\n",
    "df3_transformed_m = df3_transformed_m.fit()"
   ]
  },
  {
   "cell_type": "code",
   "execution_count": 85,
   "metadata": {},
   "outputs": [
    {
     "data": {
      "text/plain": [
       "Intercept    5.741774\n",
       "x            8.722855\n",
       "dtype: float64"
      ]
     },
     "execution_count": 85,
     "metadata": {},
     "output_type": "execute_result"
    }
   ],
   "source": [
    "# show intercept and x coefficient\n",
    "df3_transformed_m.params"
   ]
  },
  {
   "cell_type": "code",
   "execution_count": 87,
   "metadata": {},
   "outputs": [
    {
     "name": "stderr",
     "output_type": "stream",
     "text": [
      "/var/folders/dl/nzqz9d4s48z5l005svj0w2sr0000gn/T/ipykernel_27748/3443789544.py:2: SettingWithCopyWarning: \n",
      "A value is trying to be set on a copy of a slice from a DataFrame.\n",
      "Try using .loc[row_indexer,col_indexer] = value instead\n",
      "\n",
      "See the caveats in the documentation: https://pandas.pydata.org/pandas-docs/stable/user_guide/indexing.html#returning-a-view-versus-a-copy\n",
      "  df3_transformed['y_est'] = df3_transformed_intercept + df3_transformed_slope * df3_transformed.x\n"
     ]
    },
    {
     "data": {
      "text/html": [
       "<div>\n",
       "<style scoped>\n",
       "    .dataframe tbody tr th:only-of-type {\n",
       "        vertical-align: middle;\n",
       "    }\n",
       "\n",
       "    .dataframe tbody tr th {\n",
       "        vertical-align: top;\n",
       "    }\n",
       "\n",
       "    .dataframe thead th {\n",
       "        text-align: right;\n",
       "    }\n",
       "</style>\n",
       "<table border=\"1\" class=\"dataframe\">\n",
       "  <thead>\n",
       "    <tr style=\"text-align: right;\">\n",
       "      <th></th>\n",
       "      <th>y_transformed</th>\n",
       "      <th>x</th>\n",
       "      <th>y_est</th>\n",
       "    </tr>\n",
       "  </thead>\n",
       "  <tbody>\n",
       "    <tr>\n",
       "      <th>0</th>\n",
       "      <td>78.994369</td>\n",
       "      <td>9.517</td>\n",
       "      <td>88.757187</td>\n",
       "    </tr>\n",
       "    <tr>\n",
       "      <th>1</th>\n",
       "      <td>54.763335</td>\n",
       "      <td>5.113</td>\n",
       "      <td>50.341733</td>\n",
       "    </tr>\n",
       "    <tr>\n",
       "      <th>2</th>\n",
       "      <td>104.769880</td>\n",
       "      <td>9.773</td>\n",
       "      <td>90.990238</td>\n",
       "    </tr>\n",
       "    <tr>\n",
       "      <th>3</th>\n",
       "      <td>74.057879</td>\n",
       "      <td>8.428</td>\n",
       "      <td>79.257998</td>\n",
       "    </tr>\n",
       "    <tr>\n",
       "      <th>4</th>\n",
       "      <td>56.435874</td>\n",
       "      <td>5.752</td>\n",
       "      <td>55.915637</td>\n",
       "    </tr>\n",
       "    <tr>\n",
       "      <th>...</th>\n",
       "      <td>...</td>\n",
       "      <td>...</td>\n",
       "      <td>...</td>\n",
       "    </tr>\n",
       "    <tr>\n",
       "      <th>95</th>\n",
       "      <td>72.663186</td>\n",
       "      <td>8.091</td>\n",
       "      <td>76.318396</td>\n",
       "    </tr>\n",
       "    <tr>\n",
       "      <th>96</th>\n",
       "      <td>16.320093</td>\n",
       "      <td>1.325</td>\n",
       "      <td>17.299558</td>\n",
       "    </tr>\n",
       "    <tr>\n",
       "      <th>97</th>\n",
       "      <td>49.668245</td>\n",
       "      <td>4.446</td>\n",
       "      <td>44.523589</td>\n",
       "    </tr>\n",
       "    <tr>\n",
       "      <th>98</th>\n",
       "      <td>18.357036</td>\n",
       "      <td>1.335</td>\n",
       "      <td>17.386786</td>\n",
       "    </tr>\n",
       "    <tr>\n",
       "      <th>99</th>\n",
       "      <td>55.891360</td>\n",
       "      <td>4.587</td>\n",
       "      <td>45.753511</td>\n",
       "    </tr>\n",
       "  </tbody>\n",
       "</table>\n",
       "<p>100 rows × 3 columns</p>\n",
       "</div>"
      ],
      "text/plain": [
       "    y_transformed      x      y_est\n",
       "0       78.994369  9.517  88.757187\n",
       "1       54.763335  5.113  50.341733\n",
       "2      104.769880  9.773  90.990238\n",
       "3       74.057879  8.428  79.257998\n",
       "4       56.435874  5.752  55.915637\n",
       "..            ...    ...        ...\n",
       "95      72.663186  8.091  76.318396\n",
       "96      16.320093  1.325  17.299558\n",
       "97      49.668245  4.446  44.523589\n",
       "98      18.357036  1.335  17.386786\n",
       "99      55.891360  4.587  45.753511\n",
       "\n",
       "[100 rows x 3 columns]"
      ]
     },
     "execution_count": 87,
     "metadata": {},
     "output_type": "execute_result"
    }
   ],
   "source": [
    "df3_transformed_intercept, df3_transformed_slope = df3_transformed_m.params\n",
    "df3_transformed['y_est'] = df3_transformed_intercept + df3_transformed_slope * df3_transformed.x\n",
    "#df3_transformed"
   ]
  },
  {
   "cell_type": "code",
   "execution_count": 88,
   "metadata": {},
   "outputs": [
    {
     "data": {
      "image/png": "[encoded data removed]",
      "text/plain": [
       "<Figure size 432x288 with 1 Axes>"
      ]
     },
     "metadata": {
      "needs_background": "light"
     },
     "output_type": "display_data"
    }
   ],
   "source": [
    "# plot OLS\n",
    "# plot observations\n",
    "plt.plot(df3_transformed.x, df3_transformed.y_transformed, 'o', label = 'Observations')\n",
    "plt.xlabel('x')\n",
    "plt.ylabel('y')\n",
    "plt.title('Data Set 3 BoxCox Transformed (OLS Regression)')\n",
    "\n",
    "# plot estimates\n",
    "plt.plot(df3_transformed.x, df3_transformed.y_est, 'r+', label='Estimates')\n",
    "\n",
    "# plot regression\n",
    "plt.plot(df3_transformed.x, df3_transformed.y_est, 'r-', label='Regression line')\n",
    "\n",
    "# plot errors\n",
    "plt.vlines(df3_transformed.x, df3_transformed.y_est, df3_transformed.y_transformed, linestyles='dashed', label = 'errors')\n",
    "\n",
    "# add legend\n",
    "plt.legend()\n",
    "plt.show()"
   ]
  },
  {
   "cell_type": "code",
   "execution_count": 89,
   "metadata": {},
   "outputs": [
    {
     "data": {
      "text/html": [
       "<table class=\"simpletable\">\n",
       "<caption>OLS Regression Results</caption>\n",
       "<tr>\n",
       "  <th>Dep. Variable:</th>      <td>y_transformed</td>  <th>  R-squared:         </th> <td>   0.868</td>\n",
       "</tr>\n",
       "<tr>\n",
       "  <th>Model:</th>                   <td>OLS</td>       <th>  Adj. R-squared:    </th> <td>   0.866</td>\n",
       "</tr>\n",
       "<tr>\n",
       "  <th>Method:</th>             <td>Least Squares</td>  <th>  F-statistic:       </th> <td>   641.8</td>\n",
       "</tr>\n",
       "<tr>\n",
       "  <th>Date:</th>             <td>Sun, 20 Nov 2022</td> <th>  Prob (F-statistic):</th> <td>8.32e-45</td>\n",
       "</tr>\n",
       "<tr>\n",
       "  <th>Time:</th>                 <td>16:10:22</td>     <th>  Log-Likelihood:    </th> <td> -353.39</td>\n",
       "</tr>\n",
       "<tr>\n",
       "  <th>No. Observations:</th>      <td>   100</td>      <th>  AIC:               </th> <td>   710.8</td>\n",
       "</tr>\n",
       "<tr>\n",
       "  <th>Df Residuals:</th>          <td>    98</td>      <th>  BIC:               </th> <td>   716.0</td>\n",
       "</tr>\n",
       "<tr>\n",
       "  <th>Df Model:</th>              <td>     1</td>      <th>                     </th>     <td> </td>   \n",
       "</tr>\n",
       "<tr>\n",
       "  <th>Covariance Type:</th>      <td>nonrobust</td>    <th>                     </th>     <td> </td>   \n",
       "</tr>\n",
       "</table>\n",
       "<table class=\"simpletable\">\n",
       "<tr>\n",
       "      <td></td>         <th>coef</th>     <th>std err</th>      <th>t</th>      <th>P>|t|</th>  <th>[0.025</th>    <th>0.975]</th>  \n",
       "</tr>\n",
       "<tr>\n",
       "  <th>Intercept</th> <td>    5.7418</td> <td>    2.229</td> <td>    2.576</td> <td> 0.011</td> <td>    1.319</td> <td>   10.165</td>\n",
       "</tr>\n",
       "<tr>\n",
       "  <th>x</th>         <td>    8.7229</td> <td>    0.344</td> <td>   25.333</td> <td> 0.000</td> <td>    8.040</td> <td>    9.406</td>\n",
       "</tr>\n",
       "</table>\n",
       "<table class=\"simpletable\">\n",
       "<tr>\n",
       "  <th>Omnibus:</th>       <td> 3.044</td> <th>  Durbin-Watson:     </th> <td>   1.854</td>\n",
       "</tr>\n",
       "<tr>\n",
       "  <th>Prob(Omnibus):</th> <td> 0.218</td> <th>  Jarque-Bera (JB):  </th> <td>   2.483</td>\n",
       "</tr>\n",
       "<tr>\n",
       "  <th>Skew:</th>          <td>-0.254</td> <th>  Prob(JB):          </th> <td>   0.289</td>\n",
       "</tr>\n",
       "<tr>\n",
       "  <th>Kurtosis:</th>      <td> 3.582</td> <th>  Cond. No.          </th> <td>    17.6</td>\n",
       "</tr>\n",
       "</table><br/><br/>Notes:<br/>[1] Standard Errors assume that the covariance matrix of the errors is correctly specified."
      ],
      "text/plain": [
       "<class 'statsmodels.iolib.summary.Summary'>\n",
       "\"\"\"\n",
       "                            OLS Regression Results                            \n",
       "==============================================================================\n",
       "Dep. Variable:          y_transformed   R-squared:                       0.868\n",
       "Model:                            OLS   Adj. R-squared:                  0.866\n",
       "Method:                 Least Squares   F-statistic:                     641.8\n",
       "Date:                Sun, 20 Nov 2022   Prob (F-statistic):           8.32e-45\n",
       "Time:                        16:10:22   Log-Likelihood:                -353.39\n",
       "No. Observations:                 100   AIC:                             710.8\n",
       "Df Residuals:                      98   BIC:                             716.0\n",
       "Df Model:                           1                                         \n",
       "Covariance Type:            nonrobust                                         \n",
       "==============================================================================\n",
       "                 coef    std err          t      P>|t|      [0.025      0.975]\n",
       "------------------------------------------------------------------------------\n",
       "Intercept      5.7418      2.229      2.576      0.011       1.319      10.165\n",
       "x              8.7229      0.344     25.333      0.000       8.040       9.406\n",
       "==============================================================================\n",
       "Omnibus:                        3.044   Durbin-Watson:                   1.854\n",
       "Prob(Omnibus):                  0.218   Jarque-Bera (JB):                2.483\n",
       "Skew:                          -0.254   Prob(JB):                        0.289\n",
       "Kurtosis:                       3.582   Cond. No.                         17.6\n",
       "==============================================================================\n",
       "\n",
       "Notes:\n",
       "[1] Standard Errors assume that the covariance matrix of the errors is correctly specified.\n",
       "\"\"\""
      ]
     },
     "execution_count": 89,
     "metadata": {},
     "output_type": "execute_result"
    }
   ],
   "source": [
    "df3_transformed_m.summary()"
   ]
  },
  {
   "cell_type": "markdown",
   "metadata": {},
   "source": [
    "## Analysis (Box-Cox Transformation)"
   ]
  },
  {
   "cell_type": "markdown",
   "metadata": {},
   "source": [
    "Looking at the OLS Regression summary of dataset 3 after performing a Box-Cox transformation, the R-squared has a value of 0.868 and a similar adjusted R-squared of 0.866. This regression better represents the data when compared to the original OLS regression. Previously, the R-squared had a value of 0.755 and adjusted R-squared of 0.753. The new regression has a strong, positive, linear correlation and can conclude that the new oLS regression fits the model well.\n",
    "\n",
    "The new equation of the regression is y_est = 5.7418 + 8.7229x and suits the trend of the data better. Compared to the original regression equation of y_est = -2636.1748 + 1081.8266x the new equation does not have an extreme intercept and x coefficient. Therefore, we can conclude that the Box-Cox transformation applied to dataset 3 was effective and better represents the data when performing an OLS regression."
   ]
  },
  {
   "cell_type": "markdown",
   "metadata": {},
   "source": [
    "# Set 4"
   ]
  },
  {
   "cell_type": "code",
   "execution_count": 38,
   "metadata": {},
   "outputs": [
    {
     "data": {
      "image/png": "[encoded data removed]",
      "text/plain": [
       "<Figure size 432x288 with 1 Axes>"
      ]
     },
     "metadata": {
      "needs_background": "light"
     },
     "output_type": "display_data"
    }
   ],
   "source": [
    "# Set 4\n",
    "plt.plot(df4.x, df4.y, 'o')\n",
    "plt.xlabel('x')\n",
    "plt.ylabel('y')\n",
    "plt.title('Data Set 4 (Original)')\n",
    "plt.show()"
   ]
  },
  {
   "cell_type": "markdown",
   "metadata": {},
   "source": [
    "## Visual Analysis"
   ]
  },
  {
   "cell_type": "markdown",
   "metadata": {},
   "source": [
    "Looking at the scatter plot of Data Set 4, visually we can see that there is a positive correlation in the data. As x increases, so does y. However, visually the graph does not look linear but instead looks like it follows the curve similar to y = x^2. First an OLS regression will be performed on the dataset, then transform the data to represent it more linearly."
   ]
  },
  {
   "cell_type": "code",
   "execution_count": 39,
   "metadata": {},
   "outputs": [
    {
     "data": {
      "text/html": [
       "<div>\n",
       "<style scoped>\n",
       "    .dataframe tbody tr th:only-of-type {\n",
       "        vertical-align: middle;\n",
       "    }\n",
       "\n",
       "    .dataframe tbody tr th {\n",
       "        vertical-align: top;\n",
       "    }\n",
       "\n",
       "    .dataframe thead th {\n",
       "        text-align: right;\n",
       "    }\n",
       "</style>\n",
       "<table border=\"1\" class=\"dataframe\">\n",
       "  <thead>\n",
       "    <tr style=\"text-align: right;\">\n",
       "      <th></th>\n",
       "      <th>y</th>\n",
       "      <th>x</th>\n",
       "    </tr>\n",
       "  </thead>\n",
       "  <tbody>\n",
       "    <tr>\n",
       "      <th>y</th>\n",
       "      <td>1.000000</td>\n",
       "      <td>0.616155</td>\n",
       "    </tr>\n",
       "    <tr>\n",
       "      <th>x</th>\n",
       "      <td>0.616155</td>\n",
       "      <td>1.000000</td>\n",
       "    </tr>\n",
       "  </tbody>\n",
       "</table>\n",
       "</div>"
      ],
      "text/plain": [
       "          y         x\n",
       "y  1.000000  0.616155\n",
       "x  0.616155  1.000000"
      ]
     },
     "execution_count": 39,
     "metadata": {},
     "output_type": "execute_result"
    }
   ],
   "source": [
    "# correlation matrix\n",
    "df4_cm = df4.corr(method = 'pearson')\n",
    "df4_cm"
   ]
  },
  {
   "cell_type": "code",
   "execution_count": 40,
   "metadata": {},
   "outputs": [
    {
     "name": "stdout",
     "output_type": "stream",
     "text": [
      "df4 x mean = 5.227871000000001 df4 y mean = 661442.8636142033\n"
     ]
    }
   ],
   "source": [
    "# mean of x and y\n",
    "df4_mu_x = np.mean(df4.x)\n",
    "df4_mu_y = np.mean(df4.y)\n",
    "\n",
    "print(\"df4 x mean =\", df4_mu_x, \"df4 y mean =\", df4_mu_y)"
   ]
  },
  {
   "cell_type": "code",
   "execution_count": 41,
   "metadata": {},
   "outputs": [
    {
     "name": "stdout",
     "output_type": "stream",
     "text": [
      "df4 x standard deviation = 2.9860725563821755 df4 y standard deviation = 1311668.294702755\n"
     ]
    }
   ],
   "source": [
    "# standard deviation of x and y\n",
    "df4_sig_x = np.std(df4.x, ddof=1)\n",
    "df4_sig_y = np.std(df4.y, ddof=1 )\n",
    "\n",
    "print(\"df4 x standard deviation =\", df4_sig_x, \"df4 y standard deviation =\", df4_sig_y)"
   ]
  },
  {
   "cell_type": "code",
   "execution_count": 42,
   "metadata": {},
   "outputs": [
    {
     "name": "stdout",
     "output_type": "stream",
     "text": [
      "df4 B0 = -753498.668130064 df4 B1 = 270653.49006206676\n"
     ]
    }
   ],
   "source": [
    "# B0 and B1 of regression\n",
    "df4_beta_1 = df4_sig_y/df4_sig_x * df4_cm.loc['x', 'y']\n",
    "df4_beta_0 = df4_mu_y - df4_beta_1 * df4_mu_x\n",
    "\n",
    "print(\"df4 B0 =\", df4_beta_0, \"df4 B1 =\", df4_beta_1)"
   ]
  },
  {
   "cell_type": "code",
   "execution_count": 43,
   "metadata": {},
   "outputs": [],
   "source": [
    "# use OLS method\n",
    "df4_m = sm.ols('y ~ x', data = df4)"
   ]
  },
  {
   "cell_type": "code",
   "execution_count": 44,
   "metadata": {},
   "outputs": [],
   "source": [
    "# get the fit of m\n",
    "df4_m = df4_m.fit()"
   ]
  },
  {
   "cell_type": "code",
   "execution_count": 45,
   "metadata": {},
   "outputs": [
    {
     "data": {
      "text/plain": [
       "Intercept   -753498.668130\n",
       "x            270653.490062\n",
       "dtype: float64"
      ]
     },
     "execution_count": 45,
     "metadata": {},
     "output_type": "execute_result"
    }
   ],
   "source": [
    "# show intercept and x coefficient\n",
    "df4_m.params"
   ]
  },
  {
   "cell_type": "code",
   "execution_count": 46,
   "metadata": {},
   "outputs": [],
   "source": [
    "df4_intercept, df4_slope = df4_m.params\n",
    "df4['y_est'] = df4_intercept + df4_slope * df4.x"
   ]
  },
  {
   "cell_type": "code",
   "execution_count": 47,
   "metadata": {},
   "outputs": [
    {
     "data": {
      "image/png": "[encoded data removed]",
      "text/plain": [
       "<Figure size 432x288 with 1 Axes>"
      ]
     },
     "metadata": {
      "needs_background": "light"
     },
     "output_type": "display_data"
    }
   ],
   "source": [
    "# plot OLS\n",
    "# plot observations\n",
    "plt.plot(df4.x, df4.y, 'o', label = 'Observations')\n",
    "plt.xlabel('x')\n",
    "plt.ylabel('y')\n",
    "plt.title('Data Set 4 (OLS Regression)')\n",
    "\n",
    "# plot estimates\n",
    "plt.plot(df4.x, df4.y_est, 'r+', label='Estimates')\n",
    "\n",
    "# plot regression\n",
    "plt.plot(df4.x, df4.y_est, 'r-', label='Regression line')\n",
    "\n",
    "# plot errors\n",
    "plt.vlines(df4.x, df4.y_est, df4.y, linestyles='dashed', label = 'errors')\n",
    "\n",
    "# add legend\n",
    "plt.legend()\n",
    "plt.show()"
   ]
  },
  {
   "cell_type": "code",
   "execution_count": 48,
   "metadata": {},
   "outputs": [
    {
     "data": {
      "text/html": [
       "<table class=\"simpletable\">\n",
       "<caption>OLS Regression Results</caption>\n",
       "<tr>\n",
       "  <th>Dep. Variable:</th>            <td>y</td>        <th>  R-squared:         </th> <td>   0.380</td>\n",
       "</tr>\n",
       "<tr>\n",
       "  <th>Model:</th>                   <td>OLS</td>       <th>  Adj. R-squared:    </th> <td>   0.373</td>\n",
       "</tr>\n",
       "<tr>\n",
       "  <th>Method:</th>             <td>Least Squares</td>  <th>  F-statistic:       </th> <td>   59.97</td>\n",
       "</tr>\n",
       "<tr>\n",
       "  <th>Date:</th>             <td>Sun, 20 Nov 2022</td> <th>  Prob (F-statistic):</th> <td>8.87e-12</td>\n",
       "</tr>\n",
       "<tr>\n",
       "  <th>Time:</th>                 <td>15:37:27</td>     <th>  Log-Likelihood:    </th> <td> -1526.2</td>\n",
       "</tr>\n",
       "<tr>\n",
       "  <th>No. Observations:</th>      <td>   100</td>      <th>  AIC:               </th> <td>   3056.</td>\n",
       "</tr>\n",
       "<tr>\n",
       "  <th>Df Residuals:</th>          <td>    98</td>      <th>  BIC:               </th> <td>   3062.</td>\n",
       "</tr>\n",
       "<tr>\n",
       "  <th>Df Model:</th>              <td>     1</td>      <th>                     </th>     <td> </td>   \n",
       "</tr>\n",
       "<tr>\n",
       "  <th>Covariance Type:</th>      <td>nonrobust</td>    <th>                     </th>     <td> </td>   \n",
       "</tr>\n",
       "</table>\n",
       "<table class=\"simpletable\">\n",
       "<tr>\n",
       "      <td></td>         <th>coef</th>     <th>std err</th>      <th>t</th>      <th>P>|t|</th>  <th>[0.025</th>    <th>0.975]</th>  \n",
       "</tr>\n",
       "<tr>\n",
       "  <th>Intercept</th> <td>-7.535e+05</td> <td>  2.1e+05</td> <td>   -3.585</td> <td> 0.001</td> <td>-1.17e+06</td> <td>-3.36e+05</td>\n",
       "</tr>\n",
       "<tr>\n",
       "  <th>x</th>         <td> 2.707e+05</td> <td> 3.49e+04</td> <td>    7.744</td> <td> 0.000</td> <td> 2.01e+05</td> <td>  3.4e+05</td>\n",
       "</tr>\n",
       "</table>\n",
       "<table class=\"simpletable\">\n",
       "<tr>\n",
       "  <th>Omnibus:</th>       <td>102.143</td> <th>  Durbin-Watson:     </th> <td>   2.077</td> \n",
       "</tr>\n",
       "<tr>\n",
       "  <th>Prob(Omnibus):</th> <td> 0.000</td>  <th>  Jarque-Bera (JB):  </th> <td>1253.666</td> \n",
       "</tr>\n",
       "<tr>\n",
       "  <th>Skew:</th>          <td> 3.381</td>  <th>  Prob(JB):          </th> <td>5.89e-273</td>\n",
       "</tr>\n",
       "<tr>\n",
       "  <th>Kurtosis:</th>      <td>18.973</td>  <th>  Cond. No.          </th> <td>    12.4</td> \n",
       "</tr>\n",
       "</table><br/><br/>Notes:<br/>[1] Standard Errors assume that the covariance matrix of the errors is correctly specified."
      ],
      "text/plain": [
       "<class 'statsmodels.iolib.summary.Summary'>\n",
       "\"\"\"\n",
       "                            OLS Regression Results                            \n",
       "==============================================================================\n",
       "Dep. Variable:                      y   R-squared:                       0.380\n",
       "Model:                            OLS   Adj. R-squared:                  0.373\n",
       "Method:                 Least Squares   F-statistic:                     59.97\n",
       "Date:                Sun, 20 Nov 2022   Prob (F-statistic):           8.87e-12\n",
       "Time:                        15:37:27   Log-Likelihood:                -1526.2\n",
       "No. Observations:                 100   AIC:                             3056.\n",
       "Df Residuals:                      98   BIC:                             3062.\n",
       "Df Model:                           1                                         \n",
       "Covariance Type:            nonrobust                                         \n",
       "==============================================================================\n",
       "                 coef    std err          t      P>|t|      [0.025      0.975]\n",
       "------------------------------------------------------------------------------\n",
       "Intercept  -7.535e+05    2.1e+05     -3.585      0.001   -1.17e+06   -3.36e+05\n",
       "x           2.707e+05   3.49e+04      7.744      0.000    2.01e+05     3.4e+05\n",
       "==============================================================================\n",
       "Omnibus:                      102.143   Durbin-Watson:                   2.077\n",
       "Prob(Omnibus):                  0.000   Jarque-Bera (JB):             1253.666\n",
       "Skew:                           3.381   Prob(JB):                    5.89e-273\n",
       "Kurtosis:                      18.973   Cond. No.                         12.4\n",
       "==============================================================================\n",
       "\n",
       "Notes:\n",
       "[1] Standard Errors assume that the covariance matrix of the errors is correctly specified.\n",
       "\"\"\""
      ]
     },
     "execution_count": 48,
     "metadata": {},
     "output_type": "execute_result"
    }
   ],
   "source": [
    "df4_m.summary()"
   ]
  },
  {
   "cell_type": "markdown",
   "metadata": {},
   "source": [
    "## Analysis"
   ]
  },
  {
   "cell_type": "markdown",
   "metadata": {},
   "source": [
    "Looking at the OLS Regression summary of dataset 4, the R-squared has a value of 0.380 and a similar adjusted R-squared has a similar value of 0.373. Thus, we can conclude that the generated OLS regression does not fit the model well and a transformation will be applied to make the dataset more linear.\n",
    "\n",
    "The equation of the regression is y_est = -7.535e+05 + 2.707e+05x\n",
    "\n",
    "We can see that the intercept is -7.535e+05 and the slope or coefficient of the regresion parameters (B0 and B1) is 2.707e+05. There is a weak, positive correlation between the two parameters. The intercept and coefficient variable look out of place to represent the data. Thus, a transformation of the data is needed.\n",
    "\n",
    "Visually the data does not follow a linear trend, and the regression equation is not a good representation of the data. Thus, a Box-Cox transformation will be applied to the data to better represent it linearly."
   ]
  },
  {
   "cell_type": "code",
   "execution_count": 90,
   "metadata": {},
   "outputs": [
    {
     "data": {
      "text/html": [
       "<div>\n",
       "<style scoped>\n",
       "    .dataframe tbody tr th:only-of-type {\n",
       "        vertical-align: middle;\n",
       "    }\n",
       "\n",
       "    .dataframe tbody tr th {\n",
       "        vertical-align: top;\n",
       "    }\n",
       "\n",
       "    .dataframe thead th {\n",
       "        text-align: right;\n",
       "    }\n",
       "</style>\n",
       "<table border=\"1\" class=\"dataframe\">\n",
       "  <thead>\n",
       "    <tr style=\"text-align: right;\">\n",
       "      <th></th>\n",
       "      <th>y_transformed</th>\n",
       "      <th>x</th>\n",
       "    </tr>\n",
       "  </thead>\n",
       "  <tbody>\n",
       "    <tr>\n",
       "      <th>0</th>\n",
       "      <td>15.845421</td>\n",
       "      <td>5.9947</td>\n",
       "    </tr>\n",
       "    <tr>\n",
       "      <th>1</th>\n",
       "      <td>10.744711</td>\n",
       "      <td>3.9492</td>\n",
       "    </tr>\n",
       "    <tr>\n",
       "      <th>2</th>\n",
       "      <td>21.137578</td>\n",
       "      <td>9.6353</td>\n",
       "    </tr>\n",
       "    <tr>\n",
       "      <th>3</th>\n",
       "      <td>7.268976</td>\n",
       "      <td>0.4943</td>\n",
       "    </tr>\n",
       "    <tr>\n",
       "      <th>4</th>\n",
       "      <td>20.742666</td>\n",
       "      <td>9.0811</td>\n",
       "    </tr>\n",
       "    <tr>\n",
       "      <th>...</th>\n",
       "      <td>...</td>\n",
       "      <td>...</td>\n",
       "    </tr>\n",
       "    <tr>\n",
       "      <th>95</th>\n",
       "      <td>18.943980</td>\n",
       "      <td>8.4176</td>\n",
       "    </tr>\n",
       "    <tr>\n",
       "      <th>96</th>\n",
       "      <td>18.748792</td>\n",
       "      <td>8.5450</td>\n",
       "    </tr>\n",
       "    <tr>\n",
       "      <th>97</th>\n",
       "      <td>12.709909</td>\n",
       "      <td>5.4277</td>\n",
       "    </tr>\n",
       "    <tr>\n",
       "      <th>98</th>\n",
       "      <td>18.453171</td>\n",
       "      <td>7.6067</td>\n",
       "    </tr>\n",
       "    <tr>\n",
       "      <th>99</th>\n",
       "      <td>20.631280</td>\n",
       "      <td>9.2492</td>\n",
       "    </tr>\n",
       "  </tbody>\n",
       "</table>\n",
       "<p>100 rows × 2 columns</p>\n",
       "</div>"
      ],
      "text/plain": [
       "    y_transformed       x\n",
       "0       15.845421  5.9947\n",
       "1       10.744711  3.9492\n",
       "2       21.137578  9.6353\n",
       "3        7.268976  0.4943\n",
       "4       20.742666  9.0811\n",
       "..            ...     ...\n",
       "95      18.943980  8.4176\n",
       "96      18.748792  8.5450\n",
       "97      12.709909  5.4277\n",
       "98      18.453171  7.6067\n",
       "99      20.631280  9.2492\n",
       "\n",
       "[100 rows x 2 columns]"
      ]
     },
     "execution_count": 90,
     "metadata": {},
     "output_type": "execute_result"
    }
   ],
   "source": [
    "df4_y_transformed, df4_lmbda = scipy.stats.boxcox(df4.y)\n",
    "df4[\"y_transformed\"] = df4_y_transformed\n",
    "df4_transformed = df4[[\"y_transformed\", \"x\"]]\n",
    "df4_transformed"
   ]
  },
  {
   "cell_type": "code",
   "execution_count": 91,
   "metadata": {},
   "outputs": [
    {
     "data": {
      "image/png": "[encoded data removed]",
      "text/plain": [
       "<Figure size 432x288 with 1 Axes>"
      ]
     },
     "metadata": {
      "needs_background": "light"
     },
     "output_type": "display_data"
    }
   ],
   "source": [
    "# Set 4\n",
    "plt.plot(df4_transformed.x, df4_transformed.y_transformed, 'o')\n",
    "plt.xlabel('x')\n",
    "plt.ylabel('y')\n",
    "plt.title('Data Set 4 (Transformed)')\n",
    "plt.show()"
   ]
  },
  {
   "cell_type": "markdown",
   "metadata": {},
   "source": [
    "## Visual Analysis (Box-Cox Transformation)"
   ]
  },
  {
   "cell_type": "markdown",
   "metadata": {},
   "source": [
    "After applying the Box-Cox transformation to data set 4, visually the data better follows a linear trend rather than a parabolic trend. An OLS regression will be performed on the transformed data and compared with the original data."
   ]
  },
  {
   "cell_type": "code",
   "execution_count": 92,
   "metadata": {},
   "outputs": [
    {
     "data": {
      "text/html": [
       "<div>\n",
       "<style scoped>\n",
       "    .dataframe tbody tr th:only-of-type {\n",
       "        vertical-align: middle;\n",
       "    }\n",
       "\n",
       "    .dataframe tbody tr th {\n",
       "        vertical-align: top;\n",
       "    }\n",
       "\n",
       "    .dataframe thead th {\n",
       "        text-align: right;\n",
       "    }\n",
       "</style>\n",
       "<table border=\"1\" class=\"dataframe\">\n",
       "  <thead>\n",
       "    <tr style=\"text-align: right;\">\n",
       "      <th></th>\n",
       "      <th>y_transformed</th>\n",
       "      <th>x</th>\n",
       "    </tr>\n",
       "  </thead>\n",
       "  <tbody>\n",
       "    <tr>\n",
       "      <th>y_transformed</th>\n",
       "      <td>1.000000</td>\n",
       "      <td>0.989315</td>\n",
       "    </tr>\n",
       "    <tr>\n",
       "      <th>x</th>\n",
       "      <td>0.989315</td>\n",
       "      <td>1.000000</td>\n",
       "    </tr>\n",
       "  </tbody>\n",
       "</table>\n",
       "</div>"
      ],
      "text/plain": [
       "               y_transformed         x\n",
       "y_transformed       1.000000  0.989315\n",
       "x                   0.989315  1.000000"
      ]
     },
     "execution_count": 92,
     "metadata": {},
     "output_type": "execute_result"
    }
   ],
   "source": [
    "# correlation matrix\n",
    "df4_transformed_cm = df4_transformed.corr(method = 'pearson')\n",
    "df4_transformed_cm"
   ]
  },
  {
   "cell_type": "code",
   "execution_count": 93,
   "metadata": {},
   "outputs": [
    {
     "name": "stdout",
     "output_type": "stream",
     "text": [
      "df4_transformed x mean = 5.227871000000001 df4_transformed y mean = 14.014783226310287\n"
     ]
    }
   ],
   "source": [
    "# mean of x and y\n",
    "df4_transformed_mu_x = np.mean(df4_transformed.x)\n",
    "df4_transformed_mu_y = np.mean(df4_transformed.y_transformed)\n",
    "\n",
    "print(\"df4_transformed x mean =\", df4_transformed_mu_x, \"df4_transformed y mean =\", df4_transformed_mu_y)"
   ]
  },
  {
   "cell_type": "code",
   "execution_count": 94,
   "metadata": {},
   "outputs": [
    {
     "name": "stdout",
     "output_type": "stream",
     "text": [
      "df4_transformed x standard deviation = 2.9860725563821755 df4_transformed y standard deviation = 4.66995245770154\n"
     ]
    }
   ],
   "source": [
    "# standard deviation of x and y\n",
    "df4_transformed_sig_x = np.std(df4_transformed.x, ddof=1)\n",
    "df4_transformed_sig_y = np.std(df4_transformed.y_transformed, ddof=1 )\n",
    "\n",
    "print(\"df4_transformed x standard deviation =\", df4_transformed_sig_x, \"df4_transformed y standard deviation =\", df4_transformed_sig_y)"
   ]
  },
  {
   "cell_type": "code",
   "execution_count": 95,
   "metadata": {},
   "outputs": [
    {
     "name": "stdout",
     "output_type": "stream",
     "text": [
      "df4_transformed B0 = 5.9262195982961 df4_transformed B1 = 1.5472003092681867\n"
     ]
    }
   ],
   "source": [
    "# B0 and B1 of regression\n",
    "df4_transformed_beta_1 = df4_transformed_sig_y/df4_transformed_sig_x * df4_transformed_cm.loc['x', 'y_transformed']\n",
    "df4_transformed_beta_0 = df4_transformed_mu_y - df4_transformed_beta_1 * df4_transformed_mu_x\n",
    "\n",
    "print(\"df4_transformed B0 =\", df4_transformed_beta_0, \"df4_transformed B1 =\", df4_transformed_beta_1)"
   ]
  },
  {
   "cell_type": "code",
   "execution_count": 96,
   "metadata": {},
   "outputs": [],
   "source": [
    "# use OLS method\n",
    "df4_transformed_m = sm.ols('y_transformed ~ x', data = df4_transformed)"
   ]
  },
  {
   "cell_type": "code",
   "execution_count": 97,
   "metadata": {},
   "outputs": [],
   "source": [
    "# get the fit of m\n",
    "df4_transformed_m = df4_transformed_m.fit()"
   ]
  },
  {
   "cell_type": "code",
   "execution_count": 98,
   "metadata": {},
   "outputs": [
    {
     "data": {
      "text/plain": [
       "Intercept    5.92622\n",
       "x            1.54720\n",
       "dtype: float64"
      ]
     },
     "execution_count": 98,
     "metadata": {},
     "output_type": "execute_result"
    }
   ],
   "source": [
    "# show intercept and x coefficient\n",
    "df4_transformed_m.params"
   ]
  },
  {
   "cell_type": "code",
   "execution_count": 99,
   "metadata": {},
   "outputs": [
    {
     "name": "stderr",
     "output_type": "stream",
     "text": [
      "/var/folders/dl/nzqz9d4s48z5l005svj0w2sr0000gn/T/ipykernel_27748/1264199914.py:2: SettingWithCopyWarning: \n",
      "A value is trying to be set on a copy of a slice from a DataFrame.\n",
      "Try using .loc[row_indexer,col_indexer] = value instead\n",
      "\n",
      "See the caveats in the documentation: https://pandas.pydata.org/pandas-docs/stable/user_guide/indexing.html#returning-a-view-versus-a-copy\n",
      "  df4_transformed['y_est'] = df4_transformed_intercept + df4_transformed_slope * df4_transformed.x\n"
     ]
    }
   ],
   "source": [
    "df4_transformed_intercept, df4_transformed_slope = df4_transformed_m.params\n",
    "df4_transformed['y_est'] = df4_transformed_intercept + df4_transformed_slope * df4_transformed.x"
   ]
  },
  {
   "cell_type": "code",
   "execution_count": 100,
   "metadata": {},
   "outputs": [
    {
     "data": {
      "image/png": "[encoded data removed]",
      "text/plain": [
       "<Figure size 432x288 with 1 Axes>"
      ]
     },
     "metadata": {
      "needs_background": "light"
     },
     "output_type": "display_data"
    }
   ],
   "source": [
    "# plot OLS\n",
    "# plot observations\n",
    "plt.plot(df4_transformed.x, df4_transformed.y_transformed, 'o', label = 'Observations')\n",
    "plt.xlabel('x')\n",
    "plt.ylabel('y')\n",
    "plt.title('Data Set 4 BoxCox Transformed (OLS Regression)')\n",
    "\n",
    "# plot estimates\n",
    "plt.plot(df4_transformed.x, df4_transformed.y_est, 'r+', label='Estimates')\n",
    "\n",
    "# plot regression\n",
    "plt.plot(df4_transformed.x, df4_transformed.y_est, 'r-', label='Regression line')\n",
    "\n",
    "# plot errors\n",
    "plt.vlines(df4_transformed.x, df4_transformed.y_est, df4_transformed.y_transformed, linestyles='dashed', label = 'errors')\n",
    "\n",
    "# add legend\n",
    "plt.legend()\n",
    "plt.show()"
   ]
  },
  {
   "cell_type": "code",
   "execution_count": 101,
   "metadata": {},
   "outputs": [
    {
     "data": {
      "text/html": [
       "<table class=\"simpletable\">\n",
       "<caption>OLS Regression Results</caption>\n",
       "<tr>\n",
       "  <th>Dep. Variable:</th>      <td>y_transformed</td>  <th>  R-squared:         </th> <td>   0.979</td>\n",
       "</tr>\n",
       "<tr>\n",
       "  <th>Model:</th>                   <td>OLS</td>       <th>  Adj. R-squared:    </th> <td>   0.979</td>\n",
       "</tr>\n",
       "<tr>\n",
       "  <th>Method:</th>             <td>Least Squares</td>  <th>  F-statistic:       </th> <td>   4512.</td>\n",
       "</tr>\n",
       "<tr>\n",
       "  <th>Date:</th>             <td>Sun, 20 Nov 2022</td> <th>  Prob (F-statistic):</th> <td>9.06e-84</td>\n",
       "</tr>\n",
       "<tr>\n",
       "  <th>Time:</th>                 <td>16:41:12</td>     <th>  Log-Likelihood:    </th> <td> -102.95</td>\n",
       "</tr>\n",
       "<tr>\n",
       "  <th>No. Observations:</th>      <td>   100</td>      <th>  AIC:               </th> <td>   209.9</td>\n",
       "</tr>\n",
       "<tr>\n",
       "  <th>Df Residuals:</th>          <td>    98</td>      <th>  BIC:               </th> <td>   215.1</td>\n",
       "</tr>\n",
       "<tr>\n",
       "  <th>Df Model:</th>              <td>     1</td>      <th>                     </th>     <td> </td>   \n",
       "</tr>\n",
       "<tr>\n",
       "  <th>Covariance Type:</th>      <td>nonrobust</td>    <th>                     </th>     <td> </td>   \n",
       "</tr>\n",
       "</table>\n",
       "<table class=\"simpletable\">\n",
       "<tr>\n",
       "      <td></td>         <th>coef</th>     <th>std err</th>      <th>t</th>      <th>P>|t|</th>  <th>[0.025</th>    <th>0.975]</th>  \n",
       "</tr>\n",
       "<tr>\n",
       "  <th>Intercept</th> <td>    5.9262</td> <td>    0.138</td> <td>   42.789</td> <td> 0.000</td> <td>    5.651</td> <td>    6.201</td>\n",
       "</tr>\n",
       "<tr>\n",
       "  <th>x</th>         <td>    1.5472</td> <td>    0.023</td> <td>   67.174</td> <td> 0.000</td> <td>    1.501</td> <td>    1.593</td>\n",
       "</tr>\n",
       "</table>\n",
       "<table class=\"simpletable\">\n",
       "<tr>\n",
       "  <th>Omnibus:</th>       <td> 2.768</td> <th>  Durbin-Watson:     </th> <td>   2.185</td>\n",
       "</tr>\n",
       "<tr>\n",
       "  <th>Prob(Omnibus):</th> <td> 0.251</td> <th>  Jarque-Bera (JB):  </th> <td>   2.703</td>\n",
       "</tr>\n",
       "<tr>\n",
       "  <th>Skew:</th>          <td>-0.394</td> <th>  Prob(JB):          </th> <td>   0.259</td>\n",
       "</tr>\n",
       "<tr>\n",
       "  <th>Kurtosis:</th>      <td> 2.833</td> <th>  Cond. No.          </th> <td>    12.4</td>\n",
       "</tr>\n",
       "</table><br/><br/>Notes:<br/>[1] Standard Errors assume that the covariance matrix of the errors is correctly specified."
      ],
      "text/plain": [
       "<class 'statsmodels.iolib.summary.Summary'>\n",
       "\"\"\"\n",
       "                            OLS Regression Results                            \n",
       "==============================================================================\n",
       "Dep. Variable:          y_transformed   R-squared:                       0.979\n",
       "Model:                            OLS   Adj. R-squared:                  0.979\n",
       "Method:                 Least Squares   F-statistic:                     4512.\n",
       "Date:                Sun, 20 Nov 2022   Prob (F-statistic):           9.06e-84\n",
       "Time:                        16:41:12   Log-Likelihood:                -102.95\n",
       "No. Observations:                 100   AIC:                             209.9\n",
       "Df Residuals:                      98   BIC:                             215.1\n",
       "Df Model:                           1                                         \n",
       "Covariance Type:            nonrobust                                         \n",
       "==============================================================================\n",
       "                 coef    std err          t      P>|t|      [0.025      0.975]\n",
       "------------------------------------------------------------------------------\n",
       "Intercept      5.9262      0.138     42.789      0.000       5.651       6.201\n",
       "x              1.5472      0.023     67.174      0.000       1.501       1.593\n",
       "==============================================================================\n",
       "Omnibus:                        2.768   Durbin-Watson:                   2.185\n",
       "Prob(Omnibus):                  0.251   Jarque-Bera (JB):                2.703\n",
       "Skew:                          -0.394   Prob(JB):                        0.259\n",
       "Kurtosis:                       2.833   Cond. No.                         12.4\n",
       "==============================================================================\n",
       "\n",
       "Notes:\n",
       "[1] Standard Errors assume that the covariance matrix of the errors is correctly specified.\n",
       "\"\"\""
      ]
     },
     "execution_count": 101,
     "metadata": {},
     "output_type": "execute_result"
    }
   ],
   "source": [
    "df4_transformed_m.summary()"
   ]
  },
  {
   "cell_type": "markdown",
   "metadata": {},
   "source": [
    "## Analysis (Box-Cox Transformation)"
   ]
  },
  {
   "cell_type": "markdown",
   "metadata": {},
   "source": [
    "Looking at the OLS Regression summary of dataset 4 after performing a Box-Cox transformation, the R-squared and adjust R-squared have a value of 0.979. This regression better represents the data when compared to the original OLS regression. Previously, the R-squared had a value of 0.380 and adjusted R-squared of 0.373. The new regression is much more significant, and has a strong, positive, linear correlation. We can conclude that the new OLS regression fits the model very well.\n",
    "\n",
    "The new equation of the regression is y_est = 5.9262 + 1.5472x and suits the trend of the data better. Compared to the original regression equation of y_est = -7.535e+05 + 2.707e+05x, the new equation does not have an extreme intercept and x coefficient. Therefore, we can conclude that the Box-Cox transformation applied to dataset 4 was effective and better represents the data when performing an OLS regression."
   ]
  },
  {
   "cell_type": "markdown",
   "metadata": {},
   "source": [
    "# Set 5"
   ]
  },
  {
   "cell_type": "code",
   "execution_count": 49,
   "metadata": {},
   "outputs": [
    {
     "data": {
      "image/png": "[encoded data removed]",
      "text/plain": [
       "<Figure size 432x288 with 1 Axes>"
      ]
     },
     "metadata": {
      "needs_background": "light"
     },
     "output_type": "display_data"
    }
   ],
   "source": [
    "# Set 5\n",
    "plt.plot(df5.x, df5.y, 'o')\n",
    "plt.xlabel('x')\n",
    "plt.ylabel('y')\n",
    "plt.title('Data Set 5 (Original)')\n",
    "plt.show()"
   ]
  },
  {
   "cell_type": "markdown",
   "metadata": {},
   "source": [
    "## Visual Analysis"
   ]
  },
  {
   "cell_type": "markdown",
   "metadata": {},
   "source": [
    "Looking at the scatter plot of Data Set 5, visually we can see that there is a strong, positive correlation in the data. As x increases, so does y. However, visually the graph looks linear, however there seems to be a few outliers in the data. First an OLS regression will be performed on the dataset, then transform the data to represent it more linearly."
   ]
  },
  {
   "cell_type": "code",
   "execution_count": 50,
   "metadata": {},
   "outputs": [
    {
     "data": {
      "text/html": [
       "<div>\n",
       "<style scoped>\n",
       "    .dataframe tbody tr th:only-of-type {\n",
       "        vertical-align: middle;\n",
       "    }\n",
       "\n",
       "    .dataframe tbody tr th {\n",
       "        vertical-align: top;\n",
       "    }\n",
       "\n",
       "    .dataframe thead th {\n",
       "        text-align: right;\n",
       "    }\n",
       "</style>\n",
       "<table border=\"1\" class=\"dataframe\">\n",
       "  <thead>\n",
       "    <tr style=\"text-align: right;\">\n",
       "      <th></th>\n",
       "      <th>y</th>\n",
       "      <th>x</th>\n",
       "    </tr>\n",
       "  </thead>\n",
       "  <tbody>\n",
       "    <tr>\n",
       "      <th>y</th>\n",
       "      <td>1.000000</td>\n",
       "      <td>0.897892</td>\n",
       "    </tr>\n",
       "    <tr>\n",
       "      <th>x</th>\n",
       "      <td>0.897892</td>\n",
       "      <td>1.000000</td>\n",
       "    </tr>\n",
       "  </tbody>\n",
       "</table>\n",
       "</div>"
      ],
      "text/plain": [
       "          y         x\n",
       "y  1.000000  0.897892\n",
       "x  0.897892  1.000000"
      ]
     },
     "execution_count": 50,
     "metadata": {},
     "output_type": "execute_result"
    }
   ],
   "source": [
    "# correlation matrix\n",
    "df5_cm = df5.corr(method = 'pearson')\n",
    "df5_cm"
   ]
  },
  {
   "cell_type": "code",
   "execution_count": 51,
   "metadata": {},
   "outputs": [
    {
     "name": "stdout",
     "output_type": "stream",
     "text": [
      "df5 x mean = 4.975682277227723 df5 y mean = 24.640736209557026\n"
     ]
    }
   ],
   "source": [
    "# mean of x and y\n",
    "df5_mu_x = np.mean(df5.x)\n",
    "df5_mu_y = np.mean(df5.y)\n",
    "\n",
    "print(\"df5 x mean =\", df5_mu_x, \"df5 y mean =\", df5_mu_y)"
   ]
  },
  {
   "cell_type": "code",
   "execution_count": 52,
   "metadata": {},
   "outputs": [
    {
     "name": "stdout",
     "output_type": "stream",
     "text": [
      "df5 x standard deviation = 2.852301356708958 df5 y standard deviation = 15.143420359947635\n"
     ]
    }
   ],
   "source": [
    "# standard deviation of x and y\n",
    "df5_sig_x = np.std(df5.x, ddof=1)\n",
    "df5_sig_y = np.std(df5.y, ddof=1 )\n",
    "\n",
    "print(\"df5 x standard deviation =\", df5_sig_x, \"df5 y standard deviation =\", df5_sig_y)"
   ]
  },
  {
   "cell_type": "code",
   "execution_count": 53,
   "metadata": {},
   "outputs": [
    {
     "name": "stdout",
     "output_type": "stream",
     "text": [
      "df5 B0 = 0.9212565388609768 df5 B1 = 4.767080844219763\n"
     ]
    }
   ],
   "source": [
    "# B0 and B1 of regression\n",
    "df5_beta_1 = df5_sig_y/df5_sig_x * df5_cm.loc['x', 'y']\n",
    "df5_beta_0 = df5_mu_y - df5_beta_1 * df5_mu_x\n",
    "\n",
    "print(\"df5 B0 =\", df5_beta_0, \"df5 B1 =\", df5_beta_1)"
   ]
  },
  {
   "cell_type": "code",
   "execution_count": 54,
   "metadata": {},
   "outputs": [],
   "source": [
    "# use OLS method\n",
    "df5_m = sm.ols('y ~ x', data = df5)"
   ]
  },
  {
   "cell_type": "code",
   "execution_count": 55,
   "metadata": {},
   "outputs": [],
   "source": [
    "# get the fit of m\n",
    "df5_m = df5_m.fit()"
   ]
  },
  {
   "cell_type": "code",
   "execution_count": 56,
   "metadata": {},
   "outputs": [
    {
     "data": {
      "text/plain": [
       "Intercept    0.921257\n",
       "x            4.767081\n",
       "dtype: float64"
      ]
     },
     "execution_count": 56,
     "metadata": {},
     "output_type": "execute_result"
    }
   ],
   "source": [
    "# show intercept and x coefficient\n",
    "df5_m.params"
   ]
  },
  {
   "cell_type": "code",
   "execution_count": 57,
   "metadata": {},
   "outputs": [],
   "source": [
    "df5_intercept, df5_slope = df5_m.params\n",
    "df5['y_est'] = df5_intercept + df5_slope * df5.x"
   ]
  },
  {
   "cell_type": "code",
   "execution_count": 58,
   "metadata": {},
   "outputs": [
    {
     "data": {
      "image/png": "[encoded data removed]",
      "text/plain": [
       "<Figure size 432x288 with 1 Axes>"
      ]
     },
     "metadata": {
      "needs_background": "light"
     },
     "output_type": "display_data"
    }
   ],
   "source": [
    "# plot OLS\n",
    "# plot observations\n",
    "plt.plot(df5.x, df5.y, 'o', label = 'Observations')\n",
    "plt.xlabel('x')\n",
    "plt.ylabel('y')\n",
    "plt.title('Data Set 5 (OLS Regression)')\n",
    "\n",
    "# plot estimates\n",
    "plt.plot(df5.x, df5.y_est, 'r+', label='Estimates')\n",
    "\n",
    "# plot regression\n",
    "plt.plot(df5.x, df5.y_est, 'r-', label='Regression line')\n",
    "\n",
    "# plot errors\n",
    "plt.vlines(df5.x, df5.y_est, df5.y, linestyles='dashed', label = 'errors')\n",
    "\n",
    "# add legend\n",
    "plt.legend()\n",
    "plt.show()"
   ]
  },
  {
   "cell_type": "code",
   "execution_count": 59,
   "metadata": {},
   "outputs": [
    {
     "data": {
      "text/html": [
       "<table class=\"simpletable\">\n",
       "<caption>OLS Regression Results</caption>\n",
       "<tr>\n",
       "  <th>Dep. Variable:</th>            <td>y</td>        <th>  R-squared:         </th> <td>   0.806</td>\n",
       "</tr>\n",
       "<tr>\n",
       "  <th>Model:</th>                   <td>OLS</td>       <th>  Adj. R-squared:    </th> <td>   0.804</td>\n",
       "</tr>\n",
       "<tr>\n",
       "  <th>Method:</th>             <td>Least Squares</td>  <th>  F-statistic:       </th> <td>   411.9</td>\n",
       "</tr>\n",
       "<tr>\n",
       "  <th>Date:</th>             <td>Sun, 20 Nov 2022</td> <th>  Prob (F-statistic):</th> <td>4.70e-37</td>\n",
       "</tr>\n",
       "<tr>\n",
       "  <th>Time:</th>                 <td>15:37:28</td>     <th>  Log-Likelihood:    </th> <td> -334.42</td>\n",
       "</tr>\n",
       "<tr>\n",
       "  <th>No. Observations:</th>      <td>   101</td>      <th>  AIC:               </th> <td>   672.8</td>\n",
       "</tr>\n",
       "<tr>\n",
       "  <th>Df Residuals:</th>          <td>    99</td>      <th>  BIC:               </th> <td>   678.1</td>\n",
       "</tr>\n",
       "<tr>\n",
       "  <th>Df Model:</th>              <td>     1</td>      <th>                     </th>     <td> </td>   \n",
       "</tr>\n",
       "<tr>\n",
       "  <th>Covariance Type:</th>      <td>nonrobust</td>    <th>                     </th>     <td> </td>   \n",
       "</tr>\n",
       "</table>\n",
       "<table class=\"simpletable\">\n",
       "<tr>\n",
       "      <td></td>         <th>coef</th>     <th>std err</th>      <th>t</th>      <th>P>|t|</th>  <th>[0.025</th>    <th>0.975]</th>  \n",
       "</tr>\n",
       "<tr>\n",
       "  <th>Intercept</th> <td>    0.9213</td> <td>    1.346</td> <td>    0.685</td> <td> 0.495</td> <td>   -1.749</td> <td>    3.591</td>\n",
       "</tr>\n",
       "<tr>\n",
       "  <th>x</th>         <td>    4.7671</td> <td>    0.235</td> <td>   20.294</td> <td> 0.000</td> <td>    4.301</td> <td>    5.233</td>\n",
       "</tr>\n",
       "</table>\n",
       "<table class=\"simpletable\">\n",
       "<tr>\n",
       "  <th>Omnibus:</th>       <td>113.783</td> <th>  Durbin-Watson:     </th> <td>   1.491</td>\n",
       "</tr>\n",
       "<tr>\n",
       "  <th>Prob(Omnibus):</th> <td> 0.000</td>  <th>  Jarque-Bera (JB):  </th> <td>2578.951</td>\n",
       "</tr>\n",
       "<tr>\n",
       "  <th>Skew:</th>          <td>-3.591</td>  <th>  Prob(JB):          </th> <td>    0.00</td>\n",
       "</tr>\n",
       "<tr>\n",
       "  <th>Kurtosis:</th>      <td>26.691</td>  <th>  Cond. No.          </th> <td>    11.8</td>\n",
       "</tr>\n",
       "</table><br/><br/>Notes:<br/>[1] Standard Errors assume that the covariance matrix of the errors is correctly specified."
      ],
      "text/plain": [
       "<class 'statsmodels.iolib.summary.Summary'>\n",
       "\"\"\"\n",
       "                            OLS Regression Results                            \n",
       "==============================================================================\n",
       "Dep. Variable:                      y   R-squared:                       0.806\n",
       "Model:                            OLS   Adj. R-squared:                  0.804\n",
       "Method:                 Least Squares   F-statistic:                     411.9\n",
       "Date:                Sun, 20 Nov 2022   Prob (F-statistic):           4.70e-37\n",
       "Time:                        15:37:28   Log-Likelihood:                -334.42\n",
       "No. Observations:                 101   AIC:                             672.8\n",
       "Df Residuals:                      99   BIC:                             678.1\n",
       "Df Model:                           1                                         \n",
       "Covariance Type:            nonrobust                                         \n",
       "==============================================================================\n",
       "                 coef    std err          t      P>|t|      [0.025      0.975]\n",
       "------------------------------------------------------------------------------\n",
       "Intercept      0.9213      1.346      0.685      0.495      -1.749       3.591\n",
       "x              4.7671      0.235     20.294      0.000       4.301       5.233\n",
       "==============================================================================\n",
       "Omnibus:                      113.783   Durbin-Watson:                   1.491\n",
       "Prob(Omnibus):                  0.000   Jarque-Bera (JB):             2578.951\n",
       "Skew:                          -3.591   Prob(JB):                         0.00\n",
       "Kurtosis:                      26.691   Cond. No.                         11.8\n",
       "==============================================================================\n",
       "\n",
       "Notes:\n",
       "[1] Standard Errors assume that the covariance matrix of the errors is correctly specified.\n",
       "\"\"\""
      ]
     },
     "execution_count": 59,
     "metadata": {},
     "output_type": "execute_result"
    }
   ],
   "source": [
    "df5_m.summary()"
   ]
  },
  {
   "cell_type": "markdown",
   "metadata": {},
   "source": [
    "## Analysis"
   ]
  },
  {
   "cell_type": "markdown",
   "metadata": {},
   "source": [
    "Looking at the OLS Regression summary of dataset 5, the R-squared has a value of 0.806 and a similar adjusted R-squared has a similar value of 0.804. Thus, we can conclude that the generated OLS regression fits the model fairly well.\n",
    "\n",
    "The equation of the regression is y_est = 0.9213 + 4.7671x\n",
    "\n",
    "We can see that the intercept is 0.9213 and the slope or coefficient of the regresion parameters (B0 and B1) is 4.7671. There is a strong, positive correlation between the two parameters."
   ]
  },
  {
   "cell_type": "markdown",
   "metadata": {},
   "source": [
    "# Set 6"
   ]
  },
  {
   "cell_type": "code",
   "execution_count": 60,
   "metadata": {},
   "outputs": [
    {
     "data": {
      "image/png": "[encoded data removed]",
      "text/plain": [
       "<Figure size 432x288 with 1 Axes>"
      ]
     },
     "metadata": {
      "needs_background": "light"
     },
     "output_type": "display_data"
    }
   ],
   "source": [
    "# Set 6\n",
    "plt.plot(df6.x, df6.y, 'o')\n",
    "plt.xlabel('x')\n",
    "plt.ylabel('y')\n",
    "plt.title('Data Set 6 (Original)')\n",
    "plt.show()"
   ]
  },
  {
   "cell_type": "markdown",
   "metadata": {},
   "source": [
    "## Visual Analysis"
   ]
  },
  {
   "cell_type": "markdown",
   "metadata": {},
   "source": [
    "Looking at the scatter plot of Data Set 6, visually we can see that there is a strong, positive correlation in the data. As x increases, so does y. However, visually the graph looks linear, however there seems to be one very obvious outlier in the data. First an OLS regression will be performed on the dataset."
   ]
  },
  {
   "cell_type": "code",
   "execution_count": 61,
   "metadata": {},
   "outputs": [
    {
     "data": {
      "text/html": [
       "<div>\n",
       "<style scoped>\n",
       "    .dataframe tbody tr th:only-of-type {\n",
       "        vertical-align: middle;\n",
       "    }\n",
       "\n",
       "    .dataframe tbody tr th {\n",
       "        vertical-align: top;\n",
       "    }\n",
       "\n",
       "    .dataframe thead th {\n",
       "        text-align: right;\n",
       "    }\n",
       "</style>\n",
       "<table border=\"1\" class=\"dataframe\">\n",
       "  <thead>\n",
       "    <tr style=\"text-align: right;\">\n",
       "      <th></th>\n",
       "      <th>y</th>\n",
       "      <th>x</th>\n",
       "    </tr>\n",
       "  </thead>\n",
       "  <tbody>\n",
       "    <tr>\n",
       "      <th>y</th>\n",
       "      <td>1.000000</td>\n",
       "      <td>0.955578</td>\n",
       "    </tr>\n",
       "    <tr>\n",
       "      <th>x</th>\n",
       "      <td>0.955578</td>\n",
       "      <td>1.000000</td>\n",
       "    </tr>\n",
       "  </tbody>\n",
       "</table>\n",
       "</div>"
      ],
      "text/plain": [
       "          y         x\n",
       "y  1.000000  0.955578\n",
       "x  0.955578  1.000000"
      ]
     },
     "execution_count": 61,
     "metadata": {},
     "output_type": "execute_result"
    }
   ],
   "source": [
    "# correlation matrix\n",
    "df6_cm = df6.corr(method = 'pearson')\n",
    "df6_cm"
   ]
  },
  {
   "cell_type": "code",
   "execution_count": 62,
   "metadata": {},
   "outputs": [
    {
     "name": "stdout",
     "output_type": "stream",
     "text": [
      "df6 x mean = 5.618742574257427 df6 y mean = 39.17820780213763\n"
     ]
    }
   ],
   "source": [
    "# mean of x and y\n",
    "df6_mu_x = np.mean(df6.x)\n",
    "df6_mu_y = np.mean(df6.y)\n",
    "\n",
    "print(\"df6 x mean =\", df6_mu_x, \"df6 y mean =\", df6_mu_y)"
   ]
  },
  {
   "cell_type": "code",
   "execution_count": 63,
   "metadata": {},
   "outputs": [
    {
     "name": "stdout",
     "output_type": "stream",
     "text": [
      "df6 x standard deviation = 4.268606722534803 df6 y standard deviation = 31.39086404094349\n"
     ]
    }
   ],
   "source": [
    "# standard deviation of x and y\n",
    "df6_sig_x = np.std(df6.x, ddof=1)\n",
    "df6_sig_y = np.std(df6.y, ddof=1 )\n",
    "\n",
    "print(\"df6 x standard deviation =\", df6_sig_x, \"df6 y standard deviation =\", df6_sig_y)"
   ]
  },
  {
   "cell_type": "code",
   "execution_count": 64,
   "metadata": {},
   "outputs": [
    {
     "name": "stdout",
     "output_type": "stream",
     "text": [
      "df6 B0 = -0.3059107436463293 df6 B1 = 7.027216147378344\n"
     ]
    }
   ],
   "source": [
    "# B0 and B1 of regression\n",
    "df6_beta_1 = df6_sig_y/df6_sig_x * df6_cm.loc['x', 'y']\n",
    "df6_beta_0 = df6_mu_y - df6_beta_1 * df6_mu_x\n",
    "\n",
    "print(\"df6 B0 =\", df6_beta_0, \"df6 B1 =\", df6_beta_1)"
   ]
  },
  {
   "cell_type": "code",
   "execution_count": 65,
   "metadata": {},
   "outputs": [],
   "source": [
    "# use OLS method\n",
    "df6_m = sm.ols('y ~ x', data = df6)"
   ]
  },
  {
   "cell_type": "code",
   "execution_count": 66,
   "metadata": {},
   "outputs": [],
   "source": [
    "# get the fit of m\n",
    "df6_m = df6_m.fit()"
   ]
  },
  {
   "cell_type": "code",
   "execution_count": 67,
   "metadata": {},
   "outputs": [
    {
     "data": {
      "text/plain": [
       "Intercept   -0.305911\n",
       "x            7.027216\n",
       "dtype: float64"
      ]
     },
     "execution_count": 67,
     "metadata": {},
     "output_type": "execute_result"
    }
   ],
   "source": [
    "# show intercept and x coefficient\n",
    "df6_m.params"
   ]
  },
  {
   "cell_type": "code",
   "execution_count": 68,
   "metadata": {},
   "outputs": [],
   "source": [
    "df6_intercept, df6_slope = df6_m.params\n",
    "df6['y_est'] = df6_intercept + df6_slope * df6.x"
   ]
  },
  {
   "cell_type": "code",
   "execution_count": 69,
   "metadata": {},
   "outputs": [
    {
     "data": {
      "image/png": "[encoded data removed]",
      "text/plain": [
       "<Figure size 432x288 with 1 Axes>"
      ]
     },
     "metadata": {
      "needs_background": "light"
     },
     "output_type": "display_data"
    }
   ],
   "source": [
    "# plot OLS\n",
    "# plot observations\n",
    "plt.plot(df6.x, df6.y, 'o', label = 'Observations')\n",
    "plt.xlabel('x')\n",
    "plt.ylabel('y')\n",
    "plt.title('Data Set 6 (OLS Regression)')\n",
    "\n",
    "# plot estimates\n",
    "plt.plot(df6.x, df6.y_est, 'r+', label='Estimates')\n",
    "\n",
    "# plot regression\n",
    "plt.plot(df6.x, df6.y_est, 'r-', label='Regression line')\n",
    "\n",
    "# plot errors\n",
    "plt.vlines(df6.x, df6.y_est, df6.y, linestyles='dashed', label = 'errors')\n",
    "\n",
    "# add legend\n",
    "plt.legend()\n",
    "plt.show()"
   ]
  },
  {
   "cell_type": "code",
   "execution_count": 70,
   "metadata": {},
   "outputs": [
    {
     "data": {
      "text/html": [
       "<table class=\"simpletable\">\n",
       "<caption>OLS Regression Results</caption>\n",
       "<tr>\n",
       "  <th>Dep. Variable:</th>            <td>y</td>        <th>  R-squared:         </th> <td>   0.913</td>\n",
       "</tr>\n",
       "<tr>\n",
       "  <th>Model:</th>                   <td>OLS</td>       <th>  Adj. R-squared:    </th> <td>   0.912</td>\n",
       "</tr>\n",
       "<tr>\n",
       "  <th>Method:</th>             <td>Least Squares</td>  <th>  F-statistic:       </th> <td>   1041.</td>\n",
       "</tr>\n",
       "<tr>\n",
       "  <th>Date:</th>             <td>Sun, 20 Nov 2022</td> <th>  Prob (F-statistic):</th> <td>2.49e-54</td>\n",
       "</tr>\n",
       "<tr>\n",
       "  <th>Time:</th>                 <td>15:37:28</td>     <th>  Log-Likelihood:    </th> <td> -367.52</td>\n",
       "</tr>\n",
       "<tr>\n",
       "  <th>No. Observations:</th>      <td>   101</td>      <th>  AIC:               </th> <td>   739.0</td>\n",
       "</tr>\n",
       "<tr>\n",
       "  <th>Df Residuals:</th>          <td>    99</td>      <th>  BIC:               </th> <td>   744.3</td>\n",
       "</tr>\n",
       "<tr>\n",
       "  <th>Df Model:</th>              <td>     1</td>      <th>                     </th>     <td> </td>   \n",
       "</tr>\n",
       "<tr>\n",
       "  <th>Covariance Type:</th>      <td>nonrobust</td>    <th>                     </th>     <td> </td>   \n",
       "</tr>\n",
       "</table>\n",
       "<table class=\"simpletable\">\n",
       "<tr>\n",
       "      <td></td>         <th>coef</th>     <th>std err</th>      <th>t</th>      <th>P>|t|</th>  <th>[0.025</th>    <th>0.975]</th>  \n",
       "</tr>\n",
       "<tr>\n",
       "  <th>Intercept</th> <td>   -0.3059</td> <td>    1.534</td> <td>   -0.199</td> <td> 0.842</td> <td>   -3.350</td> <td>    2.739</td>\n",
       "</tr>\n",
       "<tr>\n",
       "  <th>x</th>         <td>    7.0272</td> <td>    0.218</td> <td>   32.259</td> <td> 0.000</td> <td>    6.595</td> <td>    7.459</td>\n",
       "</tr>\n",
       "</table>\n",
       "<table class=\"simpletable\">\n",
       "<tr>\n",
       "  <th>Omnibus:</th>       <td> 0.494</td> <th>  Durbin-Watson:     </th> <td>   2.255</td>\n",
       "</tr>\n",
       "<tr>\n",
       "  <th>Prob(Omnibus):</th> <td> 0.781</td> <th>  Jarque-Bera (JB):  </th> <td>   0.262</td>\n",
       "</tr>\n",
       "<tr>\n",
       "  <th>Skew:</th>          <td> 0.120</td> <th>  Prob(JB):          </th> <td>   0.877</td>\n",
       "</tr>\n",
       "<tr>\n",
       "  <th>Kurtosis:</th>      <td> 3.070</td> <th>  Cond. No.          </th> <td>    11.8</td>\n",
       "</tr>\n",
       "</table><br/><br/>Notes:<br/>[1] Standard Errors assume that the covariance matrix of the errors is correctly specified."
      ],
      "text/plain": [
       "<class 'statsmodels.iolib.summary.Summary'>\n",
       "\"\"\"\n",
       "                            OLS Regression Results                            \n",
       "==============================================================================\n",
       "Dep. Variable:                      y   R-squared:                       0.913\n",
       "Model:                            OLS   Adj. R-squared:                  0.912\n",
       "Method:                 Least Squares   F-statistic:                     1041.\n",
       "Date:                Sun, 20 Nov 2022   Prob (F-statistic):           2.49e-54\n",
       "Time:                        15:37:28   Log-Likelihood:                -367.52\n",
       "No. Observations:                 101   AIC:                             739.0\n",
       "Df Residuals:                      99   BIC:                             744.3\n",
       "Df Model:                           1                                         \n",
       "Covariance Type:            nonrobust                                         \n",
       "==============================================================================\n",
       "                 coef    std err          t      P>|t|      [0.025      0.975]\n",
       "------------------------------------------------------------------------------\n",
       "Intercept     -0.3059      1.534     -0.199      0.842      -3.350       2.739\n",
       "x              7.0272      0.218     32.259      0.000       6.595       7.459\n",
       "==============================================================================\n",
       "Omnibus:                        0.494   Durbin-Watson:                   2.255\n",
       "Prob(Omnibus):                  0.781   Jarque-Bera (JB):                0.262\n",
       "Skew:                           0.120   Prob(JB):                        0.877\n",
       "Kurtosis:                       3.070   Cond. No.                         11.8\n",
       "==============================================================================\n",
       "\n",
       "Notes:\n",
       "[1] Standard Errors assume that the covariance matrix of the errors is correctly specified.\n",
       "\"\"\""
      ]
     },
     "execution_count": 70,
     "metadata": {},
     "output_type": "execute_result"
    }
   ],
   "source": [
    "df6_m.summary()"
   ]
  },
  {
   "cell_type": "markdown",
   "metadata": {},
   "source": [
    "## Analysis"
   ]
  },
  {
   "cell_type": "markdown",
   "metadata": {},
   "source": [
    "Looking at the OLS Regression summary of data set 6, the R-squared has a value of 0.913, thus the regression has a good fit with the dataset. In addition, The adjusted R-squared has a similar value of 0.912. Thus, the goodness of fit equation still works well. Therefore, we can conclude that the generated OLS regression fits the model well and is appropriate for the data set.\n",
    "\n",
    "The equation of the regression is y_est = -0.3059 + 7.0272x\n",
    "\n",
    "We can see that the intercept is -0.3059 and the slope or coefficient of the regresion parameters (B0 and B1) is 7.0272. There is a strong positive correlation between the two parameters."
   ]
  }
 ],
 "metadata": {
  "kernelspec": {
   "display_name": "Python 3 (ipykernel)",
   "language": "python",
   "name": "python3"
  },
  "language_info": {
   "codemirror_mode": {
    "name": "ipython",
    "version": 3
   },
   "file_extension": ".py",
   "mimetype": "text/x-python",
   "name": "python",
   "nbconvert_exporter": "python",
   "pygments_lexer": "ipython3",
   "version": "3.9.7"
  }
 },
 "nbformat": 4,
 "nbformat_minor": 2
}
