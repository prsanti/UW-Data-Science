{
 "cells": [
  {
   "cell_type": "markdown",
   "metadata": {
    "colab_type": "text",
    "id": "y8F-5tMKTQjL"
   },
   "source": [
    "## Assignment 2"
   ]
  },
  {
   "cell_type": "markdown",
   "metadata": {
    "colab_type": "text",
    "id": "07Y_ONdkTQjR"
   },
   "source": [
    "This assignmemt is based on content discussed in module 2 and will work on a solution for the famous Monty Hall game.  Retrieved from https://en.wikipedia.org/wiki/Monty_Hall_problem\n"
   ]
  },
  {
   "cell_type": "markdown",
   "metadata": {
    "colab_type": "text",
    "id": "7hNSzgdzTQjU"
   },
   "source": [
    "## Learning outcomes"
   ]
  },
  {
   "cell_type": "markdown",
   "metadata": {
    "colab_type": "text",
    "id": "2QtRX9sRTQjX"
   },
   "source": [
    "- Program a simple simulation to solve a concrete statistical problem\n",
    "- Develop insight into the Bayesian probabilistic viewpoint\n",
    "- Recognize that statistical intuition can sometimes be wrong\n"
   ]
  },
  {
   "cell_type": "markdown",
   "metadata": {
    "colab_type": "text",
    "id": "lfLffNUWTQja"
   },
   "source": [
    "**Question**\n",
    "\n",
    "Given below is the description of the problem.  \n",
    "\n",
    "Suppose you're on a game show and you're given the choice of three doors. \n",
    "\n",
    "Behind one door is a car; behind the others, goats. The car and the goats were placed randomly behind the doors before the show.\n",
    "\n",
    "The rules are:\n",
    "\n",
    "After you have chosen a door, the door remains closed for the time being. \n",
    "The game show host, Monty Hall, who knows what is behind the doors, now has to open one of the two remaining doors, and the door he opens must have a goat behind it. If both remaining doors have goats behind them, he chooses one randomly. \n",
    "\n",
    "After Monty opens a door with a goat, he will ask you to decide whether you want to stay with your first choice or to switch to the last remaining door. \n",
    "Imagine that you chose Door 1 and the host opens Door 3, which has a goat. \n",
    "He then asks you \"Do you want to switch to Door Number 2?\" Is it to your advantage to change your choice? \n",
    "\n",
    "**NOTES:**\n",
    "1. The player may initially choose any of the three doors (not just Door 1).\n",
    "2. The host opens a different door revealing a goat (not necessarily Door 3).\n",
    "3. The host gives the player a second choice between the two remaining unopened doors. \n"
   ]
  },
  {
   "attachments": {
    "download.jpeg": {
     "image/jpeg": "[encoded data removed]"
    }
   },
   "cell_type": "markdown",
   "metadata": {
    "colab_type": "text",
    "id": "L041acdjTQjb"
   },
   "source": [
    "![download.jpeg](attachment:download.jpeg)\n",
    "\n",
    "(Source: https://en.wikipedia.org/wiki/Monty_Hall_problem#)"
   ]
  },
  {
   "cell_type": "markdown",
   "metadata": {
    "colab_type": "text",
    "id": "dAuGtwxzTQje"
   },
   "source": [
    "- Write Python code to solve the Monty Hall problem. Simulate at least a thousand games using three doors for each strategy and show the results in such a way as to make it easy to compare the effects of each strategy.\n"
   ]
  },
  {
   "cell_type": "markdown",
   "metadata": {
    "colab": {},
    "colab_type": "code",
    "id": "GlZk3mKETQjg"
   },
   "source": [
    "## Name: Paulo Santiago"
   ]
  },
  {
   "cell_type": "code",
   "execution_count": 34,
   "metadata": {},
   "outputs": [],
   "source": [
    "import pandas as pd\n",
    "import numpy as np\n",
    "import seaborn as sns\n",
    "from random import choice\n",
    "from random import sample\n",
    "from random import randint\n",
    "import matplotlib.pyplot as plt\n",
    "from IPython.display import Markdown as md"
   ]
  },
  {
   "cell_type": "code",
   "execution_count": 2,
   "metadata": {},
   "outputs": [],
   "source": [
    "# Create list of doors numbered 1 to 3\n",
    "doors_list = [1,2,3]\n",
    "#print(doors)"
   ]
  },
  {
   "cell_type": "code",
   "execution_count": 3,
   "metadata": {},
   "outputs": [],
   "source": [
    "def monty_hall_problem(doors, switch_choice):\n",
    "\n",
    "    doors_remaining = doors.copy()\n",
    "    #print('doors_remaining', doors_remaining)\n",
    "    \n",
    "    # set win to False by default\n",
    "    win = False\n",
    "    # player randomly selects door\n",
    "    player_choice = choice(doors)\n",
    "    # randomly select winning door\n",
    "    winning_door = choice(doors)\n",
    "    #print('winning_door', winning_door)\n",
    "    #print('player_choice', player_choice)\n",
    "    \n",
    "    #print('doors', doors, 'player_choice', player_choice, 'switch_choice', switch_choice)\n",
    "    \n",
    "    # host removes losing door\n",
    "    for door in doors:\n",
    "        #print('door loop', door)\n",
    "        #print('door != player_choice', door != player_choice, 'door != winning_door', door != winning_door)\n",
    "        # check if door is not the player's choice and winning door\n",
    "        if (door != player_choice and door != winning_door):\n",
    "            doors_remaining.remove(door)\n",
    "            #print('removed losing door 1', doors_remaining)\n",
    "            # end the loop once removed\n",
    "            break\n",
    "    \n",
    "    #print('removed losing door 2', doors_remaining)\n",
    "    \n",
    "    # player switches choice if they decide to\n",
    "    if (switch_choice):\n",
    "        # remove player's original choice from the remaining doors\n",
    "        doors_remaining.remove(player_choice)\n",
    "        #print('doors_remainig after switch', doors_remaining)\n",
    "        \n",
    "        # player chooses from remaining door(s)\n",
    "        player_choice = choice(doors_remaining)\n",
    "        #for door in doors_remaining:\n",
    "        #    if (door != player_choice):\n",
    "        #        player_choice = door\n",
    "        #        break\n",
    "        \n",
    "        #player_choice = choice(doors_remaining)\n",
    "        #print('player switch', player_choice)\n",
    "    \n",
    "    \n",
    "    # check if player choice is the same as winning door\n",
    "    if (player_choice == winning_door):\n",
    "        win = True\n",
    "    else:\n",
    "        win = False\n",
    "    \n",
    "    # return if player wins\n",
    "    return win\n",
    "    \n",
    "#print(monty_hall_problem(doors_list, True))"
   ]
  },
  {
   "cell_type": "code",
   "execution_count": 22,
   "metadata": {},
   "outputs": [],
   "source": [
    "# number of samples\n",
    "samples = 1000\n",
    "\n",
    "# array of wins and losses\n",
    "# 1 = win, 0 = lose\n",
    "no_switch_wins_list = []\n",
    "switch_wins_list = []\n",
    "\n",
    "# run a simulation 1000 times and keep track of wins and losses\n",
    "for i in range(samples):\n",
    "    if (monty_hall_problem(doors_list, False)):\n",
    "        no_switch_wins_list.append(1)\n",
    "    else:\n",
    "        no_switch_wins_list.append(0)\n",
    "        \n",
    "    if (monty_hall_problem(doors_list, True)):\n",
    "        switch_wins_list.append(1)\n",
    "    else:\n",
    "        switch_wins_list.append(0)\n",
    "        \n",
    "# number of wins for not switching choice\n",
    "no_switch_wins = sum(no_switch_wins_list)\n",
    "# number of wins for switching choice\n",
    "switch_wins = sum(switch_wins_list)\n",
    "\n",
    "#print('no_switch_wins', no_switch_wins)\n",
    "#print('test_no', test_no)\n",
    "#print('switch_wins', switch_wins)\n",
    "#print('test_yes', test_yes)\n",
    "        \n",
    "#print('switch list', switch_wins_list)\n",
    "        \n",
    "no_switch_win_percentage_list = []\n",
    "switch_win_percentage_list = []\n",
    "\n",
    "n_test = []\n",
    "\n",
    "#test = no_switch_wins_list[:4]\n",
    "#print('test', test)\n",
    "for i in range(samples):\n",
    "    #print('i', i)\n",
    "    #print('i', no_switch_wins_list[:i+1])\n",
    "    no_switch_percentage = sum(no_switch_wins_list[:i+1]) / (i + 1)\n",
    "    #print('%', no_switch_percentage)\n",
    "    no_switch_win_percentage_list.append(no_switch_percentage)\n",
    "    \n",
    "    #print('test', switch_win_percentage_list[i])\n",
    "    switch_win_percentage = sum(switch_wins_list[:i+1]) / (i + 1)\n",
    "    switch_win_percentage_list.append(switch_win_percentage)\n",
    "    #print('% switch', switch_win_percentage)\n",
    "    \n",
    "    n_test.append(i + 1)\n",
    "    \n",
    "#print('n_test', n_test)\n"
   ]
  },
  {
   "cell_type": "code",
   "execution_count": 15,
   "metadata": {},
   "outputs": [
    {
     "name": "stdout",
     "output_type": "stream",
     "text": [
      "After running 1000 simulations of a player not switching their choice, they won 344 with a win percentage of 34.4%.\n",
      "After running 1000 simulations of a player switching their choice, they won 668 with a win percentage of 66.8%.\n"
     ]
    }
   ],
   "source": [
    "no_switch_win_percentage = (no_switch_wins / samples) * 100\n",
    "\n",
    "switch_win_percentage = (switch_wins / samples) * 100\n",
    "\n",
    "print('After running 1000 simulations of a player not switching their choice, they won {0} with a win percentage of {1}%.'.format(no_switch_wins, no_switch_win_percentage))\n",
    "print('After running 1000 simulations of a player switching their choice, they won {0} with a win percentage of {1}%.'.format(switch_wins, switch_win_percentage))"
   ]
  },
  {
   "cell_type": "code",
   "execution_count": 80,
   "metadata": {},
   "outputs": [
    {
     "data": {
      "text/plain": [
       "<AxesSubplot:title={'center':'Monty Hall Problem (Player Does Not Switch Original Choice)'}, xlabel='Win and Loses', ylabel='Count'>"
      ]
     },
     "execution_count": 80,
     "metadata": {},
     "output_type": "execute_result"
    },
    {
     "data": {
      "image/png": "[encoded data removed]",
      "text/plain": [
       "<Figure size 720x720 with 1 Axes>"
      ]
     },
     "metadata": {
      "needs_background": "light"
     },
     "output_type": "display_data"
    }
   ],
   "source": [
    "plt.figure(figsize=(10,10))\n",
    "no_switch_distribution = sns.histplot(no_switch_wins_list, bins = 2)\n",
    "no_switch_distribution.set_xticks(range(2))\n",
    "no_switch_distribution.set_xticklabels(['Lose', 'Win'])\n",
    "no_switch_distribution.set(xlabel=\"Win and Loses\", ylabel=\"Count\", title=\"Monty Hall Problem (Player Does Not Switch Original Choice)\")\n",
    "no_switch_distribution"
   ]
  },
  {
   "cell_type": "code",
   "execution_count": 41,
   "metadata": {},
   "outputs": [
    {
     "data": {
      "text/plain": [
       "'Simulating the Monty Hall problem and looking at the bar graph, when the player keeps their original choice and does not switch to the other door, they lose 345 and win 663 times.By keeping their original choice, the player has a 34.4% chance of winning'"
      ]
     },
     "execution_count": 41,
     "metadata": {},
     "output_type": "execute_result"
    }
   ],
   "source": [
    "md1 = \"Simulating the Monty Hall problem and looking at the bar graph, when the player keeps their original choice and does not switch to the other door, they lose {0} and win {1} times.\".format(no_switch_wins, switch_wins)\n",
    "md2 = \"By keeping their original choice, the player has a {}% chance of winning\".format(no_switch_win_percentage)\n",
    "md = md1 + md2\n",
    "md"
   ]
  },
  {
   "cell_type": "code",
   "execution_count": 33,
   "metadata": {},
   "outputs": [
    {
     "data": {
      "text/plain": [
       "Text(0.5, 1.0, 'Monty Hall Problem (Player Does Not Switch Original Choice)')"
      ]
     },
     "execution_count": 33,
     "metadata": {},
     "output_type": "execute_result"
    },
    {
     "data": {
      "image/png": "[encoded data removed]",
      "text/plain": [
       "<Figure size 720x720 with 1 Axes>"
      ]
     },
     "metadata": {
      "needs_background": "light"
     },
     "output_type": "display_data"
    }
   ],
   "source": [
    "plt.figure(figsize=(10,10))\n",
    "plt.plot(n_test, no_switch_win_percentage_list)\n",
    "plt.xlabel(\"Number of Tests\")\n",
    "plt.ylabel(\"Win Percentage\")\n",
    "plt.title(\"Monty Hall Problem (Player Does Not Switch Original Choice)\")\n",
    "#no_switch_win_percentage_plt"
   ]
  },
  {
   "cell_type": "markdown",
   "metadata": {},
   "source": [
    "After running 1000 simulations of the Monty Hall Problem when the player does not switch their initial choice, we can see that the win percentage is really volatile from the first to about three hundred simulations. Once more simulations are conducted, the average win percentage converges to its expected value of 0.3333 or 33.33%."
   ]
  },
  {
   "cell_type": "code",
   "execution_count": null,
   "metadata": {},
   "outputs": [],
   "source": []
  }
 ],
 "metadata": {
  "colab": {
   "name": "Assignment 2.ipynb",
   "provenance": [],
   "version": "0.3.2"
  },
  "kernelspec": {
   "display_name": "Python 3 (ipykernel)",
   "language": "python",
   "name": "python3"
  },
  "language_info": {
   "codemirror_mode": {
    "name": "ipython",
    "version": 3
   },
   "file_extension": ".py",
   "mimetype": "text/x-python",
   "name": "python",
   "nbconvert_exporter": "python",
   "pygments_lexer": "ipython3",
   "version": "3.9.7"
  }
 },
 "nbformat": 4,
 "nbformat_minor": 1
}
