{
 "cells": [
  {
   "cell_type": "markdown",
   "metadata": {},
   "source": [
    "# Module 5 Part 2: Introduction to Inference for Categorical Variables "
   ]
  },
  {
   "cell_type": "markdown",
   "metadata": {},
   "source": [
    "# Introduction"
   ]
  },
  {
   "cell_type": "markdown",
   "metadata": {},
   "source": [
    "The previous module covered inference for continuous variables. Here we will extend the concepts of inference to categorical variables. Tests for categorical data apply mainly to nominal data. However, the same concepts can be extended to ordinal data by treating the data as nominal.\n",
    "\n",
    "We will also look at:\n",
    "\n",
    "* The extension of hypothesis testing to nominal variables by applying the normal approximation to the binomial distribution\n",
    "* How statistical tools developed for nominal variables can be used to analyze frequencies or proportions of different categories\n",
    "* Tests that can be performed on nominal variables\n",
    "\n",
    "This module consists of 2 parts:\n",
    "\n",
    "- **Part 1** - Hypothesis Testing\n",
    "\n",
    "- **Part 2** - Introduction to Inference for Categorical Variables\n",
    "\n",
    "Each part is provided in a separate notebook file. It is recommended that you follow the order of the notebooks.  "
   ]
  },
  {
   "cell_type": "markdown",
   "metadata": {},
   "source": [
    "# Learning Outcomes"
   ]
  },
  {
   "cell_type": "markdown",
   "metadata": {},
   "source": [
    "After completing this notebook, you will be able to select the correct distribution and test type to perform a hypothesis test on the proportion and frequency of occurrence of categorical variables."
   ]
  },
  {
   "cell_type": "markdown",
   "metadata": {},
   "source": [
    "# Reading and Resources"
   ]
  },
  {
   "cell_type": "markdown",
   "metadata": {},
   "source": [
    "We invite you to further supplement this notebook with the following recommended text:\n",
    "\n",
    "Diez, D., Çetinkaya-Rundel, M., Barr, C.D. (2019). Chapter 6: Inference for categorical data in *OpenIntro Statistics (4th Ed.).* https://www.openintro.org/stat/textbook.php?stat_book=os \n"
   ]
  },
  {
   "cell_type": "markdown",
   "metadata": {},
   "source": [
    "<h1>Table of Contents<span class=\"tocSkip\"></span></h1>\n",
    "<br>\n",
    "<div class=\"toc\">\n",
    "<ul class=\"toc-item\">\n",
    "<li><span><a href=\"#Module-5-Part-2:-Introduction-to-Inference-for-Categorical-Variables\" data-toc-modified-id=\"Module-5-Part-2:-Introduction-to-Inference-for-Categorical-Variables\">Module 5 Part 2: Introduction to Inference for Categorical Variables</a></span>\n",
    "</li>\n",
    "<li><span><a href=\"#Introduction\" data-toc-modified-id=\"Introduction\">Introduction</a></span>\n",
    "</li>\n",
    "<li><span><a href=\"#Learning-Outcomes\" data-toc-modified-id=\"Learning-Outcomes\">Learning Outcomes</a></span>\n",
    "</li>\n",
    "<li><span><a href=\"#Reading-and-Resources\" data-toc-modified-id=\"Reading-and-Resources\">Reading and Resources</a></span>\n",
    "</li>\n",
    "<li><span><a href=\"#Table-of-Contents\" data-toc-modified-id=\"Table-of-Contents\">Table of Contents</a></span>\n",
    "</li>\n",
    "<li><span><a href=\"#Types-of-Experiments\" data-toc-modified-id=\"Types-of-Experiments\">Types of Experiments</a></span>\n",
    "</li>\n",
    "<li><span><a href=\"#Hypothesis-Tests-on-Proportions\" data-toc-modified-id=\"Hypothesis-Tests-on-Proportions\">Hypothesis Tests on Proportions</a></span>\n",
    "<ul class=\"toc-item\">\n",
    "<li><span><a href=\"#Hypothesis-testing-for-a-proportion\" data-toc-modified-id=\"Hypothesis-testing-for-a-proportion\">Hypothesis testing for a proportion</a></span>\n",
    "<ul class=\"toc-item\">\n",
    "<li><span><a href=\"#Sample-size\" data-toc-modified-id=\"Sample-size\">Sample size</a></span>\n",
    "</li>\n",
    "</ul>\n",
    "</li>\n",
    "<li><span><a href=\"#Difference-of-two-proportions\" data-toc-modified-id=\"Difference-of-two-proportions\">Difference of two proportions</a></span>\n",
    "</li>\n",
    "</ul>\n",
    "</li>\n",
    "<li><span><a href=\"#References\" data-toc-modified-id=\"References\">References</a></span>\n",
    "</li>\n",
    "</ul>\n",
    "</div>"
   ]
  },
  {
   "cell_type": "markdown",
   "metadata": {},
   "source": [
    "# Types of Experiments"
   ]
  },
  {
   "cell_type": "markdown",
   "metadata": {},
   "source": [
    "There are two types of experiments for nominal data:\n",
    "\n",
    "1. **Binomial:** Recall that a Bernoulli experiment has two possible outcomes: \"yes/no\", \"purchase/don't purchase\", \"vote/don't vote\", etc. More generally, we can code these two binary outcomes as either \"0\" or \"1.\" For applications where a Bernoulli experiment is repeated **$n$** times, where $n$ is a fixed number and the $n$ trials are independent, we can model it with a binomial distribution. For this type of data, if we have enough observations, we can use the normal approximation as a good and convenient approximation to the binomial distribution to perform hypothesis tests on proportions.<br><br>\n",
    "\n",
    "2. **Multinomial:** This is an extension of the binomial experiment where the possible outcomes are not restricted to just two binary choices. For this type of data, we apply the **$\\chi^2$ (Chi-Square) distribution** to perform goodness-of-fit and contingency table tests."
   ]
  },
  {
   "cell_type": "markdown",
   "metadata": {},
   "source": [
    "# Hypothesis Tests on Proportions"
   ]
  },
  {
   "cell_type": "markdown",
   "metadata": {},
   "source": [
    "## Hypothesis testing for a proportion"
   ]
  },
  {
   "cell_type": "markdown",
   "metadata": {},
   "source": [
    "In Module 4, we discussed inference techniques for point estimates &mdash; in particular, we saw how to estimate a confidence interval from a sample to infer the true population mean. With categorical data, we infer the true population proportion from a collected sample. The analysis of categorical data generally involves the proportion of \"observations\" in a given population. For example, we could run a poll to assess support of a government decision. The poll will include $N$ people and some subset $n$ of them will express support. The proportion is $n/N$, and our task is to infer the support rate in the full population. Here, we focus on the proportion of successes of a binomial experiment. Sometimes we define one of the possible outcomes of a multinomial experiment as success and all others as failure. In these cases, we can apply the statistical tools for binomial experiments to multinomial outcomes.\n",
    "\n",
    "When a population sample is compared against a hypothesised value, it is analogous to a **one sample t-test**, which we have covered previously.\n",
    "\n",
    "The sample proportion, $\\widehat{p}$, is defined as the relative frequency of successes $x$ vs. the total number of trials $n$. The sample proportion is used as an estimator of the true population parameter $p$:\n",
    "\n",
    "$$\\widehat{p} = \\frac{number \\mbox{ }of \\mbox{ }successes}{number \\mbox{ }of \\mbox{ }trials}=\\frac{x}{n}$$\n",
    "\n",
    "\n",
    "In principle, if we were to collect many samples from a population with the true population parameter $p$, we would get a sampling distribution for observations $x$ in the form of the binomial distribution, defined as:\n",
    "\n",
    "\n",
    "$$ p(x)= {\\left( \\begin{array}{cc} n \\\\x \\end{array}\\right)p^{x}(1-p)^{n-x}}  \\mbox{ } \\mbox{ } \\mbox{ } \\mbox{ } \\mbox{for x=1, 2, 3, ...,n} $$\n",
    "\n",
    "\n",
    "The mean, $\\mu$, and variance, $\\sigma^{2}$, for the binomial probability distribution are:\n",
    "\n",
    "$$\n",
    "\\mu = np\n",
    "$$\n",
    "\n",
    "\n",
    "$$\n",
    "\\sigma^{2}= np(1-p)\n",
    "$$\n",
    "\n",
    "\n",
    "We prefer to approximate this binomial distribution by the normal distribution and describe the proportions rather than the number of successes $x$. Here we can expect the distribution for the proportion, $\\widehat{p}$, to be nearly normal when our sample contains at least 10 successes and at least 10 failures. Adding a condition on independence of observations, we can formalize the conditions for the sampling distribution of $\\widehat{p}$ to be nearly normal:\n",
    "\n",
    "* The sample observations are independent.\n",
    "\n",
    "\n",
    "* We expect to see at least 10 successes and 10 failures in our sample, $np \\geq 10$ and $n(1-p) \\geq 10$. This is called the success-failure condition.\n",
    "\n",
    "The mean and variance can be used to define the test statistic for proportions $p$ provided that $np$ and $n(1-p)$ are greater than 10. This is equivalent to saying that when these two conditions are fulfilled, we can approximate the binomial distribution with the normal distribution:\n",
    "\n",
    "$$\n",
    "z=\\frac{Point\\mbox{ }Estimate - Null\\mbox{ }Value}{Standar\\mbox{ }Error}=\\frac{\\widehat{p}-p}{\\sqrt\\frac{p(1-p)}{n}}\n",
    "$$\n",
    "\n",
    "\n",
    "Applying calculus concepts that are beyond the level of this course, we can approximate the binomial to the normal distribution. **The formulas given below are for reference only &mdash; it is neither expected nor required that these are known as we can use Python functions instead.**\n",
    "\n",
    "Following the same considerations used in the previous module, we can derive the confidence interval estimator of $p$ from the sampling distribution:\n",
    "\n",
    "\n",
    "$$\n",
    "P(-Z_\\frac{\\alpha}{2},\\mbox{ }\\frac{\\widehat{p} - p}{\\sqrt\\frac{p(1-p)}{n}} ,\\mbox{ }+Z_\\frac{\\alpha}{2})=1-\\alpha\n",
    "$$\n",
    "\n",
    "\n",
    "$$\n",
    "P(p-Z_\\frac{\\alpha}{2} \\sqrt\\frac{p(1-p)}{n},\\mbox{ }\\widehat{p} ,\\mbox{ }\\mbox{ }p+Z_\\frac{\\alpha}{2} \\sqrt\\frac{p(1-p)}{n})=1-\\alpha\n",
    "$$\n",
    "\n",
    "\n",
    "Performing some algebraic manipulation:\n",
    "\n",
    "$$\n",
    "P(\\widehat{p}-Z_\\frac{\\alpha}{2} {\\sqrt\\frac{p(1-p)}{n}},\\mbox{ }p ,\\mbox{ }\\widehat{p}+Z_\\frac{\\alpha}{2} \\sqrt\\frac{p(1-p)}{n})=1-\\alpha\n",
    "$$\n",
    "\n",
    "\n",
    "This is equivalent to saying that with repeated sampling from this population, the proportion of values of $\\widehat{p}$ for which the interval $(\\widehat{p}-Z_\\frac{\\alpha}{2} \\sqrt\\frac{p(1-p)}{n},\\mbox{ }\\widehat{p}+Z_\\frac{\\alpha}{2} \\sqrt\\frac{p(1-p)}{n})$ includes the true population proportion parameter $p$ is equal to $1 −\\mbox{ }\\alpha$.\n",
    "\n",
    "\n",
    "Based on the equations above, the **confidence interval of $p$** with a **confidence level of $1-\\alpha$** is estimated as:\n",
    "\n",
    "- $\\widehat{p}-Z_\\frac{\\alpha}{2} \\frac{\\widehat{p}-p}{\\sqrt\\frac{p(1-p)}{n}}$ or $\\widehat{p}-Z_\\frac{\\alpha}{2}SE$ is the **lower confidence limit (LCL)**\n",
    "\n",
    "\n",
    "- $\\widehat{p}+Z_\\frac{\\alpha}{2} \\frac{\\widehat{p}-p}{\\sqrt\\frac{p(1-p)}{n}}$ or $\\widehat{p}+Z_\\frac{\\alpha}{2}SE$ is the **upper confidence limit (UCL)**\n",
    "\n",
    "The typical value for the confidence level is 95%. However, it depends on what is being estimated and its application."
   ]
  },
  {
   "cell_type": "markdown",
   "metadata": {},
   "source": [
    "### Sample size"
   ]
  },
  {
   "cell_type": "markdown",
   "metadata": {},
   "source": [
    "The required confidence interval for a given sample may be too wide for the confidence level we're looking for.  If a confidence interval is too wide, it does not add much information as the error in the estimation is too large.  We may need to keep the difference between the true parameter of the population and the estimation within certain limits.  The estimation error can be decreased by increasing the sample size.  Alternatively, we may be able to get by with a smaller sample than we expected and save the cost of collecting more observations than required.\n",
    "\n",
    "Given a confidence level $\\alpha$ and a desired range width for the confidence interval $B$, the corresponding sample size can be estimated by using the estimator $\\widehat{p} \\pm Z_\\frac{\\alpha}{2} \\sqrt\\frac{p(1-p)}{n}$ shown above.\n",
    "\n",
    "$$\n",
    "n=(\\frac{Z_\\frac{\\alpha}{2}\\sqrt{\\widehat{p}(1-\\widehat{p})}}{B})^2 \n",
    "$$\n",
    "\n",
    "In real life situations, we may not have any idea of $\\widehat{p}$ prior to the experiment. In these situations, the typical approach is to use $\\widehat{p}=0.5$ which maximizes $n$. $p=0.5$ is the worst case scenario as is illustrated below."
   ]
  },
  {
   "cell_type": "code",
   "execution_count": 1,
   "metadata": {
    "collapsed": true
   },
   "outputs": [],
   "source": [
    "import numpy as np\n",
    "import matplotlib.pyplot as plt"
   ]
  },
  {
   "cell_type": "code",
   "execution_count": 2,
   "metadata": {},
   "outputs": [
    {
     "data": {
      "image/png": "[encoded data removed]",
      "text/plain": [
       "<Figure size 432x288 with 1 Axes>"
      ]
     },
     "metadata": {
      "needs_background": "light"
     },
     "output_type": "display_data"
    }
   ],
   "source": [
    "p_range=np.arange(0,1,0.01)\n",
    "p_p_minus_1=p_range*(1-p_range)\n",
    "\n",
    "plt.plot(p_range,p_p_minus_1)\n",
    "plt.title('$\\widehat{p}(1-\\widehat{p})$ vs. $\\widehat{p}$', fontsize=15)\n",
    "plt.xlabel('$\\widehat{p}$', fontsize=12)\n",
    "plt.ylabel('$\\widehat{p}(1-\\widehat{p})$', fontsize=12)\n",
    "plt.axvline(0.5,ymax=0.95,linestyle = 'dashed')\n",
    "plt.axhline(0.25,xmax=0.5,linestyle = 'dashed')\n",
    "plt.show()"
   ]
  },
  {
   "cell_type": "markdown",
   "metadata": {},
   "source": [
    "## Difference of two proportions"
   ]
  },
  {
   "cell_type": "markdown",
   "metadata": {},
   "source": [
    "We previously described the two-sample t-test to compare the difference of two population means. When analyzing proportions, we can compare the difference between the means of two populations in a similar way.\n",
    "\n",
    "The normal approximation can be applied to the situation when:\n",
    "\n",
    "* Each proportion separately follows a normal model\n",
    "\n",
    "\n",
    "* The two samples are independent of each other\n",
    "\n",
    "Sample independence can be assumed if the sample size is less than 10% of the total population.\n",
    "\n",
    "We label $x_1$ as the number of successes in the sample from Population 1 and $x_2$ from Population 2. Using this notation:\n",
    "\n",
    "$$\n",
    "\\widehat{p_1}=\\frac{x_1}{n_1}\n",
    "$$\n",
    "\n",
    "$$\n",
    "\\widehat{p_2}=\\frac{x_1}{n_2}\n",
    "$$\n",
    "\n",
    "We are testing for the difference between the proportions of the two populations based on the sampling distribution of  $\\widehat{p_1}-\\widehat{p_2}$:\n",
    "\n",
    "$\n",
    "E(\\widehat{p_1}-\\widehat{p_2})= p_1-p_2\n",
    "$\n",
    "\n",
    "As variances are additive\n",
    "\n",
    "$\n",
    "V(\\widehat{p_1}-\\widehat{p_2})= v(p_1)+V(p_2)=\\frac{p_1(1-p_1)}{n_1}+\\frac{p_2(1-p_2)}{n_2}\n",
    "$\n",
    "\n",
    "so, the standard error becomes\n",
    "\n",
    "$\n",
    "\\sigma_{\\widehat{p_1}-\\widehat{p_2}}=SE_{\\widehat{p_1}-\\widehat{p_2}}=\\sqrt{SE^2_{p_1}+SE^2_{p_2}}=\\sqrt{\\frac{p_1(1-p_1)}{n_1}+\\frac{p_2(1-p_2)}{n_2}}\n",
    "$\n",
    "\n",
    "When $n_1p_1$, $n_1(1-p_1)$ and $n_2p_2$, $n_2(1-p_2)$ are greater than 10 (or 5 in certain textbooks), the statistic $E(\\widehat{p_1}-\\widehat{p_2})= p_1-p_2$ is normally distributed, thus $z$ will be normally distributed:\n",
    "\n",
    "\n",
    "$$\n",
    "z=\\frac{(\\widehat{p_1}-\\widehat{p_2})-(p_1-p_2)}{\\sqrt{\\frac{p_1(1-p_1)}{n_1}+\\frac{p_2(1-p_2)}{n_2}}}\n",
    "$$\n",
    "\n",
    "However, $p_1$ and $p_2$ are unknown, so $\\sigma_{\\widehat{p_1}-\\widehat{p_2}}$ has to be estimated from the sample. If the null hypothesis $H_0$ is $p_1-p_2 = 0$ then we can use the pooled proportion estimate:\n",
    "\n",
    "$$\n",
    "\\widehat{p}=\\frac{n_1\\widehat{p_1}+n_2\\widehat{p_2}}{n_1+n_2}\n",
    "$$\n",
    "\n",
    "and the **standard error $SE_{\\widehat{p_1}-\\widehat{p_2}}$** becomes:\n",
    "\n",
    "$$\n",
    "SE_{\\widehat{p_1}-\\widehat{p_2}}=\\sqrt{SE^2_{p_1}+SE^2_{p_2}}=\\sqrt{\\frac{p_1(1-p_1)}{n_1}+\\frac{p_2(1-p_2)}{n_2}}=\\sqrt{\\widehat{p}(1-\\widehat{p})(\\frac{1}{n_1}+\\frac{1}{n_2})}\n",
    "$$\n",
    "\n",
    "\n",
    "* If we hypothesize that $p_1-p_2=0$, $z$ becomes:\n",
    "\n",
    "    $\n",
    "    z=\\frac{(\\widehat{p_1}-\\widehat{p_2})}{\\sqrt{\\widehat{p}(1-\\widehat{p})(\\frac{1}{n_1}+\\frac{1}{n_2})}}\n",
    "    $\n",
    "\n",
    "\n",
    "* If we hypothesize that $p_1-p_2=D$, $z$ becomes:\n",
    "\n",
    "    $\n",
    "    z=\\frac{(\\widehat{p_1}-\\widehat{p_2})-D}{\\sqrt{\\frac{p_1(1-p_1)}{n_1}+\\frac{p_2(1-p_2)}{n_2}}}\n",
    "    $\n",
    "    \n",
    "    \n",
    "The confidence interval for the difference between two proportions $p_1-p_2$ is based on the normality of $\\widehat{p_1}-\\widehat{p_2}$:\n",
    "\n",
    "$\n",
    "\\widehat{p_1}-\\widehat{p_2}\\pm Z_\\frac{\\alpha}{2}\\sqrt{\\frac{p_1(1-p_1)}{n_1}+\\frac{p_2(1-p_2)}{n_2}}\n",
    "$"
   ]
  },
  {
   "cell_type": "markdown",
   "metadata": {},
   "source": [
    "**Example**"
   ]
  },
  {
   "cell_type": "code",
   "execution_count": 3,
   "metadata": {
    "collapsed": true
   },
   "outputs": [],
   "source": [
    "from statsmodels.stats.proportion import proportions_ztest"
   ]
  },
  {
   "cell_type": "markdown",
   "metadata": {},
   "source": [
    "We are going to use the `proportions_ztest` function.  \n",
    "\n",
    "The general form is: `proportions_ztest(count, nobs, value=None, alternative='two-sided', prop_var=False)`.\n",
    "\n",
    "The first example is a one proportion t-test with an observed sample of 100 observations and 30 observed successes, which are tested against the null hypothesis that the proportion of successes is (statistically equal to) 25%.\n",
    "\n",
    "- `count`: Is the number of successes in `nobs` trials\n",
    "\n",
    "- `nobs`: The number of trials or observations\n",
    "\n",
    "- `value`: This is the value of the null hypothesis equal to the proportion in the case of a one sample test\n",
    "\n",
    "$H_0: p = 0.25$\n",
    "\n",
    "$H_a: p \\neq 0.25$"
   ]
  },
  {
   "cell_type": "code",
   "execution_count": 4,
   "metadata": {},
   "outputs": [
    {
     "name": "stdout",
     "output_type": "stream",
     "text": [
      "z statistic =is 1.09\n",
      "p-value =is 0.28\n"
     ]
    }
   ],
   "source": [
    "stat, pval = proportions_ztest(30, 100,.25)\n",
    "print('z statistic =is %.2f' %stat)\n",
    "print('p-value =is %.2f' %pval)"
   ]
  },
  {
   "cell_type": "markdown",
   "metadata": {},
   "source": [
    "The test output is interpreted as follows:\n",
    "\n",
    "The statistic \n",
    "\n",
    "$$\n",
    "z=\\frac{Point\\mbox{ }Estimate - Null\\mbox{ }Value}{Standard\\mbox{ }Error}=\\frac{\\widehat{0.30}-0.25}{\\sqrt\\frac{0.3(1-0.3)}{n}}=1.09\n",
    "$$\n",
    "\n",
    "produced a value of 1.09.  The p-value &mdash; the probability of the observed statistic assuming that the null hypothesis is true &mdash; is 0.28.  This value is bigger than the default $\\alpha=0.05$, so we fail to reject the null hypothesis and conclude that an observed value $p=0.3$ is not statistically different than the null hypothesis of 0.25.  \n",
    "\n",
    "In other words, the sample does not provide enough evidence to reject the null hypothesis.\n",
    "\n",
    "**Note:**\n",
    "\n",
    "- The code estimated the standard deviation of the population by calculating the standard deviation of the sample taking into account the sample size.\n",
    "\n",
    "\n",
    "- There are also rounding errors and approximations so the values do not exactly match. However, to link the concepts to the previous module notebook we can manually validate the p-value."
   ]
  },
  {
   "cell_type": "code",
   "execution_count": 5,
   "metadata": {},
   "outputs": [
    {
     "name": "stdout",
     "output_type": "stream",
     "text": [
      "p-value is 0.28\n"
     ]
    }
   ],
   "source": [
    "import scipy.stats as st\n",
    "pval=(1-st.norm.cdf(stat)) * 2\n",
    "print('p-value is %.2f' %pval)"
   ]
  },
  {
   "cell_type": "markdown",
   "metadata": {},
   "source": [
    "**Example**\n",
    "\n",
    "We will compare two population proportions, the first has 10 successes out of a total of 50, and the second has 15 successes out of a total of 53."
   ]
  },
  {
   "cell_type": "code",
   "execution_count": 6,
   "metadata": {},
   "outputs": [
    {
     "name": "stdout",
     "output_type": "stream",
     "text": [
      "z statistic =is -0.98\n",
      "p-value =is 0.33\n"
     ]
    }
   ],
   "source": [
    "successes = np.array([10, 15])\n",
    "nobs = np.array([50, 53])\n",
    "stat, pval = proportions_ztest(successes, nobs)\n",
    "print('z statistic =is %.2f' %stat)\n",
    "print('p-value =is %.2f' %pval)"
   ]
  },
  {
   "cell_type": "markdown",
   "metadata": {},
   "source": [
    "The function `proportions_ztest` takes an integer or an array as arguments for `count` and `obs`. To compare the average of two populations, we input them as arrays. In our example, Population 1 has 10 successes out of 50 observations and Population 2 has 15 successes out of 53 observations.\n",
    "\n",
    "In this example, following an equivalent chain of thought as in the previous example, the Z statistic obtained is -0.98, which has a probability of 33% assuming the null hypothesis is true (both proportions equal).  So, we fail to reject the null and state that the two proportions are equivalent, or that the sample obtained did not provide evidence to reject the null hypothesis that the two proportions are the same."
   ]
  },
  {
   "cell_type": "markdown",
   "metadata": {},
   "source": [
    "**Example**\n",
    "\n",
    "Two types of medication for hives are being tested to determine if there is a difference in the percentage of adult patient reactions.  20 out of a random sample of 200 adults given medication A still had hives 30 minutes after taking the medication. 12 out another random sample of 200 adults given medication B still had hives 30 minutes after taking the medication. We will test at a 1% level of significance.\n",
    "\n",
    "$H_0: p_A - p_B = 0$    \n",
    "$H_a: p_A - p_B \\neq 0$\n",
    "\n",
    "The test is two-tailed as we are testing if the difference is not equal to zero."
   ]
  },
  {
   "cell_type": "code",
   "execution_count": 7,
   "metadata": {
    "collapsed": true
   },
   "outputs": [],
   "source": [
    "successes_med = np.array([20, 12])\n",
    "nobs_med = np.array([200, 200])\n",
    "\n",
    "stat_med, pval_med = proportions_ztest(successes_med, nobs_med)"
   ]
  },
  {
   "cell_type": "code",
   "execution_count": 8,
   "metadata": {},
   "outputs": [
    {
     "name": "stdout",
     "output_type": "stream",
     "text": [
      "z statistic =is 1.4744\n",
      "p-value =is 0.1404\n"
     ]
    }
   ],
   "source": [
    "print('z statistic =is %.4f' %stat_med)\n",
    "print('p-value =is %.4f' %pval_med)"
   ]
  },
  {
   "cell_type": "markdown",
   "metadata": {},
   "source": [
    "The p-value is significantly larger than the significance level 0.01, so we cannot reject the null hypothesis $H_0$ and we conclude that there is no difference between medications A and B."
   ]
  },
  {
   "cell_type": "markdown",
   "metadata": {},
   "source": [
    "**End of Module**\n",
    "\n",
    "You have reached the end of this module.\n",
    "\n",
    "If you have any questions, please reach out to your peers using the discussion boards. If you and your peers are unable to come to a suitable conclusion, do not hesitate to reach out to your instructor on the designated discussion board.\n",
    "\n",
    "When you are comfortable with the content, and have practiced to your satisfaction, you may proceed to any related assignments, and to the next module."
   ]
  },
  {
   "cell_type": "markdown",
   "metadata": {},
   "source": [
    "# References\n",
    "\n",
    "Keller, G. (2017). Chapter Six: Probability in *Statistics for Management and Economics, 11th Edition*, Cengage Learning. ISBN 9781337093453\n",
    "\n",
    "Statsmodel developers (2017). statsmodels.stats.proportion.proportions_ztest. Retrieved on Dec 19, 2018 from https://www.statsmodels.org/dev/generated/statsmodels.stats.proportion.proportions_ztest.html"
   ]
  }
 ],
 "metadata": {
  "kernelspec": {
   "display_name": "Python 3",
   "language": "python",
   "name": "python3"
  },
  "language_info": {
   "codemirror_mode": {
    "name": "ipython",
    "version": 3
   },
   "file_extension": ".py",
   "mimetype": "text/x-python",
   "name": "python",
   "nbconvert_exporter": "python",
   "pygments_lexer": "ipython3",
   "version": "3.8.3"
  }
 },
 "nbformat": 4,
 "nbformat_minor": 4
}
