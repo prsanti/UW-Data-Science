{
 "cells": [
  {
   "cell_type": "markdown",
   "metadata": {},
   "source": [
    "# Module 5 Part 1: Hypothesis Testing"
   ]
  },
  {
   "cell_type": "markdown",
   "metadata": {},
   "source": [
    "# Introduction"
   ]
  },
  {
   "cell_type": "markdown",
   "metadata": {},
   "source": [
    "The previous module covered inference for continuous variables. This module introduces the hypothesis testing framework, which allows us to formally evaluate claims about the population.\n",
    "\n",
    "Part 2 of this module will extend the concepts of inference to categorical variables. Tests for categorical data apply mainly to nominal data. However, the same concepts can be extended to ordinal data by treating the data as nominal.\n",
    "\n",
    "In addition, we will cover:\n",
    "\n",
    "* The extension of hypothesis testing to nominal variables by applying the normal approximation to the binomial distribution\n",
    "* Statistical tools developed for nominal variables that can be used to analyze frequencies or proportions of different categories\n",
    "* Tests that can be performed on nominal variables\n",
    "\n",
    "This module consists of 2 parts:\n",
    "\n",
    "- **Part 1** - Hypothesis Testing\n",
    "\n",
    "- **Part 2** - Introduction to Inference for Categorical Variables\n",
    "\n",
    "Each part is provided in a separate notebook file. It is recommended that you follow the order of the notebooks.  "
   ]
  },
  {
   "cell_type": "markdown",
   "metadata": {},
   "source": [
    "# Learning Outcomes"
   ]
  },
  {
   "cell_type": "markdown",
   "metadata": {},
   "source": [
    "After completing this notebook, you will be able to:\n",
    "\n",
    "- Evaluate claims about a population using the hypothesis testing framework\n",
    "- Choose appropriate hypotheses\n",
    "- Evaluate the power of test and choose the appropriate sample size"
   ]
  },
  {
   "cell_type": "markdown",
   "metadata": {},
   "source": [
    "# Reading and Resources"
   ]
  },
  {
   "cell_type": "markdown",
   "metadata": {},
   "source": [
    "We invite you to further supplement this notebook with the following recommended text:\n",
    "\n",
    "Diez, D., Çetinkaya-Rundel, M., Barr, C.D. (2019). Chapter 7: Inference for numerical data in *OpenIntro Statistics (4th Ed.).* https://www.openintro.org/stat/textbook.php?stat_book=os "
   ]
  },
  {
   "cell_type": "markdown",
   "metadata": {},
   "source": [
    "<h1>Table of Contents<span class=\"tocSkip\"></span></h1>\n",
    "<br>\n",
    "<div class=\"toc\">\n",
    "<ul class=\"toc-item\">\n",
    "<li><span><a href=\"#Module-5-Part-1:-Hypothesis-Testing\" data-toc-modified-id=\"Module-5-Part-1:-Hypothesis-Testing\">Module 5 Part 1: Hypothesis Testing</a></span>\n",
    "</li>\n",
    "<li><span><a href=\"#Introduction\" data-toc-modified-id=\"Introduction\">Introduction</a></span>\n",
    "</li>\n",
    "<li><span><a href=\"#Learning-Outcomes\" data-toc-modified-id=\"Learning-Outcomes\">Learning Outcomes</a></span>\n",
    "</li>\n",
    "<li><span><a href=\"#Reading-and-Resources\" data-toc-modified-id=\"Reading-and-Resources\">Reading and Resources</a></span>\n",
    "</li>\n",
    "<li><span><a href=\"#Table-of-Contents\" data-toc-modified-id=\"Table-of-Contents\">Table of Contents</a></span>\n",
    "</li>\n",
    "<li><span><a href=\"#Hypothesis-Testing\" data-toc-modified-id=\"Hypothesis-Testing\">Hypothesis Testing</a></span>\n",
    "<ul class=\"toc-item\">\n",
    "<li><span><a href=\"#The-hypothesis-testing-framework\" data-toc-modified-id=\"The-hypothesis-testing-framework\">The hypothesis testing framework</a></span>\n",
    "</li>\n",
    "<li><span><a href=\"#One-and-two-sided-tail-tests\" data-toc-modified-id=\"One-and-two-sided-tail-tests\">One and two-sided tail tests</a></span>\n",
    "<ul class=\"toc-item\">\n",
    "<li><span><a href=\"#One-or-two-tailed-test\" data-toc-modified-id=\"One-or-two-tailed-test\">One or two-tailed test</a></span>\n",
    "</li>\n",
    "</ul>\n",
    "</li>\n",
    "<li><span><a href=\"#Decision-errors\" data-toc-modified-id=\"Decision-errors\">Decision errors</a></span>\n",
    "</li>\n",
    "<li><span><a href=\"#Power-of-test\" data-toc-modified-id=\"Power-of-test\">Power of test</a></span>\n",
    "</li>\n",
    "<li><span><a href=\"#Hypothesis-Test-Methodology\" data-toc-modified-id=\"Hypothesis-Test-Methodology\">Hypothesis Test Methodology</a></span>\n",
    "</li>\n",
    "<li><span><a href=\"#Types-of-hypothesis-tests\" data-toc-modified-id=\"Types-of-hypothesis-tests\">Types of hypothesis tests</a></span>\n",
    "</li>\n",
    "</ul>\n",
    "</li>\n",
    "<li><span><a href=\"#References\" data-toc-modified-id=\"References\">References</a></span>\n",
    "</li>\n",
    "</ul>\n",
    "</div>"
   ]
  },
  {
   "cell_type": "markdown",
   "metadata": {},
   "source": [
    "# Hypothesis Testing"
   ]
  },
  {
   "cell_type": "markdown",
   "metadata": {},
   "source": [
    "## The hypothesis testing framework"
   ]
  },
  {
   "cell_type": "markdown",
   "metadata": {},
   "source": [
    "We are continually performing non-statistical hypothesis tests throughout our daily lives. Every time somebody says something, we are judging its credibility based on previous experience, the evidence available, etc. Let's illustrate this using a classical non-statistical example: the criminal court system.\n",
    "\n",
    "When a person is accused of a crime, they face a trial. The defendant is assumed innocent, and it is the work of the prosecutor to bring evidence for the court to make a judgement on the prosecutor's claim. The jury will decide, based on the evidence presented by the prosecutor, if the defendant is guilty beyond any reasonable doubt. If the jury does not find the evidence to be sufficient, they will not state that the defendant is innocent, they will state that the defendant is \"not guilty.\" On the other hand, if the proof is deemed to be \"beyond reasonable doubt,\" the jury will decide that the defendant is \"guilty.\"\n",
    "\n",
    "In statistical jargon, there are two hypotheses: the common belief that the defendant is innocent, called the null hypothesis ($H_0$), and the alternative hypothesis that the defendant is guilty ($H_a$).\n",
    "\n",
    "- $H_0$: Null hypothesis &mdash; the defendant is innocent\n",
    "\n",
    "\n",
    "- $H_a$ or $H_1$: Alternative hypothesis &mdash; the defendant is guilty\n",
    "\n",
    "If the jury finds the defendant guilty, it is rejecting the null hypothesis in favour of the alternative: stating that there is enough evidence to conclude that the defendant is guilty beyond any reasonable doubt. If the evidence is not beyond any reasonable doubt, the jury will conclude that the defendant is not guilty. Notice that the jury does not say innocent &mdash; innocence is not something to prove, rather it is the shared premise $H_0$. Similarly, a statistician will never accept the null hypothesis as proven, instead they will fail to reject the null hypothesis. For this reason, the alternative hypothesis is also called the research hypothesis.\n",
    "\n",
    "In the case of statistical hypothesis testing, the practitioner is interested in finding out if a parameter equals a certain number. For example, consider the following hypotheses:\n",
    "\n",
    "- $H_0$: $\\mu = 50$\n",
    "\n",
    "\n",
    "- $H_a$: $\\mu \\neq 50$\n",
    "\n",
    "What does \"beyond reasonable doubt\" mean in this context? \n",
    "\n",
    "It is the probability of making a mistake that the practitioner is willing to accept or is comfortable with. Typically, this is set at 5%, which is called the **significance level** with an **$\\alpha$**  of 0.05. To do this we need the 95% **confidence interval** &mdash; i.e. what range we would expect some measurement such as the mean to fall in at least 95% of the time if we repeated the experiment many times and the null hypothesis is true. This allows for the fact that we are making the decision based on a sample, not on the whole population, and so there will be some **sampling error** that will occasionally give us a sample that isn't representative and hence a value for our measurement which isn't accurate, making the null hypothesis appear to be incorrect.\n",
    "\n",
    "The practitioner would:\n",
    "\n",
    "1. Calculate a 95% confidence interval assuming that $H_0$: $\\mu = 50$ is true.<br><br>\n",
    "\n",
    "2. Collect a representative sample from the population.<br><br>\n",
    "\n",
    "3. Check if the point estimate falls within the confidence interval calculated.\n",
    "\n",
    "If the sample mean falls within the confidence interval under the null hypothesis, they will determine that there is no reason to think otherwise, and will fail to reject the null hypothesis.  \n",
    "\n",
    "If, however, the sample mean is not in the confidence interval, the practitioner would deem the result highly improbable under the null hypothesis (less than 5%, since we set the significance level to 5%). Based on this evidence, they will reject the null in favour of the alternative, as the information provided by the sample does not support the null hypothesis."
   ]
  },
  {
   "cell_type": "markdown",
   "metadata": {},
   "source": [
    "## One and two-sided tail tests"
   ]
  },
  {
   "cell_type": "markdown",
   "metadata": {},
   "source": [
    "Since we are testing for an inequality ($H_0: \\mu=50$; $H_a: \\mu \\neq 50$), both high and low values are considered causes for rejection. The test in this case is called a **two-sided or two-tailed test**. In the graph below, the rejection areas are highlighted in red."
   ]
  },
  {
   "cell_type": "code",
   "execution_count": 1,
   "metadata": {},
   "outputs": [
    {
     "data": {
      "text/plain": [
       "Text(-3.2, 0.01, 'Reject the Null')"
      ]
     },
     "execution_count": 1,
     "metadata": {},
     "output_type": "execute_result"
    },
    {
     "data": {
      "image/png": "[encoded data removed]",
      "text/plain": [
       "<Figure size 864x360 with 1 Axes>"
      ]
     },
     "metadata": {
      "needs_background": "light"
     },
     "output_type": "display_data"
    }
   ],
   "source": [
    "import numpy as np\n",
    "import matplotlib.pyplot as plt\n",
    "import scipy.stats as stats\n",
    "%matplotlib inline\n",
    "\n",
    "plt.figure(figsize=(12,5))\n",
    "\n",
    "x1=np.arange(-4,4,0.01)\n",
    "y1= stats.norm.pdf(np.arange(-4,4,0.01))\n",
    "plt.plot(x1,y1)\n",
    "\n",
    "plt.fill_between(x=np.arange(-4,-2,0.01), \n",
    "                 y1= stats.norm.pdf(np.arange(-4,-2,0.01)) ,\n",
    "                 facecolor='red',\n",
    "                 alpha=0.35)\n",
    "\n",
    "plt.fill_between(x=np.arange(2,4,0.01), \n",
    "                 y1= stats.norm.pdf(np.arange(2,4,0.01)) ,\n",
    "                 facecolor='red',\n",
    "                 alpha=0.5)\n",
    "\n",
    "plt.text(x=-0.5, y=0.18, s= \"Null Hypothesis\")\n",
    "plt.text(x=-0.8, y=0.16, s= 'Fail to Reject the null ')\n",
    "plt.text(x=-0.2, y=0.14, s=r'$1- \\alpha$')\n",
    "plt.text(x=2.1, y=0.01, s= \"Reject the Null\")\n",
    "plt.text(x=-3.2, y=0.01, s= \"Reject the Null\")"
   ]
  },
  {
   "cell_type": "markdown",
   "metadata": {},
   "source": [
    "If our hypotheses were\n",
    "\n",
    "$H_0$: $\\mu \\leq 50$\n",
    "\n",
    "$H_a$: $\\mu > 50$\n",
    "\n",
    "or \n",
    "\n",
    "$H_0$: $\\mu \\geq 50$\n",
    "\n",
    "$H_a$: $\\mu < 50$\n",
    "\n",
    "we would be rejecting only values that were too big or too small, respectively. In these cases, the tests are **one-tailed**. The first case is referred to as a **right-tailed** hypothesis test and the second one is a **left-tailed** test.\n",
    "\n",
    "Let's plot the right-tailed test only."
   ]
  },
  {
   "cell_type": "code",
   "execution_count": 2,
   "metadata": {},
   "outputs": [
    {
     "data": {
      "text/plain": [
       "Text(2.1, 0.01, 'Reject the Null')"
      ]
     },
     "execution_count": 2,
     "metadata": {},
     "output_type": "execute_result"
    },
    {
     "data": {
      "image/png": "[encoded data removed]",
      "text/plain": [
       "<Figure size 864x360 with 1 Axes>"
      ]
     },
     "metadata": {
      "needs_background": "light"
     },
     "output_type": "display_data"
    }
   ],
   "source": [
    "plt.figure(figsize=(12,5))\n",
    "\n",
    "x1=np.arange(-4,4,0.01)\n",
    "y1= stats.norm.pdf(np.arange(-4,4,0.01))\n",
    "plt.plot(x1,y1)\n",
    "\n",
    "plt.fill_between(x=np.arange(2,4,0.01), \n",
    "                 y1= stats.norm.pdf(np.arange(2,4,0.01)) ,\n",
    "                 facecolor='red',\n",
    "                 alpha=0.5)\n",
    "\n",
    "plt.text(x=-0.5, y=0.18, s= \"Null Hypothesis\")\n",
    "plt.text(x=-0.8, y=0.16, s= 'Fail to Reject the null ')\n",
    "plt.text(x=-0.2, y=0.14, s=r'$1- \\alpha$')\n",
    "plt.text(x=2.1, y=0.01, s= \"Reject the Null\")\n"
   ]
  },
  {
   "cell_type": "markdown",
   "metadata": {},
   "source": [
    "Next, let's plot the left-tailed test."
   ]
  },
  {
   "cell_type": "code",
   "execution_count": 3,
   "metadata": {},
   "outputs": [
    {
     "data": {
      "text/plain": [
       "Text(-3.2, 0.05, 'Reject the Null')"
      ]
     },
     "execution_count": 3,
     "metadata": {},
     "output_type": "execute_result"
    },
    {
     "data": {
      "image/png": "[encoded data removed]",
      "text/plain": [
       "<Figure size 864x360 with 1 Axes>"
      ]
     },
     "metadata": {
      "needs_background": "light"
     },
     "output_type": "display_data"
    }
   ],
   "source": [
    "plt.figure(figsize=(12,5))\n",
    "\n",
    "x1=np.arange(-4,4,0.01)\n",
    "y1= stats.norm.pdf(np.arange(-4,4,0.01))\n",
    "plt.plot(x1,y1)\n",
    "\n",
    "plt.fill_between(x=np.arange(-4,-2,0.01), \n",
    "                 y1= stats.norm.pdf(np.arange(-4,-2,0.01)) ,\n",
    "                 facecolor='red',\n",
    "                 alpha=0.35)\n",
    "\n",
    "plt.text(x=-0.5, y=0.18, s= \"Null Hypothesis\")\n",
    "plt.text(x=-0.8, y=0.16, s= 'Fail to Reject the null ')\n",
    "plt.text(x=-0.2, y=0.14, s=r'$1- \\alpha$')\n",
    "plt.text(x=-3.2, y=0.05, s= \"Reject the Null\")"
   ]
  },
  {
   "cell_type": "markdown",
   "metadata": {},
   "source": [
    "### One or two-tailed test\n",
    "\n",
    "We choose a two-tailed test when we are interested in change and have to consider change in both directions &mdash; positive and negative. For cases where the direction of change is known, we may use a one-tailed test.\n",
    "\n",
    "The choice of test is often dictated by the business question. If a company invested in an advertising campaign and they wanted to know if the advertising changed the sales volume, they would collect samples from points of sale and choose a two-tailed test to prove or disprove that the sales volume changed. On the other hand, if the company is only interested in whether a sales *increase* occurred, a one-tailed test can be used.\n",
    "\n",
    "Another example is a measure of group performance. Again, if we are interested in whether a certain group performs similarly to the entire company, a two-tailed test would be appropriate."
   ]
  },
  {
   "cell_type": "markdown",
   "metadata": {},
   "source": [
    "## Decision errors"
   ]
  },
  {
   "attachments": {
    "image.png": {
     "image/png": "[encoded data removed]"
    }
   },
   "cell_type": "markdown",
   "metadata": {},
   "source": [
    "Decisions are made based on samples that are subject to sampling error. Thus, the practitioner can make a mistake. In non-statistical hypothesis tests, we cannot calculate the probability of how often we are going to make a mistake. However, in a statistical hypothesis test, we can, based on the properties of the probability distribution that is applied.\n",
    "\n",
    "The are two possible types of errors. In the court example, the jury could acquit a guilty defendant or convict an innocent defendant. Similarly, the practitioner could reject a null hypothesis when the null hypothesis is true or fail to reject the null when the alternative hypothesis is true. These are called **Type 1** and **Type 2** errors, respectively.\n",
    "\n",
    "Decision errors can be represented by a **confusion matrix**.\n",
    "\n",
    "![image.png](attachment:image.png)\n",
    "\n",
    "**Image**: *Visual aid summarizing Type 1 and Type 2 errors, as defined above.* **Source**: Dietz et al, (2017).\n",
    "\n",
    "The probability of making a Type 1 error &mdash; the probability of rejecting the null when it is true &mdash; is called the **$\\alpha$** error.  The probability of making a Type 2 error &mdash; the probability of failing to reject the null when the alternative hypothesis is true &mdash; is called the **$\\beta$** error.\n",
    "\n",
    "\n",
    "$$P(Type\\  1\\  error)=\\alpha$$\n",
    "\n",
    "\n",
    "$$P(Type\\  2\\  error)=\\beta$$\n",
    "\n",
    "\n",
    "In the same way that the $\\alpha$ error is calculated by assuming $H_0$ to be true, the $\\beta$ error is calculated by assuming $H_a$ to be true.  \n",
    "\n",
    "There is a trade-off between the $\\alpha$ and $\\beta$ errors. For example, if we want to be very certain of not making a Type 1 error, the probability of a Type 2 error increases, and vice versa. The errors will depend on the sample size and how far apart $H_0$ and $H_a$ are.\n",
    "\n",
    "The illustration below shows how $\\alpha$ and $\\beta$ are interrelated."
   ]
  },
  {
   "cell_type": "code",
   "execution_count": 4,
   "metadata": {},
   "outputs": [
    {
     "data": {
      "text/plain": [
       "Text(0, 0.02, 'Type 2 Error')"
      ]
     },
     "execution_count": 4,
     "metadata": {},
     "output_type": "execute_result"
    },
    {
     "data": {
      "image/png": "[encoded data removed]",
      "text/plain": [
       "<Figure size 864x720 with 1 Axes>"
      ]
     },
     "metadata": {
      "needs_background": "light"
     },
     "output_type": "display_data"
    }
   ],
   "source": [
    "%matplotlib inline\n",
    "\n",
    "import numpy as np\n",
    "import pandas as pd\n",
    "import scipy.stats as stats\n",
    "import matplotlib.pyplot as plt\n",
    "import math\n",
    "\n",
    "plt.figure(figsize=(12,10))\n",
    "\n",
    "x1=np.arange(-4,4,0.01)\n",
    "y1= stats.norm.pdf(np.arange(-4,4,0.01))\n",
    "plt.plot(x1,y1)\n",
    "\n",
    "x2=np.arange(-4,10,0.01)\n",
    "y2= stats.norm.pdf(np.arange(-4,10,0.01),loc = 3)\n",
    "plt.plot(x2,y2)\n",
    "\n",
    "\n",
    "plt.fill_between(x=np.arange(-2,2,0.01), \n",
    "                 y1= stats.norm.pdf(np.arange(-2,2,0.01)) ,\n",
    "                 facecolor='white',\n",
    "                 alpha=0.35)\n",
    "\n",
    "plt.fill_between(x=np.arange(2,4,0.01), \n",
    "                 y1= stats.norm.pdf(np.arange(2,4,0.01)) ,\n",
    "                 facecolor='red',\n",
    "                 alpha=0.5)\n",
    "\n",
    "plt.fill_between(x=np.arange(-4,-2,0.01), \n",
    "                 y1= stats.norm.pdf(np.arange(-4,-2,0.01),loc=3) ,\n",
    "                 facecolor='white',\n",
    "                 alpha=0.35)\n",
    "\n",
    "plt.fill_between(x=np.arange(-4,2,0.01), \n",
    "                 y1= stats.norm.pdf(np.arange(-4,2,0.01),loc=3) ,\n",
    "                 facecolor='blue',\n",
    "                 alpha=0.35)\n",
    "\n",
    "plt.fill_between(x=np.arange(2,10,0.01), \n",
    "                 y1= stats.norm.pdf(np.arange(2,10,0.01),loc=3, scale=2),\n",
    "                 facecolor='white',\n",
    "                 alpha=0.35)\n",
    "\n",
    "plt.xlabel(\"x\")\n",
    "plt.text(x=-0.8, y=0.18, s= \"Null Hypothesis\")\n",
    "plt.text(x=-1.3, y=0.16, s= 'Fail to Reject the null ')\n",
    "plt.text(x=0.0, y=0.14, s=r'$1- \\alpha$')\n",
    "plt.text(x=2.1, y=0.11, s= \"Alternative Hypothesis\")\n",
    "plt.text(x=2.9, y=0.09, s= 'Power ' r'$1-\\beta$')\n",
    "plt.text(x=2.1, y=0.01, s= \"Type 1 Error\")\n",
    "# plt.text(x=-3.2, y=0.01, s= \"Type 1 Error\")\n",
    "plt.text(x=0, y=0.02, s= \"Type 2 Error\")"
   ]
  },
  {
   "cell_type": "markdown",
   "metadata": {},
   "source": [
    "## Power of test\n",
    "\n",
    "Hypothesis testing methods demonstrated so far are centred around the null hypothesis. This is because we are testing a certain claim we expect to be a fact and collect samples to test and confirm it. We do not know in advance what information a sample will bring us and usually the alternative is not known, while the null value is known.\n",
    "\n",
    "However, often times in experiment planning we may know what effect we would like to see that is outside what we normally consider to be true. The \"normal\" value is taken as the null hypothesis and the unusual effect is taken as an alternative value.\n",
    "\n",
    "It may be helpful to plan the experiment such that we will not miss important but unusual effects. In particular, we may determine an appropriate sample size where we can be 90 or 95% confident that we would detect any occurrences of important effects."
   ]
  },
  {
   "cell_type": "markdown",
   "metadata": {},
   "source": [
    "**Example**\n",
    "\n",
    "Suppose a hospital reorganized their ER unit and expects the mean waiting time to be reduced by 20 min. It is known that the average waiting time before was 3 hours and the standard deviation is about $\\sigma = 60$ min.\n",
    "\n",
    "To determine if the new system helps to reduce waiting times, we will obtain a sample by collecting data about waiting times in the ER, and we would like to know what sample size we need to be 90% sure that the waiting time has been reduced by 20 min.\n",
    "\n",
    "Before that, let's conduct hypothesis testing. Let's say we collected data about waiting times for 50 ER patients and the sample average is 2.5 hours. Can we confirm with 90% confidence that the new system is effective?"
   ]
  },
  {
   "cell_type": "markdown",
   "metadata": {},
   "source": [
    "For a sample size of $N_s=50$ the degrees of freedom df $= 50 - 1 = 49$ are larger than 30, the distribution of the mean number of waiting hours is approximately normal, and the standard deviation is $SE=\\frac{\\sigma}{\\sqrt{N_s}}$."
   ]
  },
  {
   "cell_type": "code",
   "execution_count": 5,
   "metadata": {},
   "outputs": [
    {
     "data": {
      "text/plain": [
       "Text(0.5, 1.0, 'Null hypothesis')"
      ]
     },
     "execution_count": 5,
     "metadata": {},
     "output_type": "execute_result"
    },
    {
     "data": {
      "image/png": "[encoded data removed]",
      "text/plain": [
       "<Figure size 864x720 with 1 Axes>"
      ]
     },
     "metadata": {
      "needs_background": "light"
     },
     "output_type": "display_data"
    }
   ],
   "source": [
    "import scipy.stats as st\n",
    "import numpy as np\n",
    "from math import sqrt\n",
    "import matplotlib.pyplot as plt\n",
    "\n",
    "n_samples = 50\n",
    "sigma = 1\n",
    "\n",
    "se = sigma/sqrt(n_samples)\n",
    "\n",
    "plt.figure(figsize=(12,10))\n",
    "\n",
    "x = np.linspace(2, 4, 1000)\n",
    "plt.plot(x, st.norm.pdf(x, loc=3, scale=se))\n",
    "\n",
    "plt.title(\"Null hypothesis\")"
   ]
  },
  {
   "cell_type": "markdown",
   "metadata": {},
   "source": [
    "Here, the null hypothesis is that the number of hours did not change. The alternative hypothesis is that the number of hours has been reduced. Thus, this is a one-tailed test, and for $\\alpha=0.10$ the null hypothesis $H_0$ is rejected if the sample mean hours are in the lower 10% tail.\n",
    "\n",
    "Following the standard protocol, we shall calculate the p-value for the observed sample mean. This p-value or probability to observe the given mean value or less can be found using the cumulative distribution function."
   ]
  },
  {
   "cell_type": "code",
   "execution_count": 6,
   "metadata": {},
   "outputs": [
    {
     "name": "stdout",
     "output_type": "stream",
     "text": [
      "P-value for given sample is  0.0002034760087224789\n"
     ]
    }
   ],
   "source": [
    "p_value= st.norm.cdf(2+1/2, loc=3.00, scale=se)\n",
    "print('P-value for given sample is ', p_value)"
   ]
  },
  {
   "cell_type": "code",
   "execution_count": 7,
   "metadata": {},
   "outputs": [
    {
     "data": {
      "text/plain": [
       "<matplotlib.collections.PolyCollection at 0x7faecb9fd1f0>"
      ]
     },
     "execution_count": 7,
     "metadata": {},
     "output_type": "execute_result"
    },
    {
     "data": {
      "image/png": "[encoded data removed]",
      "text/plain": [
       "<Figure size 432x288 with 1 Axes>"
      ]
     },
     "metadata": {
      "needs_background": "light"
     },
     "output_type": "display_data"
    }
   ],
   "source": [
    "x_cr = st.norm.ppf(0.10, loc=3.00, scale=se)\n",
    "\n",
    "plt.plot(x, st.norm.pdf(x, loc=3, scale=se))\n",
    "\n",
    "plt.fill_between(x=np.arange(2, 2.82, 0.01), y1=st.norm.pdf(np.arange(2, 2.82, 0.01), loc=3, scale=se),\n",
    "                 facecolor='red')\n"
   ]
  },
  {
   "cell_type": "markdown",
   "metadata": {},
   "source": [
    "For this sample, we find a p-value = 0.0002035 much smaller than the significance level $\\alpha=0.1$. We may reject the null hypothesis and our conclusion is that the collected sample confirms the reduction of waiting times in the ER unit. The null hypothesis is rejected when our sample mean falls in the red area. This red area marks the chosen significance level $\\alpha=0.1$. Using the `ppf()` method we can find the $x$ value which marks the beginning of that 0.1 area."
   ]
  },
  {
   "cell_type": "code",
   "execution_count": 8,
   "metadata": {},
   "outputs": [
    {
     "name": "stdout",
     "output_type": "stream",
     "text": [
      "2.8187612395126354\n"
     ]
    }
   ],
   "source": [
    "x_cr = st.norm.ppf(0.10, loc=3.00, scale=se)\n",
    "print(x_cr)"
   ]
  },
  {
   "cell_type": "markdown",
   "metadata": {},
   "source": [
    "Quite often in studies, we want to know how likely it is to detect an effect of interest. In our example we would like to know the probability of detecting the reduction of waiting times, which is the effect of interest in this case. This probability is called the __power of test__. If the hospital is interested in a reduction of waiting times by 20 minutes, the sample size is 50 and we want to know how likely we are to detect this effect in the study. \n",
    "\n",
    "To calculate the probability that we can reject the null hypothesis $H_0$ we will need to add another sampling distribution, but this time around $3 - \\frac{1}{3} = 2\\frac{2}{3}$ hours."
   ]
  },
  {
   "cell_type": "code",
   "execution_count": 9,
   "metadata": {},
   "outputs": [
    {
     "data": {
      "text/plain": [
       "<matplotlib.collections.LineCollection at 0x7faecbac36d0>"
      ]
     },
     "execution_count": 9,
     "metadata": {},
     "output_type": "execute_result"
    },
    {
     "data": {
      "image/png": "[encoded data removed]",
      "text/plain": [
       "<Figure size 432x288 with 1 Axes>"
      ]
     },
     "metadata": {
      "needs_background": "light"
     },
     "output_type": "display_data"
    }
   ],
   "source": [
    "plt.plot(x, st.norm.pdf(x, loc=3, scale=se))\n",
    "\n",
    "plt.fill_between(x=np.arange(2, 2.82, 0.01), y1=st.norm.pdf(np.arange(2, 2.82, 0.01), loc=3, scale=se), facecolor='red')\n",
    "\n",
    "plt.plot(x, st.norm.pdf(x, loc=3 - 1/3, scale=se))\n",
    "\n",
    "plt.fill_between(x=np.arange(2, 2.82, 0.01), y1=st.norm.pdf(np.arange(2, 2.82, 0.01), loc=3, scale=se), facecolor='red')\n",
    "\n",
    "plt.vlines(2.8187612395126354, 0, 2.8, colors='r', linestyles='dotted')\n"
   ]
  },
  {
   "cell_type": "markdown",
   "metadata": {},
   "source": [
    "Please note, that the new sampling distribution has the same standard error since we based our conclusions on the same sample of size of $n=50$. The null will be rejected when our sample mean is to the left of the dotted line. On the \"null\" curve this dotted line marks the rejection region which corresponds to the defined significance level $\\alpha = 0.1$ (area in red).\n",
    "\n",
    "The area under the orange curve to the left of the dotted line defines the probability to detect a sample with a mean of 2.818 or less, which means the probability to detect an effect we are looking for."
   ]
  },
  {
   "cell_type": "code",
   "execution_count": 10,
   "metadata": {},
   "outputs": [
    {
     "name": "stdout",
     "output_type": "stream",
     "text": [
      "The power of test when the reduction is 20 min and sample size is 50:  0.858916093001692\n"
     ]
    }
   ],
   "source": [
    "power_of_test = st.norm.cdf(2.81876, loc=3-1/3, scale=se)\n",
    "print('The power of test when the reduction is 20 min and sample size is 50: ', power_of_test)"
   ]
  },
  {
   "cell_type": "markdown",
   "metadata": {},
   "source": [
    "A reduction of 20 min. is the minimum reduction we can detect with a probability of ~86%.\n",
    "\n",
    "Most commonly we are looking for a power of test of 80% and sometimes 90%. These values are most commonly targeted, but in some cases we may be asked for 95% or even higher.\n",
    "\n",
    "Let's find what sample size is required to get a power of test of 90% and a significance level of 1%. Here, we need to find the standard error such that the critical value would cut 1% to the left under the null curve and 10% to the right under the alternative curve."
   ]
  },
  {
   "cell_type": "code",
   "execution_count": 11,
   "metadata": {},
   "outputs": [
    {
     "name": "stdout",
     "output_type": "stream",
     "text": [
      "The Z-score for 1% is -2.3263478740408408\n",
      "The Z-score for 90% is 1.2815515655446004\n"
     ]
    }
   ],
   "source": [
    "# Find Z-score for 1% significance level:\n",
    "Z_a = st.norm.ppf(0.01)\n",
    "\n",
    "# and Z-score for 90% power of test:\n",
    "Z_b = st.norm.ppf(0.90)\n",
    "\n",
    "print('The Z-score for 1% is', Z_a)\n",
    "print('The Z-score for 90% is', Z_b)"
   ]
  },
  {
   "cell_type": "markdown",
   "metadata": {},
   "source": [
    "To find the new sample size, we may express the distance between the centres of the null and alternative curves as the sum of $Z_{\\beta} \\cdot SE$ and $Z_{\\alpha} \\cdot SE$. The Z-score such that 90% of the distribution is below it is $Z_{\\beta} = 1.28$. Note that the Z-score value of the significance level of 1% calculated above has a negative sign indicating that this is to the left of the null curve centre. We are interested in the distance calculation and for this we can use its absolute value: the cutoff for the rejection region is $Z_{\\alpha} = 2.33$.\n",
    "\n",
    "The difference in centres should be $(2.33 + 1.28) \\cdot SE = 3.61 \\cdot SE$. For the 20 min difference between the centres we get the standard error:\n",
    "\n",
    "\n",
    "$$SE = \\frac{Centre_{null} - Centre_{alternative}}{Z_{\\alpha} + Z_{\\beta}} = \\frac{\\frac{1}{3}}{2.33 + 1.28} = 0.09239$$\n",
    "\n",
    "\n",
    "To achieve this standard error, we have to collect a sample of size $N_{samples} = (\\frac{\\sigma}{SE})^2 = 117$\n",
    "\n",
    "With the new sample size and listed requirements (1% significance level) we can find a new \"critical\" value and the power of test."
   ]
  },
  {
   "cell_type": "code",
   "execution_count": 12,
   "metadata": {},
   "outputs": [
    {
     "name": "stdout",
     "output_type": "stream",
     "text": [
      "New critical value 2.784929062963567\n",
      "The power of test for new sample size and significance level 1% is 0.8995872808074643\n"
     ]
    }
   ],
   "source": [
    "se_new = sigma/sqrt(117)\n",
    "x_crit_new = 3 + st.norm.ppf(0.01) * se_new\n",
    "\n",
    "print('New critical value', x_crit_new)\n",
    "\n",
    "power_of_test_new = st.norm.cdf(x_crit_new, loc=3-1/3, scale=se_new)\n",
    "\n",
    "print('The power of test for new sample size and significance level 1% is', power_of_test_new)"
   ]
  },
  {
   "cell_type": "markdown",
   "metadata": {},
   "source": [
    "This is an approximate solution as the sample size is an integer. This power of test value tells us that the probability to miss the reduction of waiting time by 20 min from the potential sample of 117 is 1 - 0.89959 = 0.100041."
   ]
  },
  {
   "cell_type": "code",
   "execution_count": 13,
   "metadata": {},
   "outputs": [
    {
     "data": {
      "text/plain": [
       "Text(2.95, 0.1, 'Type 2 Error')"
      ]
     },
     "execution_count": 13,
     "metadata": {},
     "output_type": "execute_result"
    },
    {
     "data": {
      "image/png": "[encoded data removed]",
      "text/plain": [
       "<Figure size 864x720 with 1 Axes>"
      ]
     },
     "metadata": {
      "needs_background": "light"
     },
     "output_type": "display_data"
    }
   ],
   "source": [
    "plt.figure(figsize=(12,10))\n",
    "\n",
    "x1=np.arange(2,4,0.01)\n",
    "y1= st.norm.pdf(np.arange(2,4,0.01), loc=3-1/3, scale = se_new )\n",
    "plt.plot(x1,y1)\n",
    "\n",
    "x2=np.arange(2,4,0.01)\n",
    "y2= st.norm.pdf(np.arange(2,4,0.01),loc = 3, scale=se_new)\n",
    "plt.plot(x2,y2)\n",
    "\n",
    "\n",
    "\n",
    "plt.fill_between(x=np.arange(2,2.777,0.01), \n",
    "                 y1= st.norm.pdf(np.arange(2,2.777,0.01), loc=3, scale=se_new),\n",
    "                 facecolor='red',alpha=0.5)\n",
    "\n",
    "\n",
    "plt.fill_between(x=np.arange(2.777,4,0.01), \n",
    "                 y1= st.norm.pdf(np.arange(2.777,4,0.01), loc=3-1/3, scale=se_new) ,\n",
    "                 facecolor='blue',\n",
    "                 alpha=0.35)\n",
    "\n",
    "\n",
    "plt.text(x=2.4, y=1.6, s= \"Alternative Hypothesis\")\n",
    "plt.text(x=2.9, y=1.6, s= 'Fail to Reject the null ')\n",
    "plt.text(x=3.0, y=1.4, s=r'$1- \\alpha$')\n",
    "\n",
    "plt.text(x=2.55, y=1.4, s= 'Power ' r'$1-\\beta$')\n",
    "plt.text(x=2.55, y=0.1, s= \"Type 1 Error\")\n",
    "# plt.text(x=-3.2, y=0.01, s= \"Type 1 Error\")\n",
    "plt.text(x=2.95, y=0.1, s= \"Type 2 Error\")"
   ]
  },
  {
   "cell_type": "markdown",
   "metadata": {},
   "source": [
    "## Hypothesis Test Methodology"
   ]
  },
  {
   "cell_type": "markdown",
   "metadata": {},
   "source": [
    "The objective of a statistical hypothesis test is to:\n",
    "\n",
    "* Calculate a confidence interval assuming the null hypothesis is true\n",
    "\n",
    "\n",
    "* Use the sample statistic to reject or fail to reject the null hypothesis\n",
    "\n",
    "The null hypothesis is usually set as the common belief prior to the test, while the alternative hypothesis is what we want to prove by rejecting the null hypothesis. The practical reason for this approach is that it is a stronger result to reject the null than fail to reject it. Let's formalize these steps:\n",
    "\n",
    "**The steps of any hypothesis test are:**\n",
    "\n",
    "1. Formulate the null hypothesis and the alternative hypothesis.<br><br>\n",
    "\n",
    "2. Specify the level of significance to be used.<br><br>\n",
    "\n",
    "3. Select the test statistic.<br><br>\n",
    "\n",
    "4. Establish the critical value or values of the test statistic.<br><br>\n",
    "\n",
    "5. Determine the actual value of the test statistic.<br><br>\n",
    "\n",
    "6. Make a decision.\n",
    "\n",
    "**There are three equivalent approaches to hypothesis testing:**\n",
    "\n",
    "1. **Critical value**: The sample statistic is more extreme than the critical value calculated from the significance level $\\alpha$<br><br>\n",
    "\n",
    "2. **Critical $Z_c$ value**: The $Z_{sample}$ value is more extreme than the critical value $Z_c$<br><br>\n",
    "\n",
    "3. **p-value**: The probability $p$ of the sample statistic is less than the significance level $\\alpha$\n",
    "\n",
    "These three approaches are equivalent and will yield the same result. We can see this mathematically below:\n",
    "\n",
    "Once the practitioner sets the $\\alpha$ value, according to the following relation:\n",
    "\n",
    "$$\n",
    "P(-Z_\\frac{\\alpha}{2}, \\frac{\\bar X - \\mu}{\\frac{\\sigma}{\\sqrt{n}}} ,+Z_\\frac{\\alpha}{2})=1-\\alpha\n",
    "$$\n",
    "\n",
    "$-Z_\\frac{\\alpha}{2}$ and $+Z_\\frac{\\alpha}{2}$ are the critical values $Z_c$ and are calculated using the properties of the normal distribution.  Using the definition of $Z$, if we know $Z_c$ we can calculate the $X_c$.\n",
    "\n",
    "$$\n",
    "Z_c=\\frac{x_c-\\mu}{\\sigma}\n",
    "$$\n",
    "\n",
    "Finally, the confidence interval defined by the critical values $X_c$ is the last criterion for rejection."
   ]
  },
  {
   "cell_type": "markdown",
   "metadata": {},
   "source": [
    "**Example**\n",
    "\n",
    "Let's simulate normal data with a mean of 50 and a standard deviation of 10 and suppose that this is a sample from a larger population. Let's perform some tests on this data."
   ]
  },
  {
   "cell_type": "code",
   "execution_count": 14,
   "metadata": {},
   "outputs": [
    {
     "name": "stdout",
     "output_type": "stream",
     "text": [
      "The sample average is 49.44\n"
     ]
    }
   ],
   "source": [
    "normal_sample = stats.norm.rvs(loc=50, scale=10, size=(50,1))\n",
    "print(\"The sample average is\",str(round(normal_sample.mean(),2)))"
   ]
  },
  {
   "cell_type": "markdown",
   "metadata": {},
   "source": [
    "Let's hypothesize that it comes from a population with an of average of 50.0."
   ]
  },
  {
   "cell_type": "code",
   "execution_count": 15,
   "metadata": {},
   "outputs": [
    {
     "data": {
      "text/plain": [
       "Ttest_1sampResult(statistic=array([-0.42710049]), pvalue=array([0.67117707]))"
      ]
     },
     "execution_count": 15,
     "metadata": {},
     "output_type": "execute_result"
    }
   ],
   "source": [
    "h_0=50.0\n",
    "ttest=stats.ttest_1samp(normal_sample,h_0)\n",
    "ttest"
   ]
  },
  {
   "cell_type": "code",
   "execution_count": 16,
   "metadata": {},
   "outputs": [
    {
     "name": "stdout",
     "output_type": "stream",
     "text": [
      "The t test statistic is -0.4271 and the p-value is 0.6712 which means that the probability of obtaining a value of 49.4 just by chance (or randomly) is 67.12 % assuming that the null hypothesis (the average is 50.0 ) is true.\n"
     ]
    }
   ],
   "source": [
    "print(\"The t test statistic is\",round(float(ttest.statistic),4)\n",
    "    ,\"and the p-value is\",round(float(ttest.pvalue),4)\n",
    "    ,\"which means that the probability of obtaining a value of\"\n",
    "    ,str(round(normal_sample.mean(),1)),\"just by chance (or randomly) is\"\n",
    "    ,str(round(float(ttest.pvalue)*100,2))\n",
    "    ,\"% assuming that the null hypothesis (the average is\"\n",
    "     ,h_0,\") is true.\")"
   ]
  },
  {
   "cell_type": "markdown",
   "metadata": {},
   "source": [
    "We fail to reject the null hypothesis that the population mean is 50.0."
   ]
  },
  {
   "cell_type": "markdown",
   "metadata": {},
   "source": [
    "Let's hypothesize that it comes from a population with an average of 43.0."
   ]
  },
  {
   "cell_type": "code",
   "execution_count": 17,
   "metadata": {},
   "outputs": [],
   "source": [
    "h_0=43.0\n",
    "ttest=stats.ttest_1samp(normal_sample,h_0)"
   ]
  },
  {
   "cell_type": "code",
   "execution_count": 18,
   "metadata": {},
   "outputs": [
    {
     "name": "stdout",
     "output_type": "stream",
     "text": [
      "The t test statistic is 4.8959 and the p-value is 0.0 which means that the probability of obtaining a value of 49.4 just by chance (or randomly) is 0.0 %\n"
     ]
    }
   ],
   "source": [
    "print(\"The t test statistic is\",round(float(ttest.statistic),4)\n",
    "    ,\"and the p-value is\",round(float(ttest.pvalue),4)\n",
    "    ,\"which means that the probability of obtaining a value of\"\n",
    "    ,str(round(normal_sample.mean(),1)),\"just by chance (or randomly) is\"\n",
    "    ,str(round(float(ttest.pvalue)*100,2))\n",
    "    ,\"%\")"
   ]
  },
  {
   "cell_type": "markdown",
   "metadata": {},
   "source": [
    "The probability assuming that $H_0$ is true is less than 5%. This is below our risk appetite, so we reject the null hypothesis in favour of the alternative that the average is different than 43.0."
   ]
  },
  {
   "cell_type": "markdown",
   "metadata": {},
   "source": [
    "## Types of hypothesis tests"
   ]
  },
  {
   "cell_type": "markdown",
   "metadata": {},
   "source": [
    "So far, all concepts have been illustrated with the simplest scenario, which is when we want to know if the average of a population equals a specific value. This is a **one-sample hypothesis test** as we are with working with a sample of only one population.\n",
    "\n",
    "In other circumstances, we may want to determine if two populations have the same average. In this case, we are comparing two populations and the test is called a **two-sample hypothesis test**.\n",
    "\n",
    "However, there is a caveat in the case of two-sample hypothesis tests. Let's look at an example to explain.\n",
    "\n",
    "Imagine that the manufacturer of a gas additive claims that their product can reduce gas consumption by 10%. We design an experiment where different makes and models are run with and without this additive. Then, we take the gas consumption average across cars with and without the additive and perform a hypothesis test under the null hypothesis that the additive has no effect on gas consumption.\n",
    "\n",
    "Our experiment will lack sensitivity, because not only will gas consumption depend on the presence or absence of the additive, it will also depend on the intrinsic variability between makes and models.\n",
    "\n",
    "To address this issue, we can conduct a **paired test**, where the same car's gas consumption is measured with and without the additive. We can calculate the consumption difference for each car and compare them by subtracting the two and checking if they equal zero. In this way, we account for the variability among makes and models by comparing each one against itself.\n",
    "\n",
    "We will illustrate this through an exercise using data from the OpenIntro textbook."
   ]
  },
  {
   "cell_type": "markdown",
   "metadata": {},
   "source": [
    "**Exercise 1: Perform a hypothesis test in Python**"
   ]
  },
  {
   "cell_type": "markdown",
   "metadata": {},
   "source": [
    "We will use the dataset provided in the `brain_size.csv` file (Dietz et al, 2017) along with the following `scipy.stats` functions.\n",
    "\n",
    "* `ttest_1samp`\n",
    "\n",
    "\n",
    "* `vttest_ind`\n",
    "\n",
    "\n",
    "* `ttest_rel`\n",
    "\n",
    "Perform the following hypothesis tests:\n",
    "\n",
    "1. VIQ = 0 (one-sample t-test)<br><br>\n",
    "\n",
    "2. female_viq = male_viq (two-sample t-test)<br><br>\n",
    "\n",
    "3. FSIQ = PIQ (paired t-test)"
   ]
  },
  {
   "cell_type": "code",
   "execution_count": 19,
   "metadata": {},
   "outputs": [],
   "source": [
    "# Your work here"
   ]
  },
  {
   "cell_type": "code",
   "execution_count": 20,
   "metadata": {},
   "outputs": [
    {
     "data": {
      "text/html": [
       "<div>\n",
       "<style scoped>\n",
       "    .dataframe tbody tr th:only-of-type {\n",
       "        vertical-align: middle;\n",
       "    }\n",
       "\n",
       "    .dataframe tbody tr th {\n",
       "        vertical-align: top;\n",
       "    }\n",
       "\n",
       "    .dataframe thead th {\n",
       "        text-align: right;\n",
       "    }\n",
       "</style>\n",
       "<table border=\"1\" class=\"dataframe\">\n",
       "  <thead>\n",
       "    <tr style=\"text-align: right;\">\n",
       "      <th></th>\n",
       "      <th>Gender</th>\n",
       "      <th>FSIQ</th>\n",
       "      <th>VIQ</th>\n",
       "      <th>PIQ</th>\n",
       "      <th>Weight</th>\n",
       "      <th>Height</th>\n",
       "      <th>MRI_Count</th>\n",
       "    </tr>\n",
       "  </thead>\n",
       "  <tbody>\n",
       "    <tr>\n",
       "      <th>0</th>\n",
       "      <td>Female</td>\n",
       "      <td>133</td>\n",
       "      <td>132</td>\n",
       "      <td>124</td>\n",
       "      <td>118.0</td>\n",
       "      <td>64.5</td>\n",
       "      <td>816932</td>\n",
       "    </tr>\n",
       "    <tr>\n",
       "      <th>1</th>\n",
       "      <td>Male</td>\n",
       "      <td>140</td>\n",
       "      <td>150</td>\n",
       "      <td>124</td>\n",
       "      <td>NaN</td>\n",
       "      <td>72.5</td>\n",
       "      <td>1001121</td>\n",
       "    </tr>\n",
       "    <tr>\n",
       "      <th>2</th>\n",
       "      <td>Male</td>\n",
       "      <td>139</td>\n",
       "      <td>123</td>\n",
       "      <td>150</td>\n",
       "      <td>143.0</td>\n",
       "      <td>73.3</td>\n",
       "      <td>1038437</td>\n",
       "    </tr>\n",
       "    <tr>\n",
       "      <th>3</th>\n",
       "      <td>Male</td>\n",
       "      <td>133</td>\n",
       "      <td>129</td>\n",
       "      <td>128</td>\n",
       "      <td>172.0</td>\n",
       "      <td>68.8</td>\n",
       "      <td>965353</td>\n",
       "    </tr>\n",
       "    <tr>\n",
       "      <th>4</th>\n",
       "      <td>Female</td>\n",
       "      <td>137</td>\n",
       "      <td>132</td>\n",
       "      <td>134</td>\n",
       "      <td>147.0</td>\n",
       "      <td>65.0</td>\n",
       "      <td>951545</td>\n",
       "    </tr>\n",
       "    <tr>\n",
       "      <th>5</th>\n",
       "      <td>Female</td>\n",
       "      <td>99</td>\n",
       "      <td>90</td>\n",
       "      <td>110</td>\n",
       "      <td>146.0</td>\n",
       "      <td>69.0</td>\n",
       "      <td>928799</td>\n",
       "    </tr>\n",
       "    <tr>\n",
       "      <th>6</th>\n",
       "      <td>Female</td>\n",
       "      <td>138</td>\n",
       "      <td>136</td>\n",
       "      <td>131</td>\n",
       "      <td>138.0</td>\n",
       "      <td>64.5</td>\n",
       "      <td>991305</td>\n",
       "    </tr>\n",
       "    <tr>\n",
       "      <th>7</th>\n",
       "      <td>Female</td>\n",
       "      <td>92</td>\n",
       "      <td>90</td>\n",
       "      <td>98</td>\n",
       "      <td>175.0</td>\n",
       "      <td>66.0</td>\n",
       "      <td>854258</td>\n",
       "    </tr>\n",
       "    <tr>\n",
       "      <th>8</th>\n",
       "      <td>Male</td>\n",
       "      <td>89</td>\n",
       "      <td>93</td>\n",
       "      <td>84</td>\n",
       "      <td>134.0</td>\n",
       "      <td>66.3</td>\n",
       "      <td>904858</td>\n",
       "    </tr>\n",
       "    <tr>\n",
       "      <th>9</th>\n",
       "      <td>Male</td>\n",
       "      <td>133</td>\n",
       "      <td>114</td>\n",
       "      <td>147</td>\n",
       "      <td>172.0</td>\n",
       "      <td>68.8</td>\n",
       "      <td>955466</td>\n",
       "    </tr>\n",
       "  </tbody>\n",
       "</table>\n",
       "</div>"
      ],
      "text/plain": [
       "   Gender  FSIQ  VIQ  PIQ  Weight  Height  MRI_Count\n",
       "0  Female   133  132  124   118.0    64.5     816932\n",
       "1    Male   140  150  124     NaN    72.5    1001121\n",
       "2    Male   139  123  150   143.0    73.3    1038437\n",
       "3    Male   133  129  128   172.0    68.8     965353\n",
       "4  Female   137  132  134   147.0    65.0     951545\n",
       "5  Female    99   90  110   146.0    69.0     928799\n",
       "6  Female   138  136  131   138.0    64.5     991305\n",
       "7  Female    92   90   98   175.0    66.0     854258\n",
       "8    Male    89   93   84   134.0    66.3     904858\n",
       "9    Male   133  114  147   172.0    68.8     955466"
      ]
     },
     "execution_count": 20,
     "metadata": {},
     "output_type": "execute_result"
    }
   ],
   "source": [
    "import pandas as pd\n",
    "data = pd.read_csv('brain_size.csv', sep=';', na_values=\".\")\n",
    "data = data.drop(\"Unnamed: 0\", axis=1)\n",
    "data.head(10)"
   ]
  },
  {
   "cell_type": "code",
   "execution_count": 21,
   "metadata": {},
   "outputs": [
    {
     "data": {
      "text/html": [
       "<div>\n",
       "<style scoped>\n",
       "    .dataframe tbody tr th:only-of-type {\n",
       "        vertical-align: middle;\n",
       "    }\n",
       "\n",
       "    .dataframe tbody tr th {\n",
       "        vertical-align: top;\n",
       "    }\n",
       "\n",
       "    .dataframe thead th {\n",
       "        text-align: right;\n",
       "    }\n",
       "</style>\n",
       "<table border=\"1\" class=\"dataframe\">\n",
       "  <thead>\n",
       "    <tr style=\"text-align: right;\">\n",
       "      <th></th>\n",
       "      <th>FSIQ</th>\n",
       "      <th>VIQ</th>\n",
       "      <th>PIQ</th>\n",
       "      <th>Weight</th>\n",
       "      <th>Height</th>\n",
       "      <th>MRI_Count</th>\n",
       "    </tr>\n",
       "  </thead>\n",
       "  <tbody>\n",
       "    <tr>\n",
       "      <th>count</th>\n",
       "      <td>40.000000</td>\n",
       "      <td>40.000000</td>\n",
       "      <td>40.00000</td>\n",
       "      <td>38.000000</td>\n",
       "      <td>39.000000</td>\n",
       "      <td>4.000000e+01</td>\n",
       "    </tr>\n",
       "    <tr>\n",
       "      <th>mean</th>\n",
       "      <td>113.450000</td>\n",
       "      <td>112.350000</td>\n",
       "      <td>111.02500</td>\n",
       "      <td>151.052632</td>\n",
       "      <td>68.525641</td>\n",
       "      <td>9.087550e+05</td>\n",
       "    </tr>\n",
       "    <tr>\n",
       "      <th>std</th>\n",
       "      <td>24.082071</td>\n",
       "      <td>23.616107</td>\n",
       "      <td>22.47105</td>\n",
       "      <td>23.478509</td>\n",
       "      <td>3.994649</td>\n",
       "      <td>7.228205e+04</td>\n",
       "    </tr>\n",
       "    <tr>\n",
       "      <th>min</th>\n",
       "      <td>77.000000</td>\n",
       "      <td>71.000000</td>\n",
       "      <td>72.00000</td>\n",
       "      <td>106.000000</td>\n",
       "      <td>62.000000</td>\n",
       "      <td>7.906190e+05</td>\n",
       "    </tr>\n",
       "    <tr>\n",
       "      <th>25%</th>\n",
       "      <td>89.750000</td>\n",
       "      <td>90.000000</td>\n",
       "      <td>88.25000</td>\n",
       "      <td>135.250000</td>\n",
       "      <td>66.000000</td>\n",
       "      <td>8.559185e+05</td>\n",
       "    </tr>\n",
       "    <tr>\n",
       "      <th>50%</th>\n",
       "      <td>116.500000</td>\n",
       "      <td>113.000000</td>\n",
       "      <td>115.00000</td>\n",
       "      <td>146.500000</td>\n",
       "      <td>68.000000</td>\n",
       "      <td>9.053990e+05</td>\n",
       "    </tr>\n",
       "    <tr>\n",
       "      <th>75%</th>\n",
       "      <td>135.500000</td>\n",
       "      <td>129.750000</td>\n",
       "      <td>128.00000</td>\n",
       "      <td>172.000000</td>\n",
       "      <td>70.500000</td>\n",
       "      <td>9.500780e+05</td>\n",
       "    </tr>\n",
       "    <tr>\n",
       "      <th>max</th>\n",
       "      <td>144.000000</td>\n",
       "      <td>150.000000</td>\n",
       "      <td>150.00000</td>\n",
       "      <td>192.000000</td>\n",
       "      <td>77.000000</td>\n",
       "      <td>1.079549e+06</td>\n",
       "    </tr>\n",
       "  </tbody>\n",
       "</table>\n",
       "</div>"
      ],
      "text/plain": [
       "             FSIQ         VIQ        PIQ      Weight     Height     MRI_Count\n",
       "count   40.000000   40.000000   40.00000   38.000000  39.000000  4.000000e+01\n",
       "mean   113.450000  112.350000  111.02500  151.052632  68.525641  9.087550e+05\n",
       "std     24.082071   23.616107   22.47105   23.478509   3.994649  7.228205e+04\n",
       "min     77.000000   71.000000   72.00000  106.000000  62.000000  7.906190e+05\n",
       "25%     89.750000   90.000000   88.25000  135.250000  66.000000  8.559185e+05\n",
       "50%    116.500000  113.000000  115.00000  146.500000  68.000000  9.053990e+05\n",
       "75%    135.500000  129.750000  128.00000  172.000000  70.500000  9.500780e+05\n",
       "max    144.000000  150.000000  150.00000  192.000000  77.000000  1.079549e+06"
      ]
     },
     "execution_count": 21,
     "metadata": {},
     "output_type": "execute_result"
    }
   ],
   "source": [
    "data.describe()"
   ]
  },
  {
   "cell_type": "code",
   "execution_count": 22,
   "metadata": {},
   "outputs": [
    {
     "name": "stdout",
     "output_type": "stream",
     "text": [
      "('Female', 109.45)\n",
      "('Male', 115.25)\n"
     ]
    }
   ],
   "source": [
    "# groupby: splitting a dataframe on values of categorical variables:\n",
    "groupby_gender = data.groupby('Gender')\n",
    "for gender, value in groupby_gender['VIQ']:\n",
    "    print((gender, value.mean()))"
   ]
  },
  {
   "cell_type": "code",
   "execution_count": 23,
   "metadata": {},
   "outputs": [
    {
     "data": {
      "text/html": [
       "<div>\n",
       "<style scoped>\n",
       "    .dataframe tbody tr th:only-of-type {\n",
       "        vertical-align: middle;\n",
       "    }\n",
       "\n",
       "    .dataframe tbody tr th {\n",
       "        vertical-align: top;\n",
       "    }\n",
       "\n",
       "    .dataframe thead th {\n",
       "        text-align: right;\n",
       "    }\n",
       "</style>\n",
       "<table border=\"1\" class=\"dataframe\">\n",
       "  <thead>\n",
       "    <tr style=\"text-align: right;\">\n",
       "      <th></th>\n",
       "      <th>FSIQ</th>\n",
       "      <th>VIQ</th>\n",
       "      <th>PIQ</th>\n",
       "      <th>Weight</th>\n",
       "      <th>Height</th>\n",
       "      <th>MRI_Count</th>\n",
       "    </tr>\n",
       "    <tr>\n",
       "      <th>Gender</th>\n",
       "      <th></th>\n",
       "      <th></th>\n",
       "      <th></th>\n",
       "      <th></th>\n",
       "      <th></th>\n",
       "      <th></th>\n",
       "    </tr>\n",
       "  </thead>\n",
       "  <tbody>\n",
       "    <tr>\n",
       "      <th>Female</th>\n",
       "      <td>111.9</td>\n",
       "      <td>109.45</td>\n",
       "      <td>110.45</td>\n",
       "      <td>137.200000</td>\n",
       "      <td>65.765000</td>\n",
       "      <td>862654.6</td>\n",
       "    </tr>\n",
       "    <tr>\n",
       "      <th>Male</th>\n",
       "      <td>115.0</td>\n",
       "      <td>115.25</td>\n",
       "      <td>111.60</td>\n",
       "      <td>166.444444</td>\n",
       "      <td>71.431579</td>\n",
       "      <td>954855.4</td>\n",
       "    </tr>\n",
       "  </tbody>\n",
       "</table>\n",
       "</div>"
      ],
      "text/plain": [
       "         FSIQ     VIQ     PIQ      Weight     Height  MRI_Count\n",
       "Gender                                                         \n",
       "Female  111.9  109.45  110.45  137.200000  65.765000   862654.6\n",
       "Male    115.0  115.25  111.60  166.444444  71.431579   954855.4"
      ]
     },
     "execution_count": 23,
     "metadata": {},
     "output_type": "execute_result"
    }
   ],
   "source": [
    "# groupby_gender is a powerful object that exposes many operations on the resulting group of dataframes:\n",
    "groupby_gender.mean()"
   ]
  },
  {
   "cell_type": "code",
   "execution_count": 24,
   "metadata": {},
   "outputs": [
    {
     "data": {
      "text/plain": [
       "Ttest_1sampResult(statistic=30.088099970849328, pvalue=1.3289196468728067e-28)"
      ]
     },
     "execution_count": 24,
     "metadata": {},
     "output_type": "execute_result"
    }
   ],
   "source": [
    "stats.ttest_1samp(data['VIQ'], 0)"
   ]
  },
  {
   "cell_type": "code",
   "execution_count": 25,
   "metadata": {},
   "outputs": [
    {
     "data": {
      "text/plain": [
       "Ttest_indResult(statistic=-0.7726161723275011, pvalue=0.44452876778583217)"
      ]
     },
     "execution_count": 25,
     "metadata": {},
     "output_type": "execute_result"
    }
   ],
   "source": [
    "female_viq = data[data['Gender'] == 'Female']['VIQ']\n",
    "male_viq = data[data['Gender'] == 'Male']['VIQ']\n",
    "stats.ttest_ind(female_viq, male_viq)"
   ]
  },
  {
   "cell_type": "code",
   "execution_count": 26,
   "metadata": {},
   "outputs": [
    {
     "data": {
      "text/plain": [
       "Ttest_relResult(statistic=1.7842019405859857, pvalue=0.08217263818364236)"
      ]
     },
     "execution_count": 26,
     "metadata": {},
     "output_type": "execute_result"
    }
   ],
   "source": [
    "stats.ttest_rel(data['FSIQ'], data['PIQ']) "
   ]
  },
  {
   "cell_type": "code",
   "execution_count": 27,
   "metadata": {},
   "outputs": [
    {
     "data": {
      "text/plain": [
       "Ttest_1sampResult(statistic=1.7842019405859857, pvalue=0.08217263818364236)"
      ]
     },
     "execution_count": 27,
     "metadata": {},
     "output_type": "execute_result"
    }
   ],
   "source": [
    "stats.ttest_1samp(data['FSIQ'] - data['PIQ'], 0) "
   ]
  },
  {
   "cell_type": "code",
   "execution_count": 28,
   "metadata": {},
   "outputs": [
    {
     "data": {
      "text/plain": [
       "Ttest_indResult(statistic=0.465637596380964, pvalue=0.6427725009414841)"
      ]
     },
     "execution_count": 28,
     "metadata": {},
     "output_type": "execute_result"
    }
   ],
   "source": [
    "stats.ttest_ind(data['FSIQ'], data['PIQ'])"
   ]
  },
  {
   "cell_type": "markdown",
   "metadata": {},
   "source": [
    "**Solution**"
   ]
  },
  {
   "cell_type": "code",
   "execution_count": 29,
   "metadata": {},
   "outputs": [
    {
     "data": {
      "text/html": [
       "<div>\n",
       "<style scoped>\n",
       "    .dataframe tbody tr th:only-of-type {\n",
       "        vertical-align: middle;\n",
       "    }\n",
       "\n",
       "    .dataframe tbody tr th {\n",
       "        vertical-align: top;\n",
       "    }\n",
       "\n",
       "    .dataframe thead th {\n",
       "        text-align: right;\n",
       "    }\n",
       "</style>\n",
       "<table border=\"1\" class=\"dataframe\">\n",
       "  <thead>\n",
       "    <tr style=\"text-align: right;\">\n",
       "      <th></th>\n",
       "      <th>Gender</th>\n",
       "      <th>FSIQ</th>\n",
       "      <th>VIQ</th>\n",
       "      <th>PIQ</th>\n",
       "      <th>Weight</th>\n",
       "      <th>Height</th>\n",
       "      <th>MRI_Count</th>\n",
       "    </tr>\n",
       "  </thead>\n",
       "  <tbody>\n",
       "    <tr>\n",
       "      <th>0</th>\n",
       "      <td>Female</td>\n",
       "      <td>133</td>\n",
       "      <td>132</td>\n",
       "      <td>124</td>\n",
       "      <td>118.0</td>\n",
       "      <td>64.5</td>\n",
       "      <td>816932</td>\n",
       "    </tr>\n",
       "    <tr>\n",
       "      <th>1</th>\n",
       "      <td>Male</td>\n",
       "      <td>140</td>\n",
       "      <td>150</td>\n",
       "      <td>124</td>\n",
       "      <td>NaN</td>\n",
       "      <td>72.5</td>\n",
       "      <td>1001121</td>\n",
       "    </tr>\n",
       "    <tr>\n",
       "      <th>2</th>\n",
       "      <td>Male</td>\n",
       "      <td>139</td>\n",
       "      <td>123</td>\n",
       "      <td>150</td>\n",
       "      <td>143.0</td>\n",
       "      <td>73.3</td>\n",
       "      <td>1038437</td>\n",
       "    </tr>\n",
       "    <tr>\n",
       "      <th>3</th>\n",
       "      <td>Male</td>\n",
       "      <td>133</td>\n",
       "      <td>129</td>\n",
       "      <td>128</td>\n",
       "      <td>172.0</td>\n",
       "      <td>68.8</td>\n",
       "      <td>965353</td>\n",
       "    </tr>\n",
       "    <tr>\n",
       "      <th>4</th>\n",
       "      <td>Female</td>\n",
       "      <td>137</td>\n",
       "      <td>132</td>\n",
       "      <td>134</td>\n",
       "      <td>147.0</td>\n",
       "      <td>65.0</td>\n",
       "      <td>951545</td>\n",
       "    </tr>\n",
       "    <tr>\n",
       "      <th>5</th>\n",
       "      <td>Female</td>\n",
       "      <td>99</td>\n",
       "      <td>90</td>\n",
       "      <td>110</td>\n",
       "      <td>146.0</td>\n",
       "      <td>69.0</td>\n",
       "      <td>928799</td>\n",
       "    </tr>\n",
       "    <tr>\n",
       "      <th>6</th>\n",
       "      <td>Female</td>\n",
       "      <td>138</td>\n",
       "      <td>136</td>\n",
       "      <td>131</td>\n",
       "      <td>138.0</td>\n",
       "      <td>64.5</td>\n",
       "      <td>991305</td>\n",
       "    </tr>\n",
       "    <tr>\n",
       "      <th>7</th>\n",
       "      <td>Female</td>\n",
       "      <td>92</td>\n",
       "      <td>90</td>\n",
       "      <td>98</td>\n",
       "      <td>175.0</td>\n",
       "      <td>66.0</td>\n",
       "      <td>854258</td>\n",
       "    </tr>\n",
       "    <tr>\n",
       "      <th>8</th>\n",
       "      <td>Male</td>\n",
       "      <td>89</td>\n",
       "      <td>93</td>\n",
       "      <td>84</td>\n",
       "      <td>134.0</td>\n",
       "      <td>66.3</td>\n",
       "      <td>904858</td>\n",
       "    </tr>\n",
       "    <tr>\n",
       "      <th>9</th>\n",
       "      <td>Male</td>\n",
       "      <td>133</td>\n",
       "      <td>114</td>\n",
       "      <td>147</td>\n",
       "      <td>172.0</td>\n",
       "      <td>68.8</td>\n",
       "      <td>955466</td>\n",
       "    </tr>\n",
       "  </tbody>\n",
       "</table>\n",
       "</div>"
      ],
      "text/plain": [
       "   Gender  FSIQ  VIQ  PIQ  Weight  Height  MRI_Count\n",
       "0  Female   133  132  124   118.0    64.5     816932\n",
       "1    Male   140  150  124     NaN    72.5    1001121\n",
       "2    Male   139  123  150   143.0    73.3    1038437\n",
       "3    Male   133  129  128   172.0    68.8     965353\n",
       "4  Female   137  132  134   147.0    65.0     951545\n",
       "5  Female    99   90  110   146.0    69.0     928799\n",
       "6  Female   138  136  131   138.0    64.5     991305\n",
       "7  Female    92   90   98   175.0    66.0     854258\n",
       "8    Male    89   93   84   134.0    66.3     904858\n",
       "9    Male   133  114  147   172.0    68.8     955466"
      ]
     },
     "execution_count": 29,
     "metadata": {},
     "output_type": "execute_result"
    }
   ],
   "source": [
    "import pandas as pd\n",
    "data = pd.read_csv('brain_size.csv', sep=';', na_values=\".\")\n",
    "data = data.drop(\"Unnamed: 0\", axis=1)\n",
    "data.head(10)"
   ]
  },
  {
   "cell_type": "code",
   "execution_count": 30,
   "metadata": {},
   "outputs": [
    {
     "data": {
      "text/html": [
       "<div>\n",
       "<style scoped>\n",
       "    .dataframe tbody tr th:only-of-type {\n",
       "        vertical-align: middle;\n",
       "    }\n",
       "\n",
       "    .dataframe tbody tr th {\n",
       "        vertical-align: top;\n",
       "    }\n",
       "\n",
       "    .dataframe thead th {\n",
       "        text-align: right;\n",
       "    }\n",
       "</style>\n",
       "<table border=\"1\" class=\"dataframe\">\n",
       "  <thead>\n",
       "    <tr style=\"text-align: right;\">\n",
       "      <th></th>\n",
       "      <th>FSIQ</th>\n",
       "      <th>VIQ</th>\n",
       "      <th>PIQ</th>\n",
       "      <th>Weight</th>\n",
       "      <th>Height</th>\n",
       "      <th>MRI_Count</th>\n",
       "    </tr>\n",
       "  </thead>\n",
       "  <tbody>\n",
       "    <tr>\n",
       "      <th>count</th>\n",
       "      <td>40.000000</td>\n",
       "      <td>40.000000</td>\n",
       "      <td>40.00000</td>\n",
       "      <td>38.000000</td>\n",
       "      <td>39.000000</td>\n",
       "      <td>4.000000e+01</td>\n",
       "    </tr>\n",
       "    <tr>\n",
       "      <th>mean</th>\n",
       "      <td>113.450000</td>\n",
       "      <td>112.350000</td>\n",
       "      <td>111.02500</td>\n",
       "      <td>151.052632</td>\n",
       "      <td>68.525641</td>\n",
       "      <td>9.087550e+05</td>\n",
       "    </tr>\n",
       "    <tr>\n",
       "      <th>std</th>\n",
       "      <td>24.082071</td>\n",
       "      <td>23.616107</td>\n",
       "      <td>22.47105</td>\n",
       "      <td>23.478509</td>\n",
       "      <td>3.994649</td>\n",
       "      <td>7.228205e+04</td>\n",
       "    </tr>\n",
       "    <tr>\n",
       "      <th>min</th>\n",
       "      <td>77.000000</td>\n",
       "      <td>71.000000</td>\n",
       "      <td>72.00000</td>\n",
       "      <td>106.000000</td>\n",
       "      <td>62.000000</td>\n",
       "      <td>7.906190e+05</td>\n",
       "    </tr>\n",
       "    <tr>\n",
       "      <th>25%</th>\n",
       "      <td>89.750000</td>\n",
       "      <td>90.000000</td>\n",
       "      <td>88.25000</td>\n",
       "      <td>135.250000</td>\n",
       "      <td>66.000000</td>\n",
       "      <td>8.559185e+05</td>\n",
       "    </tr>\n",
       "    <tr>\n",
       "      <th>50%</th>\n",
       "      <td>116.500000</td>\n",
       "      <td>113.000000</td>\n",
       "      <td>115.00000</td>\n",
       "      <td>146.500000</td>\n",
       "      <td>68.000000</td>\n",
       "      <td>9.053990e+05</td>\n",
       "    </tr>\n",
       "    <tr>\n",
       "      <th>75%</th>\n",
       "      <td>135.500000</td>\n",
       "      <td>129.750000</td>\n",
       "      <td>128.00000</td>\n",
       "      <td>172.000000</td>\n",
       "      <td>70.500000</td>\n",
       "      <td>9.500780e+05</td>\n",
       "    </tr>\n",
       "    <tr>\n",
       "      <th>max</th>\n",
       "      <td>144.000000</td>\n",
       "      <td>150.000000</td>\n",
       "      <td>150.00000</td>\n",
       "      <td>192.000000</td>\n",
       "      <td>77.000000</td>\n",
       "      <td>1.079549e+06</td>\n",
       "    </tr>\n",
       "  </tbody>\n",
       "</table>\n",
       "</div>"
      ],
      "text/plain": [
       "             FSIQ         VIQ        PIQ      Weight     Height     MRI_Count\n",
       "count   40.000000   40.000000   40.00000   38.000000  39.000000  4.000000e+01\n",
       "mean   113.450000  112.350000  111.02500  151.052632  68.525641  9.087550e+05\n",
       "std     24.082071   23.616107   22.47105   23.478509   3.994649  7.228205e+04\n",
       "min     77.000000   71.000000   72.00000  106.000000  62.000000  7.906190e+05\n",
       "25%     89.750000   90.000000   88.25000  135.250000  66.000000  8.559185e+05\n",
       "50%    116.500000  113.000000  115.00000  146.500000  68.000000  9.053990e+05\n",
       "75%    135.500000  129.750000  128.00000  172.000000  70.500000  9.500780e+05\n",
       "max    144.000000  150.000000  150.00000  192.000000  77.000000  1.079549e+06"
      ]
     },
     "execution_count": 30,
     "metadata": {},
     "output_type": "execute_result"
    }
   ],
   "source": [
    "data.describe()"
   ]
  },
  {
   "cell_type": "markdown",
   "metadata": {},
   "source": [
    "From Dietz et al (2017):\n",
    "\n",
    "- Full Scale Intelligence Quotient (FSIQ)\n",
    "\n",
    "\n",
    "- Verbal Intelligence Quotient (VIQ)\n",
    "\n",
    "\n",
    "- Performance Intelligence Quotient (PIQ)"
   ]
  },
  {
   "cell_type": "code",
   "execution_count": 31,
   "metadata": {},
   "outputs": [
    {
     "name": "stdout",
     "output_type": "stream",
     "text": [
      "('Female', 109.45)\n",
      "('Male', 115.25)\n"
     ]
    }
   ],
   "source": [
    "# groupby: splitting a dataframe on values of categorical variables:\n",
    "groupby_gender = data.groupby('Gender')\n",
    "for gender, value in groupby_gender['VIQ']:\n",
    "    print((gender, value.mean()))"
   ]
  },
  {
   "cell_type": "code",
   "execution_count": 32,
   "metadata": {},
   "outputs": [
    {
     "data": {
      "text/html": [
       "<div>\n",
       "<style scoped>\n",
       "    .dataframe tbody tr th:only-of-type {\n",
       "        vertical-align: middle;\n",
       "    }\n",
       "\n",
       "    .dataframe tbody tr th {\n",
       "        vertical-align: top;\n",
       "    }\n",
       "\n",
       "    .dataframe thead th {\n",
       "        text-align: right;\n",
       "    }\n",
       "</style>\n",
       "<table border=\"1\" class=\"dataframe\">\n",
       "  <thead>\n",
       "    <tr style=\"text-align: right;\">\n",
       "      <th></th>\n",
       "      <th>FSIQ</th>\n",
       "      <th>VIQ</th>\n",
       "      <th>PIQ</th>\n",
       "      <th>Weight</th>\n",
       "      <th>Height</th>\n",
       "      <th>MRI_Count</th>\n",
       "    </tr>\n",
       "    <tr>\n",
       "      <th>Gender</th>\n",
       "      <th></th>\n",
       "      <th></th>\n",
       "      <th></th>\n",
       "      <th></th>\n",
       "      <th></th>\n",
       "      <th></th>\n",
       "    </tr>\n",
       "  </thead>\n",
       "  <tbody>\n",
       "    <tr>\n",
       "      <th>Female</th>\n",
       "      <td>111.9</td>\n",
       "      <td>109.45</td>\n",
       "      <td>110.45</td>\n",
       "      <td>137.200000</td>\n",
       "      <td>65.765000</td>\n",
       "      <td>862654.6</td>\n",
       "    </tr>\n",
       "    <tr>\n",
       "      <th>Male</th>\n",
       "      <td>115.0</td>\n",
       "      <td>115.25</td>\n",
       "      <td>111.60</td>\n",
       "      <td>166.444444</td>\n",
       "      <td>71.431579</td>\n",
       "      <td>954855.4</td>\n",
       "    </tr>\n",
       "  </tbody>\n",
       "</table>\n",
       "</div>"
      ],
      "text/plain": [
       "         FSIQ     VIQ     PIQ      Weight     Height  MRI_Count\n",
       "Gender                                                         \n",
       "Female  111.9  109.45  110.45  137.200000  65.765000   862654.6\n",
       "Male    115.0  115.25  111.60  166.444444  71.431579   954855.4"
      ]
     },
     "execution_count": 32,
     "metadata": {},
     "output_type": "execute_result"
    }
   ],
   "source": [
    "# groupby_gender is a powerful object that exposes many operations on the resulting group of dataframes:\n",
    "groupby_gender.mean()"
   ]
  },
  {
   "cell_type": "markdown",
   "metadata": {},
   "source": [
    "**One-sample t-test**: Testing the value of a population mean.\n",
    "\n",
    "`scipy.stats.ttest_1samp()` tests if the population mean of data is likely to be equal to a given value (technically if observations are drawn from a Gaussian distribution of a given population mean). It returns the t-statistic, and the p-value. The p-value measures the probability of getting a specific value assuming the null hypothesis is true just by random sampling variability.\n",
    "\n",
    "This is a two-sided test for the null hypothesis that the expected value (mean) of a sample of independent observations is equal to the given population mean, $popmean$.\n",
    "\n",
    "In the test below, the hypothesis is that the overall VIQ equals zero. From the table above, the overall VIQ average is 112.35. The t-test assuming a $H_0: \\mu=0$ is 30.  The probability of obtaining this statistic or a mean of 112.35 when the actual population value is zero, $H_0$, just by random sampling variability, is very small: one in $10^{28}$.  The probability is very small, so we reject the null hypothesis, $H_0: \\mu = 0$."
   ]
  },
  {
   "cell_type": "code",
   "execution_count": 33,
   "metadata": {},
   "outputs": [
    {
     "data": {
      "text/plain": [
       "Ttest_1sampResult(statistic=30.088099970849328, pvalue=1.3289196468728067e-28)"
      ]
     },
     "execution_count": 33,
     "metadata": {},
     "output_type": "execute_result"
    }
   ],
   "source": [
    "stats.ttest_1samp(data['VIQ'], 0)"
   ]
  },
  {
   "cell_type": "markdown",
   "metadata": {},
   "source": [
    "**2-sample t-test**: Testing for differences across populations.\n",
    "\n",
    "We have seen above that the mean VIQ in the male and female populations were different. To test if this is significant, we do a two-sample t-test with `scipy.stats.ttest_ind()`. This is a two-sided test for the null hypothesis that two independent samples have identical average (expected) values. This test assumes that the populations have identical variances by default.\n",
    "\n",
    "In this case, the probability of obtaining the measured difference between males and females is 44% just by sampling variability as per the p-value. This probability is very high, so we fail to reject the null hypothesis and we accept that male and females have the same VIQ."
   ]
  },
  {
   "cell_type": "code",
   "execution_count": 34,
   "metadata": {},
   "outputs": [
    {
     "data": {
      "text/plain": [
       "Ttest_indResult(statistic=-0.7726161723275011, pvalue=0.44452876778583217)"
      ]
     },
     "execution_count": 34,
     "metadata": {},
     "output_type": "execute_result"
    }
   ],
   "source": [
    "female_viq = data[data['Gender'] == 'Female']['VIQ']\n",
    "male_viq = data[data['Gender'] == 'Male']['VIQ']\n",
    "stats.ttest_ind(female_viq, male_viq)"
   ]
  },
  {
   "cell_type": "markdown",
   "metadata": {},
   "source": [
    "**Paired test**: Repeated measurements on the same individuals.\n",
    "\n",
    "PIQ, VIQ, and FSIQ give three measures of IQ. Let us test if FISQ and PIQ are significantly different. Can we just use a two-sample test?\n",
    "\n",
    "The problem with this approach is that it does not account for links between observations &mdash; FSIQ and PIQ are measured on the same individuals. Thus, the variance due to inter-subject variability is confounded and can be removed using a \"paired test\" (also known as a \"repeated measures test\")."
   ]
  },
  {
   "cell_type": "code",
   "execution_count": 35,
   "metadata": {},
   "outputs": [
    {
     "data": {
      "text/plain": [
       "Ttest_relResult(statistic=1.7842019405859857, pvalue=0.08217263818364236)"
      ]
     },
     "execution_count": 35,
     "metadata": {},
     "output_type": "execute_result"
    }
   ],
   "source": [
    "stats.ttest_rel(data['FSIQ'], data['PIQ']) "
   ]
  },
  {
   "cell_type": "markdown",
   "metadata": {},
   "source": [
    "This is equivalent to a one-sample test on the difference."
   ]
  },
  {
   "cell_type": "code",
   "execution_count": 36,
   "metadata": {},
   "outputs": [
    {
     "data": {
      "text/plain": [
       "Ttest_1sampResult(statistic=1.7842019405859857, pvalue=0.08217263818364236)"
      ]
     },
     "execution_count": 36,
     "metadata": {},
     "output_type": "execute_result"
    }
   ],
   "source": [
    "stats.ttest_1samp(data['FSIQ'] - data['PIQ'], 0) "
   ]
  },
  {
   "cell_type": "markdown",
   "metadata": {},
   "source": [
    "Let's compare this result against the two-sample t-test."
   ]
  },
  {
   "cell_type": "code",
   "execution_count": 37,
   "metadata": {},
   "outputs": [
    {
     "data": {
      "text/plain": [
       "Ttest_indResult(statistic=0.465637596380964, pvalue=0.6427725009414841)"
      ]
     },
     "execution_count": 37,
     "metadata": {},
     "output_type": "execute_result"
    }
   ],
   "source": [
    "stats.ttest_ind(data['FSIQ'], data['PIQ'])"
   ]
  },
  {
   "cell_type": "markdown",
   "metadata": {},
   "source": [
    "The p-value in the two-sample t-test approach is 64% while in the paired test it is 8%. By testing the paired differences between each individual in the population instead of the difference between the two populations, we removed the inter-subject variability.\n",
    "\n",
    "Although the probability of the observed difference decreased from 64% to 8%, it is still above our risk appetite of 5% and we fail to reject the null hypothesis."
   ]
  },
  {
   "cell_type": "markdown",
   "metadata": {},
   "source": [
    "**End of Part 1**\n",
    "\n",
    "This notebook makes up one part of this module. Now that you have completed this part, please proceed to the next notebook in this module.\n",
    "\n",
    "If you have any questions, please reach out to your peers using the discussion boards. If you and your peers are unable to come to a suitable conclusion, do not hesitate to reach out to your instructor on the designated discussion board."
   ]
  },
  {
   "cell_type": "markdown",
   "metadata": {},
   "source": [
    "# References\n",
    "\n",
    "Diez, D., Çetinkaya-Rundel, M., & Barr, C.D. (2019). Chapter 7: Inference for numerical data. _OpenIntro Statistics_ (4th Ed.). https://www.openintro.org/stat/textbook.php?stat_book=os"
   ]
  }
 ],
 "metadata": {
  "kernelspec": {
   "display_name": "Python 3 (ipykernel)",
   "language": "python",
   "name": "python3"
  },
  "language_info": {
   "codemirror_mode": {
    "name": "ipython",
    "version": 3
   },
   "file_extension": ".py",
   "mimetype": "text/x-python",
   "name": "python",
   "nbconvert_exporter": "python",
   "pygments_lexer": "ipython3",
   "version": "3.9.7"
  }
 },
 "nbformat": 4,
 "nbformat_minor": 4
}
