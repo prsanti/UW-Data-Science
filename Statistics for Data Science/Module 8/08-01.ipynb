{
 "cells": [
  {
   "cell_type": "markdown",
   "metadata": {},
   "source": [
    "# Module 8: Logistic Regression"
   ]
  },
  {
   "cell_type": "markdown",
   "metadata": {},
   "source": [
    "# Introduction\n",
    "\n",
    "In this module, we will introduce logistic regression and learn how to fit and evaluate logistic regression models. We will also discuss the assumptions and limitations of logistic regression, and learn how to interpret the output of logistic regression using Python. Finally, we will describe receiver operating characteristics and their importance for logistic regression."
   ]
  },
  {
   "cell_type": "markdown",
   "metadata": {},
   "source": [
    "# Learning Outcomes\n",
    "\n",
    "In this module, you will:\n",
    "\n",
    "* Become familiar with logistic regression analysis\n",
    "* Examine the assumptions, limitations and strengths of logistic regression\n",
    "* Learn how to evaluate logistic regression models"
   ]
  },
  {
   "cell_type": "markdown",
   "metadata": {},
   "source": [
    "# Reading and Resources\n",
    "\n",
    "We invite you to further supplement this notebook with the following recommended texts:\n",
    "\n",
    "Diez, D., Çetinkaya-Rundel, M., Barr, C.D. (2019). Chapter 9: Multiple and Logistic Regression in *OpenIntro Statistics (4th Ed.).* https://www.openintro.org/stat/textbook.php?stat_book=os"
   ]
  },
  {
   "cell_type": "markdown",
   "metadata": {},
   "source": [
    "<h1>Table of Contents<span class=\"tocSkip\"></span></h1>\n",
    "<br>\n",
    "<div class=\"toc\">\n",
    "<ul class=\"toc-item\">\n",
    "<li><span><a href=\"#Module-8:-Logistic-Regression\" data-toc-modified-id=\"Module-8:-Logistic-Regression\">Module 8: Logistic Regression</a></span>\n",
    "</li>\n",
    "<li><span><a href=\"#Introduction\" data-toc-modified-id=\"Introduction\">Introduction</a></span>\n",
    "</li>\n",
    "<li><span><a href=\"#Learning-Outcomes\" data-toc-modified-id=\"Learning-Outcomes\">Learning Outcomes</a></span>\n",
    "</li>\n",
    "<li><span><a href=\"#Reading-and-Resources\" data-toc-modified-id=\"Reading-and-Resources\">Reading and Resources</a></span>\n",
    "</li>\n",
    "<li><span><a href=\"#Table-of-Contents\" data-toc-modified-id=\"Table-of-Contents\">Table of Contents</a></span>\n",
    "</li>\n",
    "<li><span><a href=\"#Logistic-Regression\" data-toc-modified-id=\"Logistic-Regression\">Logistic Regression</a></span>\n",
    "<ul class=\"toc-item\">\n",
    "<li><span><a href=\"#Introduction-to-logistic-regression\" data-toc-modified-id=\"Introduction-to-logistic-regression\">Introduction to logistic regression</a></span>\n",
    "</li>\n",
    "<li><span><a href=\"#Visual-interpretation\" data-toc-modified-id=\"Visual-interpretation\">Visual interpretation</a></span>\n",
    "</li>\n",
    "<li><span><a href=\"#Underlying-assumptions\" data-toc-modified-id=\"Underlying-assumptions\">Underlying assumptions</a></span>\n",
    "</li>\n",
    "<li><span><a href=\"#Fitting-the-logistic-regression-model\" data-toc-modified-id=\"Fitting-the-logistic-regression-model\">Fitting the logistic regression model</a></span>\n",
    "<ul class=\"toc-item\">\n",
    "<li><span><a href=\"#Newton-method\" data-toc-modified-id=\"Newton-method\">Newton method</a></span>\n",
    "</li>\n",
    "</ul>\n",
    "</li>\n",
    "</ul>\n",
    "</li>\n",
    "<li><span><a href=\"#Understanding-Regression-Output\" data-toc-modified-id=\"Understanding-Regression-Output\">Understanding Regression Output</a></span>\n",
    "</li>\n",
    "<li><span><a href=\"#Evaluation-of-the-Logistic-Regression-Model\" data-toc-modified-id=\"Evaluation-of-the-Logistic-Regression-Model\">Evaluation of the Logistic Regression Model</a></span>\n",
    "<ul class=\"toc-item\">\n",
    "<li><span><a href=\"#Pseudo-R-squared\" data-toc-modified-id=\"Pseudo-R-squared\">Pseudo R-squared</a></span>\n",
    "</li>\n",
    "<li><span><a href=\"#Confusion-matrix\" data-toc-modified-id=\"Confusion-matrix\">Confusion matrix</a></span>\n",
    "</li>\n",
    "<li><span><a href=\"#Statistical-accuracy\" data-toc-modified-id=\"Statistical-accuracy\">Statistical accuracy</a></span>\n",
    "<ul class=\"toc-item\">\n",
    "<li><span><a href=\"#A-word-of-caution-with-statistical-accuracy\" data-toc-modified-id=\"A-word-of-caution-with-statistical-accuracy\">A word of caution with statistical accuracy</a></span>\n",
    "</li>\n",
    "</ul>\n",
    "</li>\n",
    "<li><span><a href=\"#Matthews-correlation-coefficient-(MCC)\" data-toc-modified-id=\"Matthews-correlation-coefficient-(MCC)\">Matthews correlation coefficient (MCC)</a></span>\n",
    "</li>\n",
    "<li><span><a href=\"#Precision,-recall,-specificity-and-F-score\" data-toc-modified-id=\"Precision,-recall,-specificity-and-F-score\">Precision, recall, specificity and F-score</a></span>\n",
    "</li>\n",
    "</ul>\n",
    "</li>\n",
    "<li><span><a href=\"#Receiver-Operating-Characteristic\" data-toc-modified-id=\"Receiver-Operating-Characteristic\">Receiver Operating Characteristic</a></span>\n",
    "<ul class=\"toc-item\">\n",
    "<li><span><a href=\"#Area-Under-ROC-Curve-(AUROC)\" data-toc-modified-id=\"Area-Under-ROC-Curve-(AUROC)\">Area Under ROC Curve (AUROC)</a></span>\n",
    "</li>\n",
    "<li><span><a href=\"#Youden's-J\" data-toc-modified-id=\"Youden's-J\">Youden's J</a></span>\n",
    "</li>\n",
    "<li><span><a href=\"#Point-of-balance\" data-toc-modified-id=\"Point-of-balance\">Point of balance</a></span>\n",
    "</li>\n",
    "</ul>\n",
    "</li>\n",
    "<li><span><a href=\"#Setting-the-Discrimination-Threshold\" data-toc-modified-id=\"Setting-the-Discrimination-Threshold\">Setting the Discrimination Threshold</a></span>\n",
    "</li>\n",
    "<li><span><a href=\"#References\" data-toc-modified-id=\"References\">References</a></span>\n",
    "</li>\n",
    "</ul>\n",
    "</div>"
   ]
  },
  {
   "cell_type": "markdown",
   "metadata": {},
   "source": [
    "# Logistic Regression"
   ]
  },
  {
   "cell_type": "markdown",
   "metadata": {},
   "source": [
    "In contrast to linear regression analysis &mdash; which is applied when the response variable is a continuous variable &mdash; logistic regression is used when the response variable is a categorical variable. Here we will focus on the most prominent case, which is when the response is a **binary variable**. Logistic regression is extremely useful, since many real-life problems can be reduced to a problem involving estimation of a binary variable.\n",
    "\n",
    "For example:\n",
    "\n",
    " - Is a customer going to buy an item? (Yes / No)\n",
    " - Is an email spam? (Yes / No)\n",
    " - Does a patient suffer from the disease? (Yes / No)"
   ]
  },
  {
   "cell_type": "markdown",
   "metadata": {},
   "source": [
    "## Introduction to logistic regression"
   ]
  },
  {
   "cell_type": "markdown",
   "metadata": {},
   "source": [
    "In the previous module, we learned that the objective of regression analysis is to estimate the value of a random variable given the value of an associated variable. We can say that logistic regression is a form of regression analysis where the response variable is a **random categorical variable**.\n",
    "\n",
    "Hereafter, we will limit ourselves to the case where the response variable is a **binary variable**.\n",
    "\n",
    "Thus, the response $y$ takes the value:\n",
    "\n",
    "  - 1 when a certain condition is met with probability $p$\n",
    "  - 0 with probability $1 - p$ when the condition is not met\n",
    "  \n",
    "The probability $p$ is often denoted as the **\"odds\".**\n",
    "\n",
    "In logistic regression, the odds are estimated using a framework which incorporates linear regression. This framework can be mathematically formulated as follows:\n",
    "\n",
    "$$\\text{Logit}(p_i) = \\beta_0 + \\beta_1 x_{1,i} + \\beta_2 x_{2,i} + \\ldots + \\beta_k x_{k,i}$$\n",
    "\n",
    "\n",
    "where:\n",
    "\n",
    "  - $p$ denotes the **odds** that $y$ will take on value 1\n",
    "  - $x_{1, i}, x_{2, i},\\ldots, x_{k, i}$ are the $i$-th values of the predictors (can be categorical or numerical)\n",
    "  - $\\beta_0$ is the intercept and $\\beta_1, \\beta_2, \\ldots, \\beta_k$ are the regression coefficients\n",
    "  - $\\text{Logit}$, or sometimes also called log-odds, is **the link function** that transforms output of the linear regression into odds:\n",
    "  \n",
    "  $$\\text{Logit}\\,(p) = ln \\frac{p}{1 - p(x)}$$\n",
    "  \n",
    "  \n",
    "from which we obtain:\n",
    "  \n",
    "  $$p = \\frac{1}{1 + e^{\\,\\text{Logit}(p)}}$$\n",
    "\n",
    "\n",
    "Estimates of the actual values of $y$ are derived as follows:\n",
    "\n",
    "\\begin{equation}\n",
    "  \\hat{y}_i =\n",
    "  \\begin{cases}\n",
    "    1 & \\text{if $p_i > p_{th}$}\\,, \\\\\n",
    "    0 & \\text{otherwise}\n",
    "  \\end{cases}\n",
    "\\end{equation}\n",
    "\n",
    "Where $p_{th}$ is the **discrimination threshold**. Most implementations of logistic regression use a default discrimination threshold equal to $0.5$.\n",
    "\n",
    "**NOTE:** A key reason why logistic regression requires the link function is that linear models require the residuals to be normally distributed. Thus, applying linear regression directly to estimate the odds $p$ is not possible."
   ]
  },
  {
   "cell_type": "markdown",
   "metadata": {},
   "source": [
    "A more straightforward interpretation is that logistic regression consists of the application of linear regression to predict the value of a variable $y'$, called a **latent variable**:\n",
    "\n",
    "$$y' = \\beta_0 + \\beta_1 x_{1,i} + \\beta_2 x_{2,i} + \\ldots + \\beta_k x_{k,i}$$\n",
    "\n",
    "\n",
    "which is in turn is used to estimate $y$ by applying the following:\n",
    "\n",
    "\\begin{equation}\n",
    "  \\hat{y}_i =\n",
    "  \\begin{cases}\n",
    "    1 & \\text{if $y'_i > y'_{th}$}\\,, \\\\\n",
    "    0 & \\text{otherwise}\n",
    "  \\end{cases}\n",
    "\\end{equation}\n",
    "\n",
    "or, even simpler:\n",
    "\n",
    "\\begin{equation}\n",
    "  \\hat{y}_i =\n",
    "  \\begin{cases}\n",
    "    1 & \\text{if $\\beta_0 + \\beta_1 x_{1,i} + \\beta_2 x_{2,i} + \\ldots + \\beta_k x_{k,i} > y'_{th}$}\\,, \\\\\n",
    "    0 & \\text{otherwise}\n",
    "  \\end{cases}\n",
    "\\end{equation}\n",
    "\n",
    "where $y'_{th}$ is the discrimination threshold of the latent variable $y'$."
   ]
  },
  {
   "cell_type": "markdown",
   "metadata": {},
   "source": [
    "## Visual interpretation"
   ]
  },
  {
   "attachments": {
    "logit_function_modif.png": {
     "image/png": "[encoded data removed]"
    }
   },
   "cell_type": "markdown",
   "metadata": {},
   "source": [
    "The figure below shows the association between the odds $p$ and the logit function of odds, $\\text{Logit}\\,(p)$. The association between the two is a monotonically increasing sigmoid curve with an inflection point located at ($p = 0.5$, $\\text{Logit}\\,(p) = 0$). When the odds are greater than $0.5$, values of $\\text{Logit}\\,(p)$ are positive and the predicted response is $\\widehat{y} = 1$. Conversely, when the odds are lower than $0.5$, values of $\\text{Logit}\\,(p)$ are negative and the predicted response is $\\widehat{y} = 0$.\n",
    "\n",
    "![logit_function_modif.png](attachment:logit_function_modif.png \"Visual interpretation\")\n",
    "\n",
    "**Image Source**: Diez et al (2015)"
   ]
  },
  {
   "cell_type": "markdown",
   "metadata": {},
   "source": [
    "## Underlying assumptions"
   ]
  },
  {
   "cell_type": "markdown",
   "metadata": {},
   "source": [
    "Logistic regression is based on **a different set of assumptions** about the relationship between dependent and independent variables than those of linear regression. Some differences between the two methods are obvious, and stem from the distinct nature of the response variable. These include:\n",
    "\n",
    " - **No requirement of linearity** of the relationship between the response and predictor\n",
    " \n",
    " \n",
    " - **No requirement of homoskedasticity** of the response variable\n",
    "\n",
    "Other key differences in the underlying assumptions, which are less obvious include:\n",
    "\n",
    "  - The distribution of $\\theta$ is **a Bernoulli distribution**, rather than a Gaussian (normal) distribution\n",
    "  \n",
    "  \n",
    "  - Logistic regression makes **no particular assumptions about the distribution of the model residuals**\n",
    "  \n",
    "On the other hand, some other assumptions of linear regression hold here too:\n",
    "\n",
    "  - Logistic regression requires the observations to be **independent** of each other\n",
    "  \n",
    "  \n",
    "  - Logistic regression requires there to be little or **no multicollinearity** among the independent variables\n",
    "  \n",
    "For more on multicollinearity, see Multicollinearity, (n.d.): https://en.wikipedia.org/wiki/Multicollinearity"
   ]
  },
  {
   "cell_type": "markdown",
   "metadata": {},
   "source": [
    "## Fitting the logistic regression model"
   ]
  },
  {
   "cell_type": "markdown",
   "metadata": {},
   "source": [
    "There is a substantial difference between the methods used to fit linear and logistic regression models: \n",
    "\n",
    "  - For linear regression, the model parameters are estimated by minimizing the sum of squares of model residuals.\n",
    "  \n",
    "  \n",
    "  - However, for logistic regression, the model parameters are estimated by **maximizing the probability of obtaining the set of observations of binary response $y$**, given the parameter estimates. \n",
    "    \n",
    "This latter procedure is called **maximum likelihood estimation**. If you are interested, its thorough explanation can be found here (Weisstein, E. W., 2018): http://mathworld.wolfram.com/MaximumLikelihood.html. Its application to fitting logistic regression models is further described here (Czepiel, S.A., 1999): https://czep.net/stat/mlelr.html."
   ]
  },
  {
   "cell_type": "markdown",
   "metadata": {},
   "source": [
    "### Newton method\n",
    "\n",
    "The **Newton method** is typically used to estimate the model parameters. This method is an iterative process, which starts with a tentative solution (a set of initial parameter estimates of $\\beta$). These estimates are then improved by iteratively applying the following steps:\n",
    "\n",
    "  1.  The solution is revised slightly, to test if it can be improved.<br><br>\n",
    "  \n",
    "  2.  If it has improved, the revised solution is adopted as a candidate solution, replacing the previous one.\n",
    "  \n",
    "This process is repeated until no more improvement is made, at which point the process is said to have converged. The resulting set of parameter estimates is called **optimal**.\n",
    "\n",
    "There are two **important practical consequences** of this approach:\n",
    "\n",
    "  1. Estimation of logistic regression parameters is typically fairly slow (i.e. requires much more computational time than linear regression).<br><br>\n",
    "  \n",
    "  2. Accurate estimation of logistic regression parameters requires a larger number of observations than linear regression. **The rule of ten** states (without any scientific rigor) that logistic regression models require a minimum of about 10 observations per predictor variable."
   ]
  },
  {
   "cell_type": "markdown",
   "metadata": {},
   "source": [
    "**EXERCISE 1**\n",
    "\n",
    "With the dataset provided in the file `ucla_binary.csv`, use logistic regression to estimate whether a student will be admitted to university using the **student's GPA** and **GRE score** along with the **rank** indicating the prestige of the student's undergraduate institution."
   ]
  },
  {
   "cell_type": "code",
   "execution_count": 1,
   "metadata": {},
   "outputs": [],
   "source": [
    "# Import libraries\n",
    "import pandas as pd\n",
    "import numpy as np\n",
    "import matplotlib.pyplot as plt\n",
    "\n"
   ]
  },
  {
   "cell_type": "code",
   "execution_count": 2,
   "metadata": {},
   "outputs": [],
   "source": [
    "# And some functions we will need\n",
    "from statsmodels.discrete.discrete_model import Logit\n",
    "from scipy.special import logit"
   ]
  },
  {
   "cell_type": "code",
   "execution_count": 3,
   "metadata": {},
   "outputs": [],
   "source": [
    "# Read the data\n",
    "df = pd.read_csv(\"./module08/ucla_binary.csv\")\n"
   ]
  },
  {
   "cell_type": "code",
   "execution_count": 4,
   "metadata": {},
   "outputs": [],
   "source": [
    "# Your work here"
   ]
  },
  {
   "cell_type": "code",
   "execution_count": null,
   "metadata": {},
   "outputs": [],
   "source": []
  },
  {
   "cell_type": "code",
   "execution_count": null,
   "metadata": {},
   "outputs": [],
   "source": []
  },
  {
   "cell_type": "markdown",
   "metadata": {},
   "source": [
    "**Solution**"
   ]
  },
  {
   "cell_type": "code",
   "execution_count": null,
   "metadata": {},
   "outputs": [],
   "source": []
  },
  {
   "cell_type": "code",
   "execution_count": null,
   "metadata": {},
   "outputs": [],
   "source": []
  },
  {
   "cell_type": "code",
   "execution_count": null,
   "metadata": {},
   "outputs": [],
   "source": []
  },
  {
   "cell_type": "code",
   "execution_count": 5,
   "metadata": {},
   "outputs": [
    {
     "data": {
      "text/html": [
       "<div>\n",
       "<style scoped>\n",
       "    .dataframe tbody tr th:only-of-type {\n",
       "        vertical-align: middle;\n",
       "    }\n",
       "\n",
       "    .dataframe tbody tr th {\n",
       "        vertical-align: top;\n",
       "    }\n",
       "\n",
       "    .dataframe thead th {\n",
       "        text-align: right;\n",
       "    }\n",
       "</style>\n",
       "<table border=\"1\" class=\"dataframe\">\n",
       "  <thead>\n",
       "    <tr style=\"text-align: right;\">\n",
       "      <th></th>\n",
       "      <th>admit</th>\n",
       "      <th>gre</th>\n",
       "      <th>gpa</th>\n",
       "      <th>rank</th>\n",
       "    </tr>\n",
       "  </thead>\n",
       "  <tbody>\n",
       "    <tr>\n",
       "      <th>0</th>\n",
       "      <td>0</td>\n",
       "      <td>380</td>\n",
       "      <td>3.61</td>\n",
       "      <td>3</td>\n",
       "    </tr>\n",
       "    <tr>\n",
       "      <th>1</th>\n",
       "      <td>1</td>\n",
       "      <td>660</td>\n",
       "      <td>3.67</td>\n",
       "      <td>3</td>\n",
       "    </tr>\n",
       "    <tr>\n",
       "      <th>2</th>\n",
       "      <td>1</td>\n",
       "      <td>800</td>\n",
       "      <td>4.00</td>\n",
       "      <td>1</td>\n",
       "    </tr>\n",
       "    <tr>\n",
       "      <th>3</th>\n",
       "      <td>1</td>\n",
       "      <td>640</td>\n",
       "      <td>3.19</td>\n",
       "      <td>4</td>\n",
       "    </tr>\n",
       "    <tr>\n",
       "      <th>4</th>\n",
       "      <td>0</td>\n",
       "      <td>520</td>\n",
       "      <td>2.93</td>\n",
       "      <td>4</td>\n",
       "    </tr>\n",
       "  </tbody>\n",
       "</table>\n",
       "</div>"
      ],
      "text/plain": [
       "   admit  gre   gpa  rank\n",
       "0      0  380  3.61     3\n",
       "1      1  660  3.67     3\n",
       "2      1  800  4.00     1\n",
       "3      1  640  3.19     4\n",
       "4      0  520  2.93     4"
      ]
     },
     "execution_count": 5,
     "metadata": {},
     "output_type": "execute_result"
    }
   ],
   "source": [
    "# Let's take a look on the first few rows\n",
    "df.head()"
   ]
  },
  {
   "cell_type": "code",
   "execution_count": 6,
   "metadata": {},
   "outputs": [
    {
     "data": {
      "text/html": [
       "<div>\n",
       "<style scoped>\n",
       "    .dataframe tbody tr th:only-of-type {\n",
       "        vertical-align: middle;\n",
       "    }\n",
       "\n",
       "    .dataframe tbody tr th {\n",
       "        vertical-align: top;\n",
       "    }\n",
       "\n",
       "    .dataframe thead th {\n",
       "        text-align: right;\n",
       "    }\n",
       "</style>\n",
       "<table border=\"1\" class=\"dataframe\">\n",
       "  <thead>\n",
       "    <tr style=\"text-align: right;\">\n",
       "      <th></th>\n",
       "      <th>admit</th>\n",
       "      <th>gre</th>\n",
       "      <th>gpa</th>\n",
       "      <th>rank</th>\n",
       "    </tr>\n",
       "  </thead>\n",
       "  <tbody>\n",
       "    <tr>\n",
       "      <th>count</th>\n",
       "      <td>400.000000</td>\n",
       "      <td>400.000000</td>\n",
       "      <td>400.000000</td>\n",
       "      <td>400.00000</td>\n",
       "    </tr>\n",
       "    <tr>\n",
       "      <th>mean</th>\n",
       "      <td>0.317500</td>\n",
       "      <td>587.700000</td>\n",
       "      <td>3.389900</td>\n",
       "      <td>2.48500</td>\n",
       "    </tr>\n",
       "    <tr>\n",
       "      <th>std</th>\n",
       "      <td>0.466087</td>\n",
       "      <td>115.516536</td>\n",
       "      <td>0.380567</td>\n",
       "      <td>0.94446</td>\n",
       "    </tr>\n",
       "    <tr>\n",
       "      <th>min</th>\n",
       "      <td>0.000000</td>\n",
       "      <td>220.000000</td>\n",
       "      <td>2.260000</td>\n",
       "      <td>1.00000</td>\n",
       "    </tr>\n",
       "    <tr>\n",
       "      <th>25%</th>\n",
       "      <td>0.000000</td>\n",
       "      <td>520.000000</td>\n",
       "      <td>3.130000</td>\n",
       "      <td>2.00000</td>\n",
       "    </tr>\n",
       "    <tr>\n",
       "      <th>50%</th>\n",
       "      <td>0.000000</td>\n",
       "      <td>580.000000</td>\n",
       "      <td>3.395000</td>\n",
       "      <td>2.00000</td>\n",
       "    </tr>\n",
       "    <tr>\n",
       "      <th>75%</th>\n",
       "      <td>1.000000</td>\n",
       "      <td>660.000000</td>\n",
       "      <td>3.670000</td>\n",
       "      <td>3.00000</td>\n",
       "    </tr>\n",
       "    <tr>\n",
       "      <th>max</th>\n",
       "      <td>1.000000</td>\n",
       "      <td>800.000000</td>\n",
       "      <td>4.000000</td>\n",
       "      <td>4.00000</td>\n",
       "    </tr>\n",
       "  </tbody>\n",
       "</table>\n",
       "</div>"
      ],
      "text/plain": [
       "            admit         gre         gpa       rank\n",
       "count  400.000000  400.000000  400.000000  400.00000\n",
       "mean     0.317500  587.700000    3.389900    2.48500\n",
       "std      0.466087  115.516536    0.380567    0.94446\n",
       "min      0.000000  220.000000    2.260000    1.00000\n",
       "25%      0.000000  520.000000    3.130000    2.00000\n",
       "50%      0.000000  580.000000    3.395000    2.00000\n",
       "75%      1.000000  660.000000    3.670000    3.00000\n",
       "max      1.000000  800.000000    4.000000    4.00000"
      ]
     },
     "execution_count": 6,
     "metadata": {},
     "output_type": "execute_result"
    }
   ],
   "source": [
    "# Let's take a look at the statistics across individual columns\n",
    "df.describe()"
   ]
  },
  {
   "cell_type": "code",
   "execution_count": 7,
   "metadata": {},
   "outputs": [
    {
     "data": {
      "image/png": "[encoded data removed]",
      "text/plain": [
       "<Figure size 504x360 with 4 Axes>"
      ]
     },
     "metadata": {
      "needs_background": "light"
     },
     "output_type": "display_data"
    }
   ],
   "source": [
    "# Plot the histograms of the individual columns\n",
    "df.hist(figsize=(7,5))\n",
    "plt.show()"
   ]
  },
  {
   "cell_type": "markdown",
   "metadata": {},
   "source": [
    "Rank is an ordinal variable. Here, we will convert to a set of dummies which will be used as a predictors in our logistic regression model."
   ]
  },
  {
   "cell_type": "code",
   "execution_count": 8,
   "metadata": {},
   "outputs": [],
   "source": [
    "dummy_ranks = pd.get_dummies(df['rank'], prefix='rank')\n",
    "df = df.join(dummy_ranks)"
   ]
  },
  {
   "cell_type": "markdown",
   "metadata": {},
   "source": [
    "Now we can fit the model."
   ]
  },
  {
   "cell_type": "code",
   "execution_count": 9,
   "metadata": {},
   "outputs": [
    {
     "name": "stdout",
     "output_type": "stream",
     "text": [
      "Optimization terminated successfully.\n",
      "         Current function value: 0.573147\n",
      "         Iterations 6\n"
     ]
    }
   ],
   "source": [
    "# Fit the model\n",
    "predictors = ['gpa', 'gre', 'rank_1', 'rank_2', 'rank_3', 'rank_4']\n",
    "m = Logit(df['admit'], df[predictors])\n",
    "m = m.fit()"
   ]
  },
  {
   "cell_type": "markdown",
   "metadata": {},
   "source": [
    "Let's take a look at the resulting regression parameters."
   ]
  },
  {
   "cell_type": "code",
   "execution_count": 10,
   "metadata": {},
   "outputs": [
    {
     "data": {
      "text/plain": [
       "gpa       0.804038\n",
       "gre       0.002264\n",
       "rank_1   -3.989979\n",
       "rank_2   -4.665422\n",
       "rank_3   -5.330183\n",
       "rank_4   -5.541443\n",
       "dtype: float64"
      ]
     },
     "execution_count": 10,
     "metadata": {},
     "output_type": "execute_result"
    }
   ],
   "source": [
    "m.params"
   ]
  },
  {
   "cell_type": "markdown",
   "metadata": {},
   "source": [
    "And, let's take a look at the model summary. We will discuss the meaning of these values later."
   ]
  },
  {
   "cell_type": "code",
   "execution_count": 11,
   "metadata": {},
   "outputs": [
    {
     "name": "stdout",
     "output_type": "stream",
     "text": [
      "                         Results: Logit\n",
      "=================================================================\n",
      "Model:              Logit            Pseudo R-squared: 0.083     \n",
      "Dependent Variable: admit            AIC:              470.5175  \n",
      "Date:               2019-05-01 10:39 BIC:              494.4663  \n",
      "No. Observations:   400              Log-Likelihood:   -229.26   \n",
      "Df Model:           5                LL-Null:          -249.99   \n",
      "Df Residuals:       394              LLR p-value:      7.5782e-08\n",
      "Converged:          1.0000           Scale:            1.0000    \n",
      "No. Iterations:     6.0000                                       \n",
      "-------------------------------------------------------------------\n",
      "           Coef.    Std.Err.      z      P>|z|     [0.025    0.975]\n",
      "-------------------------------------------------------------------\n",
      "gpa        0.8040     0.3318    2.4231   0.0154    0.1537    1.4544\n",
      "gre        0.0023     0.0011    2.0699   0.0385    0.0001    0.0044\n",
      "rank_1    -3.9900     1.1400   -3.5001   0.0005   -6.2242   -1.7557\n",
      "rank_2    -4.6654     1.1094   -4.2055   0.0000   -6.8397   -2.4911\n",
      "rank_3    -5.3302     1.1495   -4.6368   0.0000   -7.5832   -3.0771\n",
      "rank_4    -5.5414     1.1381   -4.8691   0.0000   -7.7720   -3.3109\n",
      "=================================================================\n",
      "\n"
     ]
    }
   ],
   "source": [
    "print(m.summary2())"
   ]
  },
  {
   "cell_type": "markdown",
   "metadata": {},
   "source": [
    "Now, let's derive the estimates of the odds."
   ]
  },
  {
   "cell_type": "code",
   "execution_count": 12,
   "metadata": {},
   "outputs": [],
   "source": [
    "df.loc[:, 'p'] = m.predict(df[predictors])"
   ]
  },
  {
   "cell_type": "markdown",
   "metadata": {},
   "source": [
    "We can now plot the relationship between the values of $Logit(p)$ and the odds $p$ along with the actual values of the response (admission)."
   ]
  },
  {
   "cell_type": "code",
   "execution_count": 13,
   "metadata": {},
   "outputs": [
    {
     "data": {
      "image/png": "[encoded data removed]",
      "text/plain": [
       "<Figure size 432x288 with 1 Axes>"
      ]
     },
     "metadata": {
      "needs_background": "light"
     },
     "output_type": "display_data"
    }
   ],
   "source": [
    "df = df.sort_values(by = ['p'], axis = 0)\n",
    "plt.plot(logit(df.p), df.p, '--')\n",
    "plt.plot(logit(df.p), df.admit, '+')\n",
    "plt.xlabel('logit(p)')\n",
    "plt.ylabel('p')\n",
    "plt.show()"
   ]
  },
  {
   "cell_type": "markdown",
   "metadata": {},
   "source": [
    "We can also plot a boxplot to see the distribution of the estimated odds for both values of the actual response."
   ]
  },
  {
   "cell_type": "code",
   "execution_count": 14,
   "metadata": {},
   "outputs": [
    {
     "data": {
      "image/png": "[encoded data removed]",
      "text/plain": [
       "<Figure size 432x288 with 1 Axes>"
      ]
     },
     "metadata": {
      "needs_background": "light"
     },
     "output_type": "display_data"
    }
   ],
   "source": [
    "df.boxplot(column='p', by = 'admit')\n",
    "plt.show()"
   ]
  },
  {
   "cell_type": "markdown",
   "metadata": {},
   "source": [
    "Now, we will derive the binary estimates $\\hat{y}$ of the response $y$."
   ]
  },
  {
   "cell_type": "code",
   "execution_count": 15,
   "metadata": {},
   "outputs": [
    {
     "data": {
      "text/plain": [
       "0    351\n",
       "1     49\n",
       "Name: yhat, dtype: int64"
      ]
     },
     "execution_count": 15,
     "metadata": {},
     "output_type": "execute_result"
    }
   ],
   "source": [
    "df.loc[:, 'yhat'] = (df.p > 0.5) * 1\n",
    "df.yhat.value_counts()"
   ]
  },
  {
   "cell_type": "markdown",
   "metadata": {},
   "source": [
    "Finally, we can create a **confusion matrix** (discussed in a later section) to see how well our estimates match the actual values."
   ]
  },
  {
   "cell_type": "code",
   "execution_count": 16,
   "metadata": {},
   "outputs": [
    {
     "data": {
      "text/html": [
       "<div>\n",
       "<style scoped>\n",
       "    .dataframe tbody tr th:only-of-type {\n",
       "        vertical-align: middle;\n",
       "    }\n",
       "\n",
       "    .dataframe tbody tr th {\n",
       "        vertical-align: top;\n",
       "    }\n",
       "\n",
       "    .dataframe thead th {\n",
       "        text-align: right;\n",
       "    }\n",
       "</style>\n",
       "<table border=\"1\" class=\"dataframe\">\n",
       "  <thead>\n",
       "    <tr style=\"text-align: right;\">\n",
       "      <th>yhat</th>\n",
       "      <th>0</th>\n",
       "      <th>1</th>\n",
       "    </tr>\n",
       "    <tr>\n",
       "      <th>admit</th>\n",
       "      <th></th>\n",
       "      <th></th>\n",
       "    </tr>\n",
       "  </thead>\n",
       "  <tbody>\n",
       "    <tr>\n",
       "      <th>0</th>\n",
       "      <td>254</td>\n",
       "      <td>19</td>\n",
       "    </tr>\n",
       "    <tr>\n",
       "      <th>1</th>\n",
       "      <td>97</td>\n",
       "      <td>30</td>\n",
       "    </tr>\n",
       "  </tbody>\n",
       "</table>\n",
       "</div>"
      ],
      "text/plain": [
       "yhat     0   1\n",
       "admit         \n",
       "0      254  19\n",
       "1       97  30"
      ]
     },
     "execution_count": 16,
     "metadata": {},
     "output_type": "execute_result"
    }
   ],
   "source": [
    "pd.crosstab(df.admit, df.yhat)"
   ]
  },
  {
   "cell_type": "markdown",
   "metadata": {},
   "source": [
    "In the confusion matrix above, we see that we have 254 cases where the student was correctly estimated to be not admitted and 30 cases where the student was correctly estimated to be admitted. The remaining 97 + 19 estimates were incorrect."
   ]
  },
  {
   "cell_type": "code",
   "execution_count": 17,
   "metadata": {},
   "outputs": [
    {
     "data": {
      "text/plain": [
       "array([[254.,  19.],\n",
       "       [ 97.,  30.]])"
      ]
     },
     "execution_count": 17,
     "metadata": {},
     "output_type": "execute_result"
    }
   ],
   "source": [
    "# More straightforward way\n",
    "m.pred_table()"
   ]
  },
  {
   "cell_type": "markdown",
   "metadata": {},
   "source": [
    "# Understanding Regression Output"
   ]
  },
  {
   "cell_type": "markdown",
   "metadata": {},
   "source": [
    "Similar to linear regression, most software packages provide a standardized summary for logistic regression analysis. This summary typically contains several measures for evaluating regression, and is similar to summaries for linear regression (discussed in the previous module). However, there are several notable differences. Let's take a look at them."
   ]
  },
  {
   "cell_type": "markdown",
   "metadata": {},
   "source": [
    "We will print the summary of the model from the previous exercise."
   ]
  },
  {
   "cell_type": "code",
   "execution_count": 18,
   "metadata": {},
   "outputs": [
    {
     "name": "stdout",
     "output_type": "stream",
     "text": [
      "                         Results: Logit\n",
      "=================================================================\n",
      "Model:              Logit            Pseudo R-squared: 0.083     \n",
      "Dependent Variable: admit            AIC:              470.5175  \n",
      "Date:               2019-05-01 10:40 BIC:              494.4663  \n",
      "No. Observations:   400              Log-Likelihood:   -229.26   \n",
      "Df Model:           5                LL-Null:          -249.99   \n",
      "Df Residuals:       394              LLR p-value:      7.5782e-08\n",
      "Converged:          1.0000           Scale:            1.0000    \n",
      "No. Iterations:     6.0000                                       \n",
      "-------------------------------------------------------------------\n",
      "           Coef.    Std.Err.      z      P>|z|     [0.025    0.975]\n",
      "-------------------------------------------------------------------\n",
      "gpa        0.8040     0.3318    2.4231   0.0154    0.1537    1.4544\n",
      "gre        0.0023     0.0011    2.0699   0.0385    0.0001    0.0044\n",
      "rank_1    -3.9900     1.1400   -3.5001   0.0005   -6.2242   -1.7557\n",
      "rank_2    -4.6654     1.1094   -4.2055   0.0000   -6.8397   -2.4911\n",
      "rank_3    -5.3302     1.1495   -4.6368   0.0000   -7.5832   -3.0771\n",
      "rank_4    -5.5414     1.1381   -4.8691   0.0000   -7.7720   -3.3109\n",
      "=================================================================\n",
      "\n"
     ]
    }
   ],
   "source": [
    "print (m.summary2())"
   ]
  },
  {
   "cell_type": "markdown",
   "metadata": {},
   "source": [
    "- **Converged** indicates whether the solver &mdash; the algorithm used to find the regression parameters (per default it is the Newton method) &mdash; converged successfully. Essentially, it indicates whether the regression analysis was successful or not.\n",
    "\n",
    "\n",
    "- **No. Iterations** is the number of iterations the solver performed to find the solution.\n",
    "\n",
    "\n",
    "- **Pseudo R-squared** is one of the measures for assessing the model quality. For more details, see the following section.\n",
    "\n",
    "\n",
    "- **LL-null** is the log-likelihood of the null model &mdash; i.e. the model without predictors, where $\\text{logit}(p) = \\beta_0$. \n",
    "\n",
    "\n",
    "- **Scale** is the scale parameter for the covariance matrix. For more details see Rodríguez, G. (2007): http://data.princeton.edu/wws509/notes/c3.pdf\n",
    "\n",
    "\n",
    "- **z** is the value of the **z-statistic**, which is calculated as:\n",
    " \n",
    " $$z_{\\hat{\\beta}} = \\frac{\\hat{\\beta} - \\beta_0}{s.e.(\\hat{\\beta})}$$\n",
    " \n",
    " \n",
    "where $\\beta_0$ is the null value against which we are testing the coefficient estimate. In this case (and in most cases) it is equal to zero.\n",
    " \n",
    " \n",
    "- **P > $|$z$|$** is the p-value associated with the given parameter &mdash; i.e. the probability that the true value of the given regression parameter is equal to the null value, given the set of observations."
   ]
  },
  {
   "cell_type": "markdown",
   "metadata": {},
   "source": [
    "# Evaluation of the Logistic Regression Model"
   ]
  },
  {
   "cell_type": "markdown",
   "metadata": {},
   "source": [
    "The response in logistic regression is a categorical variable, which means that $R^2$ and $\\text{RMSE}$ are of no use here. When evaluating logistic regression models, we want to assess how well the estimates for $\\hat{y}$ match the actual values of $y$.\n",
    "\n",
    "Here, we describe several measures for evaluating logistic regression. Many of these are the subject of a much broader topic, know as **evaluation of binary classifiers**. \n",
    "\n",
    "**NOTE:** There are numerous other measures and approaches used to assess logistic regression."
   ]
  },
  {
   "cell_type": "markdown",
   "metadata": {},
   "source": [
    "## Pseudo R-squared\n",
    "\n",
    "Analogous to the coefficient of determination $R^2$ for linear regression that measures the amount of variance captured by the model, logistic regression can be evaluated by a pseudo $R^2$. The word pseudo here is meant to highlight the fact that it is not an actual fraction of variance. There is currently no agreement upon how to formulate the best analogous measure of $R^2$ for logistic regression analysis. Therefore, there are multiple competing measures, commonly referred as a pseudo $R^2$.\n",
    "\n",
    "Here are three common approaches for calculating pseudo R-squared:\n",
    "\n",
    "\n",
    "| **Name** | **Formula** | **Notes** |\n",
    "| :---: | :--- | :--- |\n",
    "| Efron's $R^2$ | $$R^2 = 1 - \\frac{\\sum_i^N (y_i - p_i)^2}{\\sum_i^N (y_i - \\bar{y})^2}$$ |<ul><li>$y_i$ is the actual value of the $i$-th response</li><li>$\\bar{y}$ is the mean of the response (i.e. fraction of y = 1)</li><li>$N$ is the number of observations</li><li>$p_i$ is the predicted odds of the $i$-th response</li></ul> |\n",
    "| Cox and Snell's $R^2$ | $$R^2 = 1 - \\Bigg(\\frac{L_M}{L_0}\\Bigg)^{\\frac{2}{n}}$$ | <ul><li>$L_M$ is the log-likelihood of the actual model</li><li>$L_0$ is the log-likelihood of the null model</li></ul> |\n",
    "| McFaddend's $R^2$ | $$R^2 = 1 - \\Bigg(\\frac{\\text{ln}(L_M)}{\\text{ln}(L_0)}\\Bigg)$$ | <ul><li>$L_M$ is the log-likelihood of the actual model</li><li>$L_0$ is the log-likelihood of the null model</li><ul> |\n"
   ]
  },
  {
   "cell_type": "markdown",
   "metadata": {},
   "source": [
    "## Confusion matrix\n",
    "\n",
    "A **confusion matrix** is a matrix comprised of two rows and two columns:\n",
    "\n",
    "Values|$$\\mathbf{\\hat{y} = 0}$$|$$\\mathbf{\\hat{y} = 1}$$|\n",
    ":---:|:---:|:---:|\n",
    "$$\\mathbf{y = 0}$$|**TN**|**FP**|\n",
    "$$\\mathbf{y = 1}$$|**FN**|**TP**|\n",
    "\n",
    "where:\n",
    "\n",
    "- **TP** (**true positives**) is the number of cases where both the estimated and actual value were equal to 1.\n",
    " \n",
    " \n",
    "- **FP** (**false positives**) is the number of cases where the estimated value was equal to 1, while the actual value was equal to 0.\n",
    " \n",
    " \n",
    "- **FN** (**false negatives**) is the number of cases where the estimated value was equal to 0, while the actual value was equal to 1.\n",
    " \n",
    " \n",
    "- **TN**  (**true negatives**) is the number of cases where both the estimated and actual value were equal to 0.\n",
    " \n",
    "An example of a true positive case could be a spam email that was correctly moved to a spam box by the filtering algorithm. Similarly, a true negative case could be a regular email that was not moved to the spam box."
   ]
  },
  {
   "cell_type": "markdown",
   "metadata": {},
   "source": [
    "## Statistical accuracy \n",
    " \n",
    "Naturally, the better the model the greater number of true positives and true negatives, and the lower the number of false positives and false negatives. This idea can be embedded into the following formula:\n",
    "\n",
    "$$\\text{ACC} = \\frac{\\text{TP} + \\text{TN}}{\\text{TP} + \\text{FP} + \\text{FN} + \\text{TN}}$$\n",
    "\n",
    "\n",
    "which can be simplified to:\n",
    "\n",
    "$$\\text{ACC} = \\frac{\\text{TP} + \\text{TN}}{N}$$\n",
    "\n",
    "\n",
    "where:\n",
    "\n",
    " - ACC is the **statistical accuracy** of the model\n",
    " - TP and TN are the number of true positives and true negatives, respectively\n",
    " - FP and FN are the number of false positives and false negatives, respectively\n",
    " - N is the total number of observations\n",
    " \n",
    "The statistical accuracy, or simply the **accuracy** of the logistic regression, is the most prominent measure for evaluation of logistic regression models. The value of accuracy ranges from 0 to 1, but accuracy is frequently reported as a percentage."
   ]
  },
  {
   "cell_type": "markdown",
   "metadata": {},
   "source": [
    "### A word of caution with statistical accuracy\n",
    "\n",
    "Accuracy can be a very misleading indicator of the logistic regression model if the number of positive ($y = 1$) and negative cases ($y = 0$) is highly unbalanced. Imagine a scenario where out of 100 cases only 5 are positive. Then, even the trivial regression model ($\\beta = 0$) whose estimates $\\widehat{y}$ are always equal to zero will achieve 95% accuracy."
   ]
  },
  {
   "cell_type": "markdown",
   "metadata": {},
   "source": [
    "## Matthews correlation coefficient (MCC)\n",
    "\n",
    "A common alternative to statistical accuracy is the **Matthews correlation coefficient (MCC)**, which is defined as:\n",
    "\n",
    "$$\\text{MCC} = \\frac{TP \\times TN - FP \\times FN}{\\sqrt{(TP + FP)(TP + FN)(TN + FP)(TN + FN)}}$$\n",
    "\n",
    "The advantage of MCC over ACC is its robustness against an unbalanced binary response $y$. Its disadvantage is that it is harder to interpret than ACC."
   ]
  },
  {
   "cell_type": "markdown",
   "metadata": {},
   "source": [
    "## Precision, recall, specificity and F-score\n",
    "\n",
    "Some additional measures to consider are:\n",
    "\n",
    "- **Precision** (also known as positive predictive value) is the fraction of correct estimates of the positive estimates:\n",
    "\n",
    "$$\\text{Precision} = \\frac{\\text{TP}}{\\text{TP} + \\text{FP}}$$\n",
    "\n",
    "\n",
    "- **Recall** (also known as the true positive rate, or **sensitivity**) is the fraction of correct estimates of the positive response:\n",
    "\n",
    "$$\\text{Recall} = \\frac{\\text{TP}}{\\text{TP} + \\text{FN}}$$\n",
    "\n",
    "\n",
    "- **Specificity** (also known as the true negative rate) is the fraction of correct estimates of the negative response:\n",
    "\n",
    "$$\\text{Specificity} = \\frac{\\text{TN}}{\\text{TN} + \\text{FP}}$$\n",
    "\n",
    "\n",
    "- **F1-score** (sometimes called F-measure, or Dice coefficient) is the harmonic mean of the precision and recall:\n",
    "\n",
    "$$F_1 = 2\\cdot\\frac{\\text{Precision}\\cdot\\text{Recall}}{\\text{Precision} + \\text{Recall}}$$\n",
    "\n",
    "\n",
    "In some cases, we may put more emphasis on either precision or recall, which can be done as follows:\n",
    "\n",
    "$$F_\\beta = (1 + \\beta^2)\\cdot\\frac{\\text{Precision}\\cdot\\text{Recall}}{\\beta^2 \\cdot\\text{Precision} + \\text{Recall}}$$\n",
    "\n",
    "\n",
    "where $\\beta$ (non-negative real value) is a weighting factor, which indicates how much importance we give recall over precision ($\\beta$ attaches $\\beta$ times as much importance to recall than precision).\n",
    "\n",
    "**NOTE:** Precision, recall and F-score require only true positives, false positives, and false negatives &mdash; but not true negatives. This limits their use to situations where we have certainty about the response being positive. This plays an important role in some applications, as we will see in the following example."
   ]
  },
  {
   "cell_type": "markdown",
   "metadata": {},
   "source": [
    "**Example**\n",
    "\n",
    "Imagine $y$ is a binary response indicating whether two chemicals react.\n",
    "\n",
    "- $y=1$ indicates that the reaction of the two chemicals was experimentally validated\n",
    "- $y=0$ indicates otherwise\n",
    "\n",
    "Here, we cannot be absolutely certain that the given chemicals **do not** react, as there is the possibility that they have never been tested.\n",
    "\n",
    "Thus, accuracy, and MCC, cannot be used here &mdash; they require a statistic about true negatives, which in this case cannot be obtained."
   ]
  },
  {
   "cell_type": "markdown",
   "metadata": {},
   "source": [
    "**EXERCISE 2**\n",
    "\n",
    "Evaluate the logistic regression model from the previous exercise using statistical accuracy, MCC, precision, recall, etc."
   ]
  },
  {
   "cell_type": "code",
   "execution_count": 19,
   "metadata": {},
   "outputs": [],
   "source": [
    "# Your work here"
   ]
  },
  {
   "cell_type": "code",
   "execution_count": null,
   "metadata": {},
   "outputs": [],
   "source": []
  },
  {
   "cell_type": "code",
   "execution_count": null,
   "metadata": {},
   "outputs": [],
   "source": []
  },
  {
   "cell_type": "code",
   "execution_count": null,
   "metadata": {},
   "outputs": [],
   "source": []
  },
  {
   "cell_type": "markdown",
   "metadata": {},
   "source": [
    "**Solution**\n",
    "\n",
    "Let's begin with the confusion matrix."
   ]
  },
  {
   "cell_type": "code",
   "execution_count": 20,
   "metadata": {},
   "outputs": [
    {
     "name": "stdout",
     "output_type": "stream",
     "text": [
      "[[254.  19.]\n",
      " [ 97.  30.]]\n"
     ]
    }
   ],
   "source": [
    "conf_mat = m.pred_table()\n",
    "print (conf_mat)"
   ]
  },
  {
   "cell_type": "markdown",
   "metadata": {},
   "source": [
    "Now we can extract the TP, FP, FN and TP."
   ]
  },
  {
   "cell_type": "code",
   "execution_count": 21,
   "metadata": {},
   "outputs": [
    {
     "name": "stdout",
     "output_type": "stream",
     "text": [
      "254.0 19.0 97.0 30.0\n"
     ]
    }
   ],
   "source": [
    "tn, fp, fn, tp = conf_mat.flatten()\n",
    "print (tn, fp, fn, tp)"
   ]
  },
  {
   "cell_type": "markdown",
   "metadata": {},
   "source": [
    "Finally, we can calculate the accuracy, MCC, etc."
   ]
  },
  {
   "cell_type": "code",
   "execution_count": 22,
   "metadata": {},
   "outputs": [
    {
     "name": "stdout",
     "output_type": "stream",
     "text": [
      "Accuraccy of the model is: 0.71\n"
     ]
    }
   ],
   "source": [
    "acc = (tp + tn) / np.sum(conf_mat)\n",
    "print (\"Accuraccy of the model is: %1.2f\" % acc)"
   ]
  },
  {
   "cell_type": "code",
   "execution_count": 23,
   "metadata": {},
   "outputs": [
    {
     "name": "stdout",
     "output_type": "stream",
     "text": [
      "Mathews correlation coefficient between the estimates and the true response is: 0.24\n"
     ]
    }
   ],
   "source": [
    "mcc = (tp * tn - fp * fn)/np.sqrt((tp + fp)*(tp + fn)*(tn + fp)*(tn + fn))\n",
    "print (\"Mathews correlation coefficient between the estimates and the true response is: %1.2f\" % mcc)"
   ]
  },
  {
   "cell_type": "code",
   "execution_count": 24,
   "metadata": {},
   "outputs": [
    {
     "name": "stdout",
     "output_type": "stream",
     "text": [
      "Model's precision is 0.61 and it's recall is 0.24\n"
     ]
    }
   ],
   "source": [
    "prc = tp / (tp + fp)\n",
    "rec = tp / (tp + fn)\n",
    "print (\"Model's precision is %1.2f and it's recall is %1.2f\" % (prc, rec))"
   ]
  },
  {
   "cell_type": "markdown",
   "metadata": {},
   "source": [
    "# Receiver Operating Characteristic"
   ]
  },
  {
   "cell_type": "markdown",
   "metadata": {},
   "source": [
    "The **Receiver Operating Characteristic (ROC)** is a graphical, yet very powerful tool for evaluating logistic regression models. An ROC plot illustrates the relationship between the **true positive rate (TPR)** (sensitivity) and the **false positive rate (FPR)** (1 - specificity) at various discrimination threshold settings.\n",
    "\n",
    "For each discrimination threshold, $d_{th}$, we will obtain a different set of estimates $\\widehat{y}$. Sequentially increasing the discrimination threshold from $0$ to $1$, we obtain an increasing fraction of $\\widehat{y} = 0$ estimates. For each set of estimates, we calculate the sensitivity and specificity. We can then plot the dependence of sensitivity on 1 - specificity. The resulting plot is referred to as the **Receiver Operating Characteristics** curve. \n",
    "\n",
    "Typically, the curve looks like the figure below &mdash; an arch bending above the identity line."
   ]
  },
  {
   "attachments": {
    "ROC_curve.png": {
     "image/png": "[encoded data removed]"
    }
   },
   "cell_type": "markdown",
   "metadata": {},
   "source": [
    "**Image Source**: Roccurves.png (2006) https://commons.wikimedia.org/wiki/File:Roccurves.png\n",
    "\n",
    "\n",
    "![ROC_curve.png](attachment:ROC_curve.png \"ROC curve\")\n"
   ]
  },
  {
   "cell_type": "markdown",
   "metadata": {},
   "source": [
    "Sensitivity and (1 - Specificity) define what is called an **ROC space**. The top-left corner of the ROC space is often referred to as the **error-free point**. This is the point at which both sensitivity and specificity would be equal to 1 (i.e. all the estimates would be correct, either true positives or true negatives), and there would be no false positives or negatives. In practice, no ROC curve can achieve the error-free point, but **the closer to the error-free point the ROC curve goes, the better the model.**\n",
    "\n",
    "  - A model that generates estimates at random is expected to produce an ROC curve identical to the identity line. \n",
    "  \n",
    "  \n",
    "  - A model that produces an ROC below the identity line is generating estimates that are worse than random. Estimates of such a consistently poor predictor could simply be inverted to obtain a good predictor.\n",
    "  \n",
    "There are various quantifying parameters summarizing the information comprised in the ROC. These include the **Area Under ROC Curve** and **Youden's J**."
   ]
  },
  {
   "cell_type": "markdown",
   "metadata": {},
   "source": [
    "## Area Under ROC Curve (AUROC)"
   ]
  },
  {
   "cell_type": "markdown",
   "metadata": {},
   "source": [
    "By calculating the integral of the ROC curve, we obtain what is called the **area under the receiver operating characteristics curve (AUROC)** &mdash; often abbreviated as **AUC** (area under curve, which is also known as c-statitics, or a-prime). \n",
    "\n",
    "The AUC is equal to the probability that a model will estimate a randomly chosen binary response better than a random estimator.\n",
    "\n",
    "The greater the AUC value, the better the model. \n",
    "\n",
    "  - A model whose estimates are generated at random is expected to result in $\\text{AUC} = 0.5$ (area under the identity line).\n",
    "  \n",
    "  \n",
    "  - A model that produces $\\text{AUC} < 0.5$ performs worse than a random estimator.\n",
    "  \n",
    "AUROC is a very powerful measure for evaluation of the discrimination ability of logistic regression models. Its advantage over the measures we've covered previously (MCC, Accuracy, etc.) stems from the fact that it is independent of the particular choice of discrimination threshold and evaluates the model's overall capacity to discriminate between positive and negative responses across all possible thresholds."
   ]
  },
  {
   "cell_type": "markdown",
   "metadata": {},
   "source": [
    "## Youden's J"
   ]
  },
  {
   "attachments": {
    "ROC_Curve_Youden_J.png": {
     "image/png": "[encoded data removed]"
    }
   },
   "cell_type": "markdown",
   "metadata": {},
   "source": [
    "The point on the ROC curve that is closest to the **error-free point** (0,1) is the point where the sum of sensitivity and specificity is maximal. Therefore, the discrimination threshold corresponding to that point is often considered to be the **optimal threshold**. The vertical distance between this point and the identity line is called **Youden's J**: \n",
    "\n",
    "**Image Source**: Roc Curve Youden J.png (2014), https://commons.wikimedia.org/wiki/File:ROC_Curve_Youden_J.png\n",
    "\n",
    "![ROC_Curve_Youden_J.png](attachment:ROC_Curve_Youden_J.png \"Youden J visualisation\")\n",
    "\n",
    "Youden's J is an important measure characterizing to what extent the sensitivity and specificity of the model can be maximized by optimal choice of the threshold. \n",
    "\n",
    "Mathematically, Youden's J can be expressed by means of sensitivity and specificity as follows:\n",
    "\n",
    "$$J = \\text{max}\\{\\text{sensitivity} + \\text{specificity} - 1\\}$$"
   ]
  },
  {
   "cell_type": "markdown",
   "metadata": {},
   "source": [
    "## Point of balance\n",
    "\n",
    "The intercept of the ROC curve with a diagonal line which goes from the top-left corner to the bottom-right corner, indicates the point of the ROC curve where specificity equals sensitivity, and is called the point of balance. The corresponding value of the discrimination threshold is also often considered optimal. The product of specificity and sensitivity is another important measure for evaluating a logistic regression model."
   ]
  },
  {
   "cell_type": "markdown",
   "metadata": {},
   "source": [
    "**EXERCISE 3**\n",
    "\n",
    "  - Generate receiver operating characteristics (ROC) of the logistic regression model from the previous exercises\n",
    "  - Calculate the area under the ROC curve\n",
    "  - Identify the point where the model's sensitivity is equal to its specificity\n",
    "  - Identify the point that maximizes the sum of sensitivity and specificity\n",
    "  - Identify the point corresponding to the default discrimination threshold ($d_{th} = 0.5$)"
   ]
  },
  {
   "cell_type": "code",
   "execution_count": 25,
   "metadata": {},
   "outputs": [],
   "source": [
    "# Your work here"
   ]
  },
  {
   "cell_type": "code",
   "execution_count": null,
   "metadata": {},
   "outputs": [],
   "source": []
  },
  {
   "cell_type": "code",
   "execution_count": null,
   "metadata": {},
   "outputs": [],
   "source": []
  },
  {
   "cell_type": "code",
   "execution_count": null,
   "metadata": {},
   "outputs": [],
   "source": []
  },
  {
   "cell_type": "markdown",
   "metadata": {},
   "source": [
    "**Solution**"
   ]
  },
  {
   "cell_type": "markdown",
   "metadata": {},
   "source": [
    "We will first generate the ROC curve. For the set of pre-specified discrimination thresholds, we will calculate sensitivity and specificity. \n",
    "\n",
    "We will also calculate the accuracy and MCC which we will use in the following exercise."
   ]
  },
  {
   "cell_type": "code",
   "execution_count": 26,
   "metadata": {},
   "outputs": [
    {
     "name": "stderr",
     "output_type": "stream",
     "text": [
      "/anaconda3/lib/python3.7/site-packages/ipykernel_launcher.py:24: RuntimeWarning: invalid value encountered in double_scalars\n"
     ]
    }
   ],
   "source": [
    "# Set discrimination thresholds\n",
    "ths = np.arange(0., 1.0, 0.025)\n",
    "\n",
    "# Containers\n",
    "sensitivity = []\n",
    "specificity = []\n",
    "accuracy = []\n",
    "matthews = []\n",
    "\n",
    "# Main loop\n",
    "for th in ths:\n",
    "    # Generate estimates\n",
    "    conf_mat = m.pred_table(threshold=th)\n",
    "    \n",
    "    # Extract TN, FP, ...\n",
    "    tn, fp, fn, tp = conf_mat.flatten()\n",
    "    \n",
    "    # Calculate sensitivity and specificity\n",
    "    sens = (1. * tp) / (tp + fn)\n",
    "    spec = (1. * tn) / (tn + fp)    \n",
    "    \n",
    "    # Calculate ACC and MCC\n",
    "    acc = (tp + tn) / np.sum(conf_mat)\n",
    "    mcc = (tp * tn - fp * fn)/np.sqrt((tp + fp)*(tp + fn)*(tn + fp)*(tn + fn))    \n",
    "\n",
    "    # Add to containers\n",
    "    sensitivity.append(sens)\n",
    "    specificity.append(spec)\n",
    "    accuracy.append(acc)\n",
    "    matthews.append(mcc)"
   ]
  },
  {
   "cell_type": "code",
   "execution_count": 27,
   "metadata": {},
   "outputs": [],
   "source": [
    "# Bind all the numbers together\n",
    "roc = pd.DataFrame({'discret_thr' : ths, \n",
    "                    'sensitivity' : sensitivity, \n",
    "                    'specificity' : specificity,\n",
    "                    '_specificity' : [1 - x for x in specificity],\n",
    "                    'accuracy' : accuracy, \n",
    "                    'matthews' : matthews})\n",
    "\n",
    "# Sort by 1 - specificity so we can plot it easily\n",
    "roc = roc.sort_values(by = \"_specificity\")"
   ]
  },
  {
   "cell_type": "markdown",
   "metadata": {},
   "source": [
    "Now we can plot the ROC curve."
   ]
  },
  {
   "cell_type": "code",
   "execution_count": 28,
   "metadata": {},
   "outputs": [
    {
     "data": {
      "text/plain": [
       "<matplotlib.legend.Legend at 0x1a1b5945f8>"
      ]
     },
     "execution_count": 28,
     "metadata": {},
     "output_type": "execute_result"
    },
    {
     "data": {
      "image/png": "[encoded data removed]",
      "text/plain": [
       "<Figure size 432x288 with 1 Axes>"
      ]
     },
     "metadata": {
      "needs_background": "light"
     },
     "output_type": "display_data"
    }
   ],
   "source": [
    "plt.plot(roc._specificity, roc.sensitivity, label = 'ROC')\n",
    "plt.plot(np.arange(0., 1., 0.01), \n",
    "         np.arange(0., 1., 0.01), \n",
    "         '--')\n",
    "\n",
    "plt.legend(loc = 4)"
   ]
  },
  {
   "cell_type": "markdown",
   "metadata": {},
   "source": [
    "We will calculate the AUC, by integrating the sensitivity as a function of 1 - specificity."
   ]
  },
  {
   "cell_type": "code",
   "execution_count": 29,
   "metadata": {},
   "outputs": [
    {
     "name": "stdout",
     "output_type": "stream",
     "text": [
      "Area under ROC curve = 0.69\n"
     ]
    }
   ],
   "source": [
    "auc = np.trapz(y = roc.sensitivity, x = roc._specificity)\n",
    "print (\"Area under ROC curve = %1.2f\" % auc)"
   ]
  },
  {
   "cell_type": "markdown",
   "metadata": {},
   "source": [
    "We can now identify the threshold corresponding to the balanced sensitivity and specificity. "
   ]
  },
  {
   "cell_type": "code",
   "execution_count": 30,
   "metadata": {},
   "outputs": [
    {
     "name": "stderr",
     "output_type": "stream",
     "text": [
      "/anaconda3/lib/python3.7/site-packages/numpy/core/fromnumeric.py:51: FutureWarning: 'argmax' is deprecated, use 'idxmax' instead. The behavior of 'argmax'\n",
      "will be corrected to return the positional maximum in the future.\n",
      "Use 'series.values.argmax' to get the position of the maximum now.\n",
      "  return getattr(obj, method)(*args, **kwds)\n",
      "/anaconda3/lib/python3.7/site-packages/numpy/core/fromnumeric.py:51: FutureWarning: 'argmin' is deprecated, use 'idxmin' instead. The behavior of 'argmin'\n",
      "will be corrected to return the positional minimum in the future.\n",
      "Use 'series.values.argmin' to get the position of the minimum now.\n",
      "  return getattr(obj, method)(*args, **kwds)\n"
     ]
    }
   ],
   "source": [
    "# Where threshold equal 0.5\n",
    "idx_default_th = np.where(roc.discret_thr == 0.5)[0][0]\n",
    "\n",
    "# Max sum of spec and sens\n",
    "idx_youdensj = np.argmax(roc.sensitivity + roc.specificity)\n",
    "\n",
    " # Balanced spec and sens\n",
    "idx_ballance = np.argmin(np.abs(roc.sensitivity - roc.specificity))"
   ]
  },
  {
   "cell_type": "markdown",
   "metadata": {},
   "source": [
    "Now we will highlight the point corresponding to the selected thresholds within the ROC curve."
   ]
  },
  {
   "cell_type": "code",
   "execution_count": 31,
   "metadata": {},
   "outputs": [
    {
     "data": {
      "image/png": "[encoded data removed]",
      "text/plain": [
       "<Figure size 432x288 with 1 Axes>"
      ]
     },
     "metadata": {
      "needs_background": "light"
     },
     "output_type": "display_data"
    }
   ],
   "source": [
    "plt.plot(roc._specificity, roc.sensitivity, label = 'ROC')\n",
    "\n",
    "plt.plot(np.arange(0., 1., 0.01), \n",
    "         np.arange(0., 1., 0.01), \n",
    "         '--')\n",
    "\n",
    "plt.plot(roc._specificity[idx_default_th], \n",
    "         roc.sensitivity[idx_default_th], \n",
    "         's', color = 'blue',\n",
    "         label = 'Default')\n",
    "\n",
    "plt.plot(roc._specificity[idx_youdensj], \n",
    "         roc.sensitivity[idx_youdensj], \n",
    "         's', color = 'red',\n",
    "         label = 'Max(Spec. + Sens.)')\n",
    "\n",
    "plt.plot(roc._specificity[idx_ballance], \n",
    "         roc.sensitivity[idx_ballance], \n",
    "         's', color = 'green', \n",
    "         label = 'Spec. = Sens.')\n",
    "\n",
    "\n",
    "plt.legend(loc = 4)\n",
    "plt.xlabel('1 - Specificity')\n",
    "plt.ylabel('Sensitivity')\n",
    "plt.show()"
   ]
  },
  {
   "cell_type": "markdown",
   "metadata": {},
   "source": [
    "Now we can take a look at the confusion matrix at different points of the ROC curve."
   ]
  },
  {
   "cell_type": "code",
   "execution_count": 32,
   "metadata": {},
   "outputs": [
    {
     "data": {
      "text/plain": [
       "array([[216.,  57.],\n",
       "       [ 62.,  65.]])"
      ]
     },
     "execution_count": 32,
     "metadata": {},
     "output_type": "execute_result"
    }
   ],
   "source": [
    "m.pred_table(threshold=roc.discret_thr[idx_youdensj])"
   ]
  },
  {
   "cell_type": "code",
   "execution_count": 33,
   "metadata": {},
   "outputs": [
    {
     "data": {
      "text/plain": [
       "array([[176.,  97.],\n",
       "       [ 48.,  79.]])"
      ]
     },
     "execution_count": 33,
     "metadata": {},
     "output_type": "execute_result"
    }
   ],
   "source": [
    "m.pred_table(threshold=roc.discret_thr[idx_ballance])"
   ]
  },
  {
   "cell_type": "markdown",
   "metadata": {},
   "source": [
    "Finally we can calculate Youden's J."
   ]
  },
  {
   "cell_type": "code",
   "execution_count": 34,
   "metadata": {},
   "outputs": [
    {
     "name": "stdout",
     "output_type": "stream",
     "text": [
      "Youden's J = 0.30\n"
     ]
    }
   ],
   "source": [
    "J = max(roc.sensitivity + roc.specificity - 1)\n",
    "print ('Youden\\'s J = %1.2f' % J)"
   ]
  },
  {
   "cell_type": "markdown",
   "metadata": {},
   "source": [
    "# Setting the Discrimination Threshold"
   ]
  },
  {
   "cell_type": "markdown",
   "metadata": {},
   "source": [
    "Logistic regression models are always **well calibrated** &mdash; i.e. the mean of the predicted odds is equal to mean of the binary response. Mathematically, this is represented as:\n",
    "\n",
    "\\begin{equation}\n",
    "    \\frac{1}{n} \\sum_i^n p_i = \\frac{1}{n} \\sum_i^n y_i\n",
    "\\end{equation}\n",
    "\n",
    "Or, in a more compact form:\n",
    "\n",
    "\\begin{equation}\n",
    "    \\sum^{n}_i p_i - y_i = 0\n",
    "\\end{equation}\n",
    "\n",
    "An important consequence of this fact is that by using the default **discrimination threshold** $p_{th} = 0.5$, we may sometimes obtain estimates that are quite off the actual response values, and the number of predicted positives ($\\widehat{y} = 1$) can be much lower/higher than the actual number of positives ($y = 1$). In such cases, we say that the model is not **discriminative**."
   ]
  },
  {
   "cell_type": "markdown",
   "metadata": {},
   "source": [
    "**Example**\n",
    "\n",
    "We can take a look at the mean of the predicted odds of the model from the previous exercises and compare it to the mean of the actual response."
   ]
  },
  {
   "cell_type": "code",
   "execution_count": 35,
   "metadata": {},
   "outputs": [
    {
     "name": "stdout",
     "output_type": "stream",
     "text": [
      "Odds mean: 0.32\n",
      "Response mean: 0.32\n"
     ]
    }
   ],
   "source": [
    "print ('Odds mean: %1.2f' % np.mean(df['p']))\n",
    "print ('Response mean: %1.2f' % np.mean(df['admit']))"
   ]
  },
  {
   "cell_type": "markdown",
   "metadata": {},
   "source": [
    "Now we will compare the number of predicted and true positives."
   ]
  },
  {
   "cell_type": "code",
   "execution_count": 36,
   "metadata": {},
   "outputs": [
    {
     "name": "stdout",
     "output_type": "stream",
     "text": [
      "Predicted positives #: 49\n",
      "True positives #: 127\n"
     ]
    }
   ],
   "source": [
    "print ('Predicted positives #: %i' % np.sum(df['p'] > 0.5))\n",
    "print ('True positives #: %i' % np.sum(df['admit'] > 0.5))"
   ]
  },
  {
   "cell_type": "markdown",
   "metadata": {},
   "source": [
    "Or, we can take another look at the confusion matrix."
   ]
  },
  {
   "cell_type": "code",
   "execution_count": 37,
   "metadata": {},
   "outputs": [
    {
     "name": "stdout",
     "output_type": "stream",
     "text": [
      "[[273.   0.]\n",
      " [127.   0.]]\n"
     ]
    }
   ],
   "source": [
    "print (conf_mat)"
   ]
  },
  {
   "cell_type": "code",
   "execution_count": 38,
   "metadata": {},
   "outputs": [
    {
     "data": {
      "text/plain": [
       "array([400.,   0.])"
      ]
     },
     "execution_count": 38,
     "metadata": {},
     "output_type": "execute_result"
    }
   ],
   "source": [
    "# Predicted negatives and positives\n",
    "conf_mat.sum(axis = 0)"
   ]
  },
  {
   "cell_type": "code",
   "execution_count": 39,
   "metadata": {},
   "outputs": [
    {
     "data": {
      "text/plain": [
       "array([273., 127.])"
      ]
     },
     "execution_count": 39,
     "metadata": {},
     "output_type": "execute_result"
    }
   ],
   "source": [
    "# Actual negatives and positives\n",
    "conf_mat.sum(axis = 1)"
   ]
  },
  {
   "cell_type": "markdown",
   "metadata": {},
   "source": [
    "<br>\n",
    "\n",
    "To tackle this issue, we may need to shift the discrimination threshold $p_{th}$ used to derive the estimates $\\hat{y}$:\n",
    "\n",
    "\n",
    "\\begin{equation}\n",
    "  \\widehat{y}_i =\n",
    "  \\begin{cases}\n",
    "    1 & \\text{if $p_i > p_{th}$}\\,, \\\\\n",
    "    0 & \\text{otherwise}\n",
    "  \\end{cases}\n",
    "\\end{equation}\n",
    "\n",
    "Shifting the discrimination threshold, we may improve the discrimination of the model. \n",
    "\n",
    "  - By lowering the threshold $p_{th}$ we are increasing the number of predicted positives ($\\widehat{y} = 1$), while by increasing the threshold we are decreasing that number\n",
    "\n",
    "\n",
    "  - Increasing the number of predicted positives ($\\widehat{y} = 1$) increases the chances of **type I error** or **false positive rate**\n",
    "\n",
    "\n",
    "  - Decreasing the number of predicted positives ($\\widehat{y} = 1$) increases the chances of **type II error** or **false negative rate**\n",
    "\n",
    "**NOTE:** We must always be very careful when adjusting the discrimination threshold. The discrimination threshold can be set to maximize some of the measures we described above:\n",
    "\n",
    "  - **Maximizing accuracy** will maximize the fraction of true estimates (TP + TF). This can be very misleading in cases where the response is very unbalanced.\n",
    "  \n",
    "  \n",
    "  - **Maximizing MCC** will maximize the \"correspondence\" between the estimates and actual response values.\n",
    "  \n",
    "As indicated in the previous section, the discrimination threshold can be set using the **Receiver Operating Characteristic (ROC)** so that the selected threshold:\n",
    "\n",
    "  - **Maximizes the sum of sensitivity and specificity** (Youden's J)\n",
    "  \n",
    "  \n",
    "  - **Balances the sensitivity and specificity** (Point of balance)\n",
    "  \n",
    "**NOTE:** Maximizing the MCC will also maximize the **sum of sensitivity and specificity**. You can see this easily by comparing the formula of MCC and those for sensitivity and specificity."
   ]
  },
  {
   "cell_type": "markdown",
   "metadata": {},
   "source": [
    "**EXERCISE 4**\n",
    "\n",
    "Using the logistic regression model from the previous exercises:\n",
    "\n",
    "1. Plot the dependence of the accuracy and MCC on the choice of the discrimination threshold.<br><br>\n",
    "  \n",
    "2. Optimize the discrimination threshold to:<br>\n",
    "\n",
    "    - Maximize the statistical accuracy of the model<br><br>\n",
    "  \n",
    "    - Maximize the MCC of the model<br><br>\n",
    "  \n",
    "3. Use the ROC to highlight the ROC points that correspond to the obtained thresholds. How much do the obtained thresholds differ from the ROC points identified in the previous exercises?"
   ]
  },
  {
   "cell_type": "code",
   "execution_count": 40,
   "metadata": {},
   "outputs": [],
   "source": [
    "# Your work here"
   ]
  },
  {
   "cell_type": "code",
   "execution_count": null,
   "metadata": {},
   "outputs": [],
   "source": []
  },
  {
   "cell_type": "code",
   "execution_count": null,
   "metadata": {},
   "outputs": [],
   "source": []
  },
  {
   "cell_type": "code",
   "execution_count": null,
   "metadata": {},
   "outputs": [],
   "source": []
  },
  {
   "cell_type": "markdown",
   "metadata": {},
   "source": [
    "**Solution**"
   ]
  },
  {
   "cell_type": "code",
   "execution_count": 41,
   "metadata": {},
   "outputs": [
    {
     "data": {
      "image/png": "[encoded data removed]",
      "text/plain": [
       "<Figure size 432x288 with 1 Axes>"
      ]
     },
     "metadata": {
      "needs_background": "light"
     },
     "output_type": "display_data"
    }
   ],
   "source": [
    "plt.plot(roc.discret_thr, roc.accuracy, 'x-')\n",
    "plt.xlabel('Discrimination threshold')\n",
    "plt.ylabel('Accuracy')\n",
    "plt.show()"
   ]
  },
  {
   "cell_type": "code",
   "execution_count": 42,
   "metadata": {},
   "outputs": [
    {
     "data": {
      "image/png": "[encoded data removed]",
      "text/plain": [
       "<Figure size 432x288 with 1 Axes>"
      ]
     },
     "metadata": {
      "needs_background": "light"
     },
     "output_type": "display_data"
    }
   ],
   "source": [
    "plt.plot(roc.discret_thr, roc.matthews, 'x-')\n",
    "plt.xlabel('Discrimination threshold')\n",
    "plt.ylabel('MCC')\n",
    "plt.show()"
   ]
  },
  {
   "cell_type": "markdown",
   "metadata": {},
   "source": [
    "Identify the points of the ROC curve where the obtained accuracy and MCC reach their respective maxima."
   ]
  },
  {
   "cell_type": "code",
   "execution_count": 43,
   "metadata": {},
   "outputs": [],
   "source": [
    "idx_maxacc = np.argmax(roc.accuracy)\n",
    "idx_maxmcc = np.argmax(roc.matthews)"
   ]
  },
  {
   "cell_type": "code",
   "execution_count": 44,
   "metadata": {},
   "outputs": [
    {
     "data": {
      "image/png": "[encoded data removed]",
      "text/plain": [
       "<Figure size 432x288 with 1 Axes>"
      ]
     },
     "metadata": {
      "needs_background": "light"
     },
     "output_type": "display_data"
    }
   ],
   "source": [
    "plt.plot(roc._specificity, roc.sensitivity, label = 'ROC')\n",
    "\n",
    "plt.plot(np.arange(0., 1., 0.01), \n",
    "         np.arange(0., 1., 0.01), \n",
    "         '--')\n",
    "\n",
    "plt.plot(roc._specificity[idx_default_th], \n",
    "         roc.sensitivity[idx_default_th], \n",
    "         's', color = 'blue',\n",
    "         label = 'Default')\n",
    "\n",
    "plt.plot(roc._specificity[idx_youdensj], \n",
    "         roc.sensitivity[idx_youdensj], \n",
    "         's', color = 'red',\n",
    "         label = 'Max(Spec. + Sens.)')\n",
    "\n",
    "plt.plot(roc._specificity[idx_ballance], \n",
    "         roc.sensitivity[idx_ballance], \n",
    "         's', color = 'green', \n",
    "         label = 'Spec. = Sens.')\n",
    "\n",
    "plt.plot(roc._specificity[idx_maxacc], \n",
    "         roc.sensitivity[idx_maxacc], \n",
    "         's', color = 'purple',\n",
    "         label = 'Max. Accuracy')\n",
    "\n",
    "plt.plot(roc._specificity[idx_maxmcc], \n",
    "         roc.sensitivity[idx_maxmcc], \n",
    "         '^', color = 'cyan', \n",
    "         label = 'Max. MCC')\n",
    "\n",
    "plt.legend(loc = 4)\n",
    "plt.xlabel('1 - Specificity')\n",
    "plt.ylabel('Sensitivity')\n",
    "plt.show()"
   ]
  },
  {
   "cell_type": "markdown",
   "metadata": {},
   "source": [
    "The ROC point of maximal accuracy is quite distant from the maximal MCC. The maximal MCC is identical to the maximum of the sum of specificity and sensitivity. The ROC point of balanced sensitivity and specificity differs from both maximal accuracy and maximal MCC. \n",
    "\n",
    "This highlights the fact that the model's discrimination threshold can be optimized in multiple ways."
   ]
  },
  {
   "cell_type": "markdown",
   "metadata": {},
   "source": [
    "**End of Module**\n",
    "\n",
    "You have reached the end of this module.\n",
    "\n",
    "If you have any questions, please reach out to your peers using the discussion boards. If you and your peers are unable to come to a suitable conclusion, do not hesitate to reach out to your instructor on the designated discussion board.\n",
    "\n",
    "When you are comfortable with the content, and have practiced to your satisfaction, you may proceed to any related assignments, and to the next module."
   ]
  },
  {
   "cell_type": "markdown",
   "metadata": {},
   "source": [
    "# References"
   ]
  },
  {
   "cell_type": "markdown",
   "metadata": {},
   "source": [
    "\n",
    "Czepiel, S.A. (1999). *Maximum Likelihood Estimation of Logistic Regression Models: Theory and Implementation* Retrieved Dec 11, 2018 from czep.net/stat. \n",
    "\n",
    "Multicollinearity, n.d. Retrieved Dec 11, 2018 from Wikipedia. https://en.wikipedia.org/wiki/Multicollinearity\n",
    "\n",
    "Roccurves.png (2006). Retrieved Dec 11, 2018 from Wikimedia Commons. https://commons.wikimedia.org/wiki/File:Roccurves.png Creative Commons Attribution-Share Alike 3.0 Unported.\n",
    "\n",
    "Roc Curve Youden J.png (2014). Retrieved Dec 11, 2018 from Wikimedia commons. https://commons.wikimedia.org/wiki/File:ROC_Curve_Youden_J.png  Creative Commons Attribution-Share Alike 4.0 International.\n",
    "\n",
    "Rodríguez, G. (2007). Lecture Notes on Generalized Linear Models. Chapter 3: Logit Models for Binary Data http://data.princeton.edu/wws509/notes/\n",
    "\n",
    "Weisstein, E. W. (2018). *Maximum Likelihood.* MathWorld-A Wolfram Web Resource. Retrieved Dec 11, 2018 form http://mathworld.wolfram.com/MaximumLikelihood.html\n",
    "\n",
    "\n",
    "\n"
   ]
  },
  {
   "cell_type": "code",
   "execution_count": null,
   "metadata": {},
   "outputs": [],
   "source": []
  }
 ],
 "metadata": {
  "kernelspec": {
   "display_name": "Python 3",
   "language": "python",
   "name": "python3"
  },
  "language_info": {
   "codemirror_mode": {
    "name": "ipython",
    "version": 3
   },
   "file_extension": ".py",
   "mimetype": "text/x-python",
   "name": "python",
   "nbconvert_exporter": "python",
   "pygments_lexer": "ipython3",
   "version": "3.8.3"
  }
 },
 "nbformat": 4,
 "nbformat_minor": 4
}
