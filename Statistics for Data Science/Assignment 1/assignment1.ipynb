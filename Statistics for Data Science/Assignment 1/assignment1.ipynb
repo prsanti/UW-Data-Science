{
 "cells": [
  {
   "cell_type": "markdown",
   "metadata": {},
   "source": [
    "## Assignment 1 \n",
    "\n",
    "This assignment is based on the video discussed in module 1.\n",
    "\n",
    "John Rauser ( 2014). Statistics Without the Agonizing Pain. Strata Hadoop 2014. Retrieved from https://www.youtube.com/watch?v=5Dnw46eC-0o\n",
    "\n",
    "(Source: https://www.youtube.com/watch?v=5Dnw46eC-0o )\n",
    "\n",
    "\n",
    "\n",
    "\n",
    " \n",
    "  \n",
    " "
   ]
  },
  {
   "cell_type": "markdown",
   "metadata": {},
   "source": [
    "## Learning outcomes"
   ]
  },
  {
   "cell_type": "markdown",
   "metadata": {},
   "source": [
    "- Use code to work with data\n",
    "- Calculate basic statistical measures \n",
    "- Implement a data simulation by using resampling \n"
   ]
  },
  {
   "cell_type": "markdown",
   "metadata": {},
   "source": [
    "**Question**\n",
    "\n",
    "1. Using the dataset from the video ( _mosquitos_data.csv_) in the folder, write Python code to:\n",
    "\n",
    "    - Create side-by-side boxplots for the number of mosquitos in each group ( _beer vs water) \n",
    "    - What does the graph reveal about the data for both groups?  Is there an association between beer       consumption and attractiveness to mosquitos.\n",
    "    - Calculate basic statistics measures for each group: Mean, median, standard deviation and explain the numbers.\n",
    "\n",
    "2. Write code to implement the data simulation demonstrated in the above mentioned video.  Calculate the probability of obtaining the experiment outcome assuming no association between beer consumption."
   ]
  },
  {
   "cell_type": "markdown",
   "metadata": {},
   "source": [
    "## Hints\n",
    "\n",
    "- Use pandas, matplotlib, or seaborn to plot boxplots in Python. \n",
    "- Label the graphs wherever applicable e.g, title, legend, units etc.\n",
    "\n",
    "\n",
    "\n"
   ]
  },
  {
   "cell_type": "code",
   "execution_count": 1,
   "metadata": {},
   "outputs": [],
   "source": [
    "# Name: Paulo Santiago"
   ]
  },
  {
   "cell_type": "code",
   "execution_count": 2,
   "metadata": {},
   "outputs": [],
   "source": [
    "#your work here\n",
    "import pandas as pd\n",
    "import numpy as np\n",
    "import seaborn as sns\n",
    "from random import sample\n",
    "\n",
    "df = pd.read_csv('mosquitos_data.csv')"
   ]
  },
  {
   "cell_type": "code",
   "execution_count": 3,
   "metadata": {},
   "outputs": [
    {
     "data": {
      "text/html": [
       "<div>\n",
       "<style scoped>\n",
       "    .dataframe tbody tr th:only-of-type {\n",
       "        vertical-align: middle;\n",
       "    }\n",
       "\n",
       "    .dataframe tbody tr th {\n",
       "        vertical-align: top;\n",
       "    }\n",
       "\n",
       "    .dataframe thead th {\n",
       "        text-align: right;\n",
       "    }\n",
       "</style>\n",
       "<table border=\"1\" class=\"dataframe\">\n",
       "  <thead>\n",
       "    <tr style=\"text-align: right;\">\n",
       "      <th></th>\n",
       "      <th>Response</th>\n",
       "      <th>Treatment</th>\n",
       "    </tr>\n",
       "  </thead>\n",
       "  <tbody>\n",
       "    <tr>\n",
       "      <th>0</th>\n",
       "      <td>27</td>\n",
       "      <td>Beer</td>\n",
       "    </tr>\n",
       "    <tr>\n",
       "      <th>1</th>\n",
       "      <td>20</td>\n",
       "      <td>Beer</td>\n",
       "    </tr>\n",
       "    <tr>\n",
       "      <th>2</th>\n",
       "      <td>21</td>\n",
       "      <td>Beer</td>\n",
       "    </tr>\n",
       "    <tr>\n",
       "      <th>3</th>\n",
       "      <td>26</td>\n",
       "      <td>Beer</td>\n",
       "    </tr>\n",
       "    <tr>\n",
       "      <th>4</th>\n",
       "      <td>27</td>\n",
       "      <td>Beer</td>\n",
       "    </tr>\n",
       "    <tr>\n",
       "      <th>5</th>\n",
       "      <td>31</td>\n",
       "      <td>Beer</td>\n",
       "    </tr>\n",
       "    <tr>\n",
       "      <th>6</th>\n",
       "      <td>24</td>\n",
       "      <td>Beer</td>\n",
       "    </tr>\n",
       "    <tr>\n",
       "      <th>7</th>\n",
       "      <td>21</td>\n",
       "      <td>Beer</td>\n",
       "    </tr>\n",
       "    <tr>\n",
       "      <th>8</th>\n",
       "      <td>20</td>\n",
       "      <td>Beer</td>\n",
       "    </tr>\n",
       "    <tr>\n",
       "      <th>9</th>\n",
       "      <td>19</td>\n",
       "      <td>Beer</td>\n",
       "    </tr>\n",
       "    <tr>\n",
       "      <th>10</th>\n",
       "      <td>23</td>\n",
       "      <td>Beer</td>\n",
       "    </tr>\n",
       "    <tr>\n",
       "      <th>11</th>\n",
       "      <td>24</td>\n",
       "      <td>Beer</td>\n",
       "    </tr>\n",
       "    <tr>\n",
       "      <th>12</th>\n",
       "      <td>28</td>\n",
       "      <td>Beer</td>\n",
       "    </tr>\n",
       "    <tr>\n",
       "      <th>13</th>\n",
       "      <td>19</td>\n",
       "      <td>Beer</td>\n",
       "    </tr>\n",
       "    <tr>\n",
       "      <th>14</th>\n",
       "      <td>24</td>\n",
       "      <td>Beer</td>\n",
       "    </tr>\n",
       "    <tr>\n",
       "      <th>15</th>\n",
       "      <td>29</td>\n",
       "      <td>Beer</td>\n",
       "    </tr>\n",
       "    <tr>\n",
       "      <th>16</th>\n",
       "      <td>18</td>\n",
       "      <td>Beer</td>\n",
       "    </tr>\n",
       "    <tr>\n",
       "      <th>17</th>\n",
       "      <td>20</td>\n",
       "      <td>Beer</td>\n",
       "    </tr>\n",
       "    <tr>\n",
       "      <th>18</th>\n",
       "      <td>17</td>\n",
       "      <td>Beer</td>\n",
       "    </tr>\n",
       "    <tr>\n",
       "      <th>19</th>\n",
       "      <td>31</td>\n",
       "      <td>Beer</td>\n",
       "    </tr>\n",
       "    <tr>\n",
       "      <th>20</th>\n",
       "      <td>20</td>\n",
       "      <td>Beer</td>\n",
       "    </tr>\n",
       "    <tr>\n",
       "      <th>21</th>\n",
       "      <td>25</td>\n",
       "      <td>Beer</td>\n",
       "    </tr>\n",
       "    <tr>\n",
       "      <th>22</th>\n",
       "      <td>28</td>\n",
       "      <td>Beer</td>\n",
       "    </tr>\n",
       "    <tr>\n",
       "      <th>23</th>\n",
       "      <td>21</td>\n",
       "      <td>Beer</td>\n",
       "    </tr>\n",
       "    <tr>\n",
       "      <th>24</th>\n",
       "      <td>27</td>\n",
       "      <td>Beer</td>\n",
       "    </tr>\n",
       "    <tr>\n",
       "      <th>25</th>\n",
       "      <td>21</td>\n",
       "      <td>Water</td>\n",
       "    </tr>\n",
       "    <tr>\n",
       "      <th>26</th>\n",
       "      <td>22</td>\n",
       "      <td>Water</td>\n",
       "    </tr>\n",
       "    <tr>\n",
       "      <th>27</th>\n",
       "      <td>15</td>\n",
       "      <td>Water</td>\n",
       "    </tr>\n",
       "    <tr>\n",
       "      <th>28</th>\n",
       "      <td>12</td>\n",
       "      <td>Water</td>\n",
       "    </tr>\n",
       "    <tr>\n",
       "      <th>29</th>\n",
       "      <td>21</td>\n",
       "      <td>Water</td>\n",
       "    </tr>\n",
       "    <tr>\n",
       "      <th>30</th>\n",
       "      <td>16</td>\n",
       "      <td>Water</td>\n",
       "    </tr>\n",
       "    <tr>\n",
       "      <th>31</th>\n",
       "      <td>19</td>\n",
       "      <td>Water</td>\n",
       "    </tr>\n",
       "    <tr>\n",
       "      <th>32</th>\n",
       "      <td>15</td>\n",
       "      <td>Water</td>\n",
       "    </tr>\n",
       "    <tr>\n",
       "      <th>33</th>\n",
       "      <td>22</td>\n",
       "      <td>Water</td>\n",
       "    </tr>\n",
       "    <tr>\n",
       "      <th>34</th>\n",
       "      <td>24</td>\n",
       "      <td>Water</td>\n",
       "    </tr>\n",
       "    <tr>\n",
       "      <th>35</th>\n",
       "      <td>19</td>\n",
       "      <td>Water</td>\n",
       "    </tr>\n",
       "    <tr>\n",
       "      <th>36</th>\n",
       "      <td>23</td>\n",
       "      <td>Water</td>\n",
       "    </tr>\n",
       "    <tr>\n",
       "      <th>37</th>\n",
       "      <td>13</td>\n",
       "      <td>Water</td>\n",
       "    </tr>\n",
       "    <tr>\n",
       "      <th>38</th>\n",
       "      <td>22</td>\n",
       "      <td>Water</td>\n",
       "    </tr>\n",
       "    <tr>\n",
       "      <th>39</th>\n",
       "      <td>20</td>\n",
       "      <td>Water</td>\n",
       "    </tr>\n",
       "    <tr>\n",
       "      <th>40</th>\n",
       "      <td>24</td>\n",
       "      <td>Water</td>\n",
       "    </tr>\n",
       "    <tr>\n",
       "      <th>41</th>\n",
       "      <td>18</td>\n",
       "      <td>Water</td>\n",
       "    </tr>\n",
       "    <tr>\n",
       "      <th>42</th>\n",
       "      <td>20</td>\n",
       "      <td>Water</td>\n",
       "    </tr>\n",
       "  </tbody>\n",
       "</table>\n",
       "</div>"
      ],
      "text/plain": [
       "    Response Treatment\n",
       "0         27      Beer\n",
       "1         20      Beer\n",
       "2         21      Beer\n",
       "3         26      Beer\n",
       "4         27      Beer\n",
       "5         31      Beer\n",
       "6         24      Beer\n",
       "7         21      Beer\n",
       "8         20      Beer\n",
       "9         19      Beer\n",
       "10        23      Beer\n",
       "11        24      Beer\n",
       "12        28      Beer\n",
       "13        19      Beer\n",
       "14        24      Beer\n",
       "15        29      Beer\n",
       "16        18      Beer\n",
       "17        20      Beer\n",
       "18        17      Beer\n",
       "19        31      Beer\n",
       "20        20      Beer\n",
       "21        25      Beer\n",
       "22        28      Beer\n",
       "23        21      Beer\n",
       "24        27      Beer\n",
       "25        21     Water\n",
       "26        22     Water\n",
       "27        15     Water\n",
       "28        12     Water\n",
       "29        21     Water\n",
       "30        16     Water\n",
       "31        19     Water\n",
       "32        15     Water\n",
       "33        22     Water\n",
       "34        24     Water\n",
       "35        19     Water\n",
       "36        23     Water\n",
       "37        13     Water\n",
       "38        22     Water\n",
       "39        20     Water\n",
       "40        24     Water\n",
       "41        18     Water\n",
       "42        20     Water"
      ]
     },
     "execution_count": 3,
     "metadata": {},
     "output_type": "execute_result"
    }
   ],
   "source": [
    "df"
   ]
  },
  {
   "cell_type": "markdown",
   "metadata": {},
   "source": [
    "## Question 1"
   ]
  },
  {
   "cell_type": "code",
   "execution_count": 4,
   "metadata": {},
   "outputs": [
    {
     "data": {
      "text/plain": [
       "[Text(0.5, 1.0, 'Mosquito Response of Human Consumption of Beer versus Water')]"
      ]
     },
     "execution_count": 4,
     "metadata": {},
     "output_type": "execute_result"
    },
    {
     "data": {
      "image/png": "[encoded data removed]",
      "text/plain": [
       "<Figure size 432x288 with 1 Axes>"
      ]
     },
     "metadata": {
      "needs_background": "light"
     },
     "output_type": "display_data"
    }
   ],
   "source": [
    "sns.boxplot(x=\"Treatment\", y=\"Response\", data=df).set(title=\"Mosquito Response of Human Consumption of Beer versus Water\")"
   ]
  },
  {
   "cell_type": "markdown",
   "metadata": {},
   "source": [
    "The graph reveals that mosquitos have a higher response and are more attracted to humans that consume beer rather than water. The beer treatment group consists of a sample size of 25, and the water treatment group consists of 18. The range of mosquito reponse for beer is from 17 to 31. The range of mosquito response for water is from 12 to 24. Just by observing the graph, there is a stronger positive correlation for the beer treatment group compared to the water treatment group."
   ]
  },
  {
   "cell_type": "code",
   "execution_count": 5,
   "metadata": {},
   "outputs": [
    {
     "name": "stdout",
     "output_type": "stream",
     "text": [
      "Beer mean =  23.6\n",
      "Beer median =  24.0\n",
      "Beer standard deviation =  4.133198922545748\n"
     ]
    }
   ],
   "source": [
    "# Beer Statistics\n",
    "# Only show data of beer consumption\n",
    "df_beer = df[df[\"Treatment\"] == \"Beer\"]\n",
    "df_beer\n",
    "\n",
    "# beer mean\n",
    "beer_mean = df_beer.mean(axis=0, numeric_only=True)\n",
    "beer_mean = beer_mean[\"Response\"]\n",
    "print(\"Beer mean = \", beer_mean)\n",
    "\n",
    "# beer median\n",
    "beer_median = df_beer.median(axis=0, numeric_only=True)\n",
    "beer_median = beer_median[\"Response\"]\n",
    "print(\"Beer median = \", beer_median)\n",
    "\n",
    "# beer standard deviation\n",
    "beer_std = df_beer[\"Response\"].std()\n",
    "print(\"Beer standard deviation = \", beer_std)"
   ]
  },
  {
   "cell_type": "code",
   "execution_count": 6,
   "metadata": {},
   "outputs": [
    {
     "name": "stdout",
     "output_type": "stream",
     "text": [
      "Beer sample size =  25\n",
      "Beer min =  17\n",
      "Beer max =  31\n"
     ]
    }
   ],
   "source": [
    "print(\"Beer sample size = \", len(df_beer))\n",
    "print(\"Beer min = \", min(df_beer[\"Response\"]))\n",
    "print(\"Beer max = \", max(df_beer[\"Response\"]))"
   ]
  },
  {
   "cell_type": "markdown",
   "metadata": {},
   "source": [
    "### Explaination\n",
    "\n",
    "The average or mean of mosquito response to the treatment group that drank beer is 23.6. To get this number, we sum all the values and divide by the total number of responses.\n",
    "\n",
    "The median of mosquito response to the beer treatment group is 24. When ordering all the responses from least to greatest, the number in the middle is the median, and in this case it is 24.\n",
    "\n",
    "The standard deviation of the beer treatment group is 4.133. After standardizing all response values, the standard deviation represents how much variance is each value from the mean of the data set."
   ]
  },
  {
   "cell_type": "code",
   "execution_count": 7,
   "metadata": {},
   "outputs": [
    {
     "name": "stdout",
     "output_type": "stream",
     "text": [
      "Water mean =  19.22222222222222\n",
      "Water median =  20.0\n",
      "Water standard deviation =  3.6711202899124045\n"
     ]
    }
   ],
   "source": [
    "# Water Statistics\n",
    "# Only show data of water consumption\n",
    "df_water = df[df[\"Treatment\"] == \"Water\"]\n",
    "df_water\n",
    "\n",
    "# beer mean\n",
    "water_mean = df_water.mean(axis=0, numeric_only=True)\n",
    "water_mean = water_mean[\"Response\"]\n",
    "print(\"Water mean = \", water_mean)\n",
    "\n",
    "# beer median\n",
    "water_median = df_water.median(axis=0, numeric_only=True)\n",
    "water_median = water_median[\"Response\"]\n",
    "print(\"Water median = \", water_median)\n",
    "\n",
    "# beer standard deviation\n",
    "water_std = df_water[\"Response\"].std()\n",
    "print(\"Water standard deviation = \", water_std)"
   ]
  },
  {
   "cell_type": "code",
   "execution_count": 8,
   "metadata": {},
   "outputs": [
    {
     "name": "stdout",
     "output_type": "stream",
     "text": [
      "Water sample size =  18\n",
      "Water min =  12\n",
      "Water max =  24\n"
     ]
    }
   ],
   "source": [
    "print(\"Water sample size = \", len(df_water))\n",
    "print(\"Water min = \", min(df_water[\"Response\"]))\n",
    "print(\"Water max = \", max(df_water[\"Response\"]))"
   ]
  },
  {
   "cell_type": "markdown",
   "metadata": {},
   "source": [
    "### Explaination\n",
    "\n",
    "The average or mean of mosquito response to the treatment group that drank water is 19.2.\n",
    "\n",
    "The median of mosquito response to the water treatment group is 20.\n",
    "\n",
    "The standard deviation of the water treatment group is 3.671."
   ]
  },
  {
   "cell_type": "markdown",
   "metadata": {},
   "source": [
    "### Beer versus Water Statistic Comparison\n",
    "\n",
    "Comparing beer against the water treatment group, the average response of beer is greater than water. We can see that beer's average is 23.6 compared to water's average of 19.22, a response difference of 4.4.\n",
    "\n",
    "Similarly, the median for beer is 24 and water is 20, a difference of 4. By observing the mean and median of these datasets, we can see that mosquitos on average have a greater response to people who drink beer by at least 4.\n",
    "\n",
    "Beer's standard deviation has a value of 4.13 and water's is 3.67. This means that the beer dataset has values that are more spread out, and further from the mean than the water dataset."
   ]
  },
  {
   "cell_type": "markdown",
   "metadata": {},
   "source": [
    "## Question 2"
   ]
  },
  {
   "cell_type": "code",
   "execution_count": 9,
   "metadata": {},
   "outputs": [],
   "source": [
    "# Welch's Test\n",
    "# t = (average beer - average water)/ (sqrt(variance beer / beer_n + variance water / water_n))\n",
    "#t = (beer_mean - water_mean) / np.sqrt((np.square(beer_std) / len(df_beer)) + (np.square(water_std) / len(df_water)))\n",
    "#print(\"t value = \", t)"
   ]
  },
  {
   "cell_type": "code",
   "execution_count": 10,
   "metadata": {},
   "outputs": [
    {
     "name": "stdout",
     "output_type": "stream",
     "text": [
      "count    50000.000000\n",
      "mean         0.005381\n",
      "std          1.378190\n",
      "min         -5.273333\n",
      "25%         -0.973333\n",
      "50%         -0.017778\n",
      "75%          0.937778\n",
      "max          4.951111\n",
      "dtype: float64\n"
     ]
    },
    {
     "data": {
      "text/plain": [
       "[Text(0.5, 0, 'Difference'),\n",
       " Text(0, 0.5, 'Frequency'),\n",
       " Text(0.5, 1.0, 'Histogram of Permutations of Mean Difference between Beer and Water Responses')]"
      ]
     },
     "execution_count": 10,
     "metadata": {},
     "output_type": "execute_result"
    },
    {
     "data": {
      "image/png": "[encoded data removed]",
      "text/plain": [
       "<Figure size 432x288 with 1 Axes>"
      ]
     },
     "metadata": {
      "needs_background": "light"
     },
     "output_type": "display_data"
    }
   ],
   "source": [
    "# array of difference of beer and water mean\n",
    "resample_mean_diff = []\n",
    "# number of times to resample\n",
    "nbr_samples = 50000\n",
    "\n",
    "# convert original df of Responses to list\n",
    "df_list = df[\"Response\"].tolist()\n",
    "\n",
    "def resample_data():\n",
    "    # sample Response to a list of 25 values\n",
    "    beer_resample = sample(df_list, 25)\n",
    "    \n",
    "    water_resample = df_list.copy()\n",
    "\n",
    "    # remove duplicates to create a unique list for the water resample list\n",
    "    for i in beer_resample:\n",
    "        water_resample.remove(i)\n",
    "    \n",
    "    #print(len(beer_resample))\n",
    "    #print(len(water_resample))\n",
    "        \n",
    "    # push mean difference of beer and water to array\n",
    "    resample_mean_diff.append(np.mean(beer_resample) - np.mean(water_resample))\n",
    "\n",
    "# runs the function to specified resample size\n",
    "for i in range(nbr_samples):\n",
    "    resample_data()\n",
    "    \n",
    "# difference statistics\n",
    "resample_series = pd.Series(resample_mean_diff)\n",
    "print(resample_series.describe())\n",
    "\n",
    "# distribution of mean difference\n",
    "distribution = sns.histplot(resample_mean_diff)\n",
    "distribution.set(xlabel=\"Difference\", ylabel=\"Frequency\", title=\"Histogram of Permutations of Mean Difference between Beer and Water Responses\")"
   ]
  },
  {
   "cell_type": "code",
   "execution_count": 11,
   "metadata": {},
   "outputs": [
    {
     "name": "stdout",
     "output_type": "stream",
     "text": [
      "count  4\n",
      "P(4.4) =  8e-05  or 0.008%\n"
     ]
    }
   ],
   "source": [
    "# Probability difference will be 4.4\n",
    "# P(4.4) = k/n = (number of times 4.4 appears / 50000)\n",
    "k = 4.4\n",
    "count = 0\n",
    "for i in resample_mean_diff:\n",
    "    # round i value to have the same decimal points as 4.4\n",
    "    if round(i,1) == k:\n",
    "        count += 1\n",
    "\n",
    "# P(4.4) = count / n\n",
    "print(\"count \", count)\n",
    "print(\"P(4.4) = \", count / nbr_samples, \" or {}%\".format((count / nbr_samples) * 100)) "
   ]
  },
  {
   "cell_type": "markdown",
   "metadata": {},
   "source": [
    "## Analysis\n",
    "I recreated the data simulation in the video by resampling beer and water responses from the original list 50,000 times. Statistically, it is very unlikely to get a difference of 4.4 by resampling. Therefore, we can conclude, from the original data that a mean difference of 4.4 between beer and water responses is significant. Mosquitos are more attracted to people who consume beer over water."
   ]
  },
  {
   "cell_type": "code",
   "execution_count": null,
   "metadata": {},
   "outputs": [],
   "source": []
  }
 ],
 "metadata": {
  "kernelspec": {
   "display_name": "Python 3 (ipykernel)",
   "language": "python",
   "name": "python3"
  },
  "language_info": {
   "codemirror_mode": {
    "name": "ipython",
    "version": 3
   },
   "file_extension": ".py",
   "mimetype": "text/x-python",
   "name": "python",
   "nbconvert_exporter": "python",
   "pygments_lexer": "ipython3",
   "version": "3.9.7"
  }
 },
 "nbformat": 4,
 "nbformat_minor": 2
}
