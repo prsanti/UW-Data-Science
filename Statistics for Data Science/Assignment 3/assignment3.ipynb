{
 "cells": [
  {
   "cell_type": "markdown",
   "metadata": {
    "colab_type": "text",
    "id": "1oGjoWSWqQ77"
   },
   "source": [
    "## Assignment 3"
   ]
  },
  {
   "cell_type": "markdown",
   "metadata": {
    "colab_type": "text",
    "id": "-oi4JzShqQ78"
   },
   "source": [
    "This assignmemt is based on content discussed in modules 3 - 5 and test basic concepts of statistical inference theory and probability distributions."
   ]
  },
  {
   "cell_type": "markdown",
   "metadata": {
    "colab_type": "text",
    "id": "gjI1J5nXqQ79"
   },
   "source": [
    "## Learning outcomes"
   ]
  },
  {
   "cell_type": "markdown",
   "metadata": {
    "colab_type": "text",
    "id": "R9t0LyaqqQ7-"
   },
   "source": [
    "-   Work on problems of different distributions eg., gaussian \n",
    "-   Calculate z score \n",
    "-\tMake statistical inferences on given data\n",
    "-\tConstruct a null and an alternate hypothesis\n",
    "-\tFind the p-value for a given hypothesis and T test statistic."
   ]
  },
  {
   "cell_type": "markdown",
   "metadata": {
    "colab_type": "text",
    "id": "_lXvCMN_qQ7_"
   },
   "source": [
    "**Question 1**\n",
    "\n",
    "The Capital Asset Pricing Model (CAPM) is a financial model that assumes returns on a portfolio are normally distributed.  Suppose a portfolio has an average annual return of 14.7% (i.e., an average gain on 14.7%) with a standard deviation of 33%.  A return of 0% means the value of the portfolio doesn't change, a negative return means that the portfolio loses money, and a positive return means that the portfolio gains money. Determine the following:\n",
    "\n",
    "1. What percentage of years does this portfolio lose money, (i.e. have a return less than 0%)?\n",
    "2. What is the cutoff for the highest 15% of annual returns with this portfolio?\n",
    "\n",
    "See CAPM here https://en.wikipedia.org/wiki/Capital_asset_pricing_model "
   ]
  },
  {
   "cell_type": "markdown",
   "metadata": {
    "colab_type": "text",
    "id": "_l53E9BAqQ8A"
   },
   "source": [
    "**Question 2**\n",
    "\n",
    "Past experience indicates that because of low morale, a company loses 20 hours a year per employee due to lateness and abstenteeism.  Assume that the standard deviation of the population is 6 and normally distributed.\n",
    "\n",
    "The HR department implemented a new rewards system to increase employee morale, and after a few months it collected a random sample of 20 employees and the annualized absenteeism was 14.\n",
    "\n",
    "1. Could you confirm that the new rewards system was effective with a 90% confidence?\n",
    "2. An HR subject matter expert would be very happy if the program could reduce absenteeism by 20% (i.e. to 16 hours).  Given the current sampling parameters (sample size of 20 and std. dev. of population. 6), what is the probability that the new rewards system reduced absenteeism to 16 hours and you miss it?\n",
    "3. What should the sample size be if you want β to be 5%"
   ]
  },
  {
   "cell_type": "markdown",
   "metadata": {
    "colab_type": "text",
    "id": "LOjrz6ycqQ8A"
   },
   "source": [
    "**Question 3**\n",
    "\n",
    "Chi-Square Goodness of fit\n",
    "\n",
    "Please access and review **section 6.3.5** in the OpenIntro Statistics textbook:\n",
    "\n",
    "Diez, D., Çetinkaya-Rundel, M. & Barr, C (2019). OpenIntro Statistics (4th Ed.). https://leanpub.com/openintro-statistics\n",
    "\n",
    "Given the information in section 6.3.5, write python code for the following:\n",
    "\n",
    " - Calculate the expected values based on the geometric distribution with a probability of 53.2%\n",
    " - Compare the expected vs. the observed values from the textbook using the Chi-Square distribution\n",
    " - Reach a conclusion\n",
    " - Explain what is the business impact of your conclusion"
   ]
  },
  {
   "cell_type": "markdown",
   "metadata": {
    "colab": {},
    "colab_type": "code",
    "id": "hSKqK4gZqQ8B"
   },
   "source": [
    "## Question 1"
   ]
  },
  {
   "cell_type": "code",
   "execution_count": 3,
   "metadata": {},
   "outputs": [],
   "source": [
    "import pandas as pd\n",
    "import numpy as np\n",
    "import scipy.stats as stats"
   ]
  },
  {
   "cell_type": "code",
   "execution_count": 4,
   "metadata": {},
   "outputs": [],
   "source": [
    "average_return = 0.147\n",
    "std = 0.33"
   ]
  },
  {
   "cell_type": "code",
   "execution_count": 13,
   "metadata": {},
   "outputs": [
    {
     "name": "stdout",
     "output_type": "stream",
     "text": [
      "Z-Score of 0 or less =  -0.44545454545454544\n"
     ]
    }
   ],
   "source": [
    "# 1)\n",
    "# Z = (x - mean) / std\n",
    "# Return of 0 ==> x = 0\n",
    "x_zero = 0\n",
    "z_zero = (x_zero - average_return) / std\n",
    "\n",
    "print('Z-Score of 0 or less = ', z)"
   ]
  },
  {
   "cell_type": "code",
   "execution_count": 18,
   "metadata": {},
   "outputs": [
    {
     "name": "stdout",
     "output_type": "stream",
     "text": [
      "Percentile of 0% return =  0.3279956507031998\n"
     ]
    }
   ],
   "source": [
    "p_zero = stats.norm.sf(abs(z_zero))\n",
    "print('Percentile of 0% return = ', p_zero)"
   ]
  },
  {
   "cell_type": "markdown",
   "metadata": {},
   "source": [
    "The portfolio loses money or have a return of 0% or less, is 0.3279 or 32.79%"
   ]
  },
  {
   "cell_type": "code",
   "execution_count": null,
   "metadata": {},
   "outputs": [],
   "source": [
    "# 2)\n"
   ]
  }
 ],
 "metadata": {
  "colab": {
   "collapsed_sections": [],
   "name": "Assignment 3v.3.ipynb",
   "provenance": [],
   "version": "0.3.2"
  },
  "kernelspec": {
   "display_name": "Python 3 (ipykernel)",
   "language": "python",
   "name": "python3"
  },
  "language_info": {
   "codemirror_mode": {
    "name": "ipython",
    "version": 3
   },
   "file_extension": ".py",
   "mimetype": "text/x-python",
   "name": "python",
   "nbconvert_exporter": "python",
   "pygments_lexer": "ipython3",
   "version": "3.9.7"
  }
 },
 "nbformat": 4,
 "nbformat_minor": 1
}
