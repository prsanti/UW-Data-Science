{
 "cells": [
  {
   "cell_type": "markdown",
   "metadata": {
    "colab_type": "text",
    "id": "1oGjoWSWqQ77"
   },
   "source": [
    "## Assignment 3"
   ]
  },
  {
   "cell_type": "markdown",
   "metadata": {
    "colab_type": "text",
    "id": "-oi4JzShqQ78"
   },
   "source": [
    "This assignmemt is based on content discussed in modules 3 - 5 and test basic concepts of statistical inference theory and probability distributions."
   ]
  },
  {
   "cell_type": "markdown",
   "metadata": {
    "colab_type": "text",
    "id": "gjI1J5nXqQ79"
   },
   "source": [
    "## Learning outcomes"
   ]
  },
  {
   "cell_type": "markdown",
   "metadata": {
    "colab_type": "text",
    "id": "R9t0LyaqqQ7-"
   },
   "source": [
    "-   Work on problems of different distributions eg., gaussian \n",
    "-   Calculate z score \n",
    "-\tMake statistical inferences on given data\n",
    "-\tConstruct a null and an alternate hypothesis\n",
    "-\tFind the p-value for a given hypothesis and T test statistic."
   ]
  },
  {
   "cell_type": "markdown",
   "metadata": {
    "colab_type": "text",
    "id": "_lXvCMN_qQ7_"
   },
   "source": [
    "**Question 1**\n",
    "\n",
    "The Capital Asset Pricing Model (CAPM) is a financial model that assumes returns on a portfolio are normally distributed.  Suppose a portfolio has an average annual return of 14.7% (i.e., an average gain on 14.7%) with a standard deviation of 33%.  A return of 0% means the value of the portfolio doesn't change, a negative return means that the portfolio loses money, and a positive return means that the portfolio gains money. Determine the following:\n",
    "\n",
    "1. What percentage of years does this portfolio lose money, (i.e. have a return less than 0%)?\n",
    "2. What is the cutoff for the highest 15% of annual returns with this portfolio?\n",
    "\n",
    "See CAPM here https://en.wikipedia.org/wiki/Capital_asset_pricing_model "
   ]
  },
  {
   "cell_type": "markdown",
   "metadata": {
    "colab_type": "text",
    "id": "_l53E9BAqQ8A"
   },
   "source": [
    "**Question 2**\n",
    "\n",
    "Past experience indicates that because of low morale, a company loses 20 hours a year per employee due to lateness and abstenteeism.  Assume that the standard deviation of the population is 6 and normally distributed.\n",
    "\n",
    "The HR department implemented a new rewards system to increase employee morale, and after a few months it collected a random sample of 20 employees and the annualized absenteeism was 14.\n",
    "\n",
    "1. Could you confirm that the new rewards system was effective with a 90% confidence?\n",
    "2. An HR subject matter expert would be very happy if the program could reduce absenteeism by 20% (i.e. to 16 hours).  Given the current sampling parameters (sample size of 20 and std. dev. of population. 6), what is the probability that the new rewards system reduced absenteeism to 16 hours and you miss it?\n",
    "3. What should the sample size be if you want β to be 5%"
   ]
  },
  {
   "cell_type": "markdown",
   "metadata": {
    "colab_type": "text",
    "id": "LOjrz6ycqQ8A"
   },
   "source": [
    "**Question 3**\n",
    "\n",
    "Chi-Square Goodness of fit\n",
    "\n",
    "Please access and review **section 6.3.5** in the OpenIntro Statistics textbook:\n",
    "\n",
    "Diez, D., Çetinkaya-Rundel, M. & Barr, C (2019). OpenIntro Statistics (4th Ed.). https://leanpub.com/openintro-statistics\n",
    "\n",
    "Given the information in section 6.3.5, write python code for the following:\n",
    "\n",
    " - Calculate the expected values based on the geometric distribution with a probability of 53.2%\n",
    " - Compare the expected vs. the observed values from the textbook using the Chi-Square distribution\n",
    " - Reach a conclusion\n",
    " - Explain what is the business impact of your conclusion"
   ]
  },
  {
   "cell_type": "markdown",
   "metadata": {
    "colab": {},
    "colab_type": "code",
    "id": "hSKqK4gZqQ8B"
   },
   "source": [
    "## Question 1"
   ]
  },
  {
   "cell_type": "code",
   "execution_count": 1,
   "metadata": {},
   "outputs": [],
   "source": [
    "import pandas as pd\n",
    "import numpy as np\n",
    "import scipy.stats as stats"
   ]
  },
  {
   "cell_type": "code",
   "execution_count": 2,
   "metadata": {},
   "outputs": [],
   "source": [
    "average_return = 0.147\n",
    "std = 0.33"
   ]
  },
  {
   "cell_type": "code",
   "execution_count": 3,
   "metadata": {},
   "outputs": [
    {
     "name": "stdout",
     "output_type": "stream",
     "text": [
      "Z-Score of 0 or less =  -0.44545454545454544\n"
     ]
    }
   ],
   "source": [
    "# 1)\n",
    "# Z = (x - mean) / std\n",
    "# Return of 0 ==> x = 0\n",
    "x_zero = 0\n",
    "z_zero = (x_zero - average_return) / std\n",
    "\n",
    "print('Z-Score of 0 or less = ', z_zero)"
   ]
  },
  {
   "cell_type": "code",
   "execution_count": 4,
   "metadata": {},
   "outputs": [
    {
     "name": "stdout",
     "output_type": "stream",
     "text": [
      "Percentile of 0% return =  0.3279956507031998\n"
     ]
    }
   ],
   "source": [
    "p_zero = stats.norm.sf(abs(z_zero))\n",
    "print('Percentile of 0% return = ', p_zero)"
   ]
  },
  {
   "cell_type": "markdown",
   "metadata": {},
   "source": [
    "The portfolio loses money or have a return of 0% or less, is 0.3279 or 32.79% of the years."
   ]
  },
  {
   "cell_type": "code",
   "execution_count": 5,
   "metadata": {},
   "outputs": [
    {
     "name": "stdout",
     "output_type": "stream",
     "text": [
      "Return of 15% or higher =  0.4890230185329506\n"
     ]
    }
   ],
   "source": [
    "# 2)\n",
    "z_15 = abs(stats.norm.ppf(0.15))\n",
    "#print(z_15)\n",
    "\n",
    "# solving for x using the Z-score formula\n",
    "# Z x std = x - mean\n",
    "# x = Z x std + mean\n",
    "\n",
    "x_15 = z_15 * std + average_return\n",
    "print('Return of 15% or higher = ', x_15)"
   ]
  },
  {
   "cell_type": "markdown",
   "metadata": {},
   "source": [
    "For the portfolio to have the highest return of 15% or more, the cut off is 0.4890 or 48.90%"
   ]
  },
  {
   "cell_type": "markdown",
   "metadata": {},
   "source": [
    "## Question 2"
   ]
  },
  {
   "cell_type": "code",
   "execution_count": 6,
   "metadata": {},
   "outputs": [],
   "source": [
    "# 1)\n",
    "# standard error\n",
    "std = 6\n",
    "# sample size\n",
    "n = 20\n",
    "# signigance level\n",
    "a = 0.1"
   ]
  },
  {
   "cell_type": "code",
   "execution_count": 7,
   "metadata": {},
   "outputs": [
    {
     "name": "stdout",
     "output_type": "stream",
     "text": [
      "Z 0.05\n",
      "Z_value -1.6448536269514729\n",
      "1.3416407864998738\n",
      "me -2.2068027137403443\n",
      "90% Confidence Interval: 11.793197286259655 < x < 16.206802713740345\n"
     ]
    }
   ],
   "source": [
    "Z = a/2\n",
    "print('Z', Z)\n",
    "\n",
    "# Z value\n",
    "Z_value = stats.norm.ppf(Z)\n",
    "print('Z_value', Z_value)\n",
    "\n",
    "# standard error\n",
    "se = std / pow(n, 1/2)\n",
    "print(se)\n",
    "\n",
    "# margin of error\n",
    "me = se * Z_value\n",
    "print('me', me)\n",
    "\n",
    "expected_absenteeism = 14\n",
    "lower_limit = expected_absenteeism - abs(me)\n",
    "upper_limit = expected_absenteeism + abs(me)\n",
    "#print('lower limit = ', lower_limit)\n",
    "#print('upper limit = ', upper_limit)\n",
    "\n",
    "print('90% Confidence Interval: {0} < x < {1}'.format(lower_limit, upper_limit))"
   ]
  },
  {
   "cell_type": "markdown",
   "metadata": {},
   "source": [
    "Using the confidence interval, before the rewards system was in place, employees lost 20 hours due to due to lateness and abstenteeism. With the new system and a 90% confidence interval, 20 does not fall between the lower and upper limit. Therefore, we can conclude that the new rewards system is effective."
   ]
  },
  {
   "cell_type": "code",
   "execution_count": 8,
   "metadata": {},
   "outputs": [
    {
     "name": "stdout",
     "output_type": "stream",
     "text": [
      "0.025\n",
      "-1.9599639845400545\n",
      "1.3416407864998738\n",
      "me -2.6295676217297452\n",
      "lower limit =  17.370432378270255\n",
      "upper limit =  22.629567621729745\n",
      "Therefore we fail to reject the null if 17.370432378270255 <= x <= 22.629567621729745\n"
     ]
    }
   ],
   "source": [
    "# 2)\n",
    "# set significance level to 5%\n",
    "\n",
    "# 𝐻0:𝑝𝐴−𝑝𝐵=0\n",
    "# 𝐻𝑎:𝑝𝐴−𝑝𝐵≠0\n",
    "\n",
    "# P(Type 1 Error) = a\n",
    "a = 0.05\n",
    "Z = a / 2\n",
    "print(Z)\n",
    "Z_value = stats.norm.ppf(Z)\n",
    "print(Z_value)\n",
    "\n",
    "se = std / pow(n, 1/2)\n",
    "print(se)\n",
    "\n",
    "me = se * Z_value\n",
    "print('me', me)\n",
    "\n",
    "# average hours loss\n",
    "expected_absenteeism = 20\n",
    "\n",
    "lower_limit = expected_absenteeism - abs(me)\n",
    "upper_limit = expected_absenteeism + abs(me)\n",
    "\n",
    "print('lower limit = ', lower_limit)\n",
    "print('upper limit = ', upper_limit)\n",
    "\n",
    "print('Therefore we fail to reject the null if {0} <= x <= {1}'.format(lower_limit, upper_limit))"
   ]
  },
  {
   "cell_type": "code",
   "execution_count": 9,
   "metadata": {},
   "outputs": [
    {
     "name": "stdout",
     "output_type": "stream",
     "text": [
      "1.0214599854596653 4.941387954539774\n",
      "0.15351827895051035 3.8784194227211856e-07\n",
      "0.15351789110856806\n",
      "Looking at our hypothesis, 𝐻𝑎:𝑝𝐴−𝑝𝐵≠0 we get 0.15351789110856806 ≠0. Therefore, the probability is 0.15351789110856806 and we reject the null.\n"
     ]
    }
   ],
   "source": [
    "# P(Type 2 Error) = B\n",
    "\n",
    "absenteeism_16 = 16\n",
    "Z_B_lower = (lower_limit - absenteeism_16) / se\n",
    "Z_B_upper = (upper_limit - absenteeism_16) / se\n",
    "print(Z_B_lower, Z_B_upper)\n",
    "\n",
    "# convert z-score to p value\n",
    "p_lower = stats.norm.sf(Z_B_lower)\n",
    "p_upper = stats.norm.sf(Z_B_upper)\n",
    "print(p_lower, p_upper)\n",
    "\n",
    "# P(p_lower <= Z <= p_upper)\n",
    "p = p_lower-p_upper\n",
    "print(p)\n",
    "print('Looking at our hypothesis, 𝐻𝑎:𝑝𝐴−𝑝𝐵≠0 we get {0} ≠0. Therefore, the probability is {1} and we reject the null.'.format(p, p))"
   ]
  },
  {
   "cell_type": "code",
   "execution_count": 16,
   "metadata": {},
   "outputs": [
    {
     "name": "stdout",
     "output_type": "stream",
     "text": [
      "For β to be 5%, the sample size must be 30\n"
     ]
    }
   ],
   "source": [
    "# 3)\n",
    "# n = ? and B = 0.05\n",
    "# p = p_lower - p_upper = 0.05\n",
    "B = 0.05\n",
    "\n",
    "# re use old variables\n",
    "a = 0.05\n",
    "Z = a / 2\n",
    "\n",
    "Z_value = stats.norm.ppf(Z)\n",
    "\n",
    "is_n_found = True\n",
    "n = 1\n",
    "\n",
    "while(is_n_found):\n",
    "    # replace standard error with incremented n\n",
    "    se = std / pow(n, 1/2)\n",
    "    \n",
    "    me = se * Z_value\n",
    "    \n",
    "    # make new calculations with new standard error and margin of error\n",
    "    lower_limit = expected_absenteeism - abs(me)\n",
    "    upper_limit = expected_absenteeism + abs(me)\n",
    "    \n",
    "    absenteeism_16 = 16\n",
    "    Z_B_lower = (lower_limit - absenteeism_16) / se\n",
    "    Z_B_upper = (upper_limit - absenteeism_16) / se\n",
    "    \n",
    "    p_lower = stats.norm.sf(Z_B_lower)\n",
    "    p_upper = stats.norm.sf(Z_B_upper)\n",
    "    \n",
    "    # set decimal place to 2\n",
    "    p_n = round(p_lower - p_upper, 2)\n",
    "    \n",
    "    # check if new probability equals B\n",
    "    if (p_n == B):\n",
    "        is_n_found = False\n",
    "    \n",
    "    n += 1\n",
    "\n",
    "print('For β to be 5%, the sample size must be {}.'.format(n))"
   ]
  },
  {
   "cell_type": "code",
   "execution_count": null,
   "metadata": {},
   "outputs": [],
   "source": []
  }
 ],
 "metadata": {
  "colab": {
   "collapsed_sections": [],
   "name": "Assignment 3v.3.ipynb",
   "provenance": [],
   "version": "0.3.2"
  },
  "kernelspec": {
   "display_name": "Python 3 (ipykernel)",
   "language": "python",
   "name": "python3"
  },
  "language_info": {
   "codemirror_mode": {
    "name": "ipython",
    "version": 3
   },
   "file_extension": ".py",
   "mimetype": "text/x-python",
   "name": "python",
   "nbconvert_exporter": "python",
   "pygments_lexer": "ipython3",
   "version": "3.9.7"
  }
 },
 "nbformat": 4,
 "nbformat_minor": 1
}
