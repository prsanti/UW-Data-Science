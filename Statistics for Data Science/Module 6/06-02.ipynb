{
 "cells": [
  {
   "cell_type": "markdown",
   "metadata": {},
   "source": [
    "# Module 6 Part 2: Goodness of Fit"
   ]
  },
  {
   "cell_type": "markdown",
   "metadata": {},
   "source": [
    "This module consists of 3 parts:\n",
    "\n",
    "- **Part 1** - ANOVA Testing\n",
    "\n",
    "- **Part 2** - Goodness of Fit\n",
    "\n",
    "- **Part 3** - Introduction to Bootstrapping\n",
    "\n",
    "Each part is provided in a separate notebook file. It is recommended that you follow the order of the notebooks."
   ]
  },
  {
   "cell_type": "markdown",
   "metadata": {},
   "source": [
    "<h1>Table of Contents<span class=\"tocSkip\"></span></h1>\n",
    "<br>\n",
    "<div class=\"toc\">\n",
    "<ul class=\"toc-item\">\n",
    "<li><span><a href=\"#Module-6-Part-2:-Goodness-of-Fit\" data-toc-modified-id=\"Module-6-Part-2:-Goodness-of-Fit\">Module 6 Part 2: Goodness of Fit</a></span>\n",
    "</li>\n",
    "<li><span><a href=\"#Table-of-Contents\" data-toc-modified-id=\"Table-of-Contents\">Table of Contents</a></span>\n",
    "</li>\n",
    "<li><span><a href=\"#The-Chi-Square-distribution\" data-toc-modified-id=\"The-Chi-Square-distribution\">The Chi-Square distribution</a></span>\n",
    "</li>\n",
    "<li><span><a href=\"#Hypothesis-tests-on-two-or-more-proportions\" data-toc-modified-id=\"Hypothesis-tests-on-two-or-more-proportions\">Hypothesis tests on two or more proportions</a></span>\n",
    "<ul class=\"toc-item\">\n",
    "<li><span><a href=\"#Goodness-of-fit\" data-toc-modified-id=\"Goodness-of-fit\">Goodness of fit</a></span>\n",
    "</li>\n",
    "<li><span><a href=\"#Contingency-tables\" data-toc-modified-id=\"Contingency-tables\">Contingency tables</a></span>\n",
    "</li>\n",
    "</ul>\n",
    "</li>\n",
    "<li><span><a href=\"#References\" data-toc-modified-id=\"References\">References</a></span>\n",
    "</li>\n",
    "</ul>\n",
    "</div>"
   ]
  },
  {
   "cell_type": "markdown",
   "metadata": {},
   "source": [
    "# The Chi-Square distribution"
   ]
  },
  {
   "cell_type": "markdown",
   "metadata": {},
   "source": [
    "Often we need to analyze data classified into several groups. The technique developed for such analysis, the $\\chi^2$-test (called chi-square or chi-squared) is also useful for evaluating whether the data follows a particular distribution known as a goodness-of-fit test.\n",
    "\n",
    "Before covering goodness-of-fit and contingency tables, we need to introduce the Chi-Square ($\\chi^2$) distribution:\n",
    "\n",
    "- If $Z$ has a standard normal distribution, then $Z^2$ has a $\\chi^2$ distribution with one degree of freedom.\n",
    "\n",
    "\n",
    "- If $Z_1$, …, $Z_k$ are independent random variables &mdash; each with a standard normal distribution &mdash; then $𝑍_1^2 + 𝑍_2^2 + \\ … \\ + 𝑍_𝑘^2$ has a distribution $\\chi_𝑘^2$ with $k$ degrees of freedom.\n",
    "\n",
    "The shape of the distribution is defined by a single parameter, the number of degrees of freedom.\n",
    "\n",
    "The $\\chi_k^2$ distribution has many applications  in inference. The strength of this distribution comes from its *nonparametric* nature &mdash; no assumptions about the population are required.  \n",
    "\n",
    "In contrast with other distributions or tests which can only handle binary outputs (e.g. Bernoulli, Binomial or ANOVA), $𝑋_𝑘^2$ can handle **multinomial outputs**, i.e. random processes with several alternative outputs, not just two."
   ]
  },
  {
   "cell_type": "code",
   "execution_count": 1,
   "metadata": {
    "collapsed": true
   },
   "outputs": [],
   "source": [
    "from scipy.stats import chi2\n",
    "import matplotlib.pyplot as plt\n",
    "\n",
    "import numpy as np"
   ]
  },
  {
   "cell_type": "code",
   "execution_count": 2,
   "metadata": {},
   "outputs": [
    {
     "data": {
      "image/png": "[encoded data removed]",
      "text/plain": [
       "<Figure size 432x288 with 1 Axes>"
      ]
     },
     "metadata": {
      "needs_background": "light"
     },
     "output_type": "display_data"
    }
   ],
   "source": [
    "for i in np.arange(1,5,1):\n",
    "    df = i\n",
    "    color=str(i* 0.20)\n",
    "    x = np.linspace(chi2.ppf(0.01, df),chi2.ppf(0.99, df), 1000)\n",
    "    plt.plot(x, chi2.pdf(x, df),'r-', lw=2, alpha=0.9, color=color,label='df='+str(i))\n",
    "    \n",
    "\n",
    "plt.title('Chi-Square Distribution')\n",
    "plt.xlabel('Probability Density Function')\n",
    "plt.ylabel('Probability')\n",
    "legend = plt.legend(loc='upper right', shadow=False,fontsize='x-large')\n",
    "plt.axis([0, 6, 0, 0.5])\n",
    "plt.show()"
   ]
  },
  {
   "cell_type": "markdown",
   "metadata": {},
   "source": [
    "In the next two sections, we will use the fact that the statistic $\\sum^{k}_{i=1} \\frac{(O_i - E_i)^2}{O_i} $ follows a $\\chi ^2$ distribution with $k$ degrees of freedom, where $O_i$ and $E_i$ are the observed and expected frequencies, respectively."
   ]
  },
  {
   "cell_type": "markdown",
   "metadata": {},
   "source": [
    "# Hypothesis tests on two or more proportions"
   ]
  },
  {
   "cell_type": "markdown",
   "metadata": {},
   "source": [
    "We will now look at two tests for multi-alternative processes: **goodness-of-fit** and **contingency tables tests**, both of which use the Chi-Square distribution."
   ]
  },
  {
   "cell_type": "markdown",
   "metadata": {},
   "source": [
    "## Goodness of fit"
   ]
  },
  {
   "cell_type": "markdown",
   "metadata": {},
   "source": [
    "There are situations when an experiment can produce more than two possible outcomes per trial: e.g. which brand is a person going to choose from, which candidate is a person is going to vote for, etc. This is called a **multinomial experiment**.\n",
    "\n",
    "If each trial is independent of all the others, the outcomes are collectively exhaustive $P=\\sum_{i=1}^{k}{p_i}=1$ and each $p_i$ follows a normal distribution to which we can apply the $\\chi^2$ (Chi-Square) distribution.\n",
    "\n",
    "The null hypothesis tests whether the observed $O_i$ frequency equals an expected $E_i$ frequency, so if $O_i$ and $E_i$ are close, we would not reject the null hypothesis. If they are very different, we would reject the null hypothesis and conclude that $O_i$ and $E_i$ are different. How different they have to be will depend on the shape of the distribution (i.e. the degrees of freedom) and the confidence level $\\alpha$.\n",
    "\n",
    "$$\\chi ^2 = \\sum^{k}_{i=1} \\frac{(O_i - E_i)^2}{E_i}=\\frac{(O_1 - E_1)^2}{E_1}+\\frac{(O_2 - E_2)^2}{E_2}+...+\\frac{(O_k - E_k)^2}{E_k} $$\n",
    "\n",
    "\n",
    "where:\n",
    "\n",
    "- $O$: observed\n",
    "- $E$: expected\n",
    "- $i$: $i^{th}$ observation\n",
    "\n",
    "Let's look at some examples. Suppose that we have the following observed frequencies and we want to check if the frequencies are equal. The observed differences are random.\n",
    "\n",
    "Here are the observed frequencies:\n",
    "\n",
    "|1|2|3|4|5|6|\n",
    "|---|---|---|---|---|---|\n",
    "| 16| 18| 16| 14| 12| 12|"
   ]
  },
  {
   "cell_type": "code",
   "execution_count": 3,
   "metadata": {},
   "outputs": [
    {
     "name": "stdout",
     "output_type": "stream",
     "text": [
      "Chi-square Statistic= 2.00\n",
      "p-value= 0.85\n"
     ]
    }
   ],
   "source": [
    "import numpy as np\n",
    "from scipy.stats import chisquare\n",
    "test=chisquare([16, 18, 16, 14, 12, 12])\n",
    "\n",
    "print('Chi-square Statistic= %.2f' %test.statistic)\n",
    "print('p-value= %.2f' %test.pvalue)"
   ]
  },
  {
   "cell_type": "markdown",
   "metadata": {},
   "source": [
    "**NOTE**: Omitting the `f_exp` parameter to the `chisquare` function assumes that all frequencies are equal. Otherwise, a specific distribution is being specified."
   ]
  },
  {
   "cell_type": "markdown",
   "metadata": {},
   "source": [
    "###### print('The interpretation of the p-value of the test is the same as before: if the null hypothesis is true, i.e. all the frequencies are the same, the probability of obtaining our sample is',\n",
    "       np.round(test.pvalue,2)*100,'%', 'thus we failed to reject the null and accept that all frequencies are the same.'\n",
    "       , 'The sample does not provide enough evidence to reject the null and state the proportions are not equal.')"
   ]
  },
  {
   "cell_type": "markdown",
   "metadata": {},
   "source": [
    "However, as the sample size increases, the same proportions will show as not equal. This is intuitive &mdash; as the sample gets bigger, we should expect that the sample obtained better reflects the population and the sample statistic should be closer to the true population parameter."
   ]
  },
  {
   "cell_type": "code",
   "execution_count": 5,
   "metadata": {},
   "outputs": [
    {
     "name": "stdout",
     "output_type": "stream",
     "text": [
      "Chi-square Statistic= 20.00\n",
      "p-value= 0.0012\n"
     ]
    }
   ],
   "source": [
    "test=chisquare([160, 180, 160, 140, 120, 120])\n",
    "\n",
    "print('Chi-square Statistic= %.2f' %test.statistic)\n",
    "print('p-value= %.4f' %test.pvalue)"
   ]
  },
  {
   "cell_type": "code",
   "execution_count": 6,
   "metadata": {},
   "outputs": [
    {
     "name": "stdout",
     "output_type": "stream",
     "text": [
      "Now if the null hypothesis is true, i.e. all the frequencies are the same, the probability of obtaining our sample is 0.12 % thus we reject the null and state that all frequencies are not the same.\n"
     ]
    }
   ],
   "source": [
    "print('Now if the null hypothesis is true, i.e. all the frequencies are the same, the probability of obtaining our sample is',\n",
    "       np.round(test.pvalue,4)*100,'%', 'thus we reject the null and state that all frequencies are not the same.')"
   ]
  },
  {
   "cell_type": "markdown",
   "metadata": {},
   "source": [
    "We are now going to compare the observed frequency against an expected one."
   ]
  },
  {
   "cell_type": "code",
   "execution_count": 7,
   "metadata": {},
   "outputs": [
    {
     "name": "stdout",
     "output_type": "stream",
     "text": [
      "Chi-square Statistic= 3.50\n",
      "p-value= 0.62\n"
     ]
    }
   ],
   "source": [
    "test=chisquare([16, 18, 16, 14, 12, 12], f_exp=[16, 16, 16, 16, 16, 8])\n",
    "print('Chi-square Statistic= %.2f' %test.statistic)\n",
    "print('p-value= %.2f' %test.pvalue)"
   ]
  },
  {
   "cell_type": "code",
   "execution_count": 8,
   "metadata": {},
   "outputs": [
    {
     "name": "stdout",
     "output_type": "stream",
     "text": [
      "If the null hypothesis is true, i.e. the observed frequencies are equivalent to the expected one, the probability of obtaining our sample is 62.0 % thus we fail to reject the null and state that the observed and expected frequencies are the same.\n"
     ]
    }
   ],
   "source": [
    "print('If the null hypothesis is true, i.e. the observed frequencies are equivalent to the expected one, the probability of obtaining our sample is',\n",
    "       np.round(test.pvalue,2)*100,'%', 'thus we fail to reject the null and state that the observed and expected frequencies are the same.')"
   ]
  },
  {
   "cell_type": "markdown",
   "metadata": {},
   "source": [
    "As usual, we expect the p value to be 95% or higher to reject the null hypothesis."
   ]
  },
  {
   "cell_type": "markdown",
   "metadata": {},
   "source": [
    "The goodness-of-fit test has wide applications as the expected frequencies might be from a known distribution and it can be used to test if the data is normal, lognormal, etc. Any distribution for which you can create an expected distribution can be tested using the goodness-of-fit test."
   ]
  },
  {
   "cell_type": "markdown",
   "metadata": {},
   "source": [
    "## Contingency tables"
   ]
  },
  {
   "cell_type": "markdown",
   "metadata": {},
   "source": [
    "The methodology of the previous section can be extended to contingency tables."
   ]
  },
  {
   "cell_type": "markdown",
   "metadata": {},
   "source": [
    "|Gender | Right-handed | Left-handed| Total \t| \t\t\t                                         \n",
    "|------------\t|--------------\t|-------------\t|-------\t| \t\n",
    "| Male       \t| 43           \t| 9           \t| 52    \t|\n",
    "| Female     \t| 44           \t| 4           \t| 48    \t|\n",
    "| Total      \t| 87           \t| 13          \t| 100   \t|\n",
    "\n",
    "\n",
    "What is the expected frequency if the proportion of right-handed people is the same as left-handed?"
   ]
  },
  {
   "cell_type": "code",
   "execution_count": 9,
   "metadata": {},
   "outputs": [
    {
     "data": {
      "text/plain": [
       "(1.0724852071005921,\n",
       " 0.300384770390566,\n",
       " 1,\n",
       " array([[45.24,  6.76],\n",
       "        [41.76,  6.24]]))"
      ]
     },
     "execution_count": 9,
     "metadata": {},
     "output_type": "execute_result"
    }
   ],
   "source": [
    "from scipy.stats import chi2_contingency\n",
    "obs = np.array([[43,9], [44,4]])\n",
    "chi2_contingency(obs)"
   ]
  },
  {
   "cell_type": "markdown",
   "metadata": {},
   "source": [
    "Notice the numbers in the array. They are the expected values calculated based on the original data. If there is no difference between the different categories the frequencies should match the total row and column total. In general:\n",
    "\n",
    "$$\n",
    "Expected_{row_i,column_j}=\\frac{row \\mbox{ } i \\mbox{ } total \\mbox{ } \\cdot \\mbox{ } column \\mbox{ } j \\mbox{ } total}{table \\mbox{ } total}\n",
    "$$\n",
    "\n",
    "For example for row 1 and column 1:  $\\frac{52\\mbox{ } \\cdot \\mbox{ }87}{100}=45.24$, which is the number indicated in the output of `chi2_contingency(obs)`.\n",
    "\n",
    "We can now perform the test."
   ]
  },
  {
   "cell_type": "code",
   "execution_count": 10,
   "metadata": {},
   "outputs": [
    {
     "data": {
      "text/plain": [
       "Power_divergenceResult(statistic=array([22.23076923, 33.33333333]), pvalue=array([2.41768131e-06, 7.76403654e-09]))"
      ]
     },
     "execution_count": 10,
     "metadata": {},
     "output_type": "execute_result"
    }
   ],
   "source": [
    "chisquare(obs)\n",
    "chisquare(obs, axis=1)"
   ]
  },
  {
   "cell_type": "markdown",
   "metadata": {},
   "source": [
    "Based on the sample, we can conclude that the proportion of right and left-handed people are not equal."
   ]
  },
  {
   "cell_type": "code",
   "execution_count": 11,
   "metadata": {},
   "outputs": [
    {
     "data": {
      "text/plain": [
       "Power_divergenceResult(statistic=1.9230769230769231, pvalue=0.16551785869746605)"
      ]
     },
     "execution_count": 11,
     "metadata": {},
     "output_type": "execute_result"
    }
   ],
   "source": [
    "chisquare([9,4])"
   ]
  },
  {
   "cell_type": "markdown",
   "metadata": {},
   "source": [
    "**Example**\n",
    "\n",
    "Let's explore whether a sample is representative of the general population. Consider data from a random sample of 275 jurors in a small county. Jurors identified their racial group, and we would like to determine if these jurors are racially representative of the population."
   ]
  },
  {
   "cell_type": "code",
   "execution_count": 12,
   "metadata": {
    "collapsed": true
   },
   "outputs": [],
   "source": [
    "import numpy as np\n",
    "import pandas as pd\n",
    "import scipy.stats as stats"
   ]
  },
  {
   "cell_type": "code",
   "execution_count": 13,
   "metadata": {},
   "outputs": [
    {
     "name": "stdout",
     "output_type": "stream",
     "text": [
      "Voters\n",
      "col_0     count\n",
      "0              \n",
      "black         7\n",
      "hispanic     12\n",
      "other         9\n",
      "white        72\n",
      " \n",
      "Jury\n",
      "col_0     count\n",
      "0              \n",
      "black        26\n",
      "hispanic     25\n",
      "other        19\n",
      "white       205\n"
     ]
    }
   ],
   "source": [
    "voters = pd.DataFrame([\"white\"]*72 + [\"black\"]*7 +\\\n",
    "                        [\"hispanic\"]*12  + [\"other\"]*9)\n",
    "           \n",
    "\n",
    "jury = pd.DataFrame([\"white\"]*205 + [\"black\"]*26 +\\\n",
    "                        [\"hispanic\"]*25  + [\"other\"]*19)\n",
    "\n",
    "voters_table = pd.crosstab(index=voters[0], columns=\"count\")\n",
    "jury_table = pd.crosstab(index=jury[0], columns=\"count\")\n",
    "\n",
    "print( \"Voters\")\n",
    "print(voters_table)\n",
    "print(\" \")\n",
    "print( \"Jury\")\n",
    "print(jury_table)"
   ]
  },
  {
   "cell_type": "code",
   "execution_count": 14,
   "metadata": {},
   "outputs": [
    {
     "name": "stdout",
     "output_type": "stream",
     "text": [
      "chi_squared_stat= 5.89\n"
     ]
    }
   ],
   "source": [
    "observed = jury_table\n",
    "\n",
    "voters_ratios = voters_table/len(voters)  # Get population ratios\n",
    "\n",
    "expected = voters_ratios * len(jury)   # Get expected counts\n",
    "\n",
    "chi_squared_stat = (((observed-expected)**2)/expected).sum()\n",
    "\n",
    "print('chi_squared_stat= %.2f' %chi_squared_stat)"
   ]
  },
  {
   "cell_type": "code",
   "execution_count": 15,
   "metadata": {},
   "outputs": [
    {
     "name": "stdout",
     "output_type": "stream",
     "text": [
      "Critical value= 7.81\n",
      "p value= 0.12\n"
     ]
    }
   ],
   "source": [
    "crit = stats.chi2.ppf(q = 0.95, # Find the critical value for 95% confidence*\n",
    "                      df = 3)   # Df = number of variable categories - 1\n",
    "\n",
    "print('Critical value= %.2f' %crit)\n",
    "\n",
    "\n",
    "p_value = 1 - stats.chi2.cdf(x=chi_squared_stat,  # Find the p-value\n",
    "                             df=3)\n",
    "print('p value= %.2f' %p_value)"
   ]
  },
  {
   "cell_type": "markdown",
   "metadata": {},
   "source": [
    "The null hypothesis is that the jury is representative. A p-value of 0.12 does not support that the jury is not representative, so we cannot reject the null hypothesis.  The statistics value 5.89 is smaller than the critical value 7.89.\n",
    "\n",
    "Another way:"
   ]
  },
  {
   "cell_type": "code",
   "execution_count": 16,
   "metadata": {},
   "outputs": [
    {
     "data": {
      "text/plain": [
       "Power_divergenceResult(statistic=array([5.88961039]), pvalue=array([0.11710619]))"
      ]
     },
     "execution_count": 16,
     "metadata": {},
     "output_type": "execute_result"
    }
   ],
   "source": [
    "stats.chisquare(f_obs= observed,   # Array of observed counts\n",
    "                f_exp= expected)   # Array of expected counts"
   ]
  },
  {
   "cell_type": "markdown",
   "metadata": {},
   "source": [
    "We will repeat the calculations using Python for illustrative purposes."
   ]
  },
  {
   "cell_type": "code",
   "execution_count": 17,
   "metadata": {},
   "outputs": [
    {
     "data": {
      "text/html": [
       "<div>\n",
       "<style scoped>\n",
       "    .dataframe tbody tr th:only-of-type {\n",
       "        vertical-align: middle;\n",
       "    }\n",
       "\n",
       "    .dataframe tbody tr th {\n",
       "        vertical-align: top;\n",
       "    }\n",
       "\n",
       "    .dataframe thead th {\n",
       "        text-align: right;\n",
       "    }\n",
       "</style>\n",
       "<table border=\"1\" class=\"dataframe\">\n",
       "  <thead>\n",
       "    <tr style=\"text-align: right;\">\n",
       "      <th>col_0</th>\n",
       "      <th>count</th>\n",
       "    </tr>\n",
       "    <tr>\n",
       "      <th>0</th>\n",
       "      <th></th>\n",
       "    </tr>\n",
       "  </thead>\n",
       "  <tbody>\n",
       "    <tr>\n",
       "      <th>black</th>\n",
       "      <td>26</td>\n",
       "    </tr>\n",
       "    <tr>\n",
       "      <th>hispanic</th>\n",
       "      <td>25</td>\n",
       "    </tr>\n",
       "    <tr>\n",
       "      <th>other</th>\n",
       "      <td>19</td>\n",
       "    </tr>\n",
       "    <tr>\n",
       "      <th>white</th>\n",
       "      <td>205</td>\n",
       "    </tr>\n",
       "  </tbody>\n",
       "</table>\n",
       "</div>"
      ],
      "text/plain": [
       "col_0     count\n",
       "0              \n",
       "black        26\n",
       "hispanic     25\n",
       "other        19\n",
       "white       205"
      ]
     },
     "execution_count": 17,
     "metadata": {},
     "output_type": "execute_result"
    }
   ],
   "source": [
    "observed"
   ]
  },
  {
   "cell_type": "code",
   "execution_count": 18,
   "metadata": {},
   "outputs": [
    {
     "data": {
      "text/html": [
       "<div>\n",
       "<style scoped>\n",
       "    .dataframe tbody tr th:only-of-type {\n",
       "        vertical-align: middle;\n",
       "    }\n",
       "\n",
       "    .dataframe tbody tr th {\n",
       "        vertical-align: top;\n",
       "    }\n",
       "\n",
       "    .dataframe thead th {\n",
       "        text-align: right;\n",
       "    }\n",
       "</style>\n",
       "<table border=\"1\" class=\"dataframe\">\n",
       "  <thead>\n",
       "    <tr style=\"text-align: right;\">\n",
       "      <th>col_0</th>\n",
       "      <th>count</th>\n",
       "    </tr>\n",
       "    <tr>\n",
       "      <th>0</th>\n",
       "      <th></th>\n",
       "    </tr>\n",
       "  </thead>\n",
       "  <tbody>\n",
       "    <tr>\n",
       "      <th>black</th>\n",
       "      <td>19.25</td>\n",
       "    </tr>\n",
       "    <tr>\n",
       "      <th>hispanic</th>\n",
       "      <td>33.00</td>\n",
       "    </tr>\n",
       "    <tr>\n",
       "      <th>other</th>\n",
       "      <td>24.75</td>\n",
       "    </tr>\n",
       "    <tr>\n",
       "      <th>white</th>\n",
       "      <td>198.00</td>\n",
       "    </tr>\n",
       "  </tbody>\n",
       "</table>\n",
       "</div>"
      ],
      "text/plain": [
       "col_0      count\n",
       "0               \n",
       "black      19.25\n",
       "hispanic   33.00\n",
       "other      24.75\n",
       "white     198.00"
      ]
     },
     "execution_count": 18,
     "metadata": {},
     "output_type": "execute_result"
    }
   ],
   "source": [
    "expected"
   ]
  },
  {
   "cell_type": "code",
   "execution_count": 19,
   "metadata": {},
   "outputs": [
    {
     "data": {
      "text/html": [
       "<div>\n",
       "<style scoped>\n",
       "    .dataframe tbody tr th:only-of-type {\n",
       "        vertical-align: middle;\n",
       "    }\n",
       "\n",
       "    .dataframe tbody tr th {\n",
       "        vertical-align: top;\n",
       "    }\n",
       "\n",
       "    .dataframe thead th {\n",
       "        text-align: right;\n",
       "    }\n",
       "</style>\n",
       "<table border=\"1\" class=\"dataframe\">\n",
       "  <thead>\n",
       "    <tr style=\"text-align: right;\">\n",
       "      <th>col_0</th>\n",
       "      <th>count</th>\n",
       "    </tr>\n",
       "    <tr>\n",
       "      <th>0</th>\n",
       "      <th></th>\n",
       "    </tr>\n",
       "  </thead>\n",
       "  <tbody>\n",
       "    <tr>\n",
       "      <th>black</th>\n",
       "      <td>2.366883</td>\n",
       "    </tr>\n",
       "    <tr>\n",
       "      <th>hispanic</th>\n",
       "      <td>1.939394</td>\n",
       "    </tr>\n",
       "    <tr>\n",
       "      <th>other</th>\n",
       "      <td>1.335859</td>\n",
       "    </tr>\n",
       "    <tr>\n",
       "      <th>white</th>\n",
       "      <td>0.247475</td>\n",
       "    </tr>\n",
       "  </tbody>\n",
       "</table>\n",
       "</div>"
      ],
      "text/plain": [
       "col_0        count\n",
       "0                 \n",
       "black     2.366883\n",
       "hispanic  1.939394\n",
       "other     1.335859\n",
       "white     0.247475"
      ]
     },
     "execution_count": 19,
     "metadata": {},
     "output_type": "execute_result"
    }
   ],
   "source": [
    "chisqcont = (((observed-expected)**2)/expected)\n",
    "chisqcont"
   ]
  },
  {
   "cell_type": "code",
   "execution_count": 20,
   "metadata": {},
   "outputs": [
    {
     "name": "stdout",
     "output_type": "stream",
     "text": [
      "Chi-square calculated manually: 5.89\n"
     ]
    }
   ],
   "source": [
    "print('Chi-square calculated manually: %.2f' %chisqcont.sum())"
   ]
  },
  {
   "cell_type": "code",
   "execution_count": 21,
   "metadata": {},
   "outputs": [
    {
     "name": "stdout",
     "output_type": "stream",
     "text": [
      "Critical tatistic value= 7.81\n",
      "Observed statistic value= 5.89\n",
      "p-value= 0.1171\n"
     ]
    }
   ],
   "source": [
    "\n",
    "results = [[\"Race\",\"Observed\", \"Expected\",\"Chi Square Contribution\"],\n",
    "         [\"Black\", '%.4f' % observed.values[0], '%.4f' % expected.values[0],'%.4f' % chisqcont.values[0]],\n",
    "         [\"Hispanic\", '%.4f' % observed.values[1], '%.4f' % expected.values[1],'%.4f' % chisqcont.values[1]],\n",
    "         [\"Other\", '%.4f' % observed.values[2], '%.4f' % expected.values[2],'%.4f' % chisqcont.values[2]],\n",
    "         [\"White\", '%.4f' % observed.values[3], '%.4f' % expected.values[3], '%.4f' % chisqcont.values[3]],\n",
    "         [\"Total\", '%.4f' % observed.sum(), '%.4f' % expected.sum(), '%.4f' % chisqcont.sum()]]\n",
    "\n",
    "print('Critical tatistic value= %.2f' %crit)\n",
    "print('Observed statistic value= %.2f' %chisqcont.sum())\n",
    "print('p-value= %.4f' %p_value)"
   ]
  },
  {
   "cell_type": "markdown",
   "metadata": {},
   "source": [
    "If the p-value is greater than 0.05, we fail to reject the null and conclude that the jury is representative of the population.\n",
    "\n",
    "Let's try with a jury we know is not a good fit for the population:"
   ]
  },
  {
   "cell_type": "code",
   "execution_count": 22,
   "metadata": {
    "collapsed": true
   },
   "outputs": [],
   "source": [
    "voters = pd.DataFrame([\"white\"]*72 + [\"black\"]*7 +\\\n",
    "                        [\"hispanic\"]*12  + [\"other\"]*9)\n",
    "           \n",
    "\n",
    "jury = pd.DataFrame([\"white\"]*226 + [\"black\"]*5 +\\\n",
    "                        [\"hispanic\"]*25  + [\"other\"]*19)\n",
    "\n",
    "voters_table = pd.crosstab(index=voters[0], columns=\"count\")\n",
    "jury_table = pd.crosstab(index=jury[0], columns=\"count\")\n",
    "\n",
    "observed = jury_table\n",
    "\n",
    "voters_ratios = voters_table/len(voters)  # Get population ratios\n",
    "\n",
    "expected = voters_ratios * len(jury)   # Get expected counts\n",
    "\n",
    "chisqcont = (((observed-expected)**2)/expected)\n",
    "\n",
    "p_value = 1 - stats.chi2.cdf(x=chisqcont.sum(),  # Find the p-value\n",
    "                             df=3)"
   ]
  },
  {
   "cell_type": "code",
   "execution_count": 23,
   "metadata": {},
   "outputs": [
    {
     "name": "stdout",
     "output_type": "stream",
     "text": [
      "Critical tatistic value= 7.814728\n",
      "Observed statistic value= 17.783550\n",
      "p-value= 0.0005\n",
      "┌──────────┬──────────┬──────────┬─────────────────────────┐\n",
      "│ Race     │ Observed │ Expected │ Chi Square Contribution │\n",
      "├──────────┼──────────┼──────────┼─────────────────────────┤\n",
      "│ Black    │ 5.0000   │ 19.2500  │ 10.5487                 │\n",
      "├──────────┼──────────┼──────────┼─────────────────────────┤\n",
      "│ Hispanic │ 25.0000  │ 33.0000  │ 1.9394                  │\n",
      "├──────────┼──────────┼──────────┼─────────────────────────┤\n",
      "│ Other    │ 19.0000  │ 24.7500  │ 1.3359                  │\n",
      "├──────────┼──────────┼──────────┼─────────────────────────┤\n",
      "│ White    │ 226.0000 │ 198.0000 │ 3.9596                  │\n",
      "├──────────┼──────────┼──────────┼─────────────────────────┤\n",
      "│ Total    │ 275.0000 │ 275.0000 │ 17.7835                 │\n",
      "└──────────┴──────────┴──────────┴─────────────────────────┘\n"
     ]
    }
   ],
   "source": [
    "# this time we shall use 'tabletext' Python library\n",
    "# to format tabular data as text tables.\n",
    "# To install 'tabletext' library enter\n",
    "# `pip install tabletext` in terminal command line.\n",
    "\n",
    "import tabletext\n",
    "\n",
    "results = [[\"Race\",\"Observed\", \"Expected\",\"Chi Square Contribution\"],\n",
    "         [\"Black\", '%.4f' % observed.values[0], '%.4f' % expected.values[0],'%.4f' % chisqcont.values[0]],\n",
    "         [\"Hispanic\", '%.4f' % observed.values[1], '%.4f' % expected.values[1],'%.4f' % chisqcont.values[1]],\n",
    "         [\"Other\", '%.4f' % observed.values[2], '%.4f' % expected.values[2],'%.4f' % chisqcont.values[2]],\n",
    "         [\"White\", '%.4f' % observed.values[3], '%.4f' % expected.values[3], '%.4f' % chisqcont.values[3]],\n",
    "         [\"Total\", '%.4f' % observed.sum(), '%.4f' % expected.sum(), '%.4f' % chisqcont.sum()]]\n",
    "\n",
    "table = tabletext.to_text(results)\n",
    "print('Critical tatistic value= %2f' %crit)\n",
    "print('Observed statistic value= %2f' %chisqcont.sum())\n",
    "print('p-value= %.4f' %p_value)\n",
    "\n",
    "print(table)"
   ]
  },
  {
   "cell_type": "markdown",
   "metadata": {},
   "source": [
    "In this case, the observed values (at least one) are far from the expected. Assuming the jury's racial composition is representative of the population, the probability of the observed jury is too small (0.05) so we conclude that the sample provides enough evidence to reject the null and state that the jury does not represent the population."
   ]
  },
  {
   "cell_type": "markdown",
   "metadata": {},
   "source": [
    "**Exercise 1**\n",
    "\n",
    "In Module 2, we simulated rolling two dice and plotted the probability distribution. We got a triangular distribution. Now, let's elaborate on this example. Suppose you are in a casino playing craps, a game where you roll two dice.  \n",
    "\n",
    "Try to check that the dice are fair by analyzing if the numbers obtained match the expected distribution.\n",
    "\n",
    "The values obtained are:\n",
    "\n",
    "\n",
    "|Sum of Dice Roll|2|3|4|5|6|7|8|9|10|11|12|\n",
    "|-|-|-|-|-|-|-|-|-|--|--|--|\n",
    "|Frequency Observed|10|30|50|60|71|85|75|59|48|27|9|\n",
    "\n",
    "\n",
    "From Module 2, we know the expected frequencies:\n",
    "\n",
    "\n",
    "|Sum of Dice Roll|2|3|4|5|6|7|8|9|10|11|12|\n",
    "|-|-|-|-|-|-|-|-|-|--|--|--|\n",
    "|Frequency Expected|1/36|2/36|3/36|4/36|5/36|6/36|5/36|4/36|3/36|2/36|1/36|"
   ]
  },
  {
   "cell_type": "code",
   "execution_count": 24,
   "metadata": {
    "collapsed": true
   },
   "outputs": [],
   "source": [
    "# Your work here"
   ]
  },
  {
   "cell_type": "code",
   "execution_count": null,
   "metadata": {
    "collapsed": true
   },
   "outputs": [],
   "source": []
  },
  {
   "cell_type": "markdown",
   "metadata": {},
   "source": [
    "**Solution**\n",
    "\n",
    "First we need the table total:"
   ]
  },
  {
   "cell_type": "code",
   "execution_count": 25,
   "metadata": {},
   "outputs": [
    {
     "data": {
      "text/plain": [
       "524"
      ]
     },
     "execution_count": 25,
     "metadata": {},
     "output_type": "execute_result"
    }
   ],
   "source": [
    "observed = [10,30,50,60,71,85,75,59,48,27,9]\n",
    "roll_sum = sum(observed)\n",
    "roll_sum"
   ]
  },
  {
   "cell_type": "code",
   "execution_count": 26,
   "metadata": {
    "collapsed": true
   },
   "outputs": [],
   "source": [
    "# We calculate the expected frequencies based on the expected probabilities and the table total\n",
    "expected_prob = (1/36,2/36,3/36,4/36,5/36,6/36,5/36,4/36,3/36,2/36,1/36)\n",
    "\n",
    "# We create an numpy array to use vectorized computation\n",
    "expected_prob_arr=np.array(expected_prob)\n",
    "expected_freq = expected_prob_arr*roll_sum\n",
    "expected_freq\n",
    "\n",
    "exp = np.array([1/36, 2/36, 3/36, 4/36, 5/36, 6/36, 5/36, 4/36, 3/36, 2/36, 1/36])*sum(observed)"
   ]
  },
  {
   "cell_type": "code",
   "execution_count": 27,
   "metadata": {},
   "outputs": [
    {
     "name": "stdout",
     "output_type": "stream",
     "text": [
      "The chi-squared test statistic is 5.31\n",
      "The p-value for the test is 0.87\n"
     ]
    }
   ],
   "source": [
    "test_ch = stats.chisquare(observed,exp)\n",
    "print ('The chi-squared test statistic is %.2f' %test_ch.statistic)\n",
    "print ('The p-value for the test is %.2f' %test_ch.pvalue)"
   ]
  },
  {
   "cell_type": "markdown",
   "metadata": {},
   "source": [
    "The observed and expected frequencies are close enough, so we fail to reject the null and thus conclude the dice are fair."
   ]
  },
  {
   "cell_type": "markdown",
   "metadata": {},
   "source": [
    "**End of Part 2**\n",
    "\n",
    "This notebook makes up one part of this module. Now that you have completed this part,\n",
    "please proceed to the next notebook in this module.\n",
    "\n",
    "If you have any questions, please reach out to your peers using the discussion boards. If you and your peers are unable to come to a suitable conclusion, do not hesitate to reach out to your instructor on the designated discussion board."
   ]
  },
  {
   "cell_type": "markdown",
   "metadata": {},
   "source": [
    "# References\n",
    "\n",
    "Keller, G. (2017). Chapter 12: Inference about a Population and Chapter 13: Inference about comparing two Populations in *Statistics for Management and Economics, 11th Edition*, Cengage Learning. ISBN 9781337093453\n",
    "\n",
    "SciPy Community, (2018). scipy.stats.chi2_contingency. Retrieved on Dec 19, 2018 from https://docs.scipy.org/doc/scipy-0.15.1/reference/generated/scipy.stats.chi2_contingency.html\n",
    "\n",
    "SciPy Community, (2018). scipy.stats.chisquare. Retrieved on Dec 19, 2018 from https://docs.scipy.org/doc/scipy/reference/generated/scipy.stats.chisquare.html\n"
   ]
  }
 ],
 "metadata": {
  "kernelspec": {
   "display_name": "Python 3",
   "language": "python",
   "name": "python3"
  },
  "language_info": {
   "codemirror_mode": {
    "name": "ipython",
    "version": 3
   },
   "file_extension": ".py",
   "mimetype": "text/x-python",
   "name": "python",
   "nbconvert_exporter": "python",
   "pygments_lexer": "ipython3",
   "version": "3.6.13"
  }
 },
 "nbformat": 4,
 "nbformat_minor": 4
}
